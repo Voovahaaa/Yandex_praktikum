{
 "cells": [
  {
   "cell_type": "markdown",
   "id": "59ab30b5-9704-4698-84bf-9228d177b433",
   "metadata": {},
   "source": [
    "# ПРОЕКТ: Определение стоимости автомобилей"
   ]
  },
  {
   "cell_type": "markdown",
   "id": "f5c583c7-9f5f-44e3-8681-d78fc232eb52",
   "metadata": {},
   "source": [
    "Я работаю в сервисе по продаже автомобилей с пробегом: «Не бит, не крашен», который разрабатывает приложение, чтобы привлечь новых клиентов. \\\n",
    "В моём распоряжении данные о технических характеристиках, комплектации и ценах других автомобилей."
   ]
  },
  {
   "cell_type": "markdown",
   "id": "405697e3-13ca-4d6f-ae2d-b740dc540219",
   "metadata": {},
   "source": [
    "**Цель проекта**: построить модель, которая умеет определять рыночную стоимость автомобиля.\n",
    "- Критерии, которые важны заказчику:\n",
    "1. Качество предсказания;\n",
    "2. Время обучения модели;\n",
    "3. Время предсказания модели."
   ]
  },
  {
   "cell_type": "markdown",
   "id": "72b7b957-026a-4b25-b726-673799bff419",
   "metadata": {},
   "source": [
    "**Ход исследования:**\n",
    "\n",
    "*Шаг 1* - Загрузка данных;\\\n",
    "*Шаг 2* - Предобработка данных;\\\n",
    "*Шаг 3* - Исследовательский анализ данных;\\\n",
    "*Шаг 4* - Подготовка выборок для обучения моделей;\\\n",
    "*Шаг 5* - Обучение нескольких моделей;\\\n",
    "*Шаг 6* - Анализ времени обучения, времени предсказания и качества моделей;\\\n",
    "*Шаг 7* - Выбор лучшей модели, проверка её качества на тестовой выборке.\n",
    "\n",
    "Итоговый вывод."
   ]
  },
  {
   "cell_type": "markdown",
   "id": "b9d7ab90-9a14-4983-8050-04d48eaa4f9b",
   "metadata": {},
   "source": [
    "## Шаг 1. Загрузка и подготовка данных"
   ]
  },
  {
   "cell_type": "code",
   "execution_count": 1,
   "id": "82dc2951-3489-4364-b914-a44b331edecb",
   "metadata": {},
   "outputs": [],
   "source": [
    "!pip install phik -q\n",
    "!pip install catboost -q\n",
    "!pip install lightgbm -q"
   ]
  },
  {
   "cell_type": "code",
   "execution_count": 2,
   "id": "0b1907d0-5403-4bba-85de-ca1e4199e836",
   "metadata": {},
   "outputs": [],
   "source": [
    "# импоритруем pandas для обработки, анализа и структурирования данных\n",
    "import pandas as pd \n",
    "\n",
    "# импоритруем numpy для работы с данными\n",
    "import numpy as np \n",
    "\n",
    "# так же импоритруем matplotlib.pyplot для будущего построения графиков\n",
    "import matplotlib.pyplot as plt \n",
    "\n",
    "# так же импоритруем seaborn для построения графиков\n",
    "import seaborn as sns \n",
    "\n",
    "# импоритруем phik для построения матрицы корреляций Фи\n",
    "import phik \n",
    "\n",
    "# Импортируем функцию для разделения датасета на выборки\n",
    "from sklearn.model_selection import train_test_split, GridSearchCV\n",
    "\n",
    "# Импортируем классы для кодирования \n",
    "from sklearn.preprocessing import (\n",
    "OneHotEncoder,\n",
    "StandardScaler\n",
    ")\n",
    "\n",
    "# Подключаем метрику MSE.\n",
    "from sklearn.metrics import mean_squared_error as mse \n",
    "\n",
    "# подключаем модели для прогнозирования\n",
    "from catboost import CatBoostRegressor \n",
    "from lightgbm import LGBMRegressor\n",
    "from sklearn.ensemble import RandomForestRegressor\n",
    "\n",
    "# Отключаем некритичные предупреждения:\n",
    "import warnings\n",
    "warnings.filterwarnings(\"ignore\")\n",
    "# Настройки отображения таблиц\n",
    "pd.set_option('display.max_columns', 20)\n",
    "pd.set_option('display.max_rows', 20)"
   ]
  },
  {
   "cell_type": "markdown",
   "id": "2c62b242-8997-48ab-bf57-86f5f3eeb3e8",
   "metadata": {},
   "source": [
    "### 1.1 Загрузим данные из csv-файла в датафреймы c помощью библиотеки pandas"
   ]
  },
  {
   "cell_type": "code",
   "execution_count": 3,
   "id": "b3cc9716-2f3f-4fc5-a4a6-5f7bfff0585e",
   "metadata": {},
   "outputs": [],
   "source": [
    "try: # открываем наш файл с данными в среде JupiterHUB:\n",
    "    data_auto = pd.read_csv('/datasets/autos.csv') # технические характеристики, комплектации и цены автомобилей.\n",
    "        \n",
    "except: # либо берем данные на ПК для локальной версии Jupiter:\n",
    "    data_auto = pd.read_csv('C://Users//Voova//datasets//autos.csv') "
   ]
  },
  {
   "cell_type": "markdown",
   "id": "633de246-1396-419a-a855-5d9815d7eea3",
   "metadata": {},
   "source": [
    "Описание данных:\\\n",
    "**Признаки**\n",
    "- **DateCrawled** — дата скачивания анкеты из базы;\n",
    "- **VehicleType** — тип автомобильного кузова;\n",
    "- **RegistrationYear** — год регистрации автомобиля;\n",
    "- **Gearbox** — тип коробки передач;\n",
    "- **Power** — мощность (л. с.);\n",
    "- **Model** — модель автомобиля;\n",
    "- **Kilometer** — пробег (км);\n",
    "- **RegistrationMonth** — месяц регистрации автомобиля;\n",
    "- **FuelType** — тип топлива;\n",
    "- **Brand** — марка автомобиля;\n",
    "- **Repaired** — была машина в ремонте или нет;\n",
    "- **DateCreated** — дата создания анкеты;\n",
    "- **NumberOfPictures** — количество фотографий автомобиля;\n",
    "- **PostalCode** — почтовый индекс владельца анкеты (пользователя);\n",
    "- **LastSeen** — дата последней активности пользователя.\n",
    "\n",
    "**Целевой признак**\n",
    "- **Price** — цена (евро)."
   ]
  },
  {
   "cell_type": "markdown",
   "id": "a7f76ae1-0046-498b-aad6-a2b927b1fe89",
   "metadata": {},
   "source": [
    "### 1.2 Изучим общую информацию о датафрейме. Выведим первые строки набора данных."
   ]
  },
  {
   "cell_type": "code",
   "execution_count": 4,
   "id": "8632a7b9-d285-4884-943d-6a347414a062",
   "metadata": {},
   "outputs": [
    {
     "name": "stdout",
     "output_type": "stream",
     "text": [
      "<class 'pandas.core.frame.DataFrame'>\n",
      "RangeIndex: 354369 entries, 0 to 354368\n",
      "Data columns (total 16 columns):\n",
      " #   Column             Non-Null Count   Dtype \n",
      "---  ------             --------------   ----- \n",
      " 0   DateCrawled        354369 non-null  object\n",
      " 1   Price              354369 non-null  int64 \n",
      " 2   VehicleType        316879 non-null  object\n",
      " 3   RegistrationYear   354369 non-null  int64 \n",
      " 4   Gearbox            334536 non-null  object\n",
      " 5   Power              354369 non-null  int64 \n",
      " 6   Model              334664 non-null  object\n",
      " 7   Kilometer          354369 non-null  int64 \n",
      " 8   RegistrationMonth  354369 non-null  int64 \n",
      " 9   FuelType           321474 non-null  object\n",
      " 10  Brand              354369 non-null  object\n",
      " 11  Repaired           283215 non-null  object\n",
      " 12  DateCreated        354369 non-null  object\n",
      " 13  NumberOfPictures   354369 non-null  int64 \n",
      " 14  PostalCode         354369 non-null  int64 \n",
      " 15  LastSeen           354369 non-null  object\n",
      "dtypes: int64(7), object(9)\n",
      "memory usage: 43.3+ MB\n"
     ]
    }
   ],
   "source": [
    "data_auto.info()"
   ]
  },
  {
   "cell_type": "markdown",
   "id": "0757b639-39e7-4d3a-bc86-876f860b1bf1",
   "metadata": {},
   "source": [
    "Перед нами датафрейм на **16** колонок и **354 369** строк. Встречаются пропущенные значения. \\\n",
    "Посмотрим первые 5 строчек таблицы:"
   ]
  },
  {
   "cell_type": "code",
   "execution_count": 5,
   "id": "1e3fce88-8e65-41cf-a139-80abe85fca24",
   "metadata": {},
   "outputs": [
    {
     "data": {
      "text/html": [
       "<div>\n",
       "<style scoped>\n",
       "    .dataframe tbody tr th:only-of-type {\n",
       "        vertical-align: middle;\n",
       "    }\n",
       "\n",
       "    .dataframe tbody tr th {\n",
       "        vertical-align: top;\n",
       "    }\n",
       "\n",
       "    .dataframe thead th {\n",
       "        text-align: right;\n",
       "    }\n",
       "</style>\n",
       "<table border=\"1\" class=\"dataframe\">\n",
       "  <thead>\n",
       "    <tr style=\"text-align: right;\">\n",
       "      <th></th>\n",
       "      <th>DateCrawled</th>\n",
       "      <th>Price</th>\n",
       "      <th>VehicleType</th>\n",
       "      <th>RegistrationYear</th>\n",
       "      <th>Gearbox</th>\n",
       "      <th>Power</th>\n",
       "      <th>Model</th>\n",
       "      <th>Kilometer</th>\n",
       "      <th>RegistrationMonth</th>\n",
       "      <th>FuelType</th>\n",
       "      <th>Brand</th>\n",
       "      <th>Repaired</th>\n",
       "      <th>DateCreated</th>\n",
       "      <th>NumberOfPictures</th>\n",
       "      <th>PostalCode</th>\n",
       "      <th>LastSeen</th>\n",
       "    </tr>\n",
       "  </thead>\n",
       "  <tbody>\n",
       "    <tr>\n",
       "      <th>0</th>\n",
       "      <td>2016-03-24 11:52:17</td>\n",
       "      <td>480</td>\n",
       "      <td>NaN</td>\n",
       "      <td>1993</td>\n",
       "      <td>manual</td>\n",
       "      <td>0</td>\n",
       "      <td>golf</td>\n",
       "      <td>150000</td>\n",
       "      <td>0</td>\n",
       "      <td>petrol</td>\n",
       "      <td>volkswagen</td>\n",
       "      <td>NaN</td>\n",
       "      <td>2016-03-24 00:00:00</td>\n",
       "      <td>0</td>\n",
       "      <td>70435</td>\n",
       "      <td>2016-04-07 03:16:57</td>\n",
       "    </tr>\n",
       "    <tr>\n",
       "      <th>1</th>\n",
       "      <td>2016-03-24 10:58:45</td>\n",
       "      <td>18300</td>\n",
       "      <td>coupe</td>\n",
       "      <td>2011</td>\n",
       "      <td>manual</td>\n",
       "      <td>190</td>\n",
       "      <td>NaN</td>\n",
       "      <td>125000</td>\n",
       "      <td>5</td>\n",
       "      <td>gasoline</td>\n",
       "      <td>audi</td>\n",
       "      <td>yes</td>\n",
       "      <td>2016-03-24 00:00:00</td>\n",
       "      <td>0</td>\n",
       "      <td>66954</td>\n",
       "      <td>2016-04-07 01:46:50</td>\n",
       "    </tr>\n",
       "    <tr>\n",
       "      <th>2</th>\n",
       "      <td>2016-03-14 12:52:21</td>\n",
       "      <td>9800</td>\n",
       "      <td>suv</td>\n",
       "      <td>2004</td>\n",
       "      <td>auto</td>\n",
       "      <td>163</td>\n",
       "      <td>grand</td>\n",
       "      <td>125000</td>\n",
       "      <td>8</td>\n",
       "      <td>gasoline</td>\n",
       "      <td>jeep</td>\n",
       "      <td>NaN</td>\n",
       "      <td>2016-03-14 00:00:00</td>\n",
       "      <td>0</td>\n",
       "      <td>90480</td>\n",
       "      <td>2016-04-05 12:47:46</td>\n",
       "    </tr>\n",
       "    <tr>\n",
       "      <th>3</th>\n",
       "      <td>2016-03-17 16:54:04</td>\n",
       "      <td>1500</td>\n",
       "      <td>small</td>\n",
       "      <td>2001</td>\n",
       "      <td>manual</td>\n",
       "      <td>75</td>\n",
       "      <td>golf</td>\n",
       "      <td>150000</td>\n",
       "      <td>6</td>\n",
       "      <td>petrol</td>\n",
       "      <td>volkswagen</td>\n",
       "      <td>no</td>\n",
       "      <td>2016-03-17 00:00:00</td>\n",
       "      <td>0</td>\n",
       "      <td>91074</td>\n",
       "      <td>2016-03-17 17:40:17</td>\n",
       "    </tr>\n",
       "    <tr>\n",
       "      <th>4</th>\n",
       "      <td>2016-03-31 17:25:20</td>\n",
       "      <td>3600</td>\n",
       "      <td>small</td>\n",
       "      <td>2008</td>\n",
       "      <td>manual</td>\n",
       "      <td>69</td>\n",
       "      <td>fabia</td>\n",
       "      <td>90000</td>\n",
       "      <td>7</td>\n",
       "      <td>gasoline</td>\n",
       "      <td>skoda</td>\n",
       "      <td>no</td>\n",
       "      <td>2016-03-31 00:00:00</td>\n",
       "      <td>0</td>\n",
       "      <td>60437</td>\n",
       "      <td>2016-04-06 10:17:21</td>\n",
       "    </tr>\n",
       "  </tbody>\n",
       "</table>\n",
       "</div>"
      ],
      "text/plain": [
       "           DateCrawled  Price VehicleType  RegistrationYear Gearbox  Power  \\\n",
       "0  2016-03-24 11:52:17    480         NaN              1993  manual      0   \n",
       "1  2016-03-24 10:58:45  18300       coupe              2011  manual    190   \n",
       "2  2016-03-14 12:52:21   9800         suv              2004    auto    163   \n",
       "3  2016-03-17 16:54:04   1500       small              2001  manual     75   \n",
       "4  2016-03-31 17:25:20   3600       small              2008  manual     69   \n",
       "\n",
       "   Model  Kilometer  RegistrationMonth  FuelType       Brand Repaired  \\\n",
       "0   golf     150000                  0    petrol  volkswagen      NaN   \n",
       "1    NaN     125000                  5  gasoline        audi      yes   \n",
       "2  grand     125000                  8  gasoline        jeep      NaN   \n",
       "3   golf     150000                  6    petrol  volkswagen       no   \n",
       "4  fabia      90000                  7  gasoline       skoda       no   \n",
       "\n",
       "           DateCreated  NumberOfPictures  PostalCode             LastSeen  \n",
       "0  2016-03-24 00:00:00                 0       70435  2016-04-07 03:16:57  \n",
       "1  2016-03-24 00:00:00                 0       66954  2016-04-07 01:46:50  \n",
       "2  2016-03-14 00:00:00                 0       90480  2016-04-05 12:47:46  \n",
       "3  2016-03-17 00:00:00                 0       91074  2016-03-17 17:40:17  \n",
       "4  2016-03-31 00:00:00                 0       60437  2016-04-06 10:17:21  "
      ]
     },
     "execution_count": 5,
     "metadata": {},
     "output_type": "execute_result"
    }
   ],
   "source": [
    "data_auto.head(5)"
   ]
  },
  {
   "cell_type": "markdown",
   "id": "c340df07-5dc0-4cdd-a01c-4e155d051031",
   "metadata": {},
   "source": [
    "Данные в таблице соответствуют описанию, необходимо преобразовать типы данных столбцов *DateCrawled, DateCreated* и *LastSeen* к формату даты. \\\n",
    "А так же привести названия столбцов к общепринятым нормам. "
   ]
  },
  {
   "cell_type": "markdown",
   "id": "e06e57b0-529f-41e5-be93-3f0b266c4e90",
   "metadata": {},
   "source": [
    "### Вывод:\n",
    "В нашем распоряжении датафрейм data_auto:\n",
    "- **16** колонок и **354 369** строк.\n",
    "\n",
    "Для корректного исследования необходимо предобработать данные, а именно:\n",
    "- Удалить столбцы, которые не несут ценности для построения модели;\n",
    "- Привести названия столбцов в привычный вид;\n",
    "- Преобразовать типы данных;\n",
    "- Обработать пропущенные значения,\n",
    "- Проверить датафрейм на явные/неявные дубликаты."
   ]
  },
  {
   "cell_type": "markdown",
   "id": "fb43e653-4818-4033-96a9-1b383597666c",
   "metadata": {},
   "source": [
    "## Шаг 2. Предобработка и исследовательский анализ данных: "
   ]
  },
  {
   "cell_type": "markdown",
   "id": "880c5025-a985-4253-93ec-afa54babe2c0",
   "metadata": {},
   "source": [
    "### 2.1 Удаление неинформативных столбцов "
   ]
  },
  {
   "cell_type": "markdown",
   "id": "40df4409-0e13-4a5c-8b12-fa4eb61c037f",
   "metadata": {},
   "source": [
    "Согласно требованиям заказчика, модель должна прогнозировать цену на основании технических характеристик и  комплектации. \\\n",
    "Выберим столбцы, которые имеют наименьшую ценность, как признаки, при прогнозировании модели: \n",
    "- **DateCrawled** — дата скачивания анкеты из базы - удалю в конце, после проверки года регистрации;\n",
    "- **RegistrationMonth** — месяц регистрации автомобиля;\n",
    "- **NumberOfPictures** — количество фотографий автомобиля;\n",
    "- **PostalCode** — почтовый индекс владельца анкеты (пользователя);\n",
    "- **DateCreated** — дата создания анкеты;\n",
    "- **LastSeen** — дата последней активности пользователя."
   ]
  },
  {
   "cell_type": "code",
   "execution_count": 6,
   "id": "86ff3a26-d045-4cbc-8b58-676daebabb6d",
   "metadata": {},
   "outputs": [],
   "source": [
    "data_auto = data_auto.drop(['RegistrationMonth', 'NumberOfPictures', 'PostalCode', 'DateCreated', 'LastSeen'], axis = 1)"
   ]
  },
  {
   "cell_type": "code",
   "execution_count": 7,
   "id": "ebd301f2-e77e-4667-b9aa-7245d2089178",
   "metadata": {},
   "outputs": [
    {
     "data": {
      "text/html": [
       "<div>\n",
       "<style scoped>\n",
       "    .dataframe tbody tr th:only-of-type {\n",
       "        vertical-align: middle;\n",
       "    }\n",
       "\n",
       "    .dataframe tbody tr th {\n",
       "        vertical-align: top;\n",
       "    }\n",
       "\n",
       "    .dataframe thead th {\n",
       "        text-align: right;\n",
       "    }\n",
       "</style>\n",
       "<table border=\"1\" class=\"dataframe\">\n",
       "  <thead>\n",
       "    <tr style=\"text-align: right;\">\n",
       "      <th></th>\n",
       "      <th>DateCrawled</th>\n",
       "      <th>Price</th>\n",
       "      <th>VehicleType</th>\n",
       "      <th>RegistrationYear</th>\n",
       "      <th>Gearbox</th>\n",
       "      <th>Power</th>\n",
       "      <th>Model</th>\n",
       "      <th>Kilometer</th>\n",
       "      <th>FuelType</th>\n",
       "      <th>Brand</th>\n",
       "      <th>Repaired</th>\n",
       "    </tr>\n",
       "  </thead>\n",
       "  <tbody>\n",
       "    <tr>\n",
       "      <th>0</th>\n",
       "      <td>2016-03-24 11:52:17</td>\n",
       "      <td>480</td>\n",
       "      <td>NaN</td>\n",
       "      <td>1993</td>\n",
       "      <td>manual</td>\n",
       "      <td>0</td>\n",
       "      <td>golf</td>\n",
       "      <td>150000</td>\n",
       "      <td>petrol</td>\n",
       "      <td>volkswagen</td>\n",
       "      <td>NaN</td>\n",
       "    </tr>\n",
       "    <tr>\n",
       "      <th>1</th>\n",
       "      <td>2016-03-24 10:58:45</td>\n",
       "      <td>18300</td>\n",
       "      <td>coupe</td>\n",
       "      <td>2011</td>\n",
       "      <td>manual</td>\n",
       "      <td>190</td>\n",
       "      <td>NaN</td>\n",
       "      <td>125000</td>\n",
       "      <td>gasoline</td>\n",
       "      <td>audi</td>\n",
       "      <td>yes</td>\n",
       "    </tr>\n",
       "    <tr>\n",
       "      <th>2</th>\n",
       "      <td>2016-03-14 12:52:21</td>\n",
       "      <td>9800</td>\n",
       "      <td>suv</td>\n",
       "      <td>2004</td>\n",
       "      <td>auto</td>\n",
       "      <td>163</td>\n",
       "      <td>grand</td>\n",
       "      <td>125000</td>\n",
       "      <td>gasoline</td>\n",
       "      <td>jeep</td>\n",
       "      <td>NaN</td>\n",
       "    </tr>\n",
       "    <tr>\n",
       "      <th>3</th>\n",
       "      <td>2016-03-17 16:54:04</td>\n",
       "      <td>1500</td>\n",
       "      <td>small</td>\n",
       "      <td>2001</td>\n",
       "      <td>manual</td>\n",
       "      <td>75</td>\n",
       "      <td>golf</td>\n",
       "      <td>150000</td>\n",
       "      <td>petrol</td>\n",
       "      <td>volkswagen</td>\n",
       "      <td>no</td>\n",
       "    </tr>\n",
       "    <tr>\n",
       "      <th>4</th>\n",
       "      <td>2016-03-31 17:25:20</td>\n",
       "      <td>3600</td>\n",
       "      <td>small</td>\n",
       "      <td>2008</td>\n",
       "      <td>manual</td>\n",
       "      <td>69</td>\n",
       "      <td>fabia</td>\n",
       "      <td>90000</td>\n",
       "      <td>gasoline</td>\n",
       "      <td>skoda</td>\n",
       "      <td>no</td>\n",
       "    </tr>\n",
       "  </tbody>\n",
       "</table>\n",
       "</div>"
      ],
      "text/plain": [
       "           DateCrawled  Price VehicleType  RegistrationYear Gearbox  Power  \\\n",
       "0  2016-03-24 11:52:17    480         NaN              1993  manual      0   \n",
       "1  2016-03-24 10:58:45  18300       coupe              2011  manual    190   \n",
       "2  2016-03-14 12:52:21   9800         suv              2004    auto    163   \n",
       "3  2016-03-17 16:54:04   1500       small              2001  manual     75   \n",
       "4  2016-03-31 17:25:20   3600       small              2008  manual     69   \n",
       "\n",
       "   Model  Kilometer  FuelType       Brand Repaired  \n",
       "0   golf     150000    petrol  volkswagen      NaN  \n",
       "1    NaN     125000  gasoline        audi      yes  \n",
       "2  grand     125000  gasoline        jeep      NaN  \n",
       "3   golf     150000    petrol  volkswagen       no  \n",
       "4  fabia      90000  gasoline       skoda       no  "
      ]
     },
     "execution_count": 7,
     "metadata": {},
     "output_type": "execute_result"
    }
   ],
   "source": [
    "data_auto.head(5)"
   ]
  },
  {
   "cell_type": "markdown",
   "id": "955730ea-6c13-4d7d-b9d1-860a883bbbaf",
   "metadata": {},
   "source": [
    "### 2.2 Редактирование названий столбцов"
   ]
  },
  {
   "cell_type": "code",
   "execution_count": 8,
   "id": "3e80a51a-e732-4b66-b26c-6cb8192d695b",
   "metadata": {},
   "outputs": [],
   "source": [
    "data_auto.columns = data_auto.columns.str.lower()"
   ]
  },
  {
   "cell_type": "code",
   "execution_count": 9,
   "id": "09f989d8-f467-4b38-8393-a6e7fe9ccc3d",
   "metadata": {},
   "outputs": [],
   "source": [
    "data_auto.rename(columns = {'vehicletype': 'vehicle_type', 'registrationyear': 'registration_year', 'fueltype': 'fuel_type',}, inplace = True)"
   ]
  },
  {
   "cell_type": "code",
   "execution_count": 10,
   "id": "78daed6e-912d-4f91-90dd-23d2d2275fae",
   "metadata": {},
   "outputs": [
    {
     "data": {
      "text/html": [
       "<div>\n",
       "<style scoped>\n",
       "    .dataframe tbody tr th:only-of-type {\n",
       "        vertical-align: middle;\n",
       "    }\n",
       "\n",
       "    .dataframe tbody tr th {\n",
       "        vertical-align: top;\n",
       "    }\n",
       "\n",
       "    .dataframe thead th {\n",
       "        text-align: right;\n",
       "    }\n",
       "</style>\n",
       "<table border=\"1\" class=\"dataframe\">\n",
       "  <thead>\n",
       "    <tr style=\"text-align: right;\">\n",
       "      <th></th>\n",
       "      <th>datecrawled</th>\n",
       "      <th>price</th>\n",
       "      <th>vehicle_type</th>\n",
       "      <th>registration_year</th>\n",
       "      <th>gearbox</th>\n",
       "      <th>power</th>\n",
       "      <th>model</th>\n",
       "      <th>kilometer</th>\n",
       "      <th>fuel_type</th>\n",
       "      <th>brand</th>\n",
       "      <th>repaired</th>\n",
       "    </tr>\n",
       "  </thead>\n",
       "  <tbody>\n",
       "    <tr>\n",
       "      <th>0</th>\n",
       "      <td>2016-03-24 11:52:17</td>\n",
       "      <td>480</td>\n",
       "      <td>NaN</td>\n",
       "      <td>1993</td>\n",
       "      <td>manual</td>\n",
       "      <td>0</td>\n",
       "      <td>golf</td>\n",
       "      <td>150000</td>\n",
       "      <td>petrol</td>\n",
       "      <td>volkswagen</td>\n",
       "      <td>NaN</td>\n",
       "    </tr>\n",
       "    <tr>\n",
       "      <th>1</th>\n",
       "      <td>2016-03-24 10:58:45</td>\n",
       "      <td>18300</td>\n",
       "      <td>coupe</td>\n",
       "      <td>2011</td>\n",
       "      <td>manual</td>\n",
       "      <td>190</td>\n",
       "      <td>NaN</td>\n",
       "      <td>125000</td>\n",
       "      <td>gasoline</td>\n",
       "      <td>audi</td>\n",
       "      <td>yes</td>\n",
       "    </tr>\n",
       "    <tr>\n",
       "      <th>2</th>\n",
       "      <td>2016-03-14 12:52:21</td>\n",
       "      <td>9800</td>\n",
       "      <td>suv</td>\n",
       "      <td>2004</td>\n",
       "      <td>auto</td>\n",
       "      <td>163</td>\n",
       "      <td>grand</td>\n",
       "      <td>125000</td>\n",
       "      <td>gasoline</td>\n",
       "      <td>jeep</td>\n",
       "      <td>NaN</td>\n",
       "    </tr>\n",
       "    <tr>\n",
       "      <th>3</th>\n",
       "      <td>2016-03-17 16:54:04</td>\n",
       "      <td>1500</td>\n",
       "      <td>small</td>\n",
       "      <td>2001</td>\n",
       "      <td>manual</td>\n",
       "      <td>75</td>\n",
       "      <td>golf</td>\n",
       "      <td>150000</td>\n",
       "      <td>petrol</td>\n",
       "      <td>volkswagen</td>\n",
       "      <td>no</td>\n",
       "    </tr>\n",
       "    <tr>\n",
       "      <th>4</th>\n",
       "      <td>2016-03-31 17:25:20</td>\n",
       "      <td>3600</td>\n",
       "      <td>small</td>\n",
       "      <td>2008</td>\n",
       "      <td>manual</td>\n",
       "      <td>69</td>\n",
       "      <td>fabia</td>\n",
       "      <td>90000</td>\n",
       "      <td>gasoline</td>\n",
       "      <td>skoda</td>\n",
       "      <td>no</td>\n",
       "    </tr>\n",
       "  </tbody>\n",
       "</table>\n",
       "</div>"
      ],
      "text/plain": [
       "           datecrawled  price vehicle_type  registration_year gearbox  power  \\\n",
       "0  2016-03-24 11:52:17    480          NaN               1993  manual      0   \n",
       "1  2016-03-24 10:58:45  18300        coupe               2011  manual    190   \n",
       "2  2016-03-14 12:52:21   9800          suv               2004    auto    163   \n",
       "3  2016-03-17 16:54:04   1500        small               2001  manual     75   \n",
       "4  2016-03-31 17:25:20   3600        small               2008  manual     69   \n",
       "\n",
       "   model  kilometer fuel_type       brand repaired  \n",
       "0   golf     150000    petrol  volkswagen      NaN  \n",
       "1    NaN     125000  gasoline        audi      yes  \n",
       "2  grand     125000  gasoline        jeep      NaN  \n",
       "3   golf     150000    petrol  volkswagen       no  \n",
       "4  fabia      90000  gasoline       skoda       no  "
      ]
     },
     "execution_count": 10,
     "metadata": {},
     "output_type": "execute_result"
    }
   ],
   "source": [
    "data_auto.head(5)"
   ]
  },
  {
   "cell_type": "markdown",
   "id": "e5b26afa-af7a-4856-a3c5-0047c37cf59d",
   "metadata": {},
   "source": [
    "### 2.3 Преобразование типов данных"
   ]
  },
  {
   "cell_type": "markdown",
   "id": "8a1ac4c6-bdfa-47b1-9d61-97d35303c6da",
   "metadata": {},
   "source": [
    "Отмечу, что столбцы, которые я собирался приводить к формату даты - нам больше не интересны и удалены.\\\n",
    "Из оставшихся с нами столбцов - преобразовать можем, разве что `repaired` в `bool`, но сначала нужно заполнить пропуски, чтобы Nan не преобразовались автоматически в False, да и вообще на этапе кодирования этот категориальный признак и так будет работатать. Оставим как есть. "
   ]
  },
  {
   "cell_type": "markdown",
   "id": "a4cf3381-3a96-4f3c-a493-1d7134fa34a4",
   "metadata": {},
   "source": [
    "### 2.4 Обработка пропущенных значений"
   ]
  },
  {
   "cell_type": "markdown",
   "id": "f4fd9c94-0da6-4fb4-814c-df51317afdd5",
   "metadata": {},
   "source": [
    "Посмотрим количество пропущенных значений в датафрейме: "
   ]
  },
  {
   "cell_type": "code",
   "execution_count": 11,
   "id": "5e48441d-f765-4f61-90bb-9094acdbaf4e",
   "metadata": {},
   "outputs": [
    {
     "data": {
      "text/html": [
       "<div>\n",
       "<style scoped>\n",
       "    .dataframe tbody tr th:only-of-type {\n",
       "        vertical-align: middle;\n",
       "    }\n",
       "\n",
       "    .dataframe tbody tr th {\n",
       "        vertical-align: top;\n",
       "    }\n",
       "\n",
       "    .dataframe thead th {\n",
       "        text-align: right;\n",
       "    }\n",
       "</style>\n",
       "<table border=\"1\" class=\"dataframe\">\n",
       "  <thead>\n",
       "    <tr style=\"text-align: right;\">\n",
       "      <th></th>\n",
       "      <th>Пропущено</th>\n",
       "      <th>% пропусков</th>\n",
       "    </tr>\n",
       "  </thead>\n",
       "  <tbody>\n",
       "    <tr>\n",
       "      <th>repaired</th>\n",
       "      <td>71154</td>\n",
       "      <td>20.079070</td>\n",
       "    </tr>\n",
       "    <tr>\n",
       "      <th>vehicle_type</th>\n",
       "      <td>37490</td>\n",
       "      <td>10.579368</td>\n",
       "    </tr>\n",
       "    <tr>\n",
       "      <th>fuel_type</th>\n",
       "      <td>32895</td>\n",
       "      <td>9.282697</td>\n",
       "    </tr>\n",
       "    <tr>\n",
       "      <th>gearbox</th>\n",
       "      <td>19833</td>\n",
       "      <td>5.596709</td>\n",
       "    </tr>\n",
       "    <tr>\n",
       "      <th>model</th>\n",
       "      <td>19705</td>\n",
       "      <td>5.560588</td>\n",
       "    </tr>\n",
       "    <tr>\n",
       "      <th>datecrawled</th>\n",
       "      <td>0</td>\n",
       "      <td>0.000000</td>\n",
       "    </tr>\n",
       "    <tr>\n",
       "      <th>price</th>\n",
       "      <td>0</td>\n",
       "      <td>0.000000</td>\n",
       "    </tr>\n",
       "    <tr>\n",
       "      <th>registration_year</th>\n",
       "      <td>0</td>\n",
       "      <td>0.000000</td>\n",
       "    </tr>\n",
       "    <tr>\n",
       "      <th>power</th>\n",
       "      <td>0</td>\n",
       "      <td>0.000000</td>\n",
       "    </tr>\n",
       "    <tr>\n",
       "      <th>kilometer</th>\n",
       "      <td>0</td>\n",
       "      <td>0.000000</td>\n",
       "    </tr>\n",
       "    <tr>\n",
       "      <th>brand</th>\n",
       "      <td>0</td>\n",
       "      <td>0.000000</td>\n",
       "    </tr>\n",
       "  </tbody>\n",
       "</table>\n",
       "</div>"
      ],
      "text/plain": [
       "                   Пропущено  % пропусков\n",
       "repaired               71154    20.079070\n",
       "vehicle_type           37490    10.579368\n",
       "fuel_type              32895     9.282697\n",
       "gearbox                19833     5.596709\n",
       "model                  19705     5.560588\n",
       "datecrawled                0     0.000000\n",
       "price                      0     0.000000\n",
       "registration_year          0     0.000000\n",
       "power                      0     0.000000\n",
       "kilometer                  0     0.000000\n",
       "brand                      0     0.000000"
      ]
     },
     "execution_count": 11,
     "metadata": {},
     "output_type": "execute_result"
    }
   ],
   "source": [
    "miss_nan = pd.DataFrame({\n",
    "    'Пропущено': data_auto.isna().sum(),\n",
    "    '% пропусков': data_auto.isna().mean() * 100\n",
    "}).sort_values(by = '% пропусков', ascending = False)\n",
    "miss_nan"
   ]
  },
  {
   "cell_type": "markdown",
   "id": "3792ce0d-c100-4381-983c-8879ed63ca2e",
   "metadata": {},
   "source": [
    "2.4.1 Работаем с `repaired`."
   ]
  },
  {
   "cell_type": "markdown",
   "id": "92fd1ede-c67b-4036-bf6d-a337b6df69aa",
   "metadata": {},
   "source": [
    "Как видно выше - **20 %** пользователей предпочти скрыть информацию о факте повреждения авто, но мы не можем знать этого наверняка, поэтому предлагаю заполнить пропуски в repaired рандомно в соотношении *50* на *50*. \\\n",
    "На мой взгляд - наличие автомобиля в ремонте будет оказывать существенное влияние на цену, поэтому хотелось бы сделать заполнение пропусков максимально *непредвзято*.  "
   ]
  },
  {
   "cell_type": "code",
   "execution_count": 12,
   "id": "8d19b201-4877-490a-ae34-23367341306f",
   "metadata": {},
   "outputs": [],
   "source": [
    "np.random.seed(42) # зафиксируем константу для функции рандома"
   ]
  },
  {
   "cell_type": "code",
   "execution_count": 13,
   "id": "4d5701ea-8b50-4755-82f5-085d9a8dbeb9",
   "metadata": {},
   "outputs": [
    {
     "data": {
      "text/html": [
       "<div>\n",
       "<style scoped>\n",
       "    .dataframe tbody tr th:only-of-type {\n",
       "        vertical-align: middle;\n",
       "    }\n",
       "\n",
       "    .dataframe tbody tr th {\n",
       "        vertical-align: top;\n",
       "    }\n",
       "\n",
       "    .dataframe thead th {\n",
       "        text-align: right;\n",
       "    }\n",
       "</style>\n",
       "<table border=\"1\" class=\"dataframe\">\n",
       "  <thead>\n",
       "    <tr style=\"text-align: right;\">\n",
       "      <th></th>\n",
       "      <th>datecrawled</th>\n",
       "      <th>price</th>\n",
       "      <th>vehicle_type</th>\n",
       "      <th>registration_year</th>\n",
       "      <th>gearbox</th>\n",
       "      <th>power</th>\n",
       "      <th>model</th>\n",
       "      <th>kilometer</th>\n",
       "      <th>fuel_type</th>\n",
       "      <th>brand</th>\n",
       "      <th>repaired</th>\n",
       "    </tr>\n",
       "  </thead>\n",
       "  <tbody>\n",
       "    <tr>\n",
       "      <th>0</th>\n",
       "      <td>2016-03-24 11:52:17</td>\n",
       "      <td>480</td>\n",
       "      <td>NaN</td>\n",
       "      <td>1993</td>\n",
       "      <td>manual</td>\n",
       "      <td>0</td>\n",
       "      <td>golf</td>\n",
       "      <td>150000</td>\n",
       "      <td>petrol</td>\n",
       "      <td>volkswagen</td>\n",
       "      <td>unknown</td>\n",
       "    </tr>\n",
       "    <tr>\n",
       "      <th>1</th>\n",
       "      <td>2016-03-24 10:58:45</td>\n",
       "      <td>18300</td>\n",
       "      <td>coupe</td>\n",
       "      <td>2011</td>\n",
       "      <td>manual</td>\n",
       "      <td>190</td>\n",
       "      <td>NaN</td>\n",
       "      <td>125000</td>\n",
       "      <td>gasoline</td>\n",
       "      <td>audi</td>\n",
       "      <td>yes</td>\n",
       "    </tr>\n",
       "    <tr>\n",
       "      <th>2</th>\n",
       "      <td>2016-03-14 12:52:21</td>\n",
       "      <td>9800</td>\n",
       "      <td>suv</td>\n",
       "      <td>2004</td>\n",
       "      <td>auto</td>\n",
       "      <td>163</td>\n",
       "      <td>grand</td>\n",
       "      <td>125000</td>\n",
       "      <td>gasoline</td>\n",
       "      <td>jeep</td>\n",
       "      <td>unknown</td>\n",
       "    </tr>\n",
       "    <tr>\n",
       "      <th>3</th>\n",
       "      <td>2016-03-17 16:54:04</td>\n",
       "      <td>1500</td>\n",
       "      <td>small</td>\n",
       "      <td>2001</td>\n",
       "      <td>manual</td>\n",
       "      <td>75</td>\n",
       "      <td>golf</td>\n",
       "      <td>150000</td>\n",
       "      <td>petrol</td>\n",
       "      <td>volkswagen</td>\n",
       "      <td>no</td>\n",
       "    </tr>\n",
       "    <tr>\n",
       "      <th>4</th>\n",
       "      <td>2016-03-31 17:25:20</td>\n",
       "      <td>3600</td>\n",
       "      <td>small</td>\n",
       "      <td>2008</td>\n",
       "      <td>manual</td>\n",
       "      <td>69</td>\n",
       "      <td>fabia</td>\n",
       "      <td>90000</td>\n",
       "      <td>gasoline</td>\n",
       "      <td>skoda</td>\n",
       "      <td>no</td>\n",
       "    </tr>\n",
       "  </tbody>\n",
       "</table>\n",
       "</div>"
      ],
      "text/plain": [
       "           datecrawled  price vehicle_type  registration_year gearbox  power  \\\n",
       "0  2016-03-24 11:52:17    480          NaN               1993  manual      0   \n",
       "1  2016-03-24 10:58:45  18300        coupe               2011  manual    190   \n",
       "2  2016-03-14 12:52:21   9800          suv               2004    auto    163   \n",
       "3  2016-03-17 16:54:04   1500        small               2001  manual     75   \n",
       "4  2016-03-31 17:25:20   3600        small               2008  manual     69   \n",
       "\n",
       "   model  kilometer fuel_type       brand repaired  \n",
       "0   golf     150000    petrol  volkswagen  unknown  \n",
       "1    NaN     125000  gasoline        audi      yes  \n",
       "2  grand     125000  gasoline        jeep  unknown  \n",
       "3   golf     150000    petrol  volkswagen       no  \n",
       "4  fabia      90000  gasoline       skoda       no  "
      ]
     },
     "execution_count": 13,
     "metadata": {},
     "output_type": "execute_result"
    }
   ],
   "source": [
    "data_auto['repaired'] = data_auto['repaired'].fillna('unknown')\n",
    "data_auto.head(5)"
   ]
  },
  {
   "cell_type": "markdown",
   "id": "5d7423a8-fd71-4a79-b275-990d9a2981b7",
   "metadata": {},
   "source": [
    "2.4.2 Работаем с `vehicle_type`."
   ]
  },
  {
   "cell_type": "markdown",
   "id": "0c09d224-b935-4801-bd4e-ee9fc8e8318d",
   "metadata": {},
   "source": [
    "Посмотрим какие вообще типы кузовов у нас присутствуют:"
   ]
  },
  {
   "cell_type": "code",
   "execution_count": 14,
   "id": "dba69fde-8202-4501-8d22-6098925a79f3",
   "metadata": {},
   "outputs": [
    {
     "data": {
      "text/plain": [
       "array([nan, 'coupe', 'suv', 'small', 'sedan', 'convertible', 'bus',\n",
       "       'wagon', 'other'], dtype=object)"
      ]
     },
     "execution_count": 14,
     "metadata": {},
     "output_type": "execute_result"
    }
   ],
   "source": [
    "data_auto['vehicle_type'].unique()"
   ]
  },
  {
   "cell_type": "markdown",
   "id": "34ac1066-ffcd-450d-9764-a8a2038785f4",
   "metadata": {},
   "source": [
    "Чтобы не выдумывать лишнего - предлагаю пропуски в данных приравнять к категории `other`."
   ]
  },
  {
   "cell_type": "code",
   "execution_count": 15,
   "id": "3b40d0c9-2ddf-4f21-8f3f-79631ea32f95",
   "metadata": {},
   "outputs": [],
   "source": [
    "data_auto['vehicle_type'] = data_auto['vehicle_type'].fillna('other')"
   ]
  },
  {
   "cell_type": "markdown",
   "id": "32b5e532-dd7c-4cd0-9d1e-27d884e72654",
   "metadata": {},
   "source": [
    "2.4.3 Работаем с `fuel_type`."
   ]
  },
  {
   "cell_type": "markdown",
   "id": "483b94bd-ffc5-49bd-97ab-efdc8853b206",
   "metadata": {},
   "source": [
    "Посмотрим разновидности топлива наших автомобилей:"
   ]
  },
  {
   "cell_type": "code",
   "execution_count": 16,
   "id": "0a6a8bfd-f2c5-4c8b-bd5c-1727c581d138",
   "metadata": {},
   "outputs": [
    {
     "data": {
      "text/plain": [
       "array(['petrol', 'gasoline', nan, 'lpg', 'other', 'hybrid', 'cng',\n",
       "       'electric'], dtype=object)"
      ]
     },
     "execution_count": 16,
     "metadata": {},
     "output_type": "execute_result"
    }
   ],
   "source": [
    "data_auto['fuel_type'].unique()"
   ]
  },
  {
   "cell_type": "markdown",
   "id": "c9443207-b0b7-4161-842a-6bbb16ff05c7",
   "metadata": {},
   "source": [
    "Предлагаю заполнить пропуски самым частовстречающимся значением. "
   ]
  },
  {
   "cell_type": "code",
   "execution_count": 17,
   "id": "a85c4899-28af-492c-a503-2dedbbc5e4bd",
   "metadata": {},
   "outputs": [
    {
     "data": {
      "text/html": [
       "<div>\n",
       "<style scoped>\n",
       "    .dataframe tbody tr th:only-of-type {\n",
       "        vertical-align: middle;\n",
       "    }\n",
       "\n",
       "    .dataframe tbody tr th {\n",
       "        vertical-align: top;\n",
       "    }\n",
       "\n",
       "    .dataframe thead th {\n",
       "        text-align: right;\n",
       "    }\n",
       "</style>\n",
       "<table border=\"1\" class=\"dataframe\">\n",
       "  <thead>\n",
       "    <tr style=\"text-align: right;\">\n",
       "      <th></th>\n",
       "      <th>datecrawled</th>\n",
       "      <th>price</th>\n",
       "      <th>vehicle_type</th>\n",
       "      <th>registration_year</th>\n",
       "      <th>gearbox</th>\n",
       "      <th>power</th>\n",
       "      <th>model</th>\n",
       "      <th>kilometer</th>\n",
       "      <th>fuel_type</th>\n",
       "      <th>brand</th>\n",
       "      <th>repaired</th>\n",
       "    </tr>\n",
       "  </thead>\n",
       "  <tbody>\n",
       "    <tr>\n",
       "      <th>0</th>\n",
       "      <td>2016-03-24 11:52:17</td>\n",
       "      <td>480</td>\n",
       "      <td>other</td>\n",
       "      <td>1993</td>\n",
       "      <td>manual</td>\n",
       "      <td>0</td>\n",
       "      <td>golf</td>\n",
       "      <td>150000</td>\n",
       "      <td>petrol</td>\n",
       "      <td>volkswagen</td>\n",
       "      <td>unknown</td>\n",
       "    </tr>\n",
       "    <tr>\n",
       "      <th>1</th>\n",
       "      <td>2016-03-24 10:58:45</td>\n",
       "      <td>18300</td>\n",
       "      <td>coupe</td>\n",
       "      <td>2011</td>\n",
       "      <td>manual</td>\n",
       "      <td>190</td>\n",
       "      <td>NaN</td>\n",
       "      <td>125000</td>\n",
       "      <td>gasoline</td>\n",
       "      <td>audi</td>\n",
       "      <td>yes</td>\n",
       "    </tr>\n",
       "    <tr>\n",
       "      <th>2</th>\n",
       "      <td>2016-03-14 12:52:21</td>\n",
       "      <td>9800</td>\n",
       "      <td>suv</td>\n",
       "      <td>2004</td>\n",
       "      <td>auto</td>\n",
       "      <td>163</td>\n",
       "      <td>grand</td>\n",
       "      <td>125000</td>\n",
       "      <td>gasoline</td>\n",
       "      <td>jeep</td>\n",
       "      <td>unknown</td>\n",
       "    </tr>\n",
       "    <tr>\n",
       "      <th>3</th>\n",
       "      <td>2016-03-17 16:54:04</td>\n",
       "      <td>1500</td>\n",
       "      <td>small</td>\n",
       "      <td>2001</td>\n",
       "      <td>manual</td>\n",
       "      <td>75</td>\n",
       "      <td>golf</td>\n",
       "      <td>150000</td>\n",
       "      <td>petrol</td>\n",
       "      <td>volkswagen</td>\n",
       "      <td>no</td>\n",
       "    </tr>\n",
       "    <tr>\n",
       "      <th>4</th>\n",
       "      <td>2016-03-31 17:25:20</td>\n",
       "      <td>3600</td>\n",
       "      <td>small</td>\n",
       "      <td>2008</td>\n",
       "      <td>manual</td>\n",
       "      <td>69</td>\n",
       "      <td>fabia</td>\n",
       "      <td>90000</td>\n",
       "      <td>gasoline</td>\n",
       "      <td>skoda</td>\n",
       "      <td>no</td>\n",
       "    </tr>\n",
       "  </tbody>\n",
       "</table>\n",
       "</div>"
      ],
      "text/plain": [
       "           datecrawled  price vehicle_type  registration_year gearbox  power  \\\n",
       "0  2016-03-24 11:52:17    480        other               1993  manual      0   \n",
       "1  2016-03-24 10:58:45  18300        coupe               2011  manual    190   \n",
       "2  2016-03-14 12:52:21   9800          suv               2004    auto    163   \n",
       "3  2016-03-17 16:54:04   1500        small               2001  manual     75   \n",
       "4  2016-03-31 17:25:20   3600        small               2008  manual     69   \n",
       "\n",
       "   model  kilometer fuel_type       brand repaired  \n",
       "0   golf     150000    petrol  volkswagen  unknown  \n",
       "1    NaN     125000  gasoline        audi      yes  \n",
       "2  grand     125000  gasoline        jeep  unknown  \n",
       "3   golf     150000    petrol  volkswagen       no  \n",
       "4  fabia      90000  gasoline       skoda       no  "
      ]
     },
     "execution_count": 17,
     "metadata": {},
     "output_type": "execute_result"
    }
   ],
   "source": [
    "data_auto['fuel_type'] = data_auto.groupby('brand')['fuel_type'].transform(\n",
    "            lambda x: x.fillna((x.mode()[0] if not x.mode().empty else 'other')))\n",
    "data_auto.head(5)"
   ]
  },
  {
   "cell_type": "markdown",
   "id": "8df93929-f23f-4dbd-ab72-ef8e88cf5977",
   "metadata": {},
   "source": [
    "2.4.4 Работаем с `gearbox`."
   ]
  },
  {
   "cell_type": "markdown",
   "id": "e2185eb7-1650-42c7-9586-479c29a0055c",
   "metadata": {},
   "source": [
    "Посмотрим, какая трансмиссия используется в предоставленных авто:"
   ]
  },
  {
   "cell_type": "code",
   "execution_count": 18,
   "id": "ddd59c8e-a903-4ed2-a7c0-4ebb15ee50c8",
   "metadata": {},
   "outputs": [
    {
     "data": {
      "text/plain": [
       "array(['manual', 'auto', nan], dtype=object)"
      ]
     },
     "execution_count": 18,
     "metadata": {},
     "output_type": "execute_result"
    }
   ],
   "source": [
    "data_auto['gearbox'].unique()"
   ]
  },
  {
   "cell_type": "markdown",
   "id": "7ee8cdbb-7d23-459b-9df0-fb48d51064bd",
   "metadata": {},
   "source": [
    "Предлагаю заполнить так же рандомно с соотношением 50/50:"
   ]
  },
  {
   "cell_type": "code",
   "execution_count": 19,
   "id": "f36c3543-7516-4ecf-aaa1-774f85514eaf",
   "metadata": {},
   "outputs": [
    {
     "data": {
      "text/html": [
       "<div>\n",
       "<style scoped>\n",
       "    .dataframe tbody tr th:only-of-type {\n",
       "        vertical-align: middle;\n",
       "    }\n",
       "\n",
       "    .dataframe tbody tr th {\n",
       "        vertical-align: top;\n",
       "    }\n",
       "\n",
       "    .dataframe thead th {\n",
       "        text-align: right;\n",
       "    }\n",
       "</style>\n",
       "<table border=\"1\" class=\"dataframe\">\n",
       "  <thead>\n",
       "    <tr style=\"text-align: right;\">\n",
       "      <th></th>\n",
       "      <th>datecrawled</th>\n",
       "      <th>price</th>\n",
       "      <th>vehicle_type</th>\n",
       "      <th>registration_year</th>\n",
       "      <th>gearbox</th>\n",
       "      <th>power</th>\n",
       "      <th>model</th>\n",
       "      <th>kilometer</th>\n",
       "      <th>fuel_type</th>\n",
       "      <th>brand</th>\n",
       "      <th>repaired</th>\n",
       "    </tr>\n",
       "  </thead>\n",
       "  <tbody>\n",
       "    <tr>\n",
       "      <th>0</th>\n",
       "      <td>2016-03-24 11:52:17</td>\n",
       "      <td>480</td>\n",
       "      <td>other</td>\n",
       "      <td>1993</td>\n",
       "      <td>manual</td>\n",
       "      <td>0</td>\n",
       "      <td>golf</td>\n",
       "      <td>150000</td>\n",
       "      <td>petrol</td>\n",
       "      <td>volkswagen</td>\n",
       "      <td>unknown</td>\n",
       "    </tr>\n",
       "    <tr>\n",
       "      <th>1</th>\n",
       "      <td>2016-03-24 10:58:45</td>\n",
       "      <td>18300</td>\n",
       "      <td>coupe</td>\n",
       "      <td>2011</td>\n",
       "      <td>manual</td>\n",
       "      <td>190</td>\n",
       "      <td>NaN</td>\n",
       "      <td>125000</td>\n",
       "      <td>gasoline</td>\n",
       "      <td>audi</td>\n",
       "      <td>yes</td>\n",
       "    </tr>\n",
       "    <tr>\n",
       "      <th>2</th>\n",
       "      <td>2016-03-14 12:52:21</td>\n",
       "      <td>9800</td>\n",
       "      <td>suv</td>\n",
       "      <td>2004</td>\n",
       "      <td>auto</td>\n",
       "      <td>163</td>\n",
       "      <td>grand</td>\n",
       "      <td>125000</td>\n",
       "      <td>gasoline</td>\n",
       "      <td>jeep</td>\n",
       "      <td>unknown</td>\n",
       "    </tr>\n",
       "    <tr>\n",
       "      <th>3</th>\n",
       "      <td>2016-03-17 16:54:04</td>\n",
       "      <td>1500</td>\n",
       "      <td>small</td>\n",
       "      <td>2001</td>\n",
       "      <td>manual</td>\n",
       "      <td>75</td>\n",
       "      <td>golf</td>\n",
       "      <td>150000</td>\n",
       "      <td>petrol</td>\n",
       "      <td>volkswagen</td>\n",
       "      <td>no</td>\n",
       "    </tr>\n",
       "    <tr>\n",
       "      <th>4</th>\n",
       "      <td>2016-03-31 17:25:20</td>\n",
       "      <td>3600</td>\n",
       "      <td>small</td>\n",
       "      <td>2008</td>\n",
       "      <td>manual</td>\n",
       "      <td>69</td>\n",
       "      <td>fabia</td>\n",
       "      <td>90000</td>\n",
       "      <td>gasoline</td>\n",
       "      <td>skoda</td>\n",
       "      <td>no</td>\n",
       "    </tr>\n",
       "  </tbody>\n",
       "</table>\n",
       "</div>"
      ],
      "text/plain": [
       "           datecrawled  price vehicle_type  registration_year gearbox  power  \\\n",
       "0  2016-03-24 11:52:17    480        other               1993  manual      0   \n",
       "1  2016-03-24 10:58:45  18300        coupe               2011  manual    190   \n",
       "2  2016-03-14 12:52:21   9800          suv               2004    auto    163   \n",
       "3  2016-03-17 16:54:04   1500        small               2001  manual     75   \n",
       "4  2016-03-31 17:25:20   3600        small               2008  manual     69   \n",
       "\n",
       "   model  kilometer fuel_type       brand repaired  \n",
       "0   golf     150000    petrol  volkswagen  unknown  \n",
       "1    NaN     125000  gasoline        audi      yes  \n",
       "2  grand     125000  gasoline        jeep  unknown  \n",
       "3   golf     150000    petrol  volkswagen       no  \n",
       "4  fabia      90000  gasoline       skoda       no  "
      ]
     },
     "execution_count": 19,
     "metadata": {},
     "output_type": "execute_result"
    }
   ],
   "source": [
    "data_auto['gearbox'] = data_auto['gearbox'].fillna('unknown')\n",
    "data_auto.head(5)"
   ]
  },
  {
   "cell_type": "markdown",
   "id": "6bd6f691-6341-4fda-b436-988cfc20178b",
   "metadata": {},
   "source": [
    "2.4.5 Работаем с `model`."
   ]
  },
  {
   "cell_type": "markdown",
   "id": "7cdc7bc0-ab93-4052-9dcc-59ba6ae55d31",
   "metadata": {},
   "source": [
    "Модель автомобиля должна очень сильно коррелировать с его стоимостью, не хотелось бы вмешиваться в имеющиеся данные (в плане того, что мы можем автомобилю с маленькой ценой присвоить \"дорогую\" марку и наоборот), а так как пропуски составляют 5,56 % от всего датасета - предлагаю удалить эти данные. "
   ]
  },
  {
   "cell_type": "code",
   "execution_count": 20,
   "id": "79ba8cb2-3118-4ee9-a4a1-7e61b9736c8a",
   "metadata": {},
   "outputs": [
    {
     "data": {
      "text/html": [
       "<div>\n",
       "<style scoped>\n",
       "    .dataframe tbody tr th:only-of-type {\n",
       "        vertical-align: middle;\n",
       "    }\n",
       "\n",
       "    .dataframe tbody tr th {\n",
       "        vertical-align: top;\n",
       "    }\n",
       "\n",
       "    .dataframe thead th {\n",
       "        text-align: right;\n",
       "    }\n",
       "</style>\n",
       "<table border=\"1\" class=\"dataframe\">\n",
       "  <thead>\n",
       "    <tr style=\"text-align: right;\">\n",
       "      <th></th>\n",
       "      <th>datecrawled</th>\n",
       "      <th>price</th>\n",
       "      <th>vehicle_type</th>\n",
       "      <th>registration_year</th>\n",
       "      <th>gearbox</th>\n",
       "      <th>power</th>\n",
       "      <th>model</th>\n",
       "      <th>kilometer</th>\n",
       "      <th>fuel_type</th>\n",
       "      <th>brand</th>\n",
       "      <th>repaired</th>\n",
       "    </tr>\n",
       "  </thead>\n",
       "  <tbody>\n",
       "    <tr>\n",
       "      <th>0</th>\n",
       "      <td>2016-03-24 11:52:17</td>\n",
       "      <td>480</td>\n",
       "      <td>other</td>\n",
       "      <td>1993</td>\n",
       "      <td>manual</td>\n",
       "      <td>0</td>\n",
       "      <td>golf</td>\n",
       "      <td>150000</td>\n",
       "      <td>petrol</td>\n",
       "      <td>volkswagen</td>\n",
       "      <td>unknown</td>\n",
       "    </tr>\n",
       "    <tr>\n",
       "      <th>1</th>\n",
       "      <td>2016-03-24 10:58:45</td>\n",
       "      <td>18300</td>\n",
       "      <td>coupe</td>\n",
       "      <td>2011</td>\n",
       "      <td>manual</td>\n",
       "      <td>190</td>\n",
       "      <td>other</td>\n",
       "      <td>125000</td>\n",
       "      <td>gasoline</td>\n",
       "      <td>audi</td>\n",
       "      <td>yes</td>\n",
       "    </tr>\n",
       "    <tr>\n",
       "      <th>2</th>\n",
       "      <td>2016-03-14 12:52:21</td>\n",
       "      <td>9800</td>\n",
       "      <td>suv</td>\n",
       "      <td>2004</td>\n",
       "      <td>auto</td>\n",
       "      <td>163</td>\n",
       "      <td>grand</td>\n",
       "      <td>125000</td>\n",
       "      <td>gasoline</td>\n",
       "      <td>jeep</td>\n",
       "      <td>unknown</td>\n",
       "    </tr>\n",
       "    <tr>\n",
       "      <th>3</th>\n",
       "      <td>2016-03-17 16:54:04</td>\n",
       "      <td>1500</td>\n",
       "      <td>small</td>\n",
       "      <td>2001</td>\n",
       "      <td>manual</td>\n",
       "      <td>75</td>\n",
       "      <td>golf</td>\n",
       "      <td>150000</td>\n",
       "      <td>petrol</td>\n",
       "      <td>volkswagen</td>\n",
       "      <td>no</td>\n",
       "    </tr>\n",
       "    <tr>\n",
       "      <th>4</th>\n",
       "      <td>2016-03-31 17:25:20</td>\n",
       "      <td>3600</td>\n",
       "      <td>small</td>\n",
       "      <td>2008</td>\n",
       "      <td>manual</td>\n",
       "      <td>69</td>\n",
       "      <td>fabia</td>\n",
       "      <td>90000</td>\n",
       "      <td>gasoline</td>\n",
       "      <td>skoda</td>\n",
       "      <td>no</td>\n",
       "    </tr>\n",
       "  </tbody>\n",
       "</table>\n",
       "</div>"
      ],
      "text/plain": [
       "           datecrawled  price vehicle_type  registration_year gearbox  power  \\\n",
       "0  2016-03-24 11:52:17    480        other               1993  manual      0   \n",
       "1  2016-03-24 10:58:45  18300        coupe               2011  manual    190   \n",
       "2  2016-03-14 12:52:21   9800          suv               2004    auto    163   \n",
       "3  2016-03-17 16:54:04   1500        small               2001  manual     75   \n",
       "4  2016-03-31 17:25:20   3600        small               2008  manual     69   \n",
       "\n",
       "   model  kilometer fuel_type       brand repaired  \n",
       "0   golf     150000    petrol  volkswagen  unknown  \n",
       "1  other     125000  gasoline        audi      yes  \n",
       "2  grand     125000  gasoline        jeep  unknown  \n",
       "3   golf     150000    petrol  volkswagen       no  \n",
       "4  fabia      90000  gasoline       skoda       no  "
      ]
     },
     "execution_count": 20,
     "metadata": {},
     "output_type": "execute_result"
    }
   ],
   "source": [
    "data_auto['model'] = data_auto['model'].fillna('other')\n",
    "data_auto.head(5)"
   ]
  },
  {
   "cell_type": "markdown",
   "id": "16b5de7c-55d2-43eb-8c76-2dc4d4df9186",
   "metadata": {},
   "source": [
    "Еще раз взглянем на количество пропусков в датасете: "
   ]
  },
  {
   "cell_type": "code",
   "execution_count": 21,
   "id": "e0a1fd20-1b5c-4b1d-927c-96e67ab3755e",
   "metadata": {},
   "outputs": [
    {
     "data": {
      "text/html": [
       "<div>\n",
       "<style scoped>\n",
       "    .dataframe tbody tr th:only-of-type {\n",
       "        vertical-align: middle;\n",
       "    }\n",
       "\n",
       "    .dataframe tbody tr th {\n",
       "        vertical-align: top;\n",
       "    }\n",
       "\n",
       "    .dataframe thead th {\n",
       "        text-align: right;\n",
       "    }\n",
       "</style>\n",
       "<table border=\"1\" class=\"dataframe\">\n",
       "  <thead>\n",
       "    <tr style=\"text-align: right;\">\n",
       "      <th></th>\n",
       "      <th>Пропущено</th>\n",
       "      <th>% пропусков</th>\n",
       "    </tr>\n",
       "  </thead>\n",
       "  <tbody>\n",
       "    <tr>\n",
       "      <th>datecrawled</th>\n",
       "      <td>0</td>\n",
       "      <td>0.0</td>\n",
       "    </tr>\n",
       "    <tr>\n",
       "      <th>price</th>\n",
       "      <td>0</td>\n",
       "      <td>0.0</td>\n",
       "    </tr>\n",
       "    <tr>\n",
       "      <th>vehicle_type</th>\n",
       "      <td>0</td>\n",
       "      <td>0.0</td>\n",
       "    </tr>\n",
       "    <tr>\n",
       "      <th>registration_year</th>\n",
       "      <td>0</td>\n",
       "      <td>0.0</td>\n",
       "    </tr>\n",
       "    <tr>\n",
       "      <th>gearbox</th>\n",
       "      <td>0</td>\n",
       "      <td>0.0</td>\n",
       "    </tr>\n",
       "    <tr>\n",
       "      <th>power</th>\n",
       "      <td>0</td>\n",
       "      <td>0.0</td>\n",
       "    </tr>\n",
       "    <tr>\n",
       "      <th>model</th>\n",
       "      <td>0</td>\n",
       "      <td>0.0</td>\n",
       "    </tr>\n",
       "    <tr>\n",
       "      <th>kilometer</th>\n",
       "      <td>0</td>\n",
       "      <td>0.0</td>\n",
       "    </tr>\n",
       "    <tr>\n",
       "      <th>fuel_type</th>\n",
       "      <td>0</td>\n",
       "      <td>0.0</td>\n",
       "    </tr>\n",
       "    <tr>\n",
       "      <th>brand</th>\n",
       "      <td>0</td>\n",
       "      <td>0.0</td>\n",
       "    </tr>\n",
       "    <tr>\n",
       "      <th>repaired</th>\n",
       "      <td>0</td>\n",
       "      <td>0.0</td>\n",
       "    </tr>\n",
       "  </tbody>\n",
       "</table>\n",
       "</div>"
      ],
      "text/plain": [
       "                   Пропущено  % пропусков\n",
       "datecrawled                0          0.0\n",
       "price                      0          0.0\n",
       "vehicle_type               0          0.0\n",
       "registration_year          0          0.0\n",
       "gearbox                    0          0.0\n",
       "power                      0          0.0\n",
       "model                      0          0.0\n",
       "kilometer                  0          0.0\n",
       "fuel_type                  0          0.0\n",
       "brand                      0          0.0\n",
       "repaired                   0          0.0"
      ]
     },
     "execution_count": 21,
     "metadata": {},
     "output_type": "execute_result"
    }
   ],
   "source": [
    "miss_before = pd.DataFrame({\n",
    "    'Пропущено': data_auto.isna().sum(),\n",
    "    '% пропусков': data_auto.isna().mean() * 100\n",
    "}).sort_values(by = '% пропусков', ascending = False)\n",
    "miss_before"
   ]
  },
  {
   "cell_type": "markdown",
   "id": "5f65d5f9-d758-4f88-a5e8-9652cae69789",
   "metadata": {},
   "source": [
    "Отлично, от пропусков избавились !"
   ]
  },
  {
   "cell_type": "markdown",
   "id": "ec5cc615-b4e6-46e3-bc47-4a42f5bec86f",
   "metadata": {},
   "source": [
    "### 2.5 Проверка на явные/неявные дубликаты: "
   ]
  },
  {
   "cell_type": "code",
   "execution_count": 22,
   "id": "e167a35b-a393-4dff-9e87-8b022747a23b",
   "metadata": {},
   "outputs": [
    {
     "data": {
      "text/plain": [
       "25"
      ]
     },
     "execution_count": 22,
     "metadata": {},
     "output_type": "execute_result"
    }
   ],
   "source": [
    "data_auto.duplicated().sum() # выведим сумму явных дубликатов:"
   ]
  },
  {
   "cell_type": "code",
   "execution_count": 23,
   "id": "92bfdf01-6221-40cc-80a2-db0525baa3d8",
   "metadata": {},
   "outputs": [],
   "source": [
    "# удаляем полные дубликаты\n",
    "data_auto.drop_duplicates(inplace = True)"
   ]
  },
  {
   "cell_type": "markdown",
   "id": "e19f39bc-f1c0-4536-aa3c-4671310b88fd",
   "metadata": {},
   "source": [
    "Проверим датасет на неявные дубликаты : "
   ]
  },
  {
   "cell_type": "code",
   "execution_count": 24,
   "id": "16d0e91b-3817-4147-8a8e-035d80f12bba",
   "metadata": {},
   "outputs": [
    {
     "data": {
      "text/plain": [
       "array(['volkswagen', 'audi', 'jeep', 'skoda', 'bmw', 'peugeot', 'ford',\n",
       "       'mazda', 'nissan', 'renault', 'mercedes_benz', 'opel', 'seat',\n",
       "       'citroen', 'honda', 'fiat', 'mini', 'smart', 'hyundai',\n",
       "       'sonstige_autos', 'alfa_romeo', 'subaru', 'volvo', 'mitsubishi',\n",
       "       'kia', 'suzuki', 'lancia', 'toyota', 'chevrolet', 'dacia',\n",
       "       'daihatsu', 'trabant', 'saab', 'chrysler', 'jaguar', 'daewoo',\n",
       "       'porsche', 'rover', 'land_rover', 'lada'], dtype=object)"
      ]
     },
     "execution_count": 24,
     "metadata": {},
     "output_type": "execute_result"
    }
   ],
   "source": [
    "# В предыдущем пункте с удалением Nan мы уже смотрели уникальные значения столбцов, осталось проверить только `brand`\n",
    "data_auto['brand'].unique()"
   ]
  },
  {
   "cell_type": "markdown",
   "id": "27bb974f-38c2-43f3-87bd-237b6e566a14",
   "metadata": {},
   "source": [
    "Неявные дубликаты не обнаружены. "
   ]
  },
  {
   "cell_type": "code",
   "execution_count": 25,
   "id": "7769d22d-14bc-4434-a61e-c06017a881f4",
   "metadata": {},
   "outputs": [
    {
     "name": "stdout",
     "output_type": "stream",
     "text": [
      "<class 'pandas.core.frame.DataFrame'>\n",
      "Int64Index: 354344 entries, 0 to 354368\n",
      "Data columns (total 11 columns):\n",
      " #   Column             Non-Null Count   Dtype \n",
      "---  ------             --------------   ----- \n",
      " 0   datecrawled        354344 non-null  object\n",
      " 1   price              354344 non-null  int64 \n",
      " 2   vehicle_type       354344 non-null  object\n",
      " 3   registration_year  354344 non-null  int64 \n",
      " 4   gearbox            354344 non-null  object\n",
      " 5   power              354344 non-null  int64 \n",
      " 6   model              354344 non-null  object\n",
      " 7   kilometer          354344 non-null  int64 \n",
      " 8   fuel_type          354344 non-null  object\n",
      " 9   brand              354344 non-null  object\n",
      " 10  repaired           354344 non-null  object\n",
      "dtypes: int64(4), object(7)\n",
      "memory usage: 32.4+ MB\n"
     ]
    }
   ],
   "source": [
    "data_auto.info()"
   ]
  },
  {
   "cell_type": "markdown",
   "id": "279b55f1-b427-4b85-9c7f-c5fe17b02391",
   "metadata": {},
   "source": [
    "### Вывод: \n",
    "На этапе предобработки данных мы:\n",
    "- Удалили неинформативные столбцы;\n",
    "- Привели названия столбцов в общепринятый вид;\n",
    "- Обработали пропущенные значения - пропуски заполнены по смыслу медианными значениями либо заглушками;\n",
    "- Проверили датафрейм на явные/неявные дубликаты, удалено *47321* явных дубликатов.\n",
    "\n",
    "В итоговом виде у нас получилось **10** колонок на **354 344** ненулевых строк: \\\n",
    "Изучим содержимое в исследовательском анализе данных: "
   ]
  },
  {
   "cell_type": "markdown",
   "id": "6f009302-1142-4927-badf-8aa1f0036651",
   "metadata": {},
   "source": [
    "## Шаг 3. Исследовательский анализ данных:"
   ]
  },
  {
   "cell_type": "markdown",
   "id": "d2660ddf-ed51-4f6c-8619-2e6a1a1c9e42",
   "metadata": {},
   "source": [
    "1. Вызовем описательную функцию и построим гистограмму для *`price`*:"
   ]
  },
  {
   "cell_type": "code",
   "execution_count": 26,
   "id": "d93e6507-287c-4f26-b8fa-7869f17e2299",
   "metadata": {},
   "outputs": [
    {
     "data": {
      "text/plain": [
       "count    354344.000000\n",
       "mean       4416.561477\n",
       "std        4514.167328\n",
       "min           0.000000\n",
       "25%        1050.000000\n",
       "50%        2700.000000\n",
       "75%        6400.000000\n",
       "max       20000.000000\n",
       "Name: price, dtype: float64"
      ]
     },
     "execution_count": 26,
     "metadata": {},
     "output_type": "execute_result"
    }
   ],
   "source": [
    "data_auto['price'].describe()"
   ]
  },
  {
   "cell_type": "markdown",
   "id": "27df61b7-1ccf-402a-8f1a-3194c9975b47",
   "metadata": {},
   "source": [
    "Замечу, что минимальная цена равняется нулю, то есть имеются автомобили с некорректно заполненной ценой, посмотрим сколько таких объявлений:"
   ]
  },
  {
   "cell_type": "code",
   "execution_count": 27,
   "id": "b478eb45-4921-4a75-818d-d681c757d381",
   "metadata": {},
   "outputs": [
    {
     "data": {
      "text/html": [
       "<div>\n",
       "<style scoped>\n",
       "    .dataframe tbody tr th:only-of-type {\n",
       "        vertical-align: middle;\n",
       "    }\n",
       "\n",
       "    .dataframe tbody tr th {\n",
       "        vertical-align: top;\n",
       "    }\n",
       "\n",
       "    .dataframe thead th {\n",
       "        text-align: right;\n",
       "    }\n",
       "</style>\n",
       "<table border=\"1\" class=\"dataframe\">\n",
       "  <thead>\n",
       "    <tr style=\"text-align: right;\">\n",
       "      <th></th>\n",
       "      <th>datecrawled</th>\n",
       "      <th>price</th>\n",
       "      <th>vehicle_type</th>\n",
       "      <th>registration_year</th>\n",
       "      <th>gearbox</th>\n",
       "      <th>power</th>\n",
       "      <th>model</th>\n",
       "      <th>kilometer</th>\n",
       "      <th>fuel_type</th>\n",
       "      <th>brand</th>\n",
       "      <th>repaired</th>\n",
       "    </tr>\n",
       "  </thead>\n",
       "  <tbody>\n",
       "    <tr>\n",
       "      <th>7</th>\n",
       "      <td>2016-03-21 18:54:38</td>\n",
       "      <td>0</td>\n",
       "      <td>sedan</td>\n",
       "      <td>1980</td>\n",
       "      <td>manual</td>\n",
       "      <td>50</td>\n",
       "      <td>other</td>\n",
       "      <td>40000</td>\n",
       "      <td>petrol</td>\n",
       "      <td>volkswagen</td>\n",
       "      <td>no</td>\n",
       "    </tr>\n",
       "    <tr>\n",
       "      <th>40</th>\n",
       "      <td>2016-03-26 22:06:17</td>\n",
       "      <td>0</td>\n",
       "      <td>other</td>\n",
       "      <td>1990</td>\n",
       "      <td>unknown</td>\n",
       "      <td>0</td>\n",
       "      <td>corsa</td>\n",
       "      <td>150000</td>\n",
       "      <td>petrol</td>\n",
       "      <td>opel</td>\n",
       "      <td>unknown</td>\n",
       "    </tr>\n",
       "    <tr>\n",
       "      <th>111</th>\n",
       "      <td>2016-03-19 18:40:12</td>\n",
       "      <td>0</td>\n",
       "      <td>other</td>\n",
       "      <td>2017</td>\n",
       "      <td>manual</td>\n",
       "      <td>0</td>\n",
       "      <td>golf</td>\n",
       "      <td>5000</td>\n",
       "      <td>petrol</td>\n",
       "      <td>volkswagen</td>\n",
       "      <td>unknown</td>\n",
       "    </tr>\n",
       "    <tr>\n",
       "      <th>115</th>\n",
       "      <td>2016-03-20 18:53:27</td>\n",
       "      <td>0</td>\n",
       "      <td>small</td>\n",
       "      <td>1999</td>\n",
       "      <td>unknown</td>\n",
       "      <td>0</td>\n",
       "      <td>other</td>\n",
       "      <td>5000</td>\n",
       "      <td>petrol</td>\n",
       "      <td>volkswagen</td>\n",
       "      <td>unknown</td>\n",
       "    </tr>\n",
       "    <tr>\n",
       "      <th>152</th>\n",
       "      <td>2016-03-11 18:55:53</td>\n",
       "      <td>0</td>\n",
       "      <td>bus</td>\n",
       "      <td>2004</td>\n",
       "      <td>manual</td>\n",
       "      <td>101</td>\n",
       "      <td>meriva</td>\n",
       "      <td>150000</td>\n",
       "      <td>lpg</td>\n",
       "      <td>opel</td>\n",
       "      <td>yes</td>\n",
       "    </tr>\n",
       "    <tr>\n",
       "      <th>...</th>\n",
       "      <td>...</td>\n",
       "      <td>...</td>\n",
       "      <td>...</td>\n",
       "      <td>...</td>\n",
       "      <td>...</td>\n",
       "      <td>...</td>\n",
       "      <td>...</td>\n",
       "      <td>...</td>\n",
       "      <td>...</td>\n",
       "      <td>...</td>\n",
       "      <td>...</td>\n",
       "    </tr>\n",
       "    <tr>\n",
       "      <th>354205</th>\n",
       "      <td>2016-03-09 15:56:30</td>\n",
       "      <td>0</td>\n",
       "      <td>other</td>\n",
       "      <td>2000</td>\n",
       "      <td>manual</td>\n",
       "      <td>65</td>\n",
       "      <td>corsa</td>\n",
       "      <td>150000</td>\n",
       "      <td>petrol</td>\n",
       "      <td>opel</td>\n",
       "      <td>yes</td>\n",
       "    </tr>\n",
       "    <tr>\n",
       "      <th>354238</th>\n",
       "      <td>2016-03-20 14:55:07</td>\n",
       "      <td>0</td>\n",
       "      <td>small</td>\n",
       "      <td>2002</td>\n",
       "      <td>manual</td>\n",
       "      <td>60</td>\n",
       "      <td>fiesta</td>\n",
       "      <td>150000</td>\n",
       "      <td>petrol</td>\n",
       "      <td>ford</td>\n",
       "      <td>unknown</td>\n",
       "    </tr>\n",
       "    <tr>\n",
       "      <th>354248</th>\n",
       "      <td>2016-03-24 13:48:05</td>\n",
       "      <td>0</td>\n",
       "      <td>small</td>\n",
       "      <td>1999</td>\n",
       "      <td>manual</td>\n",
       "      <td>53</td>\n",
       "      <td>swift</td>\n",
       "      <td>150000</td>\n",
       "      <td>petrol</td>\n",
       "      <td>suzuki</td>\n",
       "      <td>unknown</td>\n",
       "    </tr>\n",
       "    <tr>\n",
       "      <th>354277</th>\n",
       "      <td>2016-03-10 22:55:50</td>\n",
       "      <td>0</td>\n",
       "      <td>small</td>\n",
       "      <td>1999</td>\n",
       "      <td>manual</td>\n",
       "      <td>37</td>\n",
       "      <td>arosa</td>\n",
       "      <td>150000</td>\n",
       "      <td>petrol</td>\n",
       "      <td>seat</td>\n",
       "      <td>yes</td>\n",
       "    </tr>\n",
       "    <tr>\n",
       "      <th>354364</th>\n",
       "      <td>2016-03-21 09:50:58</td>\n",
       "      <td>0</td>\n",
       "      <td>other</td>\n",
       "      <td>2005</td>\n",
       "      <td>manual</td>\n",
       "      <td>0</td>\n",
       "      <td>colt</td>\n",
       "      <td>150000</td>\n",
       "      <td>petrol</td>\n",
       "      <td>mitsubishi</td>\n",
       "      <td>yes</td>\n",
       "    </tr>\n",
       "  </tbody>\n",
       "</table>\n",
       "<p>10772 rows × 11 columns</p>\n",
       "</div>"
      ],
      "text/plain": [
       "                datecrawled  price vehicle_type  registration_year  gearbox  \\\n",
       "7       2016-03-21 18:54:38      0        sedan               1980   manual   \n",
       "40      2016-03-26 22:06:17      0        other               1990  unknown   \n",
       "111     2016-03-19 18:40:12      0        other               2017   manual   \n",
       "115     2016-03-20 18:53:27      0        small               1999  unknown   \n",
       "152     2016-03-11 18:55:53      0          bus               2004   manual   \n",
       "...                     ...    ...          ...                ...      ...   \n",
       "354205  2016-03-09 15:56:30      0        other               2000   manual   \n",
       "354238  2016-03-20 14:55:07      0        small               2002   manual   \n",
       "354248  2016-03-24 13:48:05      0        small               1999   manual   \n",
       "354277  2016-03-10 22:55:50      0        small               1999   manual   \n",
       "354364  2016-03-21 09:50:58      0        other               2005   manual   \n",
       "\n",
       "        power   model  kilometer fuel_type       brand repaired  \n",
       "7          50   other      40000    petrol  volkswagen       no  \n",
       "40          0   corsa     150000    petrol        opel  unknown  \n",
       "111         0    golf       5000    petrol  volkswagen  unknown  \n",
       "115         0   other       5000    petrol  volkswagen  unknown  \n",
       "152       101  meriva     150000       lpg        opel      yes  \n",
       "...       ...     ...        ...       ...         ...      ...  \n",
       "354205     65   corsa     150000    petrol        opel      yes  \n",
       "354238     60  fiesta     150000    petrol        ford  unknown  \n",
       "354248     53   swift     150000    petrol      suzuki  unknown  \n",
       "354277     37   arosa     150000    petrol        seat      yes  \n",
       "354364      0    colt     150000    petrol  mitsubishi      yes  \n",
       "\n",
       "[10772 rows x 11 columns]"
      ]
     },
     "execution_count": 27,
     "metadata": {},
     "output_type": "execute_result"
    }
   ],
   "source": [
    "data_auto.query('price == 0')"
   ]
  },
  {
   "cell_type": "markdown",
   "id": "c77ffb53-0c38-4b98-a050-2888670821f7",
   "metadata": {},
   "source": [
    "6990 строк с неопознанной ценой - предлагаю избавиться от этих автомобилей:"
   ]
  },
  {
   "cell_type": "code",
   "execution_count": 28,
   "id": "6796f9e8-8781-49e7-8485-720c23a3a242",
   "metadata": {},
   "outputs": [],
   "source": [
    "data_auto = data_auto.query('price != 0')"
   ]
  },
  {
   "cell_type": "markdown",
   "id": "331d4047-8f11-4cca-aef9-677173574ceb",
   "metadata": {},
   "source": [
    "Посмотрим, сколько у нас автомобилей вообще продаются по цене до 100 евро:"
   ]
  },
  {
   "cell_type": "code",
   "execution_count": 29,
   "id": "c308c101-e14c-44ae-86e4-9c3884f2921f",
   "metadata": {},
   "outputs": [
    {
     "data": {
      "text/html": [
       "<div>\n",
       "<style scoped>\n",
       "    .dataframe tbody tr th:only-of-type {\n",
       "        vertical-align: middle;\n",
       "    }\n",
       "\n",
       "    .dataframe tbody tr th {\n",
       "        vertical-align: top;\n",
       "    }\n",
       "\n",
       "    .dataframe thead th {\n",
       "        text-align: right;\n",
       "    }\n",
       "</style>\n",
       "<table border=\"1\" class=\"dataframe\">\n",
       "  <thead>\n",
       "    <tr style=\"text-align: right;\">\n",
       "      <th></th>\n",
       "      <th>datecrawled</th>\n",
       "      <th>price</th>\n",
       "      <th>vehicle_type</th>\n",
       "      <th>registration_year</th>\n",
       "      <th>gearbox</th>\n",
       "      <th>power</th>\n",
       "      <th>model</th>\n",
       "      <th>kilometer</th>\n",
       "      <th>fuel_type</th>\n",
       "      <th>brand</th>\n",
       "      <th>repaired</th>\n",
       "    </tr>\n",
       "  </thead>\n",
       "  <tbody>\n",
       "    <tr>\n",
       "      <th>59</th>\n",
       "      <td>2016-03-29 15:48:15</td>\n",
       "      <td>1</td>\n",
       "      <td>suv</td>\n",
       "      <td>1994</td>\n",
       "      <td>manual</td>\n",
       "      <td>286</td>\n",
       "      <td>other</td>\n",
       "      <td>150000</td>\n",
       "      <td>petrol</td>\n",
       "      <td>sonstige_autos</td>\n",
       "      <td>unknown</td>\n",
       "    </tr>\n",
       "    <tr>\n",
       "      <th>89</th>\n",
       "      <td>2016-03-28 09:37:01</td>\n",
       "      <td>1</td>\n",
       "      <td>sedan</td>\n",
       "      <td>1995</td>\n",
       "      <td>manual</td>\n",
       "      <td>113</td>\n",
       "      <td>e_klasse</td>\n",
       "      <td>150000</td>\n",
       "      <td>gasoline</td>\n",
       "      <td>mercedes_benz</td>\n",
       "      <td>no</td>\n",
       "    </tr>\n",
       "    <tr>\n",
       "      <th>268</th>\n",
       "      <td>2016-03-12 07:26:49</td>\n",
       "      <td>1</td>\n",
       "      <td>sedan</td>\n",
       "      <td>1990</td>\n",
       "      <td>manual</td>\n",
       "      <td>90</td>\n",
       "      <td>80</td>\n",
       "      <td>70000</td>\n",
       "      <td>petrol</td>\n",
       "      <td>audi</td>\n",
       "      <td>no</td>\n",
       "    </tr>\n",
       "    <tr>\n",
       "      <th>408</th>\n",
       "      <td>2016-03-29 18:51:58</td>\n",
       "      <td>1</td>\n",
       "      <td>other</td>\n",
       "      <td>2000</td>\n",
       "      <td>unknown</td>\n",
       "      <td>75</td>\n",
       "      <td>golf</td>\n",
       "      <td>90000</td>\n",
       "      <td>petrol</td>\n",
       "      <td>volkswagen</td>\n",
       "      <td>unknown</td>\n",
       "    </tr>\n",
       "    <tr>\n",
       "      <th>552</th>\n",
       "      <td>2016-03-21 10:52:52</td>\n",
       "      <td>50</td>\n",
       "      <td>other</td>\n",
       "      <td>1985</td>\n",
       "      <td>unknown</td>\n",
       "      <td>0</td>\n",
       "      <td>other</td>\n",
       "      <td>150000</td>\n",
       "      <td>petrol</td>\n",
       "      <td>trabant</td>\n",
       "      <td>unknown</td>\n",
       "    </tr>\n",
       "    <tr>\n",
       "      <th>...</th>\n",
       "      <td>...</td>\n",
       "      <td>...</td>\n",
       "      <td>...</td>\n",
       "      <td>...</td>\n",
       "      <td>...</td>\n",
       "      <td>...</td>\n",
       "      <td>...</td>\n",
       "      <td>...</td>\n",
       "      <td>...</td>\n",
       "      <td>...</td>\n",
       "      <td>...</td>\n",
       "    </tr>\n",
       "    <tr>\n",
       "      <th>353682</th>\n",
       "      <td>2016-03-07 13:53:17</td>\n",
       "      <td>1</td>\n",
       "      <td>bus</td>\n",
       "      <td>1999</td>\n",
       "      <td>manual</td>\n",
       "      <td>0</td>\n",
       "      <td>espace</td>\n",
       "      <td>150000</td>\n",
       "      <td>petrol</td>\n",
       "      <td>renault</td>\n",
       "      <td>unknown</td>\n",
       "    </tr>\n",
       "    <tr>\n",
       "      <th>353727</th>\n",
       "      <td>2016-03-20 17:56:59</td>\n",
       "      <td>1</td>\n",
       "      <td>other</td>\n",
       "      <td>2000</td>\n",
       "      <td>unknown</td>\n",
       "      <td>0</td>\n",
       "      <td>other</td>\n",
       "      <td>150000</td>\n",
       "      <td>petrol</td>\n",
       "      <td>bmw</td>\n",
       "      <td>unknown</td>\n",
       "    </tr>\n",
       "    <tr>\n",
       "      <th>354018</th>\n",
       "      <td>2016-03-14 20:53:59</td>\n",
       "      <td>100</td>\n",
       "      <td>small</td>\n",
       "      <td>1996</td>\n",
       "      <td>manual</td>\n",
       "      <td>0</td>\n",
       "      <td>polo</td>\n",
       "      <td>150000</td>\n",
       "      <td>petrol</td>\n",
       "      <td>volkswagen</td>\n",
       "      <td>unknown</td>\n",
       "    </tr>\n",
       "    <tr>\n",
       "      <th>354117</th>\n",
       "      <td>2016-03-28 14:38:14</td>\n",
       "      <td>1</td>\n",
       "      <td>wagon</td>\n",
       "      <td>1993</td>\n",
       "      <td>auto</td>\n",
       "      <td>217</td>\n",
       "      <td>5er</td>\n",
       "      <td>150000</td>\n",
       "      <td>petrol</td>\n",
       "      <td>bmw</td>\n",
       "      <td>unknown</td>\n",
       "    </tr>\n",
       "    <tr>\n",
       "      <th>354309</th>\n",
       "      <td>2016-03-09 22:37:41</td>\n",
       "      <td>99</td>\n",
       "      <td>small</td>\n",
       "      <td>1999</td>\n",
       "      <td>manual</td>\n",
       "      <td>60</td>\n",
       "      <td>arosa</td>\n",
       "      <td>150000</td>\n",
       "      <td>petrol</td>\n",
       "      <td>seat</td>\n",
       "      <td>yes</td>\n",
       "    </tr>\n",
       "  </tbody>\n",
       "</table>\n",
       "<p>3573 rows × 11 columns</p>\n",
       "</div>"
      ],
      "text/plain": [
       "                datecrawled  price vehicle_type  registration_year  gearbox  \\\n",
       "59      2016-03-29 15:48:15      1          suv               1994   manual   \n",
       "89      2016-03-28 09:37:01      1        sedan               1995   manual   \n",
       "268     2016-03-12 07:26:49      1        sedan               1990   manual   \n",
       "408     2016-03-29 18:51:58      1        other               2000  unknown   \n",
       "552     2016-03-21 10:52:52     50        other               1985  unknown   \n",
       "...                     ...    ...          ...                ...      ...   \n",
       "353682  2016-03-07 13:53:17      1          bus               1999   manual   \n",
       "353727  2016-03-20 17:56:59      1        other               2000  unknown   \n",
       "354018  2016-03-14 20:53:59    100        small               1996   manual   \n",
       "354117  2016-03-28 14:38:14      1        wagon               1993     auto   \n",
       "354309  2016-03-09 22:37:41     99        small               1999   manual   \n",
       "\n",
       "        power     model  kilometer fuel_type           brand repaired  \n",
       "59        286     other     150000    petrol  sonstige_autos  unknown  \n",
       "89        113  e_klasse     150000  gasoline   mercedes_benz       no  \n",
       "268        90        80      70000    petrol            audi       no  \n",
       "408        75      golf      90000    petrol      volkswagen  unknown  \n",
       "552         0     other     150000    petrol         trabant  unknown  \n",
       "...       ...       ...        ...       ...             ...      ...  \n",
       "353682      0    espace     150000    petrol         renault  unknown  \n",
       "353727      0     other     150000    petrol             bmw  unknown  \n",
       "354018      0      polo     150000    petrol      volkswagen  unknown  \n",
       "354117    217       5er     150000    petrol             bmw  unknown  \n",
       "354309     60     arosa     150000    petrol            seat      yes  \n",
       "\n",
       "[3573 rows x 11 columns]"
      ]
     },
     "execution_count": 29,
     "metadata": {},
     "output_type": "execute_result"
    }
   ],
   "source": [
    "data_auto.query('price <= 100')"
   ]
  },
  {
   "cell_type": "markdown",
   "id": "91ca627f-3e3e-40b8-b61b-3c6ab1506519",
   "metadata": {},
   "source": [
    "Как видно выше - в продаже имеются **2746** позиций по цене от *1* евро до *100*, на мой взгляд - эти данные `аномальные`, либо это атракцион невиданной щедрости, что маловероятно, либо это опечатка при подаче объявления. \\\n",
    "Предлагаю установить минимальный порог цены хотябы в 50 евро. "
   ]
  },
  {
   "cell_type": "code",
   "execution_count": 30,
   "id": "320ce8ae-ff15-4a33-946f-6658631a05f4",
   "metadata": {},
   "outputs": [],
   "source": [
    "data_auto = data_auto.query('price >= 50')"
   ]
  },
  {
   "cell_type": "markdown",
   "id": "67e48ae9-3eb3-47fd-84e2-850cf7a283b2",
   "metadata": {},
   "source": [
    "Построим гистограмму распределения автомобилей по цене: "
   ]
  },
  {
   "cell_type": "code",
   "execution_count": 31,
   "id": "823a1e48-dfc2-49ef-961a-5cfd5ccbc81c",
   "metadata": {},
   "outputs": [
    {
     "data": {
      "image/png": "[encoded data removed]",
      "text/plain": [
       "<Figure size 576x432 with 1 Axes>"
      ]
     },
     "metadata": {
      "needs_background": "light"
     },
     "output_type": "display_data"
    }
   ],
   "source": [
    "plt.figure(figsize = (8, 6))\n",
    "sns.histplot(data = data_auto, bins = 50,  \n",
    "             x = 'price',\n",
    "             color = 'limegreen', \n",
    "             alpha = 0.6)\n",
    "plt.title('Гистограмма:  \\n \"Распределение цен на авто\"', size = 15)\n",
    "plt.xlabel('Цена автомобиля, евро', size = 12)\n",
    "plt.ylabel('Количество автомобилей, шт', size = 12)\n",
    "plt.grid(True)\n",
    "plt.show()"
   ]
  },
  {
   "cell_type": "markdown",
   "id": "d46372fb-e4e2-4a90-8b71-006b2f624a68",
   "metadata": {},
   "source": [
    "Тип распределения похож на нормальное со сдвигом влево, средняя цена продажи авто составляет порядка 4750 евро. "
   ]
  },
  {
   "cell_type": "code",
   "execution_count": 32,
   "id": "c5f1adf9-5215-44fa-a3ba-fcaa427da21f",
   "metadata": {},
   "outputs": [
    {
     "data": {
      "image/png": "[encoded data removed]",
      "text/plain": [
       "<Figure size 432x288 with 1 Axes>"
      ]
     },
     "metadata": {
      "needs_background": "light"
     },
     "output_type": "display_data"
    }
   ],
   "source": [
    "sns.boxplot(data_auto['price'])\n",
    "plt.title('График ящик с усами для \\n \"Цены автомобилей\"', size = 15)\n",
    "plt.ylabel('Количество автомобилей, шт', size = 10)\n",
    "plt.show()"
   ]
  },
  {
   "cell_type": "markdown",
   "id": "04e7cafc-831c-4f4e-b2ce-f90b22cd0a7b",
   "metadata": {},
   "source": [
    "Как видно из боксплота - автомобили с ценой выше 15 000 евро, считаются выбросами. Выбросы будут сказываться на моделировании, однако избавляться мы от них не будем, так как они вполне могут быть обоснованы наличием премиальных автомобилей по высокой цене. "
   ]
  },
  {
   "cell_type": "markdown",
   "id": "89458e2a-7561-473c-8f70-682250d0f4ea",
   "metadata": {},
   "source": [
    "2. Построим круговую диаграмму для *`vehicle_type`*\t:"
   ]
  },
  {
   "cell_type": "code",
   "execution_count": 33,
   "id": "8f3b7a8d-4ae8-4352-afc2-962c2cd69fa8",
   "metadata": {},
   "outputs": [
    {
     "data": {
      "image/png": "[encoded data removed]",
      "text/plain": [
       "<Figure size 360x360 with 1 Axes>"
      ]
     },
     "metadata": {},
     "output_type": "display_data"
    }
   ],
   "source": [
    "(\n",
    "    data_auto\n",
    "    .groupby('vehicle_type')['vehicle_type']\n",
    "    .count()\n",
    "    .plot(kind = 'pie', figsize = (5, 5), autopct = '%1.1f%%')\n",
    ")\n",
    "plt.xticks(rotation=45)\n",
    "plt.title('Соотношение типов автомобильного кузова', size = 15)\n",
    "plt.xlabel(' ')\n",
    "plt.ylabel(' ')\n",
    "plt.show()"
   ]
  },
  {
   "cell_type": "markdown",
   "id": "6ca21391-ddb8-4874-8348-7ef69204705e",
   "metadata": {},
   "source": [
    "Наибольшую долю среди продающихся авто занимают седаны, в то время как меньше всего продают внедорожники. "
   ]
  },
  {
   "cell_type": "markdown",
   "id": "8352dada-3871-4122-ac86-125eba69122b",
   "metadata": {},
   "source": [
    "3. Вызовем описательную функцию и построим гистограмму для *`registration_year`*:"
   ]
  },
  {
   "cell_type": "code",
   "execution_count": 34,
   "id": "9f867c57-6bd8-4556-b7c3-f90557fd2629",
   "metadata": {},
   "outputs": [
    {
     "data": {
      "text/plain": [
       "count    341921.000000\n",
       "mean       2004.079849\n",
       "std          77.073335\n",
       "min        1000.000000\n",
       "25%        1999.000000\n",
       "50%        2003.000000\n",
       "75%        2008.000000\n",
       "max        9999.000000\n",
       "Name: registration_year, dtype: float64"
      ]
     },
     "execution_count": 34,
     "metadata": {},
     "output_type": "execute_result"
    }
   ],
   "source": [
    "data_auto['registration_year'].describe()"
   ]
  },
  {
   "cell_type": "markdown",
   "id": "2b7f5083-7b04-4b8e-9061-c81da108c95e",
   "metadata": {},
   "source": [
    "В данном столбце у нас так же имеются аномалии, **1000** год и **9999** год - явно являются результатами опечаток или ошибок при переносе данных. "
   ]
  },
  {
   "cell_type": "code",
   "execution_count": 35,
   "id": "2d681f82-715d-4786-b5ba-fdc3533aaa5b",
   "metadata": {},
   "outputs": [
    {
     "data": {
      "text/html": [
       "<div>\n",
       "<style scoped>\n",
       "    .dataframe tbody tr th:only-of-type {\n",
       "        vertical-align: middle;\n",
       "    }\n",
       "\n",
       "    .dataframe tbody tr th {\n",
       "        vertical-align: top;\n",
       "    }\n",
       "\n",
       "    .dataframe thead th {\n",
       "        text-align: right;\n",
       "    }\n",
       "</style>\n",
       "<table border=\"1\" class=\"dataframe\">\n",
       "  <thead>\n",
       "    <tr style=\"text-align: right;\">\n",
       "      <th></th>\n",
       "      <th>datecrawled</th>\n",
       "      <th>price</th>\n",
       "      <th>vehicle_type</th>\n",
       "      <th>registration_year</th>\n",
       "      <th>gearbox</th>\n",
       "      <th>power</th>\n",
       "      <th>model</th>\n",
       "      <th>kilometer</th>\n",
       "      <th>fuel_type</th>\n",
       "      <th>brand</th>\n",
       "      <th>repaired</th>\n",
       "    </tr>\n",
       "  </thead>\n",
       "  <tbody>\n",
       "    <tr>\n",
       "      <th>17271</th>\n",
       "      <td>2016-03-23 16:43:29</td>\n",
       "      <td>700</td>\n",
       "      <td>other</td>\n",
       "      <td>9999</td>\n",
       "      <td>unknown</td>\n",
       "      <td>0</td>\n",
       "      <td>other</td>\n",
       "      <td>10000</td>\n",
       "      <td>petrol</td>\n",
       "      <td>opel</td>\n",
       "      <td>unknown</td>\n",
       "    </tr>\n",
       "    <tr>\n",
       "      <th>28390</th>\n",
       "      <td>2016-04-05 08:57:08</td>\n",
       "      <td>799</td>\n",
       "      <td>other</td>\n",
       "      <td>9999</td>\n",
       "      <td>unknown</td>\n",
       "      <td>0</td>\n",
       "      <td>3er</td>\n",
       "      <td>10000</td>\n",
       "      <td>petrol</td>\n",
       "      <td>bmw</td>\n",
       "      <td>unknown</td>\n",
       "    </tr>\n",
       "    <tr>\n",
       "      <th>28965</th>\n",
       "      <td>2016-04-04 22:54:47</td>\n",
       "      <td>18000</td>\n",
       "      <td>other</td>\n",
       "      <td>9999</td>\n",
       "      <td>unknown</td>\n",
       "      <td>0</td>\n",
       "      <td>a_klasse</td>\n",
       "      <td>10000</td>\n",
       "      <td>petrol</td>\n",
       "      <td>mercedes_benz</td>\n",
       "      <td>unknown</td>\n",
       "    </tr>\n",
       "    <tr>\n",
       "      <th>29426</th>\n",
       "      <td>2016-03-23 21:52:25</td>\n",
       "      <td>7999</td>\n",
       "      <td>other</td>\n",
       "      <td>9999</td>\n",
       "      <td>unknown</td>\n",
       "      <td>0</td>\n",
       "      <td>kaefer</td>\n",
       "      <td>10000</td>\n",
       "      <td>petrol</td>\n",
       "      <td>volkswagen</td>\n",
       "      <td>unknown</td>\n",
       "    </tr>\n",
       "    <tr>\n",
       "      <th>50141</th>\n",
       "      <td>2016-03-14 22:54:43</td>\n",
       "      <td>50</td>\n",
       "      <td>other</td>\n",
       "      <td>9999</td>\n",
       "      <td>unknown</td>\n",
       "      <td>0</td>\n",
       "      <td>911</td>\n",
       "      <td>10000</td>\n",
       "      <td>petrol</td>\n",
       "      <td>porsche</td>\n",
       "      <td>unknown</td>\n",
       "    </tr>\n",
       "    <tr>\n",
       "      <th>62395</th>\n",
       "      <td>2016-03-16 23:54:17</td>\n",
       "      <td>55</td>\n",
       "      <td>other</td>\n",
       "      <td>9999</td>\n",
       "      <td>unknown</td>\n",
       "      <td>0</td>\n",
       "      <td>other</td>\n",
       "      <td>10000</td>\n",
       "      <td>petrol</td>\n",
       "      <td>volkswagen</td>\n",
       "      <td>unknown</td>\n",
       "    </tr>\n",
       "    <tr>\n",
       "      <th>128677</th>\n",
       "      <td>2016-03-14 14:51:56</td>\n",
       "      <td>1550</td>\n",
       "      <td>other</td>\n",
       "      <td>9999</td>\n",
       "      <td>unknown</td>\n",
       "      <td>95</td>\n",
       "      <td>other</td>\n",
       "      <td>10000</td>\n",
       "      <td>petrol</td>\n",
       "      <td>volkswagen</td>\n",
       "      <td>unknown</td>\n",
       "    </tr>\n",
       "    <tr>\n",
       "      <th>149151</th>\n",
       "      <td>2016-04-02 18:57:33</td>\n",
       "      <td>400</td>\n",
       "      <td>other</td>\n",
       "      <td>9999</td>\n",
       "      <td>unknown</td>\n",
       "      <td>0</td>\n",
       "      <td>other</td>\n",
       "      <td>10000</td>\n",
       "      <td>petrol</td>\n",
       "      <td>sonstige_autos</td>\n",
       "      <td>unknown</td>\n",
       "    </tr>\n",
       "    <tr>\n",
       "      <th>167937</th>\n",
       "      <td>2016-03-23 13:49:51</td>\n",
       "      <td>1000</td>\n",
       "      <td>other</td>\n",
       "      <td>9999</td>\n",
       "      <td>unknown</td>\n",
       "      <td>0</td>\n",
       "      <td>other</td>\n",
       "      <td>10000</td>\n",
       "      <td>petrol</td>\n",
       "      <td>mazda</td>\n",
       "      <td>unknown</td>\n",
       "    </tr>\n",
       "    <tr>\n",
       "      <th>200525</th>\n",
       "      <td>2016-03-22 15:56:52</td>\n",
       "      <td>850</td>\n",
       "      <td>other</td>\n",
       "      <td>9999</td>\n",
       "      <td>unknown</td>\n",
       "      <td>0</td>\n",
       "      <td>other</td>\n",
       "      <td>10000</td>\n",
       "      <td>petrol</td>\n",
       "      <td>mazda</td>\n",
       "      <td>unknown</td>\n",
       "    </tr>\n",
       "    <tr>\n",
       "      <th>217111</th>\n",
       "      <td>2016-03-26 13:55:09</td>\n",
       "      <td>850</td>\n",
       "      <td>other</td>\n",
       "      <td>9999</td>\n",
       "      <td>unknown</td>\n",
       "      <td>0</td>\n",
       "      <td>3er</td>\n",
       "      <td>10000</td>\n",
       "      <td>petrol</td>\n",
       "      <td>bmw</td>\n",
       "      <td>no</td>\n",
       "    </tr>\n",
       "    <tr>\n",
       "      <th>227462</th>\n",
       "      <td>2016-03-14 12:51:55</td>\n",
       "      <td>2850</td>\n",
       "      <td>other</td>\n",
       "      <td>9999</td>\n",
       "      <td>unknown</td>\n",
       "      <td>0</td>\n",
       "      <td>other</td>\n",
       "      <td>10000</td>\n",
       "      <td>petrol</td>\n",
       "      <td>fiat</td>\n",
       "      <td>unknown</td>\n",
       "    </tr>\n",
       "    <tr>\n",
       "      <th>257793</th>\n",
       "      <td>2016-03-19 14:43:36</td>\n",
       "      <td>50</td>\n",
       "      <td>other</td>\n",
       "      <td>9999</td>\n",
       "      <td>unknown</td>\n",
       "      <td>0</td>\n",
       "      <td>other</td>\n",
       "      <td>10000</td>\n",
       "      <td>petrol</td>\n",
       "      <td>hyundai</td>\n",
       "      <td>unknown</td>\n",
       "    </tr>\n",
       "    <tr>\n",
       "      <th>268091</th>\n",
       "      <td>2016-03-31 00:56:44</td>\n",
       "      <td>150</td>\n",
       "      <td>other</td>\n",
       "      <td>9999</td>\n",
       "      <td>unknown</td>\n",
       "      <td>0</td>\n",
       "      <td>other</td>\n",
       "      <td>10000</td>\n",
       "      <td>petrol</td>\n",
       "      <td>sonstige_autos</td>\n",
       "      <td>unknown</td>\n",
       "    </tr>\n",
       "    <tr>\n",
       "      <th>301279</th>\n",
       "      <td>2016-03-20 15:06:24</td>\n",
       "      <td>19000</td>\n",
       "      <td>other</td>\n",
       "      <td>9999</td>\n",
       "      <td>unknown</td>\n",
       "      <td>0</td>\n",
       "      <td>transporter</td>\n",
       "      <td>10000</td>\n",
       "      <td>petrol</td>\n",
       "      <td>volkswagen</td>\n",
       "      <td>unknown</td>\n",
       "    </tr>\n",
       "    <tr>\n",
       "      <th>306578</th>\n",
       "      <td>2016-03-22 15:50:24</td>\n",
       "      <td>350</td>\n",
       "      <td>other</td>\n",
       "      <td>9999</td>\n",
       "      <td>unknown</td>\n",
       "      <td>0</td>\n",
       "      <td>kaefer</td>\n",
       "      <td>10000</td>\n",
       "      <td>petrol</td>\n",
       "      <td>volkswagen</td>\n",
       "      <td>unknown</td>\n",
       "    </tr>\n",
       "    <tr>\n",
       "      <th>326725</th>\n",
       "      <td>2016-03-14 14:46:40</td>\n",
       "      <td>60</td>\n",
       "      <td>other</td>\n",
       "      <td>9999</td>\n",
       "      <td>unknown</td>\n",
       "      <td>0</td>\n",
       "      <td>c4</td>\n",
       "      <td>10000</td>\n",
       "      <td>petrol</td>\n",
       "      <td>citroen</td>\n",
       "      <td>unknown</td>\n",
       "    </tr>\n",
       "    <tr>\n",
       "      <th>331753</th>\n",
       "      <td>2016-03-28 19:39:11</td>\n",
       "      <td>99</td>\n",
       "      <td>other</td>\n",
       "      <td>9999</td>\n",
       "      <td>unknown</td>\n",
       "      <td>0</td>\n",
       "      <td>1er</td>\n",
       "      <td>10000</td>\n",
       "      <td>petrol</td>\n",
       "      <td>bmw</td>\n",
       "      <td>unknown</td>\n",
       "    </tr>\n",
       "  </tbody>\n",
       "</table>\n",
       "</div>"
      ],
      "text/plain": [
       "                datecrawled  price vehicle_type  registration_year  gearbox  \\\n",
       "17271   2016-03-23 16:43:29    700        other               9999  unknown   \n",
       "28390   2016-04-05 08:57:08    799        other               9999  unknown   \n",
       "28965   2016-04-04 22:54:47  18000        other               9999  unknown   \n",
       "29426   2016-03-23 21:52:25   7999        other               9999  unknown   \n",
       "50141   2016-03-14 22:54:43     50        other               9999  unknown   \n",
       "62395   2016-03-16 23:54:17     55        other               9999  unknown   \n",
       "128677  2016-03-14 14:51:56   1550        other               9999  unknown   \n",
       "149151  2016-04-02 18:57:33    400        other               9999  unknown   \n",
       "167937  2016-03-23 13:49:51   1000        other               9999  unknown   \n",
       "200525  2016-03-22 15:56:52    850        other               9999  unknown   \n",
       "217111  2016-03-26 13:55:09    850        other               9999  unknown   \n",
       "227462  2016-03-14 12:51:55   2850        other               9999  unknown   \n",
       "257793  2016-03-19 14:43:36     50        other               9999  unknown   \n",
       "268091  2016-03-31 00:56:44    150        other               9999  unknown   \n",
       "301279  2016-03-20 15:06:24  19000        other               9999  unknown   \n",
       "306578  2016-03-22 15:50:24    350        other               9999  unknown   \n",
       "326725  2016-03-14 14:46:40     60        other               9999  unknown   \n",
       "331753  2016-03-28 19:39:11     99        other               9999  unknown   \n",
       "\n",
       "        power        model  kilometer fuel_type           brand repaired  \n",
       "17271       0        other      10000    petrol            opel  unknown  \n",
       "28390       0          3er      10000    petrol             bmw  unknown  \n",
       "28965       0     a_klasse      10000    petrol   mercedes_benz  unknown  \n",
       "29426       0       kaefer      10000    petrol      volkswagen  unknown  \n",
       "50141       0          911      10000    petrol         porsche  unknown  \n",
       "62395       0        other      10000    petrol      volkswagen  unknown  \n",
       "128677     95        other      10000    petrol      volkswagen  unknown  \n",
       "149151      0        other      10000    petrol  sonstige_autos  unknown  \n",
       "167937      0        other      10000    petrol           mazda  unknown  \n",
       "200525      0        other      10000    petrol           mazda  unknown  \n",
       "217111      0          3er      10000    petrol             bmw       no  \n",
       "227462      0        other      10000    petrol            fiat  unknown  \n",
       "257793      0        other      10000    petrol         hyundai  unknown  \n",
       "268091      0        other      10000    petrol  sonstige_autos  unknown  \n",
       "301279      0  transporter      10000    petrol      volkswagen  unknown  \n",
       "306578      0       kaefer      10000    petrol      volkswagen  unknown  \n",
       "326725      0           c4      10000    petrol         citroen  unknown  \n",
       "331753      0          1er      10000    petrol             bmw  unknown  "
      ]
     },
     "execution_count": 35,
     "metadata": {},
     "output_type": "execute_result"
    }
   ],
   "source": [
    "data_auto.query('registration_year == 9999')"
   ]
  },
  {
   "cell_type": "code",
   "execution_count": 36,
   "id": "8168ba90-78b5-43d5-a551-7a0598b8d99d",
   "metadata": {},
   "outputs": [
    {
     "data": {
      "text/html": [
       "<div>\n",
       "<style scoped>\n",
       "    .dataframe tbody tr th:only-of-type {\n",
       "        vertical-align: middle;\n",
       "    }\n",
       "\n",
       "    .dataframe tbody tr th {\n",
       "        vertical-align: top;\n",
       "    }\n",
       "\n",
       "    .dataframe thead th {\n",
       "        text-align: right;\n",
       "    }\n",
       "</style>\n",
       "<table border=\"1\" class=\"dataframe\">\n",
       "  <thead>\n",
       "    <tr style=\"text-align: right;\">\n",
       "      <th></th>\n",
       "      <th>datecrawled</th>\n",
       "      <th>price</th>\n",
       "      <th>vehicle_type</th>\n",
       "      <th>registration_year</th>\n",
       "      <th>gearbox</th>\n",
       "      <th>power</th>\n",
       "      <th>model</th>\n",
       "      <th>kilometer</th>\n",
       "      <th>fuel_type</th>\n",
       "      <th>brand</th>\n",
       "      <th>repaired</th>\n",
       "    </tr>\n",
       "  </thead>\n",
       "  <tbody>\n",
       "    <tr>\n",
       "      <th>16062</th>\n",
       "      <td>2016-03-29 23:42:16</td>\n",
       "      <td>190</td>\n",
       "      <td>other</td>\n",
       "      <td>1000</td>\n",
       "      <td>unknown</td>\n",
       "      <td>0</td>\n",
       "      <td>mondeo</td>\n",
       "      <td>5000</td>\n",
       "      <td>petrol</td>\n",
       "      <td>ford</td>\n",
       "      <td>unknown</td>\n",
       "    </tr>\n",
       "    <tr>\n",
       "      <th>53577</th>\n",
       "      <td>2016-03-20 11:44:28</td>\n",
       "      <td>330</td>\n",
       "      <td>other</td>\n",
       "      <td>1000</td>\n",
       "      <td>unknown</td>\n",
       "      <td>0</td>\n",
       "      <td>polo</td>\n",
       "      <td>5000</td>\n",
       "      <td>petrol</td>\n",
       "      <td>volkswagen</td>\n",
       "      <td>unknown</td>\n",
       "    </tr>\n",
       "    <tr>\n",
       "      <th>55605</th>\n",
       "      <td>2016-03-10 19:50:17</td>\n",
       "      <td>500</td>\n",
       "      <td>other</td>\n",
       "      <td>1000</td>\n",
       "      <td>unknown</td>\n",
       "      <td>0</td>\n",
       "      <td>other</td>\n",
       "      <td>5000</td>\n",
       "      <td>petrol</td>\n",
       "      <td>citroen</td>\n",
       "      <td>yes</td>\n",
       "    </tr>\n",
       "    <tr>\n",
       "      <th>60017</th>\n",
       "      <td>2016-03-10 12:38:01</td>\n",
       "      <td>80</td>\n",
       "      <td>other</td>\n",
       "      <td>1000</td>\n",
       "      <td>unknown</td>\n",
       "      <td>0</td>\n",
       "      <td>other</td>\n",
       "      <td>5000</td>\n",
       "      <td>petrol</td>\n",
       "      <td>volkswagen</td>\n",
       "      <td>unknown</td>\n",
       "    </tr>\n",
       "    <tr>\n",
       "      <th>66198</th>\n",
       "      <td>2016-03-08 14:50:20</td>\n",
       "      <td>1300</td>\n",
       "      <td>other</td>\n",
       "      <td>1000</td>\n",
       "      <td>auto</td>\n",
       "      <td>0</td>\n",
       "      <td>other</td>\n",
       "      <td>5000</td>\n",
       "      <td>petrol</td>\n",
       "      <td>sonstige_autos</td>\n",
       "      <td>unknown</td>\n",
       "    </tr>\n",
       "    <tr>\n",
       "      <th>...</th>\n",
       "      <td>...</td>\n",
       "      <td>...</td>\n",
       "      <td>...</td>\n",
       "      <td>...</td>\n",
       "      <td>...</td>\n",
       "      <td>...</td>\n",
       "      <td>...</td>\n",
       "      <td>...</td>\n",
       "      <td>...</td>\n",
       "      <td>...</td>\n",
       "      <td>...</td>\n",
       "    </tr>\n",
       "    <tr>\n",
       "      <th>243656</th>\n",
       "      <td>2016-03-29 16:52:03</td>\n",
       "      <td>2500</td>\n",
       "      <td>other</td>\n",
       "      <td>1000</td>\n",
       "      <td>unknown</td>\n",
       "      <td>34</td>\n",
       "      <td>other</td>\n",
       "      <td>5000</td>\n",
       "      <td>petrol</td>\n",
       "      <td>sonstige_autos</td>\n",
       "      <td>unknown</td>\n",
       "    </tr>\n",
       "    <tr>\n",
       "      <th>244092</th>\n",
       "      <td>2016-03-26 19:52:56</td>\n",
       "      <td>2000</td>\n",
       "      <td>other</td>\n",
       "      <td>1000</td>\n",
       "      <td>unknown</td>\n",
       "      <td>0</td>\n",
       "      <td>other</td>\n",
       "      <td>5000</td>\n",
       "      <td>petrol</td>\n",
       "      <td>sonstige_autos</td>\n",
       "      <td>unknown</td>\n",
       "    </tr>\n",
       "    <tr>\n",
       "      <th>256532</th>\n",
       "      <td>2016-03-05 17:44:47</td>\n",
       "      <td>12500</td>\n",
       "      <td>other</td>\n",
       "      <td>1000</td>\n",
       "      <td>unknown</td>\n",
       "      <td>200</td>\n",
       "      <td>golf</td>\n",
       "      <td>5000</td>\n",
       "      <td>petrol</td>\n",
       "      <td>volkswagen</td>\n",
       "      <td>unknown</td>\n",
       "    </tr>\n",
       "    <tr>\n",
       "      <th>275472</th>\n",
       "      <td>2016-04-05 11:39:14</td>\n",
       "      <td>530</td>\n",
       "      <td>other</td>\n",
       "      <td>1000</td>\n",
       "      <td>unknown</td>\n",
       "      <td>0</td>\n",
       "      <td>300c</td>\n",
       "      <td>5000</td>\n",
       "      <td>petrol</td>\n",
       "      <td>chrysler</td>\n",
       "      <td>unknown</td>\n",
       "    </tr>\n",
       "    <tr>\n",
       "      <th>325739</th>\n",
       "      <td>2016-03-30 11:36:35</td>\n",
       "      <td>400</td>\n",
       "      <td>other</td>\n",
       "      <td>1000</td>\n",
       "      <td>unknown</td>\n",
       "      <td>0</td>\n",
       "      <td>other</td>\n",
       "      <td>5000</td>\n",
       "      <td>petrol</td>\n",
       "      <td>mercedes_benz</td>\n",
       "      <td>unknown</td>\n",
       "    </tr>\n",
       "  </tbody>\n",
       "</table>\n",
       "<p>25 rows × 11 columns</p>\n",
       "</div>"
      ],
      "text/plain": [
       "                datecrawled  price vehicle_type  registration_year  gearbox  \\\n",
       "16062   2016-03-29 23:42:16    190        other               1000  unknown   \n",
       "53577   2016-03-20 11:44:28    330        other               1000  unknown   \n",
       "55605   2016-03-10 19:50:17    500        other               1000  unknown   \n",
       "60017   2016-03-10 12:38:01     80        other               1000  unknown   \n",
       "66198   2016-03-08 14:50:20   1300        other               1000     auto   \n",
       "...                     ...    ...          ...                ...      ...   \n",
       "243656  2016-03-29 16:52:03   2500        other               1000  unknown   \n",
       "244092  2016-03-26 19:52:56   2000        other               1000  unknown   \n",
       "256532  2016-03-05 17:44:47  12500        other               1000  unknown   \n",
       "275472  2016-04-05 11:39:14    530        other               1000  unknown   \n",
       "325739  2016-03-30 11:36:35    400        other               1000  unknown   \n",
       "\n",
       "        power   model  kilometer fuel_type           brand repaired  \n",
       "16062       0  mondeo       5000    petrol            ford  unknown  \n",
       "53577       0    polo       5000    petrol      volkswagen  unknown  \n",
       "55605       0   other       5000    petrol         citroen      yes  \n",
       "60017       0   other       5000    petrol      volkswagen  unknown  \n",
       "66198       0   other       5000    petrol  sonstige_autos  unknown  \n",
       "...       ...     ...        ...       ...             ...      ...  \n",
       "243656     34   other       5000    petrol  sonstige_autos  unknown  \n",
       "244092      0   other       5000    petrol  sonstige_autos  unknown  \n",
       "256532    200    golf       5000    petrol      volkswagen  unknown  \n",
       "275472      0    300c       5000    petrol        chrysler  unknown  \n",
       "325739      0   other       5000    petrol   mercedes_benz  unknown  \n",
       "\n",
       "[25 rows x 11 columns]"
      ]
     },
     "execution_count": 36,
     "metadata": {},
     "output_type": "execute_result"
    }
   ],
   "source": [
    "data_auto.query('registration_year == 1000')"
   ]
  },
  {
   "cell_type": "markdown",
   "id": "e1b94c27-4842-4c30-af7b-6e23b1f95af9",
   "metadata": {},
   "source": [
    "Минимумы и максимумы посмотрели, аномалий не много - нужно взглянуть, какие аномалии ещё присутвуют: "
   ]
  },
  {
   "cell_type": "code",
   "execution_count": 37,
   "id": "a68569f9-9365-4ed1-89d8-146c1d5cd18d",
   "metadata": {},
   "outputs": [
    {
     "data": {
      "text/plain": [
       "2000    22817\n",
       "1999    21894\n",
       "2005    21401\n",
       "2006    19650\n",
       "2001    19588\n",
       "        ...  \n",
       "1949        1\n",
       "2222        1\n",
       "5300        1\n",
       "8888        1\n",
       "2290        1\n",
       "Name: registration_year, Length: 139, dtype: int64"
      ]
     },
     "execution_count": 37,
     "metadata": {},
     "output_type": "execute_result"
    }
   ],
   "source": [
    "data_auto['registration_year'].value_counts()"
   ]
  },
  {
   "cell_type": "code",
   "execution_count": 38,
   "id": "d361be81-28b2-42a0-8aec-bc49443f066c",
   "metadata": {},
   "outputs": [
    {
     "data": {
      "text/html": [
       "<div>\n",
       "<style scoped>\n",
       "    .dataframe tbody tr th:only-of-type {\n",
       "        vertical-align: middle;\n",
       "    }\n",
       "\n",
       "    .dataframe tbody tr th {\n",
       "        vertical-align: top;\n",
       "    }\n",
       "\n",
       "    .dataframe thead th {\n",
       "        text-align: right;\n",
       "    }\n",
       "</style>\n",
       "<table border=\"1\" class=\"dataframe\">\n",
       "  <thead>\n",
       "    <tr style=\"text-align: right;\">\n",
       "      <th></th>\n",
       "      <th>datecrawled</th>\n",
       "      <th>price</th>\n",
       "      <th>vehicle_type</th>\n",
       "      <th>registration_year</th>\n",
       "      <th>gearbox</th>\n",
       "      <th>power</th>\n",
       "      <th>model</th>\n",
       "      <th>kilometer</th>\n",
       "      <th>fuel_type</th>\n",
       "      <th>brand</th>\n",
       "      <th>repaired</th>\n",
       "    </tr>\n",
       "  </thead>\n",
       "  <tbody>\n",
       "    <tr>\n",
       "      <th>15</th>\n",
       "      <td>2016-03-11 21:39:15</td>\n",
       "      <td>450</td>\n",
       "      <td>small</td>\n",
       "      <td>1910</td>\n",
       "      <td>unknown</td>\n",
       "      <td>0</td>\n",
       "      <td>ka</td>\n",
       "      <td>5000</td>\n",
       "      <td>petrol</td>\n",
       "      <td>ford</td>\n",
       "      <td>unknown</td>\n",
       "    </tr>\n",
       "    <tr>\n",
       "      <th>6977</th>\n",
       "      <td>2016-03-24 08:37:22</td>\n",
       "      <td>135</td>\n",
       "      <td>other</td>\n",
       "      <td>1910</td>\n",
       "      <td>unknown</td>\n",
       "      <td>0</td>\n",
       "      <td>other</td>\n",
       "      <td>5000</td>\n",
       "      <td>petrol</td>\n",
       "      <td>opel</td>\n",
       "      <td>unknown</td>\n",
       "    </tr>\n",
       "    <tr>\n",
       "      <th>10183</th>\n",
       "      <td>2016-03-27 13:59:08</td>\n",
       "      <td>1250</td>\n",
       "      <td>other</td>\n",
       "      <td>1910</td>\n",
       "      <td>unknown</td>\n",
       "      <td>0</td>\n",
       "      <td>other</td>\n",
       "      <td>5000</td>\n",
       "      <td>petrol</td>\n",
       "      <td>audi</td>\n",
       "      <td>unknown</td>\n",
       "    </tr>\n",
       "    <tr>\n",
       "      <th>23750</th>\n",
       "      <td>2016-03-16 19:58:34</td>\n",
       "      <td>3900</td>\n",
       "      <td>wagon</td>\n",
       "      <td>1910</td>\n",
       "      <td>manual</td>\n",
       "      <td>90</td>\n",
       "      <td>passat</td>\n",
       "      <td>150000</td>\n",
       "      <td>petrol</td>\n",
       "      <td>volkswagen</td>\n",
       "      <td>unknown</td>\n",
       "    </tr>\n",
       "    <tr>\n",
       "      <th>24458</th>\n",
       "      <td>2016-03-29 19:50:03</td>\n",
       "      <td>50</td>\n",
       "      <td>small</td>\n",
       "      <td>1910</td>\n",
       "      <td>manual</td>\n",
       "      <td>0</td>\n",
       "      <td>other</td>\n",
       "      <td>5000</td>\n",
       "      <td>petrol</td>\n",
       "      <td>volkswagen</td>\n",
       "      <td>yes</td>\n",
       "    </tr>\n",
       "    <tr>\n",
       "      <th>...</th>\n",
       "      <td>...</td>\n",
       "      <td>...</td>\n",
       "      <td>...</td>\n",
       "      <td>...</td>\n",
       "      <td>...</td>\n",
       "      <td>...</td>\n",
       "      <td>...</td>\n",
       "      <td>...</td>\n",
       "      <td>...</td>\n",
       "      <td>...</td>\n",
       "      <td>...</td>\n",
       "    </tr>\n",
       "    <tr>\n",
       "      <th>294091</th>\n",
       "      <td>2016-03-15 17:43:20</td>\n",
       "      <td>75</td>\n",
       "      <td>other</td>\n",
       "      <td>1910</td>\n",
       "      <td>unknown</td>\n",
       "      <td>0</td>\n",
       "      <td>other</td>\n",
       "      <td>100000</td>\n",
       "      <td>petrol</td>\n",
       "      <td>sonstige_autos</td>\n",
       "      <td>unknown</td>\n",
       "    </tr>\n",
       "    <tr>\n",
       "      <th>304262</th>\n",
       "      <td>2016-03-26 19:55:31</td>\n",
       "      <td>150</td>\n",
       "      <td>other</td>\n",
       "      <td>1910</td>\n",
       "      <td>manual</td>\n",
       "      <td>0</td>\n",
       "      <td>ka</td>\n",
       "      <td>5000</td>\n",
       "      <td>petrol</td>\n",
       "      <td>ford</td>\n",
       "      <td>yes</td>\n",
       "    </tr>\n",
       "    <tr>\n",
       "      <th>321995</th>\n",
       "      <td>2016-03-10 15:58:12</td>\n",
       "      <td>180</td>\n",
       "      <td>other</td>\n",
       "      <td>1910</td>\n",
       "      <td>manual</td>\n",
       "      <td>0</td>\n",
       "      <td>mondeo</td>\n",
       "      <td>150000</td>\n",
       "      <td>petrol</td>\n",
       "      <td>ford</td>\n",
       "      <td>yes</td>\n",
       "    </tr>\n",
       "    <tr>\n",
       "      <th>334901</th>\n",
       "      <td>2016-03-29 03:36:18</td>\n",
       "      <td>1300</td>\n",
       "      <td>other</td>\n",
       "      <td>1910</td>\n",
       "      <td>unknown</td>\n",
       "      <td>0</td>\n",
       "      <td>other</td>\n",
       "      <td>5000</td>\n",
       "      <td>petrol</td>\n",
       "      <td>audi</td>\n",
       "      <td>unknown</td>\n",
       "    </tr>\n",
       "    <tr>\n",
       "      <th>353961</th>\n",
       "      <td>2016-03-17 13:54:22</td>\n",
       "      <td>200</td>\n",
       "      <td>other</td>\n",
       "      <td>1910</td>\n",
       "      <td>unknown</td>\n",
       "      <td>0</td>\n",
       "      <td>other</td>\n",
       "      <td>5000</td>\n",
       "      <td>petrol</td>\n",
       "      <td>sonstige_autos</td>\n",
       "      <td>unknown</td>\n",
       "    </tr>\n",
       "  </tbody>\n",
       "</table>\n",
       "<p>40 rows × 11 columns</p>\n",
       "</div>"
      ],
      "text/plain": [
       "                datecrawled  price vehicle_type  registration_year  gearbox  \\\n",
       "15      2016-03-11 21:39:15    450        small               1910  unknown   \n",
       "6977    2016-03-24 08:37:22    135        other               1910  unknown   \n",
       "10183   2016-03-27 13:59:08   1250        other               1910  unknown   \n",
       "23750   2016-03-16 19:58:34   3900        wagon               1910   manual   \n",
       "24458   2016-03-29 19:50:03     50        small               1910   manual   \n",
       "...                     ...    ...          ...                ...      ...   \n",
       "294091  2016-03-15 17:43:20     75        other               1910  unknown   \n",
       "304262  2016-03-26 19:55:31    150        other               1910   manual   \n",
       "321995  2016-03-10 15:58:12    180        other               1910   manual   \n",
       "334901  2016-03-29 03:36:18   1300        other               1910  unknown   \n",
       "353961  2016-03-17 13:54:22    200        other               1910  unknown   \n",
       "\n",
       "        power   model  kilometer fuel_type           brand repaired  \n",
       "15          0      ka       5000    petrol            ford  unknown  \n",
       "6977        0   other       5000    petrol            opel  unknown  \n",
       "10183       0   other       5000    petrol            audi  unknown  \n",
       "23750      90  passat     150000    petrol      volkswagen  unknown  \n",
       "24458       0   other       5000    petrol      volkswagen      yes  \n",
       "...       ...     ...        ...       ...             ...      ...  \n",
       "294091      0   other     100000    petrol  sonstige_autos  unknown  \n",
       "304262      0      ka       5000    petrol            ford      yes  \n",
       "321995      0  mondeo     150000    petrol            ford      yes  \n",
       "334901      0   other       5000    petrol            audi  unknown  \n",
       "353961      0   other       5000    petrol  sonstige_autos  unknown  \n",
       "\n",
       "[40 rows x 11 columns]"
      ]
     },
     "execution_count": 38,
     "metadata": {},
     "output_type": "execute_result"
    }
   ],
   "source": [
    "data_auto.query('registration_year == 1910')"
   ]
  },
  {
   "cell_type": "markdown",
   "id": "6f50c962-c152-4c9f-a5fc-df465d1eb39d",
   "metadata": {},
   "source": [
    "Предлагаю отсечь лишнее - ограничимся минимально **1930** годом, т.к. такие автомобильные марки как Ford, BMW, Mercedes-Benz как раз начинали свой путь в то время, предположим что это супер коллекционные экземпляры. Как видно выше - объявления за *1910* год это явные ошибки в данных, так как цены на коллекционные аппараты должны быть высокими, а здесь у нас авто по цене вековой пыли. \\\n",
    "По верхней границе берем **2019** год. "
   ]
  },
  {
   "cell_type": "code",
   "execution_count": 39,
   "id": "7de4cde6-b7ec-4b76-8f6a-5336e2c2b4ec",
   "metadata": {},
   "outputs": [],
   "source": [
    "data_auto = data_auto.query('registration_year >= 1930 and registration_year <= 2019')"
   ]
  },
  {
   "cell_type": "code",
   "execution_count": 40,
   "id": "cc79ddf1",
   "metadata": {},
   "outputs": [],
   "source": [
    "data_auto['datecrawled'] = pd.to_datetime(data_auto['datecrawled'])\n",
    "data_auto['datecrawled'] = pd.DatetimeIndex(data_auto['datecrawled']).year"
   ]
  },
  {
   "cell_type": "code",
   "execution_count": 41,
   "id": "8f46be16",
   "metadata": {},
   "outputs": [
    {
     "data": {
      "text/html": [
       "<div>\n",
       "<style scoped>\n",
       "    .dataframe tbody tr th:only-of-type {\n",
       "        vertical-align: middle;\n",
       "    }\n",
       "\n",
       "    .dataframe tbody tr th {\n",
       "        vertical-align: top;\n",
       "    }\n",
       "\n",
       "    .dataframe thead th {\n",
       "        text-align: right;\n",
       "    }\n",
       "</style>\n",
       "<table border=\"1\" class=\"dataframe\">\n",
       "  <thead>\n",
       "    <tr style=\"text-align: right;\">\n",
       "      <th></th>\n",
       "      <th>datecrawled</th>\n",
       "      <th>price</th>\n",
       "      <th>vehicle_type</th>\n",
       "      <th>registration_year</th>\n",
       "      <th>gearbox</th>\n",
       "      <th>power</th>\n",
       "      <th>model</th>\n",
       "      <th>kilometer</th>\n",
       "      <th>fuel_type</th>\n",
       "      <th>brand</th>\n",
       "      <th>repaired</th>\n",
       "    </tr>\n",
       "  </thead>\n",
       "  <tbody>\n",
       "    <tr>\n",
       "      <th>22</th>\n",
       "      <td>2016</td>\n",
       "      <td>2900</td>\n",
       "      <td>other</td>\n",
       "      <td>2018</td>\n",
       "      <td>manual</td>\n",
       "      <td>90</td>\n",
       "      <td>meriva</td>\n",
       "      <td>150000</td>\n",
       "      <td>petrol</td>\n",
       "      <td>opel</td>\n",
       "      <td>no</td>\n",
       "    </tr>\n",
       "    <tr>\n",
       "      <th>26</th>\n",
       "      <td>2016</td>\n",
       "      <td>5555</td>\n",
       "      <td>other</td>\n",
       "      <td>2017</td>\n",
       "      <td>manual</td>\n",
       "      <td>125</td>\n",
       "      <td>c4</td>\n",
       "      <td>125000</td>\n",
       "      <td>petrol</td>\n",
       "      <td>citroen</td>\n",
       "      <td>no</td>\n",
       "    </tr>\n",
       "    <tr>\n",
       "      <th>48</th>\n",
       "      <td>2016</td>\n",
       "      <td>7750</td>\n",
       "      <td>other</td>\n",
       "      <td>2017</td>\n",
       "      <td>manual</td>\n",
       "      <td>80</td>\n",
       "      <td>golf</td>\n",
       "      <td>100000</td>\n",
       "      <td>petrol</td>\n",
       "      <td>volkswagen</td>\n",
       "      <td>unknown</td>\n",
       "    </tr>\n",
       "    <tr>\n",
       "      <th>51</th>\n",
       "      <td>2016</td>\n",
       "      <td>2000</td>\n",
       "      <td>other</td>\n",
       "      <td>2017</td>\n",
       "      <td>manual</td>\n",
       "      <td>90</td>\n",
       "      <td>punto</td>\n",
       "      <td>150000</td>\n",
       "      <td>gasoline</td>\n",
       "      <td>fiat</td>\n",
       "      <td>yes</td>\n",
       "    </tr>\n",
       "    <tr>\n",
       "      <th>57</th>\n",
       "      <td>2016</td>\n",
       "      <td>2399</td>\n",
       "      <td>other</td>\n",
       "      <td>2018</td>\n",
       "      <td>manual</td>\n",
       "      <td>64</td>\n",
       "      <td>other</td>\n",
       "      <td>125000</td>\n",
       "      <td>petrol</td>\n",
       "      <td>seat</td>\n",
       "      <td>no</td>\n",
       "    </tr>\n",
       "    <tr>\n",
       "      <th>...</th>\n",
       "      <td>...</td>\n",
       "      <td>...</td>\n",
       "      <td>...</td>\n",
       "      <td>...</td>\n",
       "      <td>...</td>\n",
       "      <td>...</td>\n",
       "      <td>...</td>\n",
       "      <td>...</td>\n",
       "      <td>...</td>\n",
       "      <td>...</td>\n",
       "      <td>...</td>\n",
       "    </tr>\n",
       "    <tr>\n",
       "      <th>354112</th>\n",
       "      <td>2016</td>\n",
       "      <td>3600</td>\n",
       "      <td>other</td>\n",
       "      <td>2017</td>\n",
       "      <td>manual</td>\n",
       "      <td>86</td>\n",
       "      <td>transit</td>\n",
       "      <td>150000</td>\n",
       "      <td>gasoline</td>\n",
       "      <td>ford</td>\n",
       "      <td>unknown</td>\n",
       "    </tr>\n",
       "    <tr>\n",
       "      <th>354140</th>\n",
       "      <td>2016</td>\n",
       "      <td>1000</td>\n",
       "      <td>other</td>\n",
       "      <td>2017</td>\n",
       "      <td>manual</td>\n",
       "      <td>101</td>\n",
       "      <td>a4</td>\n",
       "      <td>150000</td>\n",
       "      <td>petrol</td>\n",
       "      <td>audi</td>\n",
       "      <td>unknown</td>\n",
       "    </tr>\n",
       "    <tr>\n",
       "      <th>354203</th>\n",
       "      <td>2016</td>\n",
       "      <td>2140</td>\n",
       "      <td>other</td>\n",
       "      <td>2018</td>\n",
       "      <td>manual</td>\n",
       "      <td>80</td>\n",
       "      <td>fiesta</td>\n",
       "      <td>150000</td>\n",
       "      <td>petrol</td>\n",
       "      <td>ford</td>\n",
       "      <td>no</td>\n",
       "    </tr>\n",
       "    <tr>\n",
       "      <th>354253</th>\n",
       "      <td>2016</td>\n",
       "      <td>1250</td>\n",
       "      <td>other</td>\n",
       "      <td>2018</td>\n",
       "      <td>unknown</td>\n",
       "      <td>0</td>\n",
       "      <td>corsa</td>\n",
       "      <td>150000</td>\n",
       "      <td>petrol</td>\n",
       "      <td>opel</td>\n",
       "      <td>unknown</td>\n",
       "    </tr>\n",
       "    <tr>\n",
       "      <th>354289</th>\n",
       "      <td>2016</td>\n",
       "      <td>5000</td>\n",
       "      <td>other</td>\n",
       "      <td>2017</td>\n",
       "      <td>manual</td>\n",
       "      <td>120</td>\n",
       "      <td>other</td>\n",
       "      <td>150000</td>\n",
       "      <td>petrol</td>\n",
       "      <td>citroen</td>\n",
       "      <td>yes</td>\n",
       "    </tr>\n",
       "  </tbody>\n",
       "</table>\n",
       "<p>13623 rows × 11 columns</p>\n",
       "</div>"
      ],
      "text/plain": [
       "        datecrawled  price vehicle_type  registration_year  gearbox  power  \\\n",
       "22             2016   2900        other               2018   manual     90   \n",
       "26             2016   5555        other               2017   manual    125   \n",
       "48             2016   7750        other               2017   manual     80   \n",
       "51             2016   2000        other               2017   manual     90   \n",
       "57             2016   2399        other               2018   manual     64   \n",
       "...             ...    ...          ...                ...      ...    ...   \n",
       "354112         2016   3600        other               2017   manual     86   \n",
       "354140         2016   1000        other               2017   manual    101   \n",
       "354203         2016   2140        other               2018   manual     80   \n",
       "354253         2016   1250        other               2018  unknown      0   \n",
       "354289         2016   5000        other               2017   manual    120   \n",
       "\n",
       "          model  kilometer fuel_type       brand repaired  \n",
       "22       meriva     150000    petrol        opel       no  \n",
       "26           c4     125000    petrol     citroen       no  \n",
       "48         golf     100000    petrol  volkswagen  unknown  \n",
       "51        punto     150000  gasoline        fiat      yes  \n",
       "57        other     125000    petrol        seat       no  \n",
       "...         ...        ...       ...         ...      ...  \n",
       "354112  transit     150000  gasoline        ford  unknown  \n",
       "354140       a4     150000    petrol        audi  unknown  \n",
       "354203   fiesta     150000    petrol        ford       no  \n",
       "354253    corsa     150000    petrol        opel  unknown  \n",
       "354289    other     150000    petrol     citroen      yes  \n",
       "\n",
       "[13623 rows x 11 columns]"
      ]
     },
     "execution_count": 41,
     "metadata": {},
     "output_type": "execute_result"
    }
   ],
   "source": [
    "data_auto.query('registration_year > datecrawled')"
   ]
  },
  {
   "cell_type": "markdown",
   "id": "54506ff2",
   "metadata": {},
   "source": [
    "Действтельно, обнаружены объявления в которых дата выгрузки объявления раньше, чем дата регистрации авто - следовательно ошибка в дате регистрации.\\\n",
    "Не представляю на что мы можем поправить эти даты, поэтому предлагаю избавиться от этих столбцов. "
   ]
  },
  {
   "cell_type": "code",
   "execution_count": 42,
   "id": "eaaa6acd",
   "metadata": {},
   "outputs": [],
   "source": [
    "data_auto = data_auto.query('registration_year <= datecrawled')"
   ]
  },
  {
   "cell_type": "markdown",
   "id": "b451de7c",
   "metadata": {},
   "source": [
    "Столбец `datecrawled` свою функцию выполнил, два столбца с датой нам ни к чему - тем более, что нужно сделать проверку на дубликаты, удаляем этот столбец. "
   ]
  },
  {
   "cell_type": "code",
   "execution_count": 43,
   "id": "c1be9bae",
   "metadata": {},
   "outputs": [],
   "source": [
    "data_auto = data_auto.drop(['datecrawled'], axis = 1)"
   ]
  },
  {
   "cell_type": "code",
   "execution_count": 44,
   "id": "e988e3b6-ddc3-4078-b933-444196c86de1",
   "metadata": {},
   "outputs": [
    {
     "data": {
      "image/png": "[encoded data removed]",
      "text/plain": [
       "<Figure size 576x432 with 1 Axes>"
      ]
     },
     "metadata": {
      "needs_background": "light"
     },
     "output_type": "display_data"
    }
   ],
   "source": [
    "plt.figure(figsize = (8, 6))\n",
    "sns.histplot(data = data_auto, bins = 45,  \n",
    "             x = 'registration_year',\n",
    "             color = 'limegreen', \n",
    "             alpha = 0.6)\n",
    "plt.title('Гистограмма:  \\n \"Распределение годов выпуска автомобилей\"', size = 15)\n",
    "plt.xlabel('Год выпуска авто', size = 12)\n",
    "plt.ylabel('Количество автомобилей, шт', size = 12)\n",
    "plt.grid(True)\n",
    "plt.show()"
   ]
  },
  {
   "cell_type": "markdown",
   "id": "28b15495-fa71-4055-9d71-a2de29eb2b2d",
   "metadata": {},
   "source": [
    "Распределение годов выпуска соответсвует нормальному, хвост в левой части мы умышленно оставили из за коллекционных моделей, хотя можно было бы сделать нижнюю границу по 1980 году, но не хочется терять данные."
   ]
  },
  {
   "cell_type": "code",
   "execution_count": 45,
   "id": "4fda31f8-7c9e-4086-a01b-fed449de7dae",
   "metadata": {},
   "outputs": [
    {
     "data": {
      "image/png": "[encoded data removed]",
      "text/plain": [
       "<Figure size 432x288 with 1 Axes>"
      ]
     },
     "metadata": {
      "needs_background": "light"
     },
     "output_type": "display_data"
    }
   ],
   "source": [
    "sns.boxplot(data_auto['registration_year'])\n",
    "plt.title('График ящик с усами для \\n \"Год выпуска автомобилей\"', size = 15)\n",
    "plt.ylabel('Количество автомобилей, шт', size = 10)\n",
    "plt.show()"
   ]
  },
  {
   "cell_type": "markdown",
   "id": "d77c197d-c01c-4f81-a698-8535bb0ac602",
   "metadata": {},
   "source": [
    "Все авто, старше 1985 года являются выбросами, если они будут сильно мешать качеству модели - произведем корректировку по минимальному году выпуска. "
   ]
  },
  {
   "cell_type": "markdown",
   "id": "b8ef12e4-5b7a-4383-a310-3967b219c507",
   "metadata": {},
   "source": [
    "4. Построим круговую диаграмму для *`gearbox`*:"
   ]
  },
  {
   "cell_type": "code",
   "execution_count": 46,
   "id": "017e809f-9347-489f-beea-642131a58fda",
   "metadata": {},
   "outputs": [
    {
     "data": {
      "image/png": "[encoded data removed]",
      "text/plain": [
       "<Figure size 360x360 with 1 Axes>"
      ]
     },
     "metadata": {},
     "output_type": "display_data"
    }
   ],
   "source": [
    "(\n",
    "    data_auto\n",
    "    .groupby('gearbox')['gearbox']\n",
    "    .count()\n",
    "    .plot(kind = 'pie', figsize = (5, 5), autopct = '%1.1f%%')\n",
    ")\n",
    "plt.title('Соотношение типов трансмиссии автомобилей', size = 15)\n",
    "plt.xlabel(' ')\n",
    "plt.ylabel(' ')\n",
    "plt.show()"
   ]
  },
  {
   "cell_type": "markdown",
   "id": "138b5be1-5a56-4314-b0fa-be8feaf884eb",
   "metadata": {},
   "source": [
    "Наиболее распространенной является механическая трансмиссия, с долей порядка 80%. "
   ]
  },
  {
   "cell_type": "markdown",
   "id": "f4c8972f-2687-4f20-9944-811607897b00",
   "metadata": {},
   "source": [
    "5. Вызовем описательную функцию и построим гистограмму для *`power`*:"
   ]
  },
  {
   "cell_type": "code",
   "execution_count": 47,
   "id": "d36c093e-4908-4e35-91f1-27edf9b3731c",
   "metadata": {},
   "outputs": [
    {
     "data": {
      "text/plain": [
       "count    328119.000000\n",
       "mean        112.145298\n",
       "std         185.112193\n",
       "min           0.000000\n",
       "25%          71.000000\n",
       "50%         105.000000\n",
       "75%         143.000000\n",
       "max       20000.000000\n",
       "Name: power, dtype: float64"
      ]
     },
     "execution_count": 47,
     "metadata": {},
     "output_type": "execute_result"
    }
   ],
   "source": [
    "data_auto['power'].describe()"
   ]
  },
  {
   "cell_type": "markdown",
   "id": "2d46ca29-7885-4d1d-b9a1-f3d22fb6eea0",
   "metadata": {},
   "source": [
    "В данном столбце у нас так же имеются аномалии, нулевая мощность и 20 000 л.с. - явно являются результатами опечаток или ошибок при переносе данных. "
   ]
  },
  {
   "cell_type": "code",
   "execution_count": 48,
   "id": "9b842ef0-9777-44e5-a2ec-dffbe3a32f23",
   "metadata": {},
   "outputs": [
    {
     "data": {
      "text/html": [
       "<div>\n",
       "<style scoped>\n",
       "    .dataframe tbody tr th:only-of-type {\n",
       "        vertical-align: middle;\n",
       "    }\n",
       "\n",
       "    .dataframe tbody tr th {\n",
       "        vertical-align: top;\n",
       "    }\n",
       "\n",
       "    .dataframe thead th {\n",
       "        text-align: right;\n",
       "    }\n",
       "</style>\n",
       "<table border=\"1\" class=\"dataframe\">\n",
       "  <thead>\n",
       "    <tr style=\"text-align: right;\">\n",
       "      <th></th>\n",
       "      <th>price</th>\n",
       "      <th>vehicle_type</th>\n",
       "      <th>registration_year</th>\n",
       "      <th>gearbox</th>\n",
       "      <th>power</th>\n",
       "      <th>model</th>\n",
       "      <th>kilometer</th>\n",
       "      <th>fuel_type</th>\n",
       "      <th>brand</th>\n",
       "      <th>repaired</th>\n",
       "    </tr>\n",
       "  </thead>\n",
       "  <tbody>\n",
       "    <tr>\n",
       "      <th>0</th>\n",
       "      <td>480</td>\n",
       "      <td>other</td>\n",
       "      <td>1993</td>\n",
       "      <td>manual</td>\n",
       "      <td>0</td>\n",
       "      <td>golf</td>\n",
       "      <td>150000</td>\n",
       "      <td>petrol</td>\n",
       "      <td>volkswagen</td>\n",
       "      <td>unknown</td>\n",
       "    </tr>\n",
       "    <tr>\n",
       "      <th>32</th>\n",
       "      <td>245</td>\n",
       "      <td>sedan</td>\n",
       "      <td>1994</td>\n",
       "      <td>unknown</td>\n",
       "      <td>0</td>\n",
       "      <td>golf</td>\n",
       "      <td>150000</td>\n",
       "      <td>petrol</td>\n",
       "      <td>volkswagen</td>\n",
       "      <td>no</td>\n",
       "    </tr>\n",
       "    <tr>\n",
       "      <th>37</th>\n",
       "      <td>1500</td>\n",
       "      <td>other</td>\n",
       "      <td>2016</td>\n",
       "      <td>unknown</td>\n",
       "      <td>0</td>\n",
       "      <td>kangoo</td>\n",
       "      <td>150000</td>\n",
       "      <td>gasoline</td>\n",
       "      <td>renault</td>\n",
       "      <td>no</td>\n",
       "    </tr>\n",
       "    <tr>\n",
       "      <th>54</th>\n",
       "      <td>4700</td>\n",
       "      <td>wagon</td>\n",
       "      <td>2005</td>\n",
       "      <td>manual</td>\n",
       "      <td>0</td>\n",
       "      <td>signum</td>\n",
       "      <td>150000</td>\n",
       "      <td>petrol</td>\n",
       "      <td>opel</td>\n",
       "      <td>no</td>\n",
       "    </tr>\n",
       "    <tr>\n",
       "      <th>55</th>\n",
       "      <td>550</td>\n",
       "      <td>wagon</td>\n",
       "      <td>1999</td>\n",
       "      <td>manual</td>\n",
       "      <td>0</td>\n",
       "      <td>astra</td>\n",
       "      <td>150000</td>\n",
       "      <td>gasoline</td>\n",
       "      <td>opel</td>\n",
       "      <td>yes</td>\n",
       "    </tr>\n",
       "    <tr>\n",
       "      <th>...</th>\n",
       "      <td>...</td>\n",
       "      <td>...</td>\n",
       "      <td>...</td>\n",
       "      <td>...</td>\n",
       "      <td>...</td>\n",
       "      <td>...</td>\n",
       "      <td>...</td>\n",
       "      <td>...</td>\n",
       "      <td>...</td>\n",
       "      <td>...</td>\n",
       "    </tr>\n",
       "    <tr>\n",
       "      <th>354336</th>\n",
       "      <td>3299</td>\n",
       "      <td>other</td>\n",
       "      <td>2005</td>\n",
       "      <td>auto</td>\n",
       "      <td>0</td>\n",
       "      <td>outlander</td>\n",
       "      <td>150000</td>\n",
       "      <td>petrol</td>\n",
       "      <td>mitsubishi</td>\n",
       "      <td>unknown</td>\n",
       "    </tr>\n",
       "    <tr>\n",
       "      <th>354338</th>\n",
       "      <td>180</td>\n",
       "      <td>other</td>\n",
       "      <td>1995</td>\n",
       "      <td>unknown</td>\n",
       "      <td>0</td>\n",
       "      <td>other</td>\n",
       "      <td>125000</td>\n",
       "      <td>petrol</td>\n",
       "      <td>opel</td>\n",
       "      <td>unknown</td>\n",
       "    </tr>\n",
       "    <tr>\n",
       "      <th>354346</th>\n",
       "      <td>2600</td>\n",
       "      <td>other</td>\n",
       "      <td>2005</td>\n",
       "      <td>auto</td>\n",
       "      <td>0</td>\n",
       "      <td>c_klasse</td>\n",
       "      <td>150000</td>\n",
       "      <td>petrol</td>\n",
       "      <td>mercedes_benz</td>\n",
       "      <td>unknown</td>\n",
       "    </tr>\n",
       "    <tr>\n",
       "      <th>354363</th>\n",
       "      <td>1150</td>\n",
       "      <td>bus</td>\n",
       "      <td>2000</td>\n",
       "      <td>manual</td>\n",
       "      <td>0</td>\n",
       "      <td>zafira</td>\n",
       "      <td>150000</td>\n",
       "      <td>petrol</td>\n",
       "      <td>opel</td>\n",
       "      <td>no</td>\n",
       "    </tr>\n",
       "    <tr>\n",
       "      <th>354365</th>\n",
       "      <td>2200</td>\n",
       "      <td>other</td>\n",
       "      <td>2005</td>\n",
       "      <td>unknown</td>\n",
       "      <td>0</td>\n",
       "      <td>other</td>\n",
       "      <td>20000</td>\n",
       "      <td>petrol</td>\n",
       "      <td>sonstige_autos</td>\n",
       "      <td>unknown</td>\n",
       "    </tr>\n",
       "  </tbody>\n",
       "</table>\n",
       "<p>32029 rows × 10 columns</p>\n",
       "</div>"
      ],
      "text/plain": [
       "        price vehicle_type  registration_year  gearbox  power      model  \\\n",
       "0         480        other               1993   manual      0       golf   \n",
       "32        245        sedan               1994  unknown      0       golf   \n",
       "37       1500        other               2016  unknown      0     kangoo   \n",
       "54       4700        wagon               2005   manual      0     signum   \n",
       "55        550        wagon               1999   manual      0      astra   \n",
       "...       ...          ...                ...      ...    ...        ...   \n",
       "354336   3299        other               2005     auto      0  outlander   \n",
       "354338    180        other               1995  unknown      0      other   \n",
       "354346   2600        other               2005     auto      0   c_klasse   \n",
       "354363   1150          bus               2000   manual      0     zafira   \n",
       "354365   2200        other               2005  unknown      0      other   \n",
       "\n",
       "        kilometer fuel_type           brand repaired  \n",
       "0          150000    petrol      volkswagen  unknown  \n",
       "32         150000    petrol      volkswagen       no  \n",
       "37         150000  gasoline         renault       no  \n",
       "54         150000    petrol            opel       no  \n",
       "55         150000  gasoline            opel      yes  \n",
       "...           ...       ...             ...      ...  \n",
       "354336     150000    petrol      mitsubishi  unknown  \n",
       "354338     125000    petrol            opel  unknown  \n",
       "354346     150000    petrol   mercedes_benz  unknown  \n",
       "354363     150000    petrol            opel       no  \n",
       "354365      20000    petrol  sonstige_autos  unknown  \n",
       "\n",
       "[32029 rows x 10 columns]"
      ]
     },
     "execution_count": 48,
     "metadata": {},
     "output_type": "execute_result"
    }
   ],
   "source": [
    "data_auto.query('power == 0')"
   ]
  },
  {
   "cell_type": "markdown",
   "id": "2fe65181-30aa-4de6-9c89-86beeac0b068",
   "metadata": {},
   "source": [
    "Не хотелось бы терять 32029 строки и за нулевой мощности, постараемся заменить нули медианной мощностью, соответствующей своей модели авто: "
   ]
  },
  {
   "cell_type": "code",
   "execution_count": 49,
   "id": "7532008b-6151-4f7c-b3f9-f2a0ba0b04fd",
   "metadata": {},
   "outputs": [],
   "source": [
    "for t in data_auto['model'].unique():\n",
    "    # находим медиану соответствующей модели авто\n",
    "    median_power = data_auto.loc[\n",
    "        (data_auto['model'] == t) & \n",
    "        (data_auto['power'] > 0),  # исключаем нули \n",
    "        'power'\n",
    "    ].median()\n",
    "    \n",
    "    # заменяем нулевые значения на медиану\n",
    "    data_auto.loc[\n",
    "        (data_auto['model'] == t) & \n",
    "        (data_auto['power'] == 0),  # выбираем только нули\n",
    "        'power'\n",
    "    ] = median_power"
   ]
  },
  {
   "cell_type": "markdown",
   "id": "1223047b-c835-4213-982a-99dcd0d5051e",
   "metadata": {},
   "source": [
    "При округлении полученных значений мощности у меня выскакивала ошибка по наличию Nan или Inf и невозможности округлиться и преобразоваться в int, поэтому проведем проверку на аномалии:"
   ]
  },
  {
   "cell_type": "code",
   "execution_count": 50,
   "id": "dd84553c-73f7-4a17-aabd-2ef42918adef",
   "metadata": {},
   "outputs": [
    {
     "name": "stdout",
     "output_type": "stream",
     "text": [
      "NaN values: 1\n",
      "Inf values: 0\n"
     ]
    }
   ],
   "source": [
    "# Проверяем на наличие нестандартных значений\n",
    "print(\"NaN values:\", data_auto['power'].isna().sum())\n",
    "print(\"Inf values:\", np.isinf(data_auto['power']).sum())"
   ]
  },
  {
   "cell_type": "code",
   "execution_count": 51,
   "id": "ae424abd-9dd3-4016-b76a-6cd6ebd6d158",
   "metadata": {},
   "outputs": [
    {
     "data": {
      "text/html": [
       "<div>\n",
       "<style scoped>\n",
       "    .dataframe tbody tr th:only-of-type {\n",
       "        vertical-align: middle;\n",
       "    }\n",
       "\n",
       "    .dataframe tbody tr th {\n",
       "        vertical-align: top;\n",
       "    }\n",
       "\n",
       "    .dataframe thead th {\n",
       "        text-align: right;\n",
       "    }\n",
       "</style>\n",
       "<table border=\"1\" class=\"dataframe\">\n",
       "  <thead>\n",
       "    <tr style=\"text-align: right;\">\n",
       "      <th></th>\n",
       "      <th>price</th>\n",
       "      <th>vehicle_type</th>\n",
       "      <th>registration_year</th>\n",
       "      <th>gearbox</th>\n",
       "      <th>power</th>\n",
       "      <th>model</th>\n",
       "      <th>kilometer</th>\n",
       "      <th>fuel_type</th>\n",
       "      <th>brand</th>\n",
       "      <th>repaired</th>\n",
       "    </tr>\n",
       "  </thead>\n",
       "  <tbody>\n",
       "    <tr>\n",
       "      <th>234296</th>\n",
       "      <td>3800</td>\n",
       "      <td>wagon</td>\n",
       "      <td>1978</td>\n",
       "      <td>manual</td>\n",
       "      <td>NaN</td>\n",
       "      <td>serie_1</td>\n",
       "      <td>30000</td>\n",
       "      <td>gasoline</td>\n",
       "      <td>land_rover</td>\n",
       "      <td>unknown</td>\n",
       "    </tr>\n",
       "  </tbody>\n",
       "</table>\n",
       "</div>"
      ],
      "text/plain": [
       "        price vehicle_type  registration_year gearbox  power    model  \\\n",
       "234296   3800        wagon               1978  manual    NaN  serie_1   \n",
       "\n",
       "        kilometer fuel_type       brand repaired  \n",
       "234296      30000  gasoline  land_rover  unknown  "
      ]
     },
     "execution_count": 51,
     "metadata": {},
     "output_type": "execute_result"
    }
   ],
   "source": [
    "data_auto[data_auto['power'].isna()]"
   ]
  },
  {
   "cell_type": "markdown",
   "id": "1fa33d27-8068-4f43-8fb3-80d3b8721b0f",
   "metadata": {},
   "source": [
    "И удалим один пропуск в данных, тем самым из 32029 строк с нулевой мощностью - мы удалим только одну строку. "
   ]
  },
  {
   "cell_type": "code",
   "execution_count": 52,
   "id": "e1fc7c0f-ef2f-4a62-8645-eaa4e6bdb796",
   "metadata": {},
   "outputs": [],
   "source": [
    "data_auto = data_auto.dropna(subset = ['power'])"
   ]
  },
  {
   "cell_type": "code",
   "execution_count": 53,
   "id": "c9d377c5-67fc-4446-95f8-24e429c53f97",
   "metadata": {},
   "outputs": [],
   "source": [
    "data_auto['power'] = data_auto['power'].round().astype('int64')"
   ]
  },
  {
   "cell_type": "markdown",
   "id": "5d61bb81-4032-491e-baa5-a4b224c87879",
   "metadata": {},
   "source": [
    "Так же ограничим мощность порогом в 500 л.с. - так как мощность выше указанной на гражданский автомобилях почти не встречается.\\\n",
    "нижний порог ограничим в 30 л.с. так как эта мощность похожа на минимальную, встречающуюся у авто. "
   ]
  },
  {
   "cell_type": "code",
   "execution_count": 54,
   "id": "dedcec61-f338-4ec0-a483-5af6674b4047",
   "metadata": {},
   "outputs": [],
   "source": [
    "data_auto = data_auto.query('power >= 30 and power <= 500')"
   ]
  },
  {
   "cell_type": "code",
   "execution_count": 55,
   "id": "8bb8b467-0ceb-41b6-8888-de1681c721db",
   "metadata": {},
   "outputs": [
    {
     "data": {
      "image/png": "[encoded data removed]",
      "text/plain": [
       "<Figure size 576x432 with 1 Axes>"
      ]
     },
     "metadata": {
      "needs_background": "light"
     },
     "output_type": "display_data"
    }
   ],
   "source": [
    "plt.figure(figsize = (8, 6))\n",
    "sns.histplot(data = data_auto, bins = 40,  \n",
    "             x = 'power',\n",
    "             color = 'limegreen', \n",
    "             alpha = 0.6)\n",
    "plt.title('Гистограмма:  \\n \"Распределение мощности автомобилей\"', size = 15)\n",
    "plt.xlabel('Мощность авто, л.с.', size = 12)\n",
    "plt.ylabel('Количество автомобилей, шт', size = 12)\n",
    "plt.grid(True)\n",
    "plt.show()"
   ]
  },
  {
   "cell_type": "markdown",
   "id": "b87fd0ba-ac61-4bcb-a88a-86ef92ccc3a5",
   "metadata": {},
   "source": [
    "Распределение похоже на нормальный вид со смещением вправо, средняя мощность автомобилей составляет порядка 120 лошадиныхх сил. "
   ]
  },
  {
   "cell_type": "markdown",
   "id": "9f223550-686a-4e62-9b0d-7a89243ca740",
   "metadata": {},
   "source": [
    "6. Построим диаграмму для *`model`*:"
   ]
  },
  {
   "cell_type": "code",
   "execution_count": 56,
   "id": "ab6fee7a-ae19-467a-9e06-6e53808a19a6",
   "metadata": {},
   "outputs": [
    {
     "data": {
      "image/png": "[encoded data removed]",
      "text/plain": [
       "<Figure size 504x504 with 1 Axes>"
      ]
     },
     "metadata": {
      "needs_background": "light"
     },
     "output_type": "display_data"
    }
   ],
   "source": [
    "plt.figure(figsize = (7, 7))\n",
    "data_auto['model'].value_counts().sort_values().tail(15).plot(kind = 'barh', color = 'limegreen')\n",
    "plt.title('15 самых популярных моделей автомобилей', size = 14)\n",
    "plt.xlabel('Количество авто, шт')\n",
    "plt.ylabel('Модель автомобиля')\n",
    "plt.grid(axis = 'x', linestyle = '--')\n",
    "plt.show()"
   ]
  },
  {
   "cell_type": "markdown",
   "id": "33e6f406-1f8d-413c-9bc5-b2325c200527",
   "metadata": {},
   "source": [
    "На диаграмме выше видно, что в топ-3 по моделям входят VV Golf, другие и BMW 3er. "
   ]
  },
  {
   "cell_type": "markdown",
   "id": "8f77bdd9-44d9-478e-a748-da1cc612998d",
   "metadata": {},
   "source": [
    "7. Вызовем описательную функцию и построим гистограмму для *`kilometer`*:"
   ]
  },
  {
   "cell_type": "code",
   "execution_count": 57,
   "id": "fce9e061-9e4f-41c7-85b5-da36665dde31",
   "metadata": {},
   "outputs": [
    {
     "data": {
      "text/plain": [
       "count    326792.000000\n",
       "mean     128539.086024\n",
       "std       37084.862089\n",
       "min        5000.000000\n",
       "25%      125000.000000\n",
       "50%      150000.000000\n",
       "75%      150000.000000\n",
       "max      150000.000000\n",
       "Name: kilometer, dtype: float64"
      ]
     },
     "execution_count": 57,
     "metadata": {},
     "output_type": "execute_result"
    }
   ],
   "source": [
    "data_auto['kilometer'].describe()"
   ]
  },
  {
   "cell_type": "markdown",
   "id": "b244ce96-114a-4c7b-98ed-8b7131e5393a",
   "metadata": {},
   "source": [
    "На мой взгляд, значение пробега находится в адекватных рамках - хотя максимальное значение в 150 000 км может быть обусловлено ограничением сервиса, так как пробег 20-30 летних авто заходит далеко за 150 000 км, в реальной ситуации я бы проконсультировался с собственниками или старшими коллегами. "
   ]
  },
  {
   "cell_type": "code",
   "execution_count": 58,
   "id": "ffcb60da-8f91-43fc-872b-8a8c837d7533",
   "metadata": {},
   "outputs": [
    {
     "data": {
      "image/png": "[encoded data removed]",
      "text/plain": [
       "<Figure size 576x432 with 1 Axes>"
      ]
     },
     "metadata": {
      "needs_background": "light"
     },
     "output_type": "display_data"
    }
   ],
   "source": [
    "plt.figure(figsize = (8, 6))\n",
    "sns.histplot(data = data_auto, bins = 10,  \n",
    "             x = 'kilometer',\n",
    "             color = 'limegreen', \n",
    "             alpha = 0.6)\n",
    "plt.title('Гистограмма:  \\n \"Распределение пробега автомобилей\"', size = 15)\n",
    "plt.xlabel('Пробег авто, км', size = 12)\n",
    "plt.ylabel('Количество автомобилей, шт', size = 12)\n",
    "plt.grid(True)\n",
    "plt.show()"
   ]
  },
  {
   "cell_type": "markdown",
   "id": "4890f55c-1e82-4cd2-a883-ed79de56a203",
   "metadata": {},
   "source": [
    "Явно у большинства автомобилей пробег так и просится в большую сторону от 150 000 км, а так наше распределение очень перекошено вправо. "
   ]
  },
  {
   "cell_type": "markdown",
   "id": "55470713-da5d-4809-991c-ede5983b1cc7",
   "metadata": {},
   "source": [
    "8. Построим диаграмму для *`fuel_type`*:"
   ]
  },
  {
   "cell_type": "code",
   "execution_count": 59,
   "id": "6d5e38fd-bffb-4d8e-ab1d-b07e0545921d",
   "metadata": {},
   "outputs": [
    {
     "data": {
      "image/png": "[encoded data removed]",
      "text/plain": [
       "<Figure size 360x360 with 1 Axes>"
      ]
     },
     "metadata": {
      "needs_background": "light"
     },
     "output_type": "display_data"
    }
   ],
   "source": [
    "plt.figure(figsize = (5, 5))\n",
    "data_auto['fuel_type'].value_counts().sort_values().plot(kind = 'barh', color = 'limegreen')\n",
    "plt.xticks(rotation = 45)\n",
    "plt.title('Типы топлива автомобилей', size = 14)\n",
    "plt.xlabel('Количество авто, шт')\n",
    "plt.ylabel('Тип топлива')\n",
    "plt.grid(axis = 'x', linestyle = '--')\n",
    "plt.show()"
   ]
  },
  {
   "cell_type": "markdown",
   "id": "44e352b8-b6dd-4a9f-8b69-78269993de0c",
   "metadata": {},
   "source": [
    "По сути Gasoline — американский термин, petrol — британский, обозначающие **бензин**. Поэтому можно было бы объединить их в одну категорию, хотя скорее всего может имелся ввиду дизель вместо одной популярной категории, т.к. на практике всегда в топе идет бензин и дизель. "
   ]
  },
  {
   "cell_type": "markdown",
   "id": "93751536-29b2-45f6-9f98-f20704f3642a",
   "metadata": {},
   "source": [
    "9. Построим диаграмму для *`brand`*:"
   ]
  },
  {
   "cell_type": "code",
   "execution_count": 60,
   "id": "a146366d-9bbf-4589-8a06-2fd0fdd99153",
   "metadata": {},
   "outputs": [
    {
     "data": {
      "image/png": "[encoded data removed]",
      "text/plain": [
       "<Figure size 360x360 with 1 Axes>"
      ]
     },
     "metadata": {
      "needs_background": "light"
     },
     "output_type": "display_data"
    }
   ],
   "source": [
    "plt.figure(figsize = (5, 5))\n",
    "data_auto['brand'].value_counts().sort_values().tail(10).plot(kind = 'barh', color = 'limegreen')\n",
    "plt.xticks(rotation = 45)\n",
    "plt.title('Бренды представленных автомобилей', size = 14)\n",
    "plt.xlabel('Количество авто, шт')\n",
    "plt.ylabel('Бренд')\n",
    "plt.grid(axis = 'x', linestyle = '--')\n",
    "plt.show()"
   ]
  },
  {
   "cell_type": "markdown",
   "id": "c8364fa8-ae72-40bc-9f2e-ce6712b00764",
   "metadata": {},
   "source": [
    "В топ-3 бренда входят Volkswagen, Opel и BMW."
   ]
  },
  {
   "cell_type": "markdown",
   "id": "b2a5e13b-387a-4369-bdee-9632026a098f",
   "metadata": {},
   "source": [
    "10. Построим круговую диаграмму для *`repaired`*:"
   ]
  },
  {
   "cell_type": "code",
   "execution_count": 61,
   "id": "b5d3e8e5-cb69-4673-b69c-d195fcf4e056",
   "metadata": {},
   "outputs": [
    {
     "data": {
      "image/png": "[encoded data removed]",
      "text/plain": [
       "<Figure size 360x360 with 1 Axes>"
      ]
     },
     "metadata": {},
     "output_type": "display_data"
    }
   ],
   "source": [
    "(\n",
    "    data_auto\n",
    "    .groupby('repaired')['repaired']\n",
    "    .count()\n",
    "    .plot(kind = 'pie', figsize = (5, 5), autopct = '%1.1f%%')\n",
    ")\n",
    "plt.title('Соотношение автомобилей, бывших в ремонте', size = 15)\n",
    "plt.xlabel(' ')\n",
    "plt.ylabel(' ')\n",
    "plt.show()"
   ]
  },
  {
   "cell_type": "markdown",
   "id": "6cd135e5-27e8-4725-a6c1-1073c60a2fbb",
   "metadata": {},
   "source": [
    "Большинство авто в нашем перечне - без ДТП."
   ]
  },
  {
   "cell_type": "code",
   "execution_count": 62,
   "id": "f6bb563e-86cf-4bd9-89bf-9eac2eea00c6",
   "metadata": {},
   "outputs": [
    {
     "name": "stdout",
     "output_type": "stream",
     "text": [
      "<class 'pandas.core.frame.DataFrame'>\n",
      "Int64Index: 326792 entries, 0 to 354368\n",
      "Data columns (total 10 columns):\n",
      " #   Column             Non-Null Count   Dtype \n",
      "---  ------             --------------   ----- \n",
      " 0   price              326792 non-null  int64 \n",
      " 1   vehicle_type       326792 non-null  object\n",
      " 2   registration_year  326792 non-null  int64 \n",
      " 3   gearbox            326792 non-null  object\n",
      " 4   power              326792 non-null  int64 \n",
      " 5   model              326792 non-null  object\n",
      " 6   kilometer          326792 non-null  int64 \n",
      " 7   fuel_type          326792 non-null  object\n",
      " 8   brand              326792 non-null  object\n",
      " 9   repaired           326792 non-null  object\n",
      "dtypes: int64(4), object(6)\n",
      "memory usage: 27.4+ MB\n"
     ]
    }
   ],
   "source": [
    "data_auto.info()"
   ]
  },
  {
   "cell_type": "code",
   "execution_count": 63,
   "id": "6617b875-fe47-4c3e-a857-c3d8047a5a4f",
   "metadata": {},
   "outputs": [],
   "source": [
    "data_auto = data_auto.reset_index(drop = True) # еще можем сбросить все индексы после очистки данных"
   ]
  },
  {
   "cell_type": "markdown",
   "id": "9427cd91-b664-4760-9bf0-fc0414feeecf",
   "metadata": {},
   "source": [
    "Посмотрим, как коррелируют наши признаки: "
   ]
  },
  {
   "cell_type": "code",
   "execution_count": 64,
   "id": "78503843-837e-467c-addb-7604e425c72c",
   "metadata": {},
   "outputs": [
    {
     "data": {
      "image/png": "[encoded data removed]",
      "text/plain": [
       "<Figure size 720x576 with 2 Axes>"
      ]
     },
     "metadata": {
      "needs_background": "light"
     },
     "output_type": "display_data"
    }
   ],
   "source": [
    "# Вычисляем матрицу корелляций Фи\n",
    "phi_corr = data_auto.phik_matrix(interval_cols = ['price', 'registration_year',\n",
    "                                                      'power', 'kilometer']).round(2)\n",
    "\n",
    "# Строим ХитМэп корреляций Фи\n",
    "plt.figure(figsize = (10, 8))\n",
    "sns.heatmap(phi_corr, annot = True, cmap = 'coolwarm', vmin = -1, vmax = 1)\n",
    "plt.title(\"Коэффициент корреляции Фи между переменными data_auto\")\n",
    "plt.show()"
   ]
  },
  {
   "cell_type": "markdown",
   "id": "10cceab9-28ec-430d-a9ce-86496b7ff4ae",
   "metadata": {},
   "source": [
    "В ходе корреляционного анализа мы обнаружили, что мультиколлинеарность целевого признака отсутствует, т.к. ни один из параметров не коррелирует с коэффициентом 1. \\\n",
    "Посмотрим на выделяющиеся значения коэффициентов нашего целевого признака:  \n",
    "1. **`price`**:\n",
    "   - **Умеренные корреляции**:\n",
    "     - Умеренная положительная корреляция с `registration_year` **(0,6)**, `model` **(0,57)**, `power` **(0,51)** показывает нам, что все эти параметры умеренно влияют на цену автомобиля. "
   ]
  },
  {
   "cell_type": "markdown",
   "id": "540ef17f-e9bc-452b-a539-d232b91bfa4a",
   "metadata": {},
   "source": [
    "### Вывод: \n",
    "На этапе исследовательского анализа мы выяснили, что:\n",
    "- Средняя цена автомобилей в продаже - порядка **4750 евро**,\n",
    "- Самый популярный тип кузова авто - **седан**,\n",
    "- Средний год выпуска авто - **2003**,\n",
    "- Наиболее распространенной является **механическая трансмиссия**, с долей порядка 80%,\n",
    "- В среднем, в продаже авто с мощностью **120 л.с.**,\n",
    "- Топ-3 по моделям в продаже составляют **VV Golf**, *категория другие* и BMW 3er.\n",
    "- Средний пробег авто составляет **127 000** километров,\n",
    "- Самым часто распространенным типом топлива является **бензин**. \n",
    "- В топ-3 бренда входят **Volkswagen**, Opel и BMW,\n",
    "- Порядка 80 % автомобилей *не были в ДТП*.\n",
    "- А так же после очистки от аномалий мы немного сократили наш датасет до **281 537** строк.\n",
    "- Обнаружена умеренная положительная корреляция с `registration_year` **(0,6)**, `model` **(0,57)**, `power` **(0,51)**, что легко связывается с реальным миром - ведь возраст, модель и мощность первостепенно влияют на стоимость автомобиля. "
   ]
  },
  {
   "cell_type": "code",
   "execution_count": 65,
   "id": "04d1cb13",
   "metadata": {},
   "outputs": [
    {
     "data": {
      "text/plain": [
       "45255"
      ]
     },
     "execution_count": 65,
     "metadata": {},
     "output_type": "execute_result"
    }
   ],
   "source": [
    "# КОД РЕВЬЮЕРА\n",
    "\n",
    "data_auto.duplicated().sum()"
   ]
  },
  {
   "cell_type": "code",
   "execution_count": 66,
   "id": "fcfae9d3",
   "metadata": {},
   "outputs": [
    {
     "name": "stdout",
     "output_type": "stream",
     "text": [
      "<class 'pandas.core.frame.DataFrame'>\n",
      "Int64Index: 281537 entries, 0 to 326791\n",
      "Data columns (total 10 columns):\n",
      " #   Column             Non-Null Count   Dtype \n",
      "---  ------             --------------   ----- \n",
      " 0   price              281537 non-null  int64 \n",
      " 1   vehicle_type       281537 non-null  object\n",
      " 2   registration_year  281537 non-null  int64 \n",
      " 3   gearbox            281537 non-null  object\n",
      " 4   power              281537 non-null  int64 \n",
      " 5   model              281537 non-null  object\n",
      " 6   kilometer          281537 non-null  int64 \n",
      " 7   fuel_type          281537 non-null  object\n",
      " 8   brand              281537 non-null  object\n",
      " 9   repaired           281537 non-null  object\n",
      "dtypes: int64(4), object(6)\n",
      "memory usage: 23.6+ MB\n"
     ]
    }
   ],
   "source": [
    "# удаляем полные дубликаты\n",
    "data_auto.drop_duplicates(inplace = True)\n",
    "data_auto.info()"
   ]
  },
  {
   "cell_type": "markdown",
   "id": "f4328635-e65a-40ed-91be-0a7b4cf51d97",
   "metadata": {},
   "source": [
    "## Шаг 4. Подготовка выборок для обучения моделей"
   ]
  },
  {
   "cell_type": "markdown",
   "id": "cb3ecd53-d800-4594-890f-34c62b1d3428",
   "metadata": {},
   "source": [
    "Подготовим признаки и разделим данные на обучающую и тестовую выборки:"
   ]
  },
  {
   "cell_type": "code",
   "execution_count": 67,
   "id": "d45eb240-368b-464f-892e-c84089490854",
   "metadata": {},
   "outputs": [],
   "source": [
    "# используемые константы\n",
    "RANDOM_STATE = 42\n",
    "TEST_SIZE = 0.25"
   ]
  },
  {
   "cell_type": "code",
   "execution_count": 68,
   "id": "1246b39a-93ab-44eb-acc5-fc66f4a63a16",
   "metadata": {},
   "outputs": [],
   "source": [
    "data_cat = data_auto.copy()\n",
    "data_cat['registration_year'] = data_cat['registration_year'].astype(str)"
   ]
  },
  {
   "cell_type": "code",
   "execution_count": 69,
   "id": "a7be5817-c3a1-4bc7-acd1-6a4be5df867c",
   "metadata": {},
   "outputs": [],
   "source": [
    "X_train_cat, X_test_cat, y_train_cat, y_test_cat = train_test_split(data_cat.drop(['price'], axis = 1),\n",
    "                                                    data_cat['price'], \n",
    "                                                    test_size = TEST_SIZE, \n",
    "                                                    random_state = RANDOM_STATE\n",
    "                                                   )"
   ]
  },
  {
   "cell_type": "code",
   "execution_count": 70,
   "id": "9ddd8b40-930d-4a86-8f07-c7b82d9dec16",
   "metadata": {},
   "outputs": [
    {
     "name": "stdout",
     "output_type": "stream",
     "text": [
      "Размер обучающей выборки:211152\n",
      "==================================================\n",
      "Размер тестовой выборки:70385\n"
     ]
    }
   ],
   "source": [
    "print(f'Размер обучающей выборки:{y_train_cat.shape[0]}')\n",
    "print(\"=\"*50)\n",
    "print(f'Размер тестовой выборки:{y_test_cat.shape[0]}')"
   ]
  },
  {
   "cell_type": "code",
   "execution_count": 71,
   "id": "c24ecbb3-2f3a-4e6b-9ccd-e777a5065a68",
   "metadata": {},
   "outputs": [],
   "source": [
    "data_light = data_auto.copy()\n",
    "data_light = data_light.astype(\n",
    "    {\"vehicle_type\":'category', \n",
    "     \"registration_year\":'category',\n",
    "     \"gearbox\":'category', \n",
    "     \"model\":'category',\n",
    "     \"fuel_type\":'category',\n",
    "     \"brand\":'category',\n",
    "     'repaired':'category',}\n",
    ")\n"
   ]
  },
  {
   "cell_type": "code",
   "execution_count": 72,
   "id": "6717d001-9bfa-4313-8d87-565a634d8061",
   "metadata": {},
   "outputs": [],
   "source": [
    "X_train_light, X_test_light, y_train_light, y_test_light = train_test_split(data_light.drop(['price'], axis = 1),\n",
    "                                                    data_light['price'], \n",
    "                                                    test_size = TEST_SIZE, \n",
    "                                                    random_state = RANDOM_STATE\n",
    "                                                   )"
   ]
  },
  {
   "cell_type": "code",
   "execution_count": 73,
   "id": "e0ed63cc-83fd-4730-9626-c8b501e65216",
   "metadata": {},
   "outputs": [
    {
     "name": "stdout",
     "output_type": "stream",
     "text": [
      "Размер обучающей выборки:211152\n",
      "==================================================\n",
      "Размер тестовой выборки:70385\n"
     ]
    }
   ],
   "source": [
    "print(f'Размер обучающей выборки:{y_train_light.shape[0]}')\n",
    "print(\"=\"*50)\n",
    "print(f'Размер тестовой выборки:{y_test_light.shape[0]}')"
   ]
  },
  {
   "cell_type": "code",
   "execution_count": 74,
   "id": "1397d2f8-8ec8-4d61-bb55-40ff704e7bd6",
   "metadata": {},
   "outputs": [],
   "source": [
    "data_ohe = data_auto.copy()\n",
    "\n",
    "X = data_ohe.drop(['price'], axis = 1)\n",
    "y = data_ohe['price']\n",
    "X_train, X_test, y_train, y_test = train_test_split(X,\n",
    "                                                    y, \n",
    "                                                    test_size = TEST_SIZE, \n",
    "                                                    random_state = RANDOM_STATE\n",
    "                                                   )"
   ]
  },
  {
   "cell_type": "code",
   "execution_count": 75,
   "id": "9e8fd354",
   "metadata": {},
   "outputs": [],
   "source": [
    "# список категориальных признаков из датасета\n",
    "cats_features = ['vehicle_type', 'registration_year', 'gearbox', 'model', 'fuel_type', 'brand', 'repaired']\n",
    "# список количественных признаков из датасета\n",
    "colich_col_names = ['registration_year', 'power', 'kilometer']"
   ]
  },
  {
   "cell_type": "code",
   "execution_count": 76,
   "id": "00267b24",
   "metadata": {},
   "outputs": [],
   "source": [
    "# создаем переменную с экземпляром класса StandardScaler()\n",
    "scaler = StandardScaler()"
   ]
  },
  {
   "cell_type": "code",
   "execution_count": 77,
   "id": "3099dc63",
   "metadata": {},
   "outputs": [],
   "source": [
    "# обучаем и трансформируем количественные признаки из тренировочной выборки \n",
    "X_train_scaled = scaler.fit_transform(X_train[colich_col_names])"
   ]
  },
  {
   "cell_type": "code",
   "execution_count": 78,
   "id": "f9fcd278",
   "metadata": {},
   "outputs": [],
   "source": [
    "# преобразование количественных признаков в тестовой выборке\n",
    "X_test_scaled = scaler.transform(X_test[colich_col_names])"
   ]
  },
  {
   "cell_type": "code",
   "execution_count": 79,
   "id": "24047644",
   "metadata": {},
   "outputs": [],
   "source": [
    "# выберим класс OneHotEncoder() для кодирования \n",
    "# зададим параметру sparse_output значение False\n",
    "try: \n",
    "    encoder  = OneHotEncoder(handle_unknown = 'ignore', sparse = False )\n",
    "except:\n",
    "    encoder  = OneHotEncoder(handle_unknown = 'ignore', sparse_output = False )"
   ]
  },
  {
   "cell_type": "code",
   "execution_count": 80,
   "id": "fdb79962",
   "metadata": {},
   "outputs": [],
   "source": [
    "# обучим и трансформируем категориальные признаки из тренировочной выборки \n",
    "X_train_ohe = encoder.fit_transform(X_train[cats_features])"
   ]
  },
  {
   "cell_type": "code",
   "execution_count": 81,
   "id": "4f133b45",
   "metadata": {},
   "outputs": [],
   "source": [
    "# выполним преобразование категориальных признаков в тестовой выборке\n",
    "X_test_ohe = encoder.transform(X_test[cats_features])"
   ]
  },
  {
   "cell_type": "code",
   "execution_count": 82,
   "id": "ca04f94e",
   "metadata": {},
   "outputs": [],
   "source": [
    "# сохраним в переменной encoder_col_names названия новых столбцов \n",
    "try:\n",
    "    encoder_col_names =  encoder.get_feature_names()\n",
    "except:\n",
    "     encoder_col_names =  encoder.get_feature_names_out()"
   ]
  },
  {
   "cell_type": "code",
   "execution_count": 83,
   "id": "eec57f2e",
   "metadata": {},
   "outputs": [],
   "source": [
    "# создаём тренировочный и тестовый датафреймы из закодированных и отмасштабированных данных\n",
    "\n",
    "X_train_ohe = pd.DataFrame(X_train_ohe, columns = encoder_col_names)\n",
    "X_test_ohe = pd.DataFrame(X_test_ohe, columns = encoder_col_names)\n",
    "\n",
    "# для данных OHE названия столбцов укажим из переменной encoder_col_names\n",
    "X_train_scaled = pd.DataFrame(X_train_scaled, columns = colich_col_names)\n",
    "X_test_scaled = pd.DataFrame(X_test_scaled, columns = colich_col_names)"
   ]
  },
  {
   "cell_type": "code",
   "execution_count": 84,
   "id": "15241c25",
   "metadata": {},
   "outputs": [],
   "source": [
    "# объединяем все преобразованные данные в тренировочный и тестовый датафреймы\n",
    "# сбрасываем индексы в датафрейме с числовыми индексами, чтобы избежать ошибок\n",
    "X_train = pd.concat([X_train_ohe, X_train_scaled], axis = 1)\n",
    "X_test = pd.concat([X_test_ohe, X_test_scaled], axis = 1)"
   ]
  },
  {
   "cell_type": "code",
   "execution_count": 85,
   "id": "2bb4c8b5",
   "metadata": {},
   "outputs": [],
   "source": [
    "del data_light, data_ohe, data_cat, data_auto"
   ]
  },
  {
   "cell_type": "markdown",
   "id": "ef00ff23-6b27-451c-ad72-21dbd662e9a2",
   "metadata": {},
   "source": [
    "## Шаг 5. Обучение моделей"
   ]
  },
  {
   "cell_type": "markdown",
   "id": "5ae0040c-9d7c-4c50-80ac-8c3843c51084",
   "metadata": {},
   "source": [
    "### 5.1 CatBoost"
   ]
  },
  {
   "cell_type": "code",
   "execution_count": 86,
   "id": "483c8d46-32a5-4e21-af7c-99cf6bf44442",
   "metadata": {},
   "outputs": [],
   "source": [
    "model = CatBoostRegressor()\n",
    "params = {\n",
    "    'n_estimators' : [40, 90],\n",
    "    'random_state' : [RANDOM_STATE],\n",
    "    'max_depth' : [2, 6, 9],\n",
    "    'verbose':[10]\n",
    "}\n",
    "\n",
    "\n",
    "grid_cv = GridSearchCV(\n",
    "    estimator = model, \n",
    "    param_grid = params, \n",
    "    cv = 3, \n",
    "    n_jobs = -1, \n",
    "    scoring = 'neg_mean_squared_error'\n",
    ")"
   ]
  },
  {
   "cell_type": "code",
   "execution_count": 87,
   "id": "bee2b54f-5654-4bd0-b6f0-5dd8d5ea68f3",
   "metadata": {},
   "outputs": [
    {
     "name": "stdout",
     "output_type": "stream",
     "text": [
      "Learning rate set to 0.5\n",
      "0:\tlearn: 3564.0356440\ttotal: 97.9ms\tremaining: 3.82s\n",
      "10:\tlearn: 2288.4663092\ttotal: 385ms\tremaining: 1.01s\n",
      "20:\tlearn: 2128.6739789\ttotal: 641ms\tremaining: 580ms\n",
      "30:\tlearn: 2065.3749019\ttotal: 896ms\tremaining: 260ms\n",
      "39:\tlearn: 2033.9375387\ttotal: 1.12s\tremaining: 0us\n",
      "Learning rate set to 0.5\n",
      "0:\tlearn: 3567.4773868\ttotal: 41.3ms\tremaining: 1.61s\n",
      "10:\tlearn: 2275.7286279\ttotal: 323ms\tremaining: 852ms\n",
      "20:\tlearn: 2131.2359895\ttotal: 582ms\tremaining: 527ms\n",
      "30:\tlearn: 2056.0653934\ttotal: 839ms\tremaining: 244ms\n",
      "39:\tlearn: 2022.1191315\ttotal: 1.08s\tremaining: 0us\n",
      "Learning rate set to 0.5\n",
      "0:\tlearn: 3568.8358400\ttotal: 41.9ms\tremaining: 1.63s\n",
      "10:\tlearn: 2280.0965428\ttotal: 322ms\tremaining: 848ms\n",
      "20:\tlearn: 2146.8187930\ttotal: 579ms\tremaining: 524ms\n",
      "30:\tlearn: 2071.2246208\ttotal: 830ms\tremaining: 241ms\n",
      "39:\tlearn: 2037.6978243\ttotal: 1.06s\tremaining: 0us\n",
      "Learning rate set to 0.5\n",
      "0:\tlearn: 3564.0356440\ttotal: 40.7ms\tremaining: 3.62s\n",
      "10:\tlearn: 2288.4663092\ttotal: 321ms\tremaining: 2.31s\n",
      "20:\tlearn: 2128.6739789\ttotal: 584ms\tremaining: 1.92s\n",
      "30:\tlearn: 2065.3749019\ttotal: 842ms\tremaining: 1.6s\n",
      "40:\tlearn: 2030.4129423\ttotal: 1.1s\tremaining: 1.31s\n",
      "50:\tlearn: 2004.5439978\ttotal: 1.36s\tremaining: 1.04s\n",
      "60:\tlearn: 1978.4781580\ttotal: 1.62s\tremaining: 770ms\n",
      "70:\tlearn: 1962.1140064\ttotal: 1.88s\tremaining: 503ms\n",
      "80:\tlearn: 1944.7910161\ttotal: 2.14s\tremaining: 237ms\n",
      "89:\tlearn: 1937.4373532\ttotal: 2.37s\tremaining: 0us\n",
      "Learning rate set to 0.5\n",
      "0:\tlearn: 3567.4773868\ttotal: 41.6ms\tremaining: 3.7s\n",
      "10:\tlearn: 2275.7286279\ttotal: 320ms\tremaining: 2.3s\n",
      "20:\tlearn: 2131.2359895\ttotal: 579ms\tremaining: 1.9s\n",
      "30:\tlearn: 2056.0653934\ttotal: 840ms\tremaining: 1.6s\n",
      "40:\tlearn: 2017.0988492\ttotal: 1.1s\tremaining: 1.32s\n",
      "50:\tlearn: 1994.8919148\ttotal: 1.36s\tremaining: 1.04s\n",
      "60:\tlearn: 1970.0471534\ttotal: 1.62s\tremaining: 769ms\n",
      "70:\tlearn: 1953.8327261\ttotal: 1.88s\tremaining: 502ms\n",
      "80:\tlearn: 1941.2757126\ttotal: 2.13s\tremaining: 237ms\n",
      "89:\tlearn: 1931.5147712\ttotal: 2.36s\tremaining: 0us\n",
      "Learning rate set to 0.5\n",
      "0:\tlearn: 3568.8358400\ttotal: 41.3ms\tremaining: 3.67s\n",
      "10:\tlearn: 2280.0965428\ttotal: 332ms\tremaining: 2.38s\n",
      "20:\tlearn: 2146.8187930\ttotal: 597ms\tremaining: 1.96s\n",
      "30:\tlearn: 2071.2246208\ttotal: 852ms\tremaining: 1.62s\n",
      "40:\tlearn: 2035.9764407\ttotal: 1.11s\tremaining: 1.33s\n",
      "50:\tlearn: 2006.0454618\ttotal: 1.37s\tremaining: 1.05s\n",
      "60:\tlearn: 1982.9184940\ttotal: 1.62s\tremaining: 772ms\n",
      "70:\tlearn: 1963.5685658\ttotal: 1.88s\tremaining: 503ms\n",
      "80:\tlearn: 1946.5746627\ttotal: 2.14s\tremaining: 237ms\n",
      "89:\tlearn: 1937.8302440\ttotal: 2.37s\tremaining: 0us\n",
      "Learning rate set to 0.5\n",
      "0:\tlearn: 3238.6431218\ttotal: 72ms\tremaining: 2.81s\n",
      "10:\tlearn: 1949.1176052\ttotal: 660ms\tremaining: 1.74s\n",
      "20:\tlearn: 1858.3925138\ttotal: 1.21s\tremaining: 1.09s\n",
      "30:\tlearn: 1801.4225845\ttotal: 1.74s\tremaining: 504ms\n",
      "39:\tlearn: 1773.0184034\ttotal: 2.23s\tremaining: 0us\n",
      "Learning rate set to 0.5\n",
      "0:\tlearn: 3238.9016726\ttotal: 69.2ms\tremaining: 2.7s\n",
      "10:\tlearn: 1939.8141797\ttotal: 632ms\tremaining: 1.67s\n",
      "20:\tlearn: 1844.4903051\ttotal: 1.15s\tremaining: 1.04s\n",
      "30:\tlearn: 1805.5056612\ttotal: 1.68s\tremaining: 487ms\n",
      "39:\tlearn: 1777.9480711\ttotal: 2.16s\tremaining: 0us\n",
      "Learning rate set to 0.5\n",
      "0:\tlearn: 3274.1602318\ttotal: 68.1ms\tremaining: 2.65s\n",
      "10:\tlearn: 1923.0665868\ttotal: 620ms\tremaining: 1.63s\n",
      "20:\tlearn: 1844.4784799\ttotal: 1.15s\tremaining: 1.04s\n",
      "30:\tlearn: 1798.1911686\ttotal: 1.67s\tremaining: 486ms\n",
      "39:\tlearn: 1773.4332834\ttotal: 2.15s\tremaining: 0us\n",
      "Learning rate set to 0.5\n",
      "0:\tlearn: 3238.6431218\ttotal: 68.5ms\tremaining: 6.1s\n",
      "10:\tlearn: 1949.1176052\ttotal: 628ms\tremaining: 4.51s\n",
      "20:\tlearn: 1858.3925138\ttotal: 1.2s\tremaining: 3.94s\n",
      "30:\tlearn: 1801.4225845\ttotal: 1.71s\tremaining: 3.26s\n",
      "40:\tlearn: 1770.1560809\ttotal: 2.24s\tremaining: 2.68s\n",
      "50:\tlearn: 1746.6948520\ttotal: 2.78s\tremaining: 2.13s\n",
      "60:\tlearn: 1733.1906287\ttotal: 3.29s\tremaining: 1.57s\n",
      "70:\tlearn: 1717.3302848\ttotal: 3.83s\tremaining: 1.02s\n",
      "80:\tlearn: 1703.9443651\ttotal: 4.38s\tremaining: 486ms\n",
      "89:\tlearn: 1694.9830621\ttotal: 4.87s\tremaining: 0us\n",
      "Learning rate set to 0.5\n",
      "0:\tlearn: 3238.9016726\ttotal: 72.3ms\tremaining: 6.44s\n",
      "10:\tlearn: 1939.8141797\ttotal: 650ms\tremaining: 4.67s\n",
      "20:\tlearn: 1844.4903051\ttotal: 1.18s\tremaining: 3.88s\n",
      "30:\tlearn: 1805.5056612\ttotal: 1.71s\tremaining: 3.26s\n",
      "40:\tlearn: 1775.8144678\ttotal: 2.27s\tremaining: 2.71s\n",
      "50:\tlearn: 1757.8145959\ttotal: 2.81s\tremaining: 2.15s\n",
      "60:\tlearn: 1743.0810615\ttotal: 3.34s\tremaining: 1.59s\n",
      "70:\tlearn: 1725.4151680\ttotal: 3.88s\tremaining: 1.04s\n",
      "80:\tlearn: 1712.8067718\ttotal: 4.42s\tremaining: 492ms\n",
      "89:\tlearn: 1702.0751356\ttotal: 4.92s\tremaining: 0us\n",
      "Learning rate set to 0.5\n",
      "0:\tlearn: 3274.1602318\ttotal: 69.6ms\tremaining: 6.2s\n",
      "10:\tlearn: 1923.0665868\ttotal: 652ms\tremaining: 4.68s\n",
      "20:\tlearn: 1844.4784799\ttotal: 1.18s\tremaining: 3.88s\n",
      "30:\tlearn: 1798.1911686\ttotal: 1.71s\tremaining: 3.26s\n",
      "40:\tlearn: 1771.1811746\ttotal: 2.25s\tremaining: 2.69s\n",
      "50:\tlearn: 1751.4673283\ttotal: 2.83s\tremaining: 2.16s\n",
      "60:\tlearn: 1741.8004874\ttotal: 3.38s\tremaining: 1.6s\n",
      "70:\tlearn: 1728.1748823\ttotal: 3.92s\tremaining: 1.05s\n",
      "80:\tlearn: 1714.6703564\ttotal: 4.46s\tremaining: 495ms\n",
      "89:\tlearn: 1702.3067945\ttotal: 4.92s\tremaining: 0us\n",
      "Learning rate set to 0.5\n",
      "0:\tlearn: 3150.0920354\ttotal: 106ms\tremaining: 4.14s\n",
      "10:\tlearn: 1818.6214909\ttotal: 971ms\tremaining: 2.56s\n",
      "20:\tlearn: 1724.8594082\ttotal: 1.8s\tremaining: 1.63s\n",
      "30:\tlearn: 1689.3459699\ttotal: 2.62s\tremaining: 762ms\n",
      "39:\tlearn: 1656.4693284\ttotal: 3.42s\tremaining: 0us\n",
      "Learning rate set to 0.5\n",
      "0:\tlearn: 3156.6077730\ttotal: 102ms\tremaining: 3.96s\n",
      "10:\tlearn: 1815.0355561\ttotal: 955ms\tremaining: 2.52s\n",
      "20:\tlearn: 1737.9094692\ttotal: 1.79s\tremaining: 1.62s\n",
      "30:\tlearn: 1684.6225743\ttotal: 2.65s\tremaining: 770ms\n",
      "39:\tlearn: 1645.1894756\ttotal: 3.43s\tremaining: 0us\n",
      "Learning rate set to 0.5\n",
      "0:\tlearn: 3152.2608615\ttotal: 107ms\tremaining: 4.16s\n",
      "10:\tlearn: 1824.4324751\ttotal: 989ms\tremaining: 2.61s\n",
      "20:\tlearn: 1732.7330683\ttotal: 1.85s\tremaining: 1.67s\n",
      "30:\tlearn: 1682.0864447\ttotal: 2.68s\tremaining: 778ms\n",
      "39:\tlearn: 1649.0238593\ttotal: 3.44s\tremaining: 0us\n",
      "Learning rate set to 0.5\n",
      "0:\tlearn: 3150.0920354\ttotal: 128ms\tremaining: 11.4s\n",
      "10:\tlearn: 1818.6214909\ttotal: 972ms\tremaining: 6.98s\n",
      "20:\tlearn: 1724.8594082\ttotal: 1.79s\tremaining: 5.9s\n",
      "30:\tlearn: 1689.3459699\ttotal: 2.61s\tremaining: 4.97s\n",
      "40:\tlearn: 1651.1714337\ttotal: 3.44s\tremaining: 4.11s\n",
      "50:\tlearn: 1618.0248834\ttotal: 4.28s\tremaining: 3.27s\n",
      "60:\tlearn: 1592.8647583\ttotal: 5.11s\tremaining: 2.43s\n",
      "70:\tlearn: 1575.1212750\ttotal: 5.93s\tremaining: 1.59s\n",
      "80:\tlearn: 1554.7225932\ttotal: 6.75s\tremaining: 750ms\n",
      "89:\tlearn: 1538.9399871\ttotal: 7.49s\tremaining: 0us\n",
      "Learning rate set to 0.5\n",
      "0:\tlearn: 3156.6077730\ttotal: 115ms\tremaining: 10.3s\n",
      "10:\tlearn: 1815.0355561\ttotal: 985ms\tremaining: 7.07s\n",
      "20:\tlearn: 1737.9094692\ttotal: 1.83s\tremaining: 6.01s\n",
      "30:\tlearn: 1684.6225743\ttotal: 2.65s\tremaining: 5.05s\n",
      "40:\tlearn: 1641.3615901\ttotal: 3.48s\tremaining: 4.16s\n",
      "50:\tlearn: 1607.5681689\ttotal: 4.31s\tremaining: 3.3s\n",
      "60:\tlearn: 1590.3527675\ttotal: 5.15s\tremaining: 2.45s\n",
      "70:\tlearn: 1573.4036270\ttotal: 5.97s\tremaining: 1.6s\n",
      "80:\tlearn: 1555.2207332\ttotal: 6.79s\tremaining: 754ms\n",
      "89:\tlearn: 1544.3051189\ttotal: 7.51s\tremaining: 0us\n",
      "Learning rate set to 0.5\n",
      "0:\tlearn: 3152.2608615\ttotal: 104ms\tremaining: 9.25s\n",
      "10:\tlearn: 1824.4324751\ttotal: 954ms\tremaining: 6.85s\n",
      "20:\tlearn: 1732.7330683\ttotal: 1.79s\tremaining: 5.89s\n",
      "30:\tlearn: 1682.0864447\ttotal: 2.66s\tremaining: 5.06s\n",
      "40:\tlearn: 1645.2429473\ttotal: 3.5s\tremaining: 4.19s\n",
      "50:\tlearn: 1620.0689132\ttotal: 4.31s\tremaining: 3.3s\n",
      "60:\tlearn: 1596.3214809\ttotal: 5.13s\tremaining: 2.44s\n",
      "70:\tlearn: 1575.4521274\ttotal: 5.95s\tremaining: 1.59s\n",
      "80:\tlearn: 1558.2171964\ttotal: 6.76s\tremaining: 751ms\n",
      "89:\tlearn: 1543.3121427\ttotal: 7.49s\tremaining: 0us\n",
      "Learning rate set to 0.5\n",
      "0:\tlearn: 3168.2115597\ttotal: 146ms\tremaining: 13s\n",
      "10:\tlearn: 1811.3622419\ttotal: 1.38s\tremaining: 9.92s\n",
      "20:\tlearn: 1733.8294064\ttotal: 2.55s\tremaining: 8.38s\n",
      "30:\tlearn: 1684.2810374\ttotal: 3.78s\tremaining: 7.2s\n",
      "40:\tlearn: 1646.6886166\ttotal: 4.99s\tremaining: 5.96s\n",
      "50:\tlearn: 1619.7603063\ttotal: 6.17s\tremaining: 4.72s\n",
      "60:\tlearn: 1597.2176121\ttotal: 7.38s\tremaining: 3.51s\n",
      "70:\tlearn: 1579.1451206\ttotal: 8.61s\tremaining: 2.3s\n",
      "80:\tlearn: 1565.9801999\ttotal: 9.8s\tremaining: 1.09s\n",
      "89:\tlearn: 1556.8557763\ttotal: 10.9s\tremaining: 0us\n"
     ]
    },
    {
     "name": "stdout",
     "output_type": "stream",
     "text": [
      "Лучшие гиперпараметры:  {'max_depth': 9, 'n_estimators': 90, 'random_state': 42, 'verbose': 10}\n",
      "RMSE на тренировочной выборке: 1697.989\n",
      "\n",
      "CPU times: user 1min 20s, sys: 2.42 s, total: 1min 23s\n",
      "Wall time: 1min 38s\n"
     ]
    }
   ],
   "source": [
    "%%time\n",
    "\n",
    "grid_cv.fit(X_train_cat, y_train_cat, cat_features = cats_features)\n",
    "cat_best_params = grid_cv.best_params_\n",
    "print('Лучшие гиперпараметры: ', grid_cv.best_params_)\n",
    "print(f'RMSE на тренировочной выборке: {round((-grid_cv.best_score_) ** 0.5, 3)}\\n')"
   ]
  },
  {
   "cell_type": "markdown",
   "id": "c1570bba-905c-440b-83e4-cbe4c6f43782",
   "metadata": {},
   "source": [
    "Значение метрики RMSE удовлетворяет условию задачи, т.к. меньше 2500 евро. "
   ]
  },
  {
   "cell_type": "markdown",
   "id": "365b31c3-17ac-4e78-8497-9ec3a0cfdcbe",
   "metadata": {},
   "source": [
    "### 5.2 LightGBM"
   ]
  },
  {
   "cell_type": "code",
   "execution_count": 88,
   "id": "3e5735ca-91a4-4ca1-8026-47d413e58392",
   "metadata": {},
   "outputs": [
    {
     "name": "stdout",
     "output_type": "stream",
     "text": [
      "CPU times: user 239 µs, sys: 11 µs, total: 250 µs\n",
      "Wall time: 255 µs\n"
     ]
    }
   ],
   "source": [
    "%%time\n",
    "\n",
    "model = LGBMRegressor()\n",
    "params = {\n",
    "    'metric': ['l2'],\n",
    "    'boosting_type' : ['gbdt'],\n",
    "    'n_estimators' : [25, 75],\n",
    "    'max_depth' : [4, 6, 9],\n",
    "    'random_state' : [RANDOM_STATE],\n",
    "    'force_col_wise': [True],\n",
    "    'num_leaves' : [64],\n",
    "}\n",
    "grid_cv = GridSearchCV(\n",
    "    estimator = model,\n",
    "    param_grid = params,\n",
    "    cv = 3, \n",
    "    n_jobs = -1, \n",
    "    scoring = 'neg_mean_squared_error'\n",
    ")"
   ]
  },
  {
   "cell_type": "code",
   "execution_count": 89,
   "id": "ab000d9f-61e3-470c-8440-664fe41635b7",
   "metadata": {},
   "outputs": [
    {
     "name": "stdout",
     "output_type": "stream",
     "text": [
      "Лучшие гиперпараметры:  {'boosting_type': 'gbdt', 'force_col_wise': True, 'max_depth': 9, 'metric': 'l2', 'n_estimators': 75, 'num_leaves': 64, 'random_state': 42}\n",
      "RMSE на тренировочной выборке: 1660.102\n",
      "\n",
      "CPU times: user 1min 28s, sys: 541 ms, total: 1min 29s\n",
      "Wall time: 1min 30s\n"
     ]
    }
   ],
   "source": [
    "%%time\n",
    "\n",
    "grid_cv.fit(X_train_light, y_train_light)\n",
    "gbm_best_params = grid_cv.best_params_\n",
    "print('Лучшие гиперпараметры: ', grid_cv.best_params_)\n",
    "print(f'RMSE на тренировочной выборке: {round((-grid_cv.best_score_) ** 0.5, 3)}\\n')"
   ]
  },
  {
   "cell_type": "markdown",
   "id": "f478030c-c51b-4c4d-8740-49843eb67c5d",
   "metadata": {},
   "source": [
    "Значение метрики RMSE удовлетворяет условию задачи, т.к. меньше 2500."
   ]
  },
  {
   "cell_type": "markdown",
   "id": "f02c7de4-b657-4c35-940c-f86beec18082",
   "metadata": {},
   "source": [
    "### 5.3 Модель без бустинга:"
   ]
  },
  {
   "cell_type": "code",
   "execution_count": 90,
   "id": "81a5b27f-1357-4fcd-bcd4-9d14ed2a27e8",
   "metadata": {},
   "outputs": [
    {
     "name": "stdout",
     "output_type": "stream",
     "text": [
      "RMSE на тренировочной выборке: 968.489\n",
      "\n",
      "CPU times: user 8min 16s, sys: 2.16 s, total: 8min 18s\n",
      "Wall time: 8min 19s\n"
     ]
    }
   ],
   "source": [
    "%%time\n",
    "\n",
    "model = RandomForestRegressor(criterion = \"mse\", \n",
    "                              random_state = RANDOM_STATE, \n",
    "                              n_estimators = 100, \n",
    "                              n_jobs = -1\n",
    "                             )\n",
    "model.fit(X_train, y_train)\n",
    "y_pred = model.predict(X_train)\n",
    "print(f'RMSE на тренировочной выборке: {round(mse(y_train, y_pred) ** 0.5, 3)}\\n')"
   ]
  },
  {
   "cell_type": "markdown",
   "id": "4ba033e6-7cd7-47e4-9135-058db9dd45ca",
   "metadata": {},
   "source": [
    "## Шаг 6. Анализ времени обучения, времени предсказания и качества моделей"
   ]
  },
  {
   "cell_type": "code",
   "execution_count": 91,
   "id": "ff858b1b-c44e-437f-aea9-fe849ebc12df",
   "metadata": {},
   "outputs": [
    {
     "data": {
      "text/html": [
       "<div>\n",
       "<style scoped>\n",
       "    .dataframe tbody tr th:only-of-type {\n",
       "        vertical-align: middle;\n",
       "    }\n",
       "\n",
       "    .dataframe tbody tr th {\n",
       "        vertical-align: top;\n",
       "    }\n",
       "\n",
       "    .dataframe thead th {\n",
       "        text-align: right;\n",
       "    }\n",
       "</style>\n",
       "<table border=\"1\" class=\"dataframe\">\n",
       "  <thead>\n",
       "    <tr style=\"text-align: right;\">\n",
       "      <th></th>\n",
       "      <th>Model</th>\n",
       "      <th>Тренировочное RMSE</th>\n",
       "      <th>Тренировочное время, сек</th>\n",
       "    </tr>\n",
       "  </thead>\n",
       "  <tbody>\n",
       "    <tr>\n",
       "      <th>0</th>\n",
       "      <td>CatBoost</td>\n",
       "      <td>1697.989</td>\n",
       "      <td>1 м. 24 сек.</td>\n",
       "    </tr>\n",
       "    <tr>\n",
       "      <th>1</th>\n",
       "      <td>LightGBM</td>\n",
       "      <td>1660.102</td>\n",
       "      <td>1 м. 7 сек.</td>\n",
       "    </tr>\n",
       "    <tr>\n",
       "      <th>2</th>\n",
       "      <td>RandomForest</td>\n",
       "      <td>968.489</td>\n",
       "      <td>8 м. 18 сек.</td>\n",
       "    </tr>\n",
       "  </tbody>\n",
       "</table>\n",
       "</div>"
      ],
      "text/plain": [
       "          Model  Тренировочное RMSE Тренировочное время, сек\n",
       "0      CatBoost            1697.989             1 м. 24 сек.\n",
       "1      LightGBM            1660.102              1 м. 7 сек.\n",
       "2  RandomForest             968.489             8 м. 18 сек."
      ]
     },
     "metadata": {},
     "output_type": "display_data"
    }
   ],
   "source": [
    "result = {\n",
    "    'Model' : ['CatBoost','LightGBM', 'RandomForest'],\n",
    "    'Тренировочное RMSE' :pd.Series([1697.989, 1660.102, 968.489]),\n",
    "    'Тренировочное время, сек': pd.Series(['1 м. 24 сек.', '1 м. 7 сек.', '8 м. 18 сек.']),\n",
    "    }\n",
    "\n",
    "display(pd.DataFrame(result))"
   ]
  },
  {
   "cell_type": "markdown",
   "id": "471d295b-bdd5-4243-9976-668f201640d5",
   "metadata": {},
   "source": [
    "Исходя из полученных результатов можно сделать вывод:\n",
    "- Все рассмотренные модели преодолели порог погрешности в `2500 евро` .\n",
    "- Наименьшую ошибку на тренировочных данных выдают `RandomForest (ohe)` и `LightGBM`.\n",
    "- `LightGBM` очень зависит от загруженности удаленного GPU, в разное время суток - разное время работы. \n",
    "- `RandomForest` самая точная модель из всех, однако скорость стабильно не высокая (порядка 10 минут).\n",
    "\n",
    "Посмотрим, как поведут себя наши модели на тестовой выборке. "
   ]
  },
  {
   "cell_type": "markdown",
   "id": "26583bec-2274-4636-85af-41884d392c79",
   "metadata": {},
   "source": [
    "## Шаг 7. Проверим качество моделей на тестовой выборке"
   ]
  },
  {
   "cell_type": "markdown",
   "id": "ea1724b7-0961-4ff9-985f-f01271b47ec8",
   "metadata": {},
   "source": [
    "### 7.1 CatBoost"
   ]
  },
  {
   "cell_type": "code",
   "execution_count": 92,
   "id": "03fe6dd5-78c8-4a18-a3eb-ec45428ad9f8",
   "metadata": {},
   "outputs": [
    {
     "name": "stdout",
     "output_type": "stream",
     "text": [
      "Learning rate set to 0.5\n",
      "0:\tlearn: 3168.2115597\ttotal: 146ms\tremaining: 13s\n",
      "10:\tlearn: 1811.3622419\ttotal: 1.38s\tremaining: 9.93s\n",
      "20:\tlearn: 1733.8294064\ttotal: 2.6s\tremaining: 8.56s\n",
      "30:\tlearn: 1684.2810374\ttotal: 3.81s\tremaining: 7.25s\n",
      "40:\tlearn: 1646.6886166\ttotal: 5s\tremaining: 5.98s\n",
      "50:\tlearn: 1619.7603063\ttotal: 6.2s\tremaining: 4.74s\n",
      "60:\tlearn: 1597.2176121\ttotal: 7.42s\tremaining: 3.53s\n",
      "70:\tlearn: 1579.1451206\ttotal: 8.62s\tremaining: 2.31s\n",
      "80:\tlearn: 1565.9801999\ttotal: 9.81s\tremaining: 1.09s\n",
      "89:\tlearn: 1556.8557763\ttotal: 10.9s\tremaining: 0us\n",
      "метрика RMSE на тестовой выборке = 1668.157\n",
      "CPU times: user 11 s, sys: 394 ms, total: 11.4 s\n",
      "Wall time: 12.3 s\n"
     ]
    }
   ],
   "source": [
    "%%time\n",
    "\n",
    "cat_model = CatBoostRegressor(**cat_best_params)\n",
    "cat_model.fit(X_train_cat, y_train_cat, cat_features = cats_features)\n",
    "cat_pred = cat_model.predict(X_test_cat)\n",
    "print(f'метрика RMSE на тестовой выборке = {round(mse(y_test_cat, cat_pred)**0.5, 3)}')"
   ]
  },
  {
   "cell_type": "code",
   "execution_count": 93,
   "id": "9f9c10bf-d53f-4132-b7d0-0f936679029d",
   "metadata": {},
   "outputs": [
    {
     "data": {
      "text/html": [
       "<div>\n",
       "<style scoped>\n",
       "    .dataframe tbody tr th:only-of-type {\n",
       "        vertical-align: middle;\n",
       "    }\n",
       "\n",
       "    .dataframe tbody tr th {\n",
       "        vertical-align: top;\n",
       "    }\n",
       "\n",
       "    .dataframe thead th {\n",
       "        text-align: right;\n",
       "    }\n",
       "</style>\n",
       "<table border=\"1\" class=\"dataframe\">\n",
       "  <thead>\n",
       "    <tr style=\"text-align: right;\">\n",
       "      <th></th>\n",
       "      <th>Model</th>\n",
       "      <th>Тестовое RMSE</th>\n",
       "      <th>Тестовое время, сек</th>\n",
       "    </tr>\n",
       "  </thead>\n",
       "  <tbody>\n",
       "    <tr>\n",
       "      <th>0</th>\n",
       "      <td>CatBoost</td>\n",
       "      <td>1668.157</td>\n",
       "      <td>0 м. 11 сек.</td>\n",
       "    </tr>\n",
       "  </tbody>\n",
       "</table>\n",
       "</div>"
      ],
      "text/plain": [
       "      Model  Тестовое RMSE Тестовое время, сек\n",
       "0  CatBoost       1668.157        0 м. 11 сек."
      ]
     },
     "metadata": {},
     "output_type": "display_data"
    }
   ],
   "source": [
    "res = {\n",
    "    'Model' : ['CatBoost'],\n",
    "    'Тестовое RMSE' :pd.Series([1668.157]),\n",
    "    'Тестовое время, сек': pd.Series(['0 м. 11 сек.']),\n",
    "    }\n",
    "\n",
    "display(pd.DataFrame(res))"
   ]
  },
  {
   "cell_type": "markdown",
   "id": "baac6615-d3e1-4945-8faf-a893dde21704",
   "metadata": {},
   "source": [
    "### ВЫВОД\n",
    "На тестовых данных модель CatBoost показала ошибку в 1668, 16 евро, что подходит под критерий заказчика ! \n",
    "\n",
    "**UPD:\n",
    "Это было в локальной версии, на JHUB LGBM обучалась почти целых пол часа, поэтому выбираем CATBOOST, так как у него меньшая погрешность и наименьшее время обучения.**"
   ]
  },
  {
   "cell_type": "markdown",
   "id": "a0100d8f-b1e7-4bad-bf11-42cfef38968a",
   "metadata": {},
   "source": [
    "# Вывод по проекту:\n",
    "В данном исследовании перед нами стояла задача построить модель, которая умеет определять рыночную стоимость автомобиля.\\\n",
    "Критерии, которые важны заказчику:\n",
    "- Качество предсказания;\n",
    "- Время обучения модели;\n",
    "- Время предсказания модели.\n",
    "\n",
    "\n",
    "1. На *первом* шаге мы **загрузили** и посмотрели данные:\n",
    "- `data_auto` на **16** колонок и **354 369** строк.\n",
    "\n",
    "\n",
    "2. На этапе **предобработки данных**\n",
    "- Удалили неинформативные столбцы;\n",
    "- Привели названия столбцов в общепринятый вид;\n",
    "- Обработали пропущенные значения - пропуски заполнены по смыслу медианными, либо рандомными значениями;\n",
    "- Проверили датафрейм на явные/неявные дубликаты, удалено *45280* явных дубликатов.\n",
    "\n",
    "\n",
    "3. На этапе **исследовательского анализа** данных мы выяснили, что:\n",
    "- Средняя цена автомобилей в продаже - порядка **4750 евро**,\n",
    "- Самый популярный тип кузова авто - **седан**,\n",
    "- Средний год выпуска авто - **2003**,\n",
    "- Наиболее распространенной является **механическая трансмиссия**, с долей порядка 80%,\n",
    "- В среднем, в продаже авто с мощностью **120 л.с.**,\n",
    "- Топ-3 по моделям в продаже составляют **VV Golf**, *категория другие* и BMW 3er.\n",
    "- Средний пробег авто составляет **127 000** километров,\n",
    "- Самым часто распространенным типом топлива является **бензин**. \n",
    "- В топ-3 бренда входят **Volkswagen**, Opel и BMW,\n",
    "- Порядка 80 % автомобилей *не были в ДТП*.\n",
    "- А так же после очистки от аномалий мы немного сократили наш датасет до **281 537** строк.\n",
    "- Обнаружена умеренная положительная корреляция с `registration_year` **(0,60)**, `model` **(0,57)**, `power` **(0,51)**, что легко связывается с реальным миром - ведь возраст, модель и мощность первостепенно влияют на стоимость автомобиля. \n",
    "\n",
    "4. На этапе **подготовки** - данные со разделены на обучающую и тестовую выборки в соотношении.\n",
    "\n",
    "5. На данном этапе обучены модели:\n",
    "- RandomForest\n",
    "- CatBoost\n",
    "- LightGBM\n",
    "\n",
    "6. Проанализировав результаты делаем вывод: \n",
    "- Все рассмотренные модели преодолели порог погрешности в `2500 евро` .\n",
    "- Наименьшую ошибку на тренировочных данных выдают `RandomForest (ohe)` и `LightGBM`.\n",
    "- `LightGBM` очень зависит от загруженности удаленного GPU, в разное время суток - разное время работы. \n",
    "- `RandomForest` самая точная модель из всех, однако скорость стабильно не высокая (порядка 10 минут).\n",
    "\n",
    "7. Проверив качество моделей на тестовой выборке получили: \n",
    "| Model         | Тестовое RMSE | Тестовое время, сек |\n",
    "|---------------|--------------:|--------------------:|\n",
    "| CatBoost      | 1697.989      | 1 м. 24 сек.        |\n",
    "| LightGBM      | 1660.102      | 1 м. 7 сек.         |\n",
    "| RandomForest  |  968.489      | 8 м. 18 сек.        |\n",
    "\n",
    "**CatBoost** быстро справляется с обучением и прогнозированием - стоит рекомендовать заказчику сделать выбор в её пользу ! "
   ]
  }
 ],
 "metadata": {
  "ExecuteTimeLog": [
   {
    "duration": 8343,
    "start_time": "2025-07-24T13:51:00.733Z"
   },
   {
    "duration": 1672,
    "start_time": "2025-07-24T13:51:09.079Z"
   },
   {
    "duration": 879,
    "start_time": "2025-07-24T13:51:10.753Z"
   },
   {
    "duration": 160,
    "start_time": "2025-07-24T13:51:11.634Z"
   },
   {
    "duration": 17,
    "start_time": "2025-07-24T13:51:11.796Z"
   },
   {
    "duration": 42,
    "start_time": "2025-07-24T13:51:11.814Z"
   },
   {
    "duration": 11,
    "start_time": "2025-07-24T13:51:11.857Z"
   },
   {
    "duration": 16,
    "start_time": "2025-07-24T13:51:11.870Z"
   },
   {
    "duration": 3,
    "start_time": "2025-07-24T13:51:11.888Z"
   },
   {
    "duration": 15,
    "start_time": "2025-07-24T13:51:11.893Z"
   },
   {
    "duration": 208,
    "start_time": "2025-07-24T13:51:11.910Z"
   },
   {
    "duration": 3,
    "start_time": "2025-07-24T13:51:12.120Z"
   },
   {
    "duration": 1564,
    "start_time": "2025-07-24T13:51:12.124Z"
   },
   {
    "duration": 22,
    "start_time": "2025-07-24T13:51:13.691Z"
   },
   {
    "duration": 42,
    "start_time": "2025-07-24T13:51:13.714Z"
   },
   {
    "duration": 23,
    "start_time": "2025-07-24T13:51:13.758Z"
   },
   {
    "duration": 2022,
    "start_time": "2025-07-24T13:51:13.783Z"
   },
   {
    "duration": 21,
    "start_time": "2025-07-24T13:51:15.807Z"
   },
   {
    "duration": 571,
    "start_time": "2025-07-24T13:51:15.830Z"
   },
   {
    "duration": 57,
    "start_time": "2025-07-24T13:51:16.403Z"
   },
   {
    "duration": 279,
    "start_time": "2025-07-24T13:51:16.462Z"
   },
   {
    "duration": 165,
    "start_time": "2025-07-24T13:51:16.742Z"
   },
   {
    "duration": 198,
    "start_time": "2025-07-24T13:51:16.908Z"
   },
   {
    "duration": 21,
    "start_time": "2025-07-24T13:51:17.107Z"
   },
   {
    "duration": 99,
    "start_time": "2025-07-24T13:51:17.130Z"
   },
   {
    "duration": 30,
    "start_time": "2025-07-24T13:51:17.231Z"
   },
   {
    "duration": 22,
    "start_time": "2025-07-24T13:51:17.263Z"
   },
   {
    "duration": 31,
    "start_time": "2025-07-24T13:51:17.287Z"
   },
   {
    "duration": 46,
    "start_time": "2025-07-24T13:51:17.320Z"
   },
   {
    "duration": 99,
    "start_time": "2025-07-24T13:51:17.368Z"
   },
   {
    "duration": 267,
    "start_time": "2025-07-24T13:51:17.469Z"
   },
   {
    "duration": 157,
    "start_time": "2025-07-24T13:51:17.738Z"
   },
   {
    "duration": 180,
    "start_time": "2025-07-24T13:51:17.897Z"
   },
   {
    "duration": 14,
    "start_time": "2025-07-24T13:51:18.079Z"
   },
   {
    "duration": 44,
    "start_time": "2025-07-24T13:51:18.095Z"
   },
   {
    "duration": 20,
    "start_time": "2025-07-24T13:51:18.141Z"
   },
   {
    "duration": 11,
    "start_time": "2025-07-24T13:51:18.163Z"
   },
   {
    "duration": 23,
    "start_time": "2025-07-24T13:51:18.176Z"
   },
   {
    "duration": 49,
    "start_time": "2025-07-24T13:51:18.200Z"
   },
   {
    "duration": 238,
    "start_time": "2025-07-24T13:51:18.251Z"
   },
   {
    "duration": 125,
    "start_time": "2025-07-24T13:51:18.494Z"
   },
   {
    "duration": 130,
    "start_time": "2025-07-24T13:51:18.621Z"
   },
   {
    "duration": 16,
    "start_time": "2025-07-24T13:51:18.752Z"
   },
   {
    "duration": 22,
    "start_time": "2025-07-24T13:51:18.770Z"
   },
   {
    "duration": 8482,
    "start_time": "2025-07-24T13:51:18.794Z"
   },
   {
    "duration": 6,
    "start_time": "2025-07-24T13:51:27.278Z"
   },
   {
    "duration": 22,
    "start_time": "2025-07-24T13:51:27.286Z"
   },
   {
    "duration": 42,
    "start_time": "2025-07-24T13:51:27.310Z"
   },
   {
    "duration": 65,
    "start_time": "2025-07-24T13:51:27.354Z"
   },
   {
    "duration": 33,
    "start_time": "2025-07-24T13:51:27.421Z"
   },
   {
    "duration": 232,
    "start_time": "2025-07-24T13:51:27.456Z"
   },
   {
    "duration": 217,
    "start_time": "2025-07-24T13:51:27.690Z"
   },
   {
    "duration": 14,
    "start_time": "2025-07-24T13:51:27.909Z"
   },
   {
    "duration": 213,
    "start_time": "2025-07-24T13:51:27.925Z"
   },
   {
    "duration": 191,
    "start_time": "2025-07-24T13:51:28.139Z"
   },
   {
    "duration": 193,
    "start_time": "2025-07-24T13:51:28.331Z"
   },
   {
    "duration": 128,
    "start_time": "2025-07-24T13:51:28.526Z"
   },
   {
    "duration": 93,
    "start_time": "2025-07-24T13:51:28.656Z"
   },
   {
    "duration": 14,
    "start_time": "2025-07-24T13:51:28.751Z"
   },
   {
    "duration": 5260,
    "start_time": "2025-07-24T13:51:28.766Z"
   },
   {
    "duration": 2,
    "start_time": "2025-07-24T13:51:34.028Z"
   },
   {
    "duration": 266,
    "start_time": "2025-07-24T13:51:34.032Z"
   },
   {
    "duration": 148,
    "start_time": "2025-07-24T13:51:34.300Z"
   },
   {
    "duration": 4,
    "start_time": "2025-07-24T13:51:34.450Z"
   },
   {
    "duration": 273,
    "start_time": "2025-07-24T13:51:34.455Z"
   },
   {
    "duration": 35,
    "start_time": "2025-07-24T13:51:34.730Z"
   },
   {
    "duration": 4,
    "start_time": "2025-07-24T13:51:34.766Z"
   },
   {
    "duration": 872,
    "start_time": "2025-07-24T13:51:34.772Z"
   },
   {
    "duration": 252,
    "start_time": "2025-07-24T13:51:35.648Z"
   },
   {
    "duration": 4,
    "start_time": "2025-07-24T13:51:35.902Z"
   },
   {
    "duration": 83992,
    "start_time": "2025-07-24T13:51:35.907Z"
   },
   {
    "duration": 5,
    "start_time": "2025-07-24T13:52:59.900Z"
   },
   {
    "duration": 62447,
    "start_time": "2025-07-24T13:52:59.907Z"
   },
   {
    "duration": 640,
    "start_time": "2025-07-24T13:54:02.356Z"
   },
   {
    "duration": 10,
    "start_time": "2025-07-24T13:54:02.998Z"
   },
   {
    "duration": 148,
    "start_time": "2025-07-24T13:54:03.010Z"
   },
   {
    "duration": 9702,
    "start_time": "2025-07-24T13:54:03.159Z"
   },
   {
    "duration": 6603,
    "start_time": "2025-07-24T13:54:12.863Z"
   },
   {
    "duration": 87,
    "start_time": "2025-07-24T13:54:19.467Z"
   },
   {
    "duration": 7625,
    "start_time": "2025-07-24T14:01:10.151Z"
   },
   {
    "duration": 1592,
    "start_time": "2025-07-24T14:01:17.779Z"
   },
   {
    "duration": 903,
    "start_time": "2025-07-24T14:01:19.372Z"
   },
   {
    "duration": 148,
    "start_time": "2025-07-24T14:01:20.277Z"
   },
   {
    "duration": 159,
    "start_time": "2025-07-24T14:01:20.427Z"
   },
   {
    "duration": 33,
    "start_time": "2025-07-24T14:01:20.588Z"
   },
   {
    "duration": 13,
    "start_time": "2025-07-24T14:01:20.623Z"
   },
   {
    "duration": 3,
    "start_time": "2025-07-24T14:01:20.637Z"
   },
   {
    "duration": 8,
    "start_time": "2025-07-24T14:01:20.642Z"
   },
   {
    "duration": 13,
    "start_time": "2025-07-24T14:01:20.651Z"
   },
   {
    "duration": 188,
    "start_time": "2025-07-24T14:01:20.665Z"
   },
   {
    "duration": 3,
    "start_time": "2025-07-24T14:01:20.854Z"
   },
   {
    "duration": 1581,
    "start_time": "2025-07-24T14:01:20.858Z"
   },
   {
    "duration": 23,
    "start_time": "2025-07-24T14:01:22.450Z"
   },
   {
    "duration": 118,
    "start_time": "2025-07-24T14:01:22.475Z"
   },
   {
    "duration": 23,
    "start_time": "2025-07-24T14:01:22.595Z"
   },
   {
    "duration": 1966,
    "start_time": "2025-07-24T14:01:22.621Z"
   },
   {
    "duration": 21,
    "start_time": "2025-07-24T14:01:24.590Z"
   },
   {
    "duration": 657,
    "start_time": "2025-07-24T14:01:24.613Z"
   },
   {
    "duration": 50,
    "start_time": "2025-07-24T14:01:25.272Z"
   },
   {
    "duration": 192,
    "start_time": "2025-07-24T14:01:25.324Z"
   },
   {
    "duration": 174,
    "start_time": "2025-07-24T14:01:25.518Z"
   },
   {
    "duration": 204,
    "start_time": "2025-07-24T14:01:25.694Z"
   },
   {
    "duration": 23,
    "start_time": "2025-07-24T14:01:25.900Z"
   },
   {
    "duration": 95,
    "start_time": "2025-07-24T14:01:25.924Z"
   },
   {
    "duration": 29,
    "start_time": "2025-07-24T14:01:26.021Z"
   },
   {
    "duration": 23,
    "start_time": "2025-07-24T14:01:26.052Z"
   },
   {
    "duration": 87,
    "start_time": "2025-07-24T14:01:26.077Z"
   },
   {
    "duration": 23,
    "start_time": "2025-07-24T14:01:26.166Z"
   },
   {
    "duration": 33,
    "start_time": "2025-07-24T14:01:26.191Z"
   },
   {
    "duration": 306,
    "start_time": "2025-07-24T14:01:26.226Z"
   },
   {
    "duration": 168,
    "start_time": "2025-07-24T14:01:26.535Z"
   },
   {
    "duration": 173,
    "start_time": "2025-07-24T14:01:26.705Z"
   },
   {
    "duration": 14,
    "start_time": "2025-07-24T14:01:26.879Z"
   },
   {
    "duration": 92,
    "start_time": "2025-07-24T14:01:26.895Z"
   },
   {
    "duration": 14,
    "start_time": "2025-07-24T14:01:26.988Z"
   },
   {
    "duration": 7,
    "start_time": "2025-07-24T14:01:27.004Z"
   },
   {
    "duration": 15,
    "start_time": "2025-07-24T14:01:27.012Z"
   },
   {
    "duration": 25,
    "start_time": "2025-07-24T14:01:27.029Z"
   },
   {
    "duration": 245,
    "start_time": "2025-07-24T14:01:27.055Z"
   },
   {
    "duration": 127,
    "start_time": "2025-07-24T14:01:27.305Z"
   },
   {
    "duration": 130,
    "start_time": "2025-07-24T14:01:27.433Z"
   },
   {
    "duration": 15,
    "start_time": "2025-07-24T14:01:27.565Z"
   },
   {
    "duration": 69,
    "start_time": "2025-07-24T14:01:27.582Z"
   },
   {
    "duration": 8503,
    "start_time": "2025-07-24T14:01:27.653Z"
   },
   {
    "duration": 6,
    "start_time": "2025-07-24T14:01:36.158Z"
   },
   {
    "duration": 19,
    "start_time": "2025-07-24T14:01:36.165Z"
   },
   {
    "duration": 28,
    "start_time": "2025-07-24T14:01:36.186Z"
   },
   {
    "duration": 6,
    "start_time": "2025-07-24T14:01:36.215Z"
   },
   {
    "duration": 50,
    "start_time": "2025-07-24T14:01:36.222Z"
   },
   {
    "duration": 249,
    "start_time": "2025-07-24T14:01:36.274Z"
   },
   {
    "duration": 242,
    "start_time": "2025-07-24T14:01:36.526Z"
   },
   {
    "duration": 14,
    "start_time": "2025-07-24T14:01:36.770Z"
   },
   {
    "duration": 234,
    "start_time": "2025-07-24T14:01:36.786Z"
   },
   {
    "duration": 196,
    "start_time": "2025-07-24T14:01:37.022Z"
   },
   {
    "duration": 205,
    "start_time": "2025-07-24T14:01:37.220Z"
   },
   {
    "duration": 130,
    "start_time": "2025-07-24T14:01:37.426Z"
   },
   {
    "duration": 91,
    "start_time": "2025-07-24T14:01:37.558Z"
   },
   {
    "duration": 16,
    "start_time": "2025-07-24T14:01:37.651Z"
   },
   {
    "duration": 5309,
    "start_time": "2025-07-24T14:01:37.669Z"
   },
   {
    "duration": 2,
    "start_time": "2025-07-24T14:01:42.980Z"
   },
   {
    "duration": 173,
    "start_time": "2025-07-24T14:01:42.984Z"
   },
   {
    "duration": 145,
    "start_time": "2025-07-24T14:01:43.159Z"
   },
   {
    "duration": 4,
    "start_time": "2025-07-24T14:01:43.306Z"
   },
   {
    "duration": 155,
    "start_time": "2025-07-24T14:01:43.312Z"
   },
   {
    "duration": 32,
    "start_time": "2025-07-24T14:01:43.469Z"
   },
   {
    "duration": 79,
    "start_time": "2025-07-24T14:01:43.503Z"
   },
   {
    "duration": 836,
    "start_time": "2025-07-24T14:01:43.584Z"
   },
   {
    "duration": 251,
    "start_time": "2025-07-24T14:01:44.422Z"
   },
   {
    "duration": 5,
    "start_time": "2025-07-24T14:01:44.674Z"
   },
   {
    "duration": 83903,
    "start_time": "2025-07-24T14:01:44.681Z"
   },
   {
    "duration": 6,
    "start_time": "2025-07-24T14:03:08.586Z"
   },
   {
    "duration": 69764,
    "start_time": "2025-07-24T14:03:08.594Z"
   },
   {
    "duration": 7439,
    "start_time": "2025-07-24T14:11:08.036Z"
   },
   {
    "duration": 1559,
    "start_time": "2025-07-24T14:11:15.477Z"
   },
   {
    "duration": 940,
    "start_time": "2025-07-24T14:11:17.038Z"
   },
   {
    "duration": 187,
    "start_time": "2025-07-24T14:11:17.980Z"
   },
   {
    "duration": 17,
    "start_time": "2025-07-24T14:11:18.169Z"
   },
   {
    "duration": 35,
    "start_time": "2025-07-24T14:11:18.188Z"
   },
   {
    "duration": 25,
    "start_time": "2025-07-24T14:11:18.225Z"
   },
   {
    "duration": 21,
    "start_time": "2025-07-24T14:11:18.253Z"
   },
   {
    "duration": 5,
    "start_time": "2025-07-24T14:11:18.276Z"
   },
   {
    "duration": 18,
    "start_time": "2025-07-24T14:11:18.283Z"
   },
   {
    "duration": 196,
    "start_time": "2025-07-24T14:11:18.303Z"
   },
   {
    "duration": 3,
    "start_time": "2025-07-24T14:11:18.501Z"
   },
   {
    "duration": 1708,
    "start_time": "2025-07-24T14:11:18.506Z"
   },
   {
    "duration": 34,
    "start_time": "2025-07-24T14:11:20.217Z"
   },
   {
    "duration": 38,
    "start_time": "2025-07-24T14:11:20.253Z"
   },
   {
    "duration": 39,
    "start_time": "2025-07-24T14:11:20.293Z"
   },
   {
    "duration": 2088,
    "start_time": "2025-07-24T14:11:20.334Z"
   },
   {
    "duration": 30,
    "start_time": "2025-07-24T14:11:22.424Z"
   },
   {
    "duration": 605,
    "start_time": "2025-07-24T14:11:22.456Z"
   },
   {
    "duration": 52,
    "start_time": "2025-07-24T14:11:23.062Z"
   },
   {
    "duration": 204,
    "start_time": "2025-07-24T14:11:23.115Z"
   },
   {
    "duration": 177,
    "start_time": "2025-07-24T14:11:23.321Z"
   },
   {
    "duration": 207,
    "start_time": "2025-07-24T14:11:23.500Z"
   },
   {
    "duration": 21,
    "start_time": "2025-07-24T14:11:23.708Z"
   },
   {
    "duration": 104,
    "start_time": "2025-07-24T14:11:23.731Z"
   },
   {
    "duration": 28,
    "start_time": "2025-07-24T14:11:23.836Z"
   },
   {
    "duration": 23,
    "start_time": "2025-07-24T14:11:23.866Z"
   },
   {
    "duration": 59,
    "start_time": "2025-07-24T14:11:23.890Z"
   },
   {
    "duration": 23,
    "start_time": "2025-07-24T14:11:23.951Z"
   },
   {
    "duration": 34,
    "start_time": "2025-07-24T14:11:23.976Z"
   },
   {
    "duration": 290,
    "start_time": "2025-07-24T14:11:24.012Z"
   },
   {
    "duration": 157,
    "start_time": "2025-07-24T14:11:24.304Z"
   },
   {
    "duration": 184,
    "start_time": "2025-07-24T14:11:24.463Z"
   },
   {
    "duration": 15,
    "start_time": "2025-07-24T14:11:24.650Z"
   },
   {
    "duration": 17,
    "start_time": "2025-07-24T14:11:24.666Z"
   },
   {
    "duration": 14,
    "start_time": "2025-07-24T14:11:24.684Z"
   },
   {
    "duration": 8,
    "start_time": "2025-07-24T14:11:24.699Z"
   },
   {
    "duration": 54,
    "start_time": "2025-07-24T14:11:24.708Z"
   },
   {
    "duration": 31,
    "start_time": "2025-07-24T14:11:24.763Z"
   },
   {
    "duration": 268,
    "start_time": "2025-07-24T14:11:24.796Z"
   },
   {
    "duration": 157,
    "start_time": "2025-07-24T14:11:25.069Z"
   },
   {
    "duration": 127,
    "start_time": "2025-07-24T14:11:25.228Z"
   },
   {
    "duration": 16,
    "start_time": "2025-07-24T14:11:25.357Z"
   },
   {
    "duration": 26,
    "start_time": "2025-07-24T14:11:25.375Z"
   },
   {
    "duration": 8823,
    "start_time": "2025-07-24T14:11:25.403Z"
   },
   {
    "duration": 6,
    "start_time": "2025-07-24T14:11:34.228Z"
   },
   {
    "duration": 48,
    "start_time": "2025-07-24T14:11:34.235Z"
   },
   {
    "duration": 40,
    "start_time": "2025-07-24T14:11:34.285Z"
   },
   {
    "duration": 6,
    "start_time": "2025-07-24T14:11:34.327Z"
   },
   {
    "duration": 37,
    "start_time": "2025-07-24T14:11:34.335Z"
   },
   {
    "duration": 328,
    "start_time": "2025-07-24T14:11:34.374Z"
   },
   {
    "duration": 242,
    "start_time": "2025-07-24T14:11:34.704Z"
   },
   {
    "duration": 14,
    "start_time": "2025-07-24T14:11:34.947Z"
   },
   {
    "duration": 305,
    "start_time": "2025-07-24T14:11:34.963Z"
   },
   {
    "duration": 198,
    "start_time": "2025-07-24T14:11:35.270Z"
   },
   {
    "duration": 200,
    "start_time": "2025-07-24T14:11:35.470Z"
   },
   {
    "duration": 144,
    "start_time": "2025-07-24T14:11:35.672Z"
   },
   {
    "duration": 86,
    "start_time": "2025-07-24T14:11:35.818Z"
   },
   {
    "duration": 28,
    "start_time": "2025-07-24T14:11:35.906Z"
   },
   {
    "duration": 5510,
    "start_time": "2025-07-24T14:11:35.936Z"
   },
   {
    "duration": 3,
    "start_time": "2025-07-24T14:11:41.448Z"
   },
   {
    "duration": 377,
    "start_time": "2025-07-24T14:11:41.452Z"
   },
   {
    "duration": 144,
    "start_time": "2025-07-24T14:11:41.831Z"
   },
   {
    "duration": 4,
    "start_time": "2025-07-24T14:11:41.977Z"
   },
   {
    "duration": 169,
    "start_time": "2025-07-24T14:11:41.982Z"
   },
   {
    "duration": 32,
    "start_time": "2025-07-24T14:11:42.153Z"
   },
   {
    "duration": 25,
    "start_time": "2025-07-24T14:11:42.187Z"
   },
   {
    "duration": 825,
    "start_time": "2025-07-24T14:11:42.214Z"
   },
   {
    "duration": 259,
    "start_time": "2025-07-24T14:11:43.040Z"
   },
   {
    "duration": 11,
    "start_time": "2025-07-24T14:11:43.301Z"
   },
   {
    "duration": 8,
    "start_time": "2025-07-24T14:11:43.315Z"
   },
   {
    "duration": 86396,
    "start_time": "2025-07-24T14:11:43.325Z"
   },
   {
    "duration": 5,
    "start_time": "2025-07-24T14:13:09.723Z"
   },
   {
    "duration": 7658,
    "start_time": "2025-07-24T14:26:32.725Z"
   },
   {
    "duration": 1554,
    "start_time": "2025-07-24T14:26:40.386Z"
   },
   {
    "duration": 952,
    "start_time": "2025-07-24T14:26:41.942Z"
   },
   {
    "duration": 159,
    "start_time": "2025-07-24T14:26:42.896Z"
   },
   {
    "duration": 18,
    "start_time": "2025-07-24T14:26:43.057Z"
   },
   {
    "duration": 43,
    "start_time": "2025-07-24T14:26:43.076Z"
   },
   {
    "duration": 16,
    "start_time": "2025-07-24T14:26:43.121Z"
   },
   {
    "duration": 13,
    "start_time": "2025-07-24T14:26:43.140Z"
   },
   {
    "duration": 10,
    "start_time": "2025-07-24T14:26:43.155Z"
   },
   {
    "duration": 15,
    "start_time": "2025-07-24T14:26:43.168Z"
   },
   {
    "duration": 218,
    "start_time": "2025-07-24T14:26:43.185Z"
   },
   {
    "duration": 3,
    "start_time": "2025-07-24T14:26:43.405Z"
   },
   {
    "duration": 1657,
    "start_time": "2025-07-24T14:26:43.410Z"
   },
   {
    "duration": 25,
    "start_time": "2025-07-24T14:26:45.069Z"
   },
   {
    "duration": 53,
    "start_time": "2025-07-24T14:26:45.096Z"
   },
   {
    "duration": 60,
    "start_time": "2025-07-24T14:26:45.152Z"
   },
   {
    "duration": 2149,
    "start_time": "2025-07-24T14:26:45.214Z"
   },
   {
    "duration": 22,
    "start_time": "2025-07-24T14:26:47.364Z"
   },
   {
    "duration": 620,
    "start_time": "2025-07-24T14:26:47.388Z"
   },
   {
    "duration": 81,
    "start_time": "2025-07-24T14:26:48.010Z"
   },
   {
    "duration": 224,
    "start_time": "2025-07-24T14:26:48.094Z"
   },
   {
    "duration": 182,
    "start_time": "2025-07-24T14:26:48.319Z"
   },
   {
    "duration": 208,
    "start_time": "2025-07-24T14:26:48.503Z"
   },
   {
    "duration": 22,
    "start_time": "2025-07-24T14:26:48.713Z"
   },
   {
    "duration": 86,
    "start_time": "2025-07-24T14:26:48.750Z"
   },
   {
    "duration": 27,
    "start_time": "2025-07-24T14:26:48.838Z"
   },
   {
    "duration": 27,
    "start_time": "2025-07-24T14:26:48.867Z"
   },
   {
    "duration": 60,
    "start_time": "2025-07-24T14:26:48.900Z"
   },
   {
    "duration": 23,
    "start_time": "2025-07-24T14:26:48.962Z"
   },
   {
    "duration": 85,
    "start_time": "2025-07-24T14:26:48.987Z"
   },
   {
    "duration": 292,
    "start_time": "2025-07-24T14:26:49.074Z"
   },
   {
    "duration": 163,
    "start_time": "2025-07-24T14:26:49.368Z"
   },
   {
    "duration": 182,
    "start_time": "2025-07-24T14:26:49.533Z"
   },
   {
    "duration": 15,
    "start_time": "2025-07-24T14:26:49.717Z"
   },
   {
    "duration": 29,
    "start_time": "2025-07-24T14:26:49.748Z"
   },
   {
    "duration": 14,
    "start_time": "2025-07-24T14:26:49.778Z"
   },
   {
    "duration": 7,
    "start_time": "2025-07-24T14:26:49.794Z"
   },
   {
    "duration": 31,
    "start_time": "2025-07-24T14:26:49.802Z"
   },
   {
    "duration": 33,
    "start_time": "2025-07-24T14:26:49.835Z"
   },
   {
    "duration": 262,
    "start_time": "2025-07-24T14:26:49.870Z"
   },
   {
    "duration": 138,
    "start_time": "2025-07-24T14:26:50.134Z"
   },
   {
    "duration": 148,
    "start_time": "2025-07-24T14:26:50.274Z"
   },
   {
    "duration": 29,
    "start_time": "2025-07-24T14:26:50.424Z"
   },
   {
    "duration": 26,
    "start_time": "2025-07-24T14:26:50.455Z"
   },
   {
    "duration": 9202,
    "start_time": "2025-07-24T14:26:50.482Z"
   },
   {
    "duration": 6,
    "start_time": "2025-07-24T14:26:59.686Z"
   },
   {
    "duration": 72,
    "start_time": "2025-07-24T14:26:59.694Z"
   },
   {
    "duration": 27,
    "start_time": "2025-07-24T14:26:59.767Z"
   },
   {
    "duration": 5,
    "start_time": "2025-07-24T14:26:59.796Z"
   },
   {
    "duration": 49,
    "start_time": "2025-07-24T14:26:59.803Z"
   },
   {
    "duration": 250,
    "start_time": "2025-07-24T14:26:59.853Z"
   },
   {
    "duration": 232,
    "start_time": "2025-07-24T14:27:00.104Z"
   },
   {
    "duration": 25,
    "start_time": "2025-07-24T14:27:00.338Z"
   },
   {
    "duration": 227,
    "start_time": "2025-07-24T14:27:00.365Z"
   },
   {
    "duration": 202,
    "start_time": "2025-07-24T14:27:00.594Z"
   },
   {
    "duration": 201,
    "start_time": "2025-07-24T14:27:00.798Z"
   },
   {
    "duration": 131,
    "start_time": "2025-07-24T14:27:01.001Z"
   },
   {
    "duration": 85,
    "start_time": "2025-07-24T14:27:01.134Z"
   },
   {
    "duration": 30,
    "start_time": "2025-07-24T14:27:01.221Z"
   },
   {
    "duration": 5497,
    "start_time": "2025-07-24T14:27:01.253Z"
   },
   {
    "duration": 3,
    "start_time": "2025-07-24T14:27:06.751Z"
   },
   {
    "duration": 193,
    "start_time": "2025-07-24T14:27:06.756Z"
   },
   {
    "duration": 152,
    "start_time": "2025-07-24T14:27:06.951Z"
   },
   {
    "duration": 5,
    "start_time": "2025-07-24T14:27:07.105Z"
   },
   {
    "duration": 170,
    "start_time": "2025-07-24T14:27:07.112Z"
   },
   {
    "duration": 34,
    "start_time": "2025-07-24T14:27:07.284Z"
   },
   {
    "duration": 5,
    "start_time": "2025-07-24T14:27:07.319Z"
   },
   {
    "duration": 821,
    "start_time": "2025-07-24T14:27:07.325Z"
   },
   {
    "duration": 258,
    "start_time": "2025-07-24T14:27:08.149Z"
   },
   {
    "duration": 12,
    "start_time": "2025-07-24T14:27:08.409Z"
   },
   {
    "duration": 5,
    "start_time": "2025-07-24T14:27:08.423Z"
   },
   {
    "duration": 84757,
    "start_time": "2025-07-24T14:27:08.430Z"
   },
   {
    "duration": 6,
    "start_time": "2025-07-24T14:28:33.190Z"
   },
   {
    "duration": 1714560,
    "start_time": "2025-07-24T14:28:33.198Z"
   },
   {
    "duration": 434113,
    "start_time": "2025-07-24T14:57:07.759Z"
   },
   {
    "duration": 9,
    "start_time": "2025-07-24T15:04:21.874Z"
   },
   {
    "duration": 3840,
    "start_time": "2025-07-24T15:04:21.885Z"
   },
   {
    "duration": 10207,
    "start_time": "2025-07-24T15:04:25.727Z"
   },
   {
    "duration": 7824,
    "start_time": "2025-07-24T15:04:35.936Z"
   },
   {
    "duration": 11,
    "start_time": "2025-07-24T15:04:43.763Z"
   },
   {
    "duration": 10,
    "start_time": "2025-07-24T15:13:43.157Z"
   },
   {
    "duration": 8217,
    "start_time": "2025-07-24T19:51:36.594Z"
   },
   {
    "duration": 5536,
    "start_time": "2025-07-24T19:51:44.814Z"
   },
   {
    "duration": 910,
    "start_time": "2025-07-24T19:51:50.353Z"
   },
   {
    "duration": 158,
    "start_time": "2025-07-24T19:51:51.264Z"
   },
   {
    "duration": 22,
    "start_time": "2025-07-24T19:51:51.425Z"
   },
   {
    "duration": 54,
    "start_time": "2025-07-24T19:51:51.449Z"
   },
   {
    "duration": 35,
    "start_time": "2025-07-24T19:51:51.504Z"
   },
   {
    "duration": 8,
    "start_time": "2025-07-24T19:51:51.541Z"
   },
   {
    "duration": 6,
    "start_time": "2025-07-24T19:51:51.550Z"
   },
   {
    "duration": 16,
    "start_time": "2025-07-24T19:51:51.557Z"
   },
   {
    "duration": 200,
    "start_time": "2025-07-24T19:51:51.575Z"
   },
   {
    "duration": 3,
    "start_time": "2025-07-24T19:51:51.776Z"
   },
   {
    "duration": 1575,
    "start_time": "2025-07-24T19:51:51.780Z"
   },
   {
    "duration": 22,
    "start_time": "2025-07-24T19:51:53.357Z"
   },
   {
    "duration": 48,
    "start_time": "2025-07-24T19:51:53.381Z"
   },
   {
    "duration": 27,
    "start_time": "2025-07-24T19:51:53.431Z"
   },
   {
    "duration": 1980,
    "start_time": "2025-07-24T19:51:53.460Z"
   },
   {
    "duration": 22,
    "start_time": "2025-07-24T19:51:55.442Z"
   },
   {
    "duration": 599,
    "start_time": "2025-07-24T19:51:55.466Z"
   },
   {
    "duration": 50,
    "start_time": "2025-07-24T19:51:56.066Z"
   },
   {
    "duration": 192,
    "start_time": "2025-07-24T19:51:56.118Z"
   },
   {
    "duration": 171,
    "start_time": "2025-07-24T19:51:56.311Z"
   },
   {
    "duration": 194,
    "start_time": "2025-07-24T19:51:56.484Z"
   },
   {
    "duration": 20,
    "start_time": "2025-07-24T19:51:56.679Z"
   },
   {
    "duration": 93,
    "start_time": "2025-07-24T19:51:56.700Z"
   },
   {
    "duration": 16,
    "start_time": "2025-07-24T19:51:56.795Z"
   },
   {
    "duration": 43,
    "start_time": "2025-07-24T19:51:56.813Z"
   },
   {
    "duration": 33,
    "start_time": "2025-07-24T19:51:56.857Z"
   },
   {
    "duration": 21,
    "start_time": "2025-07-24T19:51:56.892Z"
   },
   {
    "duration": 53,
    "start_time": "2025-07-24T19:51:56.914Z"
   },
   {
    "duration": 273,
    "start_time": "2025-07-24T19:51:56.969Z"
   },
   {
    "duration": 149,
    "start_time": "2025-07-24T19:51:57.244Z"
   },
   {
    "duration": 205,
    "start_time": "2025-07-24T19:51:57.395Z"
   },
   {
    "duration": 15,
    "start_time": "2025-07-24T19:51:57.603Z"
   },
   {
    "duration": 76,
    "start_time": "2025-07-24T19:51:57.619Z"
   },
   {
    "duration": 13,
    "start_time": "2025-07-24T19:51:57.697Z"
   },
   {
    "duration": 8,
    "start_time": "2025-07-24T19:51:57.712Z"
   },
   {
    "duration": 16,
    "start_time": "2025-07-24T19:51:57.722Z"
   },
   {
    "duration": 24,
    "start_time": "2025-07-24T19:51:57.740Z"
   },
   {
    "duration": 242,
    "start_time": "2025-07-24T19:51:57.765Z"
   },
   {
    "duration": 137,
    "start_time": "2025-07-24T19:51:58.011Z"
   },
   {
    "duration": 227,
    "start_time": "2025-07-24T19:51:58.151Z"
   },
   {
    "duration": 16,
    "start_time": "2025-07-24T19:51:58.379Z"
   },
   {
    "duration": 23,
    "start_time": "2025-07-24T19:51:58.396Z"
   },
   {
    "duration": 8484,
    "start_time": "2025-07-24T19:51:58.420Z"
   },
   {
    "duration": 5,
    "start_time": "2025-07-24T19:52:06.906Z"
   },
   {
    "duration": 24,
    "start_time": "2025-07-24T19:52:06.913Z"
   },
   {
    "duration": 45,
    "start_time": "2025-07-24T19:52:06.938Z"
   },
   {
    "duration": 88,
    "start_time": "2025-07-24T19:52:06.984Z"
   },
   {
    "duration": 116,
    "start_time": "2025-07-24T19:52:07.073Z"
   },
   {
    "duration": 352,
    "start_time": "2025-07-24T19:52:07.191Z"
   },
   {
    "duration": 253,
    "start_time": "2025-07-24T19:52:07.546Z"
   },
   {
    "duration": 14,
    "start_time": "2025-07-24T19:52:07.801Z"
   },
   {
    "duration": 219,
    "start_time": "2025-07-24T19:52:07.816Z"
   },
   {
    "duration": 200,
    "start_time": "2025-07-24T19:52:08.039Z"
   },
   {
    "duration": 208,
    "start_time": "2025-07-24T19:52:08.241Z"
   },
   {
    "duration": 128,
    "start_time": "2025-07-24T19:52:08.451Z"
   },
   {
    "duration": 89,
    "start_time": "2025-07-24T19:52:08.581Z"
   },
   {
    "duration": 15,
    "start_time": "2025-07-24T19:52:08.672Z"
   },
   {
    "duration": 5323,
    "start_time": "2025-07-24T19:52:08.689Z"
   },
   {
    "duration": 19,
    "start_time": "2025-07-24T19:52:14.014Z"
   },
   {
    "duration": 119,
    "start_time": "2025-07-24T19:52:30.636Z"
   },
   {
    "duration": 122,
    "start_time": "2025-07-24T19:52:34.027Z"
   },
   {
    "duration": 120,
    "start_time": "2025-07-24T19:53:13.969Z"
   },
   {
    "duration": 80,
    "start_time": "2025-07-25T04:57:21.519Z"
   },
   {
    "duration": 93,
    "start_time": "2025-07-25T05:10:49.866Z"
   },
   {
    "duration": 8492,
    "start_time": "2025-07-25T05:18:48.372Z"
   },
   {
    "duration": 1713,
    "start_time": "2025-07-25T05:18:56.866Z"
   },
   {
    "duration": 877,
    "start_time": "2025-07-25T05:18:58.581Z"
   },
   {
    "duration": 142,
    "start_time": "2025-07-25T05:18:59.460Z"
   },
   {
    "duration": 16,
    "start_time": "2025-07-25T05:18:59.604Z"
   },
   {
    "duration": 33,
    "start_time": "2025-07-25T05:18:59.622Z"
   },
   {
    "duration": 26,
    "start_time": "2025-07-25T05:18:59.657Z"
   },
   {
    "duration": 3,
    "start_time": "2025-07-25T05:18:59.685Z"
   },
   {
    "duration": 4,
    "start_time": "2025-07-25T05:18:59.690Z"
   },
   {
    "duration": 12,
    "start_time": "2025-07-25T05:18:59.696Z"
   },
   {
    "duration": 195,
    "start_time": "2025-07-25T05:18:59.710Z"
   },
   {
    "duration": 2,
    "start_time": "2025-07-25T05:18:59.907Z"
   },
   {
    "duration": 33,
    "start_time": "2025-07-25T05:18:59.911Z"
   },
   {
    "duration": 34,
    "start_time": "2025-07-25T05:18:59.945Z"
   },
   {
    "duration": 121,
    "start_time": "2025-07-25T05:18:59.981Z"
   },
   {
    "duration": 149,
    "start_time": "2025-07-25T05:19:00.104Z"
   },
   {
    "duration": 864,
    "start_time": "2025-07-25T05:19:00.255Z"
   },
   {
    "duration": 0,
    "start_time": "2025-07-25T05:19:01.122Z"
   },
   {
    "duration": 0,
    "start_time": "2025-07-25T05:19:01.123Z"
   },
   {
    "duration": 0,
    "start_time": "2025-07-25T05:19:01.124Z"
   },
   {
    "duration": 0,
    "start_time": "2025-07-25T05:19:01.126Z"
   },
   {
    "duration": 0,
    "start_time": "2025-07-25T05:19:01.127Z"
   },
   {
    "duration": 0,
    "start_time": "2025-07-25T05:19:01.128Z"
   },
   {
    "duration": 0,
    "start_time": "2025-07-25T05:19:01.129Z"
   },
   {
    "duration": 0,
    "start_time": "2025-07-25T05:19:01.130Z"
   },
   {
    "duration": 0,
    "start_time": "2025-07-25T05:19:01.131Z"
   },
   {
    "duration": 0,
    "start_time": "2025-07-25T05:19:01.132Z"
   },
   {
    "duration": 0,
    "start_time": "2025-07-25T05:19:01.133Z"
   },
   {
    "duration": 0,
    "start_time": "2025-07-25T05:19:01.135Z"
   },
   {
    "duration": 0,
    "start_time": "2025-07-25T05:19:01.136Z"
   },
   {
    "duration": 0,
    "start_time": "2025-07-25T05:19:01.137Z"
   },
   {
    "duration": 0,
    "start_time": "2025-07-25T05:19:01.138Z"
   },
   {
    "duration": 0,
    "start_time": "2025-07-25T05:19:01.139Z"
   },
   {
    "duration": 0,
    "start_time": "2025-07-25T05:19:01.140Z"
   },
   {
    "duration": 0,
    "start_time": "2025-07-25T05:19:01.141Z"
   },
   {
    "duration": 0,
    "start_time": "2025-07-25T05:19:01.144Z"
   },
   {
    "duration": 0,
    "start_time": "2025-07-25T05:19:01.146Z"
   },
   {
    "duration": 0,
    "start_time": "2025-07-25T05:19:01.147Z"
   },
   {
    "duration": 0,
    "start_time": "2025-07-25T05:19:01.148Z"
   },
   {
    "duration": 0,
    "start_time": "2025-07-25T05:19:01.149Z"
   },
   {
    "duration": 0,
    "start_time": "2025-07-25T05:19:01.151Z"
   },
   {
    "duration": 0,
    "start_time": "2025-07-25T05:19:01.151Z"
   },
   {
    "duration": 0,
    "start_time": "2025-07-25T05:19:01.153Z"
   },
   {
    "duration": 0,
    "start_time": "2025-07-25T05:19:01.154Z"
   },
   {
    "duration": 0,
    "start_time": "2025-07-25T05:19:01.155Z"
   },
   {
    "duration": 0,
    "start_time": "2025-07-25T05:19:01.156Z"
   },
   {
    "duration": 0,
    "start_time": "2025-07-25T05:19:01.157Z"
   },
   {
    "duration": 0,
    "start_time": "2025-07-25T05:19:01.158Z"
   },
   {
    "duration": 0,
    "start_time": "2025-07-25T05:19:01.171Z"
   },
   {
    "duration": 0,
    "start_time": "2025-07-25T05:19:01.173Z"
   },
   {
    "duration": 0,
    "start_time": "2025-07-25T05:19:01.174Z"
   },
   {
    "duration": 0,
    "start_time": "2025-07-25T05:19:01.175Z"
   },
   {
    "duration": 0,
    "start_time": "2025-07-25T05:19:01.176Z"
   },
   {
    "duration": 0,
    "start_time": "2025-07-25T05:19:01.177Z"
   },
   {
    "duration": 0,
    "start_time": "2025-07-25T05:19:01.178Z"
   },
   {
    "duration": 0,
    "start_time": "2025-07-25T05:19:01.179Z"
   },
   {
    "duration": 0,
    "start_time": "2025-07-25T05:19:01.180Z"
   },
   {
    "duration": 0,
    "start_time": "2025-07-25T05:19:01.181Z"
   },
   {
    "duration": 0,
    "start_time": "2025-07-25T05:19:01.182Z"
   },
   {
    "duration": 0,
    "start_time": "2025-07-25T05:19:01.184Z"
   },
   {
    "duration": 0,
    "start_time": "2025-07-25T05:19:01.185Z"
   },
   {
    "duration": 0,
    "start_time": "2025-07-25T05:19:01.185Z"
   },
   {
    "duration": 0,
    "start_time": "2025-07-25T05:19:01.187Z"
   },
   {
    "duration": 0,
    "start_time": "2025-07-25T05:19:01.187Z"
   },
   {
    "duration": 0,
    "start_time": "2025-07-25T05:19:01.189Z"
   },
   {
    "duration": 0,
    "start_time": "2025-07-25T05:19:01.189Z"
   },
   {
    "duration": 0,
    "start_time": "2025-07-25T05:19:01.190Z"
   },
   {
    "duration": 0,
    "start_time": "2025-07-25T05:19:01.191Z"
   },
   {
    "duration": 0,
    "start_time": "2025-07-25T05:19:01.192Z"
   },
   {
    "duration": 0,
    "start_time": "2025-07-25T05:19:01.193Z"
   },
   {
    "duration": 0,
    "start_time": "2025-07-25T05:19:01.195Z"
   },
   {
    "duration": 0,
    "start_time": "2025-07-25T05:19:01.196Z"
   },
   {
    "duration": 0,
    "start_time": "2025-07-25T05:19:01.197Z"
   },
   {
    "duration": 0,
    "start_time": "2025-07-25T05:19:01.198Z"
   },
   {
    "duration": 0,
    "start_time": "2025-07-25T05:19:01.199Z"
   },
   {
    "duration": 0,
    "start_time": "2025-07-25T05:19:01.199Z"
   },
   {
    "duration": 0,
    "start_time": "2025-07-25T05:19:01.200Z"
   },
   {
    "duration": 0,
    "start_time": "2025-07-25T05:19:01.201Z"
   },
   {
    "duration": 0,
    "start_time": "2025-07-25T05:19:01.202Z"
   },
   {
    "duration": 0,
    "start_time": "2025-07-25T05:19:01.203Z"
   },
   {
    "duration": 0,
    "start_time": "2025-07-25T05:19:01.204Z"
   },
   {
    "duration": 0,
    "start_time": "2025-07-25T05:19:01.205Z"
   },
   {
    "duration": 0,
    "start_time": "2025-07-25T05:19:01.206Z"
   },
   {
    "duration": 187,
    "start_time": "2025-07-25T05:20:55.240Z"
   },
   {
    "duration": 21,
    "start_time": "2025-07-25T05:22:08.299Z"
   },
   {
    "duration": 28,
    "start_time": "2025-07-25T05:22:11.750Z"
   },
   {
    "duration": 28,
    "start_time": "2025-07-25T05:22:17.100Z"
   },
   {
    "duration": 175,
    "start_time": "2025-07-25T05:22:25.827Z"
   },
   {
    "duration": 154,
    "start_time": "2025-07-25T05:22:29.494Z"
   },
   {
    "duration": 183,
    "start_time": "2025-07-25T05:22:30.344Z"
   },
   {
    "duration": 20,
    "start_time": "2025-07-25T05:22:32.759Z"
   },
   {
    "duration": 84,
    "start_time": "2025-07-25T05:22:35.100Z"
   },
   {
    "duration": 17,
    "start_time": "2025-07-25T05:23:33.448Z"
   },
   {
    "duration": 21,
    "start_time": "2025-07-25T05:23:34.928Z"
   },
   {
    "duration": 28,
    "start_time": "2025-07-25T05:23:37.511Z"
   },
   {
    "duration": 21,
    "start_time": "2025-07-25T05:23:39.658Z"
   },
   {
    "duration": 30,
    "start_time": "2025-07-25T05:23:41.495Z"
   },
   {
    "duration": 263,
    "start_time": "2025-07-25T05:23:43.060Z"
   },
   {
    "duration": 221,
    "start_time": "2025-07-25T05:23:45.652Z"
   },
   {
    "duration": 164,
    "start_time": "2025-07-25T05:23:51.040Z"
   },
   {
    "duration": 15,
    "start_time": "2025-07-25T05:23:53.528Z"
   },
   {
    "duration": 16,
    "start_time": "2025-07-25T05:23:55.743Z"
   },
   {
    "duration": 19,
    "start_time": "2025-07-25T05:23:57.445Z"
   },
   {
    "duration": 7,
    "start_time": "2025-07-25T05:24:04.437Z"
   },
   {
    "duration": 18,
    "start_time": "2025-07-25T05:24:05.545Z"
   },
   {
    "duration": 32,
    "start_time": "2025-07-25T05:24:11.675Z"
   },
   {
    "duration": 1590,
    "start_time": "2025-07-25T05:24:17.549Z"
   },
   {
    "duration": 11,
    "start_time": "2025-07-25T05:24:49.695Z"
   },
   {
    "duration": 13,
    "start_time": "2025-07-25T05:25:52.641Z"
   },
   {
    "duration": 7140,
    "start_time": "2025-07-25T05:26:04.296Z"
   },
   {
    "duration": 1542,
    "start_time": "2025-07-25T05:26:11.440Z"
   },
   {
    "duration": 877,
    "start_time": "2025-07-25T05:26:12.983Z"
   },
   {
    "duration": 157,
    "start_time": "2025-07-25T05:26:13.862Z"
   },
   {
    "duration": 17,
    "start_time": "2025-07-25T05:26:14.020Z"
   },
   {
    "duration": 61,
    "start_time": "2025-07-25T05:26:14.038Z"
   },
   {
    "duration": 11,
    "start_time": "2025-07-25T05:26:14.101Z"
   },
   {
    "duration": 3,
    "start_time": "2025-07-25T05:26:14.114Z"
   },
   {
    "duration": 5,
    "start_time": "2025-07-25T05:26:14.119Z"
   },
   {
    "duration": 15,
    "start_time": "2025-07-25T05:26:14.127Z"
   },
   {
    "duration": 272,
    "start_time": "2025-07-25T05:26:14.143Z"
   },
   {
    "duration": 2,
    "start_time": "2025-07-25T05:26:14.417Z"
   },
   {
    "duration": 51,
    "start_time": "2025-07-25T05:26:14.421Z"
   },
   {
    "duration": 22,
    "start_time": "2025-07-25T05:26:14.473Z"
   },
   {
    "duration": 26,
    "start_time": "2025-07-25T05:26:14.497Z"
   },
   {
    "duration": 25,
    "start_time": "2025-07-25T05:26:14.525Z"
   },
   {
    "duration": 206,
    "start_time": "2025-07-25T05:26:14.552Z"
   },
   {
    "duration": 29,
    "start_time": "2025-07-25T05:26:14.760Z"
   },
   {
    "duration": 33,
    "start_time": "2025-07-25T05:26:14.791Z"
   },
   {
    "duration": 47,
    "start_time": "2025-07-25T05:26:14.826Z"
   },
   {
    "duration": 221,
    "start_time": "2025-07-25T05:26:14.874Z"
   },
   {
    "duration": 292,
    "start_time": "2025-07-25T05:26:15.097Z"
   },
   {
    "duration": 317,
    "start_time": "2025-07-25T05:26:15.391Z"
   },
   {
    "duration": 25,
    "start_time": "2025-07-25T05:26:15.710Z"
   },
   {
    "duration": 218,
    "start_time": "2025-07-25T05:26:15.736Z"
   },
   {
    "duration": 26,
    "start_time": "2025-07-25T05:26:15.956Z"
   },
   {
    "duration": 24,
    "start_time": "2025-07-25T05:26:15.984Z"
   },
   {
    "duration": 85,
    "start_time": "2025-07-25T05:26:16.013Z"
   },
   {
    "duration": 24,
    "start_time": "2025-07-25T05:26:16.100Z"
   },
   {
    "duration": 54,
    "start_time": "2025-07-25T05:26:16.126Z"
   },
   {
    "duration": 314,
    "start_time": "2025-07-25T05:26:16.182Z"
   },
   {
    "duration": 155,
    "start_time": "2025-07-25T05:26:16.498Z"
   },
   {
    "duration": 264,
    "start_time": "2025-07-25T05:26:16.655Z"
   },
   {
    "duration": 16,
    "start_time": "2025-07-25T05:26:16.920Z"
   },
   {
    "duration": 34,
    "start_time": "2025-07-25T05:26:16.938Z"
   },
   {
    "duration": 18,
    "start_time": "2025-07-25T05:26:16.974Z"
   },
   {
    "duration": 15,
    "start_time": "2025-07-25T05:26:16.994Z"
   },
   {
    "duration": 19,
    "start_time": "2025-07-25T05:26:17.011Z"
   },
   {
    "duration": 60,
    "start_time": "2025-07-25T05:26:17.032Z"
   },
   {
    "duration": 1793,
    "start_time": "2025-07-25T05:26:17.094Z"
   },
   {
    "duration": 0,
    "start_time": "2025-07-25T05:26:18.889Z"
   },
   {
    "duration": 0,
    "start_time": "2025-07-25T05:26:18.890Z"
   },
   {
    "duration": 0,
    "start_time": "2025-07-25T05:26:18.891Z"
   },
   {
    "duration": 0,
    "start_time": "2025-07-25T05:26:18.893Z"
   },
   {
    "duration": 0,
    "start_time": "2025-07-25T05:26:18.894Z"
   },
   {
    "duration": 0,
    "start_time": "2025-07-25T05:26:18.895Z"
   },
   {
    "duration": 0,
    "start_time": "2025-07-25T05:26:18.896Z"
   },
   {
    "duration": 0,
    "start_time": "2025-07-25T05:26:18.897Z"
   },
   {
    "duration": 0,
    "start_time": "2025-07-25T05:26:18.899Z"
   },
   {
    "duration": 0,
    "start_time": "2025-07-25T05:26:18.899Z"
   },
   {
    "duration": 0,
    "start_time": "2025-07-25T05:26:18.900Z"
   },
   {
    "duration": 0,
    "start_time": "2025-07-25T05:26:18.901Z"
   },
   {
    "duration": 0,
    "start_time": "2025-07-25T05:26:18.902Z"
   },
   {
    "duration": 0,
    "start_time": "2025-07-25T05:26:18.903Z"
   },
   {
    "duration": 0,
    "start_time": "2025-07-25T05:26:18.904Z"
   },
   {
    "duration": 0,
    "start_time": "2025-07-25T05:26:18.905Z"
   },
   {
    "duration": 0,
    "start_time": "2025-07-25T05:26:18.906Z"
   },
   {
    "duration": 0,
    "start_time": "2025-07-25T05:26:18.907Z"
   },
   {
    "duration": 0,
    "start_time": "2025-07-25T05:26:18.908Z"
   },
   {
    "duration": 0,
    "start_time": "2025-07-25T05:26:18.909Z"
   },
   {
    "duration": 0,
    "start_time": "2025-07-25T05:26:18.910Z"
   },
   {
    "duration": 0,
    "start_time": "2025-07-25T05:26:18.912Z"
   },
   {
    "duration": 0,
    "start_time": "2025-07-25T05:26:18.913Z"
   },
   {
    "duration": 0,
    "start_time": "2025-07-25T05:26:18.914Z"
   },
   {
    "duration": 0,
    "start_time": "2025-07-25T05:26:18.915Z"
   },
   {
    "duration": 0,
    "start_time": "2025-07-25T05:26:18.916Z"
   },
   {
    "duration": 0,
    "start_time": "2025-07-25T05:26:18.917Z"
   },
   {
    "duration": 0,
    "start_time": "2025-07-25T05:26:18.918Z"
   },
   {
    "duration": 0,
    "start_time": "2025-07-25T05:26:18.919Z"
   },
   {
    "duration": 0,
    "start_time": "2025-07-25T05:26:18.920Z"
   },
   {
    "duration": 0,
    "start_time": "2025-07-25T05:26:18.921Z"
   },
   {
    "duration": 0,
    "start_time": "2025-07-25T05:26:18.922Z"
   },
   {
    "duration": 0,
    "start_time": "2025-07-25T05:26:18.971Z"
   },
   {
    "duration": 0,
    "start_time": "2025-07-25T05:26:18.972Z"
   },
   {
    "duration": 0,
    "start_time": "2025-07-25T05:26:18.973Z"
   },
   {
    "duration": 0,
    "start_time": "2025-07-25T05:26:18.975Z"
   },
   {
    "duration": 0,
    "start_time": "2025-07-25T05:26:18.976Z"
   },
   {
    "duration": 0,
    "start_time": "2025-07-25T05:26:18.977Z"
   },
   {
    "duration": 0,
    "start_time": "2025-07-25T05:26:18.978Z"
   },
   {
    "duration": 0,
    "start_time": "2025-07-25T05:26:18.979Z"
   },
   {
    "duration": 0,
    "start_time": "2025-07-25T05:26:18.980Z"
   },
   {
    "duration": 0,
    "start_time": "2025-07-25T05:26:18.981Z"
   },
   {
    "duration": 0,
    "start_time": "2025-07-25T05:26:18.982Z"
   },
   {
    "duration": 98,
    "start_time": "2025-07-25T05:26:52.777Z"
   },
   {
    "duration": 40,
    "start_time": "2025-07-25T05:27:01.407Z"
   },
   {
    "duration": 29,
    "start_time": "2025-07-25T05:27:16.166Z"
   },
   {
    "duration": 116,
    "start_time": "2025-07-25T05:30:47.919Z"
   },
   {
    "duration": 29,
    "start_time": "2025-07-25T05:33:41.113Z"
   },
   {
    "duration": 36,
    "start_time": "2025-07-25T05:33:46.877Z"
   },
   {
    "duration": 28,
    "start_time": "2025-07-25T05:34:44.906Z"
   },
   {
    "duration": 90,
    "start_time": "2025-07-25T05:34:54.617Z"
   },
   {
    "duration": 7358,
    "start_time": "2025-07-25T05:36:04.461Z"
   },
   {
    "duration": 1519,
    "start_time": "2025-07-25T05:36:11.822Z"
   },
   {
    "duration": 864,
    "start_time": "2025-07-25T05:36:13.342Z"
   },
   {
    "duration": 136,
    "start_time": "2025-07-25T05:36:14.207Z"
   },
   {
    "duration": 28,
    "start_time": "2025-07-25T05:36:14.345Z"
   },
   {
    "duration": 22,
    "start_time": "2025-07-25T05:36:14.375Z"
   },
   {
    "duration": 15,
    "start_time": "2025-07-25T05:36:14.399Z"
   },
   {
    "duration": 4,
    "start_time": "2025-07-25T05:36:14.415Z"
   },
   {
    "duration": 5,
    "start_time": "2025-07-25T05:36:14.421Z"
   },
   {
    "duration": 14,
    "start_time": "2025-07-25T05:36:14.428Z"
   },
   {
    "duration": 225,
    "start_time": "2025-07-25T05:36:14.443Z"
   },
   {
    "duration": 3,
    "start_time": "2025-07-25T05:36:14.670Z"
   },
   {
    "duration": 45,
    "start_time": "2025-07-25T05:36:14.674Z"
   },
   {
    "duration": 21,
    "start_time": "2025-07-25T05:36:14.722Z"
   },
   {
    "duration": 116,
    "start_time": "2025-07-25T05:36:14.744Z"
   },
   {
    "duration": 21,
    "start_time": "2025-07-25T05:36:14.862Z"
   },
   {
    "duration": 214,
    "start_time": "2025-07-25T05:36:14.884Z"
   },
   {
    "duration": 20,
    "start_time": "2025-07-25T05:36:15.099Z"
   },
   {
    "duration": 37,
    "start_time": "2025-07-25T05:36:15.121Z"
   },
   {
    "duration": 38,
    "start_time": "2025-07-25T05:36:15.160Z"
   },
   {
    "duration": 212,
    "start_time": "2025-07-25T05:36:15.200Z"
   },
   {
    "duration": 319,
    "start_time": "2025-07-25T05:36:15.414Z"
   },
   {
    "duration": 343,
    "start_time": "2025-07-25T05:36:15.734Z"
   },
   {
    "duration": 26,
    "start_time": "2025-07-25T05:36:16.079Z"
   },
   {
    "duration": 185,
    "start_time": "2025-07-25T05:36:16.107Z"
   },
   {
    "duration": 21,
    "start_time": "2025-07-25T05:36:16.294Z"
   },
   {
    "duration": 26,
    "start_time": "2025-07-25T05:36:16.316Z"
   },
   {
    "duration": 56,
    "start_time": "2025-07-25T05:36:16.343Z"
   },
   {
    "duration": 23,
    "start_time": "2025-07-25T05:36:16.401Z"
   },
   {
    "duration": 58,
    "start_time": "2025-07-25T05:36:16.425Z"
   },
   {
    "duration": 289,
    "start_time": "2025-07-25T05:36:16.485Z"
   },
   {
    "duration": 157,
    "start_time": "2025-07-25T05:36:16.775Z"
   },
   {
    "duration": 260,
    "start_time": "2025-07-25T05:36:16.933Z"
   },
   {
    "duration": 16,
    "start_time": "2025-07-25T05:36:17.195Z"
   },
   {
    "duration": 17,
    "start_time": "2025-07-25T05:36:17.213Z"
   },
   {
    "duration": 45,
    "start_time": "2025-07-25T05:36:17.232Z"
   },
   {
    "duration": 9,
    "start_time": "2025-07-25T05:36:17.279Z"
   },
   {
    "duration": 22,
    "start_time": "2025-07-25T05:36:17.290Z"
   },
   {
    "duration": 63,
    "start_time": "2025-07-25T05:36:17.314Z"
   },
   {
    "duration": 108,
    "start_time": "2025-07-25T05:36:17.378Z"
   },
   {
    "duration": 33,
    "start_time": "2025-07-25T05:36:17.492Z"
   },
   {
    "duration": 46,
    "start_time": "2025-07-25T05:36:17.527Z"
   },
   {
    "duration": 20,
    "start_time": "2025-07-25T05:36:17.575Z"
   },
   {
    "duration": 110,
    "start_time": "2025-07-25T05:36:17.596Z"
   },
   {
    "duration": 221,
    "start_time": "2025-07-25T05:36:17.708Z"
   },
   {
    "duration": 136,
    "start_time": "2025-07-25T05:36:17.931Z"
   },
   {
    "duration": 136,
    "start_time": "2025-07-25T05:36:18.069Z"
   },
   {
    "duration": 16,
    "start_time": "2025-07-25T05:36:18.207Z"
   },
   {
    "duration": 61,
    "start_time": "2025-07-25T05:36:18.225Z"
   },
   {
    "duration": 9540,
    "start_time": "2025-07-25T05:36:18.288Z"
   },
   {
    "duration": 6,
    "start_time": "2025-07-25T05:36:27.830Z"
   },
   {
    "duration": 55,
    "start_time": "2025-07-25T05:36:27.837Z"
   },
   {
    "duration": 33,
    "start_time": "2025-07-25T05:36:27.894Z"
   },
   {
    "duration": 6,
    "start_time": "2025-07-25T05:36:27.928Z"
   },
   {
    "duration": 38,
    "start_time": "2025-07-25T05:36:27.936Z"
   },
   {
    "duration": 225,
    "start_time": "2025-07-25T05:36:27.976Z"
   },
   {
    "duration": 236,
    "start_time": "2025-07-25T05:36:28.202Z"
   },
   {
    "duration": 16,
    "start_time": "2025-07-25T05:36:28.439Z"
   },
   {
    "duration": 205,
    "start_time": "2025-07-25T05:36:28.458Z"
   },
   {
    "duration": 179,
    "start_time": "2025-07-25T05:36:28.665Z"
   },
   {
    "duration": 200,
    "start_time": "2025-07-25T05:36:28.845Z"
   },
   {
    "duration": 126,
    "start_time": "2025-07-25T05:36:29.047Z"
   },
   {
    "duration": 97,
    "start_time": "2025-07-25T05:36:29.174Z"
   },
   {
    "duration": 14,
    "start_time": "2025-07-25T05:36:29.273Z"
   },
   {
    "duration": 5764,
    "start_time": "2025-07-25T05:36:29.288Z"
   },
   {
    "duration": 142,
    "start_time": "2025-07-25T05:36:35.054Z"
   },
   {
    "duration": 3,
    "start_time": "2025-07-25T05:36:35.198Z"
   },
   {
    "duration": 196,
    "start_time": "2025-07-25T05:36:35.203Z"
   },
   {
    "duration": 197,
    "start_time": "2025-07-25T05:36:35.401Z"
   },
   {
    "duration": 5,
    "start_time": "2025-07-25T05:36:35.599Z"
   },
   {
    "duration": 193,
    "start_time": "2025-07-25T05:36:35.606Z"
   },
   {
    "duration": 38,
    "start_time": "2025-07-25T05:36:35.800Z"
   },
   {
    "duration": 96,
    "start_time": "2025-07-25T05:36:35.840Z"
   },
   {
    "duration": 1077,
    "start_time": "2025-07-25T05:36:35.938Z"
   },
   {
    "duration": 302,
    "start_time": "2025-07-25T05:36:37.017Z"
   },
   {
    "duration": 10,
    "start_time": "2025-07-25T05:36:37.321Z"
   },
   {
    "duration": 9,
    "start_time": "2025-07-25T05:36:37.334Z"
   },
   {
    "duration": 108691,
    "start_time": "2025-07-25T05:36:37.344Z"
   },
   {
    "duration": 4,
    "start_time": "2025-07-25T05:38:26.037Z"
   },
   {
    "duration": 92841,
    "start_time": "2025-07-25T05:38:26.043Z"
   },
   {
    "duration": 188296,
    "start_time": "2025-07-25T05:39:58.886Z"
   },
   {
    "duration": 10,
    "start_time": "2025-07-25T05:43:07.183Z"
   },
   {
    "duration": 124,
    "start_time": "2025-07-25T05:43:07.195Z"
   },
   {
    "duration": 7214,
    "start_time": "2025-07-25T05:43:13.953Z"
   },
   {
    "duration": 1597,
    "start_time": "2025-07-25T05:43:21.169Z"
   },
   {
    "duration": 897,
    "start_time": "2025-07-25T05:43:22.770Z"
   },
   {
    "duration": 148,
    "start_time": "2025-07-25T05:43:23.670Z"
   },
   {
    "duration": 16,
    "start_time": "2025-07-25T05:43:23.819Z"
   },
   {
    "duration": 102,
    "start_time": "2025-07-25T05:43:23.837Z"
   },
   {
    "duration": 14,
    "start_time": "2025-07-25T05:43:23.941Z"
   },
   {
    "duration": 5,
    "start_time": "2025-07-25T05:43:23.956Z"
   },
   {
    "duration": 3,
    "start_time": "2025-07-25T05:43:23.963Z"
   },
   {
    "duration": 11,
    "start_time": "2025-07-25T05:43:23.969Z"
   },
   {
    "duration": 211,
    "start_time": "2025-07-25T05:43:23.981Z"
   },
   {
    "duration": 3,
    "start_time": "2025-07-25T05:43:24.193Z"
   },
   {
    "duration": 33,
    "start_time": "2025-07-25T05:43:24.197Z"
   },
   {
    "duration": 43,
    "start_time": "2025-07-25T05:43:24.231Z"
   },
   {
    "duration": 33,
    "start_time": "2025-07-25T05:43:24.275Z"
   },
   {
    "duration": 22,
    "start_time": "2025-07-25T05:43:24.310Z"
   },
   {
    "duration": 185,
    "start_time": "2025-07-25T05:43:24.334Z"
   },
   {
    "duration": 20,
    "start_time": "2025-07-25T05:43:24.521Z"
   },
   {
    "duration": 42,
    "start_time": "2025-07-25T05:43:24.543Z"
   },
   {
    "duration": 28,
    "start_time": "2025-07-25T05:43:24.587Z"
   },
   {
    "duration": 226,
    "start_time": "2025-07-25T05:43:24.616Z"
   },
   {
    "duration": 287,
    "start_time": "2025-07-25T05:43:24.843Z"
   },
   {
    "duration": 318,
    "start_time": "2025-07-25T05:43:25.132Z"
   },
   {
    "duration": 29,
    "start_time": "2025-07-25T05:43:25.452Z"
   },
   {
    "duration": 110,
    "start_time": "2025-07-25T05:43:25.483Z"
   },
   {
    "duration": 44,
    "start_time": "2025-07-25T05:43:25.595Z"
   },
   {
    "duration": 25,
    "start_time": "2025-07-25T05:43:25.641Z"
   },
   {
    "duration": 43,
    "start_time": "2025-07-25T05:43:25.670Z"
   },
   {
    "duration": 23,
    "start_time": "2025-07-25T05:43:25.715Z"
   },
   {
    "duration": 56,
    "start_time": "2025-07-25T05:43:25.739Z"
   },
   {
    "duration": 269,
    "start_time": "2025-07-25T05:43:25.797Z"
   },
   {
    "duration": 161,
    "start_time": "2025-07-25T05:43:26.070Z"
   },
   {
    "duration": 262,
    "start_time": "2025-07-25T05:43:26.233Z"
   },
   {
    "duration": 16,
    "start_time": "2025-07-25T05:43:26.497Z"
   },
   {
    "duration": 15,
    "start_time": "2025-07-25T05:43:26.515Z"
   },
   {
    "duration": 39,
    "start_time": "2025-07-25T05:43:26.532Z"
   },
   {
    "duration": 8,
    "start_time": "2025-07-25T05:43:26.573Z"
   },
   {
    "duration": 22,
    "start_time": "2025-07-25T05:43:26.582Z"
   },
   {
    "duration": 40,
    "start_time": "2025-07-25T05:43:26.605Z"
   },
   {
    "duration": 112,
    "start_time": "2025-07-25T05:43:26.647Z"
   },
   {
    "duration": 37,
    "start_time": "2025-07-25T05:43:26.761Z"
   },
   {
    "duration": 46,
    "start_time": "2025-07-25T05:43:26.800Z"
   },
   {
    "duration": 17,
    "start_time": "2025-07-25T05:43:26.847Z"
   },
   {
    "duration": 215,
    "start_time": "2025-07-25T05:43:26.866Z"
   },
   {
    "duration": 123,
    "start_time": "2025-07-25T05:43:27.082Z"
   },
   {
    "duration": 131,
    "start_time": "2025-07-25T05:43:27.207Z"
   },
   {
    "duration": 16,
    "start_time": "2025-07-25T05:43:27.339Z"
   },
   {
    "duration": 37,
    "start_time": "2025-07-25T05:43:27.356Z"
   },
   {
    "duration": 9567,
    "start_time": "2025-07-25T05:43:27.394Z"
   },
   {
    "duration": 10,
    "start_time": "2025-07-25T05:43:36.962Z"
   },
   {
    "duration": 11,
    "start_time": "2025-07-25T05:43:36.974Z"
   },
   {
    "duration": 24,
    "start_time": "2025-07-25T05:43:36.987Z"
   },
   {
    "duration": 5,
    "start_time": "2025-07-25T05:43:37.013Z"
   },
   {
    "duration": 62,
    "start_time": "2025-07-25T05:43:37.020Z"
   },
   {
    "duration": 224,
    "start_time": "2025-07-25T05:43:37.083Z"
   },
   {
    "duration": 232,
    "start_time": "2025-07-25T05:43:37.309Z"
   },
   {
    "duration": 15,
    "start_time": "2025-07-25T05:43:37.543Z"
   },
   {
    "duration": 242,
    "start_time": "2025-07-25T05:43:37.559Z"
   },
   {
    "duration": 176,
    "start_time": "2025-07-25T05:43:37.802Z"
   },
   {
    "duration": 206,
    "start_time": "2025-07-25T05:43:37.979Z"
   },
   {
    "duration": 125,
    "start_time": "2025-07-25T05:43:38.186Z"
   },
   {
    "duration": 98,
    "start_time": "2025-07-25T05:43:38.313Z"
   },
   {
    "duration": 14,
    "start_time": "2025-07-25T05:43:38.412Z"
   },
   {
    "duration": 5764,
    "start_time": "2025-07-25T05:43:38.428Z"
   },
   {
    "duration": 138,
    "start_time": "2025-07-25T05:43:44.193Z"
   },
   {
    "duration": 221,
    "start_time": "2025-07-25T05:43:44.332Z"
   },
   {
    "duration": 3,
    "start_time": "2025-07-25T05:43:44.554Z"
   },
   {
    "duration": 191,
    "start_time": "2025-07-25T05:43:44.559Z"
   },
   {
    "duration": 152,
    "start_time": "2025-07-25T05:43:44.752Z"
   },
   {
    "duration": 4,
    "start_time": "2025-07-25T05:43:44.906Z"
   },
   {
    "duration": 156,
    "start_time": "2025-07-25T05:43:44.911Z"
   },
   {
    "duration": 32,
    "start_time": "2025-07-25T05:43:45.071Z"
   },
   {
    "duration": 4,
    "start_time": "2025-07-25T05:43:45.104Z"
   },
   {
    "duration": 930,
    "start_time": "2025-07-25T05:43:45.109Z"
   },
   {
    "duration": 266,
    "start_time": "2025-07-25T05:43:46.041Z"
   },
   {
    "duration": 9,
    "start_time": "2025-07-25T05:43:46.309Z"
   },
   {
    "duration": 23,
    "start_time": "2025-07-25T05:43:46.320Z"
   },
   {
    "duration": 100081,
    "start_time": "2025-07-25T05:43:46.344Z"
   },
   {
    "duration": 5,
    "start_time": "2025-07-25T05:45:26.426Z"
   },
   {
    "duration": 69253,
    "start_time": "2025-07-25T05:45:26.433Z"
   },
   {
    "duration": 447925,
    "start_time": "2025-07-25T05:46:35.688Z"
   },
   {
    "duration": 11,
    "start_time": "2025-07-25T05:54:03.618Z"
   },
   {
    "duration": 4104,
    "start_time": "2025-07-25T05:54:03.630Z"
   },
   {
    "duration": 12066,
    "start_time": "2025-07-25T05:54:07.736Z"
   },
   {
    "duration": 8577,
    "start_time": "2025-07-25T05:54:19.805Z"
   },
   {
    "duration": 10,
    "start_time": "2025-07-25T05:54:28.384Z"
   },
   {
    "duration": 7148,
    "start_time": "2025-07-25T06:04:23.703Z"
   },
   {
    "duration": 1634,
    "start_time": "2025-07-25T06:04:30.854Z"
   },
   {
    "duration": 909,
    "start_time": "2025-07-25T06:04:32.490Z"
   },
   {
    "duration": 161,
    "start_time": "2025-07-25T06:04:33.401Z"
   },
   {
    "duration": 21,
    "start_time": "2025-07-25T06:04:33.564Z"
   },
   {
    "duration": 34,
    "start_time": "2025-07-25T06:04:33.587Z"
   },
   {
    "duration": 58,
    "start_time": "2025-07-25T06:04:33.623Z"
   },
   {
    "duration": 16,
    "start_time": "2025-07-25T06:04:33.683Z"
   },
   {
    "duration": 43,
    "start_time": "2025-07-25T06:04:33.701Z"
   },
   {
    "duration": 31,
    "start_time": "2025-07-25T06:04:33.745Z"
   },
   {
    "duration": 244,
    "start_time": "2025-07-25T06:04:33.778Z"
   },
   {
    "duration": 3,
    "start_time": "2025-07-25T06:04:34.024Z"
   },
   {
    "duration": 68,
    "start_time": "2025-07-25T06:04:34.028Z"
   },
   {
    "duration": 22,
    "start_time": "2025-07-25T06:04:34.099Z"
   },
   {
    "duration": 39,
    "start_time": "2025-07-25T06:04:34.123Z"
   },
   {
    "duration": 112,
    "start_time": "2025-07-25T06:04:34.164Z"
   },
   {
    "duration": 209,
    "start_time": "2025-07-25T06:04:34.278Z"
   },
   {
    "duration": 21,
    "start_time": "2025-07-25T06:04:34.489Z"
   },
   {
    "duration": 42,
    "start_time": "2025-07-25T06:04:34.512Z"
   },
   {
    "duration": 34,
    "start_time": "2025-07-25T06:04:34.556Z"
   },
   {
    "duration": 218,
    "start_time": "2025-07-25T06:04:34.592Z"
   },
   {
    "duration": 307,
    "start_time": "2025-07-25T06:04:34.812Z"
   },
   {
    "duration": 341,
    "start_time": "2025-07-25T06:04:35.121Z"
   },
   {
    "duration": 28,
    "start_time": "2025-07-25T06:04:35.464Z"
   },
   {
    "duration": 124,
    "start_time": "2025-07-25T06:04:35.494Z"
   },
   {
    "duration": 29,
    "start_time": "2025-07-25T06:04:35.619Z"
   },
   {
    "duration": 101,
    "start_time": "2025-07-25T06:04:35.649Z"
   },
   {
    "duration": 56,
    "start_time": "2025-07-25T06:04:35.751Z"
   },
   {
    "duration": 24,
    "start_time": "2025-07-25T06:04:35.808Z"
   },
   {
    "duration": 123,
    "start_time": "2025-07-25T06:04:35.834Z"
   },
   {
    "duration": 362,
    "start_time": "2025-07-25T06:04:35.959Z"
   },
   {
    "duration": 168,
    "start_time": "2025-07-25T06:04:36.324Z"
   },
   {
    "duration": 257,
    "start_time": "2025-07-25T06:04:36.494Z"
   },
   {
    "duration": 25,
    "start_time": "2025-07-25T06:04:36.752Z"
   },
   {
    "duration": 17,
    "start_time": "2025-07-25T06:04:36.779Z"
   },
   {
    "duration": 19,
    "start_time": "2025-07-25T06:04:36.797Z"
   },
   {
    "duration": 8,
    "start_time": "2025-07-25T06:04:36.818Z"
   },
   {
    "duration": 50,
    "start_time": "2025-07-25T06:04:36.827Z"
   },
   {
    "duration": 41,
    "start_time": "2025-07-25T06:04:36.879Z"
   },
   {
    "duration": 109,
    "start_time": "2025-07-25T06:04:36.922Z"
   },
   {
    "duration": 45,
    "start_time": "2025-07-25T06:04:37.036Z"
   },
   {
    "duration": 26,
    "start_time": "2025-07-25T06:04:37.082Z"
   },
   {
    "duration": 18,
    "start_time": "2025-07-25T06:04:37.110Z"
   },
   {
    "duration": 244,
    "start_time": "2025-07-25T06:04:37.129Z"
   },
   {
    "duration": 135,
    "start_time": "2025-07-25T06:04:37.375Z"
   },
   {
    "duration": 139,
    "start_time": "2025-07-25T06:04:37.511Z"
   },
   {
    "duration": 26,
    "start_time": "2025-07-25T06:04:37.651Z"
   },
   {
    "duration": 26,
    "start_time": "2025-07-25T06:04:37.679Z"
   },
   {
    "duration": 9663,
    "start_time": "2025-07-25T06:04:37.708Z"
   },
   {
    "duration": 5,
    "start_time": "2025-07-25T06:04:47.373Z"
   },
   {
    "duration": 22,
    "start_time": "2025-07-25T06:04:47.380Z"
   },
   {
    "duration": 26,
    "start_time": "2025-07-25T06:04:47.403Z"
   },
   {
    "duration": 15,
    "start_time": "2025-07-25T06:04:47.431Z"
   },
   {
    "duration": 48,
    "start_time": "2025-07-25T06:04:47.447Z"
   },
   {
    "duration": 221,
    "start_time": "2025-07-25T06:04:47.497Z"
   },
   {
    "duration": 235,
    "start_time": "2025-07-25T06:04:47.720Z"
   },
   {
    "duration": 23,
    "start_time": "2025-07-25T06:04:47.957Z"
   },
   {
    "duration": 238,
    "start_time": "2025-07-25T06:04:47.982Z"
   },
   {
    "duration": 176,
    "start_time": "2025-07-25T06:04:48.221Z"
   },
   {
    "duration": 203,
    "start_time": "2025-07-25T06:04:48.399Z"
   },
   {
    "duration": 134,
    "start_time": "2025-07-25T06:04:48.604Z"
   },
   {
    "duration": 91,
    "start_time": "2025-07-25T06:04:48.740Z"
   },
   {
    "duration": 14,
    "start_time": "2025-07-25T06:04:48.833Z"
   },
   {
    "duration": 5708,
    "start_time": "2025-07-25T06:04:48.848Z"
   },
   {
    "duration": 143,
    "start_time": "2025-07-25T06:04:54.558Z"
   },
   {
    "duration": 235,
    "start_time": "2025-07-25T06:04:54.703Z"
   },
   {
    "duration": 3,
    "start_time": "2025-07-25T06:04:54.939Z"
   },
   {
    "duration": 182,
    "start_time": "2025-07-25T06:04:54.943Z"
   },
   {
    "duration": 155,
    "start_time": "2025-07-25T06:04:55.126Z"
   },
   {
    "duration": 3,
    "start_time": "2025-07-25T06:04:55.283Z"
   },
   {
    "duration": 149,
    "start_time": "2025-07-25T06:04:55.288Z"
   },
   {
    "duration": 36,
    "start_time": "2025-07-25T06:04:55.439Z"
   },
   {
    "duration": 4,
    "start_time": "2025-07-25T06:04:55.476Z"
   },
   {
    "duration": 114,
    "start_time": "2025-07-25T06:04:55.481Z"
   },
   {
    "duration": 3,
    "start_time": "2025-07-25T06:04:55.597Z"
   },
   {
    "duration": 8,
    "start_time": "2025-07-25T06:04:55.602Z"
   },
   {
    "duration": 124,
    "start_time": "2025-07-25T06:04:55.612Z"
   },
   {
    "duration": 0,
    "start_time": "2025-07-25T06:04:55.737Z"
   },
   {
    "duration": 0,
    "start_time": "2025-07-25T06:04:55.738Z"
   },
   {
    "duration": 0,
    "start_time": "2025-07-25T06:04:55.739Z"
   },
   {
    "duration": 0,
    "start_time": "2025-07-25T06:04:55.740Z"
   },
   {
    "duration": 0,
    "start_time": "2025-07-25T06:04:55.741Z"
   },
   {
    "duration": 0,
    "start_time": "2025-07-25T06:04:55.742Z"
   },
   {
    "duration": 0,
    "start_time": "2025-07-25T06:04:55.743Z"
   },
   {
    "duration": 0,
    "start_time": "2025-07-25T06:04:55.745Z"
   },
   {
    "duration": 0,
    "start_time": "2025-07-25T06:04:55.746Z"
   },
   {
    "duration": 0,
    "start_time": "2025-07-25T06:04:55.747Z"
   },
   {
    "duration": 0,
    "start_time": "2025-07-25T06:04:55.748Z"
   },
   {
    "duration": 0,
    "start_time": "2025-07-25T06:04:55.748Z"
   },
   {
    "duration": 0,
    "start_time": "2025-07-25T06:04:55.749Z"
   },
   {
    "duration": 0,
    "start_time": "2025-07-25T06:04:55.771Z"
   },
   {
    "duration": 0,
    "start_time": "2025-07-25T06:04:55.772Z"
   },
   {
    "duration": 0,
    "start_time": "2025-07-25T06:04:55.773Z"
   },
   {
    "duration": 0,
    "start_time": "2025-07-25T06:04:55.774Z"
   },
   {
    "duration": 0,
    "start_time": "2025-07-25T06:04:55.775Z"
   },
   {
    "duration": 12,
    "start_time": "2025-07-25T06:07:02.052Z"
   },
   {
    "duration": 7145,
    "start_time": "2025-07-25T06:07:22.886Z"
   },
   {
    "duration": 1653,
    "start_time": "2025-07-25T06:07:30.033Z"
   },
   {
    "duration": 927,
    "start_time": "2025-07-25T06:07:31.688Z"
   },
   {
    "duration": 142,
    "start_time": "2025-07-25T06:07:32.617Z"
   },
   {
    "duration": 24,
    "start_time": "2025-07-25T06:07:32.761Z"
   },
   {
    "duration": 32,
    "start_time": "2025-07-25T06:07:32.786Z"
   },
   {
    "duration": 35,
    "start_time": "2025-07-25T06:07:32.821Z"
   },
   {
    "duration": 17,
    "start_time": "2025-07-25T06:07:32.857Z"
   },
   {
    "duration": 87,
    "start_time": "2025-07-25T06:07:32.875Z"
   },
   {
    "duration": 13,
    "start_time": "2025-07-25T06:07:32.964Z"
   },
   {
    "duration": 217,
    "start_time": "2025-07-25T06:07:32.978Z"
   },
   {
    "duration": 2,
    "start_time": "2025-07-25T06:07:33.197Z"
   },
   {
    "duration": 44,
    "start_time": "2025-07-25T06:07:33.200Z"
   },
   {
    "duration": 38,
    "start_time": "2025-07-25T06:07:33.245Z"
   },
   {
    "duration": 26,
    "start_time": "2025-07-25T06:07:33.284Z"
   },
   {
    "duration": 21,
    "start_time": "2025-07-25T06:07:33.312Z"
   },
   {
    "duration": 204,
    "start_time": "2025-07-25T06:07:33.334Z"
   },
   {
    "duration": 20,
    "start_time": "2025-07-25T06:07:33.540Z"
   },
   {
    "duration": 32,
    "start_time": "2025-07-25T06:07:33.562Z"
   },
   {
    "duration": 29,
    "start_time": "2025-07-25T06:07:33.595Z"
   },
   {
    "duration": 268,
    "start_time": "2025-07-25T06:07:33.626Z"
   },
   {
    "duration": 317,
    "start_time": "2025-07-25T06:07:33.896Z"
   },
   {
    "duration": 337,
    "start_time": "2025-07-25T06:07:34.214Z"
   },
   {
    "duration": 28,
    "start_time": "2025-07-25T06:07:34.553Z"
   },
   {
    "duration": 121,
    "start_time": "2025-07-25T06:07:34.582Z"
   },
   {
    "duration": 16,
    "start_time": "2025-07-25T06:07:34.705Z"
   },
   {
    "duration": 29,
    "start_time": "2025-07-25T06:07:34.723Z"
   },
   {
    "duration": 53,
    "start_time": "2025-07-25T06:07:34.756Z"
   },
   {
    "duration": 24,
    "start_time": "2025-07-25T06:07:34.810Z"
   },
   {
    "duration": 79,
    "start_time": "2025-07-25T06:07:34.835Z"
   },
   {
    "duration": 310,
    "start_time": "2025-07-25T06:07:34.916Z"
   },
   {
    "duration": 158,
    "start_time": "2025-07-25T06:07:35.227Z"
   },
   {
    "duration": 254,
    "start_time": "2025-07-25T06:07:35.387Z"
   },
   {
    "duration": 31,
    "start_time": "2025-07-25T06:07:35.643Z"
   },
   {
    "duration": 32,
    "start_time": "2025-07-25T06:07:35.676Z"
   },
   {
    "duration": 20,
    "start_time": "2025-07-25T06:07:35.709Z"
   },
   {
    "duration": 9,
    "start_time": "2025-07-25T06:07:35.731Z"
   },
   {
    "duration": 40,
    "start_time": "2025-07-25T06:07:35.741Z"
   },
   {
    "duration": 40,
    "start_time": "2025-07-25T06:07:35.783Z"
   },
   {
    "duration": 111,
    "start_time": "2025-07-25T06:07:35.825Z"
   },
   {
    "duration": 135,
    "start_time": "2025-07-25T06:07:35.938Z"
   },
   {
    "duration": 52,
    "start_time": "2025-07-25T06:07:36.075Z"
   },
   {
    "duration": 20,
    "start_time": "2025-07-25T06:07:36.129Z"
   },
   {
    "duration": 229,
    "start_time": "2025-07-25T06:07:36.151Z"
   },
   {
    "duration": 128,
    "start_time": "2025-07-25T06:07:36.381Z"
   },
   {
    "duration": 143,
    "start_time": "2025-07-25T06:07:36.510Z"
   },
   {
    "duration": 26,
    "start_time": "2025-07-25T06:07:36.655Z"
   },
   {
    "duration": 25,
    "start_time": "2025-07-25T06:07:36.683Z"
   },
   {
    "duration": 9576,
    "start_time": "2025-07-25T06:07:36.709Z"
   },
   {
    "duration": 6,
    "start_time": "2025-07-25T06:07:46.287Z"
   },
   {
    "duration": 33,
    "start_time": "2025-07-25T06:07:46.294Z"
   },
   {
    "duration": 116,
    "start_time": "2025-07-25T06:07:46.328Z"
   },
   {
    "duration": 6,
    "start_time": "2025-07-25T06:07:46.446Z"
   },
   {
    "duration": 48,
    "start_time": "2025-07-25T06:07:46.454Z"
   },
   {
    "duration": 212,
    "start_time": "2025-07-25T06:07:46.504Z"
   },
   {
    "duration": 246,
    "start_time": "2025-07-25T06:07:46.718Z"
   },
   {
    "duration": 17,
    "start_time": "2025-07-25T06:07:46.966Z"
   },
   {
    "duration": 202,
    "start_time": "2025-07-25T06:07:46.985Z"
   },
   {
    "duration": 177,
    "start_time": "2025-07-25T06:07:47.188Z"
   },
   {
    "duration": 205,
    "start_time": "2025-07-25T06:07:47.372Z"
   },
   {
    "duration": 129,
    "start_time": "2025-07-25T06:07:47.579Z"
   },
   {
    "duration": 97,
    "start_time": "2025-07-25T06:07:47.709Z"
   },
   {
    "duration": 15,
    "start_time": "2025-07-25T06:07:47.807Z"
   },
   {
    "duration": 5756,
    "start_time": "2025-07-25T06:07:47.824Z"
   },
   {
    "duration": 138,
    "start_time": "2025-07-25T06:07:53.582Z"
   },
   {
    "duration": 233,
    "start_time": "2025-07-25T06:07:53.722Z"
   },
   {
    "duration": 2,
    "start_time": "2025-07-25T06:07:53.957Z"
   },
   {
    "duration": 212,
    "start_time": "2025-07-25T06:07:53.961Z"
   },
   {
    "duration": 124,
    "start_time": "2025-07-25T06:07:54.174Z"
   },
   {
    "duration": 4,
    "start_time": "2025-07-25T06:07:54.300Z"
   },
   {
    "duration": 146,
    "start_time": "2025-07-25T06:07:54.305Z"
   },
   {
    "duration": 36,
    "start_time": "2025-07-25T06:07:54.453Z"
   },
   {
    "duration": 4,
    "start_time": "2025-07-25T06:07:54.491Z"
   },
   {
    "duration": 121,
    "start_time": "2025-07-25T06:07:54.496Z"
   },
   {
    "duration": 3,
    "start_time": "2025-07-25T06:07:54.619Z"
   },
   {
    "duration": 9,
    "start_time": "2025-07-25T06:07:54.623Z"
   },
   {
    "duration": 39,
    "start_time": "2025-07-25T06:07:54.633Z"
   },
   {
    "duration": 6,
    "start_time": "2025-07-25T06:07:54.673Z"
   },
   {
    "duration": 125,
    "start_time": "2025-07-25T06:07:54.681Z"
   },
   {
    "duration": 0,
    "start_time": "2025-07-25T06:07:54.808Z"
   },
   {
    "duration": 0,
    "start_time": "2025-07-25T06:07:54.809Z"
   },
   {
    "duration": 0,
    "start_time": "2025-07-25T06:07:54.810Z"
   },
   {
    "duration": 0,
    "start_time": "2025-07-25T06:07:54.811Z"
   },
   {
    "duration": 0,
    "start_time": "2025-07-25T06:07:54.813Z"
   },
   {
    "duration": 0,
    "start_time": "2025-07-25T06:07:54.814Z"
   },
   {
    "duration": 0,
    "start_time": "2025-07-25T06:07:54.815Z"
   },
   {
    "duration": 0,
    "start_time": "2025-07-25T06:07:54.816Z"
   },
   {
    "duration": 0,
    "start_time": "2025-07-25T06:07:54.817Z"
   },
   {
    "duration": 1,
    "start_time": "2025-07-25T06:07:54.818Z"
   },
   {
    "duration": 0,
    "start_time": "2025-07-25T06:07:54.824Z"
   },
   {
    "duration": 0,
    "start_time": "2025-07-25T06:07:54.826Z"
   },
   {
    "duration": 0,
    "start_time": "2025-07-25T06:07:54.827Z"
   },
   {
    "duration": 0,
    "start_time": "2025-07-25T06:07:54.828Z"
   },
   {
    "duration": 0,
    "start_time": "2025-07-25T06:07:54.829Z"
   },
   {
    "duration": 0,
    "start_time": "2025-07-25T06:07:54.830Z"
   },
   {
    "duration": 7298,
    "start_time": "2025-07-25T06:08:50.231Z"
   },
   {
    "duration": 1884,
    "start_time": "2025-07-25T06:08:57.532Z"
   },
   {
    "duration": 906,
    "start_time": "2025-07-25T06:08:59.418Z"
   },
   {
    "duration": 159,
    "start_time": "2025-07-25T06:09:00.325Z"
   },
   {
    "duration": 16,
    "start_time": "2025-07-25T06:09:00.486Z"
   },
   {
    "duration": 39,
    "start_time": "2025-07-25T06:09:00.504Z"
   },
   {
    "duration": 40,
    "start_time": "2025-07-25T06:09:00.545Z"
   },
   {
    "duration": 61,
    "start_time": "2025-07-25T06:09:00.587Z"
   },
   {
    "duration": 65,
    "start_time": "2025-07-25T06:09:00.650Z"
   },
   {
    "duration": 68,
    "start_time": "2025-07-25T06:09:00.717Z"
   },
   {
    "duration": 298,
    "start_time": "2025-07-25T06:09:00.787Z"
   },
   {
    "duration": 3,
    "start_time": "2025-07-25T06:09:01.087Z"
   },
   {
    "duration": 46,
    "start_time": "2025-07-25T06:09:01.092Z"
   },
   {
    "duration": 21,
    "start_time": "2025-07-25T06:09:01.141Z"
   },
   {
    "duration": 28,
    "start_time": "2025-07-25T06:09:01.170Z"
   },
   {
    "duration": 22,
    "start_time": "2025-07-25T06:09:01.200Z"
   },
   {
    "duration": 215,
    "start_time": "2025-07-25T06:09:01.224Z"
   },
   {
    "duration": 22,
    "start_time": "2025-07-25T06:09:01.440Z"
   },
   {
    "duration": 40,
    "start_time": "2025-07-25T06:09:01.472Z"
   },
   {
    "duration": 31,
    "start_time": "2025-07-25T06:09:01.514Z"
   },
   {
    "duration": 245,
    "start_time": "2025-07-25T06:09:01.546Z"
   },
   {
    "duration": 316,
    "start_time": "2025-07-25T06:09:01.792Z"
   },
   {
    "duration": 366,
    "start_time": "2025-07-25T06:09:02.109Z"
   },
   {
    "duration": 24,
    "start_time": "2025-07-25T06:09:02.477Z"
   },
   {
    "duration": 119,
    "start_time": "2025-07-25T06:09:02.503Z"
   },
   {
    "duration": 55,
    "start_time": "2025-07-25T06:09:02.623Z"
   },
   {
    "duration": 46,
    "start_time": "2025-07-25T06:09:02.679Z"
   },
   {
    "duration": 119,
    "start_time": "2025-07-25T06:09:02.727Z"
   },
   {
    "duration": 63,
    "start_time": "2025-07-25T06:09:02.848Z"
   },
   {
    "duration": 124,
    "start_time": "2025-07-25T06:09:02.913Z"
   },
   {
    "duration": 269,
    "start_time": "2025-07-25T06:09:03.038Z"
   },
   {
    "duration": 164,
    "start_time": "2025-07-25T06:09:03.309Z"
   },
   {
    "duration": 265,
    "start_time": "2025-07-25T06:09:03.474Z"
   },
   {
    "duration": 18,
    "start_time": "2025-07-25T06:09:03.740Z"
   },
   {
    "duration": 26,
    "start_time": "2025-07-25T06:09:03.760Z"
   },
   {
    "duration": 36,
    "start_time": "2025-07-25T06:09:03.788Z"
   },
   {
    "duration": 27,
    "start_time": "2025-07-25T06:09:03.826Z"
   },
   {
    "duration": 223,
    "start_time": "2025-07-25T06:09:03.854Z"
   },
   {
    "duration": 45,
    "start_time": "2025-07-25T06:09:04.079Z"
   },
   {
    "duration": 99,
    "start_time": "2025-07-25T06:09:04.126Z"
   },
   {
    "duration": 85,
    "start_time": "2025-07-25T06:09:04.230Z"
   },
   {
    "duration": 26,
    "start_time": "2025-07-25T06:09:04.317Z"
   },
   {
    "duration": 135,
    "start_time": "2025-07-25T06:09:04.345Z"
   },
   {
    "duration": 229,
    "start_time": "2025-07-25T06:09:04.482Z"
   },
   {
    "duration": 128,
    "start_time": "2025-07-25T06:09:04.713Z"
   },
   {
    "duration": 140,
    "start_time": "2025-07-25T06:09:04.843Z"
   },
   {
    "duration": 17,
    "start_time": "2025-07-25T06:09:04.984Z"
   },
   {
    "duration": 23,
    "start_time": "2025-07-25T06:09:05.002Z"
   },
   {
    "duration": 9678,
    "start_time": "2025-07-25T06:09:05.027Z"
   },
   {
    "duration": 6,
    "start_time": "2025-07-25T06:09:14.706Z"
   },
   {
    "duration": 13,
    "start_time": "2025-07-25T06:09:14.713Z"
   },
   {
    "duration": 46,
    "start_time": "2025-07-25T06:09:14.727Z"
   },
   {
    "duration": 6,
    "start_time": "2025-07-25T06:09:14.775Z"
   },
   {
    "duration": 41,
    "start_time": "2025-07-25T06:09:14.782Z"
   },
   {
    "duration": 231,
    "start_time": "2025-07-25T06:09:14.825Z"
   },
   {
    "duration": 244,
    "start_time": "2025-07-25T06:09:15.058Z"
   },
   {
    "duration": 16,
    "start_time": "2025-07-25T06:09:15.304Z"
   },
   {
    "duration": 209,
    "start_time": "2025-07-25T06:09:15.322Z"
   },
   {
    "duration": 179,
    "start_time": "2025-07-25T06:09:15.533Z"
   },
   {
    "duration": 205,
    "start_time": "2025-07-25T06:09:15.714Z"
   },
   {
    "duration": 134,
    "start_time": "2025-07-25T06:09:15.920Z"
   },
   {
    "duration": 94,
    "start_time": "2025-07-25T06:09:16.056Z"
   },
   {
    "duration": 27,
    "start_time": "2025-07-25T06:09:16.152Z"
   },
   {
    "duration": 5810,
    "start_time": "2025-07-25T06:09:16.182Z"
   },
   {
    "duration": 146,
    "start_time": "2025-07-25T06:09:21.993Z"
   },
   {
    "duration": 253,
    "start_time": "2025-07-25T06:09:22.140Z"
   },
   {
    "duration": 2,
    "start_time": "2025-07-25T06:09:22.395Z"
   },
   {
    "duration": 184,
    "start_time": "2025-07-25T06:09:22.398Z"
   },
   {
    "duration": 148,
    "start_time": "2025-07-25T06:09:22.583Z"
   },
   {
    "duration": 4,
    "start_time": "2025-07-25T06:09:22.733Z"
   },
   {
    "duration": 157,
    "start_time": "2025-07-25T06:09:22.738Z"
   },
   {
    "duration": 32,
    "start_time": "2025-07-25T06:09:22.897Z"
   },
   {
    "duration": 32,
    "start_time": "2025-07-25T06:09:22.931Z"
   },
   {
    "duration": 113,
    "start_time": "2025-07-25T06:09:22.964Z"
   },
   {
    "duration": 3,
    "start_time": "2025-07-25T06:09:23.079Z"
   },
   {
    "duration": 17,
    "start_time": "2025-07-25T06:09:23.084Z"
   },
   {
    "duration": 29,
    "start_time": "2025-07-25T06:09:23.103Z"
   },
   {
    "duration": 6,
    "start_time": "2025-07-25T06:09:23.134Z"
   },
   {
    "duration": 10,
    "start_time": "2025-07-25T06:09:23.142Z"
   },
   {
    "duration": 1227,
    "start_time": "2025-07-25T06:09:23.154Z"
   },
   {
    "duration": 142,
    "start_time": "2025-07-25T06:09:24.383Z"
   },
   {
    "duration": 0,
    "start_time": "2025-07-25T06:09:24.526Z"
   },
   {
    "duration": 0,
    "start_time": "2025-07-25T06:09:24.527Z"
   },
   {
    "duration": 0,
    "start_time": "2025-07-25T06:09:24.528Z"
   },
   {
    "duration": 0,
    "start_time": "2025-07-25T06:09:24.530Z"
   },
   {
    "duration": 0,
    "start_time": "2025-07-25T06:09:24.531Z"
   },
   {
    "duration": 0,
    "start_time": "2025-07-25T06:09:24.532Z"
   },
   {
    "duration": 0,
    "start_time": "2025-07-25T06:09:24.533Z"
   },
   {
    "duration": 0,
    "start_time": "2025-07-25T06:09:24.534Z"
   },
   {
    "duration": 0,
    "start_time": "2025-07-25T06:09:24.535Z"
   },
   {
    "duration": 0,
    "start_time": "2025-07-25T06:09:24.536Z"
   },
   {
    "duration": 0,
    "start_time": "2025-07-25T06:09:24.537Z"
   },
   {
    "duration": 0,
    "start_time": "2025-07-25T06:09:24.538Z"
   },
   {
    "duration": 0,
    "start_time": "2025-07-25T06:09:24.539Z"
   },
   {
    "duration": 0,
    "start_time": "2025-07-25T06:09:24.540Z"
   },
   {
    "duration": 7221,
    "start_time": "2025-07-25T06:13:29.836Z"
   },
   {
    "duration": 1583,
    "start_time": "2025-07-25T06:13:37.059Z"
   },
   {
    "duration": 923,
    "start_time": "2025-07-25T06:13:38.644Z"
   },
   {
    "duration": 155,
    "start_time": "2025-07-25T06:13:39.572Z"
   },
   {
    "duration": 17,
    "start_time": "2025-07-25T06:13:39.730Z"
   },
   {
    "duration": 46,
    "start_time": "2025-07-25T06:13:39.748Z"
   },
   {
    "duration": 30,
    "start_time": "2025-07-25T06:13:39.795Z"
   },
   {
    "duration": 12,
    "start_time": "2025-07-25T06:13:39.827Z"
   },
   {
    "duration": 6,
    "start_time": "2025-07-25T06:13:39.842Z"
   },
   {
    "duration": 46,
    "start_time": "2025-07-25T06:13:39.850Z"
   },
   {
    "duration": 215,
    "start_time": "2025-07-25T06:13:39.898Z"
   },
   {
    "duration": 3,
    "start_time": "2025-07-25T06:13:40.114Z"
   },
   {
    "duration": 43,
    "start_time": "2025-07-25T06:13:40.119Z"
   },
   {
    "duration": 22,
    "start_time": "2025-07-25T06:13:40.173Z"
   },
   {
    "duration": 117,
    "start_time": "2025-07-25T06:13:40.196Z"
   },
   {
    "duration": 22,
    "start_time": "2025-07-25T06:13:40.315Z"
   },
   {
    "duration": 261,
    "start_time": "2025-07-25T06:13:40.339Z"
   },
   {
    "duration": 22,
    "start_time": "2025-07-25T06:13:40.601Z"
   },
   {
    "duration": 33,
    "start_time": "2025-07-25T06:13:40.624Z"
   },
   {
    "duration": 31,
    "start_time": "2025-07-25T06:13:40.670Z"
   },
   {
    "duration": 231,
    "start_time": "2025-07-25T06:13:40.703Z"
   },
   {
    "duration": 327,
    "start_time": "2025-07-25T06:13:40.936Z"
   },
   {
    "duration": 338,
    "start_time": "2025-07-25T06:13:41.265Z"
   },
   {
    "duration": 25,
    "start_time": "2025-07-25T06:13:41.605Z"
   },
   {
    "duration": 127,
    "start_time": "2025-07-25T06:13:41.632Z"
   },
   {
    "duration": 27,
    "start_time": "2025-07-25T06:13:41.761Z"
   },
   {
    "duration": 27,
    "start_time": "2025-07-25T06:13:41.790Z"
   },
   {
    "duration": 70,
    "start_time": "2025-07-25T06:13:41.819Z"
   },
   {
    "duration": 23,
    "start_time": "2025-07-25T06:13:41.890Z"
   },
   {
    "duration": 76,
    "start_time": "2025-07-25T06:13:41.915Z"
   },
   {
    "duration": 312,
    "start_time": "2025-07-25T06:13:41.993Z"
   },
   {
    "duration": 166,
    "start_time": "2025-07-25T06:13:42.307Z"
   },
   {
    "duration": 261,
    "start_time": "2025-07-25T06:13:42.475Z"
   },
   {
    "duration": 17,
    "start_time": "2025-07-25T06:13:42.738Z"
   },
   {
    "duration": 30,
    "start_time": "2025-07-25T06:13:42.756Z"
   },
   {
    "duration": 20,
    "start_time": "2025-07-25T06:13:42.788Z"
   },
   {
    "duration": 8,
    "start_time": "2025-07-25T06:13:42.809Z"
   },
   {
    "duration": 25,
    "start_time": "2025-07-25T06:13:42.819Z"
   },
   {
    "duration": 62,
    "start_time": "2025-07-25T06:13:42.846Z"
   },
   {
    "duration": 106,
    "start_time": "2025-07-25T06:13:42.910Z"
   },
   {
    "duration": 31,
    "start_time": "2025-07-25T06:13:43.021Z"
   },
   {
    "duration": 43,
    "start_time": "2025-07-25T06:13:43.053Z"
   },
   {
    "duration": 18,
    "start_time": "2025-07-25T06:13:43.097Z"
   },
   {
    "duration": 245,
    "start_time": "2025-07-25T06:13:43.116Z"
   },
   {
    "duration": 128,
    "start_time": "2025-07-25T06:13:43.370Z"
   },
   {
    "duration": 144,
    "start_time": "2025-07-25T06:13:43.499Z"
   },
   {
    "duration": 17,
    "start_time": "2025-07-25T06:13:43.644Z"
   },
   {
    "duration": 57,
    "start_time": "2025-07-25T06:13:43.670Z"
   },
   {
    "duration": 9682,
    "start_time": "2025-07-25T06:13:43.728Z"
   },
   {
    "duration": 6,
    "start_time": "2025-07-25T06:13:53.412Z"
   },
   {
    "duration": 23,
    "start_time": "2025-07-25T06:13:53.420Z"
   },
   {
    "duration": 40,
    "start_time": "2025-07-25T06:13:53.445Z"
   },
   {
    "duration": 5,
    "start_time": "2025-07-25T06:13:53.487Z"
   },
   {
    "duration": 32,
    "start_time": "2025-07-25T06:13:53.494Z"
   },
   {
    "duration": 232,
    "start_time": "2025-07-25T06:13:53.528Z"
   },
   {
    "duration": 236,
    "start_time": "2025-07-25T06:13:53.762Z"
   },
   {
    "duration": 15,
    "start_time": "2025-07-25T06:13:53.999Z"
   },
   {
    "duration": 234,
    "start_time": "2025-07-25T06:13:54.016Z"
   },
   {
    "duration": 170,
    "start_time": "2025-07-25T06:13:54.251Z"
   },
   {
    "duration": 205,
    "start_time": "2025-07-25T06:13:54.423Z"
   },
   {
    "duration": 124,
    "start_time": "2025-07-25T06:13:54.630Z"
   },
   {
    "duration": 91,
    "start_time": "2025-07-25T06:13:54.755Z"
   },
   {
    "duration": 29,
    "start_time": "2025-07-25T06:13:54.847Z"
   },
   {
    "duration": 5834,
    "start_time": "2025-07-25T06:13:54.878Z"
   },
   {
    "duration": 140,
    "start_time": "2025-07-25T06:14:00.714Z"
   },
   {
    "duration": 262,
    "start_time": "2025-07-25T06:14:00.856Z"
   },
   {
    "duration": 3,
    "start_time": "2025-07-25T06:14:01.120Z"
   },
   {
    "duration": 201,
    "start_time": "2025-07-25T06:14:01.124Z"
   },
   {
    "duration": 142,
    "start_time": "2025-07-25T06:14:01.327Z"
   },
   {
    "duration": 3,
    "start_time": "2025-07-25T06:14:01.471Z"
   },
   {
    "duration": 168,
    "start_time": "2025-07-25T06:14:01.476Z"
   },
   {
    "duration": 34,
    "start_time": "2025-07-25T06:14:01.646Z"
   },
   {
    "duration": 44,
    "start_time": "2025-07-25T06:14:01.683Z"
   },
   {
    "duration": 172,
    "start_time": "2025-07-25T06:14:01.729Z"
   },
   {
    "duration": 3,
    "start_time": "2025-07-25T06:14:01.903Z"
   },
   {
    "duration": 131,
    "start_time": "2025-07-25T06:14:01.908Z"
   },
   {
    "duration": 76,
    "start_time": "2025-07-25T06:14:02.040Z"
   },
   {
    "duration": 7,
    "start_time": "2025-07-25T06:14:02.119Z"
   },
   {
    "duration": 38,
    "start_time": "2025-07-25T06:14:02.128Z"
   },
   {
    "duration": 272,
    "start_time": "2025-07-25T06:14:02.167Z"
   },
   {
    "duration": 0,
    "start_time": "2025-07-25T06:14:02.440Z"
   },
   {
    "duration": 0,
    "start_time": "2025-07-25T06:14:02.442Z"
   },
   {
    "duration": 0,
    "start_time": "2025-07-25T06:14:02.443Z"
   },
   {
    "duration": 0,
    "start_time": "2025-07-25T06:14:02.444Z"
   },
   {
    "duration": 0,
    "start_time": "2025-07-25T06:14:02.445Z"
   },
   {
    "duration": 0,
    "start_time": "2025-07-25T06:14:02.446Z"
   },
   {
    "duration": 0,
    "start_time": "2025-07-25T06:14:02.448Z"
   },
   {
    "duration": 0,
    "start_time": "2025-07-25T06:14:02.449Z"
   },
   {
    "duration": 0,
    "start_time": "2025-07-25T06:14:02.450Z"
   },
   {
    "duration": 0,
    "start_time": "2025-07-25T06:14:02.471Z"
   },
   {
    "duration": 0,
    "start_time": "2025-07-25T06:14:02.473Z"
   },
   {
    "duration": 0,
    "start_time": "2025-07-25T06:14:02.474Z"
   },
   {
    "duration": 0,
    "start_time": "2025-07-25T06:14:02.476Z"
   },
   {
    "duration": 0,
    "start_time": "2025-07-25T06:14:02.477Z"
   },
   {
    "duration": 0,
    "start_time": "2025-07-25T06:14:02.478Z"
   },
   {
    "duration": 7277,
    "start_time": "2025-07-25T06:14:29.951Z"
   },
   {
    "duration": 1538,
    "start_time": "2025-07-25T06:14:37.230Z"
   },
   {
    "duration": 923,
    "start_time": "2025-07-25T06:14:38.770Z"
   },
   {
    "duration": 160,
    "start_time": "2025-07-25T06:14:39.695Z"
   },
   {
    "duration": 21,
    "start_time": "2025-07-25T06:14:39.858Z"
   },
   {
    "duration": 99,
    "start_time": "2025-07-25T06:14:39.881Z"
   },
   {
    "duration": 119,
    "start_time": "2025-07-25T06:14:39.982Z"
   },
   {
    "duration": 4,
    "start_time": "2025-07-25T06:14:40.103Z"
   },
   {
    "duration": 16,
    "start_time": "2025-07-25T06:14:40.108Z"
   },
   {
    "duration": 14,
    "start_time": "2025-07-25T06:14:40.125Z"
   },
   {
    "duration": 208,
    "start_time": "2025-07-25T06:14:40.140Z"
   },
   {
    "duration": 3,
    "start_time": "2025-07-25T06:14:40.349Z"
   },
   {
    "duration": 90,
    "start_time": "2025-07-25T06:14:40.354Z"
   },
   {
    "duration": 21,
    "start_time": "2025-07-25T06:14:40.448Z"
   },
   {
    "duration": 27,
    "start_time": "2025-07-25T06:14:40.471Z"
   },
   {
    "duration": 23,
    "start_time": "2025-07-25T06:14:40.500Z"
   },
   {
    "duration": 215,
    "start_time": "2025-07-25T06:14:40.525Z"
   },
   {
    "duration": 29,
    "start_time": "2025-07-25T06:14:40.742Z"
   },
   {
    "duration": 33,
    "start_time": "2025-07-25T06:14:40.773Z"
   },
   {
    "duration": 30,
    "start_time": "2025-07-25T06:14:40.808Z"
   },
   {
    "duration": 253,
    "start_time": "2025-07-25T06:14:40.840Z"
   },
   {
    "duration": 300,
    "start_time": "2025-07-25T06:14:41.095Z"
   },
   {
    "duration": 332,
    "start_time": "2025-07-25T06:14:41.397Z"
   },
   {
    "duration": 24,
    "start_time": "2025-07-25T06:14:41.731Z"
   },
   {
    "duration": 124,
    "start_time": "2025-07-25T06:14:41.756Z"
   },
   {
    "duration": 60,
    "start_time": "2025-07-25T06:14:41.882Z"
   },
   {
    "duration": 25,
    "start_time": "2025-07-25T06:14:41.944Z"
   },
   {
    "duration": 47,
    "start_time": "2025-07-25T06:14:41.971Z"
   },
   {
    "duration": 68,
    "start_time": "2025-07-25T06:14:42.020Z"
   },
   {
    "duration": 41,
    "start_time": "2025-07-25T06:14:42.090Z"
   },
   {
    "duration": 304,
    "start_time": "2025-07-25T06:14:42.132Z"
   },
   {
    "duration": 157,
    "start_time": "2025-07-25T06:14:42.438Z"
   },
   {
    "duration": 249,
    "start_time": "2025-07-25T06:14:42.597Z"
   },
   {
    "duration": 25,
    "start_time": "2025-07-25T06:14:42.848Z"
   },
   {
    "duration": 17,
    "start_time": "2025-07-25T06:14:42.874Z"
   },
   {
    "duration": 20,
    "start_time": "2025-07-25T06:14:42.893Z"
   },
   {
    "duration": 9,
    "start_time": "2025-07-25T06:14:42.915Z"
   },
   {
    "duration": 65,
    "start_time": "2025-07-25T06:14:42.926Z"
   },
   {
    "duration": 42,
    "start_time": "2025-07-25T06:14:42.993Z"
   },
   {
    "duration": 126,
    "start_time": "2025-07-25T06:14:43.037Z"
   },
   {
    "duration": 32,
    "start_time": "2025-07-25T06:14:43.172Z"
   },
   {
    "duration": 25,
    "start_time": "2025-07-25T06:14:43.206Z"
   },
   {
    "duration": 43,
    "start_time": "2025-07-25T06:14:43.233Z"
   },
   {
    "duration": 230,
    "start_time": "2025-07-25T06:14:43.277Z"
   },
   {
    "duration": 128,
    "start_time": "2025-07-25T06:14:43.509Z"
   },
   {
    "duration": 135,
    "start_time": "2025-07-25T06:14:43.639Z"
   },
   {
    "duration": 16,
    "start_time": "2025-07-25T06:14:43.776Z"
   },
   {
    "duration": 29,
    "start_time": "2025-07-25T06:14:43.793Z"
   },
   {
    "duration": 9694,
    "start_time": "2025-07-25T06:14:43.824Z"
   },
   {
    "duration": 5,
    "start_time": "2025-07-25T06:14:53.520Z"
   },
   {
    "duration": 36,
    "start_time": "2025-07-25T06:14:53.527Z"
   },
   {
    "duration": 47,
    "start_time": "2025-07-25T06:14:53.565Z"
   },
   {
    "duration": 6,
    "start_time": "2025-07-25T06:14:53.614Z"
   },
   {
    "duration": 53,
    "start_time": "2025-07-25T06:14:53.621Z"
   },
   {
    "duration": 250,
    "start_time": "2025-07-25T06:14:53.676Z"
   },
   {
    "duration": 241,
    "start_time": "2025-07-25T06:14:53.928Z"
   },
   {
    "duration": 15,
    "start_time": "2025-07-25T06:14:54.171Z"
   },
   {
    "duration": 301,
    "start_time": "2025-07-25T06:14:54.188Z"
   },
   {
    "duration": 175,
    "start_time": "2025-07-25T06:14:54.491Z"
   },
   {
    "duration": 208,
    "start_time": "2025-07-25T06:14:54.668Z"
   },
   {
    "duration": 134,
    "start_time": "2025-07-25T06:14:54.877Z"
   },
   {
    "duration": 99,
    "start_time": "2025-07-25T06:14:55.013Z"
   },
   {
    "duration": 14,
    "start_time": "2025-07-25T06:14:55.113Z"
   },
   {
    "duration": 5875,
    "start_time": "2025-07-25T06:14:55.129Z"
   },
   {
    "duration": 148,
    "start_time": "2025-07-25T06:15:01.006Z"
   },
   {
    "duration": 229,
    "start_time": "2025-07-25T06:15:01.156Z"
   },
   {
    "duration": 3,
    "start_time": "2025-07-25T06:15:01.387Z"
   },
   {
    "duration": 183,
    "start_time": "2025-07-25T06:15:01.392Z"
   },
   {
    "duration": 159,
    "start_time": "2025-07-25T06:15:01.577Z"
   },
   {
    "duration": 4,
    "start_time": "2025-07-25T06:15:01.737Z"
   },
   {
    "duration": 163,
    "start_time": "2025-07-25T06:15:01.743Z"
   },
   {
    "duration": 34,
    "start_time": "2025-07-25T06:15:01.907Z"
   },
   {
    "duration": 41,
    "start_time": "2025-07-25T06:15:01.943Z"
   },
   {
    "duration": 238,
    "start_time": "2025-07-25T06:15:01.986Z"
   },
   {
    "duration": 4,
    "start_time": "2025-07-25T06:15:02.227Z"
   },
   {
    "duration": 237,
    "start_time": "2025-07-25T06:15:02.233Z"
   },
   {
    "duration": 50,
    "start_time": "2025-07-25T06:15:02.472Z"
   },
   {
    "duration": 32,
    "start_time": "2025-07-25T06:15:02.523Z"
   },
   {
    "duration": 34,
    "start_time": "2025-07-25T06:15:02.556Z"
   },
   {
    "duration": 1215,
    "start_time": "2025-07-25T06:15:02.592Z"
   },
   {
    "duration": 388,
    "start_time": "2025-07-25T06:15:03.808Z"
   },
   {
    "duration": 3,
    "start_time": "2025-07-25T06:15:04.197Z"
   },
   {
    "duration": 106,
    "start_time": "2025-07-25T06:15:04.202Z"
   },
   {
    "duration": 4232,
    "start_time": "2025-07-25T06:15:04.310Z"
   },
   {
    "duration": 11,
    "start_time": "2025-07-25T06:15:08.544Z"
   },
   {
    "duration": 35,
    "start_time": "2025-07-25T06:15:08.556Z"
   },
   {
    "duration": 101267,
    "start_time": "2025-07-25T06:15:08.592Z"
   },
   {
    "duration": 5,
    "start_time": "2025-07-25T06:16:49.860Z"
   },
   {
    "duration": 68705,
    "start_time": "2025-07-25T06:16:49.867Z"
   },
   {
    "duration": 499280,
    "start_time": "2025-07-25T06:17:58.574Z"
   },
   {
    "duration": 15,
    "start_time": "2025-07-25T06:26:17.856Z"
   },
   {
    "duration": 4251,
    "start_time": "2025-07-25T06:26:17.873Z"
   },
   {
    "duration": 12442,
    "start_time": "2025-07-25T06:26:22.125Z"
   },
   {
    "duration": 7007,
    "start_time": "2025-07-25T06:26:34.571Z"
   },
   {
    "duration": 9,
    "start_time": "2025-07-25T06:26:41.580Z"
   },
   {
    "duration": 10,
    "start_time": "2025-07-25T06:26:49.193Z"
   },
   {
    "duration": 10,
    "start_time": "2025-07-25T06:27:55.857Z"
   },
   {
    "duration": 9,
    "start_time": "2025-07-25T06:33:14.893Z"
   },
   {
    "duration": 7118,
    "start_time": "2025-07-25T06:39:33.684Z"
   },
   {
    "duration": 1548,
    "start_time": "2025-07-25T06:39:40.805Z"
   },
   {
    "duration": 890,
    "start_time": "2025-07-25T06:39:42.354Z"
   },
   {
    "duration": 144,
    "start_time": "2025-07-25T06:39:43.245Z"
   },
   {
    "duration": 16,
    "start_time": "2025-07-25T06:39:43.391Z"
   },
   {
    "duration": 29,
    "start_time": "2025-07-25T06:39:43.409Z"
   },
   {
    "duration": 39,
    "start_time": "2025-07-25T06:39:43.439Z"
   },
   {
    "duration": 16,
    "start_time": "2025-07-25T06:39:43.480Z"
   },
   {
    "duration": 10,
    "start_time": "2025-07-25T06:39:43.498Z"
   },
   {
    "duration": 28,
    "start_time": "2025-07-25T06:39:43.510Z"
   },
   {
    "duration": 214,
    "start_time": "2025-07-25T06:39:43.540Z"
   },
   {
    "duration": 2,
    "start_time": "2025-07-25T06:39:43.756Z"
   },
   {
    "duration": 40,
    "start_time": "2025-07-25T06:39:43.759Z"
   },
   {
    "duration": 22,
    "start_time": "2025-07-25T06:39:43.802Z"
   },
   {
    "duration": 22,
    "start_time": "2025-07-25T06:39:43.826Z"
   },
   {
    "duration": 39,
    "start_time": "2025-07-25T06:39:43.850Z"
   },
   {
    "duration": 200,
    "start_time": "2025-07-25T06:39:43.890Z"
   },
   {
    "duration": 21,
    "start_time": "2025-07-25T06:39:44.091Z"
   },
   {
    "duration": 42,
    "start_time": "2025-07-25T06:39:44.113Z"
   },
   {
    "duration": 33,
    "start_time": "2025-07-25T06:39:44.157Z"
   },
   {
    "duration": 217,
    "start_time": "2025-07-25T06:39:44.192Z"
   },
   {
    "duration": 318,
    "start_time": "2025-07-25T06:39:44.411Z"
   },
   {
    "duration": 355,
    "start_time": "2025-07-25T06:39:44.731Z"
   },
   {
    "duration": 24,
    "start_time": "2025-07-25T06:39:45.088Z"
   },
   {
    "duration": 145,
    "start_time": "2025-07-25T06:39:45.114Z"
   },
   {
    "duration": 49,
    "start_time": "2025-07-25T06:39:45.261Z"
   },
   {
    "duration": 27,
    "start_time": "2025-07-25T06:39:45.312Z"
   },
   {
    "duration": 46,
    "start_time": "2025-07-25T06:39:45.341Z"
   },
   {
    "duration": 24,
    "start_time": "2025-07-25T06:39:45.389Z"
   },
   {
    "duration": 58,
    "start_time": "2025-07-25T06:39:45.415Z"
   },
   {
    "duration": 289,
    "start_time": "2025-07-25T06:39:45.474Z"
   },
   {
    "duration": 163,
    "start_time": "2025-07-25T06:39:45.765Z"
   },
   {
    "duration": 274,
    "start_time": "2025-07-25T06:39:45.930Z"
   },
   {
    "duration": 18,
    "start_time": "2025-07-25T06:39:46.206Z"
   },
   {
    "duration": 17,
    "start_time": "2025-07-25T06:39:46.226Z"
   },
   {
    "duration": 40,
    "start_time": "2025-07-25T06:39:46.245Z"
   },
   {
    "duration": 40,
    "start_time": "2025-07-25T06:39:46.286Z"
   },
   {
    "duration": 63,
    "start_time": "2025-07-25T06:39:46.327Z"
   },
   {
    "duration": 58,
    "start_time": "2025-07-25T06:39:46.392Z"
   },
   {
    "duration": 100,
    "start_time": "2025-07-25T06:39:46.452Z"
   },
   {
    "duration": 44,
    "start_time": "2025-07-25T06:39:46.557Z"
   },
   {
    "duration": 25,
    "start_time": "2025-07-25T06:39:46.603Z"
   },
   {
    "duration": 17,
    "start_time": "2025-07-25T06:39:46.630Z"
   },
   {
    "duration": 243,
    "start_time": "2025-07-25T06:39:46.649Z"
   },
   {
    "duration": 132,
    "start_time": "2025-07-25T06:39:46.894Z"
   },
   {
    "duration": 137,
    "start_time": "2025-07-25T06:39:47.029Z"
   },
   {
    "duration": 16,
    "start_time": "2025-07-25T06:39:47.171Z"
   },
   {
    "duration": 24,
    "start_time": "2025-07-25T06:39:47.188Z"
   },
   {
    "duration": 9668,
    "start_time": "2025-07-25T06:39:47.214Z"
   },
   {
    "duration": 6,
    "start_time": "2025-07-25T06:39:56.884Z"
   },
   {
    "duration": 16,
    "start_time": "2025-07-25T06:39:56.892Z"
   },
   {
    "duration": 28,
    "start_time": "2025-07-25T06:39:56.910Z"
   },
   {
    "duration": 5,
    "start_time": "2025-07-25T06:39:56.940Z"
   },
   {
    "duration": 31,
    "start_time": "2025-07-25T06:39:56.971Z"
   },
   {
    "duration": 218,
    "start_time": "2025-07-25T06:39:57.004Z"
   },
   {
    "duration": 239,
    "start_time": "2025-07-25T06:39:57.224Z"
   },
   {
    "duration": 18,
    "start_time": "2025-07-25T06:39:57.465Z"
   },
   {
    "duration": 191,
    "start_time": "2025-07-25T06:39:57.485Z"
   },
   {
    "duration": 175,
    "start_time": "2025-07-25T06:39:57.677Z"
   },
   {
    "duration": 206,
    "start_time": "2025-07-25T06:39:57.854Z"
   },
   {
    "duration": 133,
    "start_time": "2025-07-25T06:39:58.062Z"
   },
   {
    "duration": 89,
    "start_time": "2025-07-25T06:39:58.197Z"
   },
   {
    "duration": 89,
    "start_time": "2025-07-25T06:39:58.287Z"
   },
   {
    "duration": 5894,
    "start_time": "2025-07-25T06:39:58.378Z"
   },
   {
    "duration": 141,
    "start_time": "2025-07-25T06:40:04.274Z"
   },
   {
    "duration": 229,
    "start_time": "2025-07-25T06:40:04.417Z"
   },
   {
    "duration": 3,
    "start_time": "2025-07-25T06:40:04.647Z"
   },
   {
    "duration": 226,
    "start_time": "2025-07-25T06:40:04.651Z"
   },
   {
    "duration": 134,
    "start_time": "2025-07-25T06:40:04.879Z"
   },
   {
    "duration": 4,
    "start_time": "2025-07-25T06:40:05.014Z"
   },
   {
    "duration": 223,
    "start_time": "2025-07-25T06:40:05.020Z"
   },
   {
    "duration": 37,
    "start_time": "2025-07-25T06:40:05.245Z"
   },
   {
    "duration": 4,
    "start_time": "2025-07-25T06:40:05.284Z"
   },
   {
    "duration": 129,
    "start_time": "2025-07-25T06:40:05.289Z"
   },
   {
    "duration": 2,
    "start_time": "2025-07-25T06:40:05.420Z"
   },
   {
    "duration": 52,
    "start_time": "2025-07-25T06:40:05.424Z"
   },
   {
    "duration": 33,
    "start_time": "2025-07-25T06:40:05.478Z"
   },
   {
    "duration": 6,
    "start_time": "2025-07-25T06:40:05.512Z"
   },
   {
    "duration": 69,
    "start_time": "2025-07-25T06:40:05.520Z"
   },
   {
    "duration": 1172,
    "start_time": "2025-07-25T06:40:05.591Z"
   },
   {
    "duration": 376,
    "start_time": "2025-07-25T06:40:06.764Z"
   },
   {
    "duration": 3,
    "start_time": "2025-07-25T06:40:07.142Z"
   },
   {
    "duration": 31,
    "start_time": "2025-07-25T06:40:07.147Z"
   },
   {
    "duration": 4242,
    "start_time": "2025-07-25T06:40:07.180Z"
   },
   {
    "duration": 12,
    "start_time": "2025-07-25T06:40:11.423Z"
   },
   {
    "duration": 15,
    "start_time": "2025-07-25T06:40:11.436Z"
   },
   {
    "duration": 98093,
    "start_time": "2025-07-25T06:40:11.452Z"
   },
   {
    "duration": 5,
    "start_time": "2025-07-25T06:41:49.546Z"
   },
   {
    "duration": 90441,
    "start_time": "2025-07-25T06:41:49.553Z"
   },
   {
    "duration": 499305,
    "start_time": "2025-07-25T06:43:19.996Z"
   },
   {
    "duration": 9,
    "start_time": "2025-07-25T06:51:39.303Z"
   },
   {
    "duration": 12356,
    "start_time": "2025-07-25T06:51:39.313Z"
   },
   {
    "duration": 9,
    "start_time": "2025-07-25T06:51:51.671Z"
   }
  ],
  "kernelspec": {
   "display_name": "Python 3 (ipykernel)",
   "language": "python",
   "name": "python3"
  },
  "language_info": {
   "codemirror_mode": {
    "name": "ipython",
    "version": 3
   },
   "file_extension": ".py",
   "mimetype": "text/x-python",
   "name": "python",
   "nbconvert_exporter": "python",
   "pygments_lexer": "ipython3",
   "version": "3.12.7"
  },
  "toc": {
   "base_numbering": 1,
   "nav_menu": {},
   "number_sections": true,
   "sideBar": true,
   "skip_h1_title": true,
   "title_cell": "Table of Contents",
   "title_sidebar": "Contents",
   "toc_cell": false,
   "toc_position": {},
   "toc_section_display": true,
   "toc_window_display": false
  }
 },
 "nbformat": 4,
 "nbformat_minor": 5
}
