{
 "cells": [
  {
   "cell_type": "markdown",
   "id": "364493c4-306d-4286-8e67-d49f1c50cba3",
   "metadata": {},
   "source": [
    "# ПРОЕКТ: Выбор локации для скважины"
   ]
  },
  {
   "cell_type": "markdown",
   "id": "071ae67a-05e5-47f8-b374-22ff3946f27e",
   "metadata": {},
   "source": [
    "Я работаю в нефтедобывающей компании «ГлавРосГосНефть». \\\n",
    "Мне предоставлены данные о пробах нефти в трёх регионах и характеристики для каждой скважины."
   ]
  },
  {
   "cell_type": "markdown",
   "id": "fe936e5e-94d6-4bc7-830b-a4616225f063",
   "metadata": {},
   "source": [
    "**Цель проекта**: выбрать локацию, для бурения новой скважины. \n",
    "1. Построить модель для определения региона, где добыча принесёт наибольшую прибыль.\n",
    "2. Проанализировать возможную прибыль и риски техникой Bootstrap."
   ]
  },
  {
   "cell_type": "markdown",
   "id": "fbbcc813-995b-4723-817f-eaf974cf7730",
   "metadata": {},
   "source": [
    "Ход исследования:\n",
    "\n",
    "Шаг 1 - Загрузка и подготовка данных;\\\n",
    "Шаг 2 - Обучение и проверка моделей для каждого региона;\\\n",
    "Шаг 3 - Подготовка к расчету прибыли;\\\n",
    "Шаг 4 - Написание функции для расчёта прибыли по выбранным скважинам и предсказаниям модели;\\\n",
    "Шаг 5 - Расчет рисков и прибыли для каждого региона;\n",
    "\n",
    "Итоговый вывод."
   ]
  },
  {
   "cell_type": "markdown",
   "id": "e9254c28-4f93-40a7-9d56-8c2158c56678",
   "metadata": {},
   "source": [
    "## Шаг 1. Загрузка и подготовка данных"
   ]
  },
  {
   "cell_type": "code",
   "execution_count": 1,
   "id": "d2638692-2f46-4b98-b68f-313da8fa427a",
   "metadata": {},
   "outputs": [],
   "source": [
    "# импоритруем pandas для обработки, анализа и структурирования данных\n",
    "import pandas as pd \n",
    "\n",
    "# импоритруем numpy для работы с данными\n",
    "import numpy as np \n",
    "\n",
    "# так же импоритруем matplotlib.pyplot для будущего построения графиков\n",
    "import matplotlib.pyplot as plt \n",
    "\n",
    "# так же импоритруем seaborn для построения графиков\n",
    "import seaborn as sns \n",
    "\n",
    "# Импортируем функцию для разделения датасета на выборки\n",
    "from sklearn.model_selection import train_test_split\n",
    "\n",
    "# Импортируем классы для кодирования \n",
    "from sklearn.preprocessing import StandardScaler \n",
    "\n",
    "# Подключаем модель линейной регрессии\n",
    "from sklearn.linear_model import LinearRegression\n",
    "\n",
    "# Подключаем метрику MSE.\n",
    "from sklearn.metrics import mean_squared_error\n",
    "\n",
    "pd.set_option('display.max_columns', 20)\n",
    "pd.set_option('display.max_rows', 20)"
   ]
  },
  {
   "cell_type": "markdown",
   "id": "5d07657c-79cc-45a2-b591-2a5a169202c7",
   "metadata": {},
   "source": [
    "### 1.1 Загрузим данные из csv-файлов в датафреймы c помощью библиотеки pandas"
   ]
  },
  {
   "cell_type": "code",
   "execution_count": 2,
   "id": "f638478d-ed70-4133-95f5-62c59332cd37",
   "metadata": {},
   "outputs": [],
   "source": [
    "try: # открываем наши файлы с данными в среде JupiterHUB:\n",
    "    data_zero = pd.read_csv('/datasets/geo_data_0.csv') # данные геологоразведки первого региона\n",
    "    data_one = pd.read_csv('/datasets/geo_data_1.csv') # данные геологоразведки второго региона\n",
    "    data_two = pd.read_csv('/datasets/geo_data_2.csv') # данные геологоразведки третьего региона\n",
    "    \n",
    "except: # либо берем данные на ПК для локальной версии Jupiter:\n",
    "    data_zero = pd.read_csv('C://Users//Voova//datasets//geo_data_0.csv') \n",
    "    data_one = pd.read_csv('C://Users//Voova//datasets//geo_data_1.csv')\n",
    "    data_two = pd.read_csv('C://Users//Voova//datasets//geo_data_2.csv')"
   ]
  },
  {
   "cell_type": "markdown",
   "id": "af1200a9-11f0-4a49-ba85-e757465cd7d1",
   "metadata": {},
   "source": [
    "Описание данных:\\\n",
    "**Признаки**\n",
    "- **id** — уникальный идентификатор скважины;\n",
    "- **f0, f1, f2** — три признака точек (неизвестно, что они означают, но сами признаки значимы);\n",
    "\n",
    "\n",
    "**Целевой признак**\n",
    "- **product** — объём запасов в скважине, тыс. баррелей."
   ]
  },
  {
   "cell_type": "markdown",
   "id": "f3595eb7-4e94-4d50-8ce5-4674aecfad9b",
   "metadata": {},
   "source": [
    "### 1.2 Изучим общую информацию о датафреймах. Выведим первые строки наборов данных."
   ]
  },
  {
   "cell_type": "markdown",
   "id": "ebe6c5aa-6368-4f6c-b2d4-016bcccfc41d",
   "metadata": {},
   "source": [
    "1.2.1 Посмотрим датафрейм `data_zero`:"
   ]
  },
  {
   "cell_type": "code",
   "execution_count": 3,
   "id": "d9f2da1a-b438-4684-b53a-1f8fe9ead53b",
   "metadata": {},
   "outputs": [
    {
     "name": "stdout",
     "output_type": "stream",
     "text": [
      "<class 'pandas.core.frame.DataFrame'>\n",
      "RangeIndex: 100000 entries, 0 to 99999\n",
      "Data columns (total 5 columns):\n",
      " #   Column   Non-Null Count   Dtype  \n",
      "---  ------   --------------   -----  \n",
      " 0   id       100000 non-null  object \n",
      " 1   f0       100000 non-null  float64\n",
      " 2   f1       100000 non-null  float64\n",
      " 3   f2       100000 non-null  float64\n",
      " 4   product  100000 non-null  float64\n",
      "dtypes: float64(4), object(1)\n",
      "memory usage: 3.8+ MB\n"
     ]
    }
   ],
   "source": [
    "data_zero.info()"
   ]
  },
  {
   "cell_type": "markdown",
   "id": "5e3f84b5-2ece-4ff8-abe4-17282cabde12",
   "metadata": {},
   "source": [
    "Перед нами датафрейм на **5** колонок и **100000** строк. Пропущенные значения не обнаружены. \\\n",
    "Посмотрим первые 5 строчек таблицы:"
   ]
  },
  {
   "cell_type": "code",
   "execution_count": 4,
   "id": "3e1c083c-e396-42d9-8770-8f66e4fa00f1",
   "metadata": {},
   "outputs": [
    {
     "data": {
      "text/html": [
       "<div>\n",
       "<style scoped>\n",
       "    .dataframe tbody tr th:only-of-type {\n",
       "        vertical-align: middle;\n",
       "    }\n",
       "\n",
       "    .dataframe tbody tr th {\n",
       "        vertical-align: top;\n",
       "    }\n",
       "\n",
       "    .dataframe thead th {\n",
       "        text-align: right;\n",
       "    }\n",
       "</style>\n",
       "<table border=\"1\" class=\"dataframe\">\n",
       "  <thead>\n",
       "    <tr style=\"text-align: right;\">\n",
       "      <th></th>\n",
       "      <th>id</th>\n",
       "      <th>f0</th>\n",
       "      <th>f1</th>\n",
       "      <th>f2</th>\n",
       "      <th>product</th>\n",
       "    </tr>\n",
       "  </thead>\n",
       "  <tbody>\n",
       "    <tr>\n",
       "      <th>0</th>\n",
       "      <td>txEyH</td>\n",
       "      <td>0.705745</td>\n",
       "      <td>-0.497823</td>\n",
       "      <td>1.221170</td>\n",
       "      <td>105.280062</td>\n",
       "    </tr>\n",
       "    <tr>\n",
       "      <th>1</th>\n",
       "      <td>2acmU</td>\n",
       "      <td>1.334711</td>\n",
       "      <td>-0.340164</td>\n",
       "      <td>4.365080</td>\n",
       "      <td>73.037750</td>\n",
       "    </tr>\n",
       "    <tr>\n",
       "      <th>2</th>\n",
       "      <td>409Wp</td>\n",
       "      <td>1.022732</td>\n",
       "      <td>0.151990</td>\n",
       "      <td>1.419926</td>\n",
       "      <td>85.265647</td>\n",
       "    </tr>\n",
       "    <tr>\n",
       "      <th>3</th>\n",
       "      <td>iJLyR</td>\n",
       "      <td>-0.032172</td>\n",
       "      <td>0.139033</td>\n",
       "      <td>2.978566</td>\n",
       "      <td>168.620776</td>\n",
       "    </tr>\n",
       "    <tr>\n",
       "      <th>4</th>\n",
       "      <td>Xdl7t</td>\n",
       "      <td>1.988431</td>\n",
       "      <td>0.155413</td>\n",
       "      <td>4.751769</td>\n",
       "      <td>154.036647</td>\n",
       "    </tr>\n",
       "  </tbody>\n",
       "</table>\n",
       "</div>"
      ],
      "text/plain": [
       "      id        f0        f1        f2     product\n",
       "0  txEyH  0.705745 -0.497823  1.221170  105.280062\n",
       "1  2acmU  1.334711 -0.340164  4.365080   73.037750\n",
       "2  409Wp  1.022732  0.151990  1.419926   85.265647\n",
       "3  iJLyR -0.032172  0.139033  2.978566  168.620776\n",
       "4  Xdl7t  1.988431  0.155413  4.751769  154.036647"
      ]
     },
     "execution_count": 4,
     "metadata": {},
     "output_type": "execute_result"
    }
   ],
   "source": [
    "data_zero.head(5)"
   ]
  },
  {
   "cell_type": "markdown",
   "id": "c7353449-d331-4d25-853e-a26d07d9007a",
   "metadata": {},
   "source": [
    "Типы данных корректные, данные в таблице соответствуют описанию."
   ]
  },
  {
   "cell_type": "markdown",
   "id": "293eec81-7440-462d-87bb-a046babfcd33",
   "metadata": {},
   "source": [
    "1.2.2 Посмотрим датафрейм `data_one`:"
   ]
  },
  {
   "cell_type": "code",
   "execution_count": 5,
   "id": "f22ad075-a102-4ece-88c7-ac27df8b9f0a",
   "metadata": {},
   "outputs": [
    {
     "name": "stdout",
     "output_type": "stream",
     "text": [
      "<class 'pandas.core.frame.DataFrame'>\n",
      "RangeIndex: 100000 entries, 0 to 99999\n",
      "Data columns (total 5 columns):\n",
      " #   Column   Non-Null Count   Dtype  \n",
      "---  ------   --------------   -----  \n",
      " 0   id       100000 non-null  object \n",
      " 1   f0       100000 non-null  float64\n",
      " 2   f1       100000 non-null  float64\n",
      " 3   f2       100000 non-null  float64\n",
      " 4   product  100000 non-null  float64\n",
      "dtypes: float64(4), object(1)\n",
      "memory usage: 3.8+ MB\n"
     ]
    }
   ],
   "source": [
    "data_one.info()"
   ]
  },
  {
   "cell_type": "markdown",
   "id": "a1f5d042-2881-4abf-a454-ca22e6a873c4",
   "metadata": {},
   "source": [
    "Перед нами датафрейм на **5** колонок и **100000** строк. Пропущенные значения не обнаружены. \\\n",
    "Посмотрим первые 5 строчек таблицы:"
   ]
  },
  {
   "cell_type": "code",
   "execution_count": 6,
   "id": "880b290a-8826-4f9f-8ec8-74cd615830d2",
   "metadata": {},
   "outputs": [
    {
     "data": {
      "text/html": [
       "<div>\n",
       "<style scoped>\n",
       "    .dataframe tbody tr th:only-of-type {\n",
       "        vertical-align: middle;\n",
       "    }\n",
       "\n",
       "    .dataframe tbody tr th {\n",
       "        vertical-align: top;\n",
       "    }\n",
       "\n",
       "    .dataframe thead th {\n",
       "        text-align: right;\n",
       "    }\n",
       "</style>\n",
       "<table border=\"1\" class=\"dataframe\">\n",
       "  <thead>\n",
       "    <tr style=\"text-align: right;\">\n",
       "      <th></th>\n",
       "      <th>id</th>\n",
       "      <th>f0</th>\n",
       "      <th>f1</th>\n",
       "      <th>f2</th>\n",
       "      <th>product</th>\n",
       "    </tr>\n",
       "  </thead>\n",
       "  <tbody>\n",
       "    <tr>\n",
       "      <th>0</th>\n",
       "      <td>kBEdx</td>\n",
       "      <td>-15.001348</td>\n",
       "      <td>-8.276000</td>\n",
       "      <td>-0.005876</td>\n",
       "      <td>3.179103</td>\n",
       "    </tr>\n",
       "    <tr>\n",
       "      <th>1</th>\n",
       "      <td>62mP7</td>\n",
       "      <td>14.272088</td>\n",
       "      <td>-3.475083</td>\n",
       "      <td>0.999183</td>\n",
       "      <td>26.953261</td>\n",
       "    </tr>\n",
       "    <tr>\n",
       "      <th>2</th>\n",
       "      <td>vyE1P</td>\n",
       "      <td>6.263187</td>\n",
       "      <td>-5.948386</td>\n",
       "      <td>5.001160</td>\n",
       "      <td>134.766305</td>\n",
       "    </tr>\n",
       "    <tr>\n",
       "      <th>3</th>\n",
       "      <td>KcrkZ</td>\n",
       "      <td>-13.081196</td>\n",
       "      <td>-11.506057</td>\n",
       "      <td>4.999415</td>\n",
       "      <td>137.945408</td>\n",
       "    </tr>\n",
       "    <tr>\n",
       "      <th>4</th>\n",
       "      <td>AHL4O</td>\n",
       "      <td>12.702195</td>\n",
       "      <td>-8.147433</td>\n",
       "      <td>5.004363</td>\n",
       "      <td>134.766305</td>\n",
       "    </tr>\n",
       "  </tbody>\n",
       "</table>\n",
       "</div>"
      ],
      "text/plain": [
       "      id         f0         f1        f2     product\n",
       "0  kBEdx -15.001348  -8.276000 -0.005876    3.179103\n",
       "1  62mP7  14.272088  -3.475083  0.999183   26.953261\n",
       "2  vyE1P   6.263187  -5.948386  5.001160  134.766305\n",
       "3  KcrkZ -13.081196 -11.506057  4.999415  137.945408\n",
       "4  AHL4O  12.702195  -8.147433  5.004363  134.766305"
      ]
     },
     "execution_count": 6,
     "metadata": {},
     "output_type": "execute_result"
    }
   ],
   "source": [
    "data_one.head(5)"
   ]
  },
  {
   "cell_type": "markdown",
   "id": "882e7d7a-59c5-4618-8cb2-e6afc63c097e",
   "metadata": {},
   "source": [
    "Типы данных корректные, данные в таблице соответствуют описанию."
   ]
  },
  {
   "cell_type": "markdown",
   "id": "5e885127-b416-47f6-857d-e996c8b21b5b",
   "metadata": {},
   "source": [
    "1.2.3 Посмотрим датафрейм `data_two`:"
   ]
  },
  {
   "cell_type": "code",
   "execution_count": 7,
   "id": "2a229b3c-5859-465d-b1de-1228e76c408e",
   "metadata": {},
   "outputs": [
    {
     "name": "stdout",
     "output_type": "stream",
     "text": [
      "<class 'pandas.core.frame.DataFrame'>\n",
      "RangeIndex: 100000 entries, 0 to 99999\n",
      "Data columns (total 5 columns):\n",
      " #   Column   Non-Null Count   Dtype  \n",
      "---  ------   --------------   -----  \n",
      " 0   id       100000 non-null  object \n",
      " 1   f0       100000 non-null  float64\n",
      " 2   f1       100000 non-null  float64\n",
      " 3   f2       100000 non-null  float64\n",
      " 4   product  100000 non-null  float64\n",
      "dtypes: float64(4), object(1)\n",
      "memory usage: 3.8+ MB\n"
     ]
    }
   ],
   "source": [
    "data_two.info()"
   ]
  },
  {
   "cell_type": "markdown",
   "id": "37dc0bb9-b3ef-4d5a-a354-d4f54282fe33",
   "metadata": {},
   "source": [
    "Перед нами датафрейм на **5** колонок и **100000** строк. Пропущенные значения не обнаружены. \\\n",
    "Посмотрим первые 5 строчек таблицы:"
   ]
  },
  {
   "cell_type": "code",
   "execution_count": 8,
   "id": "4e2b3f89-b439-4f69-abd3-022d7a07ceb7",
   "metadata": {},
   "outputs": [
    {
     "data": {
      "text/html": [
       "<div>\n",
       "<style scoped>\n",
       "    .dataframe tbody tr th:only-of-type {\n",
       "        vertical-align: middle;\n",
       "    }\n",
       "\n",
       "    .dataframe tbody tr th {\n",
       "        vertical-align: top;\n",
       "    }\n",
       "\n",
       "    .dataframe thead th {\n",
       "        text-align: right;\n",
       "    }\n",
       "</style>\n",
       "<table border=\"1\" class=\"dataframe\">\n",
       "  <thead>\n",
       "    <tr style=\"text-align: right;\">\n",
       "      <th></th>\n",
       "      <th>id</th>\n",
       "      <th>f0</th>\n",
       "      <th>f1</th>\n",
       "      <th>f2</th>\n",
       "      <th>product</th>\n",
       "    </tr>\n",
       "  </thead>\n",
       "  <tbody>\n",
       "    <tr>\n",
       "      <th>0</th>\n",
       "      <td>fwXo0</td>\n",
       "      <td>-1.146987</td>\n",
       "      <td>0.963328</td>\n",
       "      <td>-0.828965</td>\n",
       "      <td>27.758673</td>\n",
       "    </tr>\n",
       "    <tr>\n",
       "      <th>1</th>\n",
       "      <td>WJtFt</td>\n",
       "      <td>0.262778</td>\n",
       "      <td>0.269839</td>\n",
       "      <td>-2.530187</td>\n",
       "      <td>56.069697</td>\n",
       "    </tr>\n",
       "    <tr>\n",
       "      <th>2</th>\n",
       "      <td>ovLUW</td>\n",
       "      <td>0.194587</td>\n",
       "      <td>0.289035</td>\n",
       "      <td>-5.586433</td>\n",
       "      <td>62.871910</td>\n",
       "    </tr>\n",
       "    <tr>\n",
       "      <th>3</th>\n",
       "      <td>q6cA6</td>\n",
       "      <td>2.236060</td>\n",
       "      <td>-0.553760</td>\n",
       "      <td>0.930038</td>\n",
       "      <td>114.572842</td>\n",
       "    </tr>\n",
       "    <tr>\n",
       "      <th>4</th>\n",
       "      <td>WPMUX</td>\n",
       "      <td>-0.515993</td>\n",
       "      <td>1.716266</td>\n",
       "      <td>5.899011</td>\n",
       "      <td>149.600746</td>\n",
       "    </tr>\n",
       "  </tbody>\n",
       "</table>\n",
       "</div>"
      ],
      "text/plain": [
       "      id        f0        f1        f2     product\n",
       "0  fwXo0 -1.146987  0.963328 -0.828965   27.758673\n",
       "1  WJtFt  0.262778  0.269839 -2.530187   56.069697\n",
       "2  ovLUW  0.194587  0.289035 -5.586433   62.871910\n",
       "3  q6cA6  2.236060 -0.553760  0.930038  114.572842\n",
       "4  WPMUX -0.515993  1.716266  5.899011  149.600746"
      ]
     },
     "execution_count": 8,
     "metadata": {},
     "output_type": "execute_result"
    }
   ],
   "source": [
    "data_two.head(5)"
   ]
  },
  {
   "cell_type": "markdown",
   "id": "dc241f79-c47e-4f32-9df0-4ba22ec2468b",
   "metadata": {},
   "source": [
    "Типы данных корректные, данные в таблице соответствуют описанию."
   ]
  },
  {
   "cell_type": "markdown",
   "id": "ec09a8d7-a06a-4d2d-9ca8-06ef22cdf76a",
   "metadata": {},
   "source": [
    "### Вывод:\n",
    "В нашем распоряжении датафреймы:\n",
    "- `data_zero` на **5** колонок и **100000** строк;\n",
    "- `data_one` на **5** колонок и **100000** строк;\n",
    "- `data_two` на **5** колонки и **100000** строк.\n",
    "  \n",
    "Пропуски в данных не обнаружены.\n",
    "\n",
    "Так как данные синтетические, я подразумеваю, что разный регистр символов в столбце ID так и задуман, в плане того, что он влияет на уникальный идентификатор скважины и к нижнему регистру приводить этот столбец я не буду. \n",
    "\n",
    "Для корректного исследования необходимо предобработать данные, а именно:\n",
    "- Проверить датафреймы на явные/неявные дубликаты."
   ]
  },
  {
   "cell_type": "markdown",
   "id": "77110b40-003e-4e61-87f8-95f2f01c01c1",
   "metadata": {},
   "source": [
    "### 1.3 Предобработка данных"
   ]
  },
  {
   "cell_type": "markdown",
   "id": "a468d658-16d7-489b-96d9-204557aa2a04",
   "metadata": {},
   "source": [
    "Основа предобработки данных - проверка датафреймов на дубликаты:"
   ]
  },
  {
   "cell_type": "markdown",
   "id": "fe0dd316-bd11-46a8-9e6a-4e58ed789759",
   "metadata": {},
   "source": [
    "1.3.1 Работаем с датафреймом `data_zero`:"
   ]
  },
  {
   "cell_type": "code",
   "execution_count": 9,
   "id": "e5375e50-99f5-46ad-897d-c3cf86faefd5",
   "metadata": {},
   "outputs": [
    {
     "data": {
      "text/plain": [
       "0"
      ]
     },
     "execution_count": 9,
     "metadata": {},
     "output_type": "execute_result"
    }
   ],
   "source": [
    "data_zero.duplicated().sum() # выведим сумму явных дубликатов:"
   ]
  },
  {
   "cell_type": "markdown",
   "id": "7674abe0-1526-4620-bd74-214099771f26",
   "metadata": {},
   "source": [
    "Явные дубликаты не обнаружены. "
   ]
  },
  {
   "cell_type": "markdown",
   "id": "ea5e817a-10c4-4302-bb50-cbd92c84985e",
   "metadata": {},
   "source": [
    "Проверим на неявные дубликаты столбец с категориальными данными `['id']`:"
   ]
  },
  {
   "cell_type": "code",
   "execution_count": 10,
   "id": "8e6a0d22-dac4-45c4-95e9-da9a103a04fa",
   "metadata": {},
   "outputs": [
    {
     "data": {
      "text/plain": [
       "10"
      ]
     },
     "execution_count": 10,
     "metadata": {},
     "output_type": "execute_result"
    }
   ],
   "source": [
    "data_zero.duplicated(subset = ['id']).sum() "
   ]
  },
  {
   "cell_type": "markdown",
   "id": "90f4ac17-19cf-4bed-b1bd-40916203c202",
   "metadata": {},
   "source": [
    "10 скважен дублируются, посмотрим на них:"
   ]
  },
  {
   "cell_type": "code",
   "execution_count": 11,
   "id": "9aef70e0-d4d1-4a32-90de-7731827cff47",
   "metadata": {},
   "outputs": [
    {
     "data": {
      "text/html": [
       "<div>\n",
       "<style scoped>\n",
       "    .dataframe tbody tr th:only-of-type {\n",
       "        vertical-align: middle;\n",
       "    }\n",
       "\n",
       "    .dataframe tbody tr th {\n",
       "        vertical-align: top;\n",
       "    }\n",
       "\n",
       "    .dataframe thead th {\n",
       "        text-align: right;\n",
       "    }\n",
       "</style>\n",
       "<table border=\"1\" class=\"dataframe\">\n",
       "  <thead>\n",
       "    <tr style=\"text-align: right;\">\n",
       "      <th></th>\n",
       "      <th>id</th>\n",
       "      <th>f0</th>\n",
       "      <th>f1</th>\n",
       "      <th>f2</th>\n",
       "      <th>product</th>\n",
       "    </tr>\n",
       "  </thead>\n",
       "  <tbody>\n",
       "    <tr>\n",
       "      <th>7530</th>\n",
       "      <td>HZww2</td>\n",
       "      <td>1.061194</td>\n",
       "      <td>-0.373969</td>\n",
       "      <td>10.430210</td>\n",
       "      <td>158.828695</td>\n",
       "    </tr>\n",
       "    <tr>\n",
       "      <th>41724</th>\n",
       "      <td>bxg6G</td>\n",
       "      <td>-0.823752</td>\n",
       "      <td>0.546319</td>\n",
       "      <td>3.630479</td>\n",
       "      <td>93.007798</td>\n",
       "    </tr>\n",
       "    <tr>\n",
       "      <th>51970</th>\n",
       "      <td>A5aEY</td>\n",
       "      <td>-0.180335</td>\n",
       "      <td>0.935548</td>\n",
       "      <td>-2.094773</td>\n",
       "      <td>33.020205</td>\n",
       "    </tr>\n",
       "    <tr>\n",
       "      <th>63593</th>\n",
       "      <td>QcMuo</td>\n",
       "      <td>0.635635</td>\n",
       "      <td>-0.473422</td>\n",
       "      <td>0.862670</td>\n",
       "      <td>64.578675</td>\n",
       "    </tr>\n",
       "    <tr>\n",
       "      <th>66136</th>\n",
       "      <td>74z30</td>\n",
       "      <td>1.084962</td>\n",
       "      <td>-0.312358</td>\n",
       "      <td>6.990771</td>\n",
       "      <td>127.643327</td>\n",
       "    </tr>\n",
       "    <tr>\n",
       "      <th>69163</th>\n",
       "      <td>AGS9W</td>\n",
       "      <td>-0.933795</td>\n",
       "      <td>0.116194</td>\n",
       "      <td>-3.655896</td>\n",
       "      <td>19.230453</td>\n",
       "    </tr>\n",
       "    <tr>\n",
       "      <th>75715</th>\n",
       "      <td>Tdehs</td>\n",
       "      <td>0.112079</td>\n",
       "      <td>0.430296</td>\n",
       "      <td>3.218993</td>\n",
       "      <td>60.964018</td>\n",
       "    </tr>\n",
       "    <tr>\n",
       "      <th>90815</th>\n",
       "      <td>fiKDv</td>\n",
       "      <td>0.049883</td>\n",
       "      <td>0.841313</td>\n",
       "      <td>6.394613</td>\n",
       "      <td>137.346586</td>\n",
       "    </tr>\n",
       "    <tr>\n",
       "      <th>92341</th>\n",
       "      <td>TtcGQ</td>\n",
       "      <td>0.110711</td>\n",
       "      <td>1.022689</td>\n",
       "      <td>0.911381</td>\n",
       "      <td>101.318008</td>\n",
       "    </tr>\n",
       "    <tr>\n",
       "      <th>97785</th>\n",
       "      <td>bsk9y</td>\n",
       "      <td>0.378429</td>\n",
       "      <td>0.005837</td>\n",
       "      <td>0.160827</td>\n",
       "      <td>160.637302</td>\n",
       "    </tr>\n",
       "  </tbody>\n",
       "</table>\n",
       "</div>"
      ],
      "text/plain": [
       "          id        f0        f1         f2     product\n",
       "7530   HZww2  1.061194 -0.373969  10.430210  158.828695\n",
       "41724  bxg6G -0.823752  0.546319   3.630479   93.007798\n",
       "51970  A5aEY -0.180335  0.935548  -2.094773   33.020205\n",
       "63593  QcMuo  0.635635 -0.473422   0.862670   64.578675\n",
       "66136  74z30  1.084962 -0.312358   6.990771  127.643327\n",
       "69163  AGS9W -0.933795  0.116194  -3.655896   19.230453\n",
       "75715  Tdehs  0.112079  0.430296   3.218993   60.964018\n",
       "90815  fiKDv  0.049883  0.841313   6.394613  137.346586\n",
       "92341  TtcGQ  0.110711  1.022689   0.911381  101.318008\n",
       "97785  bsk9y  0.378429  0.005837   0.160827  160.637302"
      ]
     },
     "execution_count": 11,
     "metadata": {},
     "output_type": "execute_result"
    }
   ],
   "source": [
    "data_zero[data_zero.duplicated(subset = ['id'])]"
   ]
  },
  {
   "cell_type": "code",
   "execution_count": 12,
   "id": "cca7b5fb-f0e4-4a84-93e2-bd7a74e322c8",
   "metadata": {},
   "outputs": [
    {
     "data": {
      "text/html": [
       "<div>\n",
       "<style scoped>\n",
       "    .dataframe tbody tr th:only-of-type {\n",
       "        vertical-align: middle;\n",
       "    }\n",
       "\n",
       "    .dataframe tbody tr th {\n",
       "        vertical-align: top;\n",
       "    }\n",
       "\n",
       "    .dataframe thead th {\n",
       "        text-align: right;\n",
       "    }\n",
       "</style>\n",
       "<table border=\"1\" class=\"dataframe\">\n",
       "  <thead>\n",
       "    <tr style=\"text-align: right;\">\n",
       "      <th></th>\n",
       "      <th>id</th>\n",
       "      <th>f0</th>\n",
       "      <th>f1</th>\n",
       "      <th>f2</th>\n",
       "      <th>product</th>\n",
       "    </tr>\n",
       "  </thead>\n",
       "  <tbody>\n",
       "    <tr>\n",
       "      <th>931</th>\n",
       "      <td>HZww2</td>\n",
       "      <td>0.755284</td>\n",
       "      <td>0.368511</td>\n",
       "      <td>1.863211</td>\n",
       "      <td>30.681774</td>\n",
       "    </tr>\n",
       "    <tr>\n",
       "      <th>7530</th>\n",
       "      <td>HZww2</td>\n",
       "      <td>1.061194</td>\n",
       "      <td>-0.373969</td>\n",
       "      <td>10.430210</td>\n",
       "      <td>158.828695</td>\n",
       "    </tr>\n",
       "  </tbody>\n",
       "</table>\n",
       "</div>"
      ],
      "text/plain": [
       "         id        f0        f1         f2     product\n",
       "931   HZww2  0.755284  0.368511   1.863211   30.681774\n",
       "7530  HZww2  1.061194 -0.373969  10.430210  158.828695"
      ]
     },
     "execution_count": 12,
     "metadata": {},
     "output_type": "execute_result"
    }
   ],
   "source": [
    "data_zero[data_zero['id'] == 'HZww2']"
   ]
  },
  {
   "cell_type": "markdown",
   "id": "822b2493-1397-4559-bc92-de089e9fc613",
   "metadata": {},
   "source": [
    "У скважин совпадает только идентификатор, а признаки точек и объемы запасов различаются: ведь можно из одной скважины на поверхности забуриваться в разные направления, что логично. \\\n",
    "Поэтому я считаю, что эти дубликаты не стоит удалять, тем более что их количество от общего числа скважин несущественно. "
   ]
  },
  {
   "cell_type": "markdown",
   "id": "52604735-d1e4-4a80-a8d4-34f6d3a3e838",
   "metadata": {},
   "source": [
    "1.3.2 Работаем с датафреймом `data_one`:"
   ]
  },
  {
   "cell_type": "code",
   "execution_count": 13,
   "id": "fe6b2047-eb9a-496e-b15b-83b2b915d405",
   "metadata": {},
   "outputs": [
    {
     "data": {
      "text/plain": [
       "0"
      ]
     },
     "execution_count": 13,
     "metadata": {},
     "output_type": "execute_result"
    }
   ],
   "source": [
    "data_one.duplicated().sum() # выведим сумму явных дубликатов:"
   ]
  },
  {
   "cell_type": "markdown",
   "id": "13b74383-3650-4067-ac52-5eaf385cbae5",
   "metadata": {},
   "source": [
    "Явные дубликаты не обнаружены. "
   ]
  },
  {
   "cell_type": "markdown",
   "id": "0dad84eb-d482-4d0f-ab3c-21cd621b61f7",
   "metadata": {},
   "source": [
    "Проверим на неявные дубликаты столбец с категориальными данными `['id']`:"
   ]
  },
  {
   "cell_type": "code",
   "execution_count": 14,
   "id": "719a208b-7e87-482c-b019-018c331e65e4",
   "metadata": {},
   "outputs": [
    {
     "data": {
      "text/plain": [
       "4"
      ]
     },
     "execution_count": 14,
     "metadata": {},
     "output_type": "execute_result"
    }
   ],
   "source": [
    "data_one.duplicated(subset = ['id']).sum() "
   ]
  },
  {
   "cell_type": "markdown",
   "id": "b298d29d-6b25-4786-bdfc-09738b5aa9e9",
   "metadata": {},
   "source": [
    "4 скважины дублируются, посмотрим на них:"
   ]
  },
  {
   "cell_type": "code",
   "execution_count": 15,
   "id": "e9c6150f-2279-4cb7-94c8-69d3ac8178e2",
   "metadata": {},
   "outputs": [
    {
     "data": {
      "text/html": [
       "<div>\n",
       "<style scoped>\n",
       "    .dataframe tbody tr th:only-of-type {\n",
       "        vertical-align: middle;\n",
       "    }\n",
       "\n",
       "    .dataframe tbody tr th {\n",
       "        vertical-align: top;\n",
       "    }\n",
       "\n",
       "    .dataframe thead th {\n",
       "        text-align: right;\n",
       "    }\n",
       "</style>\n",
       "<table border=\"1\" class=\"dataframe\">\n",
       "  <thead>\n",
       "    <tr style=\"text-align: right;\">\n",
       "      <th></th>\n",
       "      <th>id</th>\n",
       "      <th>f0</th>\n",
       "      <th>f1</th>\n",
       "      <th>f2</th>\n",
       "      <th>product</th>\n",
       "    </tr>\n",
       "  </thead>\n",
       "  <tbody>\n",
       "    <tr>\n",
       "      <th>41906</th>\n",
       "      <td>LHZR0</td>\n",
       "      <td>-8.989672</td>\n",
       "      <td>-4.286607</td>\n",
       "      <td>2.009139</td>\n",
       "      <td>57.085625</td>\n",
       "    </tr>\n",
       "    <tr>\n",
       "      <th>82178</th>\n",
       "      <td>bfPNe</td>\n",
       "      <td>-6.202799</td>\n",
       "      <td>-4.820045</td>\n",
       "      <td>2.995107</td>\n",
       "      <td>84.038886</td>\n",
       "    </tr>\n",
       "    <tr>\n",
       "      <th>82873</th>\n",
       "      <td>wt4Uk</td>\n",
       "      <td>10.259972</td>\n",
       "      <td>-9.376355</td>\n",
       "      <td>4.994297</td>\n",
       "      <td>134.766305</td>\n",
       "    </tr>\n",
       "    <tr>\n",
       "      <th>84461</th>\n",
       "      <td>5ltQ6</td>\n",
       "      <td>18.213839</td>\n",
       "      <td>2.191999</td>\n",
       "      <td>3.993869</td>\n",
       "      <td>107.813044</td>\n",
       "    </tr>\n",
       "  </tbody>\n",
       "</table>\n",
       "</div>"
      ],
      "text/plain": [
       "          id         f0        f1        f2     product\n",
       "41906  LHZR0  -8.989672 -4.286607  2.009139   57.085625\n",
       "82178  bfPNe  -6.202799 -4.820045  2.995107   84.038886\n",
       "82873  wt4Uk  10.259972 -9.376355  4.994297  134.766305\n",
       "84461  5ltQ6  18.213839  2.191999  3.993869  107.813044"
      ]
     },
     "execution_count": 15,
     "metadata": {},
     "output_type": "execute_result"
    }
   ],
   "source": [
    "data_one[data_one.duplicated(subset = ['id'])]"
   ]
  },
  {
   "cell_type": "code",
   "execution_count": 16,
   "id": "d0cc1a22-fbed-441c-9078-f60cbabb3a4c",
   "metadata": {},
   "outputs": [
    {
     "data": {
      "text/html": [
       "<div>\n",
       "<style scoped>\n",
       "    .dataframe tbody tr th:only-of-type {\n",
       "        vertical-align: middle;\n",
       "    }\n",
       "\n",
       "    .dataframe tbody tr th {\n",
       "        vertical-align: top;\n",
       "    }\n",
       "\n",
       "    .dataframe thead th {\n",
       "        text-align: right;\n",
       "    }\n",
       "</style>\n",
       "<table border=\"1\" class=\"dataframe\">\n",
       "  <thead>\n",
       "    <tr style=\"text-align: right;\">\n",
       "      <th></th>\n",
       "      <th>id</th>\n",
       "      <th>f0</th>\n",
       "      <th>f1</th>\n",
       "      <th>f2</th>\n",
       "      <th>product</th>\n",
       "    </tr>\n",
       "  </thead>\n",
       "  <tbody>\n",
       "    <tr>\n",
       "      <th>1305</th>\n",
       "      <td>LHZR0</td>\n",
       "      <td>11.170835</td>\n",
       "      <td>-1.945066</td>\n",
       "      <td>3.002872</td>\n",
       "      <td>80.859783</td>\n",
       "    </tr>\n",
       "    <tr>\n",
       "      <th>41906</th>\n",
       "      <td>LHZR0</td>\n",
       "      <td>-8.989672</td>\n",
       "      <td>-4.286607</td>\n",
       "      <td>2.009139</td>\n",
       "      <td>57.085625</td>\n",
       "    </tr>\n",
       "  </tbody>\n",
       "</table>\n",
       "</div>"
      ],
      "text/plain": [
       "          id         f0        f1        f2    product\n",
       "1305   LHZR0  11.170835 -1.945066  3.002872  80.859783\n",
       "41906  LHZR0  -8.989672 -4.286607  2.009139  57.085625"
      ]
     },
     "execution_count": 16,
     "metadata": {},
     "output_type": "execute_result"
    }
   ],
   "source": [
    "data_one[data_one['id'] == 'LHZR0']"
   ]
  },
  {
   "cell_type": "markdown",
   "id": "a42da5a8-bc66-4b43-a8a1-8d7d8a7246b9",
   "metadata": {},
   "source": [
    "По дублям этого датафрейма делаем точно такие же выводы, как и по предыдущему. "
   ]
  },
  {
   "cell_type": "markdown",
   "id": "f11d44fb-b144-4a81-a9af-406ca9361569",
   "metadata": {},
   "source": [
    "1.3.3 Работаем с датафреймом `data_two`:"
   ]
  },
  {
   "cell_type": "code",
   "execution_count": 17,
   "id": "25625fbf-44e8-41d6-a644-8cc684261c88",
   "metadata": {},
   "outputs": [
    {
     "data": {
      "text/plain": [
       "0"
      ]
     },
     "execution_count": 17,
     "metadata": {},
     "output_type": "execute_result"
    }
   ],
   "source": [
    "data_two.duplicated().sum() # выведим сумму явных дубликатов:"
   ]
  },
  {
   "cell_type": "markdown",
   "id": "e8678c29-866c-4767-b15e-eaa97042f300",
   "metadata": {},
   "source": [
    "Явные дубликаты не обнаружены. "
   ]
  },
  {
   "cell_type": "markdown",
   "id": "b24bd785-896a-494a-a775-522a8e7d01e3",
   "metadata": {},
   "source": [
    "Проверим на неявные дубликаты столбец с категориальными данными `['id']`:"
   ]
  },
  {
   "cell_type": "code",
   "execution_count": 18,
   "id": "f982d784-7359-41b2-864b-6fa7e2ae0a15",
   "metadata": {},
   "outputs": [
    {
     "data": {
      "text/plain": [
       "4"
      ]
     },
     "execution_count": 18,
     "metadata": {},
     "output_type": "execute_result"
    }
   ],
   "source": [
    "data_two.duplicated(subset = ['id']).sum() "
   ]
  },
  {
   "cell_type": "markdown",
   "id": "3bd790bc-b487-4699-81a5-3015f87907cf",
   "metadata": {},
   "source": [
    "4 скважины дублируются, посмотрим на них:"
   ]
  },
  {
   "cell_type": "code",
   "execution_count": 19,
   "id": "217df6be-3b3e-4753-ae24-52705580c15d",
   "metadata": {},
   "outputs": [
    {
     "data": {
      "text/html": [
       "<div>\n",
       "<style scoped>\n",
       "    .dataframe tbody tr th:only-of-type {\n",
       "        vertical-align: middle;\n",
       "    }\n",
       "\n",
       "    .dataframe tbody tr th {\n",
       "        vertical-align: top;\n",
       "    }\n",
       "\n",
       "    .dataframe thead th {\n",
       "        text-align: right;\n",
       "    }\n",
       "</style>\n",
       "<table border=\"1\" class=\"dataframe\">\n",
       "  <thead>\n",
       "    <tr style=\"text-align: right;\">\n",
       "      <th></th>\n",
       "      <th>id</th>\n",
       "      <th>f0</th>\n",
       "      <th>f1</th>\n",
       "      <th>f2</th>\n",
       "      <th>product</th>\n",
       "    </tr>\n",
       "  </thead>\n",
       "  <tbody>\n",
       "    <tr>\n",
       "      <th>43233</th>\n",
       "      <td>xCHr8</td>\n",
       "      <td>-0.847066</td>\n",
       "      <td>2.101796</td>\n",
       "      <td>5.597130</td>\n",
       "      <td>184.388641</td>\n",
       "    </tr>\n",
       "    <tr>\n",
       "      <th>49564</th>\n",
       "      <td>VF7Jo</td>\n",
       "      <td>-0.883115</td>\n",
       "      <td>0.560537</td>\n",
       "      <td>0.723601</td>\n",
       "      <td>136.233420</td>\n",
       "    </tr>\n",
       "    <tr>\n",
       "      <th>55967</th>\n",
       "      <td>KUPhW</td>\n",
       "      <td>1.211150</td>\n",
       "      <td>3.176408</td>\n",
       "      <td>5.543540</td>\n",
       "      <td>132.831802</td>\n",
       "    </tr>\n",
       "    <tr>\n",
       "      <th>95090</th>\n",
       "      <td>Vcm5J</td>\n",
       "      <td>2.587702</td>\n",
       "      <td>1.986875</td>\n",
       "      <td>2.482245</td>\n",
       "      <td>92.327572</td>\n",
       "    </tr>\n",
       "  </tbody>\n",
       "</table>\n",
       "</div>"
      ],
      "text/plain": [
       "          id        f0        f1        f2     product\n",
       "43233  xCHr8 -0.847066  2.101796  5.597130  184.388641\n",
       "49564  VF7Jo -0.883115  0.560537  0.723601  136.233420\n",
       "55967  KUPhW  1.211150  3.176408  5.543540  132.831802\n",
       "95090  Vcm5J  2.587702  1.986875  2.482245   92.327572"
      ]
     },
     "execution_count": 19,
     "metadata": {},
     "output_type": "execute_result"
    }
   ],
   "source": [
    "data_two[data_two.duplicated(subset = ['id'])]"
   ]
  },
  {
   "cell_type": "code",
   "execution_count": 20,
   "id": "d83a3b6b-1d44-41ec-9799-6af86a62cac0",
   "metadata": {},
   "outputs": [
    {
     "data": {
      "text/html": [
       "<div>\n",
       "<style scoped>\n",
       "    .dataframe tbody tr th:only-of-type {\n",
       "        vertical-align: middle;\n",
       "    }\n",
       "\n",
       "    .dataframe tbody tr th {\n",
       "        vertical-align: top;\n",
       "    }\n",
       "\n",
       "    .dataframe thead th {\n",
       "        text-align: right;\n",
       "    }\n",
       "</style>\n",
       "<table border=\"1\" class=\"dataframe\">\n",
       "  <thead>\n",
       "    <tr style=\"text-align: right;\">\n",
       "      <th></th>\n",
       "      <th>id</th>\n",
       "      <th>f0</th>\n",
       "      <th>f1</th>\n",
       "      <th>f2</th>\n",
       "      <th>product</th>\n",
       "    </tr>\n",
       "  </thead>\n",
       "  <tbody>\n",
       "    <tr>\n",
       "      <th>28039</th>\n",
       "      <td>xCHr8</td>\n",
       "      <td>1.633027</td>\n",
       "      <td>0.368135</td>\n",
       "      <td>-2.378367</td>\n",
       "      <td>6.120525</td>\n",
       "    </tr>\n",
       "    <tr>\n",
       "      <th>43233</th>\n",
       "      <td>xCHr8</td>\n",
       "      <td>-0.847066</td>\n",
       "      <td>2.101796</td>\n",
       "      <td>5.597130</td>\n",
       "      <td>184.388641</td>\n",
       "    </tr>\n",
       "  </tbody>\n",
       "</table>\n",
       "</div>"
      ],
      "text/plain": [
       "          id        f0        f1        f2     product\n",
       "28039  xCHr8  1.633027  0.368135 -2.378367    6.120525\n",
       "43233  xCHr8 -0.847066  2.101796  5.597130  184.388641"
      ]
     },
     "execution_count": 20,
     "metadata": {},
     "output_type": "execute_result"
    }
   ],
   "source": [
    "data_two[data_two['id'] == 'xCHr8']"
   ]
  },
  {
   "cell_type": "markdown",
   "id": "4e622248-92c8-4c7d-a9a6-af33cfac8760",
   "metadata": {},
   "source": [
    "По дублям этого датафрейма делаем точно такие же выводы, как и по предыдущему. "
   ]
  },
  {
   "cell_type": "markdown",
   "id": "7c031d53-157b-4b97-b144-5079889b02f0",
   "metadata": {},
   "source": [
    "### Вывод:\n",
    "На этапе предобработки данных мы не выявили явных дубликатов, однако были замечены одни и те же скважины с различными признаками точек. \n",
    "Принято решение не избавляться от этих данных, так как они обезличенны и их количество очень мало."
   ]
  },
  {
   "cell_type": "markdown",
   "id": "896bcce1-8af6-451d-804e-41da7f786c1c",
   "metadata": {},
   "source": [
    "### 1.4 Исследовательский анализ данных"
   ]
  },
  {
   "cell_type": "markdown",
   "id": "00403854-7011-4da5-8292-108d0cbe9987",
   "metadata": {},
   "source": [
    "1.4.1 Работаем с датафреймом `data_zero`:"
   ]
  },
  {
   "cell_type": "markdown",
   "id": "d5dafd7b-30e9-4085-a4f2-e29cc41a7afd",
   "metadata": {},
   "source": [
    "1. Вызовем описательную функцию для трех признаков точек скважин:"
   ]
  },
  {
   "cell_type": "code",
   "execution_count": 21,
   "id": "4436bb93-ef20-4e4b-8e41-3a69ae17d3f6",
   "metadata": {},
   "outputs": [
    {
     "name": "stdout",
     "output_type": "stream",
     "text": [
      "count    100000.000000\n",
      "mean          0.500419\n",
      "std           0.871832\n",
      "min          -1.408605\n",
      "25%          -0.072580\n",
      "50%           0.502360\n",
      "75%           1.073581\n",
      "max           2.362331\n",
      "Name: f0, dtype: float64\n",
      "count    100000.000000\n",
      "mean          0.250143\n",
      "std           0.504433\n",
      "min          -0.848218\n",
      "25%          -0.200881\n",
      "50%           0.250252\n",
      "75%           0.700646\n",
      "max           1.343769\n",
      "Name: f1, dtype: float64\n"
     ]
    },
    {
     "data": {
      "text/plain": [
       "count    100000.000000\n",
       "mean          2.502647\n",
       "std           3.248248\n",
       "min         -12.088328\n",
       "25%           0.287748\n",
       "50%           2.515969\n",
       "75%           4.715088\n",
       "max          16.003790\n",
       "Name: f2, dtype: float64"
      ]
     },
     "execution_count": 21,
     "metadata": {},
     "output_type": "execute_result"
    }
   ],
   "source": [
    "print(data_zero['f0'].describe())\n",
    "print(data_zero['f1'].describe())\n",
    "data_zero['f2'].describe()"
   ]
  },
  {
   "cell_type": "markdown",
   "id": "1be1c678-69f4-4ae4-9697-b31228871ab9",
   "metadata": {},
   "source": [
    "Аномальных значений не обнаружено, данные, как будто уже отмасштабированы, разве что бросаются в глаза максимальные и минимальные значения третьей точки:"
   ]
  },
  {
   "cell_type": "code",
   "execution_count": 22,
   "id": "72d050aa-0307-456c-b538-504988fa5b3d",
   "metadata": {},
   "outputs": [
    {
     "data": {
      "image/png": "[encoded data removed]",
      "text/plain": [
       "<Figure size 432x288 with 1 Axes>"
      ]
     },
     "metadata": {
      "needs_background": "light"
     },
     "output_type": "display_data"
    }
   ],
   "source": [
    "sns.boxplot(data = data_zero['f2'])\n",
    "plt.title('График ящик с усами для \\n \"Признаки точек в скважинах месторождения №1\"', size = 15)\n",
    "plt.ylabel('Признаки точек', size = 10)\n",
    "plt.show()"
   ]
  },
  {
   "cell_type": "markdown",
   "id": "a1df62b4-9eed-4e4e-ae28-d44d06f93434",
   "metadata": {},
   "source": [
    "Так как мы понятия не имеем, что означают эти признаки, то и выводов особо никаких сделать не можем, кроме того, что выбросы присустствуют и они окажут своё влияние при моделировании. "
   ]
  },
  {
   "cell_type": "markdown",
   "id": "c0b96e76-d050-4025-a3fc-d462c7a4c124",
   "metadata": {},
   "source": [
    "2. Вызовем описательную функцию для `product`:"
   ]
  },
  {
   "cell_type": "code",
   "execution_count": 23,
   "id": "b0cde704-1d1e-4169-b2d5-ee9c4d0d9f81",
   "metadata": {},
   "outputs": [
    {
     "data": {
      "text/plain": [
       "count    100000.000000\n",
       "mean         92.500000\n",
       "std          44.288691\n",
       "min           0.000000\n",
       "25%          56.497507\n",
       "50%          91.849972\n",
       "75%         128.564089\n",
       "max         185.364347\n",
       "Name: product, dtype: float64"
      ]
     },
     "execution_count": 23,
     "metadata": {},
     "output_type": "execute_result"
    }
   ],
   "source": [
    "data_zero['product'].describe()"
   ]
  },
  {
   "cell_type": "markdown",
   "id": "813c49a7-3e35-4ebe-a426-d96b7c53529e",
   "metadata": {},
   "source": [
    "Для оценки выбросов построим боксплот:"
   ]
  },
  {
   "cell_type": "code",
   "execution_count": 24,
   "id": "efcb81a9-abd2-4312-9d7c-e6881c6c6d9b",
   "metadata": {},
   "outputs": [
    {
     "data": {
      "image/png": "[encoded data removed]",
      "text/plain": [
       "<Figure size 432x288 with 1 Axes>"
      ]
     },
     "metadata": {
      "needs_background": "light"
     },
     "output_type": "display_data"
    }
   ],
   "source": [
    "sns.boxplot(data = data_zero['product'])\n",
    "plt.title('График ящик с усами для \\n \"Объем запасов в скважинах месторождения №1\"', size = 15)\n",
    "plt.ylabel('Объём запасов в скважине, тыс. баррелей', size = 10)\n",
    "plt.show()"
   ]
  },
  {
   "cell_type": "markdown",
   "id": "15886901-1926-46ef-9670-0da69b032c20",
   "metadata": {},
   "source": [
    "Аномальных значений не обнаружено.\\\n",
    "Построим гистограмму распределения объёма запасов в скважинах первого месторождения:"
   ]
  },
  {
   "cell_type": "code",
   "execution_count": 25,
   "id": "83f63670-fb03-4b10-ac4b-16a08a5a921d",
   "metadata": {},
   "outputs": [
    {
     "data": {
      "image/png": "[encoded data removed]",
      "text/plain": [
       "<Figure size 576x432 with 1 Axes>"
      ]
     },
     "metadata": {
      "needs_background": "light"
     },
     "output_type": "display_data"
    }
   ],
   "source": [
    "plt.figure(figsize = (8, 6))\n",
    "sns.histplot(data_zero, bins = 100,  \n",
    "             x = 'product',\n",
    "             color = 'limegreen', \n",
    "             alpha = 0.6)\n",
    "plt.title('Гистограмма:  \\n \" Распределение объёма запасов в скважинах первого месторождения\"', size = 15)\n",
    "plt.xlabel('Объём запасов в скважине, тыс. баррелей', size = 12)\n",
    "plt.ylabel('Количество скважин, шт', size = 12)\n",
    "plt.grid(True)\n",
    "plt.show()"
   ]
  },
  {
   "cell_type": "markdown",
   "id": "ab7d60f1-60b0-4c36-9ea2-9e0dc10da9d1",
   "metadata": {},
   "source": [
    "Из гистограммы выше видно, что распределение похоже на \"многомодальное\", однако, если сократить количество `корзин`, то форма распределения принимает почти \"нормальный\" вид. Так же из описательной функции мы видим, что встречаются пустые скважины с объемом равным нулю, а так же средний объем запасов составляет **92,5 тыс.** баррелей нефти на скважину."
   ]
  },
  {
   "cell_type": "markdown",
   "id": "e222cbef-9084-43e0-9f93-fc710ac1c416",
   "metadata": {},
   "source": [
    " Рассчитаем коэффициенты корреляции между всеми признаками:"
   ]
  },
  {
   "cell_type": "code",
   "execution_count": 26,
   "id": "6ec82c4f-7423-4939-8ed0-6319e1b77f71",
   "metadata": {},
   "outputs": [],
   "source": [
    "# Так как столбец ID напрямую коррелирует с объемом запасов в скважине - сделаем его индексом, чтобы видеть в будущем какие скважины\n",
    "# могут быть нам более интересными\n",
    "data_zero = data_zero.set_index('id')"
   ]
  },
  {
   "cell_type": "code",
   "execution_count": 27,
   "id": "a87109a8-d926-4daa-ad3f-654d22d47efd",
   "metadata": {},
   "outputs": [
    {
     "data": {
      "image/png": "[encoded data removed]",
      "text/plain": [
       "<Figure size 504x504 with 2 Axes>"
      ]
     },
     "metadata": {
      "needs_background": "light"
     },
     "output_type": "display_data"
    }
   ],
   "source": [
    "# Для наглядности используем ХитМэп:\n",
    "df_corr_martix = data_zero.corr()\n",
    "plt.figure(figsize = (7, 7))\n",
    "sns.heatmap(df_corr_martix, annot = True, cmap = 'coolwarm', linewidths = 0.5)\n",
    "plt.title('Корреляционная матрица (метод Пирсона)', fontsize = 18)\n",
    "plt.show()"
   ]
  },
  {
   "cell_type": "markdown",
   "id": "47e3a7be-8ac9-446e-9126-bdc7aaced3f2",
   "metadata": {},
   "source": [
    "Наблюдается *умеренная положительная* корреляция между **объемом запасов** и **третьим признаком** точек **0,48**. \\\n",
    "А так же *слабая положительная* корреляция между **объемом запасов** и **первым признаком** точек **0,14**.\\\n",
    "Как и *слабая отрицательная* корреляция между **объемом запасов** и **вторым признаком** точек **-0,19**.\n",
    "\n",
    "Сами же признаки между собой почти не коррелируют, если не считать *умеренную отрицательную* корреляция между **первым** и **вторым признаком** точек **-0,44**."
   ]
  },
  {
   "cell_type": "markdown",
   "id": "b761aaf1-3a15-4dfb-b89d-20cb69af8f77",
   "metadata": {},
   "source": [
    "1.4.2 Работаем с датафреймом `data_one`:"
   ]
  },
  {
   "cell_type": "markdown",
   "id": "ad2c5158-5b39-4a74-80a9-c9e1f9d6ddbe",
   "metadata": {},
   "source": [
    "1. Вызовем описательную функцию для трех признаков точек скважин:"
   ]
  },
  {
   "cell_type": "code",
   "execution_count": 28,
   "id": "e4fa8d83-792f-42d6-857c-769e368f0e33",
   "metadata": {},
   "outputs": [
    {
     "name": "stdout",
     "output_type": "stream",
     "text": [
      "count    100000.000000\n",
      "mean          1.141296\n",
      "std           8.965932\n",
      "min         -31.609576\n",
      "25%          -6.298551\n",
      "50%           1.153055\n",
      "75%           8.621015\n",
      "max          29.421755\n",
      "Name: f0, dtype: float64\n",
      "count    100000.000000\n",
      "mean         -4.796579\n",
      "std           5.119872\n",
      "min         -26.358598\n",
      "25%          -8.267985\n",
      "50%          -4.813172\n",
      "75%          -1.332816\n",
      "max          18.734063\n",
      "Name: f1, dtype: float64\n"
     ]
    },
    {
     "data": {
      "text/plain": [
       "count    100000.000000\n",
       "mean          2.494541\n",
       "std           1.703572\n",
       "min          -0.018144\n",
       "25%           1.000021\n",
       "50%           2.011479\n",
       "75%           3.999904\n",
       "max           5.019721\n",
       "Name: f2, dtype: float64"
      ]
     },
     "execution_count": 28,
     "metadata": {},
     "output_type": "execute_result"
    }
   ],
   "source": [
    "print(data_one['f0'].describe())\n",
    "print(data_one['f1'].describe())\n",
    "data_one['f2'].describe()"
   ]
  },
  {
   "cell_type": "markdown",
   "id": "720baac6-5c80-4327-b85d-032a273e4d37",
   "metadata": {},
   "source": [
    "Аномальных значений не обнаружено, данные аналогичны первому датафрейму."
   ]
  },
  {
   "cell_type": "markdown",
   "id": "50cf7262-f24e-4d39-bd01-669b4da55b06",
   "metadata": {},
   "source": [
    "2. Вызовем описательную функцию для `product`:"
   ]
  },
  {
   "cell_type": "code",
   "execution_count": 29,
   "id": "aef51776-26c3-4636-8e28-c104325c4332",
   "metadata": {},
   "outputs": [
    {
     "data": {
      "text/plain": [
       "count    100000.000000\n",
       "mean         68.825000\n",
       "std          45.944423\n",
       "min           0.000000\n",
       "25%          26.953261\n",
       "50%          57.085625\n",
       "75%         107.813044\n",
       "max         137.945408\n",
       "Name: product, dtype: float64"
      ]
     },
     "execution_count": 29,
     "metadata": {},
     "output_type": "execute_result"
    }
   ],
   "source": [
    "data_one['product'].describe()"
   ]
  },
  {
   "cell_type": "markdown",
   "id": "8f22cf25-7ea9-432a-b0af-d57e2b557074",
   "metadata": {},
   "source": [
    "Для оценки выбросов построим боксплот:"
   ]
  },
  {
   "cell_type": "code",
   "execution_count": 30,
   "id": "60b581f7-5019-4fce-b882-dd7a7d89d198",
   "metadata": {},
   "outputs": [
    {
     "data": {
      "image/png": "[encoded data removed]",
      "text/plain": [
       "<Figure size 432x288 with 1 Axes>"
      ]
     },
     "metadata": {
      "needs_background": "light"
     },
     "output_type": "display_data"
    }
   ],
   "source": [
    "sns.boxplot(data = data_one['product'])\n",
    "plt.title('График ящик с усами для \\n \"Объем запасов в скважинах месторождения №2\"', size = 15)\n",
    "plt.ylabel('Объём запасов в скважине, тыс. баррелей', size = 10)\n",
    "plt.show()"
   ]
  },
  {
   "cell_type": "markdown",
   "id": "71187f43-5f70-4298-bf0b-978c77b519dd",
   "metadata": {},
   "source": [
    "Аномальных значений не обнаружено.\\\n",
    "Построим гистограмму распределения объёма запасов в скважинах второго месторождения:"
   ]
  },
  {
   "cell_type": "code",
   "execution_count": 31,
   "id": "6126ad48-8af0-4bcb-8d19-96801b32c28a",
   "metadata": {},
   "outputs": [
    {
     "data": {
      "image/png": "[encoded data removed]",
      "text/plain": [
       "<Figure size 576x432 with 1 Axes>"
      ]
     },
     "metadata": {
      "needs_background": "light"
     },
     "output_type": "display_data"
    }
   ],
   "source": [
    "plt.figure(figsize = (8, 6))\n",
    "sns.histplot(data_one, bins = 30,  \n",
    "             x = 'product',\n",
    "             color = 'limegreen', \n",
    "             alpha = 0.6)\n",
    "plt.title('Гистограмма:  \\n \" Распределение объёма запасов в скважинах второго месторождения\"', size = 15)\n",
    "plt.xlabel('Объём запасов в скважине, тыс. баррелей', size = 12)\n",
    "plt.ylabel('Количество скважин, шт', size = 12)\n",
    "plt.grid(True)\n",
    "plt.show()"
   ]
  },
  {
   "cell_type": "markdown",
   "id": "b8afc9fc-5e45-463a-badd-72244c74cfdd",
   "metadata": {},
   "source": [
    "Из гистограммы выше видно, что распределение похоже на \"дискретное\".\\\n",
    "Так же из описательной функции мы видим, что встречаются пустые скважины с объемом равным нулю, а так же средний объем запасов составляет **57 тыс.** баррелей нефти на скважину."
   ]
  },
  {
   "cell_type": "markdown",
   "id": "3bf629a1-3bd9-4e46-a271-7e0681ba50ec",
   "metadata": {},
   "source": [
    " Рассчитаем коэффициенты корреляции между всеми признаками:"
   ]
  },
  {
   "cell_type": "code",
   "execution_count": 32,
   "id": "0d9090b5-72d1-44d4-9666-4c7d934df91c",
   "metadata": {},
   "outputs": [],
   "source": [
    "# Так как столбец ID напрямую коррелирует с объемом запасов в скважине - сделаем его индексом, чтобы видеть в будущем какие скважины\n",
    "# могут быть нам более интересными\n",
    "data_one = data_one.set_index('id')"
   ]
  },
  {
   "cell_type": "code",
   "execution_count": 33,
   "id": "5043f8a9-050f-4e28-9ff0-8b15f1a376d2",
   "metadata": {},
   "outputs": [
    {
     "data": {
      "image/png": "[encoded data removed]",
      "text/plain": [
       "<Figure size 504x504 with 2 Axes>"
      ]
     },
     "metadata": {
      "needs_background": "light"
     },
     "output_type": "display_data"
    }
   ],
   "source": [
    "# Для наглядности используем ХитМэп:\n",
    "df_corr_martix = data_one.corr()\n",
    "plt.figure(figsize = (7, 7))\n",
    "sns.heatmap(df_corr_martix, annot = True, cmap = 'coolwarm', linewidths = 0.5)\n",
    "plt.title('Корреляционная матрица (метод Пирсона)', fontsize = 18)\n",
    "plt.show()"
   ]
  },
  {
   "cell_type": "markdown",
   "id": "3490a878-a8e5-4e95-b3c1-0d7aa5dad380",
   "metadata": {},
   "source": [
    "Во втором месторождении:\\\n",
    "Наблюдается **мультиколлинеарность** или же *полная положительная* корреляция между **объемом запасов** и **третьим признаком** точек **1**, что может негативно сказаться на прогнозе модели, так как представляет собой избыточность данных. Возможно столбец с этим признаком нужно не брать в моделирование ? \\\n",
    "А так же *слабая положительная* корреляция между **первым** и **вторым признаком** точек **0,18**.\\\n",
    "В остальном признаки ни между собой, ни с объемом запасов не коррелируют. \n",
    "\n",
    "\n",
    "\n",
    "Значит, наверное, трогать столбец с третьим признаком не стоит, так как признаков в принципе мало, да и корреляции никакие. "
   ]
  },
  {
   "cell_type": "markdown",
   "id": "7e218851-d98c-4a31-985b-75d9a209bb3a",
   "metadata": {},
   "source": [
    "1.4.3 Работаем с датафреймом `data_two`:"
   ]
  },
  {
   "cell_type": "markdown",
   "id": "96f8ad63-0b11-4382-ba57-9431d29430a7",
   "metadata": {},
   "source": [
    "1. Вызовем описательную функцию для трех признаков точек скважин:"
   ]
  },
  {
   "cell_type": "code",
   "execution_count": 34,
   "id": "8a5d3a25-368a-4212-a44e-8e680a1c576c",
   "metadata": {},
   "outputs": [
    {
     "name": "stdout",
     "output_type": "stream",
     "text": [
      "count    100000.000000\n",
      "mean          0.002023\n",
      "std           1.732045\n",
      "min          -8.760004\n",
      "25%          -1.162288\n",
      "50%           0.009424\n",
      "75%           1.158535\n",
      "max           7.238262\n",
      "Name: f0, dtype: float64\n",
      "count    100000.000000\n",
      "mean         -0.002081\n",
      "std           1.730417\n",
      "min          -7.084020\n",
      "25%          -1.174820\n",
      "50%          -0.009482\n",
      "75%           1.163678\n",
      "max           7.844801\n",
      "Name: f1, dtype: float64\n"
     ]
    },
    {
     "data": {
      "text/plain": [
       "count    100000.000000\n",
       "mean          2.495128\n",
       "std           3.473445\n",
       "min         -11.970335\n",
       "25%           0.130359\n",
       "50%           2.484236\n",
       "75%           4.858794\n",
       "max          16.739402\n",
       "Name: f2, dtype: float64"
      ]
     },
     "execution_count": 34,
     "metadata": {},
     "output_type": "execute_result"
    }
   ],
   "source": [
    "print(data_two['f0'].describe())\n",
    "print(data_two['f1'].describe())\n",
    "data_two['f2'].describe()"
   ]
  },
  {
   "cell_type": "markdown",
   "id": "24c00067-84cd-4c30-984f-ae6967881672",
   "metadata": {},
   "source": [
    "Аномальных значений не обнаружено, данные аналогичны первому датафрейму."
   ]
  },
  {
   "cell_type": "markdown",
   "id": "27561605-5e90-4099-ad28-533ff8a9b5e7",
   "metadata": {},
   "source": [
    "2. Вызовем описательную функцию для `product`:"
   ]
  },
  {
   "cell_type": "code",
   "execution_count": 35,
   "id": "ce1d506d-f480-4fe3-9344-2dce8cd649a7",
   "metadata": {},
   "outputs": [
    {
     "data": {
      "text/plain": [
       "count    100000.000000\n",
       "mean         95.000000\n",
       "std          44.749921\n",
       "min           0.000000\n",
       "25%          59.450441\n",
       "50%          94.925613\n",
       "75%         130.595027\n",
       "max         190.029838\n",
       "Name: product, dtype: float64"
      ]
     },
     "execution_count": 35,
     "metadata": {},
     "output_type": "execute_result"
    }
   ],
   "source": [
    "data_two['product'].describe()"
   ]
  },
  {
   "cell_type": "markdown",
   "id": "26283be3-bccf-4d57-ad69-1ada26266385",
   "metadata": {},
   "source": [
    "Для оценки выбросов построим боксплот:"
   ]
  },
  {
   "cell_type": "code",
   "execution_count": 36,
   "id": "fec1f26a-c15f-403e-b15e-7c127fff7fb4",
   "metadata": {},
   "outputs": [
    {
     "data": {
      "image/png": "[encoded data removed]",
      "text/plain": [
       "<Figure size 432x288 with 1 Axes>"
      ]
     },
     "metadata": {
      "needs_background": "light"
     },
     "output_type": "display_data"
    }
   ],
   "source": [
    "sns.boxplot(data = data_two['product'])\n",
    "plt.title('График ящик с усами для \\n \"Объем запасов в скважинах месторождения №3\"', size = 15)\n",
    "plt.ylabel('Объём запасов в скважине, тыс. баррелей', size = 10)\n",
    "plt.show()"
   ]
  },
  {
   "cell_type": "markdown",
   "id": "0f5bb22e-9815-4e53-89a8-e22152c59646",
   "metadata": {},
   "source": [
    "Аномальных значений не обнаружено.\\\n",
    "Построим гистограмму распределения объёма запасов в скважинах второго месторождения:"
   ]
  },
  {
   "cell_type": "code",
   "execution_count": 37,
   "id": "177737bd-2dc0-4634-a013-6abcc354dd6a",
   "metadata": {},
   "outputs": [
    {
     "data": {
      "image/png": "[encoded data removed]",
      "text/plain": [
       "<Figure size 576x432 with 1 Axes>"
      ]
     },
     "metadata": {
      "needs_background": "light"
     },
     "output_type": "display_data"
    }
   ],
   "source": [
    "plt.figure(figsize = (8, 6))\n",
    "sns.histplot(data_two, bins = 50,  \n",
    "             x = 'product',\n",
    "             color = 'limegreen', \n",
    "             alpha = 0.6)\n",
    "plt.title('Гистограмма:  \\n \" Распределение объёма запасов в скважинах третьего месторождения\"', size = 15)\n",
    "plt.xlabel('Объём запасов в скважине, тыс. баррелей', size = 12)\n",
    "plt.ylabel('Количество скважин, шт', size = 12)\n",
    "plt.grid(True)\n",
    "plt.show()"
   ]
  },
  {
   "cell_type": "markdown",
   "id": "e701f6f5-bb3b-4d62-8273-38c443fa957d",
   "metadata": {},
   "source": [
    "Из гистограммы выше видно, что распределение похоже на \"многомодальное\", как и на первом месторождении.\\\n",
    "Так же из описательной функции мы видим, что встречаются пустые скважины с объемом равным нулю, а так же средний объем запасов составляет **95 тыс.** баррелей нефти на скважину."
   ]
  },
  {
   "cell_type": "markdown",
   "id": "a662dd84-80c5-450a-9661-f35c64a37dbe",
   "metadata": {},
   "source": [
    " Рассчитаем коэффициенты корреляции между всеми признаками:"
   ]
  },
  {
   "cell_type": "code",
   "execution_count": 38,
   "id": "e3600927-993c-4222-900d-ca4c7038aefc",
   "metadata": {},
   "outputs": [],
   "source": [
    "# Так как столбец ID напрямую коррелирует с объемом запасов в скважине - сделаем его индексом, чтобы видеть в будущем какие скважины\n",
    "# могут быть нам более интересными\n",
    "data_two = data_two.set_index('id')"
   ]
  },
  {
   "cell_type": "code",
   "execution_count": 39,
   "id": "00f861b8-6bfb-42e1-818b-9df5f96d5405",
   "metadata": {},
   "outputs": [
    {
     "data": {
      "image/png": "[encoded data removed]",
      "text/plain": [
       "<Figure size 504x504 with 2 Axes>"
      ]
     },
     "metadata": {
      "needs_background": "light"
     },
     "output_type": "display_data"
    }
   ],
   "source": [
    "# Для наглядности используем ХитМэп:\n",
    "df_corr_martix = data_two.corr()\n",
    "plt.figure(figsize = (7, 7))\n",
    "sns.heatmap(df_corr_martix, annot = True, cmap = 'coolwarm', linewidths = 0.5)\n",
    "plt.title('Корреляционная матрица (метод Пирсона)', fontsize = 18)\n",
    "plt.show()"
   ]
  },
  {
   "cell_type": "markdown",
   "id": "0f0c1b77-ad4d-4c1a-aabc-182d8d4d0530",
   "metadata": {},
   "source": [
    "В третьем месторождении:\\\n",
    "Мультиколлинеарность отсутствует.\\\n",
    "Наблюдается *умеренная положительная* корреляция между **объемом запасов** и **третьим признаком** точек **0,45**. \n",
    "\n",
    "В остальном признаки ни между собой, ни с объемом запасов не коррелируют. "
   ]
  },
  {
   "cell_type": "markdown",
   "id": "89ce8b68-bb56-49e0-baa6-b959ecc76de6",
   "metadata": {},
   "source": [
    "### Вывод:\n",
    "На этапе исследовательского анализа данных мы выяснили, что в значениях объемов запасов отсутсвуют выбросы, однако в данных по признакам точек выбросы есть и мы ничего с этим не можем поделать. \\\n",
    "А так же на основании корреляционного анализа трех месторождений можно сказать, что самое сильное влияние на целевой признак оказывает `f2` - признак третьей точки. "
   ]
  },
  {
   "cell_type": "markdown",
   "id": "9e802188-e7ea-4dbc-9ed3-c3d48e54b58f",
   "metadata": {},
   "source": [
    "### 1.5 Подготовка данных: "
   ]
  },
  {
   "cell_type": "markdown",
   "id": "4b50c2cf-e657-4850-bd4e-de48f00f037d",
   "metadata": {},
   "source": [
    "Разделим данные со всех месторождений на обучающую и валидационную выборки в соотношении **75:25**. \\\n",
    "А так же проверим корректность разделения."
   ]
  },
  {
   "cell_type": "code",
   "execution_count": 40,
   "id": "8ec6521b-7d12-48d4-8342-8deefdf0ffb3",
   "metadata": {},
   "outputs": [],
   "source": [
    "# Используемые константы\n",
    "RANDOM_STATE = 42\n",
    "TEST_SIZE = 0.25"
   ]
  },
  {
   "cell_type": "markdown",
   "id": "6add8019-df1c-4a20-9a95-949803ca1c74",
   "metadata": {},
   "source": [
    "Первое месторождение:"
   ]
  },
  {
   "cell_type": "code",
   "execution_count": 41,
   "id": "3c6f3bae-5946-4495-be49-684ef01f4749",
   "metadata": {},
   "outputs": [],
   "source": [
    "X_zero = data_zero.drop(['product'], axis = 1)\n",
    "y_zero = data_zero['product']"
   ]
  },
  {
   "cell_type": "code",
   "execution_count": 42,
   "id": "a90ebed8-e75d-4917-bee8-7b46da252a39",
   "metadata": {},
   "outputs": [],
   "source": [
    "X_train_zero, X_valid_zero, y_train_zero, y_valid_zero = train_test_split(X_zero,\n",
    "                                                      y_zero,\n",
    "                                                      test_size = TEST_SIZE,\n",
    "                                                      random_state = RANDOM_STATE)"
   ]
  },
  {
   "cell_type": "code",
   "execution_count": 43,
   "id": "67d81fa6-d8d3-45a4-8da1-4416baf240aa",
   "metadata": {},
   "outputs": [],
   "source": [
    "scaler = StandardScaler()"
   ]
  },
  {
   "cell_type": "code",
   "execution_count": 44,
   "id": "c12c07b6-68e2-4f0f-ab8f-17ea67e35a61",
   "metadata": {},
   "outputs": [],
   "source": [
    "X_train_zero = scaler.fit_transform(X_train_zero)\n",
    "X_valid_zero = scaler.transform(X_valid_zero)"
   ]
  },
  {
   "cell_type": "code",
   "execution_count": 45,
   "id": "9dc3107d-63f4-42e6-91a7-0fadcc0b62b7",
   "metadata": {},
   "outputs": [
    {
     "name": "stdout",
     "output_type": "stream",
     "text": [
      "Размер обучающей выборки (75000, 3)\n",
      "Размер тестовой выборки (25000, 3)\n"
     ]
    }
   ],
   "source": [
    "# Первое месторождение\n",
    "print(f'Размер обучающей выборки {X_train_zero.shape}')\n",
    "print(f'Размер тестовой выборки {X_valid_zero.shape}')"
   ]
  },
  {
   "cell_type": "markdown",
   "id": "b07b0e5f-11e5-4db6-b988-2bfd638820a4",
   "metadata": {},
   "source": [
    "Второе месторождение:"
   ]
  },
  {
   "cell_type": "code",
   "execution_count": 46,
   "id": "e53639b0-4b48-476a-b50b-10e79c75de62",
   "metadata": {},
   "outputs": [],
   "source": [
    "X_one = data_one.drop(['product'], axis = 1)\n",
    "y_one = data_one['product']"
   ]
  },
  {
   "cell_type": "code",
   "execution_count": 47,
   "id": "ee3bc3db-bb2e-47e3-a04c-91d1c9023d4b",
   "metadata": {},
   "outputs": [],
   "source": [
    "X_train_one, X_valid_one, y_train_one, y_valid_one = train_test_split(X_one,\n",
    "                                                      y_one,\n",
    "                                                      test_size = TEST_SIZE,\n",
    "                                                      random_state = RANDOM_STATE)"
   ]
  },
  {
   "cell_type": "code",
   "execution_count": 48,
   "id": "bdfb4b68-fd87-4ad3-8ea2-b5f5e4216afa",
   "metadata": {},
   "outputs": [],
   "source": [
    "X_train_one = scaler.fit_transform(X_train_one)\n",
    "X_valid_one = scaler.transform(X_valid_one)"
   ]
  },
  {
   "cell_type": "code",
   "execution_count": 49,
   "id": "dfe4e6b5-8950-474e-9e21-732b1e78b300",
   "metadata": {
    "scrolled": true
   },
   "outputs": [
    {
     "name": "stdout",
     "output_type": "stream",
     "text": [
      "Размер обучающей выборки (75000, 3)\n",
      "Размер тестовой выборки (25000, 3)\n"
     ]
    }
   ],
   "source": [
    "# Второе месторождение\n",
    "print(f'Размер обучающей выборки {X_train_one.shape}')\n",
    "print(f'Размер тестовой выборки {X_valid_one.shape}')"
   ]
  },
  {
   "cell_type": "markdown",
   "id": "0ab0d893-f92a-4879-8d0d-c90b7a68ac95",
   "metadata": {},
   "source": [
    "Третье месторождение:"
   ]
  },
  {
   "cell_type": "code",
   "execution_count": 50,
   "id": "d1b49ed6-aaf7-4975-a665-e5583cbc8435",
   "metadata": {},
   "outputs": [],
   "source": [
    "X_two = data_two.drop(['product'], axis = 1)\n",
    "y_two = data_two['product']"
   ]
  },
  {
   "cell_type": "code",
   "execution_count": 51,
   "id": "ce78333d-e1e1-42a9-bfc7-525ab68d282c",
   "metadata": {},
   "outputs": [],
   "source": [
    "X_train_two, X_valid_two, y_train_two, y_valid_two = train_test_split(X_two,\n",
    "                                                      y_two,\n",
    "                                                      test_size = TEST_SIZE,\n",
    "                                                      random_state = RANDOM_STATE)"
   ]
  },
  {
   "cell_type": "code",
   "execution_count": 52,
   "id": "30afd47a-5caa-4c94-98c6-d10c4693a1fe",
   "metadata": {},
   "outputs": [],
   "source": [
    "X_train_two = scaler.fit_transform(X_train_two)\n",
    "X_valid_two = scaler.transform(X_valid_two)"
   ]
  },
  {
   "cell_type": "code",
   "execution_count": 53,
   "id": "c835b81b-70ff-4c3e-b75d-d58d9f681827",
   "metadata": {},
   "outputs": [
    {
     "name": "stdout",
     "output_type": "stream",
     "text": [
      "Размер обучающей выборки (75000, 3)\n",
      "Размер тестовой выборки (25000, 3)\n"
     ]
    }
   ],
   "source": [
    "# Второе месторождение\n",
    "print(f'Размер обучающей выборки {X_train_two.shape}')\n",
    "print(f'Размер тестовой выборки {X_valid_two.shape}')"
   ]
  },
  {
   "cell_type": "markdown",
   "id": "910143dc-ce57-49aa-a3bf-0ebf201f16e3",
   "metadata": {},
   "source": [
    "## Вывод по разделу:\n",
    "1. На первом шаге мы **загрузили** и посмотрели данные:\n",
    "- `data_zero` на **5** колонок и **100000** строк;\n",
    "- `data_one` на **5** колонок и **100000** строк;\n",
    "- `data_two` на **5** колонки и **100000** строк.\\\n",
    "Пропуски в данных отсутствуют.\n",
    "\n",
    "2. На этапе **предобработки данных** проведена проверка на дубликаты. \\\n",
    "Мы не выявили явных дубликатов, однако были замечены одни и те же скважины с различными признаками точек. Принято решение не избавляться от этих данных, так как они обезличенны и их количество очень мало.\n",
    "\n",
    "3. На этапе **исследовательского анализа** данных мы выяснили, что в значениях объемов запасов отсутсвуют выбросы, однако в данных по признакам точек выбросы есть и мы ничего с этим не можем поделать.\\\n",
    "А так же на основании корреляционного анализа трех месторождений можно сказать, что самое сильное влияние на целевой признак оказывает f2 - признак третьей точки.\n",
    "\n",
    "4. На этапе **подготовки** - данные со всех месторождений разделены на обучающую и валидационную выборки в соотношении 75:25, а так же отмасштабированы."
   ]
  },
  {
   "cell_type": "markdown",
   "id": "a61aafa3-d90d-4672-a455-bb69831f22ef",
   "metadata": {},
   "source": [
    "## Шаг 2. Обучение и проверка моделей для каждого региона"
   ]
  },
  {
   "cell_type": "markdown",
   "id": "483ad1ba-0e1f-407e-9c06-e5a42b42c5c3",
   "metadata": {},
   "source": [
    "Первое месторождение:"
   ]
  },
  {
   "cell_type": "code",
   "execution_count": 54,
   "id": "4aa14ec8-41de-4664-9156-0a1d98fdb349",
   "metadata": {},
   "outputs": [],
   "source": [
    "# список предсказаний по объёму сырья в скважине на валидационной выборке\n",
    "predictions = []"
   ]
  },
  {
   "cell_type": "code",
   "execution_count": 55,
   "id": "fb851a9c-ae05-4b1e-b987-3ee5372ea8a4",
   "metadata": {},
   "outputs": [],
   "source": [
    "# инициируем и обучаем модель\n",
    "lr = LinearRegression()\n",
    "model_zero = lr.fit(X_train_zero, y_train_zero)"
   ]
  },
  {
   "cell_type": "code",
   "execution_count": 56,
   "id": "5e60a651-1cfe-49fb-95ca-fe48b0da94b3",
   "metadata": {},
   "outputs": [],
   "source": [
    "# делаем предсказание на валидационной выборке\n",
    "predictions = model_zero.predict(X_valid_zero)\n",
    "predictions = pd.Series(predictions)"
   ]
  },
  {
   "cell_type": "code",
   "execution_count": 57,
   "id": "682a397a-9e37-4b0f-a905-3f158c03c5c5",
   "metadata": {},
   "outputs": [],
   "source": [
    "rmse = (mean_squared_error(predictions, y_valid_zero))**(0.5)\n",
    "avr_product = sum(predictions) / len(predictions)"
   ]
  },
  {
   "cell_type": "code",
   "execution_count": 58,
   "id": "5b566a52-4525-474a-97e4-655253f605f7",
   "metadata": {},
   "outputs": [
    {
     "name": "stdout",
     "output_type": "stream",
     "text": [
      "RMSE (корень среднеквадратичной ошибки), тыс. баррелей: 37.76\n",
      "Средний предсказанный объем запасов, тыс. баррелей: 92.40\n"
     ]
    }
   ],
   "source": [
    "print(\"RMSE (корень среднеквадратичной ошибки), тыс. баррелей: {0:.2f}\".format(rmse))\n",
    "print(\"Средний предсказанный объем запасов, тыс. баррелей: {0:.2f}\".format(avr_product))"
   ]
  },
  {
   "cell_type": "markdown",
   "id": "38bd6173-a4db-417c-87a0-ee3c8b94e3d5",
   "metadata": {},
   "source": [
    "- В среднем, наша модель ошибается на 37,76 тыс баррелей при среднем предсказанном объеме запасов в 92,4 тыс. баррелей. "
   ]
  },
  {
   "cell_type": "markdown",
   "id": "8496d9b0-9403-4e86-83d5-82c37e7810df",
   "metadata": {},
   "source": [
    "Второе месторождение:"
   ]
  },
  {
   "cell_type": "code",
   "execution_count": 59,
   "id": "1c5beb8f-9ee7-4cb7-90ea-0b953ce62154",
   "metadata": {},
   "outputs": [],
   "source": [
    "# обучаем модель\n",
    "model_one = lr.fit(X_train_one, y_train_one)"
   ]
  },
  {
   "cell_type": "code",
   "execution_count": 60,
   "id": "cebe4d6c-7213-4c1c-b4ff-c33986df53d1",
   "metadata": {},
   "outputs": [],
   "source": [
    "# список предсказаний по объёму сырья в скважине на валидационной выборке\n",
    "predict = []"
   ]
  },
  {
   "cell_type": "code",
   "execution_count": 61,
   "id": "aeadc9b0-157e-461d-a871-d3b3a74d6832",
   "metadata": {},
   "outputs": [],
   "source": [
    "# делаем предсказание на валидационной выборке\n",
    "predict = model_one.predict(X_valid_one)\n",
    "predict = pd.Series(predict)"
   ]
  },
  {
   "cell_type": "code",
   "execution_count": 62,
   "id": "20bbe5a4-be24-4c85-8ab9-15f860aa3eb9",
   "metadata": {},
   "outputs": [],
   "source": [
    "rmse = (mean_squared_error(predict, y_valid_one))**(0.5)\n",
    "avr_product = sum(predict) / len(predict)"
   ]
  },
  {
   "cell_type": "code",
   "execution_count": 63,
   "id": "56e37ffb-b68b-4721-9fde-38e8e9950190",
   "metadata": {},
   "outputs": [
    {
     "name": "stdout",
     "output_type": "stream",
     "text": [
      "RMSE (корень среднеквадратичной ошибки), тыс. баррелей: 0.89\n",
      "Средний предсказанный объем запасов, тыс. баррелей: 68.71\n"
     ]
    }
   ],
   "source": [
    "print(\"RMSE (корень среднеквадратичной ошибки), тыс. баррелей: {0:.2f}\".format(rmse))\n",
    "print(\"Средний предсказанный объем запасов, тыс. баррелей: {0:.2f}\".format(avr_product))"
   ]
  },
  {
   "cell_type": "markdown",
   "id": "a8638887-6e88-4b7a-ad23-48d2fd51effa",
   "metadata": {},
   "source": [
    "- В среднем, наша модель ошибается на 0,89 тыс баррелей при среднем предсказанном объеме запасов в 68,71 тыс. баррелей. \n",
    "- Такое маленькое значение среднеквадратичной ошибки, естественно, связано с переобученностью модели, так как присутствует мультиколинеарность между входящим и целевым признаком. Однако даже при такой точности предсказанный объем запасов меньше, чем у первого месторождения."
   ]
  },
  {
   "cell_type": "markdown",
   "id": "2c1facb6-2021-40cc-a27a-619ac57747b4",
   "metadata": {},
   "source": [
    "Третье месторождение:"
   ]
  },
  {
   "cell_type": "code",
   "execution_count": 64,
   "id": "faa9e1ab-f5de-42dc-9da7-595b81859927",
   "metadata": {},
   "outputs": [],
   "source": [
    "# обучаем модель\n",
    "model_two = lr.fit(X_train_two, y_train_two)"
   ]
  },
  {
   "cell_type": "code",
   "execution_count": 65,
   "id": "19372235-f123-45b7-aa9f-474608d208c6",
   "metadata": {},
   "outputs": [],
   "source": [
    "# список предсказаний по объёму сырья в скважине на валидационной выборке\n",
    "pred = []"
   ]
  },
  {
   "cell_type": "code",
   "execution_count": 66,
   "id": "15b58a00-0dd1-4a46-b8d9-8dddd82800a8",
   "metadata": {},
   "outputs": [],
   "source": [
    "# делаем предсказание на валидационной выборке\n",
    "pred = model_two.predict(X_valid_two)\n",
    "pred = pd.Series(pred)"
   ]
  },
  {
   "cell_type": "code",
   "execution_count": 67,
   "id": "a3c8e0e3-efef-4c7b-8b8d-e846ee1ad9e7",
   "metadata": {},
   "outputs": [],
   "source": [
    "rmse = (mean_squared_error(pred, y_valid_two))**(0.5)\n",
    "avr_product = sum(pred) / len(pred)"
   ]
  },
  {
   "cell_type": "code",
   "execution_count": 68,
   "id": "ac1cebda-6e8c-49cf-84b5-5ffbcda48c88",
   "metadata": {},
   "outputs": [
    {
     "name": "stdout",
     "output_type": "stream",
     "text": [
      "RMSE (корень среднеквадратичной ошибки), тыс. баррелей: 40.15\n",
      "Средний предсказанный объем запасов, тыс. баррелей: 94.77\n"
     ]
    }
   ],
   "source": [
    "print(\"RMSE (корень среднеквадратичной ошибки), тыс. баррелей: {0:.2f}\".format(rmse))\n",
    "print(\"Средний предсказанный объем запасов, тыс. баррелей: {0:.2f}\".format(avr_product))"
   ]
  },
  {
   "cell_type": "markdown",
   "id": "884c3614-25e2-4f37-9373-22762e719e45",
   "metadata": {},
   "source": [
    "- В среднем, наша модель ошибается на 40,15 тыс баррелей при среднем предсказанном объеме запасов в 94,77 тыс. баррелей. "
   ]
  },
  {
   "cell_type": "markdown",
   "id": "d7ea4ad7-b1ff-4042-be77-50f2c083f282",
   "metadata": {},
   "source": [
    "## Вывод:\n",
    "1. Созданы и обучены модели **LinearRegression** для каждого месторождения.\n",
    "2. На валидационной выборке выполнены предсказания по объёму сырья в скважинах.\n",
    "3. Рассчитаны значения среднего запаса предсказанного сырья и **RMSE** моделей:\n",
    "- Наиболее оптимальным с точки зрения значения *среднеквадратичной ошибки*, тоесть уменьшения погрешности модели, является **первое месторождение**, тогда как по среднему *предсказанному объему запасов* приоритет отдается **третьему месторождению**. "
   ]
  },
  {
   "cell_type": "markdown",
   "id": "674651b6-07b6-4827-b25b-add81d826e68",
   "metadata": {},
   "source": [
    "## Шаг 3 - Подготовка к расчету прибыли"
   ]
  },
  {
   "cell_type": "markdown",
   "id": "b80e3ec9-14dd-4421-b042-e2b8f80d1806",
   "metadata": {},
   "source": [
    "### 3.1. Сохраним ключевые значения для расчётов в отдельных переменных"
   ]
  },
  {
   "cell_type": "markdown",
   "id": "a117fb5d-ab55-455c-86dd-80ff3b98e424",
   "metadata": {},
   "source": [
    "Условие:\\\n",
    "При разведке региона исследуют **500** точек, из которых с помощью машинного обучения выбирают **200** лучших для разработки.\\\n",
    "Бюджет на разработку скважин в регионе — **10** млрд рублей.\\\n",
    "Доход с каждой единицы продукта составляет **450** тыс. рублей, поскольку объём указан в тысячах баррелей."
   ]
  },
  {
   "cell_type": "code",
   "execution_count": 69,
   "id": "cfba7926-ed15-46f1-994f-71344b7992e0",
   "metadata": {},
   "outputs": [],
   "source": [
    "# при разведке региона исследуют 500 точек:\n",
    "point_mining = 500  \n",
    "\n",
    "# выбранные 200 лучших точек для разработки:\n",
    "best_mining = 200\n",
    "\n",
    "# бюджет на разработку скважин в регионе — 10 млрд рублей:\n",
    "budget = 10*10**9   \n",
    "\n",
    "# Доход с каждой единицы продукта, руб:\n",
    "price_1_product = 450*10**3   "
   ]
  },
  {
   "cell_type": "markdown",
   "id": "6fa7bf4c-bb30-496a-bbad-aef9d12e8f6d",
   "metadata": {},
   "source": [
    "### 3.2. Рассчитаем достаточный объём сырья для безубыточной разработки новой скважины. Сравним полученный объём сырья со средним запасом в каждом регионе. "
   ]
  },
  {
   "cell_type": "code",
   "execution_count": 70,
   "id": "26825e81-bae1-4bfd-892b-7f1a7bd19f8d",
   "metadata": {},
   "outputs": [
    {
     "name": "stdout",
     "output_type": "stream",
     "text": [
      "Средний объем нефти, требуемый для безубыточной разработки новой скважины: 111 тыс. баррелей.\n"
     ]
    }
   ],
   "source": [
    "print(\"Средний объем нефти, требуемый для безубыточной разработки новой скважины: {0:.0f} тыс. баррелей.\". \\\n",
    "      format(budget / (price_1_product * best_mining)))"
   ]
  },
  {
   "cell_type": "markdown",
   "id": "df4c6ecc-84bf-4a02-9442-4f7d289fe520",
   "metadata": {},
   "source": [
    "Как мы помним, предсказанные средние запасы сырья в наших регионах составляют: \n",
    "1. Регион **1** - **92,4** тыс. баррелей;\n",
    "2. Регион **2** - **68,71** тыс. баррелей;\n",
    "3. Регион **3** - **94,77** тыс. баррелей."
   ]
  },
  {
   "cell_type": "markdown",
   "id": "4dd16d9c-df9c-4bba-8704-7a68a401d353",
   "metadata": {},
   "source": [
    "- Среднее значение запаса сырья по всем скважинам для каждого из регионов меньше, чем точка безубыточности: **111** тыс. баррелей "
   ]
  },
  {
   "cell_type": "markdown",
   "id": "9c20987b-0036-48ee-ae99-8f967cce1f29",
   "metadata": {},
   "source": [
    "### Вывод:\n",
    "На этапе подготовки к расчету прибыли, мы сохранили ключевые значения для расчётов в отдельных переменных, а так же рассчитали достаточный объём сырья для безубыточной разработки новой скважины.\\\n",
    "По результатам расчета стало известно, что среднее значение запаса сырья по всем скважинам для каждого из регионов меньше, чем точка безубыточности: **111** тыс. баррелей.\\\n",
    "Это говорит о том, что нам необходимо выбрать наиболее выгодные точки из каждого месторождения и разрабатывать их."
   ]
  },
  {
   "cell_type": "markdown",
   "id": "367fb740-c048-463f-9234-db2987d701b8",
   "metadata": {},
   "source": [
    "## Шаг 4 - Написание функции для расчёта прибыли по выбранным скважинам и предсказаниям модели"
   ]
  },
  {
   "cell_type": "code",
   "execution_count": 71,
   "id": "b9729a9c-ae02-4a7a-89c6-aa1249ce5d98",
   "metadata": {},
   "outputs": [],
   "source": [
    "# функция расчёта прибыли\n",
    "def profit_calc(target, predictions, count):\n",
    "    pred_sorted = predictions.sort_values(ascending = False)\n",
    "    target_select = target[pred_sorted.index].iloc[:count]\n",
    "\n",
    "    return target_select.sum() * price_1_product - budget"
   ]
  },
  {
   "cell_type": "markdown",
   "id": "7661f04f-a114-4b7a-b40c-cfc8e2988aba",
   "metadata": {},
   "source": [
    "Рассчитаем прибыльность двухста лучших скважин на каждом месторождении: \\\n",
    "**Первое месторождение**:"
   ]
  },
  {
   "cell_type": "code",
   "execution_count": 72,
   "id": "74c6039b-fc79-4498-9094-46fc1ccb6d97",
   "metadata": {},
   "outputs": [
    {
     "name": "stdout",
     "output_type": "stream",
     "text": [
      "Потенциальная прибыльность первого месторождения составляет: 3.4 млрд\n"
     ]
    }
   ],
   "source": [
    "print(\"Потенциальная прибыльность первого месторождения составляет:\", \\\n",
    "      f\"{profit_calc(y_valid_zero, predictions, best_mining)/1e9:,.1f} млрд\".replace(\",\", \" \"))"
   ]
  },
  {
   "cell_type": "markdown",
   "id": "408ed11d-cf81-48d7-aa3b-e7c6d5e06876",
   "metadata": {},
   "source": [
    "**Второе месторождение**:"
   ]
  },
  {
   "cell_type": "code",
   "execution_count": 73,
   "id": "30667403-6389-47b6-9411-7f9f5c48b172",
   "metadata": {},
   "outputs": [
    {
     "name": "stdout",
     "output_type": "stream",
     "text": [
      "Потенциальная прибыльность второго месторождения составляет: 2.4 млрд\n"
     ]
    }
   ],
   "source": [
    "print(\"Потенциальная прибыльность второго месторождения составляет:\", \\\n",
    "      f\"{profit_calc(y_valid_one, predict, best_mining)/1e9:,.1f} млрд\".replace(\",\", \" \"))"
   ]
  },
  {
   "cell_type": "markdown",
   "id": "d95f4a81-d146-444d-b706-8e961f4531df",
   "metadata": {},
   "source": [
    "**Третье месторождение**:"
   ]
  },
  {
   "cell_type": "code",
   "execution_count": 74,
   "id": "8c699b79-40ab-44c4-9412-793849c76445",
   "metadata": {},
   "outputs": [
    {
     "name": "stdout",
     "output_type": "stream",
     "text": [
      "Потенциальная прибыльность третьего месторождения составляет: 2.6 млрд\n"
     ]
    }
   ],
   "source": [
    "print(\"Потенциальная прибыльность третьего месторождения составляет:\", \\\n",
    "      f\"{profit_calc(y_valid_two, pred, best_mining)/1e9:,.1f} млрд\".replace(\",\", \" \"))"
   ]
  },
  {
   "cell_type": "markdown",
   "id": "dcb529c3-34a5-4f2d-9192-87b09973aa1c",
   "metadata": {},
   "source": [
    "### Вывод:\n",
    "На данном этапе написана функция расчета прибыли по наиболее выгодным точкам месторождений.\\\n",
    "Расчеты показали, что разработка наиболее выгодных точек несет в себе большую прибыль, независимо от месторождения, хотя по факту разработка самого-самого не всегда доступна в реальных условиях и отражает \"идеальную\" картину производства, к которой нужно стремиться. "
   ]
  },
  {
   "cell_type": "markdown",
   "id": "5b173107-f367-48d5-9308-7a130530359b",
   "metadata": {},
   "source": [
    "## Шаг 5 - Расчет рисков и прибыли для каждого региона"
   ]
  },
  {
   "cell_type": "markdown",
   "id": "999602f9-a1d9-4b92-85cd-d87016384a67",
   "metadata": {},
   "source": [
    "Применим технику Bootstrap с 1000 выборок, чтобы найти распределение прибыли:"
   ]
  },
  {
   "cell_type": "code",
   "execution_count": 75,
   "id": "5c50a012-ead6-4dfc-ba39-4b8185d709bb",
   "metadata": {},
   "outputs": [],
   "source": [
    "state = np.random.RandomState(12345)"
   ]
  },
  {
   "cell_type": "code",
   "execution_count": 76,
   "id": "5ddde59e-5358-4d8a-8496-6a50a7c278d1",
   "metadata": {},
   "outputs": [],
   "source": [
    "# функция бутстреп:\n",
    "def bootstrap(target, valid, mining):\n",
    "    values = []\n",
    "    for i in range(1000):\n",
    "        target_subsample = target.sample(n = mining, replace = True, random_state = state)\n",
    "        probs_subsample = valid.loc[target_subsample.index]\n",
    "        values.append(profit_calc(target_subsample, probs_subsample, best_mining))\n",
    "        \n",
    "    values = pd.Series(values)\n",
    "    return values"
   ]
  },
  {
   "cell_type": "markdown",
   "id": "af3e5ff4-e8b4-4199-9817-3fad7c5fd5c9",
   "metadata": {},
   "source": [
    "**Первое месторождение** (средняя прибыль для 1000 различных вариантов разведки):"
   ]
  },
  {
   "cell_type": "code",
   "execution_count": 78,
   "id": "d223bef4-f800-4628-82a4-7f656bc0e100",
   "metadata": {},
   "outputs": [
    {
     "name": "stdout",
     "output_type": "stream",
     "text": [
      "Средняя выручка: 411121793.73\n",
      "Доверительный интервал (95%): [-114976051.83, 926546016.63]\n",
      "Риск получения убытков: 6.5\n"
     ]
    }
   ],
   "source": [
    "y_valid_zero = y_valid_zero.reset_index(drop = True) # сбросил индексы, т.к. до этого у меня там были id и выпадала ошибка\n",
    "values_zero = bootstrap(y_valid_zero, predictions, point_mining)\n",
    "\n",
    "mean_zero = values_zero.mean()\n",
    "lower_zero = values_zero.quantile(0.025)\n",
    "upper_zero = values_zero.quantile(0.975)\n",
    "risk_zero = values_zero[values_zero < 0].count() / values_zero.count() * 100\n",
    "\n",
    "print(\"Средняя выручка:\", round(mean_zero, 2))\n",
    "print(\"Доверительный интервал (95%):\", [round(lower_zero, 2), round(upper_zero, 2)])\n",
    "print(\"Риск получения убытков:\", round(risk_zero, 2))"
   ]
  },
  {
   "cell_type": "markdown",
   "id": "e7dc2dc7-1ebd-4cec-a859-66118f20a13b",
   "metadata": {},
   "source": [
    "**Второе месторождение** (средняя прибыль для 1000 различных вариантов разведки):"
   ]
  },
  {
   "cell_type": "code",
   "execution_count": 79,
   "id": "25dea029-9dcf-47cf-b364-a3140d4ddfdd",
   "metadata": {},
   "outputs": [
    {
     "name": "stdout",
     "output_type": "stream",
     "text": [
      "Средняя выручка: 497932339.42\n",
      "Доверительный интервал (95%): [88029218.98, 900786663.77]\n",
      "Риск получения убытков: 1.3\n"
     ]
    }
   ],
   "source": [
    "y_valid_one = y_valid_one.reset_index(drop = True) # сбросил индексы, т.к. до этого у меня там были id и выпадала ошибка\n",
    "values_one = bootstrap(y_valid_one, predict, point_mining)\n",
    "\n",
    "mean_one = values_one.mean()\n",
    "lower_one = values_one.quantile(0.025)\n",
    "upper_one = values_one.quantile(0.975)\n",
    "risk_one = values_one[values_one < 0].count() / values_one.count() * 100\n",
    "\n",
    "print(\"Средняя выручка:\", round(mean_one, 2))\n",
    "print(\"Доверительный интервал (95%):\", [round(lower_one, 2), round(upper_one, 2)])\n",
    "print(\"Риск получения убытков:\", round(risk_one, 2))"
   ]
  },
  {
   "cell_type": "markdown",
   "id": "158c264c-44af-4b3a-8d2d-32841c7cccda",
   "metadata": {},
   "source": [
    "**Третье месторождение** (средняя прибыль для 1000 различных вариантов разведки):"
   ]
  },
  {
   "cell_type": "code",
   "execution_count": 80,
   "id": "ce50bb4e-2d02-44d4-9bd8-81e50879b30c",
   "metadata": {},
   "outputs": [
    {
     "name": "stdout",
     "output_type": "stream",
     "text": [
      "Средняя выручка: 403523051.88\n",
      "Доверительный интервал (95%): [-171947572.87, 934563092.7]\n",
      "Риск получения убытков: 8.1\n"
     ]
    }
   ],
   "source": [
    "y_valid_two = y_valid_two.reset_index(drop = True) # сбросил индексы, т.к. до этого у меня там были id и выпадала ошибка\n",
    "values_two = bootstrap(y_valid_two, pred, point_mining)\n",
    "\n",
    "mean_two = values_two.mean()\n",
    "lower_two = values_two.quantile(0.025)\n",
    "upper_two = values_two.quantile(0.975)\n",
    "risk_two = values_two[values_two < 0].count() / values_two.count() * 100\n",
    "\n",
    "print(\"Средняя выручка:\", round(mean_two, 2))\n",
    "print(\"Доверительный интервал (95%):\", [round(lower_two, 2), round(upper_two, 2)])\n",
    "print(\"Риск получения убытков:\", round(risk_two, 2))"
   ]
  },
  {
   "cell_type": "markdown",
   "id": "7f69885a-4026-4071-9a1b-f4fabeaa0c66",
   "metadata": {},
   "source": [
    "Для лучшего восприятия соберем всё в одну таблицу:"
   ]
  },
  {
   "cell_type": "code",
   "execution_count": 81,
   "id": "6f07edbb-5604-4d96-9334-b532c7966c10",
   "metadata": {},
   "outputs": [],
   "source": [
    "final_dict = {'Минимальная выручка':[lower_zero, lower_one, lower_two], \n",
    "              'Средняя выручка':[mean_zero, mean_one, mean_two],\n",
    "              'Максимальна выручка':[upper_zero, upper_one, upper_two],\n",
    "              'Риск убытков на 200 лучших скважин, %' : [risk_zero, risk_one, risk_two]}\n",
    "index_data = ['Первое месторождение', 'Второе месторождение', 'Третье месторождение']\n",
    "final_data = pd.DataFrame(data = final_dict, index = index_data)"
   ]
  },
  {
   "cell_type": "code",
   "execution_count": 82,
   "id": "44644d5a-17f1-477d-84f6-17c4583236dd",
   "metadata": {},
   "outputs": [],
   "source": [
    "new_format = ['Минимальная выручка', 'Средняя выручка', 'Максимальна выручка']\n",
    "\n",
    "for col in new_format:\n",
    "    final_data[col] = final_data[col].apply(lambda x: f\"{x/1e6:,.1f} млн\".replace(\".\", \",\"))"
   ]
  },
  {
   "cell_type": "code",
   "execution_count": 83,
   "id": "4c11d941-71e4-4f4e-8f3f-0bc2632b73bb",
   "metadata": {},
   "outputs": [
    {
     "data": {
      "text/html": [
       "<div>\n",
       "<style scoped>\n",
       "    .dataframe tbody tr th:only-of-type {\n",
       "        vertical-align: middle;\n",
       "    }\n",
       "\n",
       "    .dataframe tbody tr th {\n",
       "        vertical-align: top;\n",
       "    }\n",
       "\n",
       "    .dataframe thead th {\n",
       "        text-align: right;\n",
       "    }\n",
       "</style>\n",
       "<table border=\"1\" class=\"dataframe\">\n",
       "  <thead>\n",
       "    <tr style=\"text-align: right;\">\n",
       "      <th></th>\n",
       "      <th>Минимальная выручка</th>\n",
       "      <th>Средняя выручка</th>\n",
       "      <th>Максимальна выручка</th>\n",
       "      <th>Риск убытков на 200 лучших скважин, %</th>\n",
       "    </tr>\n",
       "  </thead>\n",
       "  <tbody>\n",
       "    <tr>\n",
       "      <th>Первое месторождение</th>\n",
       "      <td>-115,0 млн</td>\n",
       "      <td>411,1 млн</td>\n",
       "      <td>926,5 млн</td>\n",
       "      <td>6.5</td>\n",
       "    </tr>\n",
       "    <tr>\n",
       "      <th>Второе месторождение</th>\n",
       "      <td>88,0 млн</td>\n",
       "      <td>497,9 млн</td>\n",
       "      <td>900,8 млн</td>\n",
       "      <td>1.3</td>\n",
       "    </tr>\n",
       "    <tr>\n",
       "      <th>Третье месторождение</th>\n",
       "      <td>-171,9 млн</td>\n",
       "      <td>403,5 млн</td>\n",
       "      <td>934,6 млн</td>\n",
       "      <td>8.1</td>\n",
       "    </tr>\n",
       "  </tbody>\n",
       "</table>\n",
       "</div>"
      ],
      "text/plain": [
       "                     Минимальная выручка Средняя выручка Максимальна выручка  \\\n",
       "Первое месторождение          -115,0 млн       411,1 млн           926,5 млн   \n",
       "Второе месторождение            88,0 млн       497,9 млн           900,8 млн   \n",
       "Третье месторождение          -171,9 млн       403,5 млн           934,6 млн   \n",
       "\n",
       "                      Риск убытков на 200 лучших скважин, %  \n",
       "Первое месторождение                                    6.5  \n",
       "Второе месторождение                                    1.3  \n",
       "Третье месторождение                                    8.1  "
      ]
     },
     "execution_count": 83,
     "metadata": {},
     "output_type": "execute_result"
    }
   ],
   "source": [
    "final_data"
   ]
  },
  {
   "cell_type": "markdown",
   "id": "ccd1167e-2bbd-462a-af19-7a6d8400f0fc",
   "metadata": {},
   "source": [
    "### Вывод:\n",
    "По условию задачи: после оценки рисков нужно оставить лишь те регионы, в которых вероятность убытков меньше 2.5%.\\\n",
    "Среди них выбирают регион с наибольшей средней прибылью.\n",
    "\n",
    "В итоге по приемлимости *риска* у нас проходит **второе месторождение** с 1.3% риска, но мы помним, что на этом участке у нас была **переобученная модель**. Так что я бы с осторожностью относился к такому оптимистическому прогнозу. Лучше проконсультироваться со старшими коллегами. Так же и средняя выручка у нас прогнозируется здесь самая большая. \n",
    "\n",
    "Принимая во внимание недоверие ко второй модели, можем сказать что по *средней выручке* и *минимальным рискам* нам подходит **первое месторождение**. "
   ]
  },
  {
   "cell_type": "markdown",
   "id": "1bee3263-d573-4e4a-8862-b0db6a742a6a",
   "metadata": {},
   "source": [
    "## ВЫВОД ПО ПРОЕКТУ:\n",
    "В данном исследовании перед нами стояла задача разработать решение, которое позволит выбрать локацию в трех представленных регионах, для бурения новой скважины.\\\n",
    "А именно:\\\n",
    "  0.1 Построить модель для определения региона, где добыча принесёт наибольшую прибыль.\\\n",
    "  0.2 Проанализировать возможную прибыль и риски техникой Bootstrap.\n",
    "\n",
    "\n",
    "1. На *первом* шаге мы **загрузили** и посмотрели данные:\n",
    "- `data_zero` на **5** колонок и **100000** строк;\n",
    "- `data_one` на **5** колонок и **100000** строк;\n",
    "- `data_two` на **5** колонки и **100000** строк.\\\n",
    "Пропуски в данных отсутствуют.\n",
    "\n",
    "1.1 На этапе **предобработки данных** проведена проверка на дубликаты. \\\n",
    "Мы не выявили явных дубликатов, однако были замечены одни и те же скважины с различными признаками точек. Принято решение не избавляться от этих данных, так как они обезличенны и их количество очень мало.\n",
    "\n",
    "1.2 На этапе **исследовательского анализа** данных мы выяснили, что в значениях объемов запасов отсутсвуют выбросы, однако в данных по признакам точек выбросы есть и мы ничего с этим не можем поделать.\\\n",
    "А так же на основании корреляционного анализа трех месторождений можно сказать, что самое сильное влияние на целевой признак оказывает f2 - признак третьей точки.\n",
    "\n",
    "1.3 На этапе **подготовки** - данные со всех месторождений разделены на обучающую и валидационную выборки в соотношении 75:25, а так же отмасштабированы.\n",
    "\n",
    "2. На *втором* шаге:\\\n",
    "2.1 Созданы и обучены модели **LinearRegression** для каждого месторождения.\\\n",
    "2.2 На валидационной выборке выполнены предсказания по объёму сырья в скважинах.\\\n",
    "2.3 Рассчитаны значения среднего запаса предсказанного сырья и **RMSE** моделей:\\\n",
    "Наиболее оптимальным с точки зрения значения *среднеквадратичной ошибки*, тоесть уменьшения погрешности модели, является **первое** месторождение, тогда как по среднему предсказанному объему запасов приоритет отдается **третьему** месторождению.\n",
    "\n",
    "3. На *третьем* шаге:\\\n",
    "Мы сохранили ключевые значения для расчётов в отдельных переменных, а так же рассчитали достаточный объём сырья для безубыточной разработки новой скважины.\\\n",
    "По результатам расчета стало известно, что среднее значение запаса сырья по всем скважинам для каждого из регионов меньше, чем точка безубыточности: **111 тыс. баррелей**.\n",
    "\n",
    "4. На *четвертом* шаге:\\\n",
    "Написана функция расчета прибыли по наиболее выгодным точкам месторождений.\\\n",
    "Потенциальная прибыль месторождений:\n",
    "\n",
    "| Регион   | Прибыль (млрд. руб) |\n",
    "|----------|---------------------|\n",
    "| Регион 1 | 3.4                 |\n",
    "| Регион 2 | 2.4                 |\n",
    "| Регион 3 | 2.6                 |\n",
    "\n",
    "\n",
    "5. На *пятом* шаге:\\\n",
    "Произведен расчет рисков и прибыли для каждого региона:\\\n",
    "В итоге по приемлимости риска у нас проходит второе месторождение с **1%** риска, но мы помним, что на этом участке у нас была **переобученная* модель. Так что я бы с осторожностью относился к такому оптимистическому прогнозу. \\\n",
    "Принимая во внимание недоверие ко второй модели, можем сказать что по средней выручке и минимальным рискам нам подходит **первое месторождение**."
   ]
  }
 ],
 "metadata": {
  "ExecuteTimeLog": [
   {
    "duration": 1663,
    "start_time": "2025-06-27T03:08:45.046Z"
   },
   {
    "duration": 399,
    "start_time": "2025-06-27T03:08:46.711Z"
   },
   {
    "duration": 15,
    "start_time": "2025-06-27T03:08:47.111Z"
   },
   {
    "duration": 13,
    "start_time": "2025-06-27T03:08:47.128Z"
   },
   {
    "duration": 39,
    "start_time": "2025-06-27T03:08:47.142Z"
   },
   {
    "duration": 8,
    "start_time": "2025-06-27T03:08:47.183Z"
   },
   {
    "duration": 15,
    "start_time": "2025-06-27T03:08:47.193Z"
   },
   {
    "duration": 9,
    "start_time": "2025-06-27T03:08:47.210Z"
   },
   {
    "duration": 80,
    "start_time": "2025-06-27T03:08:47.220Z"
   },
   {
    "duration": 19,
    "start_time": "2025-06-27T03:08:47.302Z"
   },
   {
    "duration": 75,
    "start_time": "2025-06-27T03:08:47.322Z"
   },
   {
    "duration": 15,
    "start_time": "2025-06-27T03:08:47.399Z"
   },
   {
    "duration": 104,
    "start_time": "2025-06-27T03:08:47.415Z"
   },
   {
    "duration": 18,
    "start_time": "2025-06-27T03:08:47.521Z"
   },
   {
    "duration": 30,
    "start_time": "2025-06-27T03:08:47.541Z"
   },
   {
    "duration": 15,
    "start_time": "2025-06-27T03:08:47.573Z"
   },
   {
    "duration": 78,
    "start_time": "2025-06-27T03:08:47.589Z"
   },
   {
    "duration": 21,
    "start_time": "2025-06-27T03:08:47.669Z"
   },
   {
    "duration": 25,
    "start_time": "2025-06-27T03:08:47.692Z"
   },
   {
    "duration": 14,
    "start_time": "2025-06-27T03:08:47.718Z"
   },
   {
    "duration": 61,
    "start_time": "2025-06-27T03:08:47.733Z"
   },
   {
    "duration": 124,
    "start_time": "2025-06-27T03:08:47.796Z"
   },
   {
    "duration": 11,
    "start_time": "2025-06-27T03:08:47.922Z"
   },
   {
    "duration": 138,
    "start_time": "2025-06-27T03:08:47.935Z"
   },
   {
    "duration": 334,
    "start_time": "2025-06-27T03:08:48.074Z"
   },
   {
    "duration": 9,
    "start_time": "2025-06-27T03:08:48.410Z"
   },
   {
    "duration": 513,
    "start_time": "2025-06-27T03:08:48.421Z"
   },
   {
    "duration": 34,
    "start_time": "2025-06-27T03:08:48.938Z"
   },
   {
    "duration": 32,
    "start_time": "2025-06-27T03:08:48.974Z"
   },
   {
    "duration": 124,
    "start_time": "2025-06-27T03:08:49.007Z"
   },
   {
    "duration": 233,
    "start_time": "2025-06-27T03:08:49.133Z"
   },
   {
    "duration": 7,
    "start_time": "2025-06-27T03:08:49.368Z"
   },
   {
    "duration": 327,
    "start_time": "2025-06-27T03:08:49.377Z"
   },
   {
    "duration": 25,
    "start_time": "2025-06-27T03:08:49.705Z"
   },
   {
    "duration": 40,
    "start_time": "2025-06-27T03:08:49.732Z"
   },
   {
    "duration": 137,
    "start_time": "2025-06-27T03:08:49.773Z"
   },
   {
    "duration": 251,
    "start_time": "2025-06-27T03:08:49.912Z"
   },
   {
    "duration": 6,
    "start_time": "2025-06-27T03:08:50.165Z"
   },
   {
    "duration": 320,
    "start_time": "2025-06-27T03:08:50.173Z"
   },
   {
    "duration": 3,
    "start_time": "2025-06-27T03:08:50.494Z"
   },
   {
    "duration": 5,
    "start_time": "2025-06-27T03:08:50.498Z"
   },
   {
    "duration": 66,
    "start_time": "2025-06-27T03:08:50.505Z"
   },
   {
    "duration": 2,
    "start_time": "2025-06-27T03:08:50.573Z"
   },
   {
    "duration": 16,
    "start_time": "2025-06-27T03:08:50.577Z"
   },
   {
    "duration": 4,
    "start_time": "2025-06-27T03:08:50.594Z"
   },
   {
    "duration": 8,
    "start_time": "2025-06-27T03:08:50.599Z"
   },
   {
    "duration": 71,
    "start_time": "2025-06-27T03:08:50.609Z"
   },
   {
    "duration": 13,
    "start_time": "2025-06-27T03:08:50.682Z"
   },
   {
    "duration": 40,
    "start_time": "2025-06-27T03:08:50.697Z"
   },
   {
    "duration": 10,
    "start_time": "2025-06-27T03:08:50.739Z"
   },
   {
    "duration": 45,
    "start_time": "2025-06-27T03:08:50.751Z"
   },
   {
    "duration": 13,
    "start_time": "2025-06-27T03:08:50.798Z"
   },
   {
    "duration": 3,
    "start_time": "2025-06-27T03:08:50.813Z"
   },
   {
    "duration": 4,
    "start_time": "2025-06-27T03:08:50.818Z"
   },
   {
    "duration": 79,
    "start_time": "2025-06-27T03:08:50.824Z"
   },
   {
    "duration": 66,
    "start_time": "2025-06-27T03:08:50.905Z"
   },
   {
    "duration": 122,
    "start_time": "2025-06-27T03:08:50.973Z"
   },
   {
    "duration": 5,
    "start_time": "2025-06-27T03:08:51.097Z"
   },
   {
    "duration": 10,
    "start_time": "2025-06-27T03:08:51.104Z"
   },
   {
    "duration": 5,
    "start_time": "2025-06-27T03:08:51.116Z"
   },
   {
    "duration": 53,
    "start_time": "2025-06-27T03:08:51.122Z"
   },
   {
    "duration": 100,
    "start_time": "2025-06-27T03:08:51.178Z"
   },
   {
    "duration": 8,
    "start_time": "2025-06-27T03:08:51.280Z"
   },
   {
    "duration": 73,
    "start_time": "2025-06-27T03:08:51.289Z"
   },
   {
    "duration": 2,
    "start_time": "2025-06-27T03:08:51.364Z"
   },
   {
    "duration": 11,
    "start_time": "2025-06-27T03:08:51.368Z"
   },
   {
    "duration": 100,
    "start_time": "2025-06-27T03:08:51.382Z"
   },
   {
    "duration": 16,
    "start_time": "2025-06-27T03:08:51.571Z"
   },
   {
    "duration": 3,
    "start_time": "2025-06-27T03:08:51.589Z"
   },
   {
    "duration": 4,
    "start_time": "2025-06-27T03:08:51.594Z"
   },
   {
    "duration": 7,
    "start_time": "2025-06-27T03:08:51.600Z"
   },
   {
    "duration": 12,
    "start_time": "2025-06-27T03:08:51.608Z"
   },
   {
    "duration": 11,
    "start_time": "2025-06-27T03:08:51.621Z"
   },
   {
    "duration": 38,
    "start_time": "2025-06-27T03:08:51.634Z"
   },
   {
    "duration": 4,
    "start_time": "2025-06-27T03:08:51.673Z"
   },
   {
    "duration": 99,
    "start_time": "2025-06-27T03:08:51.678Z"
   },
   {
    "duration": 1332,
    "start_time": "2025-06-27T03:08:51.779Z"
   },
   {
    "duration": 1274,
    "start_time": "2025-06-27T03:08:53.113Z"
   },
   {
    "duration": 1314,
    "start_time": "2025-06-27T03:08:54.388Z"
   },
   {
    "duration": 5,
    "start_time": "2025-06-27T03:08:55.704Z"
   },
   {
    "duration": 14,
    "start_time": "2025-06-27T03:08:55.710Z"
   },
   {
    "duration": 64,
    "start_time": "2025-06-27T03:08:55.729Z"
   },
   {
    "duration": 118,
    "start_time": "2025-06-27T03:09:49.731Z"
   },
   {
    "duration": 111,
    "start_time": "2025-06-27T03:09:56.365Z"
   },
   {
    "duration": 148,
    "start_time": "2025-06-27T03:10:12.149Z"
   },
   {
    "duration": 217,
    "start_time": "2025-06-27T03:10:18.675Z"
   },
   {
    "duration": 7084,
    "start_time": "2025-06-27T04:33:58.796Z"
   },
   {
    "duration": 391,
    "start_time": "2025-06-27T04:34:05.882Z"
   },
   {
    "duration": 16,
    "start_time": "2025-06-27T04:34:06.275Z"
   },
   {
    "duration": 13,
    "start_time": "2025-06-27T04:34:06.293Z"
   },
   {
    "duration": 14,
    "start_time": "2025-06-27T04:34:06.307Z"
   },
   {
    "duration": 35,
    "start_time": "2025-06-27T04:34:06.323Z"
   },
   {
    "duration": 15,
    "start_time": "2025-06-27T04:34:06.360Z"
   },
   {
    "duration": 8,
    "start_time": "2025-06-27T04:34:06.377Z"
   },
   {
    "duration": 43,
    "start_time": "2025-06-27T04:34:06.387Z"
   },
   {
    "duration": 41,
    "start_time": "2025-06-27T04:34:06.432Z"
   },
   {
    "duration": 25,
    "start_time": "2025-06-27T04:34:06.475Z"
   },
   {
    "duration": 14,
    "start_time": "2025-06-27T04:34:06.501Z"
   },
   {
    "duration": 70,
    "start_time": "2025-06-27T04:34:06.516Z"
   },
   {
    "duration": 19,
    "start_time": "2025-06-27T04:34:06.587Z"
   },
   {
    "duration": 27,
    "start_time": "2025-06-27T04:34:06.607Z"
   },
   {
    "duration": 31,
    "start_time": "2025-06-27T04:34:06.636Z"
   },
   {
    "duration": 89,
    "start_time": "2025-06-27T04:34:06.668Z"
   },
   {
    "duration": 26,
    "start_time": "2025-06-27T04:34:06.758Z"
   },
   {
    "duration": 25,
    "start_time": "2025-06-27T04:34:06.785Z"
   },
   {
    "duration": 14,
    "start_time": "2025-06-27T04:34:06.812Z"
   },
   {
    "duration": 51,
    "start_time": "2025-06-27T04:34:06.827Z"
   },
   {
    "duration": 124,
    "start_time": "2025-06-27T04:34:06.879Z"
   },
   {
    "duration": 12,
    "start_time": "2025-06-27T04:34:07.004Z"
   },
   {
    "duration": 131,
    "start_time": "2025-06-27T04:34:07.017Z"
   },
   {
    "duration": 323,
    "start_time": "2025-06-27T04:34:07.157Z"
   },
   {
    "duration": 7,
    "start_time": "2025-06-27T04:34:07.482Z"
   },
   {
    "duration": 438,
    "start_time": "2025-06-27T04:34:07.491Z"
   },
   {
    "duration": 34,
    "start_time": "2025-06-27T04:34:07.933Z"
   },
   {
    "duration": 71,
    "start_time": "2025-06-27T04:34:07.968Z"
   },
   {
    "duration": 112,
    "start_time": "2025-06-27T04:34:08.040Z"
   },
   {
    "duration": 220,
    "start_time": "2025-06-27T04:34:08.154Z"
   },
   {
    "duration": 8,
    "start_time": "2025-06-27T04:34:08.375Z"
   },
   {
    "duration": 314,
    "start_time": "2025-06-27T04:34:08.384Z"
   },
   {
    "duration": 25,
    "start_time": "2025-06-27T04:34:08.699Z"
   },
   {
    "duration": 67,
    "start_time": "2025-06-27T04:34:08.726Z"
   },
   {
    "duration": 116,
    "start_time": "2025-06-27T04:34:08.795Z"
   },
   {
    "duration": 248,
    "start_time": "2025-06-27T04:34:08.913Z"
   },
   {
    "duration": 7,
    "start_time": "2025-06-27T04:34:09.163Z"
   },
   {
    "duration": 313,
    "start_time": "2025-06-27T04:34:09.171Z"
   },
   {
    "duration": 3,
    "start_time": "2025-06-27T04:34:09.485Z"
   },
   {
    "duration": 10,
    "start_time": "2025-06-27T04:34:09.489Z"
   },
   {
    "duration": 46,
    "start_time": "2025-06-27T04:34:09.500Z"
   },
   {
    "duration": 2,
    "start_time": "2025-06-27T04:34:09.548Z"
   },
   {
    "duration": 88,
    "start_time": "2025-06-27T04:34:09.557Z"
   },
   {
    "duration": 4,
    "start_time": "2025-06-27T04:34:09.646Z"
   },
   {
    "duration": 4,
    "start_time": "2025-06-27T04:34:09.652Z"
   },
   {
    "duration": 37,
    "start_time": "2025-06-27T04:34:09.657Z"
   },
   {
    "duration": 12,
    "start_time": "2025-06-27T04:34:09.696Z"
   },
   {
    "duration": 16,
    "start_time": "2025-06-27T04:34:09.709Z"
   },
   {
    "duration": 5,
    "start_time": "2025-06-27T04:34:09.727Z"
   },
   {
    "duration": 51,
    "start_time": "2025-06-27T04:34:09.733Z"
   },
   {
    "duration": 12,
    "start_time": "2025-06-27T04:34:09.786Z"
   },
   {
    "duration": 8,
    "start_time": "2025-06-27T04:34:09.800Z"
   },
   {
    "duration": 10,
    "start_time": "2025-06-27T04:34:09.810Z"
   },
   {
    "duration": 9,
    "start_time": "2025-06-27T04:34:09.821Z"
   },
   {
    "duration": 30,
    "start_time": "2025-06-27T04:34:09.832Z"
   },
   {
    "duration": 104,
    "start_time": "2025-06-27T04:34:09.863Z"
   },
   {
    "duration": 73,
    "start_time": "2025-06-27T04:34:09.968Z"
   },
   {
    "duration": 15,
    "start_time": "2025-06-27T04:34:10.043Z"
   },
   {
    "duration": 2,
    "start_time": "2025-06-27T04:34:10.060Z"
   },
   {
    "duration": 14,
    "start_time": "2025-06-27T04:34:10.063Z"
   },
   {
    "duration": 179,
    "start_time": "2025-06-27T04:34:10.079Z"
   },
   {
    "duration": 4,
    "start_time": "2025-06-27T04:34:10.260Z"
   },
   {
    "duration": 9,
    "start_time": "2025-06-27T04:34:10.265Z"
   },
   {
    "duration": 2,
    "start_time": "2025-06-27T04:34:10.275Z"
   },
   {
    "duration": 6,
    "start_time": "2025-06-27T04:34:10.279Z"
   },
   {
    "duration": 171,
    "start_time": "2025-06-27T04:34:10.287Z"
   },
   {
    "duration": 3,
    "start_time": "2025-06-27T04:34:10.460Z"
   },
   {
    "duration": 4,
    "start_time": "2025-06-27T04:34:10.465Z"
   },
   {
    "duration": 4,
    "start_time": "2025-06-27T04:34:10.470Z"
   },
   {
    "duration": 4,
    "start_time": "2025-06-27T04:34:10.476Z"
   },
   {
    "duration": 19,
    "start_time": "2025-06-27T04:34:10.481Z"
   },
   {
    "duration": 11,
    "start_time": "2025-06-27T04:34:10.502Z"
   },
   {
    "duration": 48,
    "start_time": "2025-06-27T04:34:10.514Z"
   },
   {
    "duration": 3,
    "start_time": "2025-06-27T04:34:10.564Z"
   },
   {
    "duration": 4,
    "start_time": "2025-06-27T04:34:10.569Z"
   },
   {
    "duration": 1349,
    "start_time": "2025-06-27T04:34:10.575Z"
   },
   {
    "duration": 1286,
    "start_time": "2025-06-27T04:34:11.925Z"
   },
   {
    "duration": 1266,
    "start_time": "2025-06-27T04:34:13.213Z"
   },
   {
    "duration": 4,
    "start_time": "2025-06-27T04:34:14.481Z"
   },
   {
    "duration": 11,
    "start_time": "2025-06-27T04:34:14.487Z"
   },
   {
    "duration": 8,
    "start_time": "2025-06-27T04:34:14.502Z"
   },
   {
    "duration": 6,
    "start_time": "2025-06-27T04:34:55.937Z"
   },
   {
    "duration": 3,
    "start_time": "2025-06-27T04:34:56.370Z"
   },
   {
    "duration": 6,
    "start_time": "2025-06-27T04:34:59.904Z"
   },
   {
    "duration": 4,
    "start_time": "2025-06-27T04:35:00.122Z"
   },
   {
    "duration": 1366,
    "start_time": "2025-06-27T05:28:55.401Z"
   },
   {
    "duration": 403,
    "start_time": "2025-06-27T05:28:56.769Z"
   },
   {
    "duration": 16,
    "start_time": "2025-06-27T05:28:57.173Z"
   },
   {
    "duration": 12,
    "start_time": "2025-06-27T05:28:57.191Z"
   },
   {
    "duration": 21,
    "start_time": "2025-06-27T05:28:57.205Z"
   },
   {
    "duration": 46,
    "start_time": "2025-06-27T05:28:57.228Z"
   },
   {
    "duration": 33,
    "start_time": "2025-06-27T05:28:57.276Z"
   },
   {
    "duration": 9,
    "start_time": "2025-06-27T05:28:57.311Z"
   },
   {
    "duration": 56,
    "start_time": "2025-06-27T05:28:57.321Z"
   },
   {
    "duration": 21,
    "start_time": "2025-06-27T05:28:57.379Z"
   },
   {
    "duration": 26,
    "start_time": "2025-06-27T05:28:57.402Z"
   },
   {
    "duration": 71,
    "start_time": "2025-06-27T05:28:57.429Z"
   },
   {
    "duration": 44,
    "start_time": "2025-06-27T05:28:57.502Z"
   },
   {
    "duration": 20,
    "start_time": "2025-06-27T05:28:57.549Z"
   },
   {
    "duration": 24,
    "start_time": "2025-06-27T05:28:57.571Z"
   },
   {
    "duration": 14,
    "start_time": "2025-06-27T05:28:57.596Z"
   },
   {
    "duration": 63,
    "start_time": "2025-06-27T05:28:57.612Z"
   },
   {
    "duration": 23,
    "start_time": "2025-06-27T05:28:57.677Z"
   },
   {
    "duration": 28,
    "start_time": "2025-06-27T05:28:57.702Z"
   },
   {
    "duration": 14,
    "start_time": "2025-06-27T05:28:57.732Z"
   },
   {
    "duration": 26,
    "start_time": "2025-06-27T05:28:57.772Z"
   },
   {
    "duration": 130,
    "start_time": "2025-06-27T05:28:57.800Z"
   },
   {
    "duration": 12,
    "start_time": "2025-06-27T05:28:57.932Z"
   },
   {
    "duration": 131,
    "start_time": "2025-06-27T05:28:57.945Z"
   },
   {
    "duration": 314,
    "start_time": "2025-06-27T05:28:58.078Z"
   },
   {
    "duration": 8,
    "start_time": "2025-06-27T05:28:58.394Z"
   },
   {
    "duration": 436,
    "start_time": "2025-06-27T05:28:58.403Z"
   },
   {
    "duration": 35,
    "start_time": "2025-06-27T05:28:58.840Z"
   },
   {
    "duration": 12,
    "start_time": "2025-06-27T05:28:58.877Z"
   },
   {
    "duration": 127,
    "start_time": "2025-06-27T05:28:58.891Z"
   },
   {
    "duration": 223,
    "start_time": "2025-06-27T05:28:59.020Z"
   },
   {
    "duration": 8,
    "start_time": "2025-06-27T05:28:59.244Z"
   },
   {
    "duration": 346,
    "start_time": "2025-06-27T05:28:59.254Z"
   },
   {
    "duration": 23,
    "start_time": "2025-06-27T05:28:59.602Z"
   },
   {
    "duration": 10,
    "start_time": "2025-06-27T05:28:59.626Z"
   },
   {
    "duration": 136,
    "start_time": "2025-06-27T05:28:59.637Z"
   },
   {
    "duration": 239,
    "start_time": "2025-06-27T05:28:59.775Z"
   },
   {
    "duration": 6,
    "start_time": "2025-06-27T05:29:00.016Z"
   },
   {
    "duration": 384,
    "start_time": "2025-06-27T05:29:00.023Z"
   },
   {
    "duration": 2,
    "start_time": "2025-06-27T05:29:00.409Z"
   },
   {
    "duration": 55,
    "start_time": "2025-06-27T05:29:00.415Z"
   },
   {
    "duration": 58,
    "start_time": "2025-06-27T05:29:00.472Z"
   },
   {
    "duration": 3,
    "start_time": "2025-06-27T05:29:00.532Z"
   },
   {
    "duration": 31,
    "start_time": "2025-06-27T05:29:00.536Z"
   },
   {
    "duration": 3,
    "start_time": "2025-06-27T05:29:00.569Z"
   },
   {
    "duration": 11,
    "start_time": "2025-06-27T05:29:00.574Z"
   },
   {
    "duration": 46,
    "start_time": "2025-06-27T05:29:00.586Z"
   },
   {
    "duration": 13,
    "start_time": "2025-06-27T05:29:00.634Z"
   },
   {
    "duration": 5,
    "start_time": "2025-06-27T05:29:00.648Z"
   },
   {
    "duration": 4,
    "start_time": "2025-06-27T05:29:00.671Z"
   },
   {
    "duration": 47,
    "start_time": "2025-06-27T05:29:00.677Z"
   },
   {
    "duration": 13,
    "start_time": "2025-06-27T05:29:00.725Z"
   },
   {
    "duration": 2,
    "start_time": "2025-06-27T05:29:00.740Z"
   },
   {
    "duration": 82,
    "start_time": "2025-06-27T05:29:00.744Z"
   },
   {
    "duration": 24,
    "start_time": "2025-06-27T05:29:00.828Z"
   },
   {
    "duration": 6,
    "start_time": "2025-06-27T05:29:00.854Z"
   },
   {
    "duration": 110,
    "start_time": "2025-06-27T05:29:00.862Z"
   },
   {
    "duration": 97,
    "start_time": "2025-06-27T05:29:00.975Z"
   },
   {
    "duration": 7,
    "start_time": "2025-06-27T05:29:01.074Z"
   },
   {
    "duration": 25,
    "start_time": "2025-06-27T05:29:01.083Z"
   },
   {
    "duration": 14,
    "start_time": "2025-06-27T05:29:01.109Z"
   },
   {
    "duration": 147,
    "start_time": "2025-06-27T05:29:01.125Z"
   },
   {
    "duration": 5,
    "start_time": "2025-06-27T05:29:01.274Z"
   },
   {
    "duration": 10,
    "start_time": "2025-06-27T05:29:01.280Z"
   },
   {
    "duration": 2,
    "start_time": "2025-06-27T05:29:01.292Z"
   },
   {
    "duration": 9,
    "start_time": "2025-06-27T05:29:01.296Z"
   },
   {
    "duration": 72,
    "start_time": "2025-06-27T05:29:01.307Z"
   },
   {
    "duration": 7,
    "start_time": "2025-06-27T05:29:01.470Z"
   },
   {
    "duration": 21,
    "start_time": "2025-06-27T05:29:01.479Z"
   },
   {
    "duration": 24,
    "start_time": "2025-06-27T05:29:01.502Z"
   },
   {
    "duration": 39,
    "start_time": "2025-06-27T05:29:01.528Z"
   },
   {
    "duration": 36,
    "start_time": "2025-06-27T05:29:01.569Z"
   },
   {
    "duration": 11,
    "start_time": "2025-06-27T05:29:01.606Z"
   },
   {
    "duration": 65,
    "start_time": "2025-06-27T05:29:01.619Z"
   },
   {
    "duration": 3,
    "start_time": "2025-06-27T05:29:01.686Z"
   },
   {
    "duration": 7,
    "start_time": "2025-06-27T05:29:01.691Z"
   },
   {
    "duration": 1272,
    "start_time": "2025-06-27T05:29:01.699Z"
   },
   {
    "duration": 1227,
    "start_time": "2025-06-27T05:29:02.972Z"
   },
   {
    "duration": 1229,
    "start_time": "2025-06-27T05:29:04.201Z"
   },
   {
    "duration": 4,
    "start_time": "2025-06-27T05:29:05.431Z"
   },
   {
    "duration": 63,
    "start_time": "2025-06-27T05:29:05.437Z"
   },
   {
    "duration": 45,
    "start_time": "2025-06-27T05:29:05.502Z"
   },
   {
    "duration": 1345,
    "start_time": "2025-06-27T05:31:01.140Z"
   },
   {
    "duration": 1256,
    "start_time": "2025-06-27T05:31:08.686Z"
   },
   {
    "duration": 1229,
    "start_time": "2025-06-27T05:31:16.351Z"
   },
   {
    "duration": 1293,
    "start_time": "2025-06-27T05:32:23.392Z"
   },
   {
    "duration": 1453,
    "start_time": "2025-06-27T05:33:10.867Z"
   },
   {
    "duration": 397,
    "start_time": "2025-06-27T05:33:12.322Z"
   },
   {
    "duration": 16,
    "start_time": "2025-06-27T05:33:12.721Z"
   },
   {
    "duration": 12,
    "start_time": "2025-06-27T05:33:12.738Z"
   },
   {
    "duration": 30,
    "start_time": "2025-06-27T05:33:12.752Z"
   },
   {
    "duration": 9,
    "start_time": "2025-06-27T05:33:12.783Z"
   },
   {
    "duration": 16,
    "start_time": "2025-06-27T05:33:12.794Z"
   },
   {
    "duration": 10,
    "start_time": "2025-06-27T05:33:12.812Z"
   },
   {
    "duration": 75,
    "start_time": "2025-06-27T05:33:12.823Z"
   },
   {
    "duration": 22,
    "start_time": "2025-06-27T05:33:12.900Z"
   },
   {
    "duration": 39,
    "start_time": "2025-06-27T05:33:12.923Z"
   },
   {
    "duration": 15,
    "start_time": "2025-06-27T05:33:12.971Z"
   },
   {
    "duration": 55,
    "start_time": "2025-06-27T05:33:12.988Z"
   },
   {
    "duration": 30,
    "start_time": "2025-06-27T05:33:13.046Z"
   },
   {
    "duration": 27,
    "start_time": "2025-06-27T05:33:13.077Z"
   },
   {
    "duration": 15,
    "start_time": "2025-06-27T05:33:13.105Z"
   },
   {
    "duration": 72,
    "start_time": "2025-06-27T05:33:13.121Z"
   },
   {
    "duration": 24,
    "start_time": "2025-06-27T05:33:13.195Z"
   },
   {
    "duration": 28,
    "start_time": "2025-06-27T05:33:13.221Z"
   },
   {
    "duration": 16,
    "start_time": "2025-06-27T05:33:13.271Z"
   },
   {
    "duration": 28,
    "start_time": "2025-06-27T05:33:13.289Z"
   },
   {
    "duration": 134,
    "start_time": "2025-06-27T05:33:13.319Z"
   },
   {
    "duration": 20,
    "start_time": "2025-06-27T05:33:13.455Z"
   },
   {
    "duration": 140,
    "start_time": "2025-06-27T05:33:13.477Z"
   },
   {
    "duration": 333,
    "start_time": "2025-06-27T05:33:13.619Z"
   },
   {
    "duration": 21,
    "start_time": "2025-06-27T05:33:13.954Z"
   },
   {
    "duration": 410,
    "start_time": "2025-06-27T05:33:13.977Z"
   },
   {
    "duration": 26,
    "start_time": "2025-06-27T05:33:14.388Z"
   },
   {
    "duration": 51,
    "start_time": "2025-06-27T05:33:14.415Z"
   },
   {
    "duration": 110,
    "start_time": "2025-06-27T05:33:14.467Z"
   },
   {
    "duration": 218,
    "start_time": "2025-06-27T05:33:14.579Z"
   },
   {
    "duration": 8,
    "start_time": "2025-06-27T05:33:14.798Z"
   },
   {
    "duration": 352,
    "start_time": "2025-06-27T05:33:14.808Z"
   },
   {
    "duration": 27,
    "start_time": "2025-06-27T05:33:15.161Z"
   },
   {
    "duration": 12,
    "start_time": "2025-06-27T05:33:15.190Z"
   },
   {
    "duration": 137,
    "start_time": "2025-06-27T05:33:15.204Z"
   },
   {
    "duration": 245,
    "start_time": "2025-06-27T05:33:15.343Z"
   },
   {
    "duration": 6,
    "start_time": "2025-06-27T05:33:15.590Z"
   },
   {
    "duration": 296,
    "start_time": "2025-06-27T05:33:15.598Z"
   },
   {
    "duration": 2,
    "start_time": "2025-06-27T05:33:15.895Z"
   },
   {
    "duration": 4,
    "start_time": "2025-06-27T05:33:15.901Z"
   },
   {
    "duration": 54,
    "start_time": "2025-06-27T05:33:15.907Z"
   },
   {
    "duration": 3,
    "start_time": "2025-06-27T05:33:15.971Z"
   },
   {
    "duration": 114,
    "start_time": "2025-06-27T05:33:15.976Z"
   },
   {
    "duration": 3,
    "start_time": "2025-06-27T05:33:16.092Z"
   },
   {
    "duration": 4,
    "start_time": "2025-06-27T05:33:16.097Z"
   },
   {
    "duration": 49,
    "start_time": "2025-06-27T05:33:16.102Z"
   },
   {
    "duration": 27,
    "start_time": "2025-06-27T05:33:16.152Z"
   },
   {
    "duration": 4,
    "start_time": "2025-06-27T05:33:16.180Z"
   },
   {
    "duration": 15,
    "start_time": "2025-06-27T05:33:16.185Z"
   },
   {
    "duration": 46,
    "start_time": "2025-06-27T05:33:16.202Z"
   },
   {
    "duration": 13,
    "start_time": "2025-06-27T05:33:16.249Z"
   },
   {
    "duration": 10,
    "start_time": "2025-06-27T05:33:16.263Z"
   },
   {
    "duration": 12,
    "start_time": "2025-06-27T05:33:16.274Z"
   },
   {
    "duration": 14,
    "start_time": "2025-06-27T05:33:16.287Z"
   },
   {
    "duration": 6,
    "start_time": "2025-06-27T05:33:16.303Z"
   },
   {
    "duration": 72,
    "start_time": "2025-06-27T05:33:16.311Z"
   },
   {
    "duration": 93,
    "start_time": "2025-06-27T05:33:16.385Z"
   },
   {
    "duration": 15,
    "start_time": "2025-06-27T05:33:16.480Z"
   },
   {
    "duration": 11,
    "start_time": "2025-06-27T05:33:16.497Z"
   },
   {
    "duration": 11,
    "start_time": "2025-06-27T05:33:16.510Z"
   },
   {
    "duration": 148,
    "start_time": "2025-06-27T05:33:16.524Z"
   },
   {
    "duration": 3,
    "start_time": "2025-06-27T05:33:16.674Z"
   },
   {
    "duration": 10,
    "start_time": "2025-06-27T05:33:16.678Z"
   },
   {
    "duration": 2,
    "start_time": "2025-06-27T05:33:16.690Z"
   },
   {
    "duration": 11,
    "start_time": "2025-06-27T05:33:16.694Z"
   },
   {
    "duration": 176,
    "start_time": "2025-06-27T05:33:16.707Z"
   },
   {
    "duration": 27,
    "start_time": "2025-06-27T05:33:16.885Z"
   },
   {
    "duration": 8,
    "start_time": "2025-06-27T05:33:16.914Z"
   },
   {
    "duration": 7,
    "start_time": "2025-06-27T05:33:16.924Z"
   },
   {
    "duration": 5,
    "start_time": "2025-06-27T05:33:16.932Z"
   },
   {
    "duration": 12,
    "start_time": "2025-06-27T05:33:16.938Z"
   },
   {
    "duration": 11,
    "start_time": "2025-06-27T05:33:16.952Z"
   },
   {
    "duration": 15,
    "start_time": "2025-06-27T05:33:16.965Z"
   },
   {
    "duration": 3,
    "start_time": "2025-06-27T05:33:16.981Z"
   },
   {
    "duration": 7,
    "start_time": "2025-06-27T05:33:16.986Z"
   },
   {
    "duration": 1398,
    "start_time": "2025-06-27T05:33:16.994Z"
   },
   {
    "duration": 0,
    "start_time": "2025-06-27T05:33:18.394Z"
   },
   {
    "duration": 0,
    "start_time": "2025-06-27T05:33:18.395Z"
   },
   {
    "duration": 0,
    "start_time": "2025-06-27T05:33:18.396Z"
   },
   {
    "duration": 0,
    "start_time": "2025-06-27T05:33:18.398Z"
   },
   {
    "duration": 0,
    "start_time": "2025-06-27T05:33:18.399Z"
   },
   {
    "duration": 1289,
    "start_time": "2025-06-27T05:33:56.736Z"
   },
   {
    "duration": 1282,
    "start_time": "2025-06-27T05:34:05.738Z"
   },
   {
    "duration": 1293,
    "start_time": "2025-06-27T05:34:08.979Z"
   },
   {
    "duration": 5,
    "start_time": "2025-06-27T05:34:11.380Z"
   },
   {
    "duration": 6,
    "start_time": "2025-06-27T05:34:12.455Z"
   },
   {
    "duration": 9,
    "start_time": "2025-06-27T05:34:13.163Z"
   }
  ],
  "kernelspec": {
   "display_name": "Python 3 (ipykernel)",
   "language": "python",
   "name": "python3"
  },
  "language_info": {
   "codemirror_mode": {
    "name": "ipython",
    "version": 3
   },
   "file_extension": ".py",
   "mimetype": "text/x-python",
   "name": "python",
   "nbconvert_exporter": "python",
   "pygments_lexer": "ipython3",
   "version": "3.12.7"
  },
  "toc": {
   "base_numbering": 1,
   "nav_menu": {},
   "number_sections": true,
   "sideBar": true,
   "skip_h1_title": true,
   "title_cell": "Table of Contents",
   "title_sidebar": "Contents",
   "toc_cell": false,
   "toc_position": {},
   "toc_section_display": true,
   "toc_window_display": false
  }
 },
 "nbformat": 4,
 "nbformat_minor": 5
}
