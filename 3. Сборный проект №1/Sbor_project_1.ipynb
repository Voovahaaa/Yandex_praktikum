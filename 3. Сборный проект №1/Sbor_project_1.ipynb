{
 "cells": [
  {
   "cell_type": "markdown",
   "id": "841c01de-2df0-4fcd-8878-d7c07f464ffa",
   "metadata": {},
   "source": [
    "# Сборный проект № 1: Аналитика интернет-магазина \"Стримчик\""
   ]
  },
  {
   "cell_type": "markdown",
   "id": "6f6bb8c4-412e-4c4f-b828-22e749a002dc",
   "metadata": {},
   "source": [
    "В нашем распоряжении исторические данные из открытых источников о продажах игр, оценках пользователей и экспертов, жанры и платформы. "
   ]
  },
  {
   "cell_type": "markdown",
   "id": "89d01d3f-7479-4f61-a11c-c61708621719",
   "metadata": {},
   "source": [
    "**Цель исследования:** необходимо выявить закономерности, определяющие успешность игры, для выявления потенциально популярного продукта и грамотного планирования рекламных кампаний в нашем интернет-магазине."
   ]
  },
  {
   "cell_type": "markdown",
   "id": "bb40c224-7a24-4e13-82e3-b9ead6aebfb8",
   "metadata": {},
   "source": [
    "**Ход исследования:** \\\n",
    "Шаг 1 - Загрузка и изучение общей информации; \\\n",
    "Шаг 2 - Предобработка данных; \\\n",
    "Шаг 3 - Исследовательский анализ данных; \\\n",
    "Шаг 4 - Портрет пользователя каждого региона; \\\n",
    "Шаг 5 - Проверка гипотез; \\\n",
    "Общий вывод."
   ]
  },
  {
   "cell_type": "markdown",
   "id": "0a5a22a3-6758-4503-980a-1f158df4bf20",
   "metadata": {},
   "source": [
    "## Шаг 1. Загрузка данных"
   ]
  },
  {
   "cell_type": "markdown",
   "id": "cd3514c3-995a-484b-83c0-e84588b9fe8f",
   "metadata": {},
   "source": [
    "Загружаем библиотеки, которые понадобятся в нашем исследовании"
   ]
  },
  {
   "cell_type": "code",
   "execution_count": 1,
   "id": "0aeaed26-f9c2-4e89-b18d-2914c55ad326",
   "metadata": {},
   "outputs": [],
   "source": [
    "import pandas as pd # импоритруем pandas для обработки, анализа и структурирования данных\n",
    "import numpy as np # импоритруем numpy для работы с данными\n",
    "import matplotlib.pyplot as plt # так же импоритруем matplotlib.pyplot для будущего построения графиков\n",
    "import seaborn as sns # так же импоритруем seaborn для построения графиков\n",
    "from scipy import stats as st # импоритруем stats из библиотеки scipy для проверки гипотез и проведения t-тестов\n",
    "pd.set_option('display.max_columns', 20)\n",
    "pd.set_option('display.max_rows', 20)"
   ]
  },
  {
   "cell_type": "markdown",
   "id": "bace5ef8-72af-4550-9277-8cf1a9dd38d2",
   "metadata": {},
   "source": [
    "### 1.1 Загрузим данные из csv-файла в датафрейм c помощью библиотеки pandas"
   ]
  },
  {
   "cell_type": "code",
   "execution_count": 2,
   "id": "8fc1c3bd-d816-423c-99eb-1d6d475609cc",
   "metadata": {},
   "outputs": [],
   "source": [
    "try: # открываем наш файл с данными в среде JupiterHUB:\n",
    "    data = pd.read_csv('/datasets/games.csv') # представлена информация о продажах игр за 2016 год.\n",
    "except: # либо берем данные на ПК для локальной версии Jupiter:\n",
    "    data = pd.read_csv('C://Users//Voova//datasets//games.csv') "
   ]
  },
  {
   "cell_type": "markdown",
   "id": "0b12cf21-2f9c-4aeb-b9f3-a9026522033a",
   "metadata": {},
   "source": [
    "### 1.2 Изучим общую информацию о датафрейме. Выведим первые строки набора данных."
   ]
  },
  {
   "cell_type": "code",
   "execution_count": 3,
   "id": "39234f10-e794-4754-88c1-615e57c9e047",
   "metadata": {},
   "outputs": [
    {
     "name": "stdout",
     "output_type": "stream",
     "text": [
      "<class 'pandas.core.frame.DataFrame'>\n",
      "RangeIndex: 16715 entries, 0 to 16714\n",
      "Data columns (total 11 columns):\n",
      " #   Column           Non-Null Count  Dtype  \n",
      "---  ------           --------------  -----  \n",
      " 0   Name             16713 non-null  object \n",
      " 1   Platform         16715 non-null  object \n",
      " 2   Year_of_Release  16446 non-null  float64\n",
      " 3   Genre            16713 non-null  object \n",
      " 4   NA_sales         16715 non-null  float64\n",
      " 5   EU_sales         16715 non-null  float64\n",
      " 6   JP_sales         16715 non-null  float64\n",
      " 7   Other_sales      16715 non-null  float64\n",
      " 8   Critic_Score     8137 non-null   float64\n",
      " 9   User_Score       10014 non-null  object \n",
      " 10  Rating           9949 non-null   object \n",
      "dtypes: float64(6), object(5)\n",
      "memory usage: 1.4+ MB\n"
     ]
    }
   ],
   "source": [
    "data.info()"
   ]
  },
  {
   "cell_type": "markdown",
   "id": "e21efe18-71e2-46de-8922-70dada44402f",
   "metadata": {},
   "source": [
    "Перед нами датафрейм на **11** колонок и **16 715** строк, сразу могу сказать, что в столбцах `Name`, `Year_of_Release`, `Genre`, `Critic_Score`, `User_score`, `Rating` имеются пропущенные значения, так же видно, что названия столбцов указаны не корректно. \\\n",
    "Посмотрим первые 10 строчек таблицы:"
   ]
  },
  {
   "cell_type": "code",
   "execution_count": 4,
   "id": "6a0029be-8e1d-4659-bc82-c27f52ba3b02",
   "metadata": {},
   "outputs": [
    {
     "data": {
      "text/html": [
       "<div>\n",
       "<style scoped>\n",
       "    .dataframe tbody tr th:only-of-type {\n",
       "        vertical-align: middle;\n",
       "    }\n",
       "\n",
       "    .dataframe tbody tr th {\n",
       "        vertical-align: top;\n",
       "    }\n",
       "\n",
       "    .dataframe thead th {\n",
       "        text-align: right;\n",
       "    }\n",
       "</style>\n",
       "<table border=\"1\" class=\"dataframe\">\n",
       "  <thead>\n",
       "    <tr style=\"text-align: right;\">\n",
       "      <th></th>\n",
       "      <th>Name</th>\n",
       "      <th>Platform</th>\n",
       "      <th>Year_of_Release</th>\n",
       "      <th>Genre</th>\n",
       "      <th>NA_sales</th>\n",
       "      <th>EU_sales</th>\n",
       "      <th>JP_sales</th>\n",
       "      <th>Other_sales</th>\n",
       "      <th>Critic_Score</th>\n",
       "      <th>User_Score</th>\n",
       "      <th>Rating</th>\n",
       "    </tr>\n",
       "  </thead>\n",
       "  <tbody>\n",
       "    <tr>\n",
       "      <th>0</th>\n",
       "      <td>Wii Sports</td>\n",
       "      <td>Wii</td>\n",
       "      <td>2006.0</td>\n",
       "      <td>Sports</td>\n",
       "      <td>41.36</td>\n",
       "      <td>28.96</td>\n",
       "      <td>3.77</td>\n",
       "      <td>8.45</td>\n",
       "      <td>76.0</td>\n",
       "      <td>8</td>\n",
       "      <td>E</td>\n",
       "    </tr>\n",
       "    <tr>\n",
       "      <th>1</th>\n",
       "      <td>Super Mario Bros.</td>\n",
       "      <td>NES</td>\n",
       "      <td>1985.0</td>\n",
       "      <td>Platform</td>\n",
       "      <td>29.08</td>\n",
       "      <td>3.58</td>\n",
       "      <td>6.81</td>\n",
       "      <td>0.77</td>\n",
       "      <td>NaN</td>\n",
       "      <td>NaN</td>\n",
       "      <td>NaN</td>\n",
       "    </tr>\n",
       "    <tr>\n",
       "      <th>2</th>\n",
       "      <td>Mario Kart Wii</td>\n",
       "      <td>Wii</td>\n",
       "      <td>2008.0</td>\n",
       "      <td>Racing</td>\n",
       "      <td>15.68</td>\n",
       "      <td>12.76</td>\n",
       "      <td>3.79</td>\n",
       "      <td>3.29</td>\n",
       "      <td>82.0</td>\n",
       "      <td>8.3</td>\n",
       "      <td>E</td>\n",
       "    </tr>\n",
       "    <tr>\n",
       "      <th>3</th>\n",
       "      <td>Wii Sports Resort</td>\n",
       "      <td>Wii</td>\n",
       "      <td>2009.0</td>\n",
       "      <td>Sports</td>\n",
       "      <td>15.61</td>\n",
       "      <td>10.93</td>\n",
       "      <td>3.28</td>\n",
       "      <td>2.95</td>\n",
       "      <td>80.0</td>\n",
       "      <td>8</td>\n",
       "      <td>E</td>\n",
       "    </tr>\n",
       "    <tr>\n",
       "      <th>4</th>\n",
       "      <td>Pokemon Red/Pokemon Blue</td>\n",
       "      <td>GB</td>\n",
       "      <td>1996.0</td>\n",
       "      <td>Role-Playing</td>\n",
       "      <td>11.27</td>\n",
       "      <td>8.89</td>\n",
       "      <td>10.22</td>\n",
       "      <td>1.00</td>\n",
       "      <td>NaN</td>\n",
       "      <td>NaN</td>\n",
       "      <td>NaN</td>\n",
       "    </tr>\n",
       "    <tr>\n",
       "      <th>5</th>\n",
       "      <td>Tetris</td>\n",
       "      <td>GB</td>\n",
       "      <td>1989.0</td>\n",
       "      <td>Puzzle</td>\n",
       "      <td>23.20</td>\n",
       "      <td>2.26</td>\n",
       "      <td>4.22</td>\n",
       "      <td>0.58</td>\n",
       "      <td>NaN</td>\n",
       "      <td>NaN</td>\n",
       "      <td>NaN</td>\n",
       "    </tr>\n",
       "    <tr>\n",
       "      <th>6</th>\n",
       "      <td>New Super Mario Bros.</td>\n",
       "      <td>DS</td>\n",
       "      <td>2006.0</td>\n",
       "      <td>Platform</td>\n",
       "      <td>11.28</td>\n",
       "      <td>9.14</td>\n",
       "      <td>6.50</td>\n",
       "      <td>2.88</td>\n",
       "      <td>89.0</td>\n",
       "      <td>8.5</td>\n",
       "      <td>E</td>\n",
       "    </tr>\n",
       "    <tr>\n",
       "      <th>7</th>\n",
       "      <td>Wii Play</td>\n",
       "      <td>Wii</td>\n",
       "      <td>2006.0</td>\n",
       "      <td>Misc</td>\n",
       "      <td>13.96</td>\n",
       "      <td>9.18</td>\n",
       "      <td>2.93</td>\n",
       "      <td>2.84</td>\n",
       "      <td>58.0</td>\n",
       "      <td>6.6</td>\n",
       "      <td>E</td>\n",
       "    </tr>\n",
       "    <tr>\n",
       "      <th>8</th>\n",
       "      <td>New Super Mario Bros. Wii</td>\n",
       "      <td>Wii</td>\n",
       "      <td>2009.0</td>\n",
       "      <td>Platform</td>\n",
       "      <td>14.44</td>\n",
       "      <td>6.94</td>\n",
       "      <td>4.70</td>\n",
       "      <td>2.24</td>\n",
       "      <td>87.0</td>\n",
       "      <td>8.4</td>\n",
       "      <td>E</td>\n",
       "    </tr>\n",
       "    <tr>\n",
       "      <th>9</th>\n",
       "      <td>Duck Hunt</td>\n",
       "      <td>NES</td>\n",
       "      <td>1984.0</td>\n",
       "      <td>Shooter</td>\n",
       "      <td>26.93</td>\n",
       "      <td>0.63</td>\n",
       "      <td>0.28</td>\n",
       "      <td>0.47</td>\n",
       "      <td>NaN</td>\n",
       "      <td>NaN</td>\n",
       "      <td>NaN</td>\n",
       "    </tr>\n",
       "  </tbody>\n",
       "</table>\n",
       "</div>"
      ],
      "text/plain": [
       "                        Name Platform  Year_of_Release         Genre  \\\n",
       "0                 Wii Sports      Wii           2006.0        Sports   \n",
       "1          Super Mario Bros.      NES           1985.0      Platform   \n",
       "2             Mario Kart Wii      Wii           2008.0        Racing   \n",
       "3          Wii Sports Resort      Wii           2009.0        Sports   \n",
       "4   Pokemon Red/Pokemon Blue       GB           1996.0  Role-Playing   \n",
       "5                     Tetris       GB           1989.0        Puzzle   \n",
       "6      New Super Mario Bros.       DS           2006.0      Platform   \n",
       "7                   Wii Play      Wii           2006.0          Misc   \n",
       "8  New Super Mario Bros. Wii      Wii           2009.0      Platform   \n",
       "9                  Duck Hunt      NES           1984.0       Shooter   \n",
       "\n",
       "   NA_sales  EU_sales  JP_sales  Other_sales  Critic_Score User_Score Rating  \n",
       "0     41.36     28.96      3.77         8.45          76.0          8      E  \n",
       "1     29.08      3.58      6.81         0.77           NaN        NaN    NaN  \n",
       "2     15.68     12.76      3.79         3.29          82.0        8.3      E  \n",
       "3     15.61     10.93      3.28         2.95          80.0          8      E  \n",
       "4     11.27      8.89     10.22         1.00           NaN        NaN    NaN  \n",
       "5     23.20      2.26      4.22         0.58           NaN        NaN    NaN  \n",
       "6     11.28      9.14      6.50         2.88          89.0        8.5      E  \n",
       "7     13.96      9.18      2.93         2.84          58.0        6.6      E  \n",
       "8     14.44      6.94      4.70         2.24          87.0        8.4      E  \n",
       "9     26.93      0.63      0.28         0.47           NaN        NaN    NaN  "
      ]
     },
     "execution_count": 4,
     "metadata": {},
     "output_type": "execute_result"
    }
   ],
   "source": [
    "data.head(10)"
   ]
  },
  {
   "cell_type": "markdown",
   "id": "57ab7dbe-a6c1-40f0-b601-faaf0db119e3",
   "metadata": {},
   "source": [
    "Типом данных столбца `Year_of_Release` является `float`, тогда как правильно было бы указать `int`, так как значение года не дробное. \\\n",
    "А так же тип данных столбца `User_Score` является `object` из-за наличия в столбце аббревиатуры `tbd`, то есть - `To Be Determined`, что переводится как - \"Будет определено\". В нашем случае `tbd` это такие же пропуски в данных, что и `NaN`. \\\n",
    "Замечу, что в столбце `Critic_Score` критики выставляют всегда целую оценку, тип данных этого столбца так же подлежит замене.\\\n",
    "Возможно в остальных столбцах пропущенные данные так же относятся к `tbd` и на момент выгрузки нашего датафрейма - не все игры получили свою оценку и рейтинг. \\\n",
    "Этим мы займемся на этапе предобработки данных. "
   ]
  },
  {
   "cell_type": "markdown",
   "id": "6e3bfda6-edbb-4e4f-9233-f23d247c3bf2",
   "metadata": {},
   "source": [
    "### Вывод:\n",
    "В предоставленном нам датафрейме имеется **11** колонок и **16 715** строк, для корректного исследования необходимо обработать данные, а именно:\n",
    "- привести названия столбцов к нижнему регистру;\n",
    "- проверить датафрейм на явные/неявные дубликаты;\n",
    "- разобраться с пропущенными значениями в столбцах;\n",
    "- преобразовать данные в нужные типы."
   ]
  },
  {
   "cell_type": "markdown",
   "id": "f9d14168-1f80-4b59-9509-82a3b173ea82",
   "metadata": {},
   "source": [
    "## Шаг 2. Предобработка данных"
   ]
  },
  {
   "cell_type": "markdown",
   "id": "47e209fe-0cec-408a-b82d-882bb0de2131",
   "metadata": {},
   "source": [
    "### 2.1 Приведем названия столбцов к нижнему регистру. "
   ]
  },
  {
   "cell_type": "code",
   "execution_count": 5,
   "id": "4e10f757-242e-4839-b84d-bae3e5a063ea",
   "metadata": {},
   "outputs": [],
   "source": [
    "data.columns = data.columns.str.lower()"
   ]
  },
  {
   "cell_type": "code",
   "execution_count": 6,
   "id": "4838bc68-e138-4107-925e-21b719471e92",
   "metadata": {},
   "outputs": [
    {
     "data": {
      "text/plain": [
       "Index(['name', 'platform', 'year_of_release', 'genre', 'na_sales', 'eu_sales',\n",
       "       'jp_sales', 'other_sales', 'critic_score', 'user_score', 'rating'],\n",
       "      dtype='object')"
      ]
     },
     "execution_count": 6,
     "metadata": {},
     "output_type": "execute_result"
    }
   ],
   "source": [
    "# проверим результат: \n",
    "data.columns"
   ]
  },
  {
   "cell_type": "markdown",
   "id": "1bca2041-a46e-4ea2-9756-4e2ad6571797",
   "metadata": {},
   "source": [
    "### 2.2 Проверим датафрейм на явные/неявные дубликаты:"
   ]
  },
  {
   "cell_type": "code",
   "execution_count": 7,
   "id": "916d9f63-6ab5-4df1-9979-d5e6955fa8f8",
   "metadata": {},
   "outputs": [
    {
     "data": {
      "text/plain": [
       "0"
      ]
     },
     "execution_count": 7,
     "metadata": {},
     "output_type": "execute_result"
    }
   ],
   "source": [
    "data.duplicated().sum() # суммируем количество явных дубликатов"
   ]
  },
  {
   "cell_type": "markdown",
   "id": "f113a89b-f163-4927-9389-3e40089e5624",
   "metadata": {},
   "source": [
    "Явные дубликаты в наших данных не обнаружены. "
   ]
  },
  {
   "cell_type": "markdown",
   "id": "dfa0a433-b892-4243-a26e-9000d016f55a",
   "metadata": {},
   "source": [
    "- В столбцах `rating`, `genre`, `platform`, `name` могут встречаться неявные дубликаты, проверим эти столбцы:"
   ]
  },
  {
   "cell_type": "code",
   "execution_count": 8,
   "id": "563ff47b-2f06-4d96-8b19-3464f5584c58",
   "metadata": {},
   "outputs": [
    {
     "data": {
      "text/plain": [
       "array(['AO', 'E', 'E10+', 'EC', 'K-A', 'M', 'RP', 'T', nan], dtype=object)"
      ]
     },
     "execution_count": 8,
     "metadata": {},
     "output_type": "execute_result"
    }
   ],
   "source": [
    "data['rating'].sort_values().unique()"
   ]
  },
  {
   "cell_type": "markdown",
   "id": "3fe6bfd3-ca4e-4876-b2b3-31634ee85e0a",
   "metadata": {},
   "source": [
    "В столбце `rating` неявные дубликаты не обнаружены. "
   ]
  },
  {
   "cell_type": "code",
   "execution_count": 9,
   "id": "d48d85c3-30a6-472c-8efa-9e858c3f3922",
   "metadata": {},
   "outputs": [
    {
     "data": {
      "text/plain": [
       "array(['Action', 'Adventure', 'Fighting', 'Misc', 'Platform', 'Puzzle',\n",
       "       'Racing', 'Role-Playing', 'Shooter', 'Simulation', 'Sports',\n",
       "       'Strategy', nan], dtype=object)"
      ]
     },
     "execution_count": 9,
     "metadata": {},
     "output_type": "execute_result"
    }
   ],
   "source": [
    "data['genre'].sort_values().unique()"
   ]
  },
  {
   "cell_type": "markdown",
   "id": "651f473a-dab4-44df-97a3-151565f0cd83",
   "metadata": {},
   "source": [
    "В столбце `genre` неявные дубликаты не обнаружены. "
   ]
  },
  {
   "cell_type": "code",
   "execution_count": 10,
   "id": "7826a0fa-bdd2-4955-acee-4bc2d6a0c9be",
   "metadata": {},
   "outputs": [
    {
     "data": {
      "text/plain": [
       "array(['2600', '3DO', '3DS', 'DC', 'DS', 'GB', 'GBA', 'GC', 'GEN', 'GG',\n",
       "       'N64', 'NES', 'NG', 'PC', 'PCFX', 'PS', 'PS2', 'PS3', 'PS4', 'PSP',\n",
       "       'PSV', 'SAT', 'SCD', 'SNES', 'TG16', 'WS', 'Wii', 'WiiU', 'X360',\n",
       "       'XB', 'XOne'], dtype=object)"
      ]
     },
     "execution_count": 10,
     "metadata": {},
     "output_type": "execute_result"
    }
   ],
   "source": [
    "data['platform'].sort_values().unique()"
   ]
  },
  {
   "cell_type": "markdown",
   "id": "137cbfde-dde3-4163-8dc1-7dbba85833ba",
   "metadata": {},
   "source": [
    "В столбце `platform` неявные дубликаты не обнаружены. "
   ]
  },
  {
   "cell_type": "code",
   "execution_count": 11,
   "id": "3eb00d67-7858-4e21-9f69-6132ee6c1b73",
   "metadata": {},
   "outputs": [
    {
     "data": {
      "text/plain": [
       "11560"
      ]
     },
     "execution_count": 11,
     "metadata": {},
     "output_type": "execute_result"
    }
   ],
   "source": [
    "len(data['name'].unique()) # посчитаем количество игр в нашей таблице"
   ]
  },
  {
   "cell_type": "markdown",
   "id": "d10ecf15-fe4f-44cd-91d9-9b88e002da44",
   "metadata": {},
   "source": [
    "**11 560** игр - немаленькое количество. "
   ]
  },
  {
   "cell_type": "code",
   "execution_count": 12,
   "id": "fc8340ac-845c-41f2-9fc2-40ef27fe5163",
   "metadata": {},
   "outputs": [
    {
     "data": {
      "text/plain": [
       "array([' Beyblade Burst', ' Fire Emblem Fates', \" Frozen: Olaf's Quest\",\n",
       "       ..., 'wwe Smackdown vs. Raw 2006', '¡Shin Chan Flipa en colores!',\n",
       "       nan], dtype=object)"
      ]
     },
     "execution_count": 12,
     "metadata": {},
     "output_type": "execute_result"
    }
   ],
   "source": [
    "data['name'].sort_values().unique()"
   ]
  },
  {
   "cell_type": "markdown",
   "id": "d7e98e90-f0e2-4a3b-9da4-8d4efcd8ae0f",
   "metadata": {},
   "source": [
    "При просмотре уникальных значений столбца `name` хочу обратить внимание, что встречаются названия, перед которыми стоит пробел, предлагаю удалить лишние пробелы перед и после названий игр."
   ]
  },
  {
   "cell_type": "code",
   "execution_count": 13,
   "id": "fe883b69-799b-4f08-8581-cf6cea5cec2e",
   "metadata": {},
   "outputs": [],
   "source": [
    "data['name'] = data['name'].str.strip() # используем функцию str.strip()"
   ]
  },
  {
   "cell_type": "markdown",
   "id": "15a56c9f-9018-43dc-8995-4b4c71123fe2",
   "metadata": {},
   "source": [
    "Понимаю, что использование \"визуального\" поиска неявных дубликатов имеет очень маленький КПД на больших объемах данных, но всё же я в процессе поиска установил параметры `pd.set_option('display.max_columns', None)` и `pd.set_option('display.max_rows', None)`. "
   ]
  },
  {
   "cell_type": "code",
   "execution_count": 14,
   "id": "3363c58b-030a-49bf-8fa2-37b0d2fd0241",
   "metadata": {},
   "outputs": [
    {
     "data": {
      "text/plain": [
       "9134     ¡Shin Chan Flipa en colores!\n",
       "475        wwe Smackdown vs. Raw 2006\n",
       "15612    uDraw Studio: Instant Artist\n",
       "8280     uDraw Studio: Instant Artist\n",
       "645                      uDraw Studio\n",
       "                     ...             \n",
       "7087     .hack//G.U. Vol.2//Reminisce\n",
       "8342       .hack//G.U. Vol.1//Rebirth\n",
       "4728                      '98 Koshien\n",
       "659                               NaN\n",
       "14244                             NaN\n",
       "Name: name, Length: 16715, dtype: object"
      ]
     },
     "execution_count": 14,
     "metadata": {},
     "output_type": "execute_result"
    }
   ],
   "source": [
    "data['name'].sort_values(ascending = False)"
   ]
  },
  {
   "cell_type": "markdown",
   "id": "82b1e1f8-7ae9-4056-94dd-2c8d600edd33",
   "metadata": {},
   "source": [
    "И, пролистав глазами все названия игр, могу сказать, что неявных дубликатов в столбце `name` обнаружено небыло. "
   ]
  },
  {
   "cell_type": "markdown",
   "id": "00c6fbdb-1708-47bc-8658-6b46b2513954",
   "metadata": {},
   "source": [
    "### 2.3 Обработаем пропущенные значения в столбцах:"
   ]
  },
  {
   "cell_type": "code",
   "execution_count": 15,
   "id": "9569380c-5400-45d1-86c8-c690c65cc8af",
   "metadata": {},
   "outputs": [
    {
     "data": {
      "text/plain": [
       "name                  2\n",
       "platform              0\n",
       "year_of_release     269\n",
       "genre                 2\n",
       "na_sales              0\n",
       "eu_sales              0\n",
       "jp_sales              0\n",
       "other_sales           0\n",
       "critic_score       8578\n",
       "user_score         6701\n",
       "rating             6766\n",
       "dtype: int64"
      ]
     },
     "execution_count": 15,
     "metadata": {},
     "output_type": "execute_result"
    }
   ],
   "source": [
    "data.isna().sum() # воспользуемся функцией .isna() и просуммируем пропущенные значения по каждому столбцу "
   ]
  },
  {
   "cell_type": "markdown",
   "id": "c244efc0-4501-4e9e-b4d0-4ddd0ea1d621",
   "metadata": {},
   "source": [
    "- В столбцах `name` и `genre` присутствует по **2** пропущенных значения, что составляет **0,01 %** от общего количества строк - удаляем эти строки. "
   ]
  },
  {
   "cell_type": "code",
   "execution_count": 16,
   "id": "b8483dbe-7b2c-4e8a-a60f-9fb0965e6e60",
   "metadata": {},
   "outputs": [],
   "source": [
    "data.dropna(subset = ['name'], inplace = True)\n",
    "data.dropna(subset = ['genre'], inplace = True)"
   ]
  },
  {
   "cell_type": "markdown",
   "id": "328fff33-a6ca-4936-a085-1ae0b6c2fbdc",
   "metadata": {},
   "source": [
    "- В столбце `year_of_release` имеется **269** пропущенных значений, что составляет **1,6 %** от общего количества строк - посмотрим на эти строки:"
   ]
  },
  {
   "cell_type": "code",
   "execution_count": 17,
   "id": "4db8932c-b8eb-4b79-89e4-ef437acdb2c1",
   "metadata": {},
   "outputs": [
    {
     "data": {
      "text/html": [
       "<div>\n",
       "<style scoped>\n",
       "    .dataframe tbody tr th:only-of-type {\n",
       "        vertical-align: middle;\n",
       "    }\n",
       "\n",
       "    .dataframe tbody tr th {\n",
       "        vertical-align: top;\n",
       "    }\n",
       "\n",
       "    .dataframe thead th {\n",
       "        text-align: right;\n",
       "    }\n",
       "</style>\n",
       "<table border=\"1\" class=\"dataframe\">\n",
       "  <thead>\n",
       "    <tr style=\"text-align: right;\">\n",
       "      <th></th>\n",
       "      <th>name</th>\n",
       "      <th>platform</th>\n",
       "      <th>year_of_release</th>\n",
       "      <th>genre</th>\n",
       "      <th>na_sales</th>\n",
       "      <th>eu_sales</th>\n",
       "      <th>jp_sales</th>\n",
       "      <th>other_sales</th>\n",
       "      <th>critic_score</th>\n",
       "      <th>user_score</th>\n",
       "      <th>rating</th>\n",
       "    </tr>\n",
       "  </thead>\n",
       "  <tbody>\n",
       "    <tr>\n",
       "      <th>183</th>\n",
       "      <td>Madden NFL 2004</td>\n",
       "      <td>PS2</td>\n",
       "      <td>NaN</td>\n",
       "      <td>Sports</td>\n",
       "      <td>4.26</td>\n",
       "      <td>0.26</td>\n",
       "      <td>0.01</td>\n",
       "      <td>0.71</td>\n",
       "      <td>94.0</td>\n",
       "      <td>8.5</td>\n",
       "      <td>E</td>\n",
       "    </tr>\n",
       "    <tr>\n",
       "      <th>377</th>\n",
       "      <td>FIFA Soccer 2004</td>\n",
       "      <td>PS2</td>\n",
       "      <td>NaN</td>\n",
       "      <td>Sports</td>\n",
       "      <td>0.59</td>\n",
       "      <td>2.36</td>\n",
       "      <td>0.04</td>\n",
       "      <td>0.51</td>\n",
       "      <td>84.0</td>\n",
       "      <td>6.4</td>\n",
       "      <td>E</td>\n",
       "    </tr>\n",
       "    <tr>\n",
       "      <th>456</th>\n",
       "      <td>LEGO Batman: The Videogame</td>\n",
       "      <td>Wii</td>\n",
       "      <td>NaN</td>\n",
       "      <td>Action</td>\n",
       "      <td>1.80</td>\n",
       "      <td>0.97</td>\n",
       "      <td>0.00</td>\n",
       "      <td>0.29</td>\n",
       "      <td>74.0</td>\n",
       "      <td>7.9</td>\n",
       "      <td>E10+</td>\n",
       "    </tr>\n",
       "    <tr>\n",
       "      <th>475</th>\n",
       "      <td>wwe Smackdown vs. Raw 2006</td>\n",
       "      <td>PS2</td>\n",
       "      <td>NaN</td>\n",
       "      <td>Fighting</td>\n",
       "      <td>1.57</td>\n",
       "      <td>1.02</td>\n",
       "      <td>0.00</td>\n",
       "      <td>0.41</td>\n",
       "      <td>NaN</td>\n",
       "      <td>NaN</td>\n",
       "      <td>NaN</td>\n",
       "    </tr>\n",
       "    <tr>\n",
       "      <th>609</th>\n",
       "      <td>Space Invaders</td>\n",
       "      <td>2600</td>\n",
       "      <td>NaN</td>\n",
       "      <td>Shooter</td>\n",
       "      <td>2.36</td>\n",
       "      <td>0.14</td>\n",
       "      <td>0.00</td>\n",
       "      <td>0.03</td>\n",
       "      <td>NaN</td>\n",
       "      <td>NaN</td>\n",
       "      <td>NaN</td>\n",
       "    </tr>\n",
       "    <tr>\n",
       "      <th>...</th>\n",
       "      <td>...</td>\n",
       "      <td>...</td>\n",
       "      <td>...</td>\n",
       "      <td>...</td>\n",
       "      <td>...</td>\n",
       "      <td>...</td>\n",
       "      <td>...</td>\n",
       "      <td>...</td>\n",
       "      <td>...</td>\n",
       "      <td>...</td>\n",
       "      <td>...</td>\n",
       "    </tr>\n",
       "    <tr>\n",
       "      <th>16373</th>\n",
       "      <td>PDC World Championship Darts 2008</td>\n",
       "      <td>PSP</td>\n",
       "      <td>NaN</td>\n",
       "      <td>Sports</td>\n",
       "      <td>0.01</td>\n",
       "      <td>0.00</td>\n",
       "      <td>0.00</td>\n",
       "      <td>0.00</td>\n",
       "      <td>43.0</td>\n",
       "      <td>tbd</td>\n",
       "      <td>E10+</td>\n",
       "    </tr>\n",
       "    <tr>\n",
       "      <th>16405</th>\n",
       "      <td>Freaky Flyers</td>\n",
       "      <td>GC</td>\n",
       "      <td>NaN</td>\n",
       "      <td>Racing</td>\n",
       "      <td>0.01</td>\n",
       "      <td>0.00</td>\n",
       "      <td>0.00</td>\n",
       "      <td>0.00</td>\n",
       "      <td>69.0</td>\n",
       "      <td>6.5</td>\n",
       "      <td>T</td>\n",
       "    </tr>\n",
       "    <tr>\n",
       "      <th>16448</th>\n",
       "      <td>Inversion</td>\n",
       "      <td>PC</td>\n",
       "      <td>NaN</td>\n",
       "      <td>Shooter</td>\n",
       "      <td>0.01</td>\n",
       "      <td>0.00</td>\n",
       "      <td>0.00</td>\n",
       "      <td>0.00</td>\n",
       "      <td>59.0</td>\n",
       "      <td>6.7</td>\n",
       "      <td>M</td>\n",
       "    </tr>\n",
       "    <tr>\n",
       "      <th>16458</th>\n",
       "      <td>Hakuouki: Shinsengumi Kitan</td>\n",
       "      <td>PS3</td>\n",
       "      <td>NaN</td>\n",
       "      <td>Adventure</td>\n",
       "      <td>0.01</td>\n",
       "      <td>0.00</td>\n",
       "      <td>0.00</td>\n",
       "      <td>0.00</td>\n",
       "      <td>NaN</td>\n",
       "      <td>NaN</td>\n",
       "      <td>NaN</td>\n",
       "    </tr>\n",
       "    <tr>\n",
       "      <th>16522</th>\n",
       "      <td>Virtua Quest</td>\n",
       "      <td>GC</td>\n",
       "      <td>NaN</td>\n",
       "      <td>Role-Playing</td>\n",
       "      <td>0.01</td>\n",
       "      <td>0.00</td>\n",
       "      <td>0.00</td>\n",
       "      <td>0.00</td>\n",
       "      <td>55.0</td>\n",
       "      <td>5.5</td>\n",
       "      <td>T</td>\n",
       "    </tr>\n",
       "  </tbody>\n",
       "</table>\n",
       "<p>269 rows × 11 columns</p>\n",
       "</div>"
      ],
      "text/plain": [
       "                                    name platform  year_of_release  \\\n",
       "183                      Madden NFL 2004      PS2              NaN   \n",
       "377                     FIFA Soccer 2004      PS2              NaN   \n",
       "456           LEGO Batman: The Videogame      Wii              NaN   \n",
       "475           wwe Smackdown vs. Raw 2006      PS2              NaN   \n",
       "609                       Space Invaders     2600              NaN   \n",
       "...                                  ...      ...              ...   \n",
       "16373  PDC World Championship Darts 2008      PSP              NaN   \n",
       "16405                      Freaky Flyers       GC              NaN   \n",
       "16448                          Inversion       PC              NaN   \n",
       "16458        Hakuouki: Shinsengumi Kitan      PS3              NaN   \n",
       "16522                       Virtua Quest       GC              NaN   \n",
       "\n",
       "              genre  na_sales  eu_sales  jp_sales  other_sales  critic_score  \\\n",
       "183          Sports      4.26      0.26      0.01         0.71          94.0   \n",
       "377          Sports      0.59      2.36      0.04         0.51          84.0   \n",
       "456          Action      1.80      0.97      0.00         0.29          74.0   \n",
       "475        Fighting      1.57      1.02      0.00         0.41           NaN   \n",
       "609         Shooter      2.36      0.14      0.00         0.03           NaN   \n",
       "...             ...       ...       ...       ...          ...           ...   \n",
       "16373        Sports      0.01      0.00      0.00         0.00          43.0   \n",
       "16405        Racing      0.01      0.00      0.00         0.00          69.0   \n",
       "16448       Shooter      0.01      0.00      0.00         0.00          59.0   \n",
       "16458     Adventure      0.01      0.00      0.00         0.00           NaN   \n",
       "16522  Role-Playing      0.01      0.00      0.00         0.00          55.0   \n",
       "\n",
       "      user_score rating  \n",
       "183          8.5      E  \n",
       "377          6.4      E  \n",
       "456          7.9   E10+  \n",
       "475          NaN    NaN  \n",
       "609          NaN    NaN  \n",
       "...          ...    ...  \n",
       "16373        tbd   E10+  \n",
       "16405        6.5      T  \n",
       "16448        6.7      M  \n",
       "16458        NaN    NaN  \n",
       "16522        5.5      T  \n",
       "\n",
       "[269 rows x 11 columns]"
      ]
     },
     "execution_count": 17,
     "metadata": {},
     "output_type": "execute_result"
    }
   ],
   "source": [
    "data.query('year_of_release.isna()') # используем метод получения срезов .query()"
   ]
  },
  {
   "cell_type": "markdown",
   "id": "56796266-a5b8-4fdd-badb-740e6a65d319",
   "metadata": {},
   "source": [
    "Хотя в названиях некоторых игр присутствует значение года - мы не можем достоверно утверждать, что игра вышла в соответствии с годом в её названии, т.к. игры на разных платформах выходят в разное время. \\\n",
    "Как пример - игра `Madden NFL 2004`вышла 12 августа **2003** года. \\\n",
    "Поэтому на цифры в названиях мы не будем акцентировать внимание и пропущенные значения в столбце `year_of_release` удаляем:"
   ]
  },
  {
   "cell_type": "code",
   "execution_count": 18,
   "id": "f2088876-cdbd-45fb-8e96-3be9d678cba2",
   "metadata": {},
   "outputs": [],
   "source": [
    "data.dropna(subset = ['year_of_release'], inplace = True)"
   ]
  },
  {
   "cell_type": "markdown",
   "id": "0adf87c8-dacd-4367-b572-3f57deb28fa9",
   "metadata": {},
   "source": [
    "- В столбце `critic_score` имеется **8578** пропущенных значений, что составляет **51,3 %** от общего количества строк - посмотрим на эти строки:"
   ]
  },
  {
   "cell_type": "code",
   "execution_count": 19,
   "id": "a5ee4c94-1a5a-4760-9527-884ac45d810d",
   "metadata": {},
   "outputs": [
    {
     "data": {
      "text/html": [
       "<div>\n",
       "<style scoped>\n",
       "    .dataframe tbody tr th:only-of-type {\n",
       "        vertical-align: middle;\n",
       "    }\n",
       "\n",
       "    .dataframe tbody tr th {\n",
       "        vertical-align: top;\n",
       "    }\n",
       "\n",
       "    .dataframe thead th {\n",
       "        text-align: right;\n",
       "    }\n",
       "</style>\n",
       "<table border=\"1\" class=\"dataframe\">\n",
       "  <thead>\n",
       "    <tr style=\"text-align: right;\">\n",
       "      <th></th>\n",
       "      <th>name</th>\n",
       "      <th>platform</th>\n",
       "      <th>year_of_release</th>\n",
       "      <th>genre</th>\n",
       "      <th>na_sales</th>\n",
       "      <th>eu_sales</th>\n",
       "      <th>jp_sales</th>\n",
       "      <th>other_sales</th>\n",
       "      <th>critic_score</th>\n",
       "      <th>user_score</th>\n",
       "      <th>rating</th>\n",
       "    </tr>\n",
       "  </thead>\n",
       "  <tbody>\n",
       "    <tr>\n",
       "      <th>1</th>\n",
       "      <td>Super Mario Bros.</td>\n",
       "      <td>NES</td>\n",
       "      <td>1985.0</td>\n",
       "      <td>Platform</td>\n",
       "      <td>29.08</td>\n",
       "      <td>3.58</td>\n",
       "      <td>6.81</td>\n",
       "      <td>0.77</td>\n",
       "      <td>NaN</td>\n",
       "      <td>NaN</td>\n",
       "      <td>NaN</td>\n",
       "    </tr>\n",
       "    <tr>\n",
       "      <th>4</th>\n",
       "      <td>Pokemon Red/Pokemon Blue</td>\n",
       "      <td>GB</td>\n",
       "      <td>1996.0</td>\n",
       "      <td>Role-Playing</td>\n",
       "      <td>11.27</td>\n",
       "      <td>8.89</td>\n",
       "      <td>10.22</td>\n",
       "      <td>1.00</td>\n",
       "      <td>NaN</td>\n",
       "      <td>NaN</td>\n",
       "      <td>NaN</td>\n",
       "    </tr>\n",
       "    <tr>\n",
       "      <th>5</th>\n",
       "      <td>Tetris</td>\n",
       "      <td>GB</td>\n",
       "      <td>1989.0</td>\n",
       "      <td>Puzzle</td>\n",
       "      <td>23.20</td>\n",
       "      <td>2.26</td>\n",
       "      <td>4.22</td>\n",
       "      <td>0.58</td>\n",
       "      <td>NaN</td>\n",
       "      <td>NaN</td>\n",
       "      <td>NaN</td>\n",
       "    </tr>\n",
       "    <tr>\n",
       "      <th>9</th>\n",
       "      <td>Duck Hunt</td>\n",
       "      <td>NES</td>\n",
       "      <td>1984.0</td>\n",
       "      <td>Shooter</td>\n",
       "      <td>26.93</td>\n",
       "      <td>0.63</td>\n",
       "      <td>0.28</td>\n",
       "      <td>0.47</td>\n",
       "      <td>NaN</td>\n",
       "      <td>NaN</td>\n",
       "      <td>NaN</td>\n",
       "    </tr>\n",
       "    <tr>\n",
       "      <th>10</th>\n",
       "      <td>Nintendogs</td>\n",
       "      <td>DS</td>\n",
       "      <td>2005.0</td>\n",
       "      <td>Simulation</td>\n",
       "      <td>9.05</td>\n",
       "      <td>10.95</td>\n",
       "      <td>1.93</td>\n",
       "      <td>2.74</td>\n",
       "      <td>NaN</td>\n",
       "      <td>NaN</td>\n",
       "      <td>NaN</td>\n",
       "    </tr>\n",
       "    <tr>\n",
       "      <th>...</th>\n",
       "      <td>...</td>\n",
       "      <td>...</td>\n",
       "      <td>...</td>\n",
       "      <td>...</td>\n",
       "      <td>...</td>\n",
       "      <td>...</td>\n",
       "      <td>...</td>\n",
       "      <td>...</td>\n",
       "      <td>...</td>\n",
       "      <td>...</td>\n",
       "      <td>...</td>\n",
       "    </tr>\n",
       "    <tr>\n",
       "      <th>16710</th>\n",
       "      <td>Samurai Warriors: Sanada Maru</td>\n",
       "      <td>PS3</td>\n",
       "      <td>2016.0</td>\n",
       "      <td>Action</td>\n",
       "      <td>0.00</td>\n",
       "      <td>0.00</td>\n",
       "      <td>0.01</td>\n",
       "      <td>0.00</td>\n",
       "      <td>NaN</td>\n",
       "      <td>NaN</td>\n",
       "      <td>NaN</td>\n",
       "    </tr>\n",
       "    <tr>\n",
       "      <th>16711</th>\n",
       "      <td>LMA Manager 2007</td>\n",
       "      <td>X360</td>\n",
       "      <td>2006.0</td>\n",
       "      <td>Sports</td>\n",
       "      <td>0.00</td>\n",
       "      <td>0.01</td>\n",
       "      <td>0.00</td>\n",
       "      <td>0.00</td>\n",
       "      <td>NaN</td>\n",
       "      <td>NaN</td>\n",
       "      <td>NaN</td>\n",
       "    </tr>\n",
       "    <tr>\n",
       "      <th>16712</th>\n",
       "      <td>Haitaka no Psychedelica</td>\n",
       "      <td>PSV</td>\n",
       "      <td>2016.0</td>\n",
       "      <td>Adventure</td>\n",
       "      <td>0.00</td>\n",
       "      <td>0.00</td>\n",
       "      <td>0.01</td>\n",
       "      <td>0.00</td>\n",
       "      <td>NaN</td>\n",
       "      <td>NaN</td>\n",
       "      <td>NaN</td>\n",
       "    </tr>\n",
       "    <tr>\n",
       "      <th>16713</th>\n",
       "      <td>Spirits &amp; Spells</td>\n",
       "      <td>GBA</td>\n",
       "      <td>2003.0</td>\n",
       "      <td>Platform</td>\n",
       "      <td>0.01</td>\n",
       "      <td>0.00</td>\n",
       "      <td>0.00</td>\n",
       "      <td>0.00</td>\n",
       "      <td>NaN</td>\n",
       "      <td>NaN</td>\n",
       "      <td>NaN</td>\n",
       "    </tr>\n",
       "    <tr>\n",
       "      <th>16714</th>\n",
       "      <td>Winning Post 8 2016</td>\n",
       "      <td>PSV</td>\n",
       "      <td>2016.0</td>\n",
       "      <td>Simulation</td>\n",
       "      <td>0.00</td>\n",
       "      <td>0.00</td>\n",
       "      <td>0.01</td>\n",
       "      <td>0.00</td>\n",
       "      <td>NaN</td>\n",
       "      <td>NaN</td>\n",
       "      <td>NaN</td>\n",
       "    </tr>\n",
       "  </tbody>\n",
       "</table>\n",
       "<p>8461 rows × 11 columns</p>\n",
       "</div>"
      ],
      "text/plain": [
       "                                name platform  year_of_release         genre  \\\n",
       "1                  Super Mario Bros.      NES           1985.0      Platform   \n",
       "4           Pokemon Red/Pokemon Blue       GB           1996.0  Role-Playing   \n",
       "5                             Tetris       GB           1989.0        Puzzle   \n",
       "9                          Duck Hunt      NES           1984.0       Shooter   \n",
       "10                        Nintendogs       DS           2005.0    Simulation   \n",
       "...                              ...      ...              ...           ...   \n",
       "16710  Samurai Warriors: Sanada Maru      PS3           2016.0        Action   \n",
       "16711               LMA Manager 2007     X360           2006.0        Sports   \n",
       "16712        Haitaka no Psychedelica      PSV           2016.0     Adventure   \n",
       "16713               Spirits & Spells      GBA           2003.0      Platform   \n",
       "16714            Winning Post 8 2016      PSV           2016.0    Simulation   \n",
       "\n",
       "       na_sales  eu_sales  jp_sales  other_sales  critic_score user_score  \\\n",
       "1         29.08      3.58      6.81         0.77           NaN        NaN   \n",
       "4         11.27      8.89     10.22         1.00           NaN        NaN   \n",
       "5         23.20      2.26      4.22         0.58           NaN        NaN   \n",
       "9         26.93      0.63      0.28         0.47           NaN        NaN   \n",
       "10         9.05     10.95      1.93         2.74           NaN        NaN   \n",
       "...         ...       ...       ...          ...           ...        ...   \n",
       "16710      0.00      0.00      0.01         0.00           NaN        NaN   \n",
       "16711      0.00      0.01      0.00         0.00           NaN        NaN   \n",
       "16712      0.00      0.00      0.01         0.00           NaN        NaN   \n",
       "16713      0.01      0.00      0.00         0.00           NaN        NaN   \n",
       "16714      0.00      0.00      0.01         0.00           NaN        NaN   \n",
       "\n",
       "      rating  \n",
       "1        NaN  \n",
       "4        NaN  \n",
       "5        NaN  \n",
       "9        NaN  \n",
       "10       NaN  \n",
       "...      ...  \n",
       "16710    NaN  \n",
       "16711    NaN  \n",
       "16712    NaN  \n",
       "16713    NaN  \n",
       "16714    NaN  \n",
       "\n",
       "[8461 rows x 11 columns]"
      ]
     },
     "execution_count": 19,
     "metadata": {},
     "output_type": "execute_result"
    }
   ],
   "source": [
    "data.query('critic_score.isna()') # используем метод получения срезов .query()"
   ]
  },
  {
   "cell_type": "markdown",
   "id": "8f594b2b-27bb-4d64-9e94-28b6e32bcb38",
   "metadata": {},
   "source": [
    "Не представляю возможным заменить пропуски данных в этом столбце на среднее или медиану, т.к. у нас абсолютно разные игры, выпущенные в разное время, на разных платформах. "
   ]
  },
  {
   "cell_type": "code",
   "execution_count": 20,
   "id": "c7cd7a71-c4e4-4851-84ce-3397f6b21fbd",
   "metadata": {},
   "outputs": [
    {
     "data": {
      "text/plain": [
       "array([13., 17., 19., 20., 21., 23., 24., 25., 26., 27., 28., 29., 30.,\n",
       "       31., 32., 33., 34., 35., 36., 37., 38., 39., 40., 41., 42., 43.,\n",
       "       44., 45., 46., 47., 48., 49., 50., 51., 52., 53., 54., 55., 56.,\n",
       "       57., 58., 59., 60., 61., 62., 63., 64., 65., 66., 67., 68., 69.,\n",
       "       70., 71., 72., 73., 74., 75., 76., 77., 78., 79., 80., 81., 82.,\n",
       "       83., 84., 85., 86., 87., 88., 89., 90., 91., 92., 93., 94., 95.,\n",
       "       96., 97., 98., nan])"
      ]
     },
     "execution_count": 20,
     "metadata": {},
     "output_type": "execute_result"
    }
   ],
   "source": [
    "data['critic_score'].sort_values().unique() # посмотрим, какие оценки выставляют критики:"
   ]
  },
  {
   "cell_type": "markdown",
   "id": "0bd4473e-135e-4f76-adf5-2351e612b3e5",
   "metadata": {},
   "source": [
    "Игры, имеющие оценку от критиков, не получали менее 13 баллов, поэтому пропуски данных можно заменить на 0, чтобы мы видели из общей выборки - какие данные были пропущены. \n",
    "\\\n",
    "Оставим NaN, т.к. при математических операциях NaN заменяет 0, посмотрим что из этого получится далее."
   ]
  },
  {
   "cell_type": "markdown",
   "id": "a19d1be9-4bd9-4698-9af4-6ab2db18a1ce",
   "metadata": {},
   "source": [
    "- В столбце `user_score` имеется **6701** пропущенное значение, что составляет **40,1 %** от общего количества строк.\\\n",
    "А так же 2280 оценок с маркером `tbd`. По аналогии с предыдущим столбцом заменить на медиану или среднее мы не можем, заменим tbd на NaN."
   ]
  },
  {
   "cell_type": "code",
   "execution_count": 21,
   "id": "03a9d07a-52e8-4b25-8ca0-f52ab472c669",
   "metadata": {},
   "outputs": [],
   "source": [
    "data.loc[data['user_score'] == 'tbd', 'user_score'] = np.nan"
   ]
  },
  {
   "cell_type": "markdown",
   "id": "12d28663-9ac7-4676-b59b-cd5bafddadc0",
   "metadata": {},
   "source": [
    "- В столбце `rating` имеется **6766** пропущенное значение, что составляет **40,4 %** от общего количества строк.\\\n",
    "По аналогии с предыдущими столбцами заменить на медиану или среднее мы не можем, предлагаю заменить пропуски значением `unknown`."
   ]
  },
  {
   "cell_type": "code",
   "execution_count": 22,
   "id": "7088143a-2994-420a-8c86-1956fd242533",
   "metadata": {},
   "outputs": [],
   "source": [
    "data['rating'] = data['rating'].fillna('unknown')"
   ]
  },
  {
   "cell_type": "code",
   "execution_count": 23,
   "id": "2a6cfb79-6ef7-4d88-b497-e80f56372683",
   "metadata": {},
   "outputs": [
    {
     "data": {
      "text/plain": [
       "name                  0\n",
       "platform              0\n",
       "year_of_release       0\n",
       "genre                 0\n",
       "na_sales              0\n",
       "eu_sales              0\n",
       "jp_sales              0\n",
       "other_sales           0\n",
       "critic_score       8461\n",
       "user_score         8981\n",
       "rating                0\n",
       "dtype: int64"
      ]
     },
     "execution_count": 23,
     "metadata": {},
     "output_type": "execute_result"
    }
   ],
   "source": [
    "data.isna().sum() # снова проверим наш датафрейм на количество пропущенных значений:"
   ]
  },
  {
   "cell_type": "markdown",
   "id": "380cadd0-87cd-4fd2-9b49-5cc1fee25ed9",
   "metadata": {},
   "source": [
    "- Пропуски в данных отсутствуют, за исключением столбца `critic_score`, обычно мы стараемся заполнить все данные, но ведь это *не всегда обязательно*, правда ?\\\n",
    "*Касательно природы пропусков:*\n",
    "- Сначала я предположил, что пропуски в  столбцах оценки критиков, пользователей и рейтинге относятся к периоду раньше 1994 года, т.к. организация **Entertainment Software Rating Board (ESRB)** занимающаяся выставлением рейтинга была основана в 1994 году, но после детального рассмотрения я увидел, что это не так и пропуски есть во всем периоде до 2016 года, поэтому:\n",
    "- По моему мнению, пропуски в данных могли появиться в следствие технической ошибки при выгрузке/загрузке данных и обработки информации из разных открытых источников, а так же не стоит упускать значение человеческого фактора - могли быть взяты попросту неактуальные источники данных или заведомо неполные."
   ]
  },
  {
   "cell_type": "markdown",
   "id": "07b3e116-67ac-40bd-9fe6-d37d606e6c0b",
   "metadata": {},
   "source": [
    "### 2.4 Преобразуем данные в нужные типы:  "
   ]
  },
  {
   "cell_type": "markdown",
   "id": "a7874b1e-862f-45eb-ae7e-bf0f984a5f6f",
   "metadata": {},
   "source": [
    "Как уже говорилось ранее, приведем значения столбца `year_of_release` к типу `int`."
   ]
  },
  {
   "cell_type": "code",
   "execution_count": 24,
   "id": "ebc26be2-35a2-49c0-be33-96cc55439dec",
   "metadata": {},
   "outputs": [
    {
     "data": {
      "text/plain": [
       "0    2006\n",
       "1    1985\n",
       "2    2008\n",
       "3    2009\n",
       "4    1996\n",
       "Name: year_of_release, dtype: int32"
      ]
     },
     "execution_count": 24,
     "metadata": {},
     "output_type": "execute_result"
    }
   ],
   "source": [
    "data['year_of_release'] = data['year_of_release'].astype(int) # используем функцию .astype()\n",
    "data['year_of_release'].head() # проверим преобразование"
   ]
  },
  {
   "cell_type": "markdown",
   "id": "f953d13a-d5d6-4a94-9346-0592359be9bc",
   "metadata": {},
   "source": [
    "Ранее я отмечал, что в столбце `critic_score` критики выставляют всегда целую оценку, и тип данных этого столбца так же подлежит замене, однако когда я оставил в нем пропуски - тип данных `float` не подлежит изменениям из за `NaN`. "
   ]
  },
  {
   "cell_type": "markdown",
   "id": "36e68dd7-d1fb-4a75-bad9-e2b035cf2629",
   "metadata": {},
   "source": [
    "Так как мы занулили пропуски и `tbd` в столбце `user_score` - можем заменить тип данных на `float`."
   ]
  },
  {
   "cell_type": "code",
   "execution_count": 25,
   "id": "d45b1094-83ea-4e2f-be85-493537a7d049",
   "metadata": {},
   "outputs": [],
   "source": [
    "data['user_score'] = data['user_score'].astype(float)"
   ]
  },
  {
   "cell_type": "code",
   "execution_count": 26,
   "id": "dd2488e8-8383-49aa-9527-4de52cb919df",
   "metadata": {},
   "outputs": [
    {
     "name": "stdout",
     "output_type": "stream",
     "text": [
      "<class 'pandas.core.frame.DataFrame'>\n",
      "Index: 16444 entries, 0 to 16714\n",
      "Data columns (total 11 columns):\n",
      " #   Column           Non-Null Count  Dtype  \n",
      "---  ------           --------------  -----  \n",
      " 0   name             16444 non-null  object \n",
      " 1   platform         16444 non-null  object \n",
      " 2   year_of_release  16444 non-null  int32  \n",
      " 3   genre            16444 non-null  object \n",
      " 4   na_sales         16444 non-null  float64\n",
      " 5   eu_sales         16444 non-null  float64\n",
      " 6   jp_sales         16444 non-null  float64\n",
      " 7   other_sales      16444 non-null  float64\n",
      " 8   critic_score     7983 non-null   float64\n",
      " 9   user_score       7463 non-null   float64\n",
      " 10  rating           16444 non-null  object \n",
      "dtypes: float64(6), int32(1), object(4)\n",
      "memory usage: 1.4+ MB\n"
     ]
    }
   ],
   "source": [
    "data.info() # ещё раз взгляним на общую информацию по таблице:"
   ]
  },
  {
   "cell_type": "markdown",
   "id": "2d21e5f6-2551-4d16-8cd2-f926de11d7af",
   "metadata": {},
   "source": [
    "- Получили датафрейм на **16 444** строки, типы данных корректные. "
   ]
  },
  {
   "cell_type": "markdown",
   "id": "016df708-e27f-42be-a656-c86556bbe14c",
   "metadata": {},
   "source": [
    "### 2.5 Добавим столбец с суммарными продажами по всем регионам:  "
   ]
  },
  {
   "cell_type": "code",
   "execution_count": 27,
   "id": "cd6f8831-aa78-4107-be57-d336d6f1195a",
   "metadata": {},
   "outputs": [
    {
     "data": {
      "text/html": [
       "<div>\n",
       "<style scoped>\n",
       "    .dataframe tbody tr th:only-of-type {\n",
       "        vertical-align: middle;\n",
       "    }\n",
       "\n",
       "    .dataframe tbody tr th {\n",
       "        vertical-align: top;\n",
       "    }\n",
       "\n",
       "    .dataframe thead th {\n",
       "        text-align: right;\n",
       "    }\n",
       "</style>\n",
       "<table border=\"1\" class=\"dataframe\">\n",
       "  <thead>\n",
       "    <tr style=\"text-align: right;\">\n",
       "      <th></th>\n",
       "      <th>name</th>\n",
       "      <th>platform</th>\n",
       "      <th>year_of_release</th>\n",
       "      <th>genre</th>\n",
       "      <th>na_sales</th>\n",
       "      <th>eu_sales</th>\n",
       "      <th>jp_sales</th>\n",
       "      <th>other_sales</th>\n",
       "      <th>critic_score</th>\n",
       "      <th>user_score</th>\n",
       "      <th>rating</th>\n",
       "      <th>total_sales</th>\n",
       "    </tr>\n",
       "  </thead>\n",
       "  <tbody>\n",
       "    <tr>\n",
       "      <th>10567</th>\n",
       "      <td>Scribblenauts Unmasked: A DC Comics Adventure</td>\n",
       "      <td>WiiU</td>\n",
       "      <td>2013</td>\n",
       "      <td>Puzzle</td>\n",
       "      <td>0.09</td>\n",
       "      <td>0.00</td>\n",
       "      <td>0.0</td>\n",
       "      <td>0.01</td>\n",
       "      <td>71.0</td>\n",
       "      <td>6.3</td>\n",
       "      <td>E10+</td>\n",
       "      <td>0.10</td>\n",
       "    </tr>\n",
       "    <tr>\n",
       "      <th>13049</th>\n",
       "      <td>Cities in Motion</td>\n",
       "      <td>PC</td>\n",
       "      <td>2011</td>\n",
       "      <td>Simulation</td>\n",
       "      <td>0.00</td>\n",
       "      <td>0.04</td>\n",
       "      <td>0.0</td>\n",
       "      <td>0.01</td>\n",
       "      <td>70.0</td>\n",
       "      <td>7.7</td>\n",
       "      <td>E</td>\n",
       "      <td>0.05</td>\n",
       "    </tr>\n",
       "    <tr>\n",
       "      <th>10550</th>\n",
       "      <td>Heavy Fire: Afghanistan</td>\n",
       "      <td>Wii</td>\n",
       "      <td>2011</td>\n",
       "      <td>Shooter</td>\n",
       "      <td>0.09</td>\n",
       "      <td>0.00</td>\n",
       "      <td>0.0</td>\n",
       "      <td>0.01</td>\n",
       "      <td>NaN</td>\n",
       "      <td>NaN</td>\n",
       "      <td>T</td>\n",
       "      <td>0.10</td>\n",
       "    </tr>\n",
       "    <tr>\n",
       "      <th>540</th>\n",
       "      <td>The Sims</td>\n",
       "      <td>PS2</td>\n",
       "      <td>2003</td>\n",
       "      <td>Simulation</td>\n",
       "      <td>1.41</td>\n",
       "      <td>1.12</td>\n",
       "      <td>0.0</td>\n",
       "      <td>0.24</td>\n",
       "      <td>83.0</td>\n",
       "      <td>7.7</td>\n",
       "      <td>T</td>\n",
       "      <td>2.77</td>\n",
       "    </tr>\n",
       "    <tr>\n",
       "      <th>1738</th>\n",
       "      <td>Destruction Derby 2</td>\n",
       "      <td>PS</td>\n",
       "      <td>1996</td>\n",
       "      <td>Racing</td>\n",
       "      <td>0.65</td>\n",
       "      <td>0.44</td>\n",
       "      <td>0.0</td>\n",
       "      <td>0.08</td>\n",
       "      <td>NaN</td>\n",
       "      <td>NaN</td>\n",
       "      <td>unknown</td>\n",
       "      <td>1.17</td>\n",
       "    </tr>\n",
       "  </tbody>\n",
       "</table>\n",
       "</div>"
      ],
      "text/plain": [
       "                                                name platform  \\\n",
       "10567  Scribblenauts Unmasked: A DC Comics Adventure     WiiU   \n",
       "13049                               Cities in Motion       PC   \n",
       "10550                        Heavy Fire: Afghanistan      Wii   \n",
       "540                                         The Sims      PS2   \n",
       "1738                             Destruction Derby 2       PS   \n",
       "\n",
       "       year_of_release       genre  na_sales  eu_sales  jp_sales  other_sales  \\\n",
       "10567             2013      Puzzle      0.09      0.00       0.0         0.01   \n",
       "13049             2011  Simulation      0.00      0.04       0.0         0.01   \n",
       "10550             2011     Shooter      0.09      0.00       0.0         0.01   \n",
       "540               2003  Simulation      1.41      1.12       0.0         0.24   \n",
       "1738              1996      Racing      0.65      0.44       0.0         0.08   \n",
       "\n",
       "       critic_score  user_score   rating  total_sales  \n",
       "10567          71.0         6.3     E10+         0.10  \n",
       "13049          70.0         7.7        E         0.05  \n",
       "10550           NaN         NaN        T         0.10  \n",
       "540            83.0         7.7        T         2.77  \n",
       "1738            NaN         NaN  unknown         1.17  "
      ]
     },
     "execution_count": 27,
     "metadata": {},
     "output_type": "execute_result"
    }
   ],
   "source": [
    "data['total_sales'] = data.loc[:,['na_sales', 'eu_sales', 'jp_sales', 'other_sales']].sum(axis=1) # параметр (axis=1) указывает, \n",
    "#что суммирование идет построчно\n",
    "data.sample(5) # посмотрим на рандомные 5 строк таблицы"
   ]
  },
  {
   "cell_type": "code",
   "execution_count": 28,
   "id": "3a47fd4c-163f-4e77-b7b4-458191fd0bd4",
   "metadata": {},
   "outputs": [
    {
     "data": {
      "text/plain": [
       "1"
      ]
     },
     "execution_count": 28,
     "metadata": {},
     "output_type": "execute_result"
    }
   ],
   "source": [
    "data.duplicated(subset=['name', 'platform', 'year_of_release']).sum() #Проверяю количество неявных дубликатов по трем столбцам:"
   ]
  },
  {
   "cell_type": "markdown",
   "id": "3d92bafb-a03d-408b-8a15-8b10d476aeb9",
   "metadata": {},
   "source": [
    "Одна строчка дублируется по имени, платформе и году релиза, посмотрим на неё:"
   ]
  },
  {
   "cell_type": "code",
   "execution_count": 29,
   "id": "96d61ad1-917c-4178-8ba4-bdc0898c0b1e",
   "metadata": {},
   "outputs": [
    {
     "data": {
      "text/html": [
       "<div>\n",
       "<style scoped>\n",
       "    .dataframe tbody tr th:only-of-type {\n",
       "        vertical-align: middle;\n",
       "    }\n",
       "\n",
       "    .dataframe tbody tr th {\n",
       "        vertical-align: top;\n",
       "    }\n",
       "\n",
       "    .dataframe thead th {\n",
       "        text-align: right;\n",
       "    }\n",
       "</style>\n",
       "<table border=\"1\" class=\"dataframe\">\n",
       "  <thead>\n",
       "    <tr style=\"text-align: right;\">\n",
       "      <th></th>\n",
       "      <th>name</th>\n",
       "      <th>platform</th>\n",
       "      <th>year_of_release</th>\n",
       "      <th>genre</th>\n",
       "      <th>na_sales</th>\n",
       "      <th>eu_sales</th>\n",
       "      <th>jp_sales</th>\n",
       "      <th>other_sales</th>\n",
       "      <th>critic_score</th>\n",
       "      <th>user_score</th>\n",
       "      <th>rating</th>\n",
       "      <th>total_sales</th>\n",
       "    </tr>\n",
       "  </thead>\n",
       "  <tbody>\n",
       "    <tr>\n",
       "      <th>16230</th>\n",
       "      <td>Madden NFL 13</td>\n",
       "      <td>PS3</td>\n",
       "      <td>2012</td>\n",
       "      <td>Sports</td>\n",
       "      <td>0.0</td>\n",
       "      <td>0.01</td>\n",
       "      <td>0.0</td>\n",
       "      <td>0.0</td>\n",
       "      <td>83.0</td>\n",
       "      <td>5.5</td>\n",
       "      <td>E</td>\n",
       "      <td>0.01</td>\n",
       "    </tr>\n",
       "  </tbody>\n",
       "</table>\n",
       "</div>"
      ],
      "text/plain": [
       "                name platform  year_of_release   genre  na_sales  eu_sales  \\\n",
       "16230  Madden NFL 13      PS3             2012  Sports       0.0      0.01   \n",
       "\n",
       "       jp_sales  other_sales  critic_score  user_score rating  total_sales  \n",
       "16230       0.0          0.0          83.0         5.5      E         0.01  "
      ]
     },
     "execution_count": 29,
     "metadata": {},
     "output_type": "execute_result"
    }
   ],
   "source": [
    "data[data.duplicated(['name', 'platform', 'year_of_release'])]"
   ]
  },
  {
   "cell_type": "code",
   "execution_count": 30,
   "id": "d7f677e3-9ea0-4f05-8885-0234effb29b7",
   "metadata": {},
   "outputs": [],
   "source": [
    "data = data.drop(index = 16230) # удаляем строку по индексу"
   ]
  },
  {
   "cell_type": "code",
   "execution_count": 31,
   "id": "995257b9-3d91-47b4-97d2-73ff95ab4693",
   "metadata": {},
   "outputs": [
    {
     "data": {
      "text/plain": [
       "0"
      ]
     },
     "execution_count": 31,
     "metadata": {},
     "output_type": "execute_result"
    }
   ],
   "source": [
    "data.duplicated(subset=['name', 'platform', 'year_of_release']).sum() # финальная проверка на дубликаты"
   ]
  },
  {
   "cell_type": "markdown",
   "id": "a568dda3-2026-4617-b060-91ca16ab3eb9",
   "metadata": {},
   "source": [
    "### Вывод:\n",
    "На этапе предобработки данных мы:\n",
    "- Привели названия столбцов к нижнему регистру;\n",
    "- Проверили датафрейм на наличие явных и неявных дубликатов, дубликаты не обнаружены;\n",
    "\n",
    "Обработали пропущенные значения в столбцах: \n",
    "- В столбцах `name` и `genre` удалено **2** строки, что составляет **0,01 %** от общего количества строк. \n",
    "- В столбце `year_of_release` удалено **269** строки, что составляет **1,6 %** от общего количества строк.\n",
    "- В столбце `critic_score` оставлено **8461** пропущенное значение, что составляет **51,5 %** от общего количества строк. Заменить пропуски на среднее значение или медиану мы не можем.  \n",
    "- В столбце `user_score` оставлено **8981** пропущенное значение, что составляет **53,7 %** от общего количества строк.\\\n",
    "В данном столбце `tbd` преобразованы в *NaN*.\n",
    "- В столбце `rating` обработано **6766** пропущенное значение, что составляет **40,5 %** от общего количества строк.\\\n",
    "По аналогии с предыдущими столбцами заменить на медиану или среднее мы не можем, поэтому пропуски заменены значением `unknown`.\n",
    "\n",
    "Пропуски в данных могли появиться в следствие технической ошибки при выгрузке/загрузке данных и обработки информации из разных открытых источников, а так же не стоит упускать значение человеческого фактора - могли быть взяты попросту неактуальные источники данных или заведомо неполные. \n",
    "\n",
    "- Добавили столбец с суммарными продажами игр по всем регионам.\n",
    "- Произвели поиск неявных дубликатов по совпадению названия, платформы и года релиза - удалена одна дублирующаяся строка. \n"
   ]
  },
  {
   "cell_type": "markdown",
   "id": "993fa1ee-e754-4921-9187-bc5ee1859b7b",
   "metadata": {},
   "source": [
    "## Шаг 3. Исследовательский анализ данных"
   ]
  },
  {
   "cell_type": "markdown",
   "id": "365cbddd-637d-4f23-a020-9e1c8fcfec4c",
   "metadata": {},
   "source": [
    "### 3.1 Посмотрим, сколько игр выпускалось в разные годы:"
   ]
  },
  {
   "cell_type": "code",
   "execution_count": 32,
   "id": "b5a68dd9-79e0-461b-99f3-4720d48f0d56",
   "metadata": {},
   "outputs": [
    {
     "data": {
      "text/html": [
       "<div>\n",
       "<style scoped>\n",
       "    .dataframe tbody tr th:only-of-type {\n",
       "        vertical-align: middle;\n",
       "    }\n",
       "\n",
       "    .dataframe tbody tr th {\n",
       "        vertical-align: top;\n",
       "    }\n",
       "\n",
       "    .dataframe thead th {\n",
       "        text-align: right;\n",
       "    }\n",
       "</style>\n",
       "<table border=\"1\" class=\"dataframe\">\n",
       "  <thead>\n",
       "    <tr style=\"text-align: right;\">\n",
       "      <th></th>\n",
       "      <th>name</th>\n",
       "    </tr>\n",
       "    <tr>\n",
       "      <th>year_of_release</th>\n",
       "      <th></th>\n",
       "    </tr>\n",
       "  </thead>\n",
       "  <tbody>\n",
       "    <tr>\n",
       "      <th>2016</th>\n",
       "      <td>502</td>\n",
       "    </tr>\n",
       "    <tr>\n",
       "      <th>2015</th>\n",
       "      <td>606</td>\n",
       "    </tr>\n",
       "    <tr>\n",
       "      <th>2014</th>\n",
       "      <td>581</td>\n",
       "    </tr>\n",
       "    <tr>\n",
       "      <th>2013</th>\n",
       "      <td>544</td>\n",
       "    </tr>\n",
       "    <tr>\n",
       "      <th>2012</th>\n",
       "      <td>652</td>\n",
       "    </tr>\n",
       "    <tr>\n",
       "      <th>...</th>\n",
       "      <td>...</td>\n",
       "    </tr>\n",
       "    <tr>\n",
       "      <th>1984</th>\n",
       "      <td>14</td>\n",
       "    </tr>\n",
       "    <tr>\n",
       "      <th>1983</th>\n",
       "      <td>17</td>\n",
       "    </tr>\n",
       "    <tr>\n",
       "      <th>1982</th>\n",
       "      <td>36</td>\n",
       "    </tr>\n",
       "    <tr>\n",
       "      <th>1981</th>\n",
       "      <td>46</td>\n",
       "    </tr>\n",
       "    <tr>\n",
       "      <th>1980</th>\n",
       "      <td>9</td>\n",
       "    </tr>\n",
       "  </tbody>\n",
       "</table>\n",
       "<p>37 rows × 1 columns</p>\n",
       "</div>"
      ],
      "text/plain": [
       "                 name\n",
       "year_of_release      \n",
       "2016              502\n",
       "2015              606\n",
       "2014              581\n",
       "2013              544\n",
       "2012              652\n",
       "...               ...\n",
       "1984               14\n",
       "1983               17\n",
       "1982               36\n",
       "1981               46\n",
       "1980                9\n",
       "\n",
       "[37 rows x 1 columns]"
      ]
     },
     "execution_count": 32,
     "metadata": {},
     "output_type": "execute_result"
    }
   ],
   "source": [
    "( # используем сводную таблицу:\n",
    "    data\n",
    "    .pivot_table(index = 'year_of_release', values = 'name', aggfunc = 'count')\n",
    "    .sort_values(by = 'year_of_release', ascending = False)\n",
    ")"
   ]
  },
  {
   "cell_type": "markdown",
   "id": "d952bb8e-f89a-4366-97b6-d07bf27a972f",
   "metadata": {},
   "source": [
    "Как видно по данным из таблицы выше: 80-е года 20-го века являются колыбелью игровой индустрии, в 1980 году было выпущего всего 9 игр, тогда как всего через 20 лет, в 2000 году их количество увеличивается в 39 раз до 350 игр в год. \\\n",
    "Посмотрим эти же данные на гистограмме:"
   ]
  },
  {
   "cell_type": "code",
   "execution_count": 33,
   "id": "54425450-d518-487d-bfc8-f13626f033d1",
   "metadata": {},
   "outputs": [
    {
     "data": {
      "image/png": "[encoded data removed]",
      "text/plain": [
       "<Figure size 700x700 with 1 Axes>"
      ]
     },
     "metadata": {},
     "output_type": "display_data"
    }
   ],
   "source": [
    "( # построим гистограмму методом .plot()\n",
    "    data\n",
    "    .plot(kind ='hist', y = 'year_of_release', histtype = 'bar', alpha = 1, label = 'Год выпуска', grid = True, bins = 37, figsize=(7, 7), color = '#B6D7A8')\n",
    ")\n",
    "plt.title('Количество игр, выпускаемых в разные годы:', size=15)\n",
    "plt.xlabel('Год выпуска', size=12)\n",
    "plt.ylabel('Количество игр, шт', size=12)\n",
    "plt.show()"
   ]
  },
  {
   "cell_type": "markdown",
   "id": "871b5f3e-bad5-4ef3-8579-232d40f25a70",
   "metadata": {},
   "source": [
    "- Актуальными для нас данными, по моему мнению, являются игры, выпущенные в продажу не позднее 5 лет назад. \\\n",
    "Такой срок связан с тем, что рынок гейминга идет вперед огромными шагами - проследим на гистограмме:\n",
    "- Период 1980-1994 годы - зарождение игровой индустрии, далеко не каждый может себе позволить приставку или тем более собственный домашний компьютер. \n",
    "- Период 1995-2010 годы - разгон игровой индустрии, т.к. домашние ПК появляются в каждом доме, приставки и консоли распространяются большими темпами. \n",
    "- Период 2011-2016 годы - бОльшая часть гейм индустрии идет в онлайн, огромную часть начинает занимать мобильный гейминг с появлением смартфонов, т.к. эти данные у нас не учтены - на нашей гистограмме виден спад.\n",
    "- Дальше дополнительная реальность и ИИ-ассистенты, а в скором времени и игры от ИИ. Поэтому нет смысла слишком далеко оглядываться назад."
   ]
  },
  {
   "cell_type": "markdown",
   "id": "06c8e2ce-98d0-475c-96f1-57562e851ba0",
   "metadata": {},
   "source": [
    "### 3.2 Посмотрим, как менялись продажи по платформам"
   ]
  },
  {
   "cell_type": "code",
   "execution_count": 34,
   "id": "8b5d6ba0-2453-4ed5-93f7-1e72fbcc18af",
   "metadata": {},
   "outputs": [
    {
     "data": {
      "text/html": [
       "<div>\n",
       "<style scoped>\n",
       "    .dataframe tbody tr th:only-of-type {\n",
       "        vertical-align: middle;\n",
       "    }\n",
       "\n",
       "    .dataframe tbody tr th {\n",
       "        vertical-align: top;\n",
       "    }\n",
       "\n",
       "    .dataframe thead th {\n",
       "        text-align: right;\n",
       "    }\n",
       "</style>\n",
       "<table border=\"1\" class=\"dataframe\">\n",
       "  <thead>\n",
       "    <tr style=\"text-align: right;\">\n",
       "      <th></th>\n",
       "      <th>total_sales</th>\n",
       "    </tr>\n",
       "    <tr>\n",
       "      <th>platform</th>\n",
       "      <th></th>\n",
       "    </tr>\n",
       "  </thead>\n",
       "  <tbody>\n",
       "    <tr>\n",
       "      <th>PS2</th>\n",
       "      <td>1233.56</td>\n",
       "    </tr>\n",
       "    <tr>\n",
       "      <th>X360</th>\n",
       "      <td>961.24</td>\n",
       "    </tr>\n",
       "    <tr>\n",
       "      <th>PS3</th>\n",
       "      <td>931.33</td>\n",
       "    </tr>\n",
       "    <tr>\n",
       "      <th>Wii</th>\n",
       "      <td>891.18</td>\n",
       "    </tr>\n",
       "    <tr>\n",
       "      <th>DS</th>\n",
       "      <td>802.78</td>\n",
       "    </tr>\n",
       "    <tr>\n",
       "      <th>...</th>\n",
       "      <td>...</td>\n",
       "    </tr>\n",
       "    <tr>\n",
       "      <th>WS</th>\n",
       "      <td>1.42</td>\n",
       "    </tr>\n",
       "    <tr>\n",
       "      <th>TG16</th>\n",
       "      <td>0.16</td>\n",
       "    </tr>\n",
       "    <tr>\n",
       "      <th>3DO</th>\n",
       "      <td>0.10</td>\n",
       "    </tr>\n",
       "    <tr>\n",
       "      <th>GG</th>\n",
       "      <td>0.04</td>\n",
       "    </tr>\n",
       "    <tr>\n",
       "      <th>PCFX</th>\n",
       "      <td>0.03</td>\n",
       "    </tr>\n",
       "  </tbody>\n",
       "</table>\n",
       "<p>31 rows × 1 columns</p>\n",
       "</div>"
      ],
      "text/plain": [
       "          total_sales\n",
       "platform             \n",
       "PS2           1233.56\n",
       "X360           961.24\n",
       "PS3            931.33\n",
       "Wii            891.18\n",
       "DS             802.78\n",
       "...               ...\n",
       "WS               1.42\n",
       "TG16             0.16\n",
       "3DO              0.10\n",
       "GG               0.04\n",
       "PCFX             0.03\n",
       "\n",
       "[31 rows x 1 columns]"
      ]
     },
     "execution_count": 34,
     "metadata": {},
     "output_type": "execute_result"
    }
   ],
   "source": [
    "( # используем сводную таблицу .pivot_table():\n",
    "    data\n",
    "    .pivot_table(index = 'platform', values = 'total_sales', aggfunc = 'sum')\n",
    "    .sort_values(by = 'total_sales', ascending = False)\n",
    ")"
   ]
  },
  {
   "cell_type": "code",
   "execution_count": 35,
   "id": "7665a449-5b41-4fdc-bf37-38d406607273",
   "metadata": {},
   "outputs": [
    {
     "data": {
      "image/png": "[encoded data removed]",
      "text/plain": [
       "<Figure size 1100x700 with 1 Axes>"
      ]
     },
     "metadata": {},
     "output_type": "display_data"
    }
   ],
   "source": [
    "( # построим диаграмму методом .plot()\n",
    "    data\n",
    "    .groupby('platform')['total_sales']\n",
    "    .sum()\n",
    "    .sort_values(ascending = False)\n",
    "    .plot(kind='bar', figsize=(11, 7), color = '#B6D7A8')\n",
    ")\n",
    "plt.xticks(rotation=45)\n",
    "plt.title('Распределение продаж по платформам', size=15)\n",
    "plt.xlabel('Платформа', size=12)\n",
    "plt.ylabel('Продажи, млн. проданных копий', size=12)\n",
    "plt.show()"
   ]
  },
  {
   "cell_type": "markdown",
   "id": "aa61db4c-fe7e-4110-8cfd-5013e963a94a",
   "metadata": {},
   "source": [
    "3.2.1 Выберим платформы с наибольшими суммарными продажами и построим распределение по годам."
   ]
  },
  {
   "cell_type": "markdown",
   "id": "249591a5-3919-4f2b-9167-22e038e56d50",
   "metadata": {},
   "source": [
    "На диаграмме выше мы отчетливо видим, что лидирующее место по продажам занимает 6 платформ, построим по ним распределение по годам.\\\n",
    "Обозначим новую переменную с лидирующими платформами как `top_six`."
   ]
  },
  {
   "cell_type": "code",
   "execution_count": 36,
   "id": "4d33410a-f28c-4f9d-9430-2c613447aae5",
   "metadata": {},
   "outputs": [
    {
     "data": {
      "text/html": [
       "<div>\n",
       "<style scoped>\n",
       "    .dataframe tbody tr th:only-of-type {\n",
       "        vertical-align: middle;\n",
       "    }\n",
       "\n",
       "    .dataframe tbody tr th {\n",
       "        vertical-align: top;\n",
       "    }\n",
       "\n",
       "    .dataframe thead th {\n",
       "        text-align: right;\n",
       "    }\n",
       "</style>\n",
       "<table border=\"1\" class=\"dataframe\">\n",
       "  <thead>\n",
       "    <tr style=\"text-align: right;\">\n",
       "      <th></th>\n",
       "      <th>platform</th>\n",
       "      <th>total_sales</th>\n",
       "    </tr>\n",
       "  </thead>\n",
       "  <tbody>\n",
       "    <tr>\n",
       "      <th>0</th>\n",
       "      <td>PS2</td>\n",
       "      <td>1233.56</td>\n",
       "    </tr>\n",
       "    <tr>\n",
       "      <th>1</th>\n",
       "      <td>X360</td>\n",
       "      <td>961.24</td>\n",
       "    </tr>\n",
       "    <tr>\n",
       "      <th>2</th>\n",
       "      <td>PS3</td>\n",
       "      <td>931.33</td>\n",
       "    </tr>\n",
       "    <tr>\n",
       "      <th>3</th>\n",
       "      <td>Wii</td>\n",
       "      <td>891.18</td>\n",
       "    </tr>\n",
       "    <tr>\n",
       "      <th>4</th>\n",
       "      <td>DS</td>\n",
       "      <td>802.78</td>\n",
       "    </tr>\n",
       "    <tr>\n",
       "      <th>5</th>\n",
       "      <td>PS</td>\n",
       "      <td>727.58</td>\n",
       "    </tr>\n",
       "  </tbody>\n",
       "</table>\n",
       "</div>"
      ],
      "text/plain": [
       "  platform  total_sales\n",
       "0      PS2      1233.56\n",
       "1     X360       961.24\n",
       "2      PS3       931.33\n",
       "3      Wii       891.18\n",
       "4       DS       802.78\n",
       "5       PS       727.58"
      ]
     },
     "execution_count": 36,
     "metadata": {},
     "output_type": "execute_result"
    }
   ],
   "source": [
    "top_six = ( # используем сводную таблицу:\n",
    "    data\n",
    "    .pivot_table(index = 'platform', values = 'total_sales', aggfunc = 'sum')\n",
    "    .sort_values(by = 'total_sales', ascending = False)\n",
    "    .head(6)\n",
    "    .reset_index()\n",
    ")\n",
    "\n",
    "top_six"
   ]
  },
  {
   "cell_type": "code",
   "execution_count": 37,
   "id": "387f3beb-0943-4636-82a5-74f3d1546ec4",
   "metadata": {},
   "outputs": [
    {
     "data": {
      "text/plain": [
       "['PS2', 'X360', 'PS3', 'Wii', 'DS', 'PS']"
      ]
     },
     "execution_count": 37,
     "metadata": {},
     "output_type": "execute_result"
    }
   ],
   "source": [
    "# теперь выведем список наших топовых платформ, чтобы построить на графике распределение платформ по годам\n",
    "top_six_list = top_six['platform'].tolist()\n",
    "top_six_list"
   ]
  },
  {
   "cell_type": "code",
   "execution_count": 38,
   "id": "acf83570-b404-4327-908b-4c59984a6217",
   "metadata": {},
   "outputs": [
    {
     "data": {
      "image/png": "[encoded data removed]",
      "text/plain": [
       "<Figure size 1000x500 with 1 Axes>"
      ]
     },
     "metadata": {},
     "output_type": "display_data"
    }
   ],
   "source": [
    "for index in top_six_list:\n",
    "    (\n",
    "    data.query('platform == @index')\n",
    "    .pivot_table(index = 'year_of_release', values = 'total_sales', aggfunc = 'sum')\n",
    "    .sort_values('year_of_release', ascending = False)['total_sales']\n",
    "    .plot(figsize = (10, 5), label = index)\n",
    "    )\n",
    "    plt.title('Распределение ТОП - 6 платформ с максимальными продажами')\n",
    "    plt.xlabel('Год выпуска')\n",
    "    plt.ylabel('Продажи, млн. проданных копий')\n",
    "    plt.legend() "
   ]
  },
  {
   "cell_type": "markdown",
   "id": "45aace8d-4abb-41bf-bd19-d15384af0380",
   "metadata": {},
   "source": [
    "На графике виден выброс `фиолетовая линия` платформы `Nintendo DS` показывает, что у платформы были продажи в *1985* году, однако платформа вышла в *2004* году, значит имеет место ошибка в исходных данных. "
   ]
  },
  {
   "cell_type": "code",
   "execution_count": 39,
   "id": "2dc89c9f-40bf-4216-b6ba-221b9802cfc9",
   "metadata": {
    "scrolled": true
   },
   "outputs": [
    {
     "data": {
      "text/html": [
       "<div>\n",
       "<style scoped>\n",
       "    .dataframe tbody tr th:only-of-type {\n",
       "        vertical-align: middle;\n",
       "    }\n",
       "\n",
       "    .dataframe tbody tr th {\n",
       "        vertical-align: top;\n",
       "    }\n",
       "\n",
       "    .dataframe thead th {\n",
       "        text-align: right;\n",
       "    }\n",
       "</style>\n",
       "<table border=\"1\" class=\"dataframe\">\n",
       "  <thead>\n",
       "    <tr style=\"text-align: right;\">\n",
       "      <th></th>\n",
       "      <th>name</th>\n",
       "      <th>platform</th>\n",
       "      <th>year_of_release</th>\n",
       "      <th>genre</th>\n",
       "      <th>na_sales</th>\n",
       "      <th>eu_sales</th>\n",
       "      <th>jp_sales</th>\n",
       "      <th>other_sales</th>\n",
       "      <th>critic_score</th>\n",
       "      <th>user_score</th>\n",
       "      <th>rating</th>\n",
       "      <th>total_sales</th>\n",
       "    </tr>\n",
       "  </thead>\n",
       "  <tbody>\n",
       "    <tr>\n",
       "      <th>15957</th>\n",
       "      <td>Strongest Tokyo University Shogi DS</td>\n",
       "      <td>DS</td>\n",
       "      <td>1985</td>\n",
       "      <td>Action</td>\n",
       "      <td>0.0</td>\n",
       "      <td>0.0</td>\n",
       "      <td>0.02</td>\n",
       "      <td>0.0</td>\n",
       "      <td>NaN</td>\n",
       "      <td>NaN</td>\n",
       "      <td>unknown</td>\n",
       "      <td>0.02</td>\n",
       "    </tr>\n",
       "  </tbody>\n",
       "</table>\n",
       "</div>"
      ],
      "text/plain": [
       "                                      name platform  year_of_release   genre  \\\n",
       "15957  Strongest Tokyo University Shogi DS       DS             1985  Action   \n",
       "\n",
       "       na_sales  eu_sales  jp_sales  other_sales  critic_score  user_score  \\\n",
       "15957       0.0       0.0      0.02          0.0           NaN         NaN   \n",
       "\n",
       "        rating  total_sales  \n",
       "15957  unknown         0.02  "
      ]
     },
     "execution_count": 39,
     "metadata": {},
     "output_type": "execute_result"
    }
   ],
   "source": [
    "# возьмем срез по платформе DS и году выброса, чтобы посмотреть данные:\n",
    "data.query('platform == \"DS\" and year_of_release < 1986')"
   ]
  },
  {
   "cell_type": "markdown",
   "id": "f5039a0e-f8ca-47c2-92ca-2191c8322f9b",
   "metadata": {},
   "source": [
    "Предлагаю удалить эту строку, т.к. тут явно перепутана платформа и соответственно учитываются продажи другой платформы. "
   ]
  },
  {
   "cell_type": "code",
   "execution_count": 40,
   "id": "e0877463-4a1e-4067-a9ed-37682e420d0e",
   "metadata": {},
   "outputs": [],
   "source": [
    "data = data.drop(index = 15957) # удаляем строку по индексу"
   ]
  },
  {
   "cell_type": "code",
   "execution_count": 41,
   "id": "8125962f-f637-4527-807e-524031b831a8",
   "metadata": {},
   "outputs": [
    {
     "data": {
      "image/png": "[encoded data removed]",
      "text/plain": [
       "<Figure size 1000x500 with 1 Axes>"
      ]
     },
     "metadata": {},
     "output_type": "display_data"
    }
   ],
   "source": [
    "# снова посмотрим на наше распределение без выброса (для визуализации строку можно было и не удалять, а поставить \n",
    "#условие `year_of_release > 1990` в .query() ) \n",
    "for index in top_six_list:\n",
    "    (\n",
    "    data.query('platform == @index')\n",
    "    .pivot_table(index = 'year_of_release', values = 'total_sales', aggfunc = 'sum')\n",
    "    .sort_values('year_of_release', ascending = False)['total_sales']\n",
    "    .plot(figsize = (10, 5), label = index)\n",
    "    )\n",
    "    plt.title('Распределение ТОП - 6 платформ с максимальными продажами')\n",
    "    plt.xlabel('Год выпуска')\n",
    "    plt.ylabel('Продажи, млн. проданных копий')\n",
    "    plt.legend() "
   ]
  },
  {
   "cell_type": "markdown",
   "id": "a89c3f62-13ab-46d1-b2e6-dea3aefc5872",
   "metadata": {},
   "source": [
    "3.2.2 Посмотрим, за какой характерный срок появляются новые и исчезают старые платформы"
   ]
  },
  {
   "cell_type": "markdown",
   "id": "f2f05e03-56be-48bd-815f-5556f3d1bfe8",
   "metadata": {},
   "source": [
    "На графике не совсем наглядно прослеживается жизненный цикл платформ (как мне кажется срок около 8 лет), но мы можем посчитать медиану разницы между поздним и ранним годом выпуска игр на платформе: "
   ]
  },
  {
   "cell_type": "code",
   "execution_count": 42,
   "id": "5510b577-f367-4562-9e08-36b14227692e",
   "metadata": {},
   "outputs": [
    {
     "name": "stdout",
     "output_type": "stream",
     "text": [
      "В среднем, продолжительность жизни платформы составляет 6.0 лет\n"
     ]
    }
   ],
   "source": [
    "lifetime_svod =(\n",
    "    data\n",
    "    .pivot_table(index = 'platform', values = 'year_of_release', aggfunc = ['min', 'max'])\n",
    "    .reset_index()\n",
    ")\n",
    "lifetime_svod['lifetime'] = lifetime_svod['max'] - lifetime_svod['min'] # добавляем в сводную столбец с продолжиетльностью жизни отдельных платформ\n",
    "print( 'В среднем, продолжительность жизни платформы составляет', lifetime_svod['lifetime'].median(), 'лет') "
   ]
  },
  {
   "cell_type": "markdown",
   "id": "e9dd9612-5465-4ed3-9c67-ccb14cc74b79",
   "metadata": {},
   "source": [
    "- Средняя продолжительность жизни платформы составляет  **6 лет**, что можно отследить на графике выше. \\\n",
    "В первую очередь это связано с тем, что одно поколение платформ сменяет другое - легко проследить как продажи *PS* подхватывает *PS2* и дальше на рынок выходит *PS3*. \n",
    "- Как мы отмечали ранее, актуальными для нас являются данные не старше **5 лет**."
   ]
  },
  {
   "cell_type": "markdown",
   "id": "6d63ae48-6d03-439a-99a7-30be078d0505",
   "metadata": {},
   "source": [
    "### 3.3 Какие платформы лидируют по продажам, растут или падают? Выберем несколько потенциально прибыльных платформ"
   ]
  },
  {
   "cell_type": "markdown",
   "id": "43d176a0-25e7-4f2f-ad7d-cdb29dea02a1",
   "metadata": {},
   "source": [
    "Возьмем данные за соответствующий актуальный период"
   ]
  },
  {
   "cell_type": "code",
   "execution_count": 43,
   "id": "9ec9a41a-93cf-4058-86bf-e3e415e11d4e",
   "metadata": {},
   "outputs": [
    {
     "data": {
      "text/html": [
       "<div>\n",
       "<style scoped>\n",
       "    .dataframe tbody tr th:only-of-type {\n",
       "        vertical-align: middle;\n",
       "    }\n",
       "\n",
       "    .dataframe tbody tr th {\n",
       "        vertical-align: top;\n",
       "    }\n",
       "\n",
       "    .dataframe thead th {\n",
       "        text-align: right;\n",
       "    }\n",
       "</style>\n",
       "<table border=\"1\" class=\"dataframe\">\n",
       "  <thead>\n",
       "    <tr style=\"text-align: right;\">\n",
       "      <th></th>\n",
       "      <th>platform</th>\n",
       "      <th>total_sales</th>\n",
       "    </tr>\n",
       "  </thead>\n",
       "  <tbody>\n",
       "    <tr>\n",
       "      <th>0</th>\n",
       "      <td>PS3</td>\n",
       "      <td>445.56</td>\n",
       "    </tr>\n",
       "    <tr>\n",
       "      <th>1</th>\n",
       "      <td>X360</td>\n",
       "      <td>380.38</td>\n",
       "    </tr>\n",
       "    <tr>\n",
       "      <th>2</th>\n",
       "      <td>PS4</td>\n",
       "      <td>314.14</td>\n",
       "    </tr>\n",
       "    <tr>\n",
       "      <th>3</th>\n",
       "      <td>3DS</td>\n",
       "      <td>257.81</td>\n",
       "    </tr>\n",
       "    <tr>\n",
       "      <th>4</th>\n",
       "      <td>XOne</td>\n",
       "      <td>159.32</td>\n",
       "    </tr>\n",
       "    <tr>\n",
       "      <th>5</th>\n",
       "      <td>PC</td>\n",
       "      <td>97.68</td>\n",
       "    </tr>\n",
       "    <tr>\n",
       "      <th>6</th>\n",
       "      <td>Wii</td>\n",
       "      <td>95.02</td>\n",
       "    </tr>\n",
       "    <tr>\n",
       "      <th>7</th>\n",
       "      <td>WiiU</td>\n",
       "      <td>82.19</td>\n",
       "    </tr>\n",
       "    <tr>\n",
       "      <th>8</th>\n",
       "      <td>PSV</td>\n",
       "      <td>53.81</td>\n",
       "    </tr>\n",
       "    <tr>\n",
       "      <th>9</th>\n",
       "      <td>DS</td>\n",
       "      <td>38.73</td>\n",
       "    </tr>\n",
       "    <tr>\n",
       "      <th>10</th>\n",
       "      <td>PSP</td>\n",
       "      <td>29.01</td>\n",
       "    </tr>\n",
       "    <tr>\n",
       "      <th>11</th>\n",
       "      <td>PS2</td>\n",
       "      <td>0.45</td>\n",
       "    </tr>\n",
       "  </tbody>\n",
       "</table>\n",
       "</div>"
      ],
      "text/plain": [
       "   platform  total_sales\n",
       "0       PS3       445.56\n",
       "1      X360       380.38\n",
       "2       PS4       314.14\n",
       "3       3DS       257.81\n",
       "4      XOne       159.32\n",
       "5        PC        97.68\n",
       "6       Wii        95.02\n",
       "7      WiiU        82.19\n",
       "8       PSV        53.81\n",
       "9        DS        38.73\n",
       "10      PSP        29.01\n",
       "11      PS2         0.45"
      ]
     },
     "execution_count": 43,
     "metadata": {},
     "output_type": "execute_result"
    }
   ],
   "source": [
    "actual_data = (data\n",
    "    .query('year_of_release >= 2011')\n",
    "    .pivot_table(index = 'platform', values = 'total_sales', aggfunc = 'sum')\n",
    "    .sort_values(by = 'total_sales', ascending = False)\n",
    "    .reset_index()\n",
    "    )                         \n",
    "actual_data"
   ]
  },
  {
   "cell_type": "markdown",
   "id": "c29f6705-36e1-4f15-a2d5-704f3789361f",
   "metadata": {},
   "source": [
    "В итоге из 32 платформ - у нас осталось 12 подходящих для нашего исследования по временному промежутку. "
   ]
  },
  {
   "cell_type": "code",
   "execution_count": 44,
   "id": "ee028fb2-0cd5-4138-81c6-7fbc4c0bf773",
   "metadata": {},
   "outputs": [
    {
     "data": {
      "text/plain": [
       "['PS3',\n",
       " 'X360',\n",
       " 'PS4',\n",
       " '3DS',\n",
       " 'XOne',\n",
       " 'PC',\n",
       " 'Wii',\n",
       " 'WiiU',\n",
       " 'PSV',\n",
       " 'DS',\n",
       " 'PSP',\n",
       " 'PS2']"
      ]
     },
     "execution_count": 44,
     "metadata": {},
     "output_type": "execute_result"
    }
   ],
   "source": [
    "# также выведем список актуальных платформ, чтобы построить на графике распределение \n",
    "actual_data_list = actual_data['platform'].tolist()\n",
    "actual_data_list"
   ]
  },
  {
   "cell_type": "code",
   "execution_count": 45,
   "id": "9d01a9ba-871f-4ac8-b6c8-12c247e6a230",
   "metadata": {},
   "outputs": [
    {
     "data": {
      "image/png": "[encoded data removed]",
      "text/plain": [
       "<Figure size 1000x500 with 1 Axes>"
      ]
     },
     "metadata": {},
     "output_type": "display_data"
    }
   ],
   "source": [
    "for index in actual_data_list:\n",
    "    (\n",
    "    data.query('platform == @index and year_of_release >= 2011')\n",
    "    .pivot_table(index = 'year_of_release', values = 'total_sales', aggfunc = 'sum')\n",
    "    .sort_values('year_of_release', ascending = False)['total_sales']\n",
    "    .plot(figsize = (10, 5), label = index)\n",
    "    )\n",
    "    plt.title('Распределение ТОП - 12 платформ за актуальный период')\n",
    "    plt.xlabel('Год выпуска')\n",
    "    plt.ylabel('Продажи, млн. проданных копий')\n",
    "    plt.legend() "
   ]
  },
  {
   "cell_type": "markdown",
   "id": "2e6a829d-5c90-47d5-b6b2-1beb6e4cb29d",
   "metadata": {},
   "source": [
    "- Как мы можем наблюдать на графике выше - за последние **5** лет лидерами продаж являются **PS3** и **X360** c продажами в **445,57** и **380,38** млн. копий соответственно.\n",
    "- Однако за последние **2** года первенство удерживают **PS4** и **XOne** с продажами **314,14** и **159,32** млн. копий соответственно, что нетрудно понять, т.к. это следующее поколение консолей тех же производителей.\n",
    "- Так же отметим, что в целом весь рынок продаж идет на спад, всплеск продаж **PS4** и **XOne** как раз можно объяснить тем, что они стали новинками на рынке, однако падение отмечается по всем направлениям, без исключения.\n",
    "- На основании вышеизложенного, я считаю перспективными платформами **PS4**, **XOne** и **3DS** т.к. ближе к настоящему периоду времени (2016 год) их продажи наиболее выделяются серди остальных платформ. Так называемый **TOP-3**. "
   ]
  },
  {
   "cell_type": "markdown",
   "id": "0f902333-c4db-4769-86b4-e743833198b6",
   "metadata": {},
   "source": [
    "### 3.4 Построим график «ящик с усами» по глобальным продажам игр в разбивке по платформам"
   ]
  },
  {
   "cell_type": "code",
   "execution_count": 46,
   "id": "f3a8e116-0a33-4ef8-ae11-b01927724d19",
   "metadata": {},
   "outputs": [
    {
     "data": {
      "text/plain": [
       "['PS4', '3DS', 'XOne']"
      ]
     },
     "execution_count": 46,
     "metadata": {},
     "output_type": "execute_result"
    }
   ],
   "source": [
    "# делаем срез по индексам из списка актуальных платформ, теперь выбираем наши перспективные платформы\n",
    "perspective_data_list = actual_data_list[2:5]\n",
    "perspective_data_list"
   ]
  },
  {
   "cell_type": "markdown",
   "id": "fcbd49d2-1480-4677-b747-c05fd72fc8e8",
   "metadata": {},
   "source": [
    "Сделаем срез из датасета с условием, что нам нужны только актуальные платформы и информация за актуальный период:"
   ]
  },
  {
   "cell_type": "code",
   "execution_count": 47,
   "id": "a8139a8a-9759-4157-b770-680708195bc3",
   "metadata": {},
   "outputs": [
    {
     "data": {
      "text/html": [
       "<div>\n",
       "<style scoped>\n",
       "    .dataframe tbody tr th:only-of-type {\n",
       "        vertical-align: middle;\n",
       "    }\n",
       "\n",
       "    .dataframe tbody tr th {\n",
       "        vertical-align: top;\n",
       "    }\n",
       "\n",
       "    .dataframe thead th {\n",
       "        text-align: right;\n",
       "    }\n",
       "</style>\n",
       "<table border=\"1\" class=\"dataframe\">\n",
       "  <thead>\n",
       "    <tr style=\"text-align: right;\">\n",
       "      <th></th>\n",
       "      <th>name</th>\n",
       "      <th>platform</th>\n",
       "      <th>year_of_release</th>\n",
       "      <th>genre</th>\n",
       "      <th>na_sales</th>\n",
       "      <th>eu_sales</th>\n",
       "      <th>jp_sales</th>\n",
       "      <th>other_sales</th>\n",
       "      <th>critic_score</th>\n",
       "      <th>user_score</th>\n",
       "      <th>rating</th>\n",
       "      <th>total_sales</th>\n",
       "    </tr>\n",
       "  </thead>\n",
       "  <tbody>\n",
       "    <tr>\n",
       "      <th>4585</th>\n",
       "      <td>Trials Fusion</td>\n",
       "      <td>PS4</td>\n",
       "      <td>2014</td>\n",
       "      <td>Racing</td>\n",
       "      <td>0.13</td>\n",
       "      <td>0.22</td>\n",
       "      <td>0.01</td>\n",
       "      <td>0.07</td>\n",
       "      <td>79.0</td>\n",
       "      <td>7.2</td>\n",
       "      <td>E10+</td>\n",
       "      <td>0.43</td>\n",
       "    </tr>\n",
       "    <tr>\n",
       "      <th>6325</th>\n",
       "      <td>LEGO The Hobbit</td>\n",
       "      <td>XOne</td>\n",
       "      <td>2014</td>\n",
       "      <td>Action</td>\n",
       "      <td>0.13</td>\n",
       "      <td>0.12</td>\n",
       "      <td>0.00</td>\n",
       "      <td>0.02</td>\n",
       "      <td>69.0</td>\n",
       "      <td>6.8</td>\n",
       "      <td>E10+</td>\n",
       "      <td>0.27</td>\n",
       "    </tr>\n",
       "    <tr>\n",
       "      <th>5746</th>\n",
       "      <td>Tropico 5</td>\n",
       "      <td>PS4</td>\n",
       "      <td>2015</td>\n",
       "      <td>Simulation</td>\n",
       "      <td>0.06</td>\n",
       "      <td>0.16</td>\n",
       "      <td>0.06</td>\n",
       "      <td>0.04</td>\n",
       "      <td>76.0</td>\n",
       "      <td>7.1</td>\n",
       "      <td>T</td>\n",
       "      <td>0.32</td>\n",
       "    </tr>\n",
       "    <tr>\n",
       "      <th>14870</th>\n",
       "      <td>The Technomancer</td>\n",
       "      <td>XOne</td>\n",
       "      <td>2016</td>\n",
       "      <td>Role-Playing</td>\n",
       "      <td>0.01</td>\n",
       "      <td>0.01</td>\n",
       "      <td>0.00</td>\n",
       "      <td>0.00</td>\n",
       "      <td>68.0</td>\n",
       "      <td>7.4</td>\n",
       "      <td>M</td>\n",
       "      <td>0.02</td>\n",
       "    </tr>\n",
       "    <tr>\n",
       "      <th>5388</th>\n",
       "      <td>Rayman Legends</td>\n",
       "      <td>XOne</td>\n",
       "      <td>2014</td>\n",
       "      <td>Platform</td>\n",
       "      <td>0.13</td>\n",
       "      <td>0.18</td>\n",
       "      <td>0.00</td>\n",
       "      <td>0.03</td>\n",
       "      <td>91.0</td>\n",
       "      <td>7.9</td>\n",
       "      <td>E10+</td>\n",
       "      <td>0.34</td>\n",
       "    </tr>\n",
       "  </tbody>\n",
       "</table>\n",
       "</div>"
      ],
      "text/plain": [
       "                   name platform  year_of_release         genre  na_sales  \\\n",
       "4585      Trials Fusion      PS4             2014        Racing      0.13   \n",
       "6325    LEGO The Hobbit     XOne             2014        Action      0.13   \n",
       "5746          Tropico 5      PS4             2015    Simulation      0.06   \n",
       "14870  The Technomancer     XOne             2016  Role-Playing      0.01   \n",
       "5388     Rayman Legends     XOne             2014      Platform      0.13   \n",
       "\n",
       "       eu_sales  jp_sales  other_sales  critic_score  user_score rating  \\\n",
       "4585       0.22      0.01         0.07          79.0         7.2   E10+   \n",
       "6325       0.12      0.00         0.02          69.0         6.8   E10+   \n",
       "5746       0.16      0.06         0.04          76.0         7.1      T   \n",
       "14870      0.01      0.00         0.00          68.0         7.4      M   \n",
       "5388       0.18      0.00         0.03          91.0         7.9   E10+   \n",
       "\n",
       "       total_sales  \n",
       "4585          0.43  \n",
       "6325          0.27  \n",
       "5746          0.32  \n",
       "14870         0.02  \n",
       "5388          0.34  "
      ]
     },
     "execution_count": 47,
     "metadata": {},
     "output_type": "execute_result"
    }
   ],
   "source": [
    "perspective_data = data.query('platform in @perspective_data_list and year_of_release >= 2011')\n",
    "perspective_data.sample(5)"
   ]
  },
  {
   "cell_type": "markdown",
   "id": "850b558b-9d51-420e-a6c8-51e6adc8d565",
   "metadata": {},
   "source": [
    "Посмотрим на боксплот по глобальным продажам игр в разбивке по платформам"
   ]
  },
  {
   "cell_type": "code",
   "execution_count": 48,
   "id": "06c80a29-4881-42e4-9a07-2cd0112bb5fa",
   "metadata": {},
   "outputs": [
    {
     "data": {
      "image/png": "[encoded data removed]",
      "text/plain": [
       "<Figure size 1300x900 with 1 Axes>"
      ]
     },
     "metadata": {},
     "output_type": "display_data"
    }
   ],
   "source": [
    "plt.figure(figsize=(13,9))\n",
    "plt.ylim(0, 3)\n",
    "sns.boxplot(x = 'platform', y = 'total_sales', data = perspective_data, hue = 'platform', palette = \"Set2\" );\n",
    "plt.title(\"Глобальные продажи игр в разбивке по платформам\")\n",
    "plt.xlabel(\"Перспективные платформы\")\n",
    "plt.ylabel(\"Продажи, млн. проданных копий\")\n",
    "plt.grid(True)\n",
    "plt.show()"
   ]
  },
  {
   "cell_type": "markdown",
   "id": "5e2cc35c-81e7-4f71-959d-bc5950354214",
   "metadata": {},
   "source": [
    "Для большей наглядности посчитаем медиану и среднее значение проданных игровых копий:"
   ]
  },
  {
   "cell_type": "code",
   "execution_count": 49,
   "id": "75f4d617-ce11-4119-be8f-d2d928ea1392",
   "metadata": {},
   "outputs": [
    {
     "data": {
      "text/html": [
       "<div>\n",
       "<style scoped>\n",
       "    .dataframe tbody tr th:only-of-type {\n",
       "        vertical-align: middle;\n",
       "    }\n",
       "\n",
       "    .dataframe tbody tr th {\n",
       "        vertical-align: top;\n",
       "    }\n",
       "\n",
       "    .dataframe thead tr th {\n",
       "        text-align: left;\n",
       "    }\n",
       "\n",
       "    .dataframe thead tr:last-of-type th {\n",
       "        text-align: right;\n",
       "    }\n",
       "</style>\n",
       "<table border=\"1\" class=\"dataframe\">\n",
       "  <thead>\n",
       "    <tr>\n",
       "      <th></th>\n",
       "      <th>Среднее</th>\n",
       "      <th>Медиана</th>\n",
       "    </tr>\n",
       "    <tr>\n",
       "      <th></th>\n",
       "      <th>млн. проданных копий</th>\n",
       "      <th>млн. проданных копий</th>\n",
       "    </tr>\n",
       "    <tr>\n",
       "      <th>platform</th>\n",
       "      <th></th>\n",
       "      <th></th>\n",
       "    </tr>\n",
       "  </thead>\n",
       "  <tbody>\n",
       "    <tr>\n",
       "      <th>3DS</th>\n",
       "      <td>0.503535</td>\n",
       "      <td>0.12</td>\n",
       "    </tr>\n",
       "    <tr>\n",
       "      <th>PS4</th>\n",
       "      <td>0.801378</td>\n",
       "      <td>0.20</td>\n",
       "    </tr>\n",
       "    <tr>\n",
       "      <th>XOne</th>\n",
       "      <td>0.645020</td>\n",
       "      <td>0.22</td>\n",
       "    </tr>\n",
       "  </tbody>\n",
       "</table>\n",
       "</div>"
      ],
      "text/plain": [
       "                      Среднее              Медиана\n",
       "         млн. проданных копий млн. проданных копий\n",
       "platform                                          \n",
       "3DS                  0.503535                 0.12\n",
       "PS4                  0.801378                 0.20\n",
       "XOne                 0.645020                 0.22"
      ]
     },
     "execution_count": 49,
     "metadata": {},
     "output_type": "execute_result"
    }
   ],
   "source": [
    "per_stat = perspective_data.pivot_table(index = 'platform', values = 'total_sales', aggfunc = ['mean','median'])\n",
    "per_stat = per_stat.rename(columns = {'mean' : 'Среднее', 'median' : 'Медиана', 'total_sales' : 'млн. проданных копий'})\n",
    "per_stat"
   ]
  },
  {
   "cell_type": "markdown",
   "id": "16693c55-3895-4be2-bfe0-c0cfbdbce67d",
   "metadata": {},
   "source": [
    "Видим по боксплотам, что наше распределение скошено вправо, очень наглядно показаны выбросы.\\\n",
    "Очень много глобальных продаж лежат за пределами 'усов', таким образом могут быть отмечены игровые хиты, либо продажи каких либо консольных эксклюзивов. \\\n",
    "Медиана продаж **PS4** и **XOne** почти равны - по **0,2** и **0,22** млн. копий соответственно. "
   ]
  },
  {
   "cell_type": "markdown",
   "id": "f72be260-507f-4dc3-8bc1-19de919e6c13",
   "metadata": {},
   "source": [
    "### 3.5 Посмотрим, как влияют на продажи внутри одной популярной платформы отзывы пользователей и критиков"
   ]
  },
  {
   "cell_type": "markdown",
   "id": "1d0d9963-ec84-4de2-b037-733ba4a96573",
   "metadata": {},
   "source": [
    "Так как большинство продаж, к настоящему времени, имеет платформа `PS4`, то будем строить наши зависимости на примере данной платформы:"
   ]
  },
  {
   "cell_type": "code",
   "execution_count": 50,
   "id": "08fd7e4a-e3b0-4fa9-9e80-5f92b8dfdf93",
   "metadata": {},
   "outputs": [
    {
     "data": {
      "text/html": [
       "<div>\n",
       "<style scoped>\n",
       "    .dataframe tbody tr th:only-of-type {\n",
       "        vertical-align: middle;\n",
       "    }\n",
       "\n",
       "    .dataframe tbody tr th {\n",
       "        vertical-align: top;\n",
       "    }\n",
       "\n",
       "    .dataframe thead th {\n",
       "        text-align: right;\n",
       "    }\n",
       "</style>\n",
       "<table border=\"1\" class=\"dataframe\">\n",
       "  <thead>\n",
       "    <tr style=\"text-align: right;\">\n",
       "      <th></th>\n",
       "      <th>name</th>\n",
       "      <th>platform</th>\n",
       "      <th>year_of_release</th>\n",
       "      <th>genre</th>\n",
       "      <th>na_sales</th>\n",
       "      <th>eu_sales</th>\n",
       "      <th>jp_sales</th>\n",
       "      <th>other_sales</th>\n",
       "      <th>critic_score</th>\n",
       "      <th>user_score</th>\n",
       "      <th>rating</th>\n",
       "      <th>total_sales</th>\n",
       "    </tr>\n",
       "  </thead>\n",
       "  <tbody>\n",
       "    <tr>\n",
       "      <th>31</th>\n",
       "      <td>Call of Duty: Black Ops 3</td>\n",
       "      <td>PS4</td>\n",
       "      <td>2015</td>\n",
       "      <td>Shooter</td>\n",
       "      <td>6.03</td>\n",
       "      <td>5.86</td>\n",
       "      <td>0.36</td>\n",
       "      <td>2.38</td>\n",
       "      <td>NaN</td>\n",
       "      <td>NaN</td>\n",
       "      <td>unknown</td>\n",
       "      <td>14.63</td>\n",
       "    </tr>\n",
       "    <tr>\n",
       "      <th>42</th>\n",
       "      <td>Grand Theft Auto V</td>\n",
       "      <td>PS4</td>\n",
       "      <td>2014</td>\n",
       "      <td>Action</td>\n",
       "      <td>3.96</td>\n",
       "      <td>6.31</td>\n",
       "      <td>0.38</td>\n",
       "      <td>1.97</td>\n",
       "      <td>97.0</td>\n",
       "      <td>8.3</td>\n",
       "      <td>M</td>\n",
       "      <td>12.62</td>\n",
       "    </tr>\n",
       "    <tr>\n",
       "      <th>77</th>\n",
       "      <td>FIFA 16</td>\n",
       "      <td>PS4</td>\n",
       "      <td>2015</td>\n",
       "      <td>Sports</td>\n",
       "      <td>1.12</td>\n",
       "      <td>6.12</td>\n",
       "      <td>0.06</td>\n",
       "      <td>1.28</td>\n",
       "      <td>82.0</td>\n",
       "      <td>4.3</td>\n",
       "      <td>E</td>\n",
       "      <td>8.58</td>\n",
       "    </tr>\n",
       "    <tr>\n",
       "      <th>87</th>\n",
       "      <td>Star Wars Battlefront (2015)</td>\n",
       "      <td>PS4</td>\n",
       "      <td>2015</td>\n",
       "      <td>Shooter</td>\n",
       "      <td>2.99</td>\n",
       "      <td>3.49</td>\n",
       "      <td>0.22</td>\n",
       "      <td>1.28</td>\n",
       "      <td>NaN</td>\n",
       "      <td>NaN</td>\n",
       "      <td>unknown</td>\n",
       "      <td>7.98</td>\n",
       "    </tr>\n",
       "    <tr>\n",
       "      <th>92</th>\n",
       "      <td>Call of Duty: Advanced Warfare</td>\n",
       "      <td>PS4</td>\n",
       "      <td>2014</td>\n",
       "      <td>Shooter</td>\n",
       "      <td>2.81</td>\n",
       "      <td>3.48</td>\n",
       "      <td>0.14</td>\n",
       "      <td>1.23</td>\n",
       "      <td>83.0</td>\n",
       "      <td>5.7</td>\n",
       "      <td>M</td>\n",
       "      <td>7.66</td>\n",
       "    </tr>\n",
       "  </tbody>\n",
       "</table>\n",
       "</div>"
      ],
      "text/plain": [
       "                              name platform  year_of_release    genre  \\\n",
       "31       Call of Duty: Black Ops 3      PS4             2015  Shooter   \n",
       "42              Grand Theft Auto V      PS4             2014   Action   \n",
       "77                         FIFA 16      PS4             2015   Sports   \n",
       "87    Star Wars Battlefront (2015)      PS4             2015  Shooter   \n",
       "92  Call of Duty: Advanced Warfare      PS4             2014  Shooter   \n",
       "\n",
       "    na_sales  eu_sales  jp_sales  other_sales  critic_score  user_score  \\\n",
       "31      6.03      5.86      0.36         2.38           NaN         NaN   \n",
       "42      3.96      6.31      0.38         1.97          97.0         8.3   \n",
       "77      1.12      6.12      0.06         1.28          82.0         4.3   \n",
       "87      2.99      3.49      0.22         1.28           NaN         NaN   \n",
       "92      2.81      3.48      0.14         1.23          83.0         5.7   \n",
       "\n",
       "     rating  total_sales  \n",
       "31  unknown        14.63  \n",
       "42        M        12.62  \n",
       "77        E         8.58  \n",
       "87  unknown         7.98  \n",
       "92        M         7.66  "
      ]
     },
     "execution_count": 50,
     "metadata": {},
     "output_type": "execute_result"
    }
   ],
   "source": [
    "# Сделаем срез данных по этой платформе\n",
    "pl_ps4 = perspective_data.query('platform == \"PS4\"')\n",
    "pl_ps4.head(5)"
   ]
  },
  {
   "cell_type": "markdown",
   "id": "dde40d27-8d77-4b77-8079-40c092ad09fc",
   "metadata": {},
   "source": [
    "Построим диаграмму рассеяния продаж от отзывов пользователей:"
   ]
  },
  {
   "cell_type": "code",
   "execution_count": 51,
   "id": "9bec0775-5713-46df-bdfa-b30221f0e6ee",
   "metadata": {},
   "outputs": [
    {
     "data": {
      "image/png": "[encoded data removed]",
      "text/plain": [
       "<Figure size 700x700 with 1 Axes>"
      ]
     },
     "metadata": {},
     "output_type": "display_data"
    }
   ],
   "source": [
    "( # построим диаграмму методом .plot()\n",
    "    pl_ps4\n",
    "    .plot(kind = 'scatter', x ='user_score', y = 'total_sales', alpha = 1, label = 'Оценка пользователей', grid = True, figsize=(7, 7), color = '#6AA84F')\n",
    ")\n",
    "plt.title('Диаграмма рассеяния продаж от отзывов пользователей', size=15)\n",
    "plt.xlabel('Оценка пользователей', size=12)\n",
    "plt.ylabel('Продажи, млн. проданных копий', size=12)\n",
    "plt.show()"
   ]
  },
  {
   "cell_type": "markdown",
   "id": "d5a01e2f-70c8-41e6-9cf3-2bc5ad9c1b76",
   "metadata": {},
   "source": [
    "Значение корреляции отзывов пользователей и продаж для платформы PS4 равно: "
   ]
  },
  {
   "cell_type": "code",
   "execution_count": 52,
   "id": "3ac950c6-3073-4f2a-815b-37208550d702",
   "metadata": {},
   "outputs": [
    {
     "data": {
      "text/plain": [
       "-0.03195711020455643"
      ]
     },
     "execution_count": 52,
     "metadata": {},
     "output_type": "execute_result"
    }
   ],
   "source": [
    "pl_ps4['total_sales'].corr(pl_ps4['user_score'])"
   ]
  },
  {
   "cell_type": "markdown",
   "id": "a17f5e53-d8b3-4aad-9cce-3c281d13c4d3",
   "metadata": {},
   "source": [
    "- Значение корреляции **-0,03** - указывает на **слабую обратную связь** отзывов пользователей и общим количеством продаж, что так же видно на диаграмме рассеяния (точки не складываются в прямую линию)."
   ]
  },
  {
   "cell_type": "markdown",
   "id": "bbcf3ad5-4384-41ef-abec-78bb6c0e45c4",
   "metadata": {},
   "source": [
    "Построим диаграмму рассеяния продаж от отзывов критиков:"
   ]
  },
  {
   "cell_type": "code",
   "execution_count": 53,
   "id": "61d00958-2cc2-454c-a7ab-13559845ea2d",
   "metadata": {},
   "outputs": [
    {
     "data": {
      "image/png": "[encoded data removed]",
      "text/plain": [
       "<Figure size 700x700 with 1 Axes>"
      ]
     },
     "metadata": {},
     "output_type": "display_data"
    }
   ],
   "source": [
    "( # построим диаграмму методом .plot()\n",
    "    pl_ps4\n",
    "    .plot(kind = 'scatter', x ='critic_score', y = 'total_sales', alpha = 1, label = 'Оценка пользователей', grid = True, figsize=(7, 7), color = '#F1C232')\n",
    ")\n",
    "plt.title('Диаграмма рассеяния продаж от отзывов критиков', size=15)\n",
    "plt.xlabel('Оценка критиков', size=12)\n",
    "plt.ylabel('Продажи, млн. проданных копий', size=12)\n",
    "plt.show()"
   ]
  },
  {
   "cell_type": "markdown",
   "id": "65d63f48-45bf-4741-a9e4-1b08cce12b34",
   "metadata": {},
   "source": [
    "Значение корреляции отзывов критиков и продаж для платформы PS4 равно:"
   ]
  },
  {
   "cell_type": "code",
   "execution_count": 54,
   "id": "b1b3c234-85e3-43c9-b679-de3576b99524",
   "metadata": {},
   "outputs": [
    {
     "data": {
      "text/plain": [
       "0.40656790206178123"
      ]
     },
     "execution_count": 54,
     "metadata": {},
     "output_type": "execute_result"
    }
   ],
   "source": [
    "pl_ps4['total_sales'].corr(pl_ps4['critic_score'])"
   ]
  },
  {
   "cell_type": "markdown",
   "id": "8903d4cd-b8b9-40bf-a28a-e34038bb388f",
   "metadata": {},
   "source": [
    "Значение корреляции **0,4** - указывает на **умеренную связь** отзывов критиков и общим количеством продаж, всё-таки к мнению критиков пользователи прислушиваются больше, чем к мнению других пользователей. (Кстати сдесь мы не видим нулевых выбросов, т.к. оставили пропуски в этом столбце без изменений)."
   ]
  },
  {
   "cell_type": "markdown",
   "id": "0ffae570-ee8b-4988-a12b-df70243e5153",
   "metadata": {},
   "source": [
    "А теперь посмотрим, как наши выводы по платформе PS4 соотносятся с данными по другим перспективным платформам и вообще по всем платформум датасета: "
   ]
  },
  {
   "cell_type": "code",
   "execution_count": 55,
   "id": "7e76a6f3-77c4-4fc9-a077-e5fcb44d2e6c",
   "metadata": {},
   "outputs": [
    {
     "data": {
      "text/plain": [
       "0.042874238612102836"
      ]
     },
     "execution_count": 55,
     "metadata": {},
     "output_type": "execute_result"
    }
   ],
   "source": [
    "# Значение корреляции отзывов пользователей и продаж для перспективных ТОР-3 платформ равно:\n",
    "perspective_data['total_sales'].corr(perspective_data['user_score'])"
   ]
  },
  {
   "cell_type": "code",
   "execution_count": 56,
   "id": "8a19e1af-00e7-47f9-a476-beecf2f68803",
   "metadata": {},
   "outputs": [
    {
     "data": {
      "text/plain": [
       "0.37927003308303714"
      ]
     },
     "execution_count": 56,
     "metadata": {},
     "output_type": "execute_result"
    }
   ],
   "source": [
    "# Значение корреляции отзывов критиков и продаж для перспективных ТОР-3 платформ равно:\n",
    "perspective_data['total_sales'].corr(perspective_data['critic_score'])"
   ]
  },
  {
   "cell_type": "code",
   "execution_count": 57,
   "id": "3756f05d-6a62-4cab-ad49-b47bcec8c192",
   "metadata": {},
   "outputs": [
    {
     "data": {
      "text/plain": [
       "0.0879353940213567"
      ]
     },
     "execution_count": 57,
     "metadata": {},
     "output_type": "execute_result"
    }
   ],
   "source": [
    "# Значение корреляции отзывов пользователей и продаж для перспективных ВСЕХ платформ равно:\n",
    "data['total_sales'].corr(data['user_score'])"
   ]
  },
  {
   "cell_type": "code",
   "execution_count": 58,
   "id": "0fc9ca4b-4f3b-4fbd-8407-7d35c4a6a414",
   "metadata": {},
   "outputs": [
    {
     "data": {
      "text/plain": [
       "0.2454135738507332"
      ]
     },
     "execution_count": 58,
     "metadata": {},
     "output_type": "execute_result"
    }
   ],
   "source": [
    "# Значение корреляции отзывов критиков и продаж для перспективных ВСЕХ платформ равно:\n",
    "data['total_sales'].corr(data['critic_score'])"
   ]
  },
  {
   "cell_type": "markdown",
   "id": "fe9dfade-6117-4b16-bec0-6831a317b0ac",
   "metadata": {},
   "source": [
    "- Отслеживая корреляции отзывов пользователей и критиков на разных платформах, мы можем сделать вывод: \\\n",
    "  Что у *перспективных платформ* **умеренная связь** между отзывами критиков и количеством продаж, тогда как *отзывы обычных пользователей* влияние на продажи почти **не оказывают**, а так же - чем больше наша выборка данных, тем меньше значение корреляции отзывов критиков, тогда как корреляция оценок пользователей остается почти без изменений.\\\n",
    "Так же мы видим, по расчету корреляции для **перспективных платформ** и для **всех платформ** в совокупности, что зависимость продаж от *отзывов критиков* **больше**, чем зависимость продаж от *отзывов пользователей*. \\\n",
    "Продажи увеличиваются с увеличением рейтинга отзывов критиков и пользователей."
   ]
  },
  {
   "cell_type": "markdown",
   "id": "f7987263-080f-46fd-b25f-bea85a0c61f2",
   "metadata": {},
   "source": [
    "### 3.6 Посмотрим на общее распределение игр по жанрам"
   ]
  },
  {
   "cell_type": "markdown",
   "id": "0e670de7-2297-43a2-ad0e-8adf8a98a938",
   "metadata": {},
   "source": [
    "Учитываем общее распределение перспективных платформ:"
   ]
  },
  {
   "cell_type": "code",
   "execution_count": 59,
   "id": "f7410d7e-f336-475a-a737-93d15ba1f030",
   "metadata": {},
   "outputs": [
    {
     "data": {
      "text/html": [
       "<div>\n",
       "<style scoped>\n",
       "    .dataframe tbody tr th:only-of-type {\n",
       "        vertical-align: middle;\n",
       "    }\n",
       "\n",
       "    .dataframe tbody tr th {\n",
       "        vertical-align: top;\n",
       "    }\n",
       "\n",
       "    .dataframe thead th {\n",
       "        text-align: right;\n",
       "    }\n",
       "</style>\n",
       "<table border=\"1\" class=\"dataframe\">\n",
       "  <thead>\n",
       "    <tr style=\"text-align: right;\">\n",
       "      <th></th>\n",
       "      <th>total_sales</th>\n",
       "    </tr>\n",
       "    <tr>\n",
       "      <th>genre</th>\n",
       "      <th></th>\n",
       "    </tr>\n",
       "  </thead>\n",
       "  <tbody>\n",
       "    <tr>\n",
       "      <th>Shooter</th>\n",
       "      <td>0.880</td>\n",
       "    </tr>\n",
       "    <tr>\n",
       "      <th>Sports</th>\n",
       "      <td>0.260</td>\n",
       "    </tr>\n",
       "    <tr>\n",
       "      <th>Platform</th>\n",
       "      <td>0.230</td>\n",
       "    </tr>\n",
       "    <tr>\n",
       "      <th>Racing</th>\n",
       "      <td>0.230</td>\n",
       "    </tr>\n",
       "    <tr>\n",
       "      <th>Role-Playing</th>\n",
       "      <td>0.215</td>\n",
       "    </tr>\n",
       "    <tr>\n",
       "      <th>Simulation</th>\n",
       "      <td>0.160</td>\n",
       "    </tr>\n",
       "    <tr>\n",
       "      <th>Fighting</th>\n",
       "      <td>0.160</td>\n",
       "    </tr>\n",
       "    <tr>\n",
       "      <th>Misc</th>\n",
       "      <td>0.140</td>\n",
       "    </tr>\n",
       "    <tr>\n",
       "      <th>Action</th>\n",
       "      <td>0.130</td>\n",
       "    </tr>\n",
       "    <tr>\n",
       "      <th>Puzzle</th>\n",
       "      <td>0.100</td>\n",
       "    </tr>\n",
       "    <tr>\n",
       "      <th>Strategy</th>\n",
       "      <td>0.075</td>\n",
       "    </tr>\n",
       "    <tr>\n",
       "      <th>Adventure</th>\n",
       "      <td>0.070</td>\n",
       "    </tr>\n",
       "  </tbody>\n",
       "</table>\n",
       "</div>"
      ],
      "text/plain": [
       "              total_sales\n",
       "genre                    \n",
       "Shooter             0.880\n",
       "Sports              0.260\n",
       "Platform            0.230\n",
       "Racing              0.230\n",
       "Role-Playing        0.215\n",
       "Simulation          0.160\n",
       "Fighting            0.160\n",
       "Misc                0.140\n",
       "Action              0.130\n",
       "Puzzle              0.100\n",
       "Strategy            0.075\n",
       "Adventure           0.070"
      ]
     },
     "execution_count": 59,
     "metadata": {},
     "output_type": "execute_result"
    }
   ],
   "source": [
    "(\n",
    "    perspective_data\n",
    "    .pivot_table(index = 'genre', values = 'total_sales', aggfunc = 'median')\n",
    "    .sort_values(by = 'total_sales', ascending = False)\n",
    ")"
   ]
  },
  {
   "cell_type": "markdown",
   "id": "4a0dee06-2d5b-42e5-b671-e2362726c28a",
   "metadata": {},
   "source": [
    "Судя по медианным значениям продаж, больше всего продаются игры в жанре `Shooter` и `Sports`, в то время как минимальные показатели показывают `Adventure` и `Srtategy`.\\\n",
    "Посмотрим какую долю в процентах занимает каждый жанр со стороны среднего значения:"
   ]
  },
  {
   "cell_type": "code",
   "execution_count": 60,
   "id": "d445e850-355c-4c37-8e37-64af07e7b69e",
   "metadata": {},
   "outputs": [
    {
     "data": {
      "image/png": "[encoded data removed]",
      "text/plain": [
       "<Figure size 900x900 with 1 Axes>"
      ]
     },
     "metadata": {},
     "output_type": "display_data"
    }
   ],
   "source": [
    "(\n",
    "    perspective_data\n",
    "    .groupby('genre')['total_sales']\n",
    "    .mean()\n",
    "    .plot(kind='pie', figsize=(9, 9), autopct='%1.1f%%')\n",
    ")\n",
    "\n",
    "plt.title('Соотношение общих продаж и жанров игр на популярных платформах', size=10)\n",
    "plt.ylabel('Жанры')\n",
    "plt.show()"
   ]
  },
  {
   "cell_type": "markdown",
   "id": "171009c3-5519-4468-bd62-f1fab1f63c77",
   "metadata": {},
   "source": [
    "`Shooter` забирает на себя солидный объем продаж в **23 %**.\\\n",
    "Так же мы можем отметить, что `Adventure` занимает всего 2,3 %."
   ]
  },
  {
   "cell_type": "code",
   "execution_count": 84,
   "id": "6acffdd4-56d9-464a-85e1-03b02c3ffafc",
   "metadata": {},
   "outputs": [
    {
     "data": {
      "image/png": "[encoded data removed]",
      "text/plain": [
       "<Figure size 1300x900 with 1 Axes>"
      ]
     },
     "metadata": {},
     "output_type": "display_data"
    }
   ],
   "source": [
    "plt.figure(figsize=(13,9))\n",
    "plt.ylim(0, 9)\n",
    "sns.boxplot(x = 'genre', y = 'total_sales', data = perspective_data, hue = 'platform', palette = \"Set2\" );\n",
    "plt.title(\"Глобальные продажи игр в разбивке по платформам\")\n",
    "plt.xlabel(\"Игровые жанры\")\n",
    "plt.ylabel(\"Продажи, млн. проданных копий\")\n",
    "plt.grid(True)\n",
    "plt.show()"
   ]
  },
  {
   "cell_type": "markdown",
   "id": "8af5532a-2acb-4064-80a3-a1ccae4dbace",
   "metadata": {},
   "source": [
    "Боксплот очень наглядно показывает - как лидирует `Shooter` на PS4."
   ]
  },
  {
   "cell_type": "markdown",
   "id": "3df74f28-2d73-4f88-adf5-632bb0d3879a",
   "metadata": {},
   "source": [
    "### ВЫВОД:\n",
    "- Актуальными для нас данными, по моему мнению, являются игры, выпущенные в продажу не позднее **5** лет назад.\\\n",
    "В период 2011-2016 годы - бОльшая часть гейм индустрии идет в онлайн, огромную часть начинает занимать мобильный гейминг с появлением смартфонов, т.к. эти данные у нас не учтены - на нашей гистограмме виден спад.\\\n",
    "Дальше дополнительная реальность и ИИ-ассистенты, а в скором времени и игры от ИИ. Поэтому нет смысла слишком далеко оглядываться назад.\n",
    "\n",
    "- Средняя продолжительность жизни платформы составляет **6** лет.\\\n",
    "В первую очередь это связано с тем, что одно поколение платформ сменяет другое - легко проследить как продажи **PS** подхватывает **PS2** и дальше на рынок выходит **PS3**.\n",
    "\n",
    "- За последние 5 лет лидерами продаж являются **PS3** и **X360** c продажами в **445,57** и **380,38** млн. копий соответственно.\\\n",
    "Однако за последние *2* года первенство удерживают **PS4** и **XOne** с продажами **314,14** и **159,32** млн. копий соответственно, что нетрудно понять, т.к. это следующее поколение консолей тех же производителей.\\\n",
    "Так же отметим, что в целом весь рынок продаж идет на спад, всплеск продаж **PS4** и **XOne** как раз можно объяснить тем, что они стали новинками на рынке, однако падение отмечается по всем направлениям, *без исключения*.\\\n",
    "На основании вышеизложенного, я считаю перспективными платформами **PS4**, **XOne** и **3DS** т.к. ближе к настоящему периоду времени (2016 год) их продажи наиболее выделяются серди остальных платформ. \n",
    "\n",
    "- Медиана продаж **PS4** и **XOne** почти равны - по **0,2** и **0,22** млн. копий соответственно.\n",
    "\n",
    "- Отслеживая корреляции отзывов пользователей и критиков на разных платформах, мы можем сделать вывод: \\\n",
    "  Что у *перспективных платформ* **умеренная связь** между отзывами критиков и количеством продаж, тогда как *отзывы обычных пользователей* влияние на продажи почти **не оказывают**, а так же - чем больше наша выборка данных, тем меньше значение корреляции отзывов критиков, тогда как корреляция оценок пользователей остается почти без изменений.\\\n",
    "Так же мы видим, по расчету корреляции для **перспективных платформ** и для **всех платформ** в совокупности, что зависимость продаж от *отзывов критиков* **больше**, чем зависимость продаж от *отзывов пользователей*. \\\n",
    "Продажи увеличиваются с увеличением рейтинга отзывов критиков и пользователей.\n",
    "\n",
    "- Больше всего продаж приносят игры в жанре **Shooter** и **Sports**, в то время как минимальные показатели показывают **Adventure** и **Srtategy**.\n",
    "**Shooter** забирает на себя солидный объем продаж в **23 %**.\n"
   ]
  },
  {
   "cell_type": "markdown",
   "id": "e2ecef4f-2e02-4e0b-8cb3-3bdc2df0774b",
   "metadata": {},
   "source": [
    "## Шаг 4. Составим портрет пользователя каждого региона"
   ]
  },
  {
   "cell_type": "markdown",
   "id": "3e363e71-fce6-4fde-befc-32901ad922f6",
   "metadata": {},
   "source": [
    "Определим для пользователя каждого региона (NA, EU, JP):"
   ]
  },
  {
   "cell_type": "markdown",
   "id": "c037c82a-60af-4550-b35d-5a1f213f7ee1",
   "metadata": {},
   "source": [
    "### 4.1 Самые популярные платформы (топ-5)"
   ]
  },
  {
   "cell_type": "code",
   "execution_count": 62,
   "id": "8b9663d9-bcce-4c90-8c22-dd2f7aab84cf",
   "metadata": {},
   "outputs": [
    {
     "data": {
      "text/html": [
       "<div>\n",
       "<style scoped>\n",
       "    .dataframe tbody tr th:only-of-type {\n",
       "        vertical-align: middle;\n",
       "    }\n",
       "\n",
       "    .dataframe tbody tr th {\n",
       "        vertical-align: top;\n",
       "    }\n",
       "\n",
       "    .dataframe thead th {\n",
       "        text-align: right;\n",
       "    }\n",
       "</style>\n",
       "<table border=\"1\" class=\"dataframe\">\n",
       "  <thead>\n",
       "    <tr style=\"text-align: right;\">\n",
       "      <th></th>\n",
       "      <th>Платформа</th>\n",
       "      <th>Медианные продажи в Северной Америке, млн. копий</th>\n",
       "      <th>Общие продажи, млн. копий</th>\n",
       "      <th>%</th>\n",
       "    </tr>\n",
       "  </thead>\n",
       "  <tbody>\n",
       "    <tr>\n",
       "      <th>0</th>\n",
       "      <td>X360</td>\n",
       "      <td>0.15</td>\n",
       "      <td>0.27</td>\n",
       "      <td>55.56</td>\n",
       "    </tr>\n",
       "    <tr>\n",
       "      <th>1</th>\n",
       "      <td>XOne</td>\n",
       "      <td>0.12</td>\n",
       "      <td>0.22</td>\n",
       "      <td>54.55</td>\n",
       "    </tr>\n",
       "    <tr>\n",
       "      <th>2</th>\n",
       "      <td>WiiU</td>\n",
       "      <td>0.11</td>\n",
       "      <td>0.22</td>\n",
       "      <td>50.00</td>\n",
       "    </tr>\n",
       "    <tr>\n",
       "      <th>3</th>\n",
       "      <td>Wii</td>\n",
       "      <td>0.08</td>\n",
       "      <td>0.17</td>\n",
       "      <td>47.06</td>\n",
       "    </tr>\n",
       "    <tr>\n",
       "      <th>4</th>\n",
       "      <td>PS3</td>\n",
       "      <td>0.06</td>\n",
       "      <td>0.21</td>\n",
       "      <td>28.57</td>\n",
       "    </tr>\n",
       "  </tbody>\n",
       "</table>\n",
       "</div>"
      ],
      "text/plain": [
       "  Платформа  Медианные продажи в Северной Америке, млн. копий  \\\n",
       "0      X360                                              0.15   \n",
       "1      XOne                                              0.12   \n",
       "2      WiiU                                              0.11   \n",
       "3       Wii                                              0.08   \n",
       "4       PS3                                              0.06   \n",
       "\n",
       "   Общие продажи, млн. копий      %  \n",
       "0                       0.27  55.56  \n",
       "1                       0.22  54.55  \n",
       "2                       0.22  50.00  \n",
       "3                       0.17  47.06  \n",
       "4                       0.21  28.57  "
      ]
     },
     "execution_count": 62,
     "metadata": {},
     "output_type": "execute_result"
    }
   ],
   "source": [
    "top_5pl_na = (\n",
    "    data\n",
    "    .query('year_of_release >= 2011')\n",
    "    .pivot_table(index = 'platform', values = ['na_sales','total_sales'], aggfunc = ('median'))\n",
    "    .sort_values(by = 'na_sales', ascending = False)\n",
    "    .reset_index()\n",
    "    .head(5)\n",
    ")\n",
    "top_5pl_na['%'] = (top_5pl_na['na_sales'] / top_5pl_na['total_sales']*100).round(2)\n",
    "top_5pl_na = top_5pl_na.rename(columns = {'platform' : 'Платформа', 'na_sales' : 'Медианные продажи в Северной Америке, млн. копий', 'total_sales' : 'Общие продажи, млн. копий'})\n",
    "top_5pl_na"
   ]
  },
  {
   "cell_type": "markdown",
   "id": "e6671b57-5c91-45d0-8c27-d5a68ca3d838",
   "metadata": {},
   "source": [
    "Для пользователей из `Северной Америки` самой популярной является платформа `X360` от `Microsoft`, около **56 %** продаж приходится на эту платформу, а так же более **54 %** на её приемника `XOne`. Американский пользователь выбирает отечественную платформу. \\\n",
    "К примеру, доля продаж `PS3` на американском континенте составляет всего **28,57 %**."
   ]
  },
  {
   "cell_type": "code",
   "execution_count": 63,
   "id": "4ece9973-3512-4378-a2c1-4820a3221687",
   "metadata": {},
   "outputs": [
    {
     "data": {
      "text/html": [
       "<div>\n",
       "<style scoped>\n",
       "    .dataframe tbody tr th:only-of-type {\n",
       "        vertical-align: middle;\n",
       "    }\n",
       "\n",
       "    .dataframe tbody tr th {\n",
       "        vertical-align: top;\n",
       "    }\n",
       "\n",
       "    .dataframe thead th {\n",
       "        text-align: right;\n",
       "    }\n",
       "</style>\n",
       "<table border=\"1\" class=\"dataframe\">\n",
       "  <thead>\n",
       "    <tr style=\"text-align: right;\">\n",
       "      <th></th>\n",
       "      <th>Платформа</th>\n",
       "      <th>Средние продажи в Европе, млн. копий</th>\n",
       "      <th>Общие продажи, млн. копий</th>\n",
       "      <th>%</th>\n",
       "    </tr>\n",
       "  </thead>\n",
       "  <tbody>\n",
       "    <tr>\n",
       "      <th>0</th>\n",
       "      <td>PS4</td>\n",
       "      <td>0.359923</td>\n",
       "      <td>0.801378</td>\n",
       "      <td>44.91</td>\n",
       "    </tr>\n",
       "    <tr>\n",
       "      <th>1</th>\n",
       "      <td>X360</td>\n",
       "      <td>0.235141</td>\n",
       "      <td>0.763815</td>\n",
       "      <td>30.79</td>\n",
       "    </tr>\n",
       "    <tr>\n",
       "      <th>2</th>\n",
       "      <td>PS3</td>\n",
       "      <td>0.230679</td>\n",
       "      <td>0.630212</td>\n",
       "      <td>36.60</td>\n",
       "    </tr>\n",
       "    <tr>\n",
       "      <th>3</th>\n",
       "      <td>XOne</td>\n",
       "      <td>0.208866</td>\n",
       "      <td>0.645020</td>\n",
       "      <td>32.38</td>\n",
       "    </tr>\n",
       "    <tr>\n",
       "      <th>4</th>\n",
       "      <td>WiiU</td>\n",
       "      <td>0.170952</td>\n",
       "      <td>0.559116</td>\n",
       "      <td>30.58</td>\n",
       "    </tr>\n",
       "  </tbody>\n",
       "</table>\n",
       "</div>"
      ],
      "text/plain": [
       "  Платформа  Средние продажи в Европе, млн. копий  Общие продажи, млн. копий  \\\n",
       "0       PS4                              0.359923                   0.801378   \n",
       "1      X360                              0.235141                   0.763815   \n",
       "2       PS3                              0.230679                   0.630212   \n",
       "3      XOne                              0.208866                   0.645020   \n",
       "4      WiiU                              0.170952                   0.559116   \n",
       "\n",
       "       %  \n",
       "0  44.91  \n",
       "1  30.79  \n",
       "2  36.60  \n",
       "3  32.38  \n",
       "4  30.58  "
      ]
     },
     "execution_count": 63,
     "metadata": {},
     "output_type": "execute_result"
    }
   ],
   "source": [
    "top_5pl_eu = (\n",
    "    data\n",
    "    .query('year_of_release >= 2011')\n",
    "    .pivot_table(index = 'platform', values = ['eu_sales','total_sales'], aggfunc = ('mean'))\n",
    "    .sort_values(by = 'eu_sales', ascending = False)\n",
    "    .reset_index()\n",
    "    .head(5)\n",
    ")\n",
    "top_5pl_eu['%'] = (top_5pl_eu['eu_sales'] / top_5pl_eu['total_sales']*100).round(2)\n",
    "top_5pl_eu = top_5pl_eu.rename(columns = {'platform' : 'Платформа', 'eu_sales' : 'Средние продажи в Европе, млн. копий', 'total_sales' : 'Общие продажи, млн. копий'})\n",
    "top_5pl_eu"
   ]
  },
  {
   "cell_type": "markdown",
   "id": "266b9941-d181-4923-b4c0-e95cfc579a38",
   "metadata": {},
   "source": [
    "Мы можем наблюдать, что в среднем, большинство продаж в Европе приходится на `PS4` - **0,36** млн. проданных копий, при **45 %** из общего оборота.  "
   ]
  },
  {
   "cell_type": "code",
   "execution_count": 64,
   "id": "7b1b068e-7cd7-4133-a093-0b39d13a92fb",
   "metadata": {},
   "outputs": [
    {
     "data": {
      "text/html": [
       "<div>\n",
       "<style scoped>\n",
       "    .dataframe tbody tr th:only-of-type {\n",
       "        vertical-align: middle;\n",
       "    }\n",
       "\n",
       "    .dataframe tbody tr th {\n",
       "        vertical-align: top;\n",
       "    }\n",
       "\n",
       "    .dataframe thead th {\n",
       "        text-align: right;\n",
       "    }\n",
       "</style>\n",
       "<table border=\"1\" class=\"dataframe\">\n",
       "  <thead>\n",
       "    <tr style=\"text-align: right;\">\n",
       "      <th></th>\n",
       "      <th>Платформа</th>\n",
       "      <th>Средние продажи в Японии, млн. копий</th>\n",
       "      <th>Общие продажи, млн. копий</th>\n",
       "      <th>%</th>\n",
       "    </tr>\n",
       "  </thead>\n",
       "  <tbody>\n",
       "    <tr>\n",
       "      <th>0</th>\n",
       "      <td>3DS</td>\n",
       "      <td>0.196523</td>\n",
       "      <td>0.503535</td>\n",
       "      <td>39.03</td>\n",
       "    </tr>\n",
       "    <tr>\n",
       "      <th>1</th>\n",
       "      <td>WiiU</td>\n",
       "      <td>0.088503</td>\n",
       "      <td>0.559116</td>\n",
       "      <td>15.83</td>\n",
       "    </tr>\n",
       "    <tr>\n",
       "      <th>2</th>\n",
       "      <td>PSP</td>\n",
       "      <td>0.077051</td>\n",
       "      <td>0.092981</td>\n",
       "      <td>82.87</td>\n",
       "    </tr>\n",
       "    <tr>\n",
       "      <th>3</th>\n",
       "      <td>PS3</td>\n",
       "      <td>0.069859</td>\n",
       "      <td>0.630212</td>\n",
       "      <td>11.08</td>\n",
       "    </tr>\n",
       "    <tr>\n",
       "      <th>4</th>\n",
       "      <td>PSV</td>\n",
       "      <td>0.050909</td>\n",
       "      <td>0.125431</td>\n",
       "      <td>40.59</td>\n",
       "    </tr>\n",
       "  </tbody>\n",
       "</table>\n",
       "</div>"
      ],
      "text/plain": [
       "  Платформа  Средние продажи в Японии, млн. копий  Общие продажи, млн. копий  \\\n",
       "0       3DS                              0.196523                   0.503535   \n",
       "1      WiiU                              0.088503                   0.559116   \n",
       "2       PSP                              0.077051                   0.092981   \n",
       "3       PS3                              0.069859                   0.630212   \n",
       "4       PSV                              0.050909                   0.125431   \n",
       "\n",
       "       %  \n",
       "0  39.03  \n",
       "1  15.83  \n",
       "2  82.87  \n",
       "3  11.08  \n",
       "4  40.59  "
      ]
     },
     "execution_count": 64,
     "metadata": {},
     "output_type": "execute_result"
    }
   ],
   "source": [
    "top_5pl_jp = (\n",
    "    data\n",
    "    .query('year_of_release >= 2011')\n",
    "    .pivot_table(index = 'platform', values = ['jp_sales','total_sales'], aggfunc = ('mean'))\n",
    "    .sort_values(by = 'jp_sales', ascending = False)\n",
    "    .reset_index()\n",
    "    .head(5)\n",
    ")\n",
    "top_5pl_jp['%'] = (top_5pl_jp['jp_sales'] / top_5pl_jp['total_sales']*100).round(2)\n",
    "top_5pl_jp = top_5pl_jp.rename(columns = {'platform' : 'Платформа', 'jp_sales' : 'Средние продажи в Японии, млн. копий', 'total_sales' : 'Общие продажи, млн. копий'})\n",
    "top_5pl_jp"
   ]
  },
  {
   "cell_type": "markdown",
   "id": "8ae4543c-9b09-44e1-b5f4-25dbd263f83d",
   "metadata": {},
   "source": [
    "Японцы, как и американцы - предпочитают отечественный продукт, судя по ТОР-5 их популярных платформ - все они от японского производителя.\\\n",
    "В среднем, большинство проданных копий у платформы `3DS` - **0,197** млн. копий, одновременно с более чем **83 %** продаж на платформе `PSP`. "
   ]
  },
  {
   "cell_type": "markdown",
   "id": "767937ab-ba61-46c3-bdd4-863c5d4d640c",
   "metadata": {},
   "source": [
    "### 4.2 Самые популярные жанры (топ-5)"
   ]
  },
  {
   "cell_type": "code",
   "execution_count": 65,
   "id": "53ba449a-2600-48a6-808c-57bb2258bec6",
   "metadata": {},
   "outputs": [
    {
     "data": {
      "text/html": [
       "<div>\n",
       "<style scoped>\n",
       "    .dataframe tbody tr th:only-of-type {\n",
       "        vertical-align: middle;\n",
       "    }\n",
       "\n",
       "    .dataframe tbody tr th {\n",
       "        vertical-align: top;\n",
       "    }\n",
       "\n",
       "    .dataframe thead th {\n",
       "        text-align: right;\n",
       "    }\n",
       "</style>\n",
       "<table border=\"1\" class=\"dataframe\">\n",
       "  <thead>\n",
       "    <tr style=\"text-align: right;\">\n",
       "      <th></th>\n",
       "      <th>Жанр</th>\n",
       "      <th>Средние продажи в Северной Америке, млн. копий</th>\n",
       "      <th>Общие продажи, млн. копий</th>\n",
       "      <th>%</th>\n",
       "    </tr>\n",
       "  </thead>\n",
       "  <tbody>\n",
       "    <tr>\n",
       "      <th>0</th>\n",
       "      <td>Shooter</td>\n",
       "      <td>0.590973</td>\n",
       "      <td>1.224650</td>\n",
       "      <td>48.26</td>\n",
       "    </tr>\n",
       "    <tr>\n",
       "      <th>1</th>\n",
       "      <td>Platform</td>\n",
       "      <td>0.313770</td>\n",
       "      <td>0.726885</td>\n",
       "      <td>43.17</td>\n",
       "    </tr>\n",
       "    <tr>\n",
       "      <th>2</th>\n",
       "      <td>Sports</td>\n",
       "      <td>0.280155</td>\n",
       "      <td>0.611186</td>\n",
       "      <td>45.84</td>\n",
       "    </tr>\n",
       "    <tr>\n",
       "      <th>3</th>\n",
       "      <td>Fighting</td>\n",
       "      <td>0.198931</td>\n",
       "      <td>0.420755</td>\n",
       "      <td>47.28</td>\n",
       "    </tr>\n",
       "    <tr>\n",
       "      <th>4</th>\n",
       "      <td>Misc</td>\n",
       "      <td>0.185840</td>\n",
       "      <td>0.371787</td>\n",
       "      <td>49.99</td>\n",
       "    </tr>\n",
       "  </tbody>\n",
       "</table>\n",
       "</div>"
      ],
      "text/plain": [
       "       Жанр  Средние продажи в Северной Америке, млн. копий  \\\n",
       "0   Shooter                                        0.590973   \n",
       "1  Platform                                        0.313770   \n",
       "2    Sports                                        0.280155   \n",
       "3  Fighting                                        0.198931   \n",
       "4      Misc                                        0.185840   \n",
       "\n",
       "   Общие продажи, млн. копий      %  \n",
       "0                   1.224650  48.26  \n",
       "1                   0.726885  43.17  \n",
       "2                   0.611186  45.84  \n",
       "3                   0.420755  47.28  \n",
       "4                   0.371787  49.99  "
      ]
     },
     "execution_count": 65,
     "metadata": {},
     "output_type": "execute_result"
    }
   ],
   "source": [
    "top_5genre_na = (\n",
    "    data\n",
    "    .query('year_of_release >= 2011')\n",
    "    .pivot_table(index = 'genre', values = ['na_sales','total_sales'], aggfunc = ('mean'))\n",
    "    .sort_values(by = 'na_sales', ascending = False)\n",
    "    .reset_index()\n",
    "    .head(5)\n",
    ")\n",
    "top_5genre_na['%'] = (top_5genre_na['na_sales'] / top_5genre_na['total_sales']*100).round(2)\n",
    "top_5genre_na = top_5genre_na.rename(columns = {'genre' : 'Жанр', 'na_sales' : 'Средние продажи в Северной Америке, млн. копий', 'total_sales' : 'Общие продажи, млн. копий'})\n",
    "top_5genre_na"
   ]
  },
  {
   "cell_type": "markdown",
   "id": "df962b3c-058e-4e0e-a142-7356b38ae899",
   "metadata": {},
   "source": [
    "Больше всего продаж в Северной Америке приносит жанр `Shooter` c **0,59** млн. проданных копий с долей в **48 %** от общемировых продаж этого жанра.\\\n",
    "Однако, наибольшую долю от мирового рынка продаж в своем жанре занимает `Misc` с **50 %** от общих продаж по миру в этом регионе. "
   ]
  },
  {
   "cell_type": "code",
   "execution_count": 66,
   "id": "ae24e342-12e3-40ec-b040-26edbad476c7",
   "metadata": {},
   "outputs": [
    {
     "data": {
      "text/html": [
       "<div>\n",
       "<style scoped>\n",
       "    .dataframe tbody tr th:only-of-type {\n",
       "        vertical-align: middle;\n",
       "    }\n",
       "\n",
       "    .dataframe tbody tr th {\n",
       "        vertical-align: top;\n",
       "    }\n",
       "\n",
       "    .dataframe thead th {\n",
       "        text-align: right;\n",
       "    }\n",
       "</style>\n",
       "<table border=\"1\" class=\"dataframe\">\n",
       "  <thead>\n",
       "    <tr style=\"text-align: right;\">\n",
       "      <th></th>\n",
       "      <th>Жанр</th>\n",
       "      <th>Средние продажи в Европе, млн. копий</th>\n",
       "      <th>Общие продажи, млн. копий</th>\n",
       "      <th>%</th>\n",
       "    </tr>\n",
       "  </thead>\n",
       "  <tbody>\n",
       "    <tr>\n",
       "      <th>0</th>\n",
       "      <td>Shooter</td>\n",
       "      <td>0.449909</td>\n",
       "      <td>1.224650</td>\n",
       "      <td>36.74</td>\n",
       "    </tr>\n",
       "    <tr>\n",
       "      <th>1</th>\n",
       "      <td>Platform</td>\n",
       "      <td>0.246475</td>\n",
       "      <td>0.726885</td>\n",
       "      <td>33.91</td>\n",
       "    </tr>\n",
       "    <tr>\n",
       "      <th>2</th>\n",
       "      <td>Sports</td>\n",
       "      <td>0.228015</td>\n",
       "      <td>0.611186</td>\n",
       "      <td>37.31</td>\n",
       "    </tr>\n",
       "    <tr>\n",
       "      <th>3</th>\n",
       "      <td>Racing</td>\n",
       "      <td>0.225444</td>\n",
       "      <td>0.490611</td>\n",
       "      <td>45.95</td>\n",
       "    </tr>\n",
       "    <tr>\n",
       "      <th>4</th>\n",
       "      <td>Action</td>\n",
       "      <td>0.156911</td>\n",
       "      <td>0.439559</td>\n",
       "      <td>35.70</td>\n",
       "    </tr>\n",
       "  </tbody>\n",
       "</table>\n",
       "</div>"
      ],
      "text/plain": [
       "       Жанр  Средние продажи в Европе, млн. копий  Общие продажи, млн. копий  \\\n",
       "0   Shooter                              0.449909                   1.224650   \n",
       "1  Platform                              0.246475                   0.726885   \n",
       "2    Sports                              0.228015                   0.611186   \n",
       "3    Racing                              0.225444                   0.490611   \n",
       "4    Action                              0.156911                   0.439559   \n",
       "\n",
       "       %  \n",
       "0  36.74  \n",
       "1  33.91  \n",
       "2  37.31  \n",
       "3  45.95  \n",
       "4  35.70  "
      ]
     },
     "execution_count": 66,
     "metadata": {},
     "output_type": "execute_result"
    }
   ],
   "source": [
    "top_5genre_eu = (\n",
    "    data\n",
    "    .query('year_of_release >= 2011')\n",
    "    .pivot_table(index = 'genre', values = ['eu_sales','total_sales'], aggfunc = ('mean'))\n",
    "    .sort_values(by = 'eu_sales', ascending = False)\n",
    "    .reset_index()\n",
    "    .head(5)\n",
    ")\n",
    "top_5genre_eu['%'] = (top_5genre_eu['eu_sales'] / top_5genre_eu['total_sales']*100).round(2)\n",
    "top_5genre_eu = top_5genre_eu.rename(columns = {'genre' : 'Жанр', 'eu_sales' : 'Средние продажи в Европе, млн. копий', 'total_sales' : 'Общие продажи, млн. копий'})\n",
    "top_5genre_eu"
   ]
  },
  {
   "cell_type": "markdown",
   "id": "d2c241a9-1a32-4295-8170-0a33a4c675cb",
   "metadata": {},
   "source": [
    "Первое место по средним продажам в Европе занимает всё тот же `Shooter` cо **0,45** млн. проданных копий с долей в **36,74 %** от общемировых продаж этого жанра.\n",
    "Однако, наибольшую долю от мирового рынка продаж в своем жанре занимает `Rasing` с **46 %** от общих продаж по миру в этом регионе."
   ]
  },
  {
   "cell_type": "code",
   "execution_count": 67,
   "id": "87873bbf-8278-409c-926f-3cddfa78669a",
   "metadata": {},
   "outputs": [
    {
     "data": {
      "text/html": [
       "<div>\n",
       "<style scoped>\n",
       "    .dataframe tbody tr th:only-of-type {\n",
       "        vertical-align: middle;\n",
       "    }\n",
       "\n",
       "    .dataframe tbody tr th {\n",
       "        vertical-align: top;\n",
       "    }\n",
       "\n",
       "    .dataframe thead th {\n",
       "        text-align: right;\n",
       "    }\n",
       "</style>\n",
       "<table border=\"1\" class=\"dataframe\">\n",
       "  <thead>\n",
       "    <tr style=\"text-align: right;\">\n",
       "      <th></th>\n",
       "      <th>Жанр</th>\n",
       "      <th>Продажи в Японии, млн. копий</th>\n",
       "      <th>Общие продажи, млн. копий</th>\n",
       "      <th>%</th>\n",
       "    </tr>\n",
       "  </thead>\n",
       "  <tbody>\n",
       "    <tr>\n",
       "      <th>0</th>\n",
       "      <td>Role-Playing</td>\n",
       "      <td>0.171763</td>\n",
       "      <td>0.528237</td>\n",
       "      <td>32.52</td>\n",
       "    </tr>\n",
       "    <tr>\n",
       "      <th>1</th>\n",
       "      <td>Platform</td>\n",
       "      <td>0.099426</td>\n",
       "      <td>0.726885</td>\n",
       "      <td>13.68</td>\n",
       "    </tr>\n",
       "    <tr>\n",
       "      <th>2</th>\n",
       "      <td>Simulation</td>\n",
       "      <td>0.085588</td>\n",
       "      <td>0.369559</td>\n",
       "      <td>23.16</td>\n",
       "    </tr>\n",
       "    <tr>\n",
       "      <th>3</th>\n",
       "      <td>Fighting</td>\n",
       "      <td>0.077862</td>\n",
       "      <td>0.420755</td>\n",
       "      <td>18.51</td>\n",
       "    </tr>\n",
       "    <tr>\n",
       "      <th>4</th>\n",
       "      <td>Action</td>\n",
       "      <td>0.050134</td>\n",
       "      <td>0.439559</td>\n",
       "      <td>11.41</td>\n",
       "    </tr>\n",
       "  </tbody>\n",
       "</table>\n",
       "</div>"
      ],
      "text/plain": [
       "           Жанр  Продажи в Японии, млн. копий  Общие продажи, млн. копий  \\\n",
       "0  Role-Playing                      0.171763                   0.528237   \n",
       "1      Platform                      0.099426                   0.726885   \n",
       "2    Simulation                      0.085588                   0.369559   \n",
       "3      Fighting                      0.077862                   0.420755   \n",
       "4        Action                      0.050134                   0.439559   \n",
       "\n",
       "       %  \n",
       "0  32.52  \n",
       "1  13.68  \n",
       "2  23.16  \n",
       "3  18.51  \n",
       "4  11.41  "
      ]
     },
     "execution_count": 67,
     "metadata": {},
     "output_type": "execute_result"
    }
   ],
   "source": [
    "top_5genre_jp = (\n",
    "    data\n",
    "    .query('year_of_release >= 2011')\n",
    "    .pivot_table(index = 'genre', values = ['jp_sales','total_sales'], aggfunc = ('mean'))\n",
    "    .sort_values(by = 'jp_sales', ascending = False)\n",
    "    .reset_index()\n",
    "    .head(5)\n",
    ")\n",
    "top_5genre_jp['%'] = (top_5genre_jp['jp_sales'] / top_5genre_jp['total_sales']*100).round(2)\n",
    "top_5genre_jp = top_5genre_jp.rename(columns = {'genre' : 'Жанр', 'jp_sales' : 'Продажи в Японии, млн. копий', 'total_sales' : 'Общие продажи, млн. копий'})\n",
    "top_5genre_jp"
   ]
  },
  {
   "cell_type": "markdown",
   "id": "27a5f634-d151-4280-ae02-4be6872d1525",
   "metadata": {},
   "source": [
    "Первое место по средним продажам в Японии занимает жанр `Role-Playing` c **0,17** млн. проданных копий с долей в **32,52 %** от общемировых продаж этого жанра, что является максимальным для данного региона.  "
   ]
  },
  {
   "cell_type": "markdown",
   "id": "7750a94d-70d6-48a8-8829-04d39e2f5e17",
   "metadata": {},
   "source": [
    "### 4.3 Влияние рейтинга ESRB на продажи в отдельных регионах"
   ]
  },
  {
   "cell_type": "markdown",
   "id": "cabbe439-f450-4c9d-99ec-fec9a799698b",
   "metadata": {},
   "source": [
    "Продолжаем использовать сводные таблицы:\\\n",
    "Согласно википедии, привожу расшифровку классификаций рейтинга организации **ESRB**:\\\n",
    "«**EC**» («**Early childhood**») — «Для детей младшего возраста»: Игра подходит для детей от *3* лет\\\n",
    "«**E**» («**Everyone**») — «Для всех»: Содержание вполне подходит для возрастной категории от *6* лет.\\\n",
    "«**E10+**» («**Everyone 10 and older**») — «Для всех от *10* лет и старше».\\\n",
    "«**T**» («**Teen**») — «Подросткам»: Игра подходит для лиц от *13* лет.\\\n",
    "«**M**» («**Mature**») — «Для взрослых»: Материалы игры не подходят для подростков младше *17* лет.\\\n",
    "«**AO**» («**Adults Only 18+**») — «Только для взрослых»: Содержание игры только для взрослых старше *18* лет.\\\n",
    "«**RP**» («**Rating Pending**») — «Рейтинг ожидается»: Продукт был отправлен в ESRB и ожидает присвоения рейтинга."
   ]
  },
  {
   "cell_type": "code",
   "execution_count": 68,
   "id": "ddd63815-2a7c-42e9-836d-5a5365689251",
   "metadata": {},
   "outputs": [
    {
     "data": {
      "text/html": [
       "<div>\n",
       "<style scoped>\n",
       "    .dataframe tbody tr th:only-of-type {\n",
       "        vertical-align: middle;\n",
       "    }\n",
       "\n",
       "    .dataframe tbody tr th {\n",
       "        vertical-align: top;\n",
       "    }\n",
       "\n",
       "    .dataframe thead th {\n",
       "        text-align: right;\n",
       "    }\n",
       "</style>\n",
       "<table border=\"1\" class=\"dataframe\">\n",
       "  <thead>\n",
       "    <tr style=\"text-align: right;\">\n",
       "      <th></th>\n",
       "      <th>Рейтинг</th>\n",
       "      <th>Продажи в Северной Америке, млн. копий</th>\n",
       "      <th>Общие продажи, млн. копий</th>\n",
       "      <th>%</th>\n",
       "    </tr>\n",
       "  </thead>\n",
       "  <tbody>\n",
       "    <tr>\n",
       "      <th>0</th>\n",
       "      <td>M</td>\n",
       "      <td>0.495900</td>\n",
       "      <td>1.072042</td>\n",
       "      <td>46.26</td>\n",
       "    </tr>\n",
       "    <tr>\n",
       "      <th>1</th>\n",
       "      <td>EC</td>\n",
       "      <td>0.420000</td>\n",
       "      <td>0.450000</td>\n",
       "      <td>93.33</td>\n",
       "    </tr>\n",
       "    <tr>\n",
       "      <th>2</th>\n",
       "      <td>E</td>\n",
       "      <td>0.275802</td>\n",
       "      <td>0.631167</td>\n",
       "      <td>43.70</td>\n",
       "    </tr>\n",
       "    <tr>\n",
       "      <th>3</th>\n",
       "      <td>E10+</td>\n",
       "      <td>0.258158</td>\n",
       "      <td>0.506272</td>\n",
       "      <td>50.99</td>\n",
       "    </tr>\n",
       "    <tr>\n",
       "      <th>4</th>\n",
       "      <td>T</td>\n",
       "      <td>0.177451</td>\n",
       "      <td>0.412386</td>\n",
       "      <td>43.03</td>\n",
       "    </tr>\n",
       "  </tbody>\n",
       "</table>\n",
       "</div>"
      ],
      "text/plain": [
       "  Рейтинг  Продажи в Северной Америке, млн. копий  Общие продажи, млн. копий  \\\n",
       "0       M                                0.495900                   1.072042   \n",
       "1      EC                                0.420000                   0.450000   \n",
       "2       E                                0.275802                   0.631167   \n",
       "3    E10+                                0.258158                   0.506272   \n",
       "4       T                                0.177451                   0.412386   \n",
       "\n",
       "       %  \n",
       "0  46.26  \n",
       "1  93.33  \n",
       "2  43.70  \n",
       "3  50.99  \n",
       "4  43.03  "
      ]
     },
     "execution_count": 68,
     "metadata": {},
     "output_type": "execute_result"
    }
   ],
   "source": [
    "top_5rating_na = (\n",
    "    data\n",
    "    .query('year_of_release >= 2011')\n",
    "    .pivot_table(index = 'rating', values = ['na_sales','total_sales'], aggfunc = ('mean'))\n",
    "    .sort_values(by = 'na_sales', ascending = False)\n",
    "    .reset_index()\n",
    "    .head(5)\n",
    ")\n",
    "top_5rating_na['%'] = (top_5rating_na['na_sales'] / top_5rating_na['total_sales']*100).round(2)\n",
    "top_5rating_na = top_5rating_na.rename(columns = {'rating' : 'Рейтинг', 'na_sales' : 'Продажи в Северной Америке, млн. копий', 'total_sales' : 'Общие продажи, млн. копий'})\n",
    "top_5rating_na"
   ]
  },
  {
   "cell_type": "markdown",
   "id": "c31cd484-720c-40a5-b097-420b8e481704",
   "metadata": {},
   "source": [
    "Как мы видим, из таблицы выше - в Северной Америке большинство игр продается с рейтингом «**M**», со средним результатом в **0,49** млн. проданных копий и **46,26** % от общих продаж данного рейтинга по миру. \\\n",
    "Наибольшую долю от мирового рынка в Америке занимает рейтинг «**ЕС**» в количестве **93%**."
   ]
  },
  {
   "cell_type": "code",
   "execution_count": 69,
   "id": "ad069015-04f7-48e2-883d-c9d0aadbb1d1",
   "metadata": {},
   "outputs": [
    {
     "data": {
      "text/html": [
       "<div>\n",
       "<style scoped>\n",
       "    .dataframe tbody tr th:only-of-type {\n",
       "        vertical-align: middle;\n",
       "    }\n",
       "\n",
       "    .dataframe tbody tr th {\n",
       "        vertical-align: top;\n",
       "    }\n",
       "\n",
       "    .dataframe thead th {\n",
       "        text-align: right;\n",
       "    }\n",
       "</style>\n",
       "<table border=\"1\" class=\"dataframe\">\n",
       "  <thead>\n",
       "    <tr style=\"text-align: right;\">\n",
       "      <th></th>\n",
       "      <th>Рейтинг</th>\n",
       "      <th>Продажи в Европе, млн. копий</th>\n",
       "      <th>Общие продажи, млн. копий</th>\n",
       "      <th>%</th>\n",
       "    </tr>\n",
       "  </thead>\n",
       "  <tbody>\n",
       "    <tr>\n",
       "      <th>0</th>\n",
       "      <td>M</td>\n",
       "      <td>0.402347</td>\n",
       "      <td>1.072042</td>\n",
       "      <td>37.53</td>\n",
       "    </tr>\n",
       "    <tr>\n",
       "      <th>1</th>\n",
       "      <td>E</td>\n",
       "      <td>0.229692</td>\n",
       "      <td>0.631167</td>\n",
       "      <td>36.39</td>\n",
       "    </tr>\n",
       "    <tr>\n",
       "      <th>2</th>\n",
       "      <td>E10+</td>\n",
       "      <td>0.171053</td>\n",
       "      <td>0.506272</td>\n",
       "      <td>33.79</td>\n",
       "    </tr>\n",
       "    <tr>\n",
       "      <th>3</th>\n",
       "      <td>T</td>\n",
       "      <td>0.135000</td>\n",
       "      <td>0.412386</td>\n",
       "      <td>32.74</td>\n",
       "    </tr>\n",
       "    <tr>\n",
       "      <th>4</th>\n",
       "      <td>unknown</td>\n",
       "      <td>0.068273</td>\n",
       "      <td>0.241499</td>\n",
       "      <td>28.27</td>\n",
       "    </tr>\n",
       "  </tbody>\n",
       "</table>\n",
       "</div>"
      ],
      "text/plain": [
       "   Рейтинг  Продажи в Европе, млн. копий  Общие продажи, млн. копий      %\n",
       "0        M                      0.402347                   1.072042  37.53\n",
       "1        E                      0.229692                   0.631167  36.39\n",
       "2     E10+                      0.171053                   0.506272  33.79\n",
       "3        T                      0.135000                   0.412386  32.74\n",
       "4  unknown                      0.068273                   0.241499  28.27"
      ]
     },
     "execution_count": 69,
     "metadata": {},
     "output_type": "execute_result"
    }
   ],
   "source": [
    "top_5rating_eu = (\n",
    "    data\n",
    "    .query('year_of_release >= 2011')\n",
    "    .pivot_table(index = 'rating', values = ['eu_sales','total_sales'], aggfunc = ('mean'))\n",
    "    .sort_values(by = 'eu_sales', ascending = False)\n",
    "    .reset_index()\n",
    "    .head(5)\n",
    ")\n",
    "top_5rating_eu['%'] = (top_5rating_eu['eu_sales'] / top_5rating_eu['total_sales']*100).round(2)\n",
    "top_5rating_eu = top_5rating_eu.rename(columns = {'rating' : 'Рейтинг', 'eu_sales' : 'Продажи в Европе, млн. копий', 'total_sales' : 'Общие продажи, млн. копий'})\n",
    "top_5rating_eu"
   ]
  },
  {
   "cell_type": "markdown",
   "id": "9e6430ca-3050-4da4-9c1d-a64c958755a6",
   "metadata": {},
   "source": [
    "В Европе большинство игр всё так же продается с рейтингом «**M**», со средним результатом в **0,4** млн. проданных копий и **37,53** % от общих продаж данного рейтинга по миру. Так же рейтинг «**M**» занимает наибольшую долю в Европе от мирового рынка. "
   ]
  },
  {
   "cell_type": "code",
   "execution_count": 70,
   "id": "e7eda0aa-d41c-4d4e-8b1f-b2cbebecc6be",
   "metadata": {},
   "outputs": [
    {
     "data": {
      "text/html": [
       "<div>\n",
       "<style scoped>\n",
       "    .dataframe tbody tr th:only-of-type {\n",
       "        vertical-align: middle;\n",
       "    }\n",
       "\n",
       "    .dataframe tbody tr th {\n",
       "        vertical-align: top;\n",
       "    }\n",
       "\n",
       "    .dataframe thead th {\n",
       "        text-align: right;\n",
       "    }\n",
       "</style>\n",
       "<table border=\"1\" class=\"dataframe\">\n",
       "  <thead>\n",
       "    <tr style=\"text-align: right;\">\n",
       "      <th></th>\n",
       "      <th>Рейтинг</th>\n",
       "      <th>Продажи в Японии, млн. копий</th>\n",
       "      <th>Общие продажи, млн. копий</th>\n",
       "      <th>%</th>\n",
       "    </tr>\n",
       "  </thead>\n",
       "  <tbody>\n",
       "    <tr>\n",
       "      <th>0</th>\n",
       "      <td>unknown</td>\n",
       "      <td>0.080919</td>\n",
       "      <td>0.241499</td>\n",
       "      <td>33.51</td>\n",
       "    </tr>\n",
       "    <tr>\n",
       "      <th>1</th>\n",
       "      <td>E</td>\n",
       "      <td>0.059449</td>\n",
       "      <td>0.631167</td>\n",
       "      <td>9.42</td>\n",
       "    </tr>\n",
       "    <tr>\n",
       "      <th>2</th>\n",
       "      <td>T</td>\n",
       "      <td>0.054205</td>\n",
       "      <td>0.412386</td>\n",
       "      <td>13.14</td>\n",
       "    </tr>\n",
       "    <tr>\n",
       "      <th>3</th>\n",
       "      <td>M</td>\n",
       "      <td>0.042026</td>\n",
       "      <td>1.072042</td>\n",
       "      <td>3.92</td>\n",
       "    </tr>\n",
       "    <tr>\n",
       "      <th>4</th>\n",
       "      <td>E10+</td>\n",
       "      <td>0.024627</td>\n",
       "      <td>0.506272</td>\n",
       "      <td>4.86</td>\n",
       "    </tr>\n",
       "  </tbody>\n",
       "</table>\n",
       "</div>"
      ],
      "text/plain": [
       "   Рейтинг  Продажи в Японии, млн. копий  Общие продажи, млн. копий      %\n",
       "0  unknown                      0.080919                   0.241499  33.51\n",
       "1        E                      0.059449                   0.631167   9.42\n",
       "2        T                      0.054205                   0.412386  13.14\n",
       "3        M                      0.042026                   1.072042   3.92\n",
       "4     E10+                      0.024627                   0.506272   4.86"
      ]
     },
     "execution_count": 70,
     "metadata": {},
     "output_type": "execute_result"
    }
   ],
   "source": [
    "top_5rating_jp = (\n",
    "    data\n",
    "    .query('year_of_release >= 2011')\n",
    "    .pivot_table(index = 'rating', values = ['jp_sales','total_sales'], aggfunc = ('mean'))\n",
    "    .sort_values(by = 'jp_sales', ascending = False)\n",
    "    .reset_index()\n",
    "    .head(5)\n",
    ")\n",
    "top_5rating_jp['%'] = (top_5rating_jp['jp_sales'] / top_5rating_jp['total_sales']*100).round(2)\n",
    "top_5rating_jp = top_5rating_jp.rename(columns = {'rating' : 'Рейтинг', 'jp_sales' : 'Продажи в Японии, млн. копий', 'total_sales' : 'Общие продажи, млн. копий'})\n",
    "top_5rating_jp"
   ]
  },
  {
   "cell_type": "markdown",
   "id": "d34b9c29-ecab-4d89-a6f9-bd5e2850d1a1",
   "metadata": {},
   "source": [
    "Большее количество проданных игр в Японии имеет обезличенный рейтинг, поэтому обратим внимание на доставерную информацию о рейтинге, а именно:\\\n",
    "Большинство игр продается с рейтингом «**Е**», со средним результатом в **0,06** млн. проданных копий и **9,42** % от общих продаж игр данного рейтинга по миру.\\\n",
    "Игры с рейтингом «**Т**» занимают наибольшую долю  **13,14 %** в данном регионе. "
   ]
  },
  {
   "cell_type": "markdown",
   "id": "e787524d-cf9e-4680-927e-d7fc4244bc30",
   "metadata": {},
   "source": [
    "### ВЫВОД:\n",
    "Рассматривая самые популярные платформы по регионам, мы выяснили:\n",
    "\n",
    "- Для пользователей из `Северной Америки` самой популярной является платформа `X360` от `Microsoft`, около **56 %** продаж приходится на эту платформу, а так же более **54 %** на её приемника `XOne`. Американский пользователь выбирает отечественную платформу. \n",
    "- В среднем, большинство продаж в Европе приходится на `PS4` - **0,36** млн. проданных копий, при **45 %** из общего оборота.\n",
    "- Японцы, как и американцы - предпочитают отечественный продукт, судя по ТОР-5 их популярных платформ - все они от японского производителя.\\\n",
    "В среднем, большинство проданных копий у платформы `3DS` - **0,197** млн. копий, одновременно с более чем **83 %** продаж на платформе `PSP`. \n",
    "\n",
    "Рассматривая самые популярные жанры по регионам, мы выяснили:\n",
    "- Больше всего продаж в Северной Америке приносит жанр `Shooter` c **0,59** млн. проданных копий с долей в **48 %** от общемировых продаж этого жанра.\\\n",
    "Однако, наибольшую долю от мирового рынка продаж в своем жанре занимает `Misc` с **50 %** от общих продаж по миру в этом регионе.\n",
    "- Первое место по средним продажам в Европе занимает всё тот же `Shooter` cо **0,45** млн. проданных копий с долей в **36,74 %** от общемировых продаж этого жанра.\\\n",
    "Однако, наибольшую долю от мирового рынка продаж в своем жанре занимает `Rasing` с **46 %** от общих продаж по миру в этом регионе.\n",
    "- Первое место по средним продажам в Японии занимает жанр `Role-Playing` c **0,17** млн. проданных копий с долей в **32,52 %** от общемировых продаж этого жанра, что является максимальным для данного региона.  \n",
    "\n",
    "Рассматривая самые влияние рейтинга **ESRB** по регионам, мы выяснили:\n",
    "- Как мы видим, из таблицы выше - в Северной Америке большинство игр продается с рейтингом «**M**», со средним результатом в **0,49** млн. проданных копий и **46,26** % от общих продаж данного рейтинга по миру. \\\n",
    "Наибольшую долю от мирового рынка в Америке занимает рейтинг «**ЕС**» в количестве **93%**.\n",
    "- В Европе большинство игр всё так же продается с рейтингом «**M**», со средним результатом в **0,4** млн. проданных копий и **37,53** % от общих продаж данного рейтинга по миру. Так же рейтинг «**M**» занимает наибольшую долю в Европе от мирового рынка.\n",
    "- Большее количество проданных игр в Японии имеет обезличенный рейтинг, поэтому обратим внимание на доставерную информацию о рейтинге, а именно:\\\n",
    "Большинство игр продается с рейтингом «**Е**», со средним результатом в **0,06** млн. проданных копий и **9,42** % от общих продаж игр данного рейтинга по миру.\\\n",
    "Игры с рейтингом «**Т**» занимают наибольшую долю  **13,14 %** в данном регионе. \n",
    "\n",
    "Таким образом, мы видим, что самыми \"играющими\" регионами является `Северная Америка` и `Европа`, предпочитающие продукцию XBOX и PlayStation, им нравятся схожие жанры, например `Shooter` и доминирующим рейтингом игр у них является `\"М\"`, что говорит о том, что геймингом занимаются люди старше 17 лет. В японском регионе мы наблюдаем, что само количество играющих людей меньше (как и количество проданных копий игр), и популярный возрастной рейтинг ниже **(Е)**, что говорит нам о том, что в Японии в игры играют дети от 6 до 10 лет. А нам как раз для нашего исследования важно, чтобы в игры играли платежеспособные пользователи. "
   ]
  },
  {
   "cell_type": "markdown",
   "id": "c99f4ee8-aaaa-405c-8d64-c5235320a04c",
   "metadata": {},
   "source": [
    "## Шаг 5. Проверим гипотезы"
   ]
  },
  {
   "cell_type": "markdown",
   "id": "54b1b9c2-32d6-4b8d-b9ca-2af4388c377e",
   "metadata": {},
   "source": [
    "### 5.1 Средние пользовательские рейтинги платформ Xbox One и PC одинаковые"
   ]
  },
  {
   "cell_type": "markdown",
   "id": "fb9cc6cb-6c63-46f6-be45-bf567ec314ba",
   "metadata": {},
   "source": [
    "Выдвигаем гипортезы: \n",
    "- Н0: Средний *пользовательский* рейтинг платформы *XOne* **равен** среднему *пользовательскому* рейтингу платформы *PC*.\\\n",
    "\\begin{alignat}{2}\n",
    "H (0): R^{(XOne)}&= R^{(PC)}\n",
    "\\end{alignat}\n",
    "\n",
    "- Н1: Средний *пользовательский* рейтинг платформы *XOne* **больше** среднего *пользовательского* рейтинга платформы *PC*.\\\n",
    "\\begin{alignat}{2}\n",
    "H (1): R^{(XOne)}&> R^{(PC)}\n",
    "\\end{alignat}\n",
    "\n",
    "  Уровень статистической значимости alpha = 0.05"
   ]
  },
  {
   "cell_type": "markdown",
   "id": "9a7f1580-141e-412f-98cf-6e317fc03e95",
   "metadata": {},
   "source": [
    "В столбце `user_score` мы заменили пропущенные значения оценок и `tbd` на 0, что может негативно повлиять на расчет (мы искуственно сместили среднюю оценку пользователей к нулю), отбросим нулевые оценки в новом срезе:"
   ]
  },
  {
   "cell_type": "code",
   "execution_count": 71,
   "id": "ff7f3a1c-0dfe-4b4d-9d48-5213e2faa399",
   "metadata": {},
   "outputs": [],
   "source": [
    "xbox = data.query('platform == \"XOne\" and user_score > 0 and year_of_release >= 2011')\n",
    "pc = data.query('platform == \"PC\" and user_score > 0 and year_of_release >= 2011')"
   ]
  },
  {
   "cell_type": "code",
   "execution_count": 72,
   "id": "a8f91522-c1ca-4d06-b1b6-e4867177c204",
   "metadata": {},
   "outputs": [
    {
     "data": {
      "text/plain": [
       "count    182.000000\n",
       "mean       6.521429\n",
       "std        1.380941\n",
       "min        1.600000\n",
       "25%        5.800000\n",
       "50%        6.800000\n",
       "75%        7.500000\n",
       "max        9.200000\n",
       "Name: user_score, dtype: float64"
      ]
     },
     "execution_count": 72,
     "metadata": {},
     "output_type": "execute_result"
    }
   ],
   "source": [
    "# Вызовем описательную функцию .describe() для просмотра размера выборки\n",
    "xbox['user_score'].describe()"
   ]
  },
  {
   "cell_type": "code",
   "execution_count": 73,
   "id": "8f12d681-0117-4f2a-8c98-f942829a73d3",
   "metadata": {},
   "outputs": [
    {
     "data": {
      "text/plain": [
       "count    307.000000\n",
       "mean       6.451792\n",
       "std        1.611303\n",
       "min        1.400000\n",
       "25%        5.550000\n",
       "50%        6.800000\n",
       "75%        7.700000\n",
       "max        9.300000\n",
       "Name: user_score, dtype: float64"
      ]
     },
     "execution_count": 73,
     "metadata": {},
     "output_type": "execute_result"
    }
   ],
   "source": [
    "# Вызовем описательную функцию .describe() для просмотра размера выборки\n",
    "pc['user_score'].describe()"
   ]
  },
  {
   "cell_type": "markdown",
   "id": "353a2711-59a8-44b6-a09f-198b917a9b6c",
   "metadata": {},
   "source": [
    "Видим, что выборки не равны в размерах, посмотрим на значения дисперсий: "
   ]
  },
  {
   "cell_type": "code",
   "execution_count": 74,
   "id": "b0343eba-b718-4169-a555-e535f2163a7b",
   "metadata": {},
   "outputs": [
    {
     "data": {
      "text/plain": [
       "1.8965188383045533"
      ]
     },
     "execution_count": 74,
     "metadata": {},
     "output_type": "execute_result"
    }
   ],
   "source": [
    "# посмотрим значения дисперсий оценок пользователей для xbox:\n",
    "np.var(xbox['user_score'])"
   ]
  },
  {
   "cell_type": "code",
   "execution_count": 75,
   "id": "3e0c591d-82df-43ea-8e9d-3ec28c8430ea",
   "metadata": {},
   "outputs": [
    {
     "data": {
      "text/plain": [
       "2.587838809960847"
      ]
     },
     "execution_count": 75,
     "metadata": {},
     "output_type": "execute_result"
    }
   ],
   "source": [
    "# посмотрим значения дисперсий оценок пользователей для PC:\n",
    "np.var(pc['user_score'])"
   ]
  },
  {
   "cell_type": "markdown",
   "id": "bb67850f-2b19-40fc-9063-8a2355434cc5",
   "metadata": {},
   "source": [
    "От значений дисперсии зависит параметр `equal_var`, а сама дисперсия показывает - насколько далеко набор чисел разбросан от их среднего значения."
   ]
  },
  {
   "cell_type": "code",
   "execution_count": 76,
   "id": "4f582431-e1d2-4323-8dc9-3dd93d695069",
   "metadata": {},
   "outputs": [
    {
     "name": "stdout",
     "output_type": "stream",
     "text": [
      "p-значение: 0.30653561238192384\n",
      "Не удалось отвергнуть нулевую гипотезу\n"
     ]
    }
   ],
   "source": [
    "# так как у нас имеются две независимые выборки - проверяем гипотезу о равенстве средних двух генеральных совокупностях \n",
    "alpha = 0.05\n",
    "results = st.ttest_ind(\n",
    "    xbox['user_score'],\n",
    "    pc['user_score'], \n",
    "    equal_var = False,\n",
    "    alternative = 'greater')\n",
    "# параметр equal_var = False, так как дисперсии генеральных сопокупностей не равны\n",
    "# параметр greater говорит о том, что будет проверена правосторонняя альтернативная теория\n",
    "\n",
    "print('p-значение:', results.pvalue)\n",
    "\n",
    "if results.pvalue < alpha:\n",
    "    print('Отвергаем нулевую гипотезу')\n",
    "else:\n",
    "    print('Не удалось отвергнуть нулевую гипотезу')"
   ]
  },
  {
   "cell_type": "markdown",
   "id": "aafee95f-1277-459e-a049-d3a439830f1c",
   "metadata": {},
   "source": [
    "Так как нулевая гипотеза *не отвергнута* - есть основания утверждать, что средний пользовательский рейтинг платформы **XOne** равен среднему пользовательскому рейтингу платформы **PC**, при уровне статистической значимости **5 %**. "
   ]
  },
  {
   "cell_type": "markdown",
   "id": "e2ddd394-9ba1-4e7a-b90f-fcb05ca470b8",
   "metadata": {},
   "source": [
    "### 5.2 Средние пользовательские рейтинги жанров Action и Sports разные"
   ]
  },
  {
   "cell_type": "markdown",
   "id": "ac9b80ff-ac39-4ecb-bdef-405a4befab14",
   "metadata": {},
   "source": [
    "Выдвигаем гипортезы: \n",
    "- Н0: Средний *пользовательский* рейтинг жанра *Action* **равен** среднему *пользовательскому* рейтингу жанра *Sports*.\\\n",
    "\\begin{alignat}{2}\n",
    "H (0): R^{(Action)}&= R^{(Sports)}\n",
    "\\end{alignat}\n",
    "\n",
    "- Н1: Средний *пользовательский* рейтинг жанра *Action* **не равен** среднему *пользовательского* рейтингу жанра *Sports*.\\\n",
    "\\begin{alignat}{2}\n",
    "H (1): R^{(Action)}& \\not>\\ R^{(Sports)}\n",
    "\\end{alignat}\n",
    "\n",
    "  Уровень статистической значимости alpha = 0.05"
   ]
  },
  {
   "cell_type": "markdown",
   "id": "be46a256-0db4-417d-9144-b4d0dc0d58bb",
   "metadata": {},
   "source": [
    "Также, как и в предыдущем пункте, сделаем срез данных по нашим искомым данным: "
   ]
  },
  {
   "cell_type": "code",
   "execution_count": 77,
   "id": "99e1bc1f-5f3a-4b08-9d97-df99fc39a6b2",
   "metadata": {},
   "outputs": [],
   "source": [
    "action = data.query('genre == \"Action\" and user_score > 0 and year_of_release >= 2011')\n",
    "sports = data.query('genre == \"Sports\" and user_score > 0 and year_of_release >= 2011')"
   ]
  },
  {
   "cell_type": "code",
   "execution_count": 78,
   "id": "1b15782e-a5b6-4d7f-b391-2c67bebc3071",
   "metadata": {},
   "outputs": [
    {
     "data": {
      "text/plain": [
       "count    664.000000\n",
       "mean       6.775904\n",
       "std        1.346060\n",
       "min        1.600000\n",
       "25%        6.100000\n",
       "50%        7.100000\n",
       "75%        7.800000\n",
       "max        9.100000\n",
       "Name: user_score, dtype: float64"
      ]
     },
     "execution_count": 78,
     "metadata": {},
     "output_type": "execute_result"
    }
   ],
   "source": [
    "# Вызовем описательную функцию .describe() для просмотра размера выборки\n",
    "action['user_score'].describe()"
   ]
  },
  {
   "cell_type": "code",
   "execution_count": 79,
   "id": "a743758a-7e28-42ef-a2e2-0f83026850e1",
   "metadata": {},
   "outputs": [
    {
     "data": {
      "text/plain": [
       "count    245.000000\n",
       "mean       5.651429\n",
       "std        1.701244\n",
       "min        0.200000\n",
       "25%        4.400000\n",
       "50%        6.000000\n",
       "75%        6.900000\n",
       "max        8.800000\n",
       "Name: user_score, dtype: float64"
      ]
     },
     "execution_count": 79,
     "metadata": {},
     "output_type": "execute_result"
    }
   ],
   "source": [
    "# Вызовем описательную функцию .describe() для просмотра размера выборки\n",
    "sports['user_score'].describe()"
   ]
  },
  {
   "cell_type": "markdown",
   "id": "da42416e-c58e-4db5-a38f-4bd254c2c5a0",
   "metadata": {},
   "source": [
    "Видим, что выборки не равны в размерах, посмотрим на значения дисперсий:"
   ]
  },
  {
   "cell_type": "code",
   "execution_count": 80,
   "id": "5a584c9c-eaab-431b-b2a8-3d4c557bc317",
   "metadata": {},
   "outputs": [
    {
     "data": {
      "text/plain": [
       "1.8091482798664522"
      ]
     },
     "execution_count": 80,
     "metadata": {},
     "output_type": "execute_result"
    }
   ],
   "source": [
    "# посмотрим значения дисперсий оценок пользователей для жанра action:\n",
    "np.var(action['user_score'])"
   ]
  },
  {
   "cell_type": "code",
   "execution_count": 81,
   "id": "7683e309-c8b6-4b50-88de-9b8fd10fe857",
   "metadata": {},
   "outputs": [
    {
     "data": {
      "text/plain": [
       "2.8824163265306106"
      ]
     },
     "execution_count": 81,
     "metadata": {},
     "output_type": "execute_result"
    }
   ],
   "source": [
    "# посмотрим значения дисперсий оценок пользователей для жанра sports:\n",
    "np.var(sports['user_score'])"
   ]
  },
  {
   "cell_type": "markdown",
   "id": "74a095b8-f140-4268-bcf1-10a0a22ac9fb",
   "metadata": {},
   "source": [
    "Дисперсии не равны, значит параметр `equal_var` выставляем в значение `False`.  "
   ]
  },
  {
   "cell_type": "code",
   "execution_count": 82,
   "id": "5ff87bfc-88ad-47f0-aaf7-ce992f90df46",
   "metadata": {},
   "outputs": [
    {
     "name": "stdout",
     "output_type": "stream",
     "text": [
      "p-значение: 1.1195647244704726e-18\n",
      "Отвергаем нулевую гипотезу\n"
     ]
    }
   ],
   "source": [
    "# так как у нас имеются две независимые выборки - проверяем гипотезу о равенстве средних двух генеральных совокупностях \n",
    "alpha = 0.05\n",
    "results = st.ttest_ind(\n",
    "    action['user_score'],\n",
    "    sports['user_score'], \n",
    "    equal_var = False,\n",
    "    alternative = 'two-sided')\n",
    "# параметр equal_var = False, так как дисперсии генеральных сопокупностей не равны\n",
    "# параметр two-sided говорит о том, что будет проверена двухсторонняя альтернативная теория\n",
    "\n",
    "print('p-значение:', results.pvalue)\n",
    "\n",
    "if results.pvalue < alpha:\n",
    "    print('Отвергаем нулевую гипотезу')\n",
    "else:\n",
    "    print('Не удалось отвергнуть нулевую гипотезу')"
   ]
  },
  {
   "cell_type": "markdown",
   "id": "65f22f31-f111-4102-9f2b-51febc2e8704",
   "metadata": {},
   "source": [
    "Так как нулевая гипотеза *отвергнута* - есть основания утверждать, что средний пользовательский рейтинг жанра **Action** не равен среднему пользовательскому рейтингу жанра **Sports**, при уровне статистической значимости **5 %**."
   ]
  },
  {
   "cell_type": "markdown",
   "id": "27c04f87-ff34-43cf-b336-f702e2e31049",
   "metadata": {},
   "source": [
    "### ВЫВОД:\n",
    "Нулевая и альтернативная гипотеза сформированы исходя из задания, т.к. у нас в исходных данных имеются две независимые выборки - применяем метод `.ttest_ind`, если в первом случае альтернативная теория проверяется на большее значение, то проверяется правосторонняя альтернативная теория с параметром `alternative = 'greater'`, в втором случае проверяется равенство/неравенство, поэтому мы используем параметр `alternative = 'two-sided'`. \\\n",
    "При проверке гипотез, мы выяснили:\\\n",
    "Есть основания утверждать, что средний пользовательский рейтинг платформы **XOne** *равен* среднему пользовательскому рейтингу платформы **PC**, при уровне статистической значимости **5 %**. \\\n",
    "А так же есть основания утверждать, что средний пользовательский рейтинг жанра **Action** *не равен* среднему пользовательскому рейтингу жанра **Sports**, при уровне статистической значимости **5 %**.\n"
   ]
  },
  {
   "cell_type": "markdown",
   "id": "eeb42316-0768-4a46-a022-7c03f3686da7",
   "metadata": {},
   "source": [
    "# ОБЩИЙ ВЫВОД:\n",
    "В процессе исследования данных интернет-магазина **\"Стримчик\"** мы проделали следующие шаги: \n",
    "- Изучена общая информация о датафрейме:\n",
    "Датафрейм `games.csv` на **11** колонок и **16 715** строк, сразу отметили, что в столбцах `Name`, `Year_of_Release`, `Genre`, `Critic_Score`, `User_score`, `Rating` имеются пропущенные значения, так же видно, что названия столбцов указаны не корректно.\n",
    "\n",
    "На этапе предобработки данных:\n",
    "- Привели названия столбцов к нижнему регистру;\n",
    "- Проверили датафрейм на наличие явных и неявных дубликатов, дубликаты не обнаружены;\n",
    "\n",
    "Обработали пропущенные значения в столбцах: \n",
    "- В столбцах `name` и `genre` удалено **2** строки, что составляет **0,01 %** от общего количества строк. \n",
    "- В столбце `year_of_release` удалено **269** строки, что составляет **1,6 %** от общего количества строк.\n",
    "- В столбце `critic_score` оставлено **8461** пропущенное значение, что составляет **51,5 %** от общего количества строк. Заменить пропуски на среднее значение или медиану мы не можем.  \n",
    "- В столбце `user_score` оставлено **8981** пропущенное значение, что составляет **53,7 %** от общего количества строк.\\\n",
    "В данном столбце `tbd` преобразованы в *NaN*.\n",
    "- В столбце `rating` обработано **6766** пропущенное значение, что составляет **40,5 %** от общего количества строк.\\\n",
    "По аналогии с предыдущими столбцами заменить на медиану или среднее мы не можем, поэтому пропуски заменены значением `unknown`.\n",
    "\n",
    "Пропуски в данных могли появиться в следствие технической ошибки при выгрузке/загрузке данных и обработки информации из разных открытых источников, а так же не стоит упускать значение человеческого фактора - могли быть взяты попросту неактуальные источники данных или заведомо неполные. \n",
    "\n",
    "- Добавили столбец с суммарными продажами игр по всем регионам.\n",
    "- Произвели поиск неявных дубликатов по совпадению названия, платформы и года релиза - удалена одна дублирующаяся строка. \n",
    "\n",
    "На этапе исследовательского анализа данных выяснили, что:\n",
    "- Актуальными для нас данными, по моему мнению, являются игры, выпущенные в продажу не позднее **5** лет назад.\\\n",
    "В период 2011-2016 годы - бОльшая часть гейм индустрии идет в онлайн, огромную часть начинает занимать мобильный гейминг с появлением смартфонов, т.к. эти данные у нас не учтены - на нашей гистограмме виден спад.\\\n",
    "Дальше дополнительная реальность и ИИ-ассистенты, а в скором времени и игры от ИИ. Поэтому нет смысла слишком далеко оглядываться назад.\n",
    "\n",
    "- Средняя продолжительность жизни платформы составляет **6** лет.\\\n",
    "В первую очередь это связано с тем, что одно поколение платформ сменяет другое - легко проследить как продажи **PS** подхватывает **PS2** и дальше на рынок выходит **PS3**.\n",
    "\n",
    "- За последние 5 лет лидерами продаж являются **PS3** и **X360** c продажами в **445,57** и **380,38** млн. копий соответственно.\\\n",
    "Однако за последние *2* года первенство удерживают **PS4** и **XOne** с продажами **314,14** и **159,32** млн. копий соответственно, что нетрудно понять, т.к. это следующее поколение консолей тех же производителей.\\\n",
    "Так же отметим, что в целом весь рынок продаж идет на спад, всплеск продаж **PS4** и **XOne** как раз можно объяснить тем, что они стали новинками на рынке, однако падение отмечается по всем направлениям, *без исключения*.\\\n",
    "На основании вышеизложенного, я считаю перспективными платформами **PS4**, **XOne** и **3DS** т.к. ближе к настоящему периоду времени (2016 год) их продажи наиболее выделяются серди остальных платформ. \n",
    "\n",
    "- Медиана продаж **PS4** и **XOne** почти равны - по **0,2** и **0,22** млн. копий соответственно.\n",
    "\n",
    "- Отслеживая корреляции отзывов пользователей и критиков на разных платформах, мы можем сделать вывод: \\\n",
    "  Что у *перспективных платформ* **умеренная связь** между отзывами критиков и количеством продаж, тогда как *отзывы обычных пользователей* влияние на продажи почти **не оказывают**, а так же - чем больше наша выборка данных, тем меньше значение корреляции отзывов критиков, тогда как корреляция оценок пользователей остается почти без изменений.\\\n",
    "Так же мы видим, по расчету корреляции для **перспективных платформ** и для **всех платформ** в совокупности, что зависимость продаж от *отзывов критиков* **больше**, чем зависимость продаж от *отзывов пользователей*. \\\n",
    "Продажи увеличиваются с увеличением рейтинга отзывов критиков и пользователей.\n",
    "\n",
    "- Больше всего продаж приносят игры в жанре **Shooter** и **Sports**, в то время как минимальные показатели показывают **Adventure** и **Srtategy**.\n",
    "**Shooter** забирает на себя солидный объем продаж в **23 %**.\n",
    "\n",
    "Составили портрет пользователя каждого региона:\n",
    "- Самыми \"играющими\" регионами является `Северная Америка` и `Европа`, предпочитающие продукцию XBOX и PlayStation, им нравятся схожие жанры, например `Shooter` и доминирующим рейтингом игр у них является `\"М\"`, что говорит о том, что геймингом занимаются люди старше 17 лет. В японском регионе мы наблюдаем, что само количество играющих людей меньше (как и количество проданных копий игр), и популярный возрастной рейтинг ниже **(Е)**, что говорит нам о том, что в Японии в игры играют дети от 6 до 10 лет. А нам как раз для нашего исследования важно, чтобы в игры играли платежеспособные пользователи.\n",
    "  \n",
    "Рассматривая самые популярные платформы по регионам, мы выяснили:\n",
    "- Для пользователей из `Северной Америки` самой популярной является платформа `X360` от `Microsoft`, около **56 %** продаж приходится на эту платформу, а так же более **54 %** на её приемника `XOne`. Американский пользователь выбирает отечественную платформу. \n",
    "- В среднем, большинство продаж в Европе приходится на `PS4` - **0,36** млн. проданных копий, при **45 %** из общего оборота.\n",
    "- Японцы, как и американцы - предпочитают отечественный продукт, судя по ТОР-5 их популярных платформ - все они от японского производителя.\\\n",
    "В среднем, большинство проданных копий у платформы `3DS` - **0,197** млн. копий, одновременно с более чем **83 %** продаж на платформе `PSP`. \n",
    "\n",
    "Рассматривая самые популярные жанры по регионам, мы выяснили:\n",
    "- Больше всего продаж в Северной Америке приносит жанр `Shooter` c **0,59** млн. проданных копий с долей в **48 %** от общемировых продаж этого жанра.\\\n",
    "Однако, наибольшую долю от мирового рынка продаж в своем жанре занимает `Misc` с **50 %** от общих продаж по миру в этом регионе.\n",
    "- Первое место по средним продажам в Европе занимает всё тот же `Shooter` cо **0,45** млн. проданных копий с долей в **36,74 %** от общемировых продаж этого жанра.\\\n",
    "Однако, наибольшую долю от мирового рынка продаж в своем жанре занимает `Rasing` с **46 %** от общих продаж по миру в этом регионе.\n",
    "- Первое место по средним продажам в Японии занимает жанр `Role-Playing` c **0,17** млн. проданных копий с долей в **32,52 %** от общемировых продаж этого жанра, что является максимальным для данного региона.  \n",
    "\n",
    "Рассматривая самые влияние рейтинга **ESRB** по регионам, мы выяснили:\n",
    "- Как мы видим, из таблицы выше - в Северной Америке большинство игр продается с рейтингом «**M**», со средним результатом в **0,49** млн. проданных копий и **46,26** % от общих продаж данного рейтинга по миру. \\\n",
    "Наибольшую долю от мирового рынка в Америке занимает рейтинг «**ЕС**» в количестве **93%**.\n",
    "- В Европе большинство игр всё так же продается с рейтингом «**M**», со средним результатом в **0,4** млн. проданных копий и **37,53** % от общих продаж данного рейтинга по миру. Так же рейтинг «**M**» занимает наибольшую долю в Европе от мирового рынка.\n",
    "- Большее количество проданных игр в Японии имеет обезличенный рейтинг, поэтому обратим внимание на доставерную информацию о рейтинге, а именно:\\\n",
    "Большинство игр продается с рейтингом «**Е**», со средним результатом в **0,06** млн. проданных копий и **9,42** % от общих продаж игр данного рейтинга по миру.\\\n",
    "Игры с рейтингом «**Т**» занимают наибольшую долю  **13,14 %** в данном регионе. \n",
    "\n",
    "Выдвинули и проверили гипотезы, по которым у нас:\\\n",
    "Есть основания утверждать, что средний пользовательский рейтинг платформы **XOne** *равен* среднему пользовательскому рейтингу платформы **PC**, при уровне статистической значимости **5 %**. \\\n",
    "А так же есть основания утверждать, что средний пользовательский рейтинг жанра **Action** *не равен* среднему пользовательскому рейтингу жанра **Sports**, при уровне статистической значимости **5 %**.\n",
    "\n",
    "**ЗАКЛЮЧЕНИЕ**\\\n",
    "Для увеличения прибыли руководству интернет-магазина **\"Стримчик\"** необходимо уделить большее внимание пользователем из **Северной Америки** и **Европы**, проводить рекламные кампании на игры с жанром **Shooter** и **Platform**, в которых нужно ориентироваться на пользователей старше 17 лет, которые подходят под категорию игр с рейтингом **\"М\"** (для взрослых)и используют платформамы **PS4** и **XOne**. "
   ]
  }
 ],
 "metadata": {
  "ExecuteTimeLog": [
   {
    "duration": 1057,
    "start_time": "2025-04-10T12:26:08.686Z"
   },
   {
    "duration": 53,
    "start_time": "2025-04-10T12:26:09.745Z"
   },
   {
    "duration": 67,
    "start_time": "2025-04-10T12:26:09.800Z"
   },
   {
    "duration": 24,
    "start_time": "2025-04-10T12:26:09.869Z"
   },
   {
    "duration": 11,
    "start_time": "2025-04-10T12:26:09.895Z"
   },
   {
    "duration": 5,
    "start_time": "2025-04-10T12:26:09.908Z"
   },
   {
    "duration": 17,
    "start_time": "2025-04-10T12:26:09.915Z"
   },
   {
    "duration": 37,
    "start_time": "2025-04-10T12:26:09.934Z"
   },
   {
    "duration": 14,
    "start_time": "2025-04-10T12:26:09.973Z"
   },
   {
    "duration": 14,
    "start_time": "2025-04-10T12:26:09.989Z"
   },
   {
    "duration": 45,
    "start_time": "2025-04-10T12:26:10.004Z"
   },
   {
    "duration": 58,
    "start_time": "2025-04-10T12:26:10.051Z"
   },
   {
    "duration": 8,
    "start_time": "2025-04-10T12:26:10.110Z"
   },
   {
    "duration": 21,
    "start_time": "2025-04-10T12:26:10.120Z"
   },
   {
    "duration": 8,
    "start_time": "2025-04-10T12:26:10.142Z"
   },
   {
    "duration": 14,
    "start_time": "2025-04-10T12:26:10.151Z"
   },
   {
    "duration": 21,
    "start_time": "2025-04-10T12:26:10.167Z"
   },
   {
    "duration": 11,
    "start_time": "2025-04-10T12:26:10.189Z"
   },
   {
    "duration": 88,
    "start_time": "2025-04-10T12:26:10.202Z"
   },
   {
    "duration": 5,
    "start_time": "2025-04-10T12:26:10.292Z"
   },
   {
    "duration": 6,
    "start_time": "2025-04-10T12:26:10.298Z"
   },
   {
    "duration": 6,
    "start_time": "2025-04-10T12:26:10.305Z"
   },
   {
    "duration": 16,
    "start_time": "2025-04-10T12:26:10.312Z"
   },
   {
    "duration": 5,
    "start_time": "2025-04-10T12:26:10.329Z"
   },
   {
    "duration": 4,
    "start_time": "2025-04-10T12:26:10.335Z"
   },
   {
    "duration": 33,
    "start_time": "2025-04-10T12:26:10.340Z"
   },
   {
    "duration": 19,
    "start_time": "2025-04-10T12:26:10.374Z"
   },
   {
    "duration": 14,
    "start_time": "2025-04-10T12:26:10.394Z"
   },
   {
    "duration": 234,
    "start_time": "2025-04-10T12:26:10.410Z"
   },
   {
    "duration": 23,
    "start_time": "2025-04-10T12:26:10.646Z"
   },
   {
    "duration": 259,
    "start_time": "2025-04-10T12:26:10.670Z"
   },
   {
    "duration": 14,
    "start_time": "2025-04-10T12:26:10.931Z"
   },
   {
    "duration": 17,
    "start_time": "2025-04-10T12:26:10.947Z"
   },
   {
    "duration": 256,
    "start_time": "2025-04-10T12:26:10.965Z"
   },
   {
    "duration": 13,
    "start_time": "2025-04-10T12:26:11.223Z"
   },
   {
    "duration": 19,
    "start_time": "2025-04-10T12:26:11.237Z"
   },
   {
    "duration": 255,
    "start_time": "2025-04-10T12:26:11.257Z"
   },
   {
    "duration": 20,
    "start_time": "2025-04-10T12:26:11.513Z"
   },
   {
    "duration": 14,
    "start_time": "2025-04-10T12:26:11.535Z"
   },
   {
    "duration": 3,
    "start_time": "2025-04-10T12:26:11.562Z"
   },
   {
    "duration": 475,
    "start_time": "2025-04-10T12:26:11.569Z"
   },
   {
    "duration": 4,
    "start_time": "2025-04-10T12:26:12.045Z"
   },
   {
    "duration": 17,
    "start_time": "2025-04-10T12:26:12.062Z"
   },
   {
    "duration": 234,
    "start_time": "2025-04-10T12:26:12.080Z"
   },
   {
    "duration": 18,
    "start_time": "2025-04-10T12:26:12.315Z"
   },
   {
    "duration": 19,
    "start_time": "2025-04-10T12:26:12.334Z"
   },
   {
    "duration": 155,
    "start_time": "2025-04-10T12:26:12.362Z"
   },
   {
    "duration": 4,
    "start_time": "2025-04-10T12:26:12.518Z"
   },
   {
    "duration": 176,
    "start_time": "2025-04-10T12:26:12.523Z"
   },
   {
    "duration": 4,
    "start_time": "2025-04-10T12:26:12.701Z"
   },
   {
    "duration": 11,
    "start_time": "2025-04-10T12:26:12.706Z"
   },
   {
    "duration": 5,
    "start_time": "2025-04-10T12:26:12.719Z"
   },
   {
    "duration": 9,
    "start_time": "2025-04-10T12:26:12.726Z"
   },
   {
    "duration": 4,
    "start_time": "2025-04-10T12:26:12.736Z"
   },
   {
    "duration": 84,
    "start_time": "2025-04-10T12:26:12.742Z"
   },
   {
    "duration": 174,
    "start_time": "2025-04-10T12:26:12.828Z"
   },
   {
    "duration": 18,
    "start_time": "2025-04-10T12:26:13.004Z"
   },
   {
    "duration": 17,
    "start_time": "2025-04-10T12:26:13.023Z"
   },
   {
    "duration": 35,
    "start_time": "2025-04-10T12:26:13.041Z"
   },
   {
    "duration": 18,
    "start_time": "2025-04-10T12:26:13.078Z"
   },
   {
    "duration": 18,
    "start_time": "2025-04-10T12:26:13.098Z"
   },
   {
    "duration": 139,
    "start_time": "2025-04-10T12:26:13.117Z"
   },
   {
    "duration": 17,
    "start_time": "2025-04-10T12:26:13.258Z"
   },
   {
    "duration": 17,
    "start_time": "2025-04-10T12:26:13.277Z"
   },
   {
    "duration": 18,
    "start_time": "2025-04-10T12:26:13.296Z"
   },
   {
    "duration": 9,
    "start_time": "2025-04-10T12:26:13.315Z"
   },
   {
    "duration": 14,
    "start_time": "2025-04-10T12:26:13.325Z"
   },
   {
    "duration": 26,
    "start_time": "2025-04-10T12:26:13.340Z"
   },
   {
    "duration": 18,
    "start_time": "2025-04-10T12:26:13.368Z"
   },
   {
    "duration": 7,
    "start_time": "2025-04-10T12:26:13.388Z"
   },
   {
    "duration": 8,
    "start_time": "2025-04-10T12:26:13.396Z"
   },
   {
    "duration": 15,
    "start_time": "2025-04-10T12:26:13.405Z"
   },
   {
    "duration": 7,
    "start_time": "2025-04-10T12:26:13.422Z"
   },
   {
    "duration": 7,
    "start_time": "2025-04-10T12:26:13.431Z"
   },
   {
    "duration": 4,
    "start_time": "2025-04-10T12:26:13.440Z"
   },
   {
    "duration": 20,
    "start_time": "2025-04-10T12:26:13.445Z"
   },
   {
    "duration": 6,
    "start_time": "2025-04-10T12:26:13.466Z"
   }
  ],
  "kernelspec": {
   "display_name": "Python 3 (ipykernel)",
   "language": "python",
   "name": "python3"
  },
  "language_info": {
   "codemirror_mode": {
    "name": "ipython",
    "version": 3
   },
   "file_extension": ".py",
   "mimetype": "text/x-python",
   "name": "python",
   "nbconvert_exporter": "python",
   "pygments_lexer": "ipython3",
   "version": "3.12.7"
  },
  "toc": {
   "base_numbering": 1,
   "nav_menu": {},
   "number_sections": true,
   "sideBar": true,
   "skip_h1_title": true,
   "title_cell": "Table of Contents",
   "title_sidebar": "Contents",
   "toc_cell": false,
   "toc_position": {},
   "toc_section_display": true,
   "toc_window_display": true
  }
 },
 "nbformat": 4,
 "nbformat_minor": 5
}
