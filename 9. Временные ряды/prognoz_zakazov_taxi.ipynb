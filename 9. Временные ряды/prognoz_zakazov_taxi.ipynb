{
 "cells": [
  {
   "cell_type": "markdown",
   "id": "59ab30b5-9704-4698-84bf-9228d177b433",
   "metadata": {},
   "source": [
    "# ПРОЕКТ: Прогнозирование заказов такси"
   ]
  },
  {
   "cell_type": "markdown",
   "id": "f5c583c7-9f5f-44e3-8681-d78fc232eb52",
   "metadata": {},
   "source": [
    "Я работаю в компании: «Чётенькое такси», которая занимается перевозкой пассажиров.\\\n",
    "В нашем сервисе возникла необходимость привлекать больше водителей в период пиковой нагрузки. \\\n",
    "В моём распоряжении исторические данные о заказах такси в аэропортах."
   ]
  },
  {
   "cell_type": "markdown",
   "id": "405697e3-13ca-4d6f-ae2d-b740dc540219",
   "metadata": {},
   "source": [
    "**Цель проекта**: построить модель, которая умеет прогнозировать количество заказов такси на следующий час.\n",
    "- Критерий, который важен заказчику:\\\n",
    "*Значение метрики RMSE на тестовой выборке должно быть не больше 48.*"
   ]
  },
  {
   "cell_type": "markdown",
   "id": "72b7b957-026a-4b25-b726-673799bff419",
   "metadata": {},
   "source": [
    "**Ход исследования:**\n",
    "\n",
    "*Шаг 1* - Загрузка и ресемплирование данных по одному часу;\\\n",
    "*Шаг 2* - Анализ данных;\\\n",
    "*Шаг 3* - Обучение моделей с различными гиперпараметрами;\\\n",
    "*Шаг 4* - Проверка данных на тестовой выборке.\n",
    "\n",
    "Итоговый вывод."
   ]
  },
  {
   "cell_type": "markdown",
   "id": "b9d7ab90-9a14-4983-8050-04d48eaa4f9b",
   "metadata": {},
   "source": [
    "## Шаг 1. Загрузка и ресемплирование данных по одному часу"
   ]
  },
  {
   "cell_type": "code",
   "execution_count": 1,
   "id": "82dc2951-3489-4364-b914-a44b331edecb",
   "metadata": {},
   "outputs": [],
   "source": [
    "!pip install catboost -q\n",
    "!pip install lightgbm -q\n",
    "!pip install statsmodels -q"
   ]
  },
  {
   "cell_type": "code",
   "execution_count": 2,
   "id": "0b1907d0-5403-4bba-85de-ca1e4199e836",
   "metadata": {},
   "outputs": [],
   "source": [
    "# импоритруем pandas для обработки, анализа и структурирования данных\n",
    "import pandas as pd \n",
    "\n",
    "# импоритруем numpy для работы с данными\n",
    "import numpy as np \n",
    "\n",
    "# так же импоритруем matplotlib.pyplot для будущего построения графиков\n",
    "import matplotlib.pyplot as plt \n",
    "\n",
    "# так же импоритруем seaborn для построения графиков\n",
    "import seaborn as sns \n",
    "\n",
    "# Импортируем функцию для разделения датасета на выборки\n",
    "from sklearn.model_selection import (\n",
    "train_test_split, \n",
    "GridSearchCV,\n",
    "TimeSeriesSplit\n",
    ")\n",
    "# Импортируем классы для кодирования \n",
    "from sklearn.preprocessing import StandardScaler, MinMaxScaler \n",
    "\n",
    "# Подключаем метрику MSE.\n",
    "from sklearn.metrics import mean_squared_error as mse \n",
    "\n",
    "# подключаем модели для прогнозирования\n",
    "from catboost import CatBoostRegressor \n",
    "from lightgbm import LGBMRegressor\n",
    "\n",
    "from statsmodels.tsa.seasonal import seasonal_decompose\n",
    "from sklearn.linear_model import LinearRegression\n",
    "\n",
    "from sklearn.pipeline import Pipeline\n",
    "from sklearn.preprocessing import StandardScaler\n",
    "\n",
    "# Отключаем некритичные предупреждения:\n",
    "import warnings\n",
    "warnings.filterwarnings(\"ignore\")\n",
    "# Настройки отображения таблиц\n",
    "pd.set_option('display.max_columns', 20)\n",
    "pd.set_option('display.max_rows', 20)"
   ]
  },
  {
   "cell_type": "markdown",
   "id": "2c62b242-8997-48ab-bf57-86f5f3eeb3e8",
   "metadata": {},
   "source": [
    "### 1.1 Загрузим данные из csv-файла в датафрейм c помощью библиотеки pandas"
   ]
  },
  {
   "cell_type": "code",
   "execution_count": 3,
   "id": "b3cc9716-2f3f-4fc5-a4a6-5f7bfff0585e",
   "metadata": {},
   "outputs": [],
   "source": [
    "try: # открываем наш файл с данными в среде JupiterHUB:\n",
    "    data_taxi = pd.read_csv('/datasets/taxi.csv', parse_dates=[0], index_col = ['datetime']) # количество заказов такси по времени\n",
    "    \n",
    "except: # либо берем данные на ПК для локальной версии Jupiter:\n",
    "    data_taxi = pd.read_csv('C://Users//Voova//datasets//taxi.csv', parse_dates=[0], index_col = ['datetime']) "
   ]
  },
  {
   "cell_type": "markdown",
   "id": "a7f76ae1-0046-498b-aad6-a2b927b1fe89",
   "metadata": {},
   "source": [
    "### 1.2 Изучим общую информацию о датафрейме. Выведим первые строки набора данных."
   ]
  },
  {
   "cell_type": "markdown",
   "id": "83242f1b-7fac-4688-a72a-dac398746604",
   "metadata": {},
   "source": [
    "Отсортируем индекс таблицы по возростанию:"
   ]
  },
  {
   "cell_type": "code",
   "execution_count": 4,
   "id": "c572c79e-2edf-4847-b3ce-f5326e17d910",
   "metadata": {},
   "outputs": [],
   "source": [
    "data_taxi.sort_index(inplace = True)"
   ]
  },
  {
   "cell_type": "markdown",
   "id": "62bc0f71-b2ed-481b-8fe8-0b1a20f508ec",
   "metadata": {},
   "source": [
    "Проверим хронологичность расположения даты и времени: "
   ]
  },
  {
   "cell_type": "code",
   "execution_count": 5,
   "id": "b404f0e0-5d04-444d-88f2-657cb7babf50",
   "metadata": {},
   "outputs": [
    {
     "data": {
      "text/plain": [
       "True"
      ]
     },
     "execution_count": 5,
     "metadata": {},
     "output_type": "execute_result"
    }
   ],
   "source": [
    "data_taxi.index.is_monotonic"
   ]
  },
  {
   "cell_type": "markdown",
   "id": "1de07ee2-8208-4758-9725-91450c873c37",
   "metadata": {},
   "source": [
    "Данные расположены в порядке возростания. "
   ]
  },
  {
   "cell_type": "code",
   "execution_count": 6,
   "id": "8632a7b9-d285-4884-943d-6a347414a062",
   "metadata": {},
   "outputs": [
    {
     "name": "stdout",
     "output_type": "stream",
     "text": [
      "<class 'pandas.core.frame.DataFrame'>\n",
      "DatetimeIndex: 26496 entries, 2018-03-01 00:00:00 to 2018-08-31 23:50:00\n",
      "Data columns (total 1 columns):\n",
      " #   Column      Non-Null Count  Dtype\n",
      "---  ------      --------------  -----\n",
      " 0   num_orders  26496 non-null  int64\n",
      "dtypes: int64(1)\n",
      "memory usage: 414.0 KB\n"
     ]
    }
   ],
   "source": [
    "data_taxi.info() # изучаем общую информацию"
   ]
  },
  {
   "cell_type": "markdown",
   "id": "0757b639-39e7-4d3a-bc86-876f860b1bf1",
   "metadata": {},
   "source": [
    "Перед нами датафрейм на **26 496** строк. Пропущенные значения отсутствуют. \\\n",
    "Временной интервал содержит информацию с 1 марта 2018 года, по 31 августа 2018 года.\\\n",
    "Посмотрим первые 6 строчек таблицы:"
   ]
  },
  {
   "cell_type": "code",
   "execution_count": 7,
   "id": "1e3fce88-8e65-41cf-a139-80abe85fca24",
   "metadata": {},
   "outputs": [
    {
     "data": {
      "text/html": [
       "<div>\n",
       "<style scoped>\n",
       "    .dataframe tbody tr th:only-of-type {\n",
       "        vertical-align: middle;\n",
       "    }\n",
       "\n",
       "    .dataframe tbody tr th {\n",
       "        vertical-align: top;\n",
       "    }\n",
       "\n",
       "    .dataframe thead th {\n",
       "        text-align: right;\n",
       "    }\n",
       "</style>\n",
       "<table border=\"1\" class=\"dataframe\">\n",
       "  <thead>\n",
       "    <tr style=\"text-align: right;\">\n",
       "      <th></th>\n",
       "      <th>num_orders</th>\n",
       "    </tr>\n",
       "    <tr>\n",
       "      <th>datetime</th>\n",
       "      <th></th>\n",
       "    </tr>\n",
       "  </thead>\n",
       "  <tbody>\n",
       "    <tr>\n",
       "      <th>2018-03-01 00:00:00</th>\n",
       "      <td>9</td>\n",
       "    </tr>\n",
       "    <tr>\n",
       "      <th>2018-03-01 00:10:00</th>\n",
       "      <td>14</td>\n",
       "    </tr>\n",
       "    <tr>\n",
       "      <th>2018-03-01 00:20:00</th>\n",
       "      <td>28</td>\n",
       "    </tr>\n",
       "    <tr>\n",
       "      <th>2018-03-01 00:30:00</th>\n",
       "      <td>20</td>\n",
       "    </tr>\n",
       "    <tr>\n",
       "      <th>2018-03-01 00:40:00</th>\n",
       "      <td>32</td>\n",
       "    </tr>\n",
       "    <tr>\n",
       "      <th>2018-03-01 00:50:00</th>\n",
       "      <td>21</td>\n",
       "    </tr>\n",
       "  </tbody>\n",
       "</table>\n",
       "</div>"
      ],
      "text/plain": [
       "                     num_orders\n",
       "datetime                       \n",
       "2018-03-01 00:00:00           9\n",
       "2018-03-01 00:10:00          14\n",
       "2018-03-01 00:20:00          28\n",
       "2018-03-01 00:30:00          20\n",
       "2018-03-01 00:40:00          32\n",
       "2018-03-01 00:50:00          21"
      ]
     },
     "execution_count": 7,
     "metadata": {},
     "output_type": "execute_result"
    }
   ],
   "source": [
    "data_taxi.head(6)"
   ]
  },
  {
   "cell_type": "markdown",
   "id": "c340df07-5dc0-4cdd-a01c-4e155d051031",
   "metadata": {},
   "source": [
    "Данные в таблице соответствуют описанию, сейчас интервал заказов составляет 10 минут - необходимо произвести ресемпирование данных по одному часу: "
   ]
  },
  {
   "cell_type": "code",
   "execution_count": 8,
   "id": "75658c3f-7cf7-44fa-9dee-a83b15b573a1",
   "metadata": {},
   "outputs": [],
   "source": [
    "data_taxi = data_taxi.resample('1H').sum()"
   ]
  },
  {
   "cell_type": "markdown",
   "id": "d9bbdd24-2058-43fc-a031-99446843d543",
   "metadata": {},
   "source": [
    "Посмотрим результат:"
   ]
  },
  {
   "cell_type": "code",
   "execution_count": 9,
   "id": "5a26b4a6-0d60-43fe-bc4a-4f27cc09af5b",
   "metadata": {},
   "outputs": [
    {
     "data": {
      "text/html": [
       "<div>\n",
       "<style scoped>\n",
       "    .dataframe tbody tr th:only-of-type {\n",
       "        vertical-align: middle;\n",
       "    }\n",
       "\n",
       "    .dataframe tbody tr th {\n",
       "        vertical-align: top;\n",
       "    }\n",
       "\n",
       "    .dataframe thead th {\n",
       "        text-align: right;\n",
       "    }\n",
       "</style>\n",
       "<table border=\"1\" class=\"dataframe\">\n",
       "  <thead>\n",
       "    <tr style=\"text-align: right;\">\n",
       "      <th></th>\n",
       "      <th>num_orders</th>\n",
       "    </tr>\n",
       "    <tr>\n",
       "      <th>datetime</th>\n",
       "      <th></th>\n",
       "    </tr>\n",
       "  </thead>\n",
       "  <tbody>\n",
       "    <tr>\n",
       "      <th>2018-03-01 00:00:00</th>\n",
       "      <td>124</td>\n",
       "    </tr>\n",
       "    <tr>\n",
       "      <th>2018-03-01 01:00:00</th>\n",
       "      <td>85</td>\n",
       "    </tr>\n",
       "    <tr>\n",
       "      <th>2018-03-01 02:00:00</th>\n",
       "      <td>71</td>\n",
       "    </tr>\n",
       "  </tbody>\n",
       "</table>\n",
       "</div>"
      ],
      "text/plain": [
       "                     num_orders\n",
       "datetime                       \n",
       "2018-03-01 00:00:00         124\n",
       "2018-03-01 01:00:00          85\n",
       "2018-03-01 02:00:00          71"
      ]
     },
     "execution_count": 9,
     "metadata": {},
     "output_type": "execute_result"
    }
   ],
   "source": [
    "data_taxi.head(3)"
   ]
  },
  {
   "cell_type": "code",
   "execution_count": 10,
   "id": "0daa0bc4-dcb2-434e-8d82-8312352aab8a",
   "metadata": {},
   "outputs": [
    {
     "name": "stdout",
     "output_type": "stream",
     "text": [
      "<class 'pandas.core.frame.DataFrame'>\n",
      "DatetimeIndex: 4416 entries, 2018-03-01 00:00:00 to 2018-08-31 23:00:00\n",
      "Freq: H\n",
      "Data columns (total 1 columns):\n",
      " #   Column      Non-Null Count  Dtype\n",
      "---  ------      --------------  -----\n",
      " 0   num_orders  4416 non-null   int64\n",
      "dtypes: int64(1)\n",
      "memory usage: 69.0 KB\n"
     ]
    }
   ],
   "source": [
    "data_taxi.info()"
   ]
  },
  {
   "cell_type": "markdown",
   "id": "96c3378b-cd8d-436c-85ac-943219ad5f18",
   "metadata": {},
   "source": [
    "Ресемплирование произведено успешно, в конечном итоге у нас получилось **4 416** ненулевых строк с интервалом заказов в 1 час. "
   ]
  },
  {
   "cell_type": "markdown",
   "id": "e06e57b0-529f-41e5-be93-3f0b266c4e90",
   "metadata": {},
   "source": [
    "### Вывод:\n",
    "В 1 шаге мы загрузили данные и задали временной ряд через индекс, а так же произвели ресемплирование данных по одному часу.\n",
    "\n",
    "В итоге в нашем распоряжении датафрейм data_taxi:\n",
    "- **1** колонка и **4 416** строк."
   ]
  },
  {
   "cell_type": "markdown",
   "id": "fb43e653-4818-4033-96a9-1b383597666c",
   "metadata": {},
   "source": [
    "## Шаг 2. Анализ данных: "
   ]
  },
  {
   "cell_type": "markdown",
   "id": "aec01242-1a16-4317-a695-50f3022c38c0",
   "metadata": {},
   "source": [
    "### 2.1 Построим графики заказов такси по разному времени"
   ]
  },
  {
   "cell_type": "markdown",
   "id": "880c5025-a985-4253-93ec-afa54babe2c0",
   "metadata": {},
   "source": [
    "Чтобы во временном ряду снизить колебания, применим скользящее среднее, так же добавим столбцы с днем недели и часом в сутках. "
   ]
  },
  {
   "cell_type": "code",
   "execution_count": 11,
   "id": "86ff3a26-d045-4cbc-8b58-676daebabb6d",
   "metadata": {},
   "outputs": [],
   "source": [
    "# скользящее среднее (размер окна подбираем экспериментально):\n",
    "data_taxi['rolling_mean'] = data_taxi.rolling(45).mean()\n",
    "# столбец с днем недели:\n",
    "data_taxi['day_of_week'] = data_taxi.index.dayofweek + 1 # начинаем нумерацию с 1, а не с 0.  \n",
    "# значение часа для каждой записи:\n",
    "data_taxi['hour'] = data_taxi.index.hour"
   ]
  },
  {
   "cell_type": "code",
   "execution_count": 12,
   "id": "ebd301f2-e77e-4667-b9aa-7245d2089178",
   "metadata": {},
   "outputs": [
    {
     "data": {
      "image/png": "[encoded data removed]",
      "text/plain": [
       "<Figure size 864x432 with 1 Axes>"
      ]
     },
     "metadata": {
      "needs_background": "light"
     },
     "output_type": "display_data"
    }
   ],
   "source": [
    "plt.figure(figsize = (12, 6))\n",
    "fig = sns.lineplot(data = data_taxi[['num_orders', 'rolling_mean']], \n",
    "                   palette=[\"#5996F2\", \"#f29559\"], \n",
    "                   dashes = False)\n",
    "plt.title('Распределение заказов такси за всё время')\n",
    "plt.show()"
   ]
  },
  {
   "cell_type": "markdown",
   "id": "007d0f79-9bdd-46fc-b86e-a68a4380583b",
   "metadata": {},
   "source": [
    "На графике выше видно, что среднее значение заказов такси постепенно увеличивается."
   ]
  },
  {
   "cell_type": "markdown",
   "id": "a6d542b5-4c71-4209-a55c-24d79a244a84",
   "metadata": {},
   "source": [
    "Посмотрим распределение заказов по дням недели: "
   ]
  },
  {
   "cell_type": "code",
   "execution_count": 13,
   "id": "a7acd535-1f29-4f88-bbf2-5881cf26a2be",
   "metadata": {
    "scrolled": true
   },
   "outputs": [
    {
     "data": {
      "image/png": "[encoded data removed]",
      "text/plain": [
       "<Figure size 864x432 with 1 Axes>"
      ]
     },
     "metadata": {
      "needs_background": "light"
     },
     "output_type": "display_data"
    }
   ],
   "source": [
    "plt.figure(figsize = (12, 6))\n",
    "fig = sns.lineplot(data = pd.pivot_table(data_taxi, \n",
    "                                         values = 'num_orders', \n",
    "                                         index = 'day_of_week', \n",
    "                                         aggfunc = 'mean'), \n",
    "                   color = '#5996F2')\n",
    "plt.grid(True)\n",
    "plt.title('Распределение заказов такси по дням недели')\n",
    "plt.show()"
   ]
  },
  {
   "cell_type": "markdown",
   "id": "d75321a6-6e3a-4a7b-8d87-b18a122e582e",
   "metadata": {},
   "source": [
    "Понедельник и пятница - пиковые дни для количества заказов."
   ]
  },
  {
   "cell_type": "markdown",
   "id": "a7804c07-6e80-456a-9300-c662f7a2ebb7",
   "metadata": {},
   "source": [
    "Посмотрим распределение заказов по часам:"
   ]
  },
  {
   "cell_type": "code",
   "execution_count": 14,
   "id": "b2a1f835-9fa8-4114-ab81-5e795e12621b",
   "metadata": {},
   "outputs": [
    {
     "data": {
      "image/png": "[encoded data removed]",
      "text/plain": [
       "<Figure size 864x432 with 1 Axes>"
      ]
     },
     "metadata": {
      "needs_background": "light"
     },
     "output_type": "display_data"
    }
   ],
   "source": [
    "plt.figure(figsize = (12, 6))\n",
    "fig = sns.lineplot(data = pd.pivot_table(data_taxi, \n",
    "                                         values = 'num_orders', \n",
    "                                         index = 'hour', \n",
    "                                         aggfunc = 'mean'), \n",
    "                   color = '#5996F2')\n",
    "plt.grid(True)\n",
    "plt.xticks(range(24))\n",
    "plt.title('Распределение заказов такси в течение дня')\n",
    "plt.show()"
   ]
  },
  {
   "cell_type": "markdown",
   "id": "469bfb24-7142-46cc-a19a-2aa9443358d7",
   "metadata": {},
   "source": [
    "На графике видно ярко выраженные впадины и вершины, они могут быть обусловлены установившимся расписанием аэропорта:\\\n",
    "большинство вылетов в 00:00, 10:00, 16:00, что соответствует повышенному спросу на такси. \\\n",
    "Тогда как в 06:00 возможно пересменка сотрудников и далее снова с 08:00 такси становится восстребованным.   "
   ]
  },
  {
   "cell_type": "markdown",
   "id": "187e836a-f957-4e3d-bb3e-5e5ac0aa9c73",
   "metadata": {},
   "source": [
    "### 2.2 Разберем временной ряд на три составляющие: тренд, сезонность и остаток"
   ]
  },
  {
   "cell_type": "code",
   "execution_count": 15,
   "id": "82134133-521e-460f-9a83-37884ecc152f",
   "metadata": {},
   "outputs": [],
   "source": [
    "# для этого овспользуемся функцией seasonal_decompose()\n",
    "decomposed = seasonal_decompose(data_taxi['num_orders'])"
   ]
  },
  {
   "cell_type": "code",
   "execution_count": 16,
   "id": "0583756d-4cbe-46a1-bf76-f8a167d7f696",
   "metadata": {},
   "outputs": [
    {
     "data": {
      "image/png": "[encoded data removed]",
      "text/plain": [
       "<Figure size 864x864 with 3 Axes>"
      ]
     },
     "metadata": {
      "needs_background": "light"
     },
     "output_type": "display_data"
    }
   ],
   "source": [
    "plt.figure(figsize = (12, 12))\n",
    "plt.subplot(311)\n",
    "\n",
    "decomposed.trend.plot(ax = plt.gca())\n",
    "plt.title('Тренд')\n",
    "plt.subplot(312)\n",
    "decomposed.seasonal.plot(ax = plt.gca()) \n",
    "plt.title('Сезонность') # циклично повторяющиеся закономерности\n",
    "plt.subplot(313)\n",
    "decomposed.resid.plot(ax = plt.gca()) \n",
    "plt.title('Остаток')\n",
    "plt.tight_layout()"
   ]
  },
  {
   "cell_type": "markdown",
   "id": "5d343ced-1157-4021-aa27-1665d79c975c",
   "metadata": {},
   "source": [
    "Как я отмечал выше - существует тренд на увеличение общего количества заказов с марта по август;\n",
    "- Временной ряд в **не является стационарным**, так как его среднее плавно растет.\\\n",
    "Остатки необъяснимы, а график сезонности в таком масштабе нечитаем, поэтому увеличим масштаб:"
   ]
  },
  {
   "cell_type": "code",
   "execution_count": 17,
   "id": "773c4248-09a0-41b2-a3cb-8afd2306a160",
   "metadata": {},
   "outputs": [
    {
     "data": {
      "image/png": "[encoded data removed]",
      "text/plain": [
       "<Figure size 864x432 with 1 Axes>"
      ]
     },
     "metadata": {
      "needs_background": "light"
     },
     "output_type": "display_data"
    }
   ],
   "source": [
    "plt.figure(figsize = (12, 6))\n",
    "decomposed.seasonal.plot(color = '#5996F2')\n",
    "plt.title('Сезонность в разрезе недели')\n",
    "plt.xlim(('2018-06-01', '2018-06-07'))\n",
    "plt.show()"
   ]
  },
  {
   "cell_type": "markdown",
   "id": "ba9b9e27-9edb-46d3-8f1e-688b72677e7d",
   "metadata": {},
   "source": [
    "График отличается от графика распределения заказов по дням недели, появились отрицательные значения на оси ординат. Распределение сезонности напоминает распределение заказов в течение дня - провал утром и постепенное достижение максимума к 00:00. "
   ]
  },
  {
   "cell_type": "markdown",
   "id": "1bb7a8f4-6d5e-4715-aeb0-7304992e8b23",
   "metadata": {},
   "source": [
    "### 2.3 Найдём скользящее стандартное отклонение"
   ]
  },
  {
   "cell_type": "markdown",
   "id": "75e00449-722c-4d1e-9d5c-f3ed7c15b6a9",
   "metadata": {},
   "source": [
    "Чтобы ряд сделать стационарным, найдём разности его значений"
   ]
  },
  {
   "cell_type": "code",
   "execution_count": 18,
   "id": "5a7aff29-90e7-4d22-8718-174987ec9925",
   "metadata": {},
   "outputs": [],
   "source": [
    "data_shift = data_taxi - data_taxi.shift()\n",
    "data_shift = data_shift.drop(['rolling_mean', 'day_of_week', 'hour'], axis = 1)\n",
    "data_shift['mean'] = data_shift['num_orders'].rolling(24).mean() # размер окна зададим равный 24, т.к. в сутках 24 часа и данные у нас почасовые.\n",
    "data_shift['std'] = data_shift['num_orders'].rolling(24).std()"
   ]
  },
  {
   "cell_type": "code",
   "execution_count": 19,
   "id": "1a36383c-a5e4-4d4c-924f-30ba517004c7",
   "metadata": {},
   "outputs": [
    {
     "data": {
      "text/plain": [
       "<AxesSubplot:xlabel='datetime'>"
      ]
     },
     "execution_count": 19,
     "metadata": {},
     "output_type": "execute_result"
    },
    {
     "data": {
      "image/png": "[encoded data removed]",
      "text/plain": [
       "<Figure size 864x432 with 1 Axes>"
      ]
     },
     "metadata": {
      "needs_background": "light"
     },
     "output_type": "display_data"
    }
   ],
   "source": [
    "data_shift.plot(figsize = (12, 6)) "
   ]
  },
  {
   "cell_type": "markdown",
   "id": "023d2810-f886-484b-8f00-f45dec3b407f",
   "metadata": {},
   "source": [
    "### 2.4 Создание признаков: "
   ]
  },
  {
   "cell_type": "markdown",
   "id": "c718ee2f-faf6-4bc2-a98a-afe2f5fb3d8a",
   "metadata": {},
   "source": [
    "Напишем функцию make_features(), чтобы прибавить к таблице новые признаки (день недели и час мы уже добавили ранее)."
   ]
  },
  {
   "cell_type": "code",
   "execution_count": 20,
   "id": "28f86dce-fd8f-4fc0-8405-e98dff12459a",
   "metadata": {},
   "outputs": [],
   "source": [
    "def make_features(data, max_lag, rolling_mean_size):\n",
    "    #data['month'] = data.index.month\n",
    "    #data['day'] = data.index.day\n",
    "        \n",
    "    for lag in range(1, max_lag + 1):\n",
    "        data['lag_{}'.format(lag)] = data['num_orders'].shift(lag)\n",
    "\n",
    "    data['rolling_mean'] = data['num_orders'].shift().rolling(rolling_mean_size).mean()\n",
    "    return data \n"
   ]
  },
  {
   "cell_type": "code",
   "execution_count": 21,
   "id": "8c35abdc-39f7-4e9f-ada2-c22d7c5087c2",
   "metadata": {},
   "outputs": [
    {
     "data": {
      "text/html": [
       "<div>\n",
       "<style scoped>\n",
       "    .dataframe tbody tr th:only-of-type {\n",
       "        vertical-align: middle;\n",
       "    }\n",
       "\n",
       "    .dataframe tbody tr th {\n",
       "        vertical-align: top;\n",
       "    }\n",
       "\n",
       "    .dataframe thead th {\n",
       "        text-align: right;\n",
       "    }\n",
       "</style>\n",
       "<table border=\"1\" class=\"dataframe\">\n",
       "  <thead>\n",
       "    <tr style=\"text-align: right;\">\n",
       "      <th></th>\n",
       "      <th>num_orders</th>\n",
       "      <th>rolling_mean</th>\n",
       "      <th>day_of_week</th>\n",
       "      <th>hour</th>\n",
       "      <th>lag_1</th>\n",
       "      <th>lag_2</th>\n",
       "      <th>lag_3</th>\n",
       "      <th>lag_4</th>\n",
       "      <th>lag_5</th>\n",
       "      <th>lag_6</th>\n",
       "      <th>...</th>\n",
       "      <th>lag_15</th>\n",
       "      <th>lag_16</th>\n",
       "      <th>lag_17</th>\n",
       "      <th>lag_18</th>\n",
       "      <th>lag_19</th>\n",
       "      <th>lag_20</th>\n",
       "      <th>lag_21</th>\n",
       "      <th>lag_22</th>\n",
       "      <th>lag_23</th>\n",
       "      <th>lag_24</th>\n",
       "    </tr>\n",
       "    <tr>\n",
       "      <th>datetime</th>\n",
       "      <th></th>\n",
       "      <th></th>\n",
       "      <th></th>\n",
       "      <th></th>\n",
       "      <th></th>\n",
       "      <th></th>\n",
       "      <th></th>\n",
       "      <th></th>\n",
       "      <th></th>\n",
       "      <th></th>\n",
       "      <th></th>\n",
       "      <th></th>\n",
       "      <th></th>\n",
       "      <th></th>\n",
       "      <th></th>\n",
       "      <th></th>\n",
       "      <th></th>\n",
       "      <th></th>\n",
       "      <th></th>\n",
       "      <th></th>\n",
       "      <th></th>\n",
       "    </tr>\n",
       "  </thead>\n",
       "  <tbody>\n",
       "    <tr>\n",
       "      <th>2018-03-01 00:00:00</th>\n",
       "      <td>124</td>\n",
       "      <td>NaN</td>\n",
       "      <td>4</td>\n",
       "      <td>0</td>\n",
       "      <td>NaN</td>\n",
       "      <td>NaN</td>\n",
       "      <td>NaN</td>\n",
       "      <td>NaN</td>\n",
       "      <td>NaN</td>\n",
       "      <td>NaN</td>\n",
       "      <td>...</td>\n",
       "      <td>NaN</td>\n",
       "      <td>NaN</td>\n",
       "      <td>NaN</td>\n",
       "      <td>NaN</td>\n",
       "      <td>NaN</td>\n",
       "      <td>NaN</td>\n",
       "      <td>NaN</td>\n",
       "      <td>NaN</td>\n",
       "      <td>NaN</td>\n",
       "      <td>NaN</td>\n",
       "    </tr>\n",
       "    <tr>\n",
       "      <th>2018-03-01 01:00:00</th>\n",
       "      <td>85</td>\n",
       "      <td>NaN</td>\n",
       "      <td>4</td>\n",
       "      <td>1</td>\n",
       "      <td>124.0</td>\n",
       "      <td>NaN</td>\n",
       "      <td>NaN</td>\n",
       "      <td>NaN</td>\n",
       "      <td>NaN</td>\n",
       "      <td>NaN</td>\n",
       "      <td>...</td>\n",
       "      <td>NaN</td>\n",
       "      <td>NaN</td>\n",
       "      <td>NaN</td>\n",
       "      <td>NaN</td>\n",
       "      <td>NaN</td>\n",
       "      <td>NaN</td>\n",
       "      <td>NaN</td>\n",
       "      <td>NaN</td>\n",
       "      <td>NaN</td>\n",
       "      <td>NaN</td>\n",
       "    </tr>\n",
       "    <tr>\n",
       "      <th>2018-03-01 02:00:00</th>\n",
       "      <td>71</td>\n",
       "      <td>NaN</td>\n",
       "      <td>4</td>\n",
       "      <td>2</td>\n",
       "      <td>85.0</td>\n",
       "      <td>124.0</td>\n",
       "      <td>NaN</td>\n",
       "      <td>NaN</td>\n",
       "      <td>NaN</td>\n",
       "      <td>NaN</td>\n",
       "      <td>...</td>\n",
       "      <td>NaN</td>\n",
       "      <td>NaN</td>\n",
       "      <td>NaN</td>\n",
       "      <td>NaN</td>\n",
       "      <td>NaN</td>\n",
       "      <td>NaN</td>\n",
       "      <td>NaN</td>\n",
       "      <td>NaN</td>\n",
       "      <td>NaN</td>\n",
       "      <td>NaN</td>\n",
       "    </tr>\n",
       "    <tr>\n",
       "      <th>2018-03-01 03:00:00</th>\n",
       "      <td>66</td>\n",
       "      <td>NaN</td>\n",
       "      <td>4</td>\n",
       "      <td>3</td>\n",
       "      <td>71.0</td>\n",
       "      <td>85.0</td>\n",
       "      <td>124.0</td>\n",
       "      <td>NaN</td>\n",
       "      <td>NaN</td>\n",
       "      <td>NaN</td>\n",
       "      <td>...</td>\n",
       "      <td>NaN</td>\n",
       "      <td>NaN</td>\n",
       "      <td>NaN</td>\n",
       "      <td>NaN</td>\n",
       "      <td>NaN</td>\n",
       "      <td>NaN</td>\n",
       "      <td>NaN</td>\n",
       "      <td>NaN</td>\n",
       "      <td>NaN</td>\n",
       "      <td>NaN</td>\n",
       "    </tr>\n",
       "    <tr>\n",
       "      <th>2018-03-01 04:00:00</th>\n",
       "      <td>43</td>\n",
       "      <td>NaN</td>\n",
       "      <td>4</td>\n",
       "      <td>4</td>\n",
       "      <td>66.0</td>\n",
       "      <td>71.0</td>\n",
       "      <td>85.0</td>\n",
       "      <td>124.0</td>\n",
       "      <td>NaN</td>\n",
       "      <td>NaN</td>\n",
       "      <td>...</td>\n",
       "      <td>NaN</td>\n",
       "      <td>NaN</td>\n",
       "      <td>NaN</td>\n",
       "      <td>NaN</td>\n",
       "      <td>NaN</td>\n",
       "      <td>NaN</td>\n",
       "      <td>NaN</td>\n",
       "      <td>NaN</td>\n",
       "      <td>NaN</td>\n",
       "      <td>NaN</td>\n",
       "    </tr>\n",
       "  </tbody>\n",
       "</table>\n",
       "<p>5 rows × 28 columns</p>\n",
       "</div>"
      ],
      "text/plain": [
       "                     num_orders  rolling_mean  day_of_week  hour  lag_1  \\\n",
       "datetime                                                                  \n",
       "2018-03-01 00:00:00         124           NaN            4     0    NaN   \n",
       "2018-03-01 01:00:00          85           NaN            4     1  124.0   \n",
       "2018-03-01 02:00:00          71           NaN            4     2   85.0   \n",
       "2018-03-01 03:00:00          66           NaN            4     3   71.0   \n",
       "2018-03-01 04:00:00          43           NaN            4     4   66.0   \n",
       "\n",
       "                     lag_2  lag_3  lag_4  lag_5  lag_6  ...  lag_15  lag_16  \\\n",
       "datetime                                                ...                   \n",
       "2018-03-01 00:00:00    NaN    NaN    NaN    NaN    NaN  ...     NaN     NaN   \n",
       "2018-03-01 01:00:00    NaN    NaN    NaN    NaN    NaN  ...     NaN     NaN   \n",
       "2018-03-01 02:00:00  124.0    NaN    NaN    NaN    NaN  ...     NaN     NaN   \n",
       "2018-03-01 03:00:00   85.0  124.0    NaN    NaN    NaN  ...     NaN     NaN   \n",
       "2018-03-01 04:00:00   71.0   85.0  124.0    NaN    NaN  ...     NaN     NaN   \n",
       "\n",
       "                     lag_17  lag_18  lag_19  lag_20  lag_21  lag_22  lag_23  \\\n",
       "datetime                                                                      \n",
       "2018-03-01 00:00:00     NaN     NaN     NaN     NaN     NaN     NaN     NaN   \n",
       "2018-03-01 01:00:00     NaN     NaN     NaN     NaN     NaN     NaN     NaN   \n",
       "2018-03-01 02:00:00     NaN     NaN     NaN     NaN     NaN     NaN     NaN   \n",
       "2018-03-01 03:00:00     NaN     NaN     NaN     NaN     NaN     NaN     NaN   \n",
       "2018-03-01 04:00:00     NaN     NaN     NaN     NaN     NaN     NaN     NaN   \n",
       "\n",
       "                     lag_24  \n",
       "datetime                     \n",
       "2018-03-01 00:00:00     NaN  \n",
       "2018-03-01 01:00:00     NaN  \n",
       "2018-03-01 02:00:00     NaN  \n",
       "2018-03-01 03:00:00     NaN  \n",
       "2018-03-01 04:00:00     NaN  \n",
       "\n",
       "[5 rows x 28 columns]"
      ]
     },
     "execution_count": 21,
     "metadata": {},
     "output_type": "execute_result"
    }
   ],
   "source": [
    "# rolling_mean_size задаю равным 24, чтобы максимальый размер окна был 24, как в скользящем стандартном отклонении выше,\n",
    "# max_lag - максимальный размер отставания так же задаем 24, т.к. данные почасовые. \n",
    "make_features(data_taxi, 24, 24)\n",
    "data_taxi.head(5)"
   ]
  },
  {
   "cell_type": "markdown",
   "id": "6b24e29c-8bec-4a38-aae5-058752938436",
   "metadata": {},
   "source": [
    "### 2.5 Подготовка выборок"
   ]
  },
  {
   "cell_type": "code",
   "execution_count": 22,
   "id": "ab05b2a3-4a44-4fd2-bad3-dcd3e6f3898a",
   "metadata": {},
   "outputs": [],
   "source": [
    "# используемые константы\n",
    "RANDOM_STATE = 42\n",
    "TEST_SIZE = 0.1 # установлено по условию задачи"
   ]
  },
  {
   "cell_type": "code",
   "execution_count": 23,
   "id": "17df0831-94e0-435d-a6b1-6a3556a22aab",
   "metadata": {},
   "outputs": [],
   "source": [
    "train, test = train_test_split(data_taxi, \n",
    "                               shuffle = False, \n",
    "                               test_size = TEST_SIZE, \n",
    "                               random_state = RANDOM_STATE)"
   ]
  },
  {
   "cell_type": "code",
   "execution_count": 24,
   "id": "fab34268-2c8f-431e-834c-4753671af998",
   "metadata": {},
   "outputs": [],
   "source": [
    "train = train.dropna()"
   ]
  },
  {
   "cell_type": "code",
   "execution_count": 25,
   "id": "9ca016f2-144a-49c0-9c04-033fd81070cf",
   "metadata": {},
   "outputs": [],
   "source": [
    "X_train = train.drop('num_orders', axis = 1)\n",
    "X_test = test.drop('num_orders', axis = 1)"
   ]
  },
  {
   "cell_type": "code",
   "execution_count": 26,
   "id": "d2f4e3b1-0288-4e51-a7d2-a8dc658b6b11",
   "metadata": {},
   "outputs": [],
   "source": [
    "y_train = train['num_orders']\n",
    "y_test = test['num_orders']"
   ]
  },
  {
   "cell_type": "code",
   "execution_count": 27,
   "id": "72bcd429-294d-49fc-99fe-8c5a187df85b",
   "metadata": {},
   "outputs": [
    {
     "name": "stdout",
     "output_type": "stream",
     "text": [
      "Размер обучающей выборки:89%\n",
      "==================================================\n",
      "Размер тестовой выборки:10%\n"
     ]
    }
   ],
   "source": [
    "print(f'Размер обучающей выборки:{(len(X_train)/len(data_taxi)):.0%}')\n",
    "print(\"=\"*50)\n",
    "print(f'Размер тестовой выборки:{(len(y_test)/len(data_taxi)):.0%}')"
   ]
  },
  {
   "cell_type": "markdown",
   "id": "9688f73b-d579-4fe2-a2b9-05a9fdf6d854",
   "metadata": {},
   "source": [
    "### ВЫВОД: "
   ]
  },
  {
   "cell_type": "markdown",
   "id": "edc471f4-048c-4a63-a40b-91640aaa3a30",
   "metadata": {},
   "source": [
    "В ходе анализа данных мы обнаружили:\n",
    "- Виден общий тренд на увеличение заказов.\n",
    "- Временной ряд в не является стационарным, так как его среднее плавно растет.\n",
    "- В среднем больше всего заказов в понедельник и пятницу.\n",
    "- В среднем меньше всего заказов во вторник и в воскресенье.\n",
    "- В среднем пиковая нагрузка приходится на полночь.\n",
    "- В среднем меньше всего заказов в шесть утра.\n",
    "\n",
    "Написали функцию и создали новые признаки для моделирования;\\\n",
    "Подготовили выборки с соотношением 1:10. "
   ]
  },
  {
   "cell_type": "markdown",
   "id": "17015350-d16f-4fae-93b8-5e1aae15acac",
   "metadata": {},
   "source": [
    "## Шаг 3. Обучение моделей"
   ]
  },
  {
   "cell_type": "markdown",
   "id": "07d33f6a-3d7d-4237-af30-be5fb23a1109",
   "metadata": {},
   "source": [
    "### 3.1 CatBoost"
   ]
  },
  {
   "cell_type": "code",
   "execution_count": 28,
   "id": "43a7686f-7813-44bc-91b3-fb72ba367e47",
   "metadata": {},
   "outputs": [],
   "source": [
    "model = CatBoostRegressor()\n",
    "tscv = TimeSeriesSplit(n_splits=3)\n",
    "params = {\n",
    "    'n_estimators' : [40, 90],\n",
    "    'random_state' : [RANDOM_STATE],\n",
    "    'max_depth' : [2, 6, 9],\n",
    "    'verbose':[10]\n",
    "}\n",
    "\n",
    "grid_cb = GridSearchCV(\n",
    "    estimator = model, \n",
    "    param_grid = params, \n",
    "    cv = tscv, \n",
    "    n_jobs = -1, \n",
    "    scoring = 'neg_mean_squared_error'\n",
    ")"
   ]
  },
  {
   "cell_type": "code",
   "execution_count": 29,
   "id": "10fc65ae-07af-45f6-8d94-7acc2db22423",
   "metadata": {},
   "outputs": [
    {
     "name": "stdout",
     "output_type": "stream",
     "text": [
      "Learning rate set to 0.5\n",
      "0:\tlearn: 25.1781901\ttotal: 47.4ms\tremaining: 1.85s\n",
      "10:\tlearn: 18.3854345\ttotal: 54.3ms\tremaining: 143ms\n",
      "20:\tlearn: 17.2051734\ttotal: 60.5ms\tremaining: 54.7ms\n",
      "30:\tlearn: 16.4187607\ttotal: 66.8ms\tremaining: 19.4ms\n",
      "39:\tlearn: 15.4769726\ttotal: 72.9ms\tremaining: 0us\n",
      "Learning rate set to 0.5\n",
      "0:\tlearn: 27.4419574\ttotal: 1.11ms\tremaining: 43.5ms\n",
      "10:\tlearn: 20.8914824\ttotal: 9.98ms\tremaining: 26.3ms\n",
      "20:\tlearn: 19.7672272\ttotal: 18.3ms\tremaining: 16.6ms\n",
      "30:\tlearn: 18.9371782\ttotal: 27.1ms\tremaining: 7.88ms\n",
      "39:\tlearn: 18.3098970\ttotal: 34.8ms\tremaining: 0us\n",
      "Learning rate set to 0.5\n",
      "0:\tlearn: 29.1452199\ttotal: 1.51ms\tremaining: 59.1ms\n",
      "10:\tlearn: 22.4995809\ttotal: 11.9ms\tremaining: 31.5ms\n",
      "20:\tlearn: 21.5904673\ttotal: 22ms\tremaining: 19.9ms\n",
      "30:\tlearn: 20.5740369\ttotal: 32.2ms\tremaining: 9.36ms\n",
      "39:\tlearn: 20.0675439\ttotal: 41.5ms\tremaining: 0us\n",
      "Learning rate set to 0.289482\n",
      "0:\tlearn: 26.6595519\ttotal: 784us\tremaining: 69.8ms\n",
      "10:\tlearn: 19.1668471\ttotal: 7.68ms\tremaining: 55.2ms\n",
      "20:\tlearn: 18.2599745\ttotal: 14.3ms\tremaining: 46.9ms\n",
      "30:\tlearn: 17.4494153\ttotal: 20.6ms\tremaining: 39.3ms\n",
      "40:\tlearn: 17.0165473\ttotal: 27.2ms\tremaining: 32.5ms\n",
      "50:\tlearn: 16.3910603\ttotal: 33.5ms\tremaining: 25.6ms\n",
      "60:\tlearn: 15.9452735\ttotal: 40.9ms\tremaining: 19.4ms\n",
      "70:\tlearn: 15.4730710\ttotal: 47.3ms\tremaining: 12.7ms\n",
      "80:\tlearn: 15.0741487\ttotal: 53.7ms\tremaining: 5.97ms\n",
      "89:\tlearn: 14.7760167\ttotal: 59.5ms\tremaining: 0us\n",
      "Learning rate set to 0.322935\n",
      "0:\tlearn: 28.7890607\ttotal: 1.02ms\tremaining: 90.5ms\n",
      "10:\tlearn: 21.2054282\ttotal: 9.59ms\tremaining: 68.9ms\n",
      "20:\tlearn: 20.0797208\ttotal: 18.2ms\tremaining: 59.9ms\n",
      "30:\tlearn: 19.3427154\ttotal: 26.8ms\tremaining: 51.1ms\n",
      "40:\tlearn: 18.8613603\ttotal: 35.3ms\tremaining: 42.2ms\n",
      "50:\tlearn: 18.4344145\ttotal: 43.5ms\tremaining: 33.3ms\n",
      "60:\tlearn: 17.9769756\ttotal: 52.4ms\tremaining: 24.9ms\n",
      "70:\tlearn: 17.6418875\ttotal: 60.9ms\tremaining: 16.3ms\n",
      "80:\tlearn: 17.2867999\ttotal: 69.4ms\tremaining: 7.71ms\n",
      "89:\tlearn: 17.1221985\ttotal: 77.6ms\tremaining: 0us\n",
      "Learning rate set to 0.344282\n",
      "0:\tlearn: 30.3668402\ttotal: 1.28ms\tremaining: 114ms\n",
      "10:\tlearn: 22.7940857\ttotal: 11.6ms\tremaining: 83.3ms\n",
      "20:\tlearn: 21.7221281\ttotal: 21.8ms\tremaining: 71.8ms\n",
      "30:\tlearn: 20.9558465\ttotal: 32.4ms\tremaining: 61.7ms\n",
      "40:\tlearn: 20.4626856\ttotal: 42.4ms\tremaining: 50.7ms\n",
      "50:\tlearn: 19.9683650\ttotal: 52.3ms\tremaining: 40ms\n",
      "60:\tlearn: 19.6618913\ttotal: 61.9ms\tremaining: 29.4ms\n",
      "70:\tlearn: 19.2939652\ttotal: 72.2ms\tremaining: 19.3ms\n",
      "80:\tlearn: 19.0041362\ttotal: 82.3ms\tremaining: 9.14ms\n",
      "89:\tlearn: 18.7820449\ttotal: 91ms\tremaining: 0us\n",
      "Learning rate set to 0.5\n",
      "0:\tlearn: 23.0511374\ttotal: 6.32ms\tremaining: 247ms\n",
      "10:\tlearn: 14.8752363\ttotal: 44.9ms\tremaining: 118ms\n",
      "20:\tlearn: 12.2306022\ttotal: 88ms\tremaining: 79.6ms\n",
      "30:\tlearn: 9.9195856\ttotal: 124ms\tremaining: 36ms\n",
      "39:\tlearn: 8.5277412\ttotal: 155ms\tremaining: 0us\n",
      "Learning rate set to 0.5\n",
      "0:\tlearn: 25.7643858\ttotal: 6.59ms\tremaining: 257ms\n",
      "10:\tlearn: 17.4209829\ttotal: 53.2ms\tremaining: 140ms\n",
      "20:\tlearn: 15.1023618\ttotal: 97.7ms\tremaining: 88.4ms\n",
      "30:\tlearn: 13.3402815\ttotal: 142ms\tremaining: 41.1ms\n",
      "39:\tlearn: 11.8885482\ttotal: 179ms\tremaining: 0us\n",
      "Learning rate set to 0.5\n",
      "0:\tlearn: 27.1931076\ttotal: 6.62ms\tremaining: 258ms\n",
      "10:\tlearn: 19.4476275\ttotal: 61.1ms\tremaining: 161ms\n",
      "20:\tlearn: 17.7002444\ttotal: 114ms\tremaining: 104ms\n",
      "30:\tlearn: 15.8229383\ttotal: 167ms\tremaining: 48.4ms\n",
      "39:\tlearn: 14.7185373\ttotal: 214ms\tremaining: 0us\n",
      "Learning rate set to 0.289482\n",
      "0:\tlearn: 25.3930882\ttotal: 4.18ms\tremaining: 372ms\n",
      "10:\tlearn: 16.6135401\ttotal: 42.7ms\tremaining: 307ms\n",
      "20:\tlearn: 14.3013455\ttotal: 79.4ms\tremaining: 261ms\n",
      "30:\tlearn: 12.8366501\ttotal: 114ms\tremaining: 218ms\n",
      "40:\tlearn: 11.8265325\ttotal: 149ms\tremaining: 178ms\n",
      "50:\tlearn: 10.3126849\ttotal: 186ms\tremaining: 142ms\n",
      "60:\tlearn: 9.0579798\ttotal: 222ms\tremaining: 106ms\n",
      "70:\tlearn: 8.1532735\ttotal: 257ms\tremaining: 68.7ms\n",
      "80:\tlearn: 7.4791319\ttotal: 291ms\tremaining: 32.4ms\n",
      "89:\tlearn: 6.5975061\ttotal: 323ms\tremaining: 0us\n",
      "Learning rate set to 0.322935\n",
      "0:\tlearn: 27.6828331\ttotal: 5.08ms\tremaining: 453ms\n",
      "10:\tlearn: 18.4970081\ttotal: 51.9ms\tremaining: 373ms\n",
      "20:\tlearn: 16.9418554\ttotal: 100ms\tremaining: 329ms\n",
      "30:\tlearn: 15.7517650\ttotal: 146ms\tremaining: 277ms\n",
      "40:\tlearn: 14.2351604\ttotal: 190ms\tremaining: 227ms\n",
      "50:\tlearn: 12.8737732\ttotal: 234ms\tremaining: 179ms\n",
      "60:\tlearn: 12.1140573\ttotal: 277ms\tremaining: 132ms\n",
      "70:\tlearn: 11.3484834\ttotal: 319ms\tremaining: 85.4ms\n",
      "80:\tlearn: 10.5542239\ttotal: 363ms\tremaining: 40.3ms\n",
      "89:\tlearn: 9.8738602\ttotal: 405ms\tremaining: 0us\n",
      "Learning rate set to 0.344282\n",
      "0:\tlearn: 28.9831063\ttotal: 6.58ms\tremaining: 586ms\n",
      "10:\tlearn: 20.2225307\ttotal: 58ms\tremaining: 416ms\n",
      "20:\tlearn: 18.5843597\ttotal: 106ms\tremaining: 348ms\n",
      "30:\tlearn: 17.2655618\ttotal: 153ms\tremaining: 292ms\n",
      "40:\tlearn: 16.0026671\ttotal: 202ms\tremaining: 241ms\n",
      "50:\tlearn: 14.9612738\ttotal: 249ms\tremaining: 190ms\n",
      "60:\tlearn: 14.2532650\ttotal: 295ms\tremaining: 140ms\n",
      "70:\tlearn: 13.3880382\ttotal: 341ms\tremaining: 91.2ms\n",
      "80:\tlearn: 12.7998239\ttotal: 388ms\tremaining: 43.1ms\n",
      "89:\tlearn: 12.2182894\ttotal: 430ms\tremaining: 0us\n",
      "Learning rate set to 0.5\n",
      "0:\tlearn: 22.7579762\ttotal: 38.5ms\tremaining: 1.5s\n",
      "10:\tlearn: 12.5246976\ttotal: 251ms\tremaining: 662ms\n",
      "20:\tlearn: 8.4851390\ttotal: 469ms\tremaining: 425ms\n",
      "30:\tlearn: 6.2818851\ttotal: 685ms\tremaining: 199ms\n",
      "39:\tlearn: 4.3519125\ttotal: 882ms\tremaining: 0us\n",
      "Learning rate set to 0.5\n",
      "0:\tlearn: 25.2389662\ttotal: 56.6ms\tremaining: 2.21s\n",
      "10:\tlearn: 14.5332051\ttotal: 334ms\tremaining: 880ms\n",
      "20:\tlearn: 11.9048034\ttotal: 595ms\tremaining: 538ms\n",
      "30:\tlearn: 9.1159704\ttotal: 869ms\tremaining: 252ms\n",
      "39:\tlearn: 7.2255219\ttotal: 1.11s\tremaining: 0us\n",
      "Learning rate set to 0.5\n",
      "0:\tlearn: 26.6890501\ttotal: 50.5ms\tremaining: 1.97s\n",
      "10:\tlearn: 16.5628944\ttotal: 345ms\tremaining: 910ms\n",
      "20:\tlearn: 14.5002074\ttotal: 635ms\tremaining: 575ms\n",
      "30:\tlearn: 11.9474401\ttotal: 926ms\tremaining: 269ms\n",
      "39:\tlearn: 10.0607785\ttotal: 1.18s\tremaining: 0us\n",
      "Learning rate set to 0.289482\n",
      "0:\tlearn: 25.2490375\ttotal: 38.9ms\tremaining: 3.46s\n",
      "10:\tlearn: 14.2164026\ttotal: 261ms\tremaining: 1.87s\n",
      "20:\tlearn: 11.0730735\ttotal: 492ms\tremaining: 1.62s\n",
      "30:\tlearn: 8.8142209\ttotal: 710ms\tremaining: 1.35s\n",
      "40:\tlearn: 7.4506432\ttotal: 934ms\tremaining: 1.11s\n",
      "50:\tlearn: 6.0199514\ttotal: 1.18s\tremaining: 900ms\n",
      "60:\tlearn: 4.8517910\ttotal: 1.4s\tremaining: 665ms\n",
      "70:\tlearn: 4.0150319\ttotal: 1.62s\tremaining: 433ms\n",
      "80:\tlearn: 3.2675712\ttotal: 1.84s\tremaining: 204ms\n",
      "89:\tlearn: 2.7504395\ttotal: 2.04s\tremaining: 0us\n",
      "Learning rate set to 0.322935\n",
      "0:\tlearn: 27.3705823\ttotal: 46.3ms\tremaining: 4.12s\n",
      "10:\tlearn: 15.9616795\ttotal: 314ms\tremaining: 2.26s\n",
      "20:\tlearn: 13.5258995\ttotal: 590ms\tremaining: 1.94s\n",
      "30:\tlearn: 11.3574632\ttotal: 854ms\tremaining: 1.62s\n",
      "40:\tlearn: 10.1736537\ttotal: 1.11s\tremaining: 1.33s\n",
      "50:\tlearn: 8.3954574\ttotal: 1.4s\tremaining: 1.07s\n",
      "60:\tlearn: 7.1695459\ttotal: 1.68s\tremaining: 798ms\n",
      "70:\tlearn: 6.1548833\ttotal: 1.94s\tremaining: 519ms\n",
      "80:\tlearn: 5.3382845\ttotal: 2.21s\tremaining: 246ms\n",
      "89:\tlearn: 4.5922431\ttotal: 2.46s\tremaining: 0us\n",
      "Learning rate set to 0.344282\n",
      "0:\tlearn: 28.6854050\ttotal: 52.9ms\tremaining: 4.71s\n",
      "10:\tlearn: 17.6052143\ttotal: 382ms\tremaining: 2.74s\n",
      "20:\tlearn: 15.1035082\ttotal: 683ms\tremaining: 2.25s\n",
      "30:\tlearn: 13.4569760\ttotal: 1s\tremaining: 1.91s\n",
      "40:\tlearn: 12.0175267\ttotal: 1.31s\tremaining: 1.56s\n",
      "50:\tlearn: 10.5259215\ttotal: 1.61s\tremaining: 1.23s\n",
      "60:\tlearn: 9.3857537\ttotal: 1.92s\tremaining: 915ms\n",
      "70:\tlearn: 8.0612447\ttotal: 2.22s\tremaining: 595ms\n",
      "80:\tlearn: 7.0881022\ttotal: 2.53s\tremaining: 281ms\n",
      "89:\tlearn: 6.3978423\ttotal: 2.8s\tremaining: 0us\n",
      "Learning rate set to 0.360282\n",
      "0:\tlearn: 34.4888873\ttotal: 1.57ms\tremaining: 140ms\n",
      "10:\tlearn: 25.5466511\ttotal: 13.4ms\tremaining: 96.5ms\n",
      "20:\tlearn: 24.6379653\ttotal: 24.6ms\tremaining: 80.7ms\n",
      "30:\tlearn: 23.8773417\ttotal: 36.1ms\tremaining: 68.7ms\n",
      "40:\tlearn: 23.1603082\ttotal: 48.3ms\tremaining: 57.7ms\n",
      "50:\tlearn: 22.4888202\ttotal: 60.3ms\tremaining: 46.1ms\n",
      "60:\tlearn: 22.0483414\ttotal: 72.5ms\tremaining: 34.5ms\n",
      "70:\tlearn: 21.6404031\ttotal: 84.2ms\tremaining: 22.5ms\n",
      "80:\tlearn: 21.3379432\ttotal: 96.1ms\tremaining: 10.7ms\n",
      "89:\tlearn: 21.0881789\ttotal: 107ms\tremaining: 0us\n",
      "Лучшие гиперпараметры:  {'max_depth': 2, 'n_estimators': 90, 'random_state': 42, 'verbose': 10}\n",
      "RMSE на тренировочной выборке: 26.8\n",
      "\n",
      "CPU times: user 12.9 s, sys: 326 ms, total: 13.3 s\n",
      "Wall time: 26.8 s\n"
     ]
    }
   ],
   "source": [
    "%%time\n",
    "\n",
    "grid_cb.fit(X_train, y_train)\n",
    "cat_best_params = grid_cb.best_params_\n",
    "print('Лучшие гиперпараметры: ', grid_cb.best_params_)\n",
    "print(f'RMSE на тренировочной выборке: {round((-grid_cb.best_score_) ** 0.5, 3)}\\n')"
   ]
  },
  {
   "cell_type": "markdown",
   "id": "ea277283-0e4c-4cfc-a1e0-7252d89daafa",
   "metadata": {},
   "source": [
    "### 3.2 LightGBM"
   ]
  },
  {
   "cell_type": "code",
   "execution_count": 30,
   "id": "9907fcee-4a5b-43c5-8b5f-2b1a84e45b41",
   "metadata": {},
   "outputs": [],
   "source": [
    "model = LGBMRegressor()\n",
    "params = {\n",
    "    #'metric': ['l2'],\n",
    "    'learning_rate':[x/10 for x in range(1, 6)],\n",
    "    'boosting_type' : ['gbdt'],\n",
    "    'n_estimators' : [200, 300],\n",
    "    #'max_depth' : [12, 15, 16],     - убрал некоторые параметры, т.к. выходил длииииинный список с бесконечностями, но моделируется всё нормально. \n",
    "    'random_state' : [RANDOM_STATE],\n",
    "    'force_col_wise': [True],\n",
    "    #'num_leaves' : [128],\n",
    "}\n",
    "grid_lgbm = GridSearchCV(\n",
    "    estimator = model,\n",
    "    param_grid = params,\n",
    "    cv = tscv, \n",
    "    n_jobs = -1, \n",
    "    scoring = 'neg_mean_squared_error'\n",
    ")"
   ]
  },
  {
   "cell_type": "code",
   "execution_count": 31,
   "id": "7a654e1d-19f5-4105-9d7d-f7d3ad77149c",
   "metadata": {},
   "outputs": [
    {
     "name": "stdout",
     "output_type": "stream",
     "text": [
      "Лучшие гиперпараметры:  {'boosting_type': 'gbdt', 'force_col_wise': True, 'learning_rate': 0.1, 'n_estimators': 200, 'random_state': 42}\n",
      "RMSE на тренировочной выборке: 26.947\n",
      "\n",
      "CPU times: user 15min 28s, sys: 5.46 s, total: 15min 33s\n",
      "Wall time: 15min 43s\n"
     ]
    }
   ],
   "source": [
    "%%time\n",
    "\n",
    "grid_lgbm.fit(X_train, y_train)\n",
    "gbm_best_params = grid_lgbm.best_params_\n",
    "print('Лучшие гиперпараметры: ', grid_lgbm.best_params_)\n",
    "print(f'RMSE на тренировочной выборке: {round((-grid_lgbm.best_score_) ** 0.5, 3)}\\n')"
   ]
  },
  {
   "cell_type": "markdown",
   "id": "6e3a26cf-ef0d-465d-9b89-417bdba0ca21",
   "metadata": {},
   "source": [
    "### 3.3 LinearRegression()"
   ]
  },
  {
   "cell_type": "code",
   "execution_count": 32,
   "id": "b08a232c-db31-40f4-91a9-4065bcd83b9e",
   "metadata": {},
   "outputs": [],
   "source": [
    "pipeline = Pipeline([\n",
    "    ('scaler', StandardScaler()),  \n",
    "    ('model', LinearRegression())\n",
    "])"
   ]
  },
  {
   "cell_type": "code",
   "execution_count": 33,
   "id": "ff407629-7390-4272-83f2-2f026ca5d0cb",
   "metadata": {},
   "outputs": [],
   "source": [
    "params = {\n",
    "    'scaler': [StandardScaler(), MinMaxScaler(), 'passthrough'],  # Варианты масштабирования\n",
    "    'model__fit_intercept': [True, False],  \n",
    "    'model__positive': [True, False],  \n",
    "    'model__copy_X': [True, False]  \n",
    "}"
   ]
  },
  {
   "cell_type": "code",
   "execution_count": 34,
   "id": "9da6e482-78c1-4b68-b547-a36777850e79",
   "metadata": {},
   "outputs": [],
   "source": [
    "grid_lr = GridSearchCV(\n",
    "    estimator = pipeline,\n",
    "    param_grid = params,\n",
    "    cv = tscv, \n",
    "    n_jobs = -1, \n",
    "    scoring = 'neg_mean_squared_error'\n",
    ")"
   ]
  },
  {
   "cell_type": "code",
   "execution_count": 35,
   "id": "53a3e4e8-ed26-4b47-be8b-d186eda0256a",
   "metadata": {},
   "outputs": [
    {
     "name": "stdout",
     "output_type": "stream",
     "text": [
      "Лучшие гиперпараметры:  {'model__copy_X': True, 'model__fit_intercept': False, 'model__positive': False, 'scaler': 'passthrough'}\n",
      "RMSE на тренировочной выборке: 27.898\n",
      "\n",
      "CPU times: user 5.34 s, sys: 5.77 s, total: 11.1 s\n",
      "Wall time: 11.2 s\n"
     ]
    }
   ],
   "source": [
    "%%time\n",
    "\n",
    "grid_lr.fit(X_train, y_train)\n",
    "lr_best_params = grid_lr.best_estimator_\n",
    "print('Лучшие гиперпараметры: ', grid_lr.best_params_)\n",
    "print(f'RMSE на тренировочной выборке: {round((-grid_lr.best_score_) ** 0.5, 3)}\\n')"
   ]
  },
  {
   "cell_type": "code",
   "execution_count": 36,
   "id": "aff1217b-22c0-4304-999f-1fa86a5f3de4",
   "metadata": {},
   "outputs": [
    {
     "data": {
      "text/html": [
       "<div>\n",
       "<style scoped>\n",
       "    .dataframe tbody tr th:only-of-type {\n",
       "        vertical-align: middle;\n",
       "    }\n",
       "\n",
       "    .dataframe tbody tr th {\n",
       "        vertical-align: top;\n",
       "    }\n",
       "\n",
       "    .dataframe thead th {\n",
       "        text-align: right;\n",
       "    }\n",
       "</style>\n",
       "<table border=\"1\" class=\"dataframe\">\n",
       "  <thead>\n",
       "    <tr style=\"text-align: right;\">\n",
       "      <th></th>\n",
       "      <th>Model</th>\n",
       "      <th>Тренировочное RMSE</th>\n",
       "      <th>Тренировочное время, сек</th>\n",
       "    </tr>\n",
       "  </thead>\n",
       "  <tbody>\n",
       "    <tr>\n",
       "      <th>0</th>\n",
       "      <td>CatBoost()</td>\n",
       "      <td>26.800</td>\n",
       "      <td>0 м. 13 сек.</td>\n",
       "    </tr>\n",
       "    <tr>\n",
       "      <th>1</th>\n",
       "      <td>LightGBM()</td>\n",
       "      <td>26.947</td>\n",
       "      <td>1 м. 17 сек.</td>\n",
       "    </tr>\n",
       "    <tr>\n",
       "      <th>2</th>\n",
       "      <td>LinearRegression()</td>\n",
       "      <td>27.898</td>\n",
       "      <td>0 м. 9 сек.</td>\n",
       "    </tr>\n",
       "  </tbody>\n",
       "</table>\n",
       "</div>"
      ],
      "text/plain": [
       "                Model  Тренировочное RMSE Тренировочное время, сек\n",
       "0          CatBoost()              26.800             0 м. 13 сек.\n",
       "1          LightGBM()              26.947             1 м. 17 сек.\n",
       "2  LinearRegression()              27.898              0 м. 9 сек."
      ]
     },
     "metadata": {},
     "output_type": "display_data"
    }
   ],
   "source": [
    "res = {\n",
    "    'Model' : ['CatBoost()','LightGBM()', 'LinearRegression()'],\n",
    "    'Тренировочное RMSE' :pd.Series([26.8, 26.947, 27.898]),\n",
    "    'Тренировочное время, сек': pd.Series(['0 м. 13 сек.', '1 м. 17 сек.', '0 м. 9 сек.']),\n",
    "    }\n",
    "\n",
    "display(pd.DataFrame(res))"
   ]
  },
  {
   "cell_type": "markdown",
   "id": "284180c1-39e5-4cd9-9763-61e3da068f86",
   "metadata": {},
   "source": [
    "### ВЫВОД: \n",
    "На данном этапе обучены три модели: \n",
    "- CatBoost(),\n",
    "- LightGBM(),\n",
    "- LinearRegression().\n",
    "  \n",
    "Все модели преодолели порог в 48 заказов - по этому критерию они все проходят, однако меньше всех ошибается **CatBoost()**, но если рассматривать вопрос скорости, который иногда может быть приоритетнее точности, то выигрывает **LinearRegression()**. Нужно искать компромисс между этими моделями.\t\t\n",
    "\n",
    "\n",
    "В разное время, в зависимости от загруженности jupiterHUB, моделирование занимает разное время, в прошлом проекте LGBM у меня занимал пол часа, в этом проекте облачные данные идентичны локальным. "
   ]
  },
  {
   "cell_type": "markdown",
   "id": "1f986358-1706-47e1-b2cd-e5fb72716fb0",
   "metadata": {},
   "source": [
    "## Шаг 4. Проверка данных на тестовой выборке"
   ]
  },
  {
   "cell_type": "markdown",
   "id": "252af669-b0e1-4a67-8f20-9098a4f25275",
   "metadata": {},
   "source": [
    "Напомню, значение метрики RMSE на тестовой выборке должно быть не больше 48 заказов."
   ]
  },
  {
   "cell_type": "markdown",
   "id": "bd08a360-7e9e-407c-8924-7afb943d59de",
   "metadata": {},
   "source": [
    "### 4.1 CatBoost()"
   ]
  },
  {
   "cell_type": "code",
   "execution_count": 37,
   "id": "53487217-040e-4ea7-8f30-ca5bab01d7c8",
   "metadata": {},
   "outputs": [
    {
     "name": "stdout",
     "output_type": "stream",
     "text": [
      "Learning rate set to 0.360282\n",
      "0:\tlearn: 34.4888873\ttotal: 2.08ms\tremaining: 185ms\n",
      "10:\tlearn: 25.5466511\ttotal: 19ms\tremaining: 137ms\n",
      "20:\tlearn: 24.6379653\ttotal: 35.2ms\tremaining: 116ms\n",
      "30:\tlearn: 23.8773417\ttotal: 47.5ms\tremaining: 90.5ms\n",
      "40:\tlearn: 23.1603082\ttotal: 60ms\tremaining: 71.7ms\n",
      "50:\tlearn: 22.4888202\ttotal: 72.2ms\tremaining: 55.2ms\n",
      "60:\tlearn: 22.0483414\ttotal: 84.4ms\tremaining: 40.1ms\n",
      "70:\tlearn: 21.6404031\ttotal: 96.2ms\tremaining: 25.7ms\n",
      "80:\tlearn: 21.3379432\ttotal: 108ms\tremaining: 12ms\n",
      "89:\tlearn: 21.0881789\ttotal: 119ms\tremaining: 0us\n",
      "метрика RMSE на тестовой выборке = 47.296\n",
      "CPU times: user 133 ms, sys: 26.1 ms, total: 159 ms\n",
      "Wall time: 836 ms\n"
     ]
    }
   ],
   "source": [
    "%%time\n",
    "\n",
    "cat_model = CatBoostRegressor(**cat_best_params)\n",
    "cat_model.fit(X_train, y_train)\n",
    "cat_pred = cat_model.predict(X_test)\n",
    "print(f'метрика RMSE на тестовой выборке = {round(mse(y_test, cat_pred)**0.5, 3)}')"
   ]
  },
  {
   "cell_type": "markdown",
   "id": "1cecb106-62ef-4ab3-95fc-aa1b63f52aaf",
   "metadata": {},
   "source": [
    "### 4.2 LightGBM()"
   ]
  },
  {
   "cell_type": "code",
   "execution_count": 38,
   "id": "c3be7900-164e-4d84-b255-31ba97de9ce5",
   "metadata": {},
   "outputs": [],
   "source": [
    "# %%time\n",
    "\n",
    "# model_gbm = LGBMRegressor(**gbm_best_params)\n",
    "# model_gbm.fit(X_train, y_train)\n",
    "# gbm_predict = model_gbm.predict(X_test)\n",
    "# print(f'Test RMSE = {round(mse(y_test, gbm_predict)**0.5, 3)}')"
   ]
  },
  {
   "cell_type": "markdown",
   "id": "c1683036-b67c-4a9d-babb-b8612e585c43",
   "metadata": {},
   "source": [
    "### 4.3 LinearRegression()"
   ]
  },
  {
   "cell_type": "code",
   "execution_count": 39,
   "id": "0aafc08b-9a7d-495b-8af6-261e5da2d47a",
   "metadata": {},
   "outputs": [],
   "source": [
    "# %%time\n",
    "\n",
    "# lr_best_params.fit(X_train, y_train)\n",
    "# lr_predict = lr_best_params.predict(X_test)\n",
    "# print(f'Test RMSE = {round(mse(y_test, lr_predict)**0.5, 3)}')"
   ]
  },
  {
   "cell_type": "code",
   "execution_count": 40,
   "id": "0555f0e8-13b8-4e71-adcd-f6e094278eaf",
   "metadata": {},
   "outputs": [
    {
     "data": {
      "text/html": [
       "<div>\n",
       "<style scoped>\n",
       "    .dataframe tbody tr th:only-of-type {\n",
       "        vertical-align: middle;\n",
       "    }\n",
       "\n",
       "    .dataframe tbody tr th {\n",
       "        vertical-align: top;\n",
       "    }\n",
       "\n",
       "    .dataframe thead th {\n",
       "        text-align: right;\n",
       "    }\n",
       "</style>\n",
       "<table border=\"1\" class=\"dataframe\">\n",
       "  <thead>\n",
       "    <tr style=\"text-align: right;\">\n",
       "      <th></th>\n",
       "      <th>Model</th>\n",
       "      <th>Тестовое RMSE</th>\n",
       "      <th>Тестовое время, сек</th>\n",
       "    </tr>\n",
       "  </thead>\n",
       "  <tbody>\n",
       "    <tr>\n",
       "      <th>0</th>\n",
       "      <td>CatBoost()</td>\n",
       "      <td>47.296</td>\n",
       "      <td>0 м. 2 сек.</td>\n",
       "    </tr>\n",
       "  </tbody>\n",
       "</table>\n",
       "</div>"
      ],
      "text/plain": [
       "        Model  Тестовое RMSE Тестовое время, сек\n",
       "0  CatBoost()         47.296         0 м. 2 сек."
      ]
     },
     "metadata": {},
     "output_type": "display_data"
    }
   ],
   "source": [
    "res = {\n",
    "    'Model' : ['CatBoost()'],\n",
    "    'Тестовое RMSE' :pd.Series([47.296]),\n",
    "    'Тестовое время, сек': pd.Series(['0 м. 2 сек.']),\n",
    "    }\n",
    "\n",
    "display(pd.DataFrame(res))"
   ]
  },
  {
   "cell_type": "markdown",
   "id": "e82401d4-3d5c-489d-90d4-bc2f8ff587aa",
   "metadata": {},
   "source": [
    "### Вывод: \n",
    "Тестовые данные показади, что меньше всех ошибается **LightGBM()**, но если рассматривать вопрос скорости, который иногда может быть приоритетнее точности, то **LinearRegression()** почти одинаково быстрая, как **CatBOOST**. "
   ]
  },
  {
   "cell_type": "markdown",
   "id": "c1065334-63df-4dd2-b856-b29638517a89",
   "metadata": {},
   "source": [
    "# ВЫВОД по проекту: "
   ]
  },
  {
   "cell_type": "markdown",
   "id": "bfd74124-9fed-4334-9a1c-b2bdbcfd302b",
   "metadata": {},
   "source": [
    "В данном исследовании перед нами стояла задача построить модель, которая умеет прогнозировать количество заказов такси на следующий час.\n",
    "- Критерий, который важен заказчику:\\\n",
    "*Значение метрики RMSE на тестовой выборке должно быть не больше 48.*\n",
    "\n",
    "\n",
    "1. На *первом* шаге мы **загрузили** и задали временной ряд через индекс, а так же произвели ресемплирование данных по одному часу.\n",
    "В итоге в нашем распоряжении датафрейм data_taxi:\n",
    "- **1** колонка и **4 416** строк.\n",
    "\n",
    "2. В ходе **анализа** данных мы обнаружили:\n",
    "- Виден общий тренд на увеличение заказов.\n",
    "- Временной ряд в не является стационарным, так как его среднее плавно растет.\n",
    "- В среднем больше всего заказов в понедельник и пятницу.\n",
    "- В среднем меньше всего заказов во вторник и в воскресенье.\n",
    "- В среднем пиковая нагрузка приходится на полночь.\n",
    "- В среднем меньше всего заказов в шесть утра.\n",
    "\n",
    "Написали функцию и создали новые признаки для моделирования;\\\n",
    "Подготовили выборки с соотношением 1:10. \n",
    "\n",
    "3. На данном этапе обучены три модели: \n",
    "- CatBoost(),\n",
    "- LightGBM(),\n",
    "- LinearRegression().\n",
    "  \n",
    "Все модели преодолели порог ошибки в 48 заказов - по этому критерию они все проходят, однако меньше всех ошибается **LightGBM()**, но если рассматривать вопрос скорости, который иногда может быть приоритетнее точности, то выигрывает **LinearRegression()**.\n",
    "\n",
    "Нужно искать компромисс между этими моделями, но я бы выбрал **линейную регрессию**.\n",
    "\n",
    "4. На этапе проверки данных на тестовой выборке:\n",
    "\n",
    "Качество моделей на тестовой выборке:\n",
    "\n",
    "| Модель     | Тестовое RMSE | Время обучения |\n",
    "|:-----------|--------------:|:--------------:|\n",
    "| CatBoost   |        47.296 |  0 мин 02 сек  |\n",
    " "
   ]
  }
 ],
 "metadata": {
  "ExecuteTimeLog": [
   {
    "duration": 7977,
    "start_time": "2025-07-30T08:53:19.166Z"
   },
   {
    "duration": 1855,
    "start_time": "2025-07-30T08:53:27.146Z"
   },
   {
    "duration": 53,
    "start_time": "2025-07-30T08:53:29.003Z"
   },
   {
    "duration": 3,
    "start_time": "2025-07-30T08:53:29.057Z"
   },
   {
    "duration": 14,
    "start_time": "2025-07-30T08:53:29.062Z"
   },
   {
    "duration": 12,
    "start_time": "2025-07-30T08:53:29.078Z"
   },
   {
    "duration": 8,
    "start_time": "2025-07-30T08:53:29.092Z"
   },
   {
    "duration": 17,
    "start_time": "2025-07-30T08:53:29.102Z"
   },
   {
    "duration": 7,
    "start_time": "2025-07-30T08:53:29.121Z"
   },
   {
    "duration": 15,
    "start_time": "2025-07-30T08:53:29.130Z"
   },
   {
    "duration": 11,
    "start_time": "2025-07-30T08:53:29.147Z"
   },
   {
    "duration": 749,
    "start_time": "2025-07-30T08:53:29.160Z"
   },
   {
    "duration": 222,
    "start_time": "2025-07-30T08:53:29.911Z"
   },
   {
    "duration": 297,
    "start_time": "2025-07-30T08:53:30.138Z"
   },
   {
    "duration": 8,
    "start_time": "2025-07-30T08:53:30.438Z"
   },
   {
    "duration": 948,
    "start_time": "2025-07-30T08:53:30.447Z"
   },
   {
    "duration": 226,
    "start_time": "2025-07-30T08:53:31.397Z"
   },
   {
    "duration": 9,
    "start_time": "2025-07-30T08:53:31.625Z"
   },
   {
    "duration": 524,
    "start_time": "2025-07-30T08:53:31.636Z"
   },
   {
    "duration": 4,
    "start_time": "2025-07-30T08:53:32.161Z"
   },
   {
    "duration": 168,
    "start_time": "2025-07-30T08:53:32.166Z"
   },
   {
    "duration": 3,
    "start_time": "2025-07-30T08:53:32.335Z"
   },
   {
    "duration": 14,
    "start_time": "2025-07-30T08:53:32.340Z"
   },
   {
    "duration": 29,
    "start_time": "2025-07-30T08:53:32.355Z"
   },
   {
    "duration": 11,
    "start_time": "2025-07-30T08:53:32.386Z"
   },
   {
    "duration": 15,
    "start_time": "2025-07-30T08:53:32.398Z"
   },
   {
    "duration": 43,
    "start_time": "2025-07-30T08:53:32.414Z"
   },
   {
    "duration": 41,
    "start_time": "2025-07-30T08:53:32.459Z"
   },
   {
    "duration": 35690,
    "start_time": "2025-07-30T08:53:32.502Z"
   },
   {
    "duration": 5,
    "start_time": "2025-07-30T08:54:08.193Z"
   },
   {
    "duration": 85606,
    "start_time": "2025-07-30T08:54:08.199Z"
   },
   {
    "duration": 3,
    "start_time": "2025-07-30T08:55:33.807Z"
   },
   {
    "duration": 22,
    "start_time": "2025-07-30T08:55:33.812Z"
   },
   {
    "duration": 6,
    "start_time": "2025-07-30T08:55:33.836Z"
   },
   {
    "duration": 12665,
    "start_time": "2025-07-30T08:55:33.844Z"
   },
   {
    "duration": 101,
    "start_time": "2025-07-30T08:55:46.604Z"
   },
   {
    "duration": 1070,
    "start_time": "2025-07-30T08:55:46.707Z"
   },
   {
    "duration": 10632,
    "start_time": "2025-07-30T08:55:47.778Z"
   },
   {
    "duration": 193,
    "start_time": "2025-07-30T08:55:58.411Z"
   },
   {
    "duration": 101,
    "start_time": "2025-07-30T08:55:58.606Z"
   },
   {
    "duration": 10,
    "start_time": "2025-07-30T09:03:26.333Z"
   },
   {
    "duration": 11,
    "start_time": "2025-07-30T09:04:40.613Z"
   },
   {
    "duration": 7835,
    "start_time": "2025-07-30T10:03:54.414Z"
   },
   {
    "duration": 8067,
    "start_time": "2025-07-30T10:04:02.252Z"
   },
   {
    "duration": 42,
    "start_time": "2025-07-30T10:04:10.320Z"
   },
   {
    "duration": 63,
    "start_time": "2025-07-30T10:04:10.364Z"
   },
   {
    "duration": 59,
    "start_time": "2025-07-30T10:04:10.429Z"
   },
   {
    "duration": 77,
    "start_time": "2025-07-30T10:04:10.490Z"
   },
   {
    "duration": 18,
    "start_time": "2025-07-30T10:04:10.569Z"
   },
   {
    "duration": 9,
    "start_time": "2025-07-30T10:04:10.588Z"
   },
   {
    "duration": 14,
    "start_time": "2025-07-30T10:04:10.599Z"
   },
   {
    "duration": 15,
    "start_time": "2025-07-30T10:04:10.614Z"
   },
   {
    "duration": 14,
    "start_time": "2025-07-30T10:04:10.631Z"
   },
   {
    "duration": 745,
    "start_time": "2025-07-30T10:04:10.646Z"
   },
   {
    "duration": 219,
    "start_time": "2025-07-30T10:04:11.392Z"
   },
   {
    "duration": 281,
    "start_time": "2025-07-30T10:04:11.614Z"
   },
   {
    "duration": 6,
    "start_time": "2025-07-30T10:04:11.897Z"
   },
   {
    "duration": 927,
    "start_time": "2025-07-30T10:04:11.905Z"
   },
   {
    "duration": 191,
    "start_time": "2025-07-30T10:04:12.833Z"
   },
   {
    "duration": 17,
    "start_time": "2025-07-30T10:04:13.027Z"
   },
   {
    "duration": 456,
    "start_time": "2025-07-30T10:04:13.045Z"
   },
   {
    "duration": 4,
    "start_time": "2025-07-30T10:04:13.503Z"
   },
   {
    "duration": 55,
    "start_time": "2025-07-30T10:04:13.508Z"
   },
   {
    "duration": 86,
    "start_time": "2025-07-30T12:59:22.986Z"
   },
   {
    "duration": 84,
    "start_time": "2025-07-30T13:00:37.288Z"
   },
   {
    "duration": 7939,
    "start_time": "2025-07-30T13:08:47.914Z"
   },
   {
    "duration": 1778,
    "start_time": "2025-07-30T13:08:55.856Z"
   },
   {
    "duration": 41,
    "start_time": "2025-07-30T13:08:57.636Z"
   },
   {
    "duration": 79,
    "start_time": "2025-07-30T13:08:57.680Z"
   },
   {
    "duration": 20,
    "start_time": "2025-07-30T13:08:57.760Z"
   },
   {
    "duration": 13,
    "start_time": "2025-07-30T13:08:57.782Z"
   },
   {
    "duration": 20,
    "start_time": "2025-07-30T13:08:57.797Z"
   },
   {
    "duration": 56,
    "start_time": "2025-07-30T13:08:57.819Z"
   },
   {
    "duration": 69,
    "start_time": "2025-07-30T13:08:57.877Z"
   },
   {
    "duration": 30,
    "start_time": "2025-07-30T13:08:57.948Z"
   },
   {
    "duration": 9,
    "start_time": "2025-07-30T13:08:57.980Z"
   },
   {
    "duration": 727,
    "start_time": "2025-07-30T13:08:57.990Z"
   },
   {
    "duration": 208,
    "start_time": "2025-07-30T13:08:58.719Z"
   },
   {
    "duration": 275,
    "start_time": "2025-07-30T13:08:58.928Z"
   },
   {
    "duration": 6,
    "start_time": "2025-07-30T13:08:59.205Z"
   },
   {
    "duration": 952,
    "start_time": "2025-07-30T13:08:59.213Z"
   },
   {
    "duration": 212,
    "start_time": "2025-07-30T13:09:00.168Z"
   },
   {
    "duration": 11,
    "start_time": "2025-07-30T13:09:00.382Z"
   },
   {
    "duration": 444,
    "start_time": "2025-07-30T13:09:00.394Z"
   },
   {
    "duration": 6,
    "start_time": "2025-07-30T13:09:00.840Z"
   },
   {
    "duration": 72,
    "start_time": "2025-07-30T13:09:00.848Z"
   },
   {
    "duration": 3,
    "start_time": "2025-07-30T13:09:00.922Z"
   },
   {
    "duration": 59,
    "start_time": "2025-07-30T13:09:00.927Z"
   },
   {
    "duration": 40,
    "start_time": "2025-07-30T13:09:00.988Z"
   },
   {
    "duration": 39,
    "start_time": "2025-07-30T13:09:01.030Z"
   },
   {
    "duration": 5,
    "start_time": "2025-07-30T13:09:01.071Z"
   },
   {
    "duration": 26,
    "start_time": "2025-07-30T13:09:01.078Z"
   },
   {
    "duration": 106,
    "start_time": "2025-07-30T13:09:01.108Z"
   },
   {
    "duration": 31040,
    "start_time": "2025-07-30T13:09:01.215Z"
   },
   {
    "duration": 6,
    "start_time": "2025-07-30T13:09:32.256Z"
   },
   {
    "duration": 78814,
    "start_time": "2025-07-30T13:09:32.264Z"
   },
   {
    "duration": 4,
    "start_time": "2025-07-30T13:10:51.080Z"
   },
   {
    "duration": 5,
    "start_time": "2025-07-30T13:10:51.086Z"
   },
   {
    "duration": 6,
    "start_time": "2025-07-30T13:10:51.092Z"
   },
   {
    "duration": 9381,
    "start_time": "2025-07-30T13:10:51.100Z"
   },
   {
    "duration": 193,
    "start_time": "2025-07-30T13:11:00.484Z"
   },
   {
    "duration": 932,
    "start_time": "2025-07-30T13:11:00.679Z"
   },
   {
    "duration": 2175,
    "start_time": "2025-07-30T13:11:01.613Z"
   },
   {
    "duration": 190,
    "start_time": "2025-07-30T13:11:03.790Z"
   },
   {
    "duration": 128,
    "start_time": "2025-07-30T13:11:03.982Z"
   },
   {
    "duration": 10,
    "start_time": "2025-07-30T13:22:45.600Z"
   },
   {
    "duration": 10,
    "start_time": "2025-07-30T13:24:44.121Z"
   },
   {
    "duration": 7894,
    "start_time": "2025-07-30T13:30:12.246Z"
   },
   {
    "duration": 1596,
    "start_time": "2025-07-30T13:30:20.142Z"
   },
   {
    "duration": 53,
    "start_time": "2025-07-30T13:30:21.740Z"
   },
   {
    "duration": 3,
    "start_time": "2025-07-30T13:30:21.795Z"
   },
   {
    "duration": 7,
    "start_time": "2025-07-30T13:30:21.801Z"
   },
   {
    "duration": 17,
    "start_time": "2025-07-30T13:30:21.810Z"
   },
   {
    "duration": 9,
    "start_time": "2025-07-30T13:30:21.829Z"
   },
   {
    "duration": 25,
    "start_time": "2025-07-30T13:30:21.839Z"
   },
   {
    "duration": 10,
    "start_time": "2025-07-30T13:30:21.865Z"
   },
   {
    "duration": 27,
    "start_time": "2025-07-30T13:30:21.889Z"
   },
   {
    "duration": 79,
    "start_time": "2025-07-30T13:30:21.918Z"
   },
   {
    "duration": 789,
    "start_time": "2025-07-30T13:30:22.000Z"
   },
   {
    "duration": 214,
    "start_time": "2025-07-30T13:30:22.791Z"
   },
   {
    "duration": 316,
    "start_time": "2025-07-30T13:30:23.008Z"
   },
   {
    "duration": 6,
    "start_time": "2025-07-30T13:30:23.326Z"
   },
   {
    "duration": 908,
    "start_time": "2025-07-30T13:30:23.333Z"
   },
   {
    "duration": 247,
    "start_time": "2025-07-30T13:30:24.243Z"
   },
   {
    "duration": 9,
    "start_time": "2025-07-30T13:30:24.492Z"
   },
   {
    "duration": 519,
    "start_time": "2025-07-30T13:30:24.502Z"
   },
   {
    "duration": 4,
    "start_time": "2025-07-30T13:30:25.022Z"
   },
   {
    "duration": 90,
    "start_time": "2025-07-30T13:30:25.028Z"
   },
   {
    "duration": 3,
    "start_time": "2025-07-30T13:30:25.120Z"
   },
   {
    "duration": 13,
    "start_time": "2025-07-30T13:30:25.125Z"
   },
   {
    "duration": 20,
    "start_time": "2025-07-30T13:30:25.139Z"
   },
   {
    "duration": 42,
    "start_time": "2025-07-30T13:30:25.161Z"
   },
   {
    "duration": 60,
    "start_time": "2025-07-30T13:30:25.205Z"
   },
   {
    "duration": 15,
    "start_time": "2025-07-30T13:30:25.266Z"
   },
   {
    "duration": 8,
    "start_time": "2025-07-30T13:30:25.284Z"
   },
   {
    "duration": 30844,
    "start_time": "2025-07-30T13:30:25.294Z"
   },
   {
    "duration": 5,
    "start_time": "2025-07-30T13:30:56.139Z"
   },
   {
    "duration": 910850,
    "start_time": "2025-07-30T13:30:56.145Z"
   },
   {
    "duration": 3,
    "start_time": "2025-07-30T13:46:06.997Z"
   },
   {
    "duration": 13,
    "start_time": "2025-07-30T13:46:07.002Z"
   },
   {
    "duration": 7,
    "start_time": "2025-07-30T13:46:07.016Z"
   },
   {
    "duration": 10068,
    "start_time": "2025-07-30T13:46:07.025Z"
   },
   {
    "duration": 88,
    "start_time": "2025-07-30T13:46:17.097Z"
   },
   {
    "duration": 1004,
    "start_time": "2025-07-30T13:46:17.190Z"
   },
   {
    "duration": 36104,
    "start_time": "2025-07-30T13:46:18.195Z"
   },
   {
    "duration": 97,
    "start_time": "2025-07-30T13:46:54.301Z"
   },
   {
    "duration": 102,
    "start_time": "2025-07-30T13:46:54.478Z"
   },
   {
    "duration": 7794,
    "start_time": "2025-07-30T17:11:23.499Z"
   },
   {
    "duration": 3480,
    "start_time": "2025-07-30T17:11:31.295Z"
   },
   {
    "duration": 53,
    "start_time": "2025-07-30T17:11:34.777Z"
   },
   {
    "duration": 3,
    "start_time": "2025-07-30T17:11:34.832Z"
   },
   {
    "duration": 35,
    "start_time": "2025-07-30T17:11:34.837Z"
   },
   {
    "duration": 32,
    "start_time": "2025-07-30T17:11:34.874Z"
   },
   {
    "duration": 12,
    "start_time": "2025-07-30T17:11:34.908Z"
   },
   {
    "duration": 9,
    "start_time": "2025-07-30T17:11:34.922Z"
   },
   {
    "duration": 13,
    "start_time": "2025-07-30T17:11:34.933Z"
   },
   {
    "duration": 14,
    "start_time": "2025-07-30T17:11:34.949Z"
   },
   {
    "duration": 9,
    "start_time": "2025-07-30T17:11:34.965Z"
   },
   {
    "duration": 738,
    "start_time": "2025-07-30T17:11:34.976Z"
   },
   {
    "duration": 239,
    "start_time": "2025-07-30T17:11:35.715Z"
   },
   {
    "duration": 279,
    "start_time": "2025-07-30T17:11:35.960Z"
   },
   {
    "duration": 19,
    "start_time": "2025-07-30T17:11:36.241Z"
   },
   {
    "duration": 908,
    "start_time": "2025-07-30T17:11:36.262Z"
   },
   {
    "duration": 218,
    "start_time": "2025-07-30T17:11:37.172Z"
   },
   {
    "duration": 9,
    "start_time": "2025-07-30T17:11:37.391Z"
   },
   {
    "duration": 511,
    "start_time": "2025-07-30T17:11:37.402Z"
   },
   {
    "duration": 4,
    "start_time": "2025-07-30T17:11:37.916Z"
   },
   {
    "duration": 50,
    "start_time": "2025-07-30T17:11:37.921Z"
   },
   {
    "duration": 61,
    "start_time": "2025-07-30T17:11:37.973Z"
   },
   {
    "duration": 35,
    "start_time": "2025-07-30T17:11:38.035Z"
   },
   {
    "duration": 22,
    "start_time": "2025-07-30T17:11:38.072Z"
   },
   {
    "duration": 7,
    "start_time": "2025-07-30T17:11:38.096Z"
   },
   {
    "duration": 6,
    "start_time": "2025-07-30T17:11:38.104Z"
   },
   {
    "duration": 35,
    "start_time": "2025-07-30T17:11:38.112Z"
   },
   {
    "duration": 13,
    "start_time": "2025-07-30T17:11:38.150Z"
   },
   {
    "duration": 26828,
    "start_time": "2025-07-30T17:11:38.165Z"
   },
   {
    "duration": 5,
    "start_time": "2025-07-30T17:12:04.995Z"
   },
   {
    "duration": 943667,
    "start_time": "2025-07-30T17:12:05.002Z"
   },
   {
    "duration": 4,
    "start_time": "2025-07-30T17:27:48.671Z"
   },
   {
    "duration": 4,
    "start_time": "2025-07-30T17:27:48.677Z"
   },
   {
    "duration": 4,
    "start_time": "2025-07-30T17:27:48.683Z"
   },
   {
    "duration": 11177,
    "start_time": "2025-07-30T17:27:48.689Z"
   },
   {
    "duration": 97,
    "start_time": "2025-07-30T17:27:59.868Z"
   },
   {
    "duration": 955,
    "start_time": "2025-07-30T17:27:59.967Z"
   },
   {
    "duration": 3,
    "start_time": "2025-07-30T17:28:00.924Z"
   },
   {
    "duration": 25,
    "start_time": "2025-07-30T17:28:00.929Z"
   },
   {
    "duration": 37,
    "start_time": "2025-07-30T17:28:00.956Z"
   }
  ],
  "kernelspec": {
   "display_name": "Python 3 (ipykernel)",
   "language": "python",
   "name": "python3"
  },
  "language_info": {
   "codemirror_mode": {
    "name": "ipython",
    "version": 3
   },
   "file_extension": ".py",
   "mimetype": "text/x-python",
   "name": "python",
   "nbconvert_exporter": "python",
   "pygments_lexer": "ipython3",
   "version": "3.12.7"
  },
  "toc": {
   "base_numbering": 1,
   "nav_menu": {},
   "number_sections": true,
   "sideBar": true,
   "skip_h1_title": true,
   "title_cell": "Table of Contents",
   "title_sidebar": "Contents",
   "toc_cell": false,
   "toc_position": {},
   "toc_section_display": true,
   "toc_window_display": true
  }
 },
 "nbformat": 4,
 "nbformat_minor": 5
}
