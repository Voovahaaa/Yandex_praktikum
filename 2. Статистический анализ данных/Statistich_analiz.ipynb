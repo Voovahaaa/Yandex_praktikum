{
 "cells": [
  {
   "cell_type": "markdown",
   "id": "80ac6e89-ac8b-4698-a281-a01bf618b718",
   "metadata": {},
   "source": [
    "# Проект: Статистический анализ данных "
   ]
  },
  {
   "cell_type": "markdown",
   "id": "1711f1f8-b715-4c77-bb64-47f4a9335416",
   "metadata": {},
   "source": [
    "В нашем распоряжении данные, популярного сервиса аренды самокатов GoFast, о некоторых пользователях из нескольких городов, а также об их поездках. \\\n",
    "**Цель исследования:** проанализируем данные сервиса аренды и проверим некоторые гипотезы, которые могут помочь бизнесу вырасти."
   ]
  },
  {
   "cell_type": "markdown",
   "id": "4ca0b523-a9be-4b01-8ee5-325a65ca3ec0",
   "metadata": {},
   "source": [
    "**Ход исследования:**\\\n",
    "Для этого нам потребуется пройти следующие шаги: \\\n",
    "Шаг 1 - Загрузка и изучение общей информации о датасетах; \\\n",
    "Шаг 2 - Предобработка данных; \\\n",
    "Шаг 3 - Исследовательский анализ данных; \\\n",
    "Шаг 4 - Объединение данных; \\\n",
    "Шаг 5 - Подсчет выручки; \\\n",
    "Шаг 6 - Проверка гипотез; \\\n",
    "Шаг 7 - Распределения. \\\n",
    "Общий вывод."
   ]
  },
  {
   "cell_type": "markdown",
   "id": "3a59c039-7ff3-4fda-bab5-fe4b5126c803",
   "metadata": {},
   "source": [
    "## Шаг 1. Загрузка данных"
   ]
  },
  {
   "cell_type": "markdown",
   "id": "299a95de-37f6-4316-8b58-b18ef42bfc8b",
   "metadata": {},
   "source": [
    "Загружаем библиотеки, которые понадобятся в нашем исследовании "
   ]
  },
  {
   "cell_type": "code",
   "execution_count": 1,
   "id": "4afdb633-7089-4ae7-b70d-085e0b5e6690",
   "metadata": {},
   "outputs": [],
   "source": [
    "import pandas as pd # импоритруем pandas для обработки, анализа и структурирования данных\n",
    "import numpy as np # импоритруем numpy для работы с данными\n",
    "import matplotlib.pyplot as plt # так же импоритруем matplotlib.pyplot для будущего построения графиков\n",
    "from scipy import stats as st # импоритруем stats из библиотеки scipy для проверки гипотез и проведения t-тестов\n",
    "from scipy.stats import binom, norm # для выполнения 7 шага"
   ]
  },
  {
   "cell_type": "markdown",
   "id": "23fc10ff-b3e2-497f-9afd-7a3fd9425b51",
   "metadata": {},
   "source": [
    "### 1.1 Загрузим данные из csv-файлов в датафреймы c помощью библиотеки pandas"
   ]
  },
  {
   "cell_type": "code",
   "execution_count": 2,
   "id": "49cb3878-b7a4-46b0-8293-6bd540e9452e",
   "metadata": {},
   "outputs": [],
   "source": [
    "try: # открываем наши файлы с данными в среде JupiterHUB:\n",
    "    data_users = pd.read_csv('/datasets/users_go.csv') # представлена информация о пользователях\n",
    "    data_rides = pd.read_csv('/datasets/rides_go.csv') # представлена информация об их поездках\n",
    "    data_subs = pd.read_csv('/datasets/subscriptions_go.csv') # представлена информация об их подписках\n",
    "except: # либо берем данные на ПК для локальной версии Jupiter:\n",
    "    data_users = pd.read_csv('C://Users//Voova//datasets//users_go.csv') \n",
    "    data_rides = pd.read_csv('C://Users//Voova//datasets//rides_go.csv')\n",
    "    data_subs = pd.read_csv('C://Users//Voova//datasets//subscriptions_go.csv')"
   ]
  },
  {
   "cell_type": "markdown",
   "id": "7b82ebec-e9d7-48c1-be62-f84c883cd3d4",
   "metadata": {},
   "source": [
    "### 1.2 Изучим общую информацию о каждом датафрейме. Выведим первые строки каждого набора данных."
   ]
  },
  {
   "cell_type": "markdown",
   "id": "b422d706-c78e-4c46-80af-cf10b9435483",
   "metadata": {},
   "source": [
    "- Общая информация о пользователях: "
   ]
  },
  {
   "cell_type": "code",
   "execution_count": 3,
   "id": "684c1045-6fec-438b-ac40-2ccb3b4fd94a",
   "metadata": {},
   "outputs": [
    {
     "name": "stdout",
     "output_type": "stream",
     "text": [
      "<class 'pandas.core.frame.DataFrame'>\n",
      "RangeIndex: 1565 entries, 0 to 1564\n",
      "Data columns (total 5 columns):\n",
      " #   Column             Non-Null Count  Dtype \n",
      "---  ------             --------------  ----- \n",
      " 0   user_id            1565 non-null   int64 \n",
      " 1   name               1565 non-null   object\n",
      " 2   age                1565 non-null   int64 \n",
      " 3   city               1565 non-null   object\n",
      " 4   subscription_type  1565 non-null   object\n",
      "dtypes: int64(2), object(3)\n",
      "memory usage: 61.3+ KB\n"
     ]
    }
   ],
   "source": [
    "data_users.info()"
   ]
  },
  {
   "cell_type": "code",
   "execution_count": 4,
   "id": "7458f860-d032-4500-a2f7-34012aa96508",
   "metadata": {},
   "outputs": [
    {
     "data": {
      "text/html": [
       "<div>\n",
       "<style scoped>\n",
       "    .dataframe tbody tr th:only-of-type {\n",
       "        vertical-align: middle;\n",
       "    }\n",
       "\n",
       "    .dataframe tbody tr th {\n",
       "        vertical-align: top;\n",
       "    }\n",
       "\n",
       "    .dataframe thead th {\n",
       "        text-align: right;\n",
       "    }\n",
       "</style>\n",
       "<table border=\"1\" class=\"dataframe\">\n",
       "  <thead>\n",
       "    <tr style=\"text-align: right;\">\n",
       "      <th></th>\n",
       "      <th>user_id</th>\n",
       "      <th>name</th>\n",
       "      <th>age</th>\n",
       "      <th>city</th>\n",
       "      <th>subscription_type</th>\n",
       "    </tr>\n",
       "  </thead>\n",
       "  <tbody>\n",
       "    <tr>\n",
       "      <th>0</th>\n",
       "      <td>1</td>\n",
       "      <td>Кира</td>\n",
       "      <td>22</td>\n",
       "      <td>Тюмень</td>\n",
       "      <td>ultra</td>\n",
       "    </tr>\n",
       "    <tr>\n",
       "      <th>1</th>\n",
       "      <td>2</td>\n",
       "      <td>Станислав</td>\n",
       "      <td>31</td>\n",
       "      <td>Омск</td>\n",
       "      <td>ultra</td>\n",
       "    </tr>\n",
       "    <tr>\n",
       "      <th>2</th>\n",
       "      <td>3</td>\n",
       "      <td>Алексей</td>\n",
       "      <td>20</td>\n",
       "      <td>Москва</td>\n",
       "      <td>ultra</td>\n",
       "    </tr>\n",
       "    <tr>\n",
       "      <th>3</th>\n",
       "      <td>4</td>\n",
       "      <td>Константин</td>\n",
       "      <td>26</td>\n",
       "      <td>Ростов-на-Дону</td>\n",
       "      <td>ultra</td>\n",
       "    </tr>\n",
       "    <tr>\n",
       "      <th>4</th>\n",
       "      <td>5</td>\n",
       "      <td>Адель</td>\n",
       "      <td>28</td>\n",
       "      <td>Омск</td>\n",
       "      <td>ultra</td>\n",
       "    </tr>\n",
       "    <tr>\n",
       "      <th>5</th>\n",
       "      <td>6</td>\n",
       "      <td>Регина</td>\n",
       "      <td>25</td>\n",
       "      <td>Краснодар</td>\n",
       "      <td>ultra</td>\n",
       "    </tr>\n",
       "    <tr>\n",
       "      <th>6</th>\n",
       "      <td>7</td>\n",
       "      <td>Игорь</td>\n",
       "      <td>23</td>\n",
       "      <td>Омск</td>\n",
       "      <td>ultra</td>\n",
       "    </tr>\n",
       "    <tr>\n",
       "      <th>7</th>\n",
       "      <td>8</td>\n",
       "      <td>Юрий</td>\n",
       "      <td>23</td>\n",
       "      <td>Краснодар</td>\n",
       "      <td>ultra</td>\n",
       "    </tr>\n",
       "    <tr>\n",
       "      <th>8</th>\n",
       "      <td>9</td>\n",
       "      <td>Ян</td>\n",
       "      <td>21</td>\n",
       "      <td>Пятигорск</td>\n",
       "      <td>ultra</td>\n",
       "    </tr>\n",
       "    <tr>\n",
       "      <th>9</th>\n",
       "      <td>10</td>\n",
       "      <td>Валерий</td>\n",
       "      <td>18</td>\n",
       "      <td>Екатеринбург</td>\n",
       "      <td>ultra</td>\n",
       "    </tr>\n",
       "  </tbody>\n",
       "</table>\n",
       "</div>"
      ],
      "text/plain": [
       "   user_id        name  age            city subscription_type\n",
       "0        1        Кира   22          Тюмень             ultra\n",
       "1        2   Станислав   31            Омск             ultra\n",
       "2        3     Алексей   20          Москва             ultra\n",
       "3        4  Константин   26  Ростов-на-Дону             ultra\n",
       "4        5       Адель   28            Омск             ultra\n",
       "5        6      Регина   25       Краснодар             ultra\n",
       "6        7       Игорь   23            Омск             ultra\n",
       "7        8        Юрий   23       Краснодар             ultra\n",
       "8        9          Ян   21       Пятигорск             ultra\n",
       "9       10     Валерий   18    Екатеринбург             ultra"
      ]
     },
     "execution_count": 4,
     "metadata": {},
     "output_type": "execute_result"
    }
   ],
   "source": [
    "data_users.head(10)"
   ]
  },
  {
   "cell_type": "markdown",
   "id": "bd67df95-0028-4c3c-88ef-f80427cf81e0",
   "metadata": {},
   "source": [
    "На первый взгляд можно сказать, что в данных о пользователях нет пропущенных значений, столбцы подписаны согласно правилам, типы данных соответствуют содержимому столбцов."
   ]
  },
  {
   "cell_type": "markdown",
   "id": "5e49cd6c-6c94-4b4d-b044-955af45ace79",
   "metadata": {},
   "source": [
    "- Общая информация о поездках пользователей: "
   ]
  },
  {
   "cell_type": "code",
   "execution_count": 5,
   "id": "b95ce0c9-b51e-400c-a49c-2740ab3af054",
   "metadata": {},
   "outputs": [
    {
     "name": "stdout",
     "output_type": "stream",
     "text": [
      "<class 'pandas.core.frame.DataFrame'>\n",
      "RangeIndex: 18068 entries, 0 to 18067\n",
      "Data columns (total 4 columns):\n",
      " #   Column    Non-Null Count  Dtype  \n",
      "---  ------    --------------  -----  \n",
      " 0   user_id   18068 non-null  int64  \n",
      " 1   distance  18068 non-null  float64\n",
      " 2   duration  18068 non-null  float64\n",
      " 3   date      18068 non-null  object \n",
      "dtypes: float64(2), int64(1), object(1)\n",
      "memory usage: 564.8+ KB\n"
     ]
    }
   ],
   "source": [
    "data_rides.info()"
   ]
  },
  {
   "cell_type": "code",
   "execution_count": 6,
   "id": "09cd0805-985d-494a-9b48-d41f6bf75583",
   "metadata": {},
   "outputs": [
    {
     "data": {
      "text/html": [
       "<div>\n",
       "<style scoped>\n",
       "    .dataframe tbody tr th:only-of-type {\n",
       "        vertical-align: middle;\n",
       "    }\n",
       "\n",
       "    .dataframe tbody tr th {\n",
       "        vertical-align: top;\n",
       "    }\n",
       "\n",
       "    .dataframe thead th {\n",
       "        text-align: right;\n",
       "    }\n",
       "</style>\n",
       "<table border=\"1\" class=\"dataframe\">\n",
       "  <thead>\n",
       "    <tr style=\"text-align: right;\">\n",
       "      <th></th>\n",
       "      <th>user_id</th>\n",
       "      <th>distance</th>\n",
       "      <th>duration</th>\n",
       "      <th>date</th>\n",
       "    </tr>\n",
       "  </thead>\n",
       "  <tbody>\n",
       "    <tr>\n",
       "      <th>0</th>\n",
       "      <td>1</td>\n",
       "      <td>4409.919140</td>\n",
       "      <td>25.599769</td>\n",
       "      <td>2021-01-01</td>\n",
       "    </tr>\n",
       "    <tr>\n",
       "      <th>1</th>\n",
       "      <td>1</td>\n",
       "      <td>2617.592153</td>\n",
       "      <td>15.816871</td>\n",
       "      <td>2021-01-18</td>\n",
       "    </tr>\n",
       "    <tr>\n",
       "      <th>2</th>\n",
       "      <td>1</td>\n",
       "      <td>754.159807</td>\n",
       "      <td>6.232113</td>\n",
       "      <td>2021-04-20</td>\n",
       "    </tr>\n",
       "    <tr>\n",
       "      <th>3</th>\n",
       "      <td>1</td>\n",
       "      <td>2694.783254</td>\n",
       "      <td>18.511000</td>\n",
       "      <td>2021-08-11</td>\n",
       "    </tr>\n",
       "    <tr>\n",
       "      <th>4</th>\n",
       "      <td>1</td>\n",
       "      <td>4028.687306</td>\n",
       "      <td>26.265803</td>\n",
       "      <td>2021-08-28</td>\n",
       "    </tr>\n",
       "    <tr>\n",
       "      <th>5</th>\n",
       "      <td>1</td>\n",
       "      <td>2770.890808</td>\n",
       "      <td>16.650138</td>\n",
       "      <td>2021-10-09</td>\n",
       "    </tr>\n",
       "    <tr>\n",
       "      <th>6</th>\n",
       "      <td>1</td>\n",
       "      <td>3039.020292</td>\n",
       "      <td>14.927879</td>\n",
       "      <td>2021-10-19</td>\n",
       "    </tr>\n",
       "    <tr>\n",
       "      <th>7</th>\n",
       "      <td>1</td>\n",
       "      <td>2842.118050</td>\n",
       "      <td>23.117468</td>\n",
       "      <td>2021-11-06</td>\n",
       "    </tr>\n",
       "    <tr>\n",
       "      <th>8</th>\n",
       "      <td>1</td>\n",
       "      <td>3412.690668</td>\n",
       "      <td>15.238072</td>\n",
       "      <td>2021-11-14</td>\n",
       "    </tr>\n",
       "    <tr>\n",
       "      <th>9</th>\n",
       "      <td>1</td>\n",
       "      <td>748.690645</td>\n",
       "      <td>15.041884</td>\n",
       "      <td>2021-11-22</td>\n",
       "    </tr>\n",
       "  </tbody>\n",
       "</table>\n",
       "</div>"
      ],
      "text/plain": [
       "   user_id     distance   duration        date\n",
       "0        1  4409.919140  25.599769  2021-01-01\n",
       "1        1  2617.592153  15.816871  2021-01-18\n",
       "2        1   754.159807   6.232113  2021-04-20\n",
       "3        1  2694.783254  18.511000  2021-08-11\n",
       "4        1  4028.687306  26.265803  2021-08-28\n",
       "5        1  2770.890808  16.650138  2021-10-09\n",
       "6        1  3039.020292  14.927879  2021-10-19\n",
       "7        1  2842.118050  23.117468  2021-11-06\n",
       "8        1  3412.690668  15.238072  2021-11-14\n",
       "9        1   748.690645  15.041884  2021-11-22"
      ]
     },
     "execution_count": 6,
     "metadata": {},
     "output_type": "execute_result"
    }
   ],
   "source": [
    "data_rides.head(10)"
   ]
  },
  {
   "cell_type": "markdown",
   "id": "6dc95e45-96c3-4b73-83d5-f56975f7373e",
   "metadata": {},
   "source": [
    "На первый взгляд можно сказать, что в данных о поездках нет пропущенных значений, столбцы подписаны согласно правилам, тип данных столбца `date` является `object`, тогда как должен быть `datetime`. Вернемся к нему на этапе предобработки данных. Так же предлагаю округлить значения в столбцах `distance` и `duration` до десятых. "
   ]
  },
  {
   "cell_type": "markdown",
   "id": "8acc56bf-aa40-4e9e-8350-b578db1632d0",
   "metadata": {},
   "source": [
    "- общая информация о подписках пользователей: "
   ]
  },
  {
   "cell_type": "code",
   "execution_count": 7,
   "id": "ac28a7f8-068e-48ab-88fd-2e0ae97749db",
   "metadata": {},
   "outputs": [
    {
     "name": "stdout",
     "output_type": "stream",
     "text": [
      "<class 'pandas.core.frame.DataFrame'>\n",
      "RangeIndex: 2 entries, 0 to 1\n",
      "Data columns (total 4 columns):\n",
      " #   Column             Non-Null Count  Dtype \n",
      "---  ------             --------------  ----- \n",
      " 0   subscription_type  2 non-null      object\n",
      " 1   minute_price       2 non-null      int64 \n",
      " 2   start_ride_price   2 non-null      int64 \n",
      " 3   subscription_fee   2 non-null      int64 \n",
      "dtypes: int64(3), object(1)\n",
      "memory usage: 196.0+ bytes\n"
     ]
    }
   ],
   "source": [
    "data_subs.info()"
   ]
  },
  {
   "cell_type": "code",
   "execution_count": 8,
   "id": "6966b5ed-b9ed-486a-9a32-7ba2daa7f742",
   "metadata": {},
   "outputs": [
    {
     "data": {
      "text/html": [
       "<div>\n",
       "<style scoped>\n",
       "    .dataframe tbody tr th:only-of-type {\n",
       "        vertical-align: middle;\n",
       "    }\n",
       "\n",
       "    .dataframe tbody tr th {\n",
       "        vertical-align: top;\n",
       "    }\n",
       "\n",
       "    .dataframe thead th {\n",
       "        text-align: right;\n",
       "    }\n",
       "</style>\n",
       "<table border=\"1\" class=\"dataframe\">\n",
       "  <thead>\n",
       "    <tr style=\"text-align: right;\">\n",
       "      <th></th>\n",
       "      <th>subscription_type</th>\n",
       "      <th>minute_price</th>\n",
       "      <th>start_ride_price</th>\n",
       "      <th>subscription_fee</th>\n",
       "    </tr>\n",
       "  </thead>\n",
       "  <tbody>\n",
       "    <tr>\n",
       "      <th>0</th>\n",
       "      <td>free</td>\n",
       "      <td>8</td>\n",
       "      <td>50</td>\n",
       "      <td>0</td>\n",
       "    </tr>\n",
       "    <tr>\n",
       "      <th>1</th>\n",
       "      <td>ultra</td>\n",
       "      <td>6</td>\n",
       "      <td>0</td>\n",
       "      <td>199</td>\n",
       "    </tr>\n",
       "  </tbody>\n",
       "</table>\n",
       "</div>"
      ],
      "text/plain": [
       "  subscription_type  minute_price  start_ride_price  subscription_fee\n",
       "0              free             8                50                 0\n",
       "1             ultra             6                 0               199"
      ]
     },
     "execution_count": 8,
     "metadata": {},
     "output_type": "execute_result"
    }
   ],
   "source": [
    "data_subs.head()"
   ]
  },
  {
   "cell_type": "markdown",
   "id": "d3713926-a1ad-48fa-8915-1d88d3eff04d",
   "metadata": {},
   "source": [
    "В данном датафрейме присутствует всего две строки, пропуски не обнаружены, столбцы подписаны согласно правилам, типы данных соответствуют содержимому столбцов."
   ]
  },
  {
   "cell_type": "markdown",
   "id": "b90d834b-eeaf-461f-ae13-dc8d81d28eb3",
   "metadata": {},
   "source": [
    "### Вывод:  "
   ]
  },
  {
   "cell_type": "markdown",
   "id": "6f71e701-0f25-480b-9e78-24d35c488164",
   "metadata": {},
   "source": [
    " Датафрейм `users_go.csv` содержит 1565 строк, пропуски отсутствуют, типы данных корректные. \\\n",
    " Датафрейм `rides_go.csv` содержит 18 068 строк, пропуски отсутствуют, тип данных столбца `date` необходимо изменить на этапе предобработки данных. \\\n",
    " Датафрейм `subscriptions_go.csv` содержит 2 строки, пропуски отсутствуют, типы данных корректные. \\\n",
    " На этапе предобработки данных проверим наши датафреймы на наличие явных и неявных дубликатов. "
   ]
  },
  {
   "cell_type": "markdown",
   "id": "6a6ed606-65b7-4640-b3ae-034a82b72a61",
   "metadata": {},
   "source": [
    "## Шаг 2. Предобработка данных"
   ]
  },
  {
   "cell_type": "markdown",
   "id": "5d12612a-9ab6-49b3-bf15-ad96a9e78c0d",
   "metadata": {},
   "source": [
    "### 2.1 Приведем тип даных столбца date датафрейма data_rides к типу даты"
   ]
  },
  {
   "cell_type": "code",
   "execution_count": 9,
   "id": "070f2454-0dcf-40ee-8e3b-aa8253f35413",
   "metadata": {},
   "outputs": [
    {
     "data": {
      "text/plain": [
       "0   2021-01-01\n",
       "1   2021-01-18\n",
       "2   2021-04-20\n",
       "3   2021-08-11\n",
       "4   2021-08-28\n",
       "Name: date, dtype: datetime64[ns]"
      ]
     },
     "execution_count": 9,
     "metadata": {},
     "output_type": "execute_result"
    }
   ],
   "source": [
    "data_rides['date'] = pd.to_datetime(data_rides['date'], format = '%Y-%m-%d') # используем функцию to_datetime\n",
    "data_rides['date'].head() # проверим преобразование"
   ]
  },
  {
   "cell_type": "markdown",
   "id": "785562e7-c365-46ea-8559-699b68c04cae",
   "metadata": {},
   "source": [
    "- а так же округлим значения в столбцах `distance` и `duration` до десятых: "
   ]
  },
  {
   "cell_type": "code",
   "execution_count": 10,
   "id": "d19bb890-043c-4c15-9937-ea1c668009d5",
   "metadata": {},
   "outputs": [],
   "source": [
    "data_rides['distance'] = data_rides['distance'].round(2)\n",
    "data_rides['duration'] = data_rides['duration'].round(2)"
   ]
  },
  {
   "cell_type": "markdown",
   "id": "a8702c6f-8977-4a2b-9629-dd051ac7afdf",
   "metadata": {},
   "source": [
    "### 2.2 Создадим новый столбец с номером месяца на основе столбца date"
   ]
  },
  {
   "cell_type": "code",
   "execution_count": 11,
   "id": "c07583ef-660f-4100-bfdc-089d7f76486f",
   "metadata": {},
   "outputs": [
    {
     "data": {
      "text/plain": [
       "Timestamp('2021-12-30 00:00:00')"
      ]
     },
     "metadata": {},
     "output_type": "display_data"
    },
    {
     "data": {
      "text/plain": [
       "Timestamp('2021-01-01 00:00:00')"
      ]
     },
     "execution_count": 11,
     "metadata": {},
     "output_type": "execute_result"
    }
   ],
   "source": [
    "# проверим за какой период у нас данные:\n",
    "display(data_rides['date'].max())\n",
    "data_rides['date'].min()"
   ]
  },
  {
   "cell_type": "markdown",
   "id": "a528f2b4-4aeb-404d-a2b6-3f3f70fb7421",
   "metadata": {},
   "source": [
    "Все поездки представлены за 2021 год, с 1 января по 30 декабря, можем добавлять столбец с номером месяца."
   ]
  },
  {
   "cell_type": "code",
   "execution_count": 12,
   "id": "68cf303b-687c-4d41-97d6-ad8731e5e18a",
   "metadata": {},
   "outputs": [],
   "source": [
    "data_rides['month'] = data_rides['date'].dt.month # метод dt.month возвращает месяц в виде целого числа"
   ]
  },
  {
   "cell_type": "markdown",
   "id": "570f2a0c-e13e-4ba9-9c2f-5460152f5267",
   "metadata": {},
   "source": [
    "### 2.3 Проверим наличие дубликатов в датафреймах"
   ]
  },
  {
   "cell_type": "markdown",
   "id": "0c68e600-6408-4743-9984-6642560e03a7",
   "metadata": {},
   "source": [
    "2.3.1 Рассмотрим таблицу `data_users`:"
   ]
  },
  {
   "cell_type": "code",
   "execution_count": 13,
   "id": "f4685e20-1560-45a7-b0fa-08bf7a658e74",
   "metadata": {},
   "outputs": [
    {
     "data": {
      "text/plain": [
       "31"
      ]
     },
     "execution_count": 13,
     "metadata": {},
     "output_type": "execute_result"
    }
   ],
   "source": [
    "data_users.duplicated().sum() # суммируем количество явных дубликатов"
   ]
  },
  {
   "cell_type": "markdown",
   "id": "242145e9-274a-4c12-bff6-1eff4622042a",
   "metadata": {},
   "source": [
    "Удаляем дубликаты в таблице `data_users`:"
   ]
  },
  {
   "cell_type": "code",
   "execution_count": 14,
   "id": "faaf1aea-6574-4059-85d8-b9002561837e",
   "metadata": {},
   "outputs": [],
   "source": [
    "data_users.drop_duplicates(inplace=True)"
   ]
  },
  {
   "cell_type": "code",
   "execution_count": 15,
   "id": "654fccf3-ba50-4aa4-bd7a-a41c6e312d00",
   "metadata": {},
   "outputs": [
    {
     "data": {
      "text/plain": [
       "0"
      ]
     },
     "execution_count": 15,
     "metadata": {},
     "output_type": "execute_result"
    }
   ],
   "source": [
    "data_users.duplicated().sum() # проверка наличия дубликатов "
   ]
  },
  {
   "cell_type": "markdown",
   "id": "7c5d3db1-9caa-4cc3-aac0-da0251fd34b2",
   "metadata": {},
   "source": [
    "В столбцах `name` и `city` могут встречаться не явные дубликаты, проверим эти столбцы: "
   ]
  },
  {
   "cell_type": "code",
   "execution_count": 16,
   "id": "ed5000f6-7542-4083-b0e7-5f78b37443b0",
   "metadata": {},
   "outputs": [
    {
     "data": {
      "text/plain": [
       "array(['Агата', 'Аделина', 'Адель', 'Айдар', 'Александр', 'Александра',\n",
       "       'Алексей', 'Алина', 'Алиса', 'Алия', 'Алла', 'Альберт', 'Альбина',\n",
       "       'Алёна', 'Амалия', 'Амина', 'Амир', 'Анастасия', 'Анатолий',\n",
       "       'Ангелина', 'Андрей', 'Анжелика', 'Анна', 'Антон', 'Антонина',\n",
       "       'Ариана', 'Арина', 'Арсен', 'Арсений', 'Артемий', 'Артур', 'Артём',\n",
       "       'Богдан', 'Борис', 'Вадим', 'Валентина', 'Валерий', 'Валерия',\n",
       "       'Варвара', 'Василий', 'Василина', 'Василиса', 'Вера', 'Вероника',\n",
       "       'Виктор', 'Виктория', 'Виолетта', 'Виталий', 'Виталина', 'Влад',\n",
       "       'Влада', 'Владимир', 'Владислав', 'Владислава', 'Всеволод',\n",
       "       'Вячеслав', 'Галина', 'Георгий', 'Герман', 'Глеб', 'Гордей',\n",
       "       'Григорий', 'Давид', 'Дамир', 'Даниил', 'Данил', 'Данила',\n",
       "       'Даниэль', 'Дарина', 'Дарья', 'Демид', 'Денис', 'Диана', 'Дмитрий',\n",
       "       'Ева', 'Евгений', 'Евгения', 'Егор', 'Екатерина', 'Елена',\n",
       "       'Елизавета', 'Елисей', 'Есения', 'Жанна', 'Зарина', 'Захар',\n",
       "       'Злата', 'Иван', 'Игнат', 'Игорь', 'Ильдар', 'Илья', 'Инна',\n",
       "       'Ирина', 'Камилла', 'Карина', 'Каролина', 'Кира', 'Кирилл',\n",
       "       'Константин', 'Кристина', 'Ксения', 'Лариса', 'Лев', 'Леонид',\n",
       "       'Лиана', 'Лидия', 'Лилия', 'Любовь', 'Людмила', 'Мадина', 'Майя',\n",
       "       'Макар', 'Максим', 'Марат', 'Маргарита', 'Марина', 'Мария', 'Марк',\n",
       "       'Марсель', 'Матвей', 'Мелания', 'Милана', 'Милена', 'Мирон',\n",
       "       'Мирослав', 'Мирослава', 'Михаил', 'Назар', 'Наталия', 'Наталья',\n",
       "       'Наташа', 'Нелли', 'Ника', 'Никита', 'Николай', 'Нина', 'Одиссей',\n",
       "       'Оксана', 'Олег', 'Олеся', 'Ольга', 'Павел', 'Петр', 'Платон',\n",
       "       'Полина', 'Радмир', 'Рамиль', 'Регина', 'Роберт', 'Родион',\n",
       "       'Роман', 'Ростислав', 'Руслан', 'Рустам', 'Савелий', 'Самир',\n",
       "       'Самира', 'Светлана', 'Святогор', 'Святослав', 'Семен', 'Сергей',\n",
       "       'Снежана', 'София', 'Софья', 'Станислав', 'Степан', 'Стефания',\n",
       "       'Таисия', 'Тамара', 'Тамерлан', 'Татьяна', 'Тимофей', 'Тимур',\n",
       "       'Тихон', 'Ульяна', 'Федор', 'Эвелина', 'Эдуард', 'Элина',\n",
       "       'Эльвира', 'Эльмира', 'Эмилия', 'Эмиль', 'Юлиана', 'Юлия', 'Юрий',\n",
       "       'Ян', 'Яна', 'Яромир', 'Ярослав', 'Ярослава', 'Ясмина'],\n",
       "      dtype=object)"
      ]
     },
     "execution_count": 16,
     "metadata": {},
     "output_type": "execute_result"
    }
   ],
   "source": [
    "data_users['name'].sort_values().unique()"
   ]
  },
  {
   "cell_type": "markdown",
   "id": "a7befac4-e46f-4a22-8cf3-5c8c1c9e0f65",
   "metadata": {},
   "source": [
    "- Неявные дубликаты в столбце `name` отсутствуют."
   ]
  },
  {
   "cell_type": "code",
   "execution_count": 17,
   "id": "f70dc921-ad6c-41ba-b4e3-0fa1ac301b8e",
   "metadata": {},
   "outputs": [
    {
     "data": {
      "text/plain": [
       "array(['Екатеринбург', 'Краснодар', 'Москва', 'Омск', 'Пятигорск',\n",
       "       'Ростов-на-Дону', 'Сочи', 'Тюмень'], dtype=object)"
      ]
     },
     "execution_count": 17,
     "metadata": {},
     "output_type": "execute_result"
    }
   ],
   "source": [
    "data_users['city'].sort_values().unique()"
   ]
  },
  {
   "cell_type": "markdown",
   "id": "61a358a3-eda0-4086-9700-f560d53ce1e8",
   "metadata": {},
   "source": [
    "- Неявные дубликаты в столбце `city` отсутствуют."
   ]
  },
  {
   "cell_type": "markdown",
   "id": "355916bb-9bd3-45f8-9357-d5117d734c67",
   "metadata": {},
   "source": [
    "2.3.2 Рассмотрим таблицу `data_rides`:"
   ]
  },
  {
   "cell_type": "code",
   "execution_count": 18,
   "id": "42ae216d-379f-4d14-9ea1-a8723122dc7a",
   "metadata": {},
   "outputs": [
    {
     "data": {
      "text/plain": [
       "0"
      ]
     },
     "execution_count": 18,
     "metadata": {},
     "output_type": "execute_result"
    }
   ],
   "source": [
    "data_rides.duplicated().sum() # суммируем количество явных дубликатов"
   ]
  },
  {
   "cell_type": "markdown",
   "id": "88ab9022-a535-470f-818e-f98912cadcd0",
   "metadata": {},
   "source": [
    "Дубликаты в датафрейме `data_rides` не обнаружены."
   ]
  },
  {
   "cell_type": "markdown",
   "id": "8ae24864-ea90-46f3-a0ca-044e6ede953e",
   "metadata": {},
   "source": [
    "Проверим данные в столбце `duration` на предмет аномальных значений"
   ]
  },
  {
   "cell_type": "code",
   "execution_count": 19,
   "id": "3a97b063-dee7-49a2-a443-e756350fadbd",
   "metadata": {},
   "outputs": [
    {
     "data": {
      "text/html": [
       "<div>\n",
       "<style scoped>\n",
       "    .dataframe tbody tr th:only-of-type {\n",
       "        vertical-align: middle;\n",
       "    }\n",
       "\n",
       "    .dataframe tbody tr th {\n",
       "        vertical-align: top;\n",
       "    }\n",
       "\n",
       "    .dataframe thead th {\n",
       "        text-align: right;\n",
       "    }\n",
       "</style>\n",
       "<table border=\"1\" class=\"dataframe\">\n",
       "  <thead>\n",
       "    <tr style=\"text-align: right;\">\n",
       "      <th></th>\n",
       "      <th>user_id</th>\n",
       "      <th>distance</th>\n",
       "      <th>duration</th>\n",
       "      <th>date</th>\n",
       "      <th>month</th>\n",
       "    </tr>\n",
       "  </thead>\n",
       "  <tbody>\n",
       "    <tr>\n",
       "      <th>4215</th>\n",
       "      <td>454</td>\n",
       "      <td>5137.33</td>\n",
       "      <td>40.82</td>\n",
       "      <td>2021-12-27</td>\n",
       "      <td>12</td>\n",
       "    </tr>\n",
       "    <tr>\n",
       "      <th>4709</th>\n",
       "      <td>507</td>\n",
       "      <td>4645.64</td>\n",
       "      <td>39.87</td>\n",
       "      <td>2021-01-15</td>\n",
       "      <td>1</td>\n",
       "    </tr>\n",
       "    <tr>\n",
       "      <th>2623</th>\n",
       "      <td>278</td>\n",
       "      <td>4754.43</td>\n",
       "      <td>39.53</td>\n",
       "      <td>2021-12-02</td>\n",
       "      <td>12</td>\n",
       "    </tr>\n",
       "    <tr>\n",
       "      <th>1998</th>\n",
       "      <td>216</td>\n",
       "      <td>4831.34</td>\n",
       "      <td>38.35</td>\n",
       "      <td>2021-05-11</td>\n",
       "      <td>5</td>\n",
       "    </tr>\n",
       "    <tr>\n",
       "      <th>6453</th>\n",
       "      <td>694</td>\n",
       "      <td>4210.87</td>\n",
       "      <td>38.27</td>\n",
       "      <td>2021-03-11</td>\n",
       "      <td>3</td>\n",
       "    </tr>\n",
       "    <tr>\n",
       "      <th>...</th>\n",
       "      <td>...</td>\n",
       "      <td>...</td>\n",
       "      <td>...</td>\n",
       "      <td>...</td>\n",
       "      <td>...</td>\n",
       "    </tr>\n",
       "    <tr>\n",
       "      <th>6680</th>\n",
       "      <td>712</td>\n",
       "      <td>4684.00</td>\n",
       "      <td>0.50</td>\n",
       "      <td>2021-03-04</td>\n",
       "      <td>3</td>\n",
       "    </tr>\n",
       "    <tr>\n",
       "      <th>6695</th>\n",
       "      <td>713</td>\n",
       "      <td>5215.64</td>\n",
       "      <td>0.50</td>\n",
       "      <td>2021-02-25</td>\n",
       "      <td>2</td>\n",
       "    </tr>\n",
       "    <tr>\n",
       "      <th>6768</th>\n",
       "      <td>718</td>\n",
       "      <td>5197.44</td>\n",
       "      <td>0.50</td>\n",
       "      <td>2021-02-11</td>\n",
       "      <td>2</td>\n",
       "    </tr>\n",
       "    <tr>\n",
       "      <th>13012</th>\n",
       "      <td>1176</td>\n",
       "      <td>4935.07</td>\n",
       "      <td>0.50</td>\n",
       "      <td>2021-05-14</td>\n",
       "      <td>5</td>\n",
       "    </tr>\n",
       "    <tr>\n",
       "      <th>14574</th>\n",
       "      <td>1285</td>\n",
       "      <td>6316.57</td>\n",
       "      <td>0.50</td>\n",
       "      <td>2021-09-25</td>\n",
       "      <td>9</td>\n",
       "    </tr>\n",
       "  </tbody>\n",
       "</table>\n",
       "<p>18068 rows × 5 columns</p>\n",
       "</div>"
      ],
      "text/plain": [
       "       user_id  distance  duration       date  month\n",
       "4215       454   5137.33     40.82 2021-12-27     12\n",
       "4709       507   4645.64     39.87 2021-01-15      1\n",
       "2623       278   4754.43     39.53 2021-12-02     12\n",
       "1998       216   4831.34     38.35 2021-05-11      5\n",
       "6453       694   4210.87     38.27 2021-03-11      3\n",
       "...        ...       ...       ...        ...    ...\n",
       "6680       712   4684.00      0.50 2021-03-04      3\n",
       "6695       713   5215.64      0.50 2021-02-25      2\n",
       "6768       718   5197.44      0.50 2021-02-11      2\n",
       "13012     1176   4935.07      0.50 2021-05-14      5\n",
       "14574     1285   6316.57      0.50 2021-09-25      9\n",
       "\n",
       "[18068 rows x 5 columns]"
      ]
     },
     "execution_count": 19,
     "metadata": {},
     "output_type": "execute_result"
    }
   ],
   "source": [
    "data_rides.sort_values(by = ['duration'], ascending = False)"
   ]
  },
  {
   "cell_type": "markdown",
   "id": "a8386c99-4bd3-4e47-87ab-ea4bcd46c851",
   "metadata": {},
   "source": [
    "Присутствуют поездки по половине минуты на расстояния более 4-х километров, это скорость порядка 340 км/ч. На мой взгляд разогнать самокат до такой скорости проблематично, поэтому посчитаем количество таких случаев и решим, что с ними делать: "
   ]
  },
  {
   "cell_type": "code",
   "execution_count": 20,
   "id": "c70e5aed-1702-43f6-9ebf-296df4f6c2b9",
   "metadata": {},
   "outputs": [
    {
     "data": {
      "text/html": [
       "<div>\n",
       "<style scoped>\n",
       "    .dataframe tbody tr th:only-of-type {\n",
       "        vertical-align: middle;\n",
       "    }\n",
       "\n",
       "    .dataframe tbody tr th {\n",
       "        vertical-align: top;\n",
       "    }\n",
       "\n",
       "    .dataframe thead th {\n",
       "        text-align: right;\n",
       "    }\n",
       "</style>\n",
       "<table border=\"1\" class=\"dataframe\">\n",
       "  <thead>\n",
       "    <tr style=\"text-align: right;\">\n",
       "      <th></th>\n",
       "      <th>user_id</th>\n",
       "      <th>distance</th>\n",
       "      <th>duration</th>\n",
       "      <th>date</th>\n",
       "      <th>month</th>\n",
       "    </tr>\n",
       "  </thead>\n",
       "  <tbody>\n",
       "    <tr>\n",
       "      <th>6531</th>\n",
       "      <td>701</td>\n",
       "      <td>4196.45</td>\n",
       "      <td>0.5</td>\n",
       "      <td>2021-08-31</td>\n",
       "      <td>8</td>\n",
       "    </tr>\n",
       "    <tr>\n",
       "      <th>6570</th>\n",
       "      <td>704</td>\n",
       "      <td>4830.82</td>\n",
       "      <td>0.5</td>\n",
       "      <td>2021-10-14</td>\n",
       "      <td>10</td>\n",
       "    </tr>\n",
       "    <tr>\n",
       "      <th>6680</th>\n",
       "      <td>712</td>\n",
       "      <td>4684.00</td>\n",
       "      <td>0.5</td>\n",
       "      <td>2021-03-04</td>\n",
       "      <td>3</td>\n",
       "    </tr>\n",
       "    <tr>\n",
       "      <th>6695</th>\n",
       "      <td>713</td>\n",
       "      <td>5215.64</td>\n",
       "      <td>0.5</td>\n",
       "      <td>2021-02-25</td>\n",
       "      <td>2</td>\n",
       "    </tr>\n",
       "    <tr>\n",
       "      <th>6768</th>\n",
       "      <td>718</td>\n",
       "      <td>5197.44</td>\n",
       "      <td>0.5</td>\n",
       "      <td>2021-02-11</td>\n",
       "      <td>2</td>\n",
       "    </tr>\n",
       "    <tr>\n",
       "      <th>...</th>\n",
       "      <td>...</td>\n",
       "      <td>...</td>\n",
       "      <td>...</td>\n",
       "      <td>...</td>\n",
       "      <td>...</td>\n",
       "    </tr>\n",
       "    <tr>\n",
       "      <th>17004</th>\n",
       "      <td>1460</td>\n",
       "      <td>5531.34</td>\n",
       "      <td>0.5</td>\n",
       "      <td>2021-01-19</td>\n",
       "      <td>1</td>\n",
       "    </tr>\n",
       "    <tr>\n",
       "      <th>17242</th>\n",
       "      <td>1477</td>\n",
       "      <td>6724.93</td>\n",
       "      <td>0.5</td>\n",
       "      <td>2021-01-12</td>\n",
       "      <td>1</td>\n",
       "    </tr>\n",
       "    <tr>\n",
       "      <th>17314</th>\n",
       "      <td>1483</td>\n",
       "      <td>4445.48</td>\n",
       "      <td>0.5</td>\n",
       "      <td>2021-03-06</td>\n",
       "      <td>3</td>\n",
       "    </tr>\n",
       "    <tr>\n",
       "      <th>17505</th>\n",
       "      <td>1496</td>\n",
       "      <td>5722.55</td>\n",
       "      <td>0.5</td>\n",
       "      <td>2021-02-14</td>\n",
       "      <td>2</td>\n",
       "    </tr>\n",
       "    <tr>\n",
       "      <th>17909</th>\n",
       "      <td>1524</td>\n",
       "      <td>4104.00</td>\n",
       "      <td>0.5</td>\n",
       "      <td>2021-06-18</td>\n",
       "      <td>6</td>\n",
       "    </tr>\n",
       "  </tbody>\n",
       "</table>\n",
       "<p>95 rows × 5 columns</p>\n",
       "</div>"
      ],
      "text/plain": [
       "       user_id  distance  duration       date  month\n",
       "6531       701   4196.45       0.5 2021-08-31      8\n",
       "6570       704   4830.82       0.5 2021-10-14     10\n",
       "6680       712   4684.00       0.5 2021-03-04      3\n",
       "6695       713   5215.64       0.5 2021-02-25      2\n",
       "6768       718   5197.44       0.5 2021-02-11      2\n",
       "...        ...       ...       ...        ...    ...\n",
       "17004     1460   5531.34       0.5 2021-01-19      1\n",
       "17242     1477   6724.93       0.5 2021-01-12      1\n",
       "17314     1483   4445.48       0.5 2021-03-06      3\n",
       "17505     1496   5722.55       0.5 2021-02-14      2\n",
       "17909     1524   4104.00       0.5 2021-06-18      6\n",
       "\n",
       "[95 rows x 5 columns]"
      ]
     },
     "execution_count": 20,
     "metadata": {},
     "output_type": "execute_result"
    }
   ],
   "source": [
    "duration_anomalies = data_rides[(data_rides['duration'] == 0.5) & (data_rides['distance'] > 210)] # принимаем разрешенную скорость самоката за 25 км/ч\n",
    "# или 25*1000/3600 = 6,94 м/с \n",
    "# следовательно за 30 секунд самокат проедет примерно  210 метров на разрешенной скорости, поэтому расстояния больше 210 м мы будем считать аномальными \n",
    "# в наших данных\n",
    "duration_anomalies"
   ]
  },
  {
   "cell_type": "markdown",
   "id": "b2dc00c3-d0c1-4a50-af5a-4f5e4e759005",
   "metadata": {},
   "source": [
    "Получилось 95 строк из 18 068, что составляет 0,53 % от общего числа строк датафрейма. "
   ]
  },
  {
   "cell_type": "code",
   "execution_count": 21,
   "id": "3b57be90-8c7f-422f-b724-59548d80fdfc",
   "metadata": {},
   "outputs": [
    {
     "data": {
      "text/plain": [
       "4030.31"
      ]
     },
     "execution_count": 21,
     "metadata": {},
     "output_type": "execute_result"
    }
   ],
   "source": [
    "duration_anomalies['distance'].min() # минимальное расстояние, пройденное за 30 секунд"
   ]
  },
  {
   "cell_type": "code",
   "execution_count": 22,
   "id": "23ff725a-4654-4f2d-ad8d-356d51b99223",
   "metadata": {},
   "outputs": [
    {
     "data": {
      "text/plain": [
       "7211.01"
      ]
     },
     "execution_count": 22,
     "metadata": {},
     "output_type": "execute_result"
    }
   ],
   "source": [
    "duration_anomalies['distance'].max() # максимальное расстояние, пройденное за 30 секунд"
   ]
  },
  {
   "cell_type": "markdown",
   "id": "b7f11a1e-8861-4b5d-a2b9-ebb2b730317b",
   "metadata": {},
   "source": [
    "- Предлагаю допустить, что на сервисе сбора геоданных произошел сбой и полученные данные уменьшились в 50 раз, тогда наши 0,5 мин * 50 = 25 мин.  \\\n",
    "Тогда получится, что: \\\n",
    "4030 м будут пройдены за 25 мин со скоростью 9,7 км/ч. \\\n",
    "7211 м будут пройдены за 25 мин со скоростью 17,3 км/ч. \\\n",
    "Остальные значения между min и max будут тоже в адекватной форме.    "
   ]
  },
  {
   "cell_type": "code",
   "execution_count": 23,
   "id": "35ab0b93-eee7-4afd-91b8-d80ddbd1db8f",
   "metadata": {},
   "outputs": [],
   "source": [
    "# находим строки подходящие под наши аномальные значения и умножаем их на 50\n",
    "data_rides.loc[(data_rides['duration'] == 0.5) & (data_rides['distance'] > 210), 'duration'] *= 50 \n",
    "# хотя конечно мы могли бы и просто их удалить"
   ]
  },
  {
   "cell_type": "markdown",
   "id": "a99c4e4f-f07e-4783-98fd-a05003351f33",
   "metadata": {},
   "source": [
    "Проверим данные в столбце `distance` на предмет аномальных значений"
   ]
  },
  {
   "cell_type": "code",
   "execution_count": 24,
   "id": "8a18426b-fa0f-4875-8d71-0f0073f45da9",
   "metadata": {},
   "outputs": [
    {
     "data": {
      "text/html": [
       "<div>\n",
       "<style scoped>\n",
       "    .dataframe tbody tr th:only-of-type {\n",
       "        vertical-align: middle;\n",
       "    }\n",
       "\n",
       "    .dataframe tbody tr th {\n",
       "        vertical-align: top;\n",
       "    }\n",
       "\n",
       "    .dataframe thead th {\n",
       "        text-align: right;\n",
       "    }\n",
       "</style>\n",
       "<table border=\"1\" class=\"dataframe\">\n",
       "  <thead>\n",
       "    <tr style=\"text-align: right;\">\n",
       "      <th></th>\n",
       "      <th>user_id</th>\n",
       "      <th>distance</th>\n",
       "      <th>duration</th>\n",
       "      <th>date</th>\n",
       "      <th>month</th>\n",
       "    </tr>\n",
       "  </thead>\n",
       "  <tbody>\n",
       "    <tr>\n",
       "      <th>11555</th>\n",
       "      <td>1069</td>\n",
       "      <td>0.86</td>\n",
       "      <td>10.00</td>\n",
       "      <td>2021-01-31</td>\n",
       "      <td>1</td>\n",
       "    </tr>\n",
       "    <tr>\n",
       "      <th>9541</th>\n",
       "      <td>925</td>\n",
       "      <td>2.57</td>\n",
       "      <td>3.01</td>\n",
       "      <td>2021-10-19</td>\n",
       "      <td>10</td>\n",
       "    </tr>\n",
       "    <tr>\n",
       "      <th>13690</th>\n",
       "      <td>1223</td>\n",
       "      <td>4.33</td>\n",
       "      <td>4.01</td>\n",
       "      <td>2021-05-22</td>\n",
       "      <td>5</td>\n",
       "    </tr>\n",
       "    <tr>\n",
       "      <th>8658</th>\n",
       "      <td>861</td>\n",
       "      <td>6.78</td>\n",
       "      <td>6.02</td>\n",
       "      <td>2021-07-21</td>\n",
       "      <td>7</td>\n",
       "    </tr>\n",
       "    <tr>\n",
       "      <th>7841</th>\n",
       "      <td>796</td>\n",
       "      <td>7.10</td>\n",
       "      <td>10.03</td>\n",
       "      <td>2021-11-26</td>\n",
       "      <td>11</td>\n",
       "    </tr>\n",
       "    <tr>\n",
       "      <th>...</th>\n",
       "      <td>...</td>\n",
       "      <td>...</td>\n",
       "      <td>...</td>\n",
       "      <td>...</td>\n",
       "      <td>...</td>\n",
       "    </tr>\n",
       "    <tr>\n",
       "      <th>17242</th>\n",
       "      <td>1477</td>\n",
       "      <td>6724.93</td>\n",
       "      <td>25.00</td>\n",
       "      <td>2021-01-12</td>\n",
       "      <td>1</td>\n",
       "    </tr>\n",
       "    <tr>\n",
       "      <th>17171</th>\n",
       "      <td>1471</td>\n",
       "      <td>6760.94</td>\n",
       "      <td>32.04</td>\n",
       "      <td>2021-08-03</td>\n",
       "      <td>8</td>\n",
       "    </tr>\n",
       "    <tr>\n",
       "      <th>15580</th>\n",
       "      <td>1361</td>\n",
       "      <td>6908.49</td>\n",
       "      <td>23.82</td>\n",
       "      <td>2021-03-27</td>\n",
       "      <td>3</td>\n",
       "    </tr>\n",
       "    <tr>\n",
       "      <th>16484</th>\n",
       "      <td>1422</td>\n",
       "      <td>7066.00</td>\n",
       "      <td>23.62</td>\n",
       "      <td>2021-02-12</td>\n",
       "      <td>2</td>\n",
       "    </tr>\n",
       "    <tr>\n",
       "      <th>16309</th>\n",
       "      <td>1411</td>\n",
       "      <td>7211.01</td>\n",
       "      <td>25.00</td>\n",
       "      <td>2021-04-15</td>\n",
       "      <td>4</td>\n",
       "    </tr>\n",
       "  </tbody>\n",
       "</table>\n",
       "<p>18068 rows × 5 columns</p>\n",
       "</div>"
      ],
      "text/plain": [
       "       user_id  distance  duration       date  month\n",
       "11555     1069      0.86     10.00 2021-01-31      1\n",
       "9541       925      2.57      3.01 2021-10-19     10\n",
       "13690     1223      4.33      4.01 2021-05-22      5\n",
       "8658       861      6.78      6.02 2021-07-21      7\n",
       "7841       796      7.10     10.03 2021-11-26     11\n",
       "...        ...       ...       ...        ...    ...\n",
       "17242     1477   6724.93     25.00 2021-01-12      1\n",
       "17171     1471   6760.94     32.04 2021-08-03      8\n",
       "15580     1361   6908.49     23.82 2021-03-27      3\n",
       "16484     1422   7066.00     23.62 2021-02-12      2\n",
       "16309     1411   7211.01     25.00 2021-04-15      4\n",
       "\n",
       "[18068 rows x 5 columns]"
      ]
     },
     "execution_count": 24,
     "metadata": {},
     "output_type": "execute_result"
    }
   ],
   "source": [
    "data_rides.sort_values(by = ['distance'], ascending = True)"
   ]
  },
  {
   "cell_type": "markdown",
   "id": "f8eb8e45-e866-48a1-9ba6-6476afdf61fe",
   "metadata": {},
   "source": [
    "Могу сказать, что прохождение небольшой дистанции за относительно большое время может быть обусловлено большим количеством остановок. \\\n",
    "Например 0,86 м за 10 минут - видимо пользователь взял самокат и большинство своего оплаченного времени стоял на месте и как только поехал - его время вышло. \\\n",
    "Следовательно аномальных значений не обнаружено. "
   ]
  },
  {
   "cell_type": "markdown",
   "id": "c9108b4e-7691-4052-90a0-cccdfc3bc19a",
   "metadata": {},
   "source": [
    "2.3.3 Рассмотрим таблицу data_subs:"
   ]
  },
  {
   "cell_type": "code",
   "execution_count": 25,
   "id": "5731a9b3-1733-4ba5-8f15-8f292020d6ae",
   "metadata": {},
   "outputs": [
    {
     "data": {
      "text/plain": [
       "0"
      ]
     },
     "execution_count": 25,
     "metadata": {},
     "output_type": "execute_result"
    }
   ],
   "source": [
    "data_subs.duplicated().sum() # суммируем количество явных дубликатов"
   ]
  },
  {
   "cell_type": "markdown",
   "id": "2a86a11d-ddc5-4099-a448-4257cc3b37e8",
   "metadata": {},
   "source": [
    "Дубликаты в датафрейме `data_subs` не обнаружены."
   ]
  },
  {
   "cell_type": "markdown",
   "id": "5e66f66f-db97-45e4-b37f-fb8d17939475",
   "metadata": {},
   "source": [
    "### Вывод: \n",
    "В ходе мероприятий по предобработки данных проведены следующие операции:\n",
    "- Данные столбца `date` приведены к типу даты `datetime64`.\n",
    "- В таблице `data_rides` создан новый столбец `month` с номером месяца.\n",
    "- Расстояния в столбце `distance` и `duration` округлены до десятых.\n",
    "- Устранены дубликаты в таблице `data_users`.\n",
    "- В столбце `duration` таблицы `data_rides` выявлены и исправлены аномальные значения времени поездок. "
   ]
  },
  {
   "cell_type": "markdown",
   "id": "b0cf6353-b9ed-4152-b01f-eab69bccfea9",
   "metadata": {},
   "source": [
    "## Шаг 3. Исследовательский анализ данных"
   ]
  },
  {
   "cell_type": "markdown",
   "id": "ead16379-9f3b-4e14-86f5-05ede412b581",
   "metadata": {},
   "source": [
    "- Опишим и визуализируем общую информацию о пользователях и поездках:"
   ]
  },
  {
   "cell_type": "markdown",
   "id": "26086f6c-f635-4426-bfac-6fa87f56167e",
   "metadata": {},
   "source": [
    "### 3.1 Частота встречаемости городов"
   ]
  },
  {
   "cell_type": "markdown",
   "id": "a90cb213-e161-414c-a1ed-e58f9ca4aec3",
   "metadata": {},
   "source": [
    "Для начала воспользуемся сводной таблицей и посчитаем с какой частотой распределены пользователи по городам: "
   ]
  },
  {
   "cell_type": "code",
   "execution_count": 26,
   "id": "c7a80d08-9871-4bfd-893a-bff3fc0d0ccc",
   "metadata": {},
   "outputs": [
    {
     "data": {
      "text/html": [
       "<div>\n",
       "<style scoped>\n",
       "    .dataframe tbody tr th:only-of-type {\n",
       "        vertical-align: middle;\n",
       "    }\n",
       "\n",
       "    .dataframe tbody tr th {\n",
       "        vertical-align: top;\n",
       "    }\n",
       "\n",
       "    .dataframe thead th {\n",
       "        text-align: right;\n",
       "    }\n",
       "</style>\n",
       "<table border=\"1\" class=\"dataframe\">\n",
       "  <thead>\n",
       "    <tr style=\"text-align: right;\">\n",
       "      <th></th>\n",
       "      <th>Кол-во пользователей</th>\n",
       "      <th>Общее количество пользователей</th>\n",
       "      <th>Доля от общего</th>\n",
       "    </tr>\n",
       "    <tr>\n",
       "      <th>city</th>\n",
       "      <th></th>\n",
       "      <th></th>\n",
       "      <th></th>\n",
       "    </tr>\n",
       "  </thead>\n",
       "  <tbody>\n",
       "    <tr>\n",
       "      <th>Пятигорск</th>\n",
       "      <td>219</td>\n",
       "      <td>1534</td>\n",
       "      <td>14.3</td>\n",
       "    </tr>\n",
       "    <tr>\n",
       "      <th>Екатеринбург</th>\n",
       "      <td>204</td>\n",
       "      <td>1534</td>\n",
       "      <td>13.3</td>\n",
       "    </tr>\n",
       "    <tr>\n",
       "      <th>Ростов-на-Дону</th>\n",
       "      <td>198</td>\n",
       "      <td>1534</td>\n",
       "      <td>12.9</td>\n",
       "    </tr>\n",
       "    <tr>\n",
       "      <th>Краснодар</th>\n",
       "      <td>193</td>\n",
       "      <td>1534</td>\n",
       "      <td>12.6</td>\n",
       "    </tr>\n",
       "    <tr>\n",
       "      <th>Сочи</th>\n",
       "      <td>189</td>\n",
       "      <td>1534</td>\n",
       "      <td>12.3</td>\n",
       "    </tr>\n",
       "    <tr>\n",
       "      <th>Омск</th>\n",
       "      <td>183</td>\n",
       "      <td>1534</td>\n",
       "      <td>11.9</td>\n",
       "    </tr>\n",
       "    <tr>\n",
       "      <th>Тюмень</th>\n",
       "      <td>180</td>\n",
       "      <td>1534</td>\n",
       "      <td>11.7</td>\n",
       "    </tr>\n",
       "    <tr>\n",
       "      <th>Москва</th>\n",
       "      <td>168</td>\n",
       "      <td>1534</td>\n",
       "      <td>11.0</td>\n",
       "    </tr>\n",
       "  </tbody>\n",
       "</table>\n",
       "</div>"
      ],
      "text/plain": [
       "                Кол-во пользователей  Общее количество пользователей  \\\n",
       "city                                                                   \n",
       "Пятигорск                        219                            1534   \n",
       "Екатеринбург                     204                            1534   \n",
       "Ростов-на-Дону                   198                            1534   \n",
       "Краснодар                        193                            1534   \n",
       "Сочи                             189                            1534   \n",
       "Омск                             183                            1534   \n",
       "Тюмень                           180                            1534   \n",
       "Москва                           168                            1534   \n",
       "\n",
       "                Доля от общего  \n",
       "city                            \n",
       "Пятигорск                 14.3  \n",
       "Екатеринбург              13.3  \n",
       "Ростов-на-Дону            12.9  \n",
       "Краснодар                 12.6  \n",
       "Сочи                      12.3  \n",
       "Омск                      11.9  \n",
       "Тюмень                    11.7  \n",
       "Москва                    11.0  "
      ]
     },
     "execution_count": 26,
     "metadata": {},
     "output_type": "execute_result"
    }
   ],
   "source": [
    "svod_city = data_users.pivot_table(index = 'city', values = 'user_id', aggfunc = 'count').sort_values(by = ['user_id'], ascending = False)\n",
    "svod_city['kol_vo'] = len(data_users['user_id']) # добавляем столбец с общим количеством пользователей\n",
    "svod_city['percent'] = (svod_city['user_id']*100 / svod_city['kol_vo']).round(1) # считаем долю пользователей определенного города относительно общего\n",
    "# количества пользователей \n",
    "svod_city = svod_city.rename(columns = {'user_id' : 'Кол-во пользователей', 'kol_vo' : 'Общее количество пользователей', 'percent' : 'Доля от общего',})\n",
    "svod_city"
   ]
  },
  {
   "cell_type": "markdown",
   "id": "125eac09-94a4-49b6-91eb-805d6066ac96",
   "metadata": {},
   "source": [
    "Визуализируем нашу таблицу в виде столбчатой диаграммы: "
   ]
  },
  {
   "cell_type": "code",
   "execution_count": 27,
   "id": "7a8dc0f3-d321-4c5f-8024-12c2006cd16d",
   "metadata": {},
   "outputs": [
    {
     "data": {
      "image/png": "[encoded data removed]",
      "text/plain": [
       "<Figure size 1100x700 with 1 Axes>"
      ]
     },
     "metadata": {},
     "output_type": "display_data"
    }
   ],
   "source": [
    "( # построим диаграмму методом .plot()\n",
    "    data_users\n",
    "    .groupby('city')['user_id']\n",
    "    .count()\n",
    "    .sort_values(ascending = False)\n",
    "    .plot(kind='bar', figsize=(11, 7), color = '#B6D7A8')\n",
    ")\n",
    "plt.xticks(rotation=45)\n",
    "plt.title('Распределение пользователей по городам', size=15)\n",
    "plt.xlabel('Город', size=12)\n",
    "plt.ylabel('Количество поездок, шт', size=12)\n",
    "plt.show()"
   ]
  },
  {
   "cell_type": "markdown",
   "id": "941d5890-c030-4e38-bc7b-7874e8c2ad44",
   "metadata": {},
   "source": [
    "**Вывод:** \\\n",
    "Исходя из диаграммы и сводной таблицы выше - мы можем сказать, что все наши 1534 пользователя почти равномерно распределены между восьмью населенными пунктами. \\\n",
    "Большинство пользователей из Пятигорска - 219 чел., 14,3%. \\\n",
    "Меньше всего пользователей из Москвы - 168 чел., 11%. "
   ]
  },
  {
   "cell_type": "markdown",
   "id": "5b4a643d-6c71-4296-9250-6ab962ee53c5",
   "metadata": {},
   "source": [
    "### 3.2 Соотношение пользователей с подпиской и без подписки"
   ]
  },
  {
   "cell_type": "markdown",
   "id": "8775f7ee-acf5-4f49-af65-7dc9e014da1d",
   "metadata": {},
   "source": [
    "Воспользуемся сводной таблицей и посчитаем с какой частотой распределены пользователи с подпиской и без:"
   ]
  },
  {
   "cell_type": "code",
   "execution_count": 28,
   "id": "0b673be0-fa21-420d-a9af-000346065180",
   "metadata": {},
   "outputs": [
    {
     "data": {
      "text/html": [
       "<div>\n",
       "<style scoped>\n",
       "    .dataframe tbody tr th:only-of-type {\n",
       "        vertical-align: middle;\n",
       "    }\n",
       "\n",
       "    .dataframe tbody tr th {\n",
       "        vertical-align: top;\n",
       "    }\n",
       "\n",
       "    .dataframe thead th {\n",
       "        text-align: right;\n",
       "    }\n",
       "</style>\n",
       "<table border=\"1\" class=\"dataframe\">\n",
       "  <thead>\n",
       "    <tr style=\"text-align: right;\">\n",
       "      <th></th>\n",
       "      <th>Кол-во пользователей</th>\n",
       "      <th>Общее количество пользователей</th>\n",
       "      <th>Доля от общего</th>\n",
       "    </tr>\n",
       "    <tr>\n",
       "      <th>subscription_type</th>\n",
       "      <th></th>\n",
       "      <th></th>\n",
       "      <th></th>\n",
       "    </tr>\n",
       "  </thead>\n",
       "  <tbody>\n",
       "    <tr>\n",
       "      <th>free</th>\n",
       "      <td>835</td>\n",
       "      <td>1534</td>\n",
       "      <td>54.4</td>\n",
       "    </tr>\n",
       "    <tr>\n",
       "      <th>ultra</th>\n",
       "      <td>699</td>\n",
       "      <td>1534</td>\n",
       "      <td>45.6</td>\n",
       "    </tr>\n",
       "  </tbody>\n",
       "</table>\n",
       "</div>"
      ],
      "text/plain": [
       "                   Кол-во пользователей  Общее количество пользователей  \\\n",
       "subscription_type                                                         \n",
       "free                                835                            1534   \n",
       "ultra                               699                            1534   \n",
       "\n",
       "                   Доля от общего  \n",
       "subscription_type                  \n",
       "free                         54.4  \n",
       "ultra                        45.6  "
      ]
     },
     "execution_count": 28,
     "metadata": {},
     "output_type": "execute_result"
    }
   ],
   "source": [
    "svod_sub = data_users.pivot_table(index = 'subscription_type', values = 'user_id', aggfunc = 'count').sort_values(by = ['user_id'], ascending = False)\n",
    "svod_sub['kol_vo'] = len(data_users['user_id']) # добавляем столбец с общим количеством пользователей\n",
    "svod_sub['percent'] = (svod_sub['user_id']*100 / svod_sub['kol_vo']).round(1) # считаем долю пользователей с подпиской и без - относительно общего\n",
    "# количества пользователей \n",
    "svod_sub = svod_sub.rename(columns = {'user_id' : 'Кол-во пользователей', 'kol_vo' : 'Общее количество пользователей', 'percent' : 'Доля от общего',})\n",
    "svod_sub"
   ]
  },
  {
   "cell_type": "markdown",
   "id": "9e99f758-0e1f-4931-ac00-536e913e30cb",
   "metadata": {},
   "source": [
    "Визуализируем нашу таблицу в виде круговой диаграммы:"
   ]
  },
  {
   "cell_type": "code",
   "execution_count": 29,
   "id": "5584dfaa-2fdc-4f20-9d5b-c3960e67262e",
   "metadata": {},
   "outputs": [
    {
     "data": {
      "image/png": "[encoded data removed]",
      "text/plain": [
       "<Figure size 500x500 with 1 Axes>"
      ]
     },
     "metadata": {},
     "output_type": "display_data"
    }
   ],
   "source": [
    "(\n",
    "    data_users\n",
    "    .groupby('subscription_type')['user_id']\n",
    "    .count()\n",
    "    .plot(kind='pie', figsize=(5, 5), autopct='%1.1f%%')\n",
    ")\n",
    "plt.xticks(rotation=45)\n",
    "plt.title('Соотношение пользователей с подпиской и без подписки', size=15)\n",
    "plt.xlabel('Тариф ultra - с абонентской платой')\n",
    "plt.ylabel('Free - без подписки')\n",
    "plt.show()"
   ]
  },
  {
   "cell_type": "markdown",
   "id": "6ea2b4c5-4b9c-4ae0-a149-318a34f5ef1e",
   "metadata": {},
   "source": [
    "**Вывод:** \\\n",
    "Как мы можем видеть на нашей диаграмме - 54,4 % пользователей не используют подписку. "
   ]
  },
  {
   "cell_type": "markdown",
   "id": "65a88ede-6cc6-45f3-a0db-5984c55f66b1",
   "metadata": {},
   "source": [
    "### 3.3 Возраст пользователей"
   ]
  },
  {
   "cell_type": "code",
   "execution_count": 30,
   "id": "85c10639-446c-47b9-b085-5072cfd75bc4",
   "metadata": {},
   "outputs": [
    {
     "data": {
      "text/plain": [
       "count    1534.0\n",
       "mean       24.9\n",
       "std         4.6\n",
       "min        12.0\n",
       "25%        22.0\n",
       "50%        25.0\n",
       "75%        28.0\n",
       "max        43.0\n",
       "Name: age, dtype: float64"
      ]
     },
     "execution_count": 30,
     "metadata": {},
     "output_type": "execute_result"
    }
   ],
   "source": [
    "data_users['age'].describe().round(1) # используем метод .describe() - список характерных значений"
   ]
  },
  {
   "cell_type": "markdown",
   "id": "b5a2b732-3831-4a21-8946-36e70498318d",
   "metadata": {},
   "source": [
    "- Можем отметить, что средний возраст пользователей - 25 лет."
   ]
  },
  {
   "cell_type": "code",
   "execution_count": 31,
   "id": "d14af8ee-c765-4e85-b6ad-2b4b30ab9cf9",
   "metadata": {},
   "outputs": [
    {
     "data": {
      "image/png": "[encoded data removed]",
      "text/plain": [
       "<Figure size 700x700 with 1 Axes>"
      ]
     },
     "metadata": {},
     "output_type": "display_data"
    }
   ],
   "source": [
    "( # построим гистограмму методом .plot()\n",
    "    data_users\n",
    "    .plot(kind='hist', y = 'age', histtype = 'bar', alpha = 1, label = 'Возраст', grid = True, bins = 30, figsize=(7, 7), color = '#B6D7A8')\n",
    ")\n",
    "plt.title('Возраст пользователей', size=15)\n",
    "plt.xlabel('Возраст, лет', size=12)\n",
    "plt.ylabel('Количество пользователей, шт', size=12)\n",
    "plt.show()"
   ]
  },
  {
   "cell_type": "markdown",
   "id": "0604c8d6-b47d-4f60-8db3-b3e6b6f363e2",
   "metadata": {},
   "source": [
    "**Вывод:** \\\n",
    "Основная масса пользователей находится в возрасте от 20 до 30 лет и наравне с этим наибольшее количество пользователей находится в возрасте 25 лет. \\\n",
    "Зависимость возраста пользователей от их количества соответствует нормальному распределению. "
   ]
  },
  {
   "cell_type": "markdown",
   "id": "447c660f-d2ff-44d4-9356-a6f0537dee5a",
   "metadata": {},
   "source": [
    "### 3.4  Расстояние, которое пользователь преодолел за одну поездку"
   ]
  },
  {
   "cell_type": "code",
   "execution_count": 32,
   "id": "d9e7fc57-feea-4dd3-a72a-22cd0685b41f",
   "metadata": {},
   "outputs": [
    {
     "data": {
      "text/plain": [
       "count    18068.00\n",
       "mean      3070.66\n",
       "std       1116.83\n",
       "min          0.86\n",
       "25%       2543.23\n",
       "50%       3133.61\n",
       "75%       3776.22\n",
       "max       7211.01\n",
       "Name: distance, dtype: float64"
      ]
     },
     "execution_count": 32,
     "metadata": {},
     "output_type": "execute_result"
    }
   ],
   "source": [
    "data_rides['distance'].describe().round(2)"
   ]
  },
  {
   "cell_type": "markdown",
   "id": "e96701ab-b299-44a0-b375-f7d8b05a5544",
   "metadata": {},
   "source": [
    "В среднем, пользователи преодолевали порядка 3 километров, посмотрим на диаграмме. "
   ]
  },
  {
   "cell_type": "code",
   "execution_count": 33,
   "id": "643b3e98-83b2-43bb-904d-84a25d1116fe",
   "metadata": {},
   "outputs": [
    {
     "data": {
      "image/png": "[encoded data removed]",
      "text/plain": [
       "<Figure size 640x480 with 1 Axes>"
      ]
     },
     "metadata": {},
     "output_type": "display_data"
    }
   ],
   "source": [
    "plt.hist(data_rides['distance'], bins=300, range=(0,7220), color = '#B6D7A8')\n",
    "plt.title('Расстояние, преодолеваемое пользователями за одну поездку')\n",
    "plt.xlabel('Расстояние одной поездки, м')\n",
    "plt.ylabel('Количество поездок, шт')\n",
    "plt.grid()\n",
    "plt.show()"
   ]
  },
  {
   "cell_type": "markdown",
   "id": "01ec935b-af4e-4548-828d-4412dbe8e13f",
   "metadata": {},
   "source": [
    "**Вывод:** \\\n",
    "Основная масса поездок проходила на расстояние от 2 до 4,5 километров, наибольшее количество раз пользователи уезжали на 3,2 километра.\\\n",
    "Зависимость расстояния одной поездки пользователей от их количества соответствует нормальному распределению. "
   ]
  },
  {
   "cell_type": "markdown",
   "id": "04211f2a-672a-454b-a7e8-ea5b4c0a57fc",
   "metadata": {},
   "source": [
    "### 3.5 Продолжительность поездок "
   ]
  },
  {
   "cell_type": "code",
   "execution_count": 34,
   "id": "6330e9fe-2673-4cc1-8f5c-d420232106ae",
   "metadata": {},
   "outputs": [
    {
     "data": {
      "text/plain": [
       "count    18068.00\n",
       "mean        17.93\n",
       "std          5.98\n",
       "min          2.04\n",
       "25%         13.70\n",
       "50%         17.75\n",
       "75%         21.82\n",
       "max         40.82\n",
       "Name: duration, dtype: float64"
      ]
     },
     "execution_count": 34,
     "metadata": {},
     "output_type": "execute_result"
    }
   ],
   "source": [
    "data_rides['duration'].describe().round(2)"
   ]
  },
  {
   "cell_type": "code",
   "execution_count": 35,
   "id": "6ed70f00-193a-4a7a-9322-b0d423f07703",
   "metadata": {},
   "outputs": [
    {
     "data": {
      "image/png": "[encoded data removed]",
      "text/plain": [
       "<Figure size 700x700 with 1 Axes>"
      ]
     },
     "metadata": {},
     "output_type": "display_data"
    }
   ],
   "source": [
    "( # построим гистограмму методом .plot()\n",
    "    data_rides\n",
    "    .plot(kind='hist', y = 'duration', histtype = 'barstacked', alpha = 1, label = 'Кол-во поездок', grid = True, bins = 150, figsize=(7, 7), color = '#B6D7A8')\n",
    ")\n",
    "plt.title('Продолжительность поездок', size=15)\n",
    "plt.xlabel('Время, мин', size=12)\n",
    "plt.ylabel('Количество поездок, шт', size=12)\n",
    "plt.show()"
   ]
  },
  {
   "cell_type": "markdown",
   "id": "87c5fc73-ee69-41a8-96d5-da665872bf24",
   "metadata": {},
   "source": [
    "- Среднее время поездки занимает порядка 18 минут, вместе с этим - наибольшее количество поездок лежит в диапазоне от 8 до 27 минут. \\\n",
    "  Зависимость продолжительности поездок от их количества соответствует нормальному распределению. "
   ]
  },
  {
   "cell_type": "code",
   "execution_count": 65,
   "id": "fa9c4d82-edbd-46fd-996a-d78a034548e4",
   "metadata": {},
   "outputs": [
    {
     "data": {
      "image/png": "[encoded data removed]",
      "text/plain": [
       "<Figure size 640x480 with 1 Axes>"
      ]
     },
     "metadata": {},
     "output_type": "display_data"
    }
   ],
   "source": [
    "# посмотрим на боксплот продолжительности поездки\n",
    "plt.boxplot(data_rides['duration'])\n",
    "plt.title('Продолжительность поездок', size=15)\n",
    "plt.ylabel('Время, мин', size=12)\n",
    "plt.show()"
   ]
  },
  {
   "cell_type": "markdown",
   "id": "b3d74e29-f554-4df1-9582-768370014d52",
   "metadata": {},
   "source": [
    "Как видно на боксплоте, поездки дольше 34 минут считаются выбросами."
   ]
  },
  {
   "cell_type": "markdown",
   "id": "4ccd68e3-2b49-4c6f-8061-12caf9473555",
   "metadata": {},
   "source": [
    "### ВЫВОД: \n",
    "- Количество пользователей в нашей выборке почти равномерно распределено между восьмью городами, однако: \\\n",
    "Большинство пользователей из Пятигорска - 219 чел., 14,3%. \\\n",
    "Меньше всего пользователей из Москвы - 168 чел., 11%.\n",
    "- 54,4 % пользователей не используют подписку на сервис.\n",
    "- Сервис является наиболее привлекательным для людей 25 лет.\n",
    "- Основная масса поездок проходила на расстояние от 2 до 4,5 километров.\n",
    "- Среднее время поездки занимает порядка 18 минут."
   ]
  },
  {
   "cell_type": "markdown",
   "id": "fdf28906-3972-4fde-aff0-91649a247e9c",
   "metadata": {},
   "source": [
    "## Шаг 4. Объединение данных"
   ]
  },
  {
   "cell_type": "markdown",
   "id": "67692c35-5f1c-4c64-9e6c-80f61f36f1b0",
   "metadata": {},
   "source": [
    "### 4.1 Объединим данные о пользователях, поездках и подписках в один датафрейм"
   ]
  },
  {
   "cell_type": "markdown",
   "id": "34418caa-bbbe-41de-8598-8223cfa7455b",
   "metadata": {},
   "source": [
    "Как мы помним, таблицы `data_users` и `data_rides` имеют общий столбец *user_id*, а так же таблица `data_users` и `data_subs` имеют общий столбец *subscription_type*. \\\n",
    "Поэтому мы последовательно объединим `data_users` с `data_rides` и `data_subs` методом `merge()`."
   ]
  },
  {
   "cell_type": "code",
   "execution_count": 36,
   "id": "d7a4fb6d-1ec8-434f-a371-ace3f0674da7",
   "metadata": {},
   "outputs": [
    {
     "data": {
      "text/html": [
       "<div>\n",
       "<style scoped>\n",
       "    .dataframe tbody tr th:only-of-type {\n",
       "        vertical-align: middle;\n",
       "    }\n",
       "\n",
       "    .dataframe tbody tr th {\n",
       "        vertical-align: top;\n",
       "    }\n",
       "\n",
       "    .dataframe thead th {\n",
       "        text-align: right;\n",
       "    }\n",
       "</style>\n",
       "<table border=\"1\" class=\"dataframe\">\n",
       "  <thead>\n",
       "    <tr style=\"text-align: right;\">\n",
       "      <th></th>\n",
       "      <th>user_id</th>\n",
       "      <th>name</th>\n",
       "      <th>age</th>\n",
       "      <th>city</th>\n",
       "      <th>subscription_type</th>\n",
       "      <th>distance</th>\n",
       "      <th>duration</th>\n",
       "      <th>date</th>\n",
       "      <th>month</th>\n",
       "      <th>minute_price</th>\n",
       "      <th>start_ride_price</th>\n",
       "      <th>subscription_fee</th>\n",
       "    </tr>\n",
       "  </thead>\n",
       "  <tbody>\n",
       "    <tr>\n",
       "      <th>0</th>\n",
       "      <td>1</td>\n",
       "      <td>Кира</td>\n",
       "      <td>22</td>\n",
       "      <td>Тюмень</td>\n",
       "      <td>ultra</td>\n",
       "      <td>4409.92</td>\n",
       "      <td>25.60</td>\n",
       "      <td>2021-01-01</td>\n",
       "      <td>1</td>\n",
       "      <td>6</td>\n",
       "      <td>0</td>\n",
       "      <td>199</td>\n",
       "    </tr>\n",
       "    <tr>\n",
       "      <th>1</th>\n",
       "      <td>1</td>\n",
       "      <td>Кира</td>\n",
       "      <td>22</td>\n",
       "      <td>Тюмень</td>\n",
       "      <td>ultra</td>\n",
       "      <td>2617.59</td>\n",
       "      <td>15.82</td>\n",
       "      <td>2021-01-18</td>\n",
       "      <td>1</td>\n",
       "      <td>6</td>\n",
       "      <td>0</td>\n",
       "      <td>199</td>\n",
       "    </tr>\n",
       "    <tr>\n",
       "      <th>2</th>\n",
       "      <td>1</td>\n",
       "      <td>Кира</td>\n",
       "      <td>22</td>\n",
       "      <td>Тюмень</td>\n",
       "      <td>ultra</td>\n",
       "      <td>754.16</td>\n",
       "      <td>6.23</td>\n",
       "      <td>2021-04-20</td>\n",
       "      <td>4</td>\n",
       "      <td>6</td>\n",
       "      <td>0</td>\n",
       "      <td>199</td>\n",
       "    </tr>\n",
       "    <tr>\n",
       "      <th>3</th>\n",
       "      <td>1</td>\n",
       "      <td>Кира</td>\n",
       "      <td>22</td>\n",
       "      <td>Тюмень</td>\n",
       "      <td>ultra</td>\n",
       "      <td>2694.78</td>\n",
       "      <td>18.51</td>\n",
       "      <td>2021-08-11</td>\n",
       "      <td>8</td>\n",
       "      <td>6</td>\n",
       "      <td>0</td>\n",
       "      <td>199</td>\n",
       "    </tr>\n",
       "    <tr>\n",
       "      <th>4</th>\n",
       "      <td>1</td>\n",
       "      <td>Кира</td>\n",
       "      <td>22</td>\n",
       "      <td>Тюмень</td>\n",
       "      <td>ultra</td>\n",
       "      <td>4028.69</td>\n",
       "      <td>26.27</td>\n",
       "      <td>2021-08-28</td>\n",
       "      <td>8</td>\n",
       "      <td>6</td>\n",
       "      <td>0</td>\n",
       "      <td>199</td>\n",
       "    </tr>\n",
       "    <tr>\n",
       "      <th>5</th>\n",
       "      <td>1</td>\n",
       "      <td>Кира</td>\n",
       "      <td>22</td>\n",
       "      <td>Тюмень</td>\n",
       "      <td>ultra</td>\n",
       "      <td>2770.89</td>\n",
       "      <td>16.65</td>\n",
       "      <td>2021-10-09</td>\n",
       "      <td>10</td>\n",
       "      <td>6</td>\n",
       "      <td>0</td>\n",
       "      <td>199</td>\n",
       "    </tr>\n",
       "    <tr>\n",
       "      <th>6</th>\n",
       "      <td>1</td>\n",
       "      <td>Кира</td>\n",
       "      <td>22</td>\n",
       "      <td>Тюмень</td>\n",
       "      <td>ultra</td>\n",
       "      <td>3039.02</td>\n",
       "      <td>14.93</td>\n",
       "      <td>2021-10-19</td>\n",
       "      <td>10</td>\n",
       "      <td>6</td>\n",
       "      <td>0</td>\n",
       "      <td>199</td>\n",
       "    </tr>\n",
       "    <tr>\n",
       "      <th>7</th>\n",
       "      <td>1</td>\n",
       "      <td>Кира</td>\n",
       "      <td>22</td>\n",
       "      <td>Тюмень</td>\n",
       "      <td>ultra</td>\n",
       "      <td>2842.12</td>\n",
       "      <td>23.12</td>\n",
       "      <td>2021-11-06</td>\n",
       "      <td>11</td>\n",
       "      <td>6</td>\n",
       "      <td>0</td>\n",
       "      <td>199</td>\n",
       "    </tr>\n",
       "    <tr>\n",
       "      <th>8</th>\n",
       "      <td>1</td>\n",
       "      <td>Кира</td>\n",
       "      <td>22</td>\n",
       "      <td>Тюмень</td>\n",
       "      <td>ultra</td>\n",
       "      <td>3412.69</td>\n",
       "      <td>15.24</td>\n",
       "      <td>2021-11-14</td>\n",
       "      <td>11</td>\n",
       "      <td>6</td>\n",
       "      <td>0</td>\n",
       "      <td>199</td>\n",
       "    </tr>\n",
       "    <tr>\n",
       "      <th>9</th>\n",
       "      <td>1</td>\n",
       "      <td>Кира</td>\n",
       "      <td>22</td>\n",
       "      <td>Тюмень</td>\n",
       "      <td>ultra</td>\n",
       "      <td>748.69</td>\n",
       "      <td>15.04</td>\n",
       "      <td>2021-11-22</td>\n",
       "      <td>11</td>\n",
       "      <td>6</td>\n",
       "      <td>0</td>\n",
       "      <td>199</td>\n",
       "    </tr>\n",
       "  </tbody>\n",
       "</table>\n",
       "</div>"
      ],
      "text/plain": [
       "   user_id  name  age    city subscription_type  distance  duration  \\\n",
       "0        1  Кира   22  Тюмень             ultra   4409.92     25.60   \n",
       "1        1  Кира   22  Тюмень             ultra   2617.59     15.82   \n",
       "2        1  Кира   22  Тюмень             ultra    754.16      6.23   \n",
       "3        1  Кира   22  Тюмень             ultra   2694.78     18.51   \n",
       "4        1  Кира   22  Тюмень             ultra   4028.69     26.27   \n",
       "5        1  Кира   22  Тюмень             ultra   2770.89     16.65   \n",
       "6        1  Кира   22  Тюмень             ultra   3039.02     14.93   \n",
       "7        1  Кира   22  Тюмень             ultra   2842.12     23.12   \n",
       "8        1  Кира   22  Тюмень             ultra   3412.69     15.24   \n",
       "9        1  Кира   22  Тюмень             ultra    748.69     15.04   \n",
       "\n",
       "        date  month  minute_price  start_ride_price  subscription_fee  \n",
       "0 2021-01-01      1             6                 0               199  \n",
       "1 2021-01-18      1             6                 0               199  \n",
       "2 2021-04-20      4             6                 0               199  \n",
       "3 2021-08-11      8             6                 0               199  \n",
       "4 2021-08-28      8             6                 0               199  \n",
       "5 2021-10-09     10             6                 0               199  \n",
       "6 2021-10-19     10             6                 0               199  \n",
       "7 2021-11-06     11             6                 0               199  \n",
       "8 2021-11-14     11             6                 0               199  \n",
       "9 2021-11-22     11             6                 0               199  "
      ]
     },
     "execution_count": 36,
     "metadata": {},
     "output_type": "execute_result"
    }
   ],
   "source": [
    "data = pd.merge(data_users, data_rides, on = 'user_id') #  по умолчанию .merge() выполняет внутреннее объединение inner join\n",
    "data = pd.merge(data, data_subs, on = 'subscription_type') \n",
    "data.head(10) # выведем первые 10 строк для просмотра"
   ]
  },
  {
   "cell_type": "code",
   "execution_count": 37,
   "id": "3ca072b9-0d69-4210-9ecf-e83ef2c148a4",
   "metadata": {},
   "outputs": [
    {
     "name": "stdout",
     "output_type": "stream",
     "text": [
      "<class 'pandas.core.frame.DataFrame'>\n",
      "RangeIndex: 18068 entries, 0 to 18067\n",
      "Data columns (total 12 columns):\n",
      " #   Column             Non-Null Count  Dtype         \n",
      "---  ------             --------------  -----         \n",
      " 0   user_id            18068 non-null  int64         \n",
      " 1   name               18068 non-null  object        \n",
      " 2   age                18068 non-null  int64         \n",
      " 3   city               18068 non-null  object        \n",
      " 4   subscription_type  18068 non-null  object        \n",
      " 5   distance           18068 non-null  float64       \n",
      " 6   duration           18068 non-null  float64       \n",
      " 7   date               18068 non-null  datetime64[ns]\n",
      " 8   month              18068 non-null  int32         \n",
      " 9   minute_price       18068 non-null  int64         \n",
      " 10  start_ride_price   18068 non-null  int64         \n",
      " 11  subscription_fee   18068 non-null  int64         \n",
      "dtypes: datetime64[ns](1), float64(2), int32(1), int64(5), object(3)\n",
      "memory usage: 1.6+ MB\n"
     ]
    }
   ],
   "source": [
    "data.info()"
   ]
  },
  {
   "cell_type": "markdown",
   "id": "931bdeeb-18fc-454e-bd3e-3dd3f88c7093",
   "metadata": {},
   "source": [
    "Количество строк в полученной таблице совпадает с таблицей `data_rides`, а 12 столбцов соответствует количеству столбцов всех трех датафреймов, без учета повторяющихся (но с учетом того, что один столбец `month` мы добавили сами). Строки ненулевые, типы данных корректные. "
   ]
  },
  {
   "cell_type": "markdown",
   "id": "d4397909-ab29-4fc0-bce9-0c977569f98c",
   "metadata": {},
   "source": [
    "### 4.2 Создадим ещё два датафрейма из объединенной таблицы "
   ]
  },
  {
   "cell_type": "markdown",
   "id": "de4ad328-a6e2-4ee8-abe6-ba2437594f25",
   "metadata": {},
   "source": [
    "4.2.1 С данными о пользователях без подписки:"
   ]
  },
  {
   "cell_type": "code",
   "execution_count": 38,
   "id": "0e592a42-edd6-4143-9867-676a45ff589c",
   "metadata": {},
   "outputs": [
    {
     "data": {
      "text/html": [
       "<div>\n",
       "<style scoped>\n",
       "    .dataframe tbody tr th:only-of-type {\n",
       "        vertical-align: middle;\n",
       "    }\n",
       "\n",
       "    .dataframe tbody tr th {\n",
       "        vertical-align: top;\n",
       "    }\n",
       "\n",
       "    .dataframe thead th {\n",
       "        text-align: right;\n",
       "    }\n",
       "</style>\n",
       "<table border=\"1\" class=\"dataframe\">\n",
       "  <thead>\n",
       "    <tr style=\"text-align: right;\">\n",
       "      <th></th>\n",
       "      <th>user_id</th>\n",
       "      <th>name</th>\n",
       "      <th>age</th>\n",
       "      <th>city</th>\n",
       "      <th>subscription_type</th>\n",
       "      <th>distance</th>\n",
       "      <th>duration</th>\n",
       "      <th>date</th>\n",
       "      <th>month</th>\n",
       "      <th>minute_price</th>\n",
       "      <th>start_ride_price</th>\n",
       "      <th>subscription_fee</th>\n",
       "    </tr>\n",
       "  </thead>\n",
       "  <tbody>\n",
       "    <tr>\n",
       "      <th>7703</th>\n",
       "      <td>786</td>\n",
       "      <td>Виолетта</td>\n",
       "      <td>23</td>\n",
       "      <td>Сочи</td>\n",
       "      <td>free</td>\n",
       "      <td>4103.95</td>\n",
       "      <td>16.68</td>\n",
       "      <td>2021-03-16</td>\n",
       "      <td>3</td>\n",
       "      <td>8</td>\n",
       "      <td>50</td>\n",
       "      <td>0</td>\n",
       "    </tr>\n",
       "    <tr>\n",
       "      <th>14058</th>\n",
       "      <td>1249</td>\n",
       "      <td>Амалия</td>\n",
       "      <td>28</td>\n",
       "      <td>Тюмень</td>\n",
       "      <td>free</td>\n",
       "      <td>2582.15</td>\n",
       "      <td>11.11</td>\n",
       "      <td>2021-09-25</td>\n",
       "      <td>9</td>\n",
       "      <td>8</td>\n",
       "      <td>50</td>\n",
       "      <td>0</td>\n",
       "    </tr>\n",
       "    <tr>\n",
       "      <th>8752</th>\n",
       "      <td>869</td>\n",
       "      <td>Анна</td>\n",
       "      <td>26</td>\n",
       "      <td>Сочи</td>\n",
       "      <td>free</td>\n",
       "      <td>3462.36</td>\n",
       "      <td>20.98</td>\n",
       "      <td>2021-01-26</td>\n",
       "      <td>1</td>\n",
       "      <td>8</td>\n",
       "      <td>50</td>\n",
       "      <td>0</td>\n",
       "    </tr>\n",
       "    <tr>\n",
       "      <th>16747</th>\n",
       "      <td>1439</td>\n",
       "      <td>Василина</td>\n",
       "      <td>23</td>\n",
       "      <td>Ростов-на-Дону</td>\n",
       "      <td>free</td>\n",
       "      <td>2637.78</td>\n",
       "      <td>15.55</td>\n",
       "      <td>2021-04-16</td>\n",
       "      <td>4</td>\n",
       "      <td>8</td>\n",
       "      <td>50</td>\n",
       "      <td>0</td>\n",
       "    </tr>\n",
       "    <tr>\n",
       "      <th>17439</th>\n",
       "      <td>1491</td>\n",
       "      <td>Адель</td>\n",
       "      <td>31</td>\n",
       "      <td>Сочи</td>\n",
       "      <td>free</td>\n",
       "      <td>693.39</td>\n",
       "      <td>9.78</td>\n",
       "      <td>2021-03-09</td>\n",
       "      <td>3</td>\n",
       "      <td>8</td>\n",
       "      <td>50</td>\n",
       "      <td>0</td>\n",
       "    </tr>\n",
       "  </tbody>\n",
       "</table>\n",
       "</div>"
      ],
      "text/plain": [
       "       user_id      name  age            city subscription_type  distance  \\\n",
       "7703       786  Виолетта   23            Сочи              free   4103.95   \n",
       "14058     1249    Амалия   28          Тюмень              free   2582.15   \n",
       "8752       869      Анна   26            Сочи              free   3462.36   \n",
       "16747     1439  Василина   23  Ростов-на-Дону              free   2637.78   \n",
       "17439     1491     Адель   31            Сочи              free    693.39   \n",
       "\n",
       "       duration       date  month  minute_price  start_ride_price  \\\n",
       "7703      16.68 2021-03-16      3             8                50   \n",
       "14058     11.11 2021-09-25      9             8                50   \n",
       "8752      20.98 2021-01-26      1             8                50   \n",
       "16747     15.55 2021-04-16      4             8                50   \n",
       "17439      9.78 2021-03-09      3             8                50   \n",
       "\n",
       "       subscription_fee  \n",
       "7703                  0  \n",
       "14058                 0  \n",
       "8752                  0  \n",
       "16747                 0  \n",
       "17439                 0  "
      ]
     },
     "execution_count": 38,
     "metadata": {},
     "output_type": "execute_result"
    }
   ],
   "source": [
    "data_free = data[data['subscription_type'] == 'free'] # оставляем только строки со значениями free в столбце subscription_type\n",
    "data_free.sample(5) # выведем рандомные 5 строк полученного датафрейма"
   ]
  },
  {
   "cell_type": "markdown",
   "id": "419703cc-002a-48ba-a7bd-867fbd8558ad",
   "metadata": {},
   "source": [
    "4.2.2 С данными о пользователях с подпиской:"
   ]
  },
  {
   "cell_type": "code",
   "execution_count": 39,
   "id": "f42c88ea-a603-4097-affc-0e2f95f1a261",
   "metadata": {},
   "outputs": [
    {
     "data": {
      "text/html": [
       "<div>\n",
       "<style scoped>\n",
       "    .dataframe tbody tr th:only-of-type {\n",
       "        vertical-align: middle;\n",
       "    }\n",
       "\n",
       "    .dataframe tbody tr th {\n",
       "        vertical-align: top;\n",
       "    }\n",
       "\n",
       "    .dataframe thead th {\n",
       "        text-align: right;\n",
       "    }\n",
       "</style>\n",
       "<table border=\"1\" class=\"dataframe\">\n",
       "  <thead>\n",
       "    <tr style=\"text-align: right;\">\n",
       "      <th></th>\n",
       "      <th>user_id</th>\n",
       "      <th>name</th>\n",
       "      <th>age</th>\n",
       "      <th>city</th>\n",
       "      <th>subscription_type</th>\n",
       "      <th>distance</th>\n",
       "      <th>duration</th>\n",
       "      <th>date</th>\n",
       "      <th>month</th>\n",
       "      <th>minute_price</th>\n",
       "      <th>start_ride_price</th>\n",
       "      <th>subscription_fee</th>\n",
       "    </tr>\n",
       "  </thead>\n",
       "  <tbody>\n",
       "    <tr>\n",
       "      <th>3448</th>\n",
       "      <td>372</td>\n",
       "      <td>Арсен</td>\n",
       "      <td>26</td>\n",
       "      <td>Ростов-на-Дону</td>\n",
       "      <td>ultra</td>\n",
       "      <td>2533.93</td>\n",
       "      <td>28.20</td>\n",
       "      <td>2021-01-02</td>\n",
       "      <td>1</td>\n",
       "      <td>6</td>\n",
       "      <td>0</td>\n",
       "      <td>199</td>\n",
       "    </tr>\n",
       "    <tr>\n",
       "      <th>1090</th>\n",
       "      <td>116</td>\n",
       "      <td>Марат</td>\n",
       "      <td>28</td>\n",
       "      <td>Москва</td>\n",
       "      <td>ultra</td>\n",
       "      <td>2500.93</td>\n",
       "      <td>10.15</td>\n",
       "      <td>2021-12-22</td>\n",
       "      <td>12</td>\n",
       "      <td>6</td>\n",
       "      <td>0</td>\n",
       "      <td>199</td>\n",
       "    </tr>\n",
       "    <tr>\n",
       "      <th>1621</th>\n",
       "      <td>174</td>\n",
       "      <td>Инна</td>\n",
       "      <td>28</td>\n",
       "      <td>Краснодар</td>\n",
       "      <td>ultra</td>\n",
       "      <td>3794.40</td>\n",
       "      <td>35.77</td>\n",
       "      <td>2021-12-23</td>\n",
       "      <td>12</td>\n",
       "      <td>6</td>\n",
       "      <td>0</td>\n",
       "      <td>199</td>\n",
       "    </tr>\n",
       "    <tr>\n",
       "      <th>1818</th>\n",
       "      <td>197</td>\n",
       "      <td>Евгения</td>\n",
       "      <td>31</td>\n",
       "      <td>Москва</td>\n",
       "      <td>ultra</td>\n",
       "      <td>3317.73</td>\n",
       "      <td>18.29</td>\n",
       "      <td>2021-04-19</td>\n",
       "      <td>4</td>\n",
       "      <td>6</td>\n",
       "      <td>0</td>\n",
       "      <td>199</td>\n",
       "    </tr>\n",
       "    <tr>\n",
       "      <th>4583</th>\n",
       "      <td>495</td>\n",
       "      <td>Святогор</td>\n",
       "      <td>24</td>\n",
       "      <td>Омск</td>\n",
       "      <td>ultra</td>\n",
       "      <td>3070.36</td>\n",
       "      <td>18.21</td>\n",
       "      <td>2021-02-24</td>\n",
       "      <td>2</td>\n",
       "      <td>6</td>\n",
       "      <td>0</td>\n",
       "      <td>199</td>\n",
       "    </tr>\n",
       "  </tbody>\n",
       "</table>\n",
       "</div>"
      ],
      "text/plain": [
       "      user_id      name  age            city subscription_type  distance  \\\n",
       "3448      372     Арсен   26  Ростов-на-Дону             ultra   2533.93   \n",
       "1090      116     Марат   28          Москва             ultra   2500.93   \n",
       "1621      174      Инна   28       Краснодар             ultra   3794.40   \n",
       "1818      197   Евгения   31          Москва             ultra   3317.73   \n",
       "4583      495  Святогор   24            Омск             ultra   3070.36   \n",
       "\n",
       "      duration       date  month  minute_price  start_ride_price  \\\n",
       "3448     28.20 2021-01-02      1             6                 0   \n",
       "1090     10.15 2021-12-22     12             6                 0   \n",
       "1621     35.77 2021-12-23     12             6                 0   \n",
       "1818     18.29 2021-04-19      4             6                 0   \n",
       "4583     18.21 2021-02-24      2             6                 0   \n",
       "\n",
       "      subscription_fee  \n",
       "3448               199  \n",
       "1090               199  \n",
       "1621               199  \n",
       "1818               199  \n",
       "4583               199  "
      ]
     },
     "execution_count": 39,
     "metadata": {},
     "output_type": "execute_result"
    }
   ],
   "source": [
    "data_ultra = data[data['subscription_type'] == 'ultra'] # оставляем только строки со значениями ultra в столбце subscription_type\n",
    "data_ultra.sample(5) # выведем рандомные 5 строк полученного датафрейма"
   ]
  },
  {
   "cell_type": "markdown",
   "id": "437ab4a8-e92f-4771-b848-882836741c28",
   "metadata": {},
   "source": [
    "### 4.3 Визуализируем информацию о полученных датафреймах"
   ]
  },
  {
   "cell_type": "markdown",
   "id": "e1389b2d-f7ee-450a-8da4-bc262c601a5a",
   "metadata": {},
   "source": [
    "4.3.1 Расстояние, преодолеваемое пользователями без подписки: "
   ]
  },
  {
   "cell_type": "code",
   "execution_count": 40,
   "id": "b9093308-f41f-4405-8bd3-77a1d8218d1b",
   "metadata": {},
   "outputs": [
    {
     "data": {
      "text/plain": [
       "count    11568.000000\n",
       "mean      3045.495284\n",
       "std       1246.173810\n",
       "min          0.860000\n",
       "25%       2366.560000\n",
       "50%       3114.650000\n",
       "75%       3905.695000\n",
       "max       7211.010000\n",
       "Name: distance, dtype: float64"
      ]
     },
     "execution_count": 40,
     "metadata": {},
     "output_type": "execute_result"
    }
   ],
   "source": [
    "data_free['distance'].describe()"
   ]
  },
  {
   "cell_type": "code",
   "execution_count": 41,
   "id": "935a9d8b-90f4-4527-bf93-e87781bcb456",
   "metadata": {},
   "outputs": [
    {
     "data": {
      "image/png": "[encoded data removed]",
      "text/plain": [
       "<Figure size 640x480 with 1 Axes>"
      ]
     },
     "metadata": {},
     "output_type": "display_data"
    }
   ],
   "source": [
    "plt.hist(data_free['distance'], bins=200, color = '#F1C232')\n",
    "plt.title('Расстояние, преодолеваемое пользователями без подписки', size=15)\n",
    "plt.xlabel('Расстояние поездки, м', size=12)\n",
    "plt.ylabel('Количество поездок, шт', size=12)\n",
    "plt.grid()\n",
    "plt.show()"
   ]
  },
  {
   "cell_type": "markdown",
   "id": "59ba8af9-c93b-4943-8049-5f21f1b06d26",
   "metadata": {},
   "source": [
    "- В среднем, пользователи без подписки проезжают 3045 м, медианное значение равно 3114 м.\n",
    "- Основная масса пользователей без подписки проезжает от 2 до 4,7 километров. "
   ]
  },
  {
   "cell_type": "markdown",
   "id": "8d3424a1-c454-44a9-ad8c-191c0d5450ed",
   "metadata": {},
   "source": [
    "4.3.2 Время поездки пользователей без подписки:"
   ]
  },
  {
   "cell_type": "code",
   "execution_count": 42,
   "id": "5db5743c-a4de-4789-8692-93d32f76086a",
   "metadata": {},
   "outputs": [
    {
     "data": {
      "text/plain": [
       "count    11568.000000\n",
       "mean        17.592101\n",
       "std          6.174181\n",
       "min          2.040000\n",
       "25%         13.127500\n",
       "50%         17.450000\n",
       "75%         21.780000\n",
       "max         34.950000\n",
       "Name: duration, dtype: float64"
      ]
     },
     "execution_count": 42,
     "metadata": {},
     "output_type": "execute_result"
    }
   ],
   "source": [
    "data_free['duration'].describe()"
   ]
  },
  {
   "cell_type": "code",
   "execution_count": 43,
   "id": "14347e40-e48e-422e-bbeb-7230a33f6538",
   "metadata": {},
   "outputs": [
    {
     "data": {
      "image/png": "[encoded data removed]",
      "text/plain": [
       "<Figure size 640x480 with 1 Axes>"
      ]
     },
     "metadata": {},
     "output_type": "display_data"
    }
   ],
   "source": [
    "plt.hist(data_free['duration'], bins=150, color = '#F1C232')\n",
    "plt.title('Продолжительность поездок пользователей без подписки', size=15)\n",
    "plt.xlabel('Время, мин', size=12)\n",
    "plt.ylabel('Количество поездок, шт', size=12)\n",
    "plt.grid()\n",
    "plt.show()"
   ]
  },
  {
   "cell_type": "markdown",
   "id": "1a754d8d-37c8-46e3-8a93-c8bdfed588c5",
   "metadata": {},
   "source": [
    "- Среднее время поездки пользователей без подписки занимает порядка 17,5 минут.\n",
    "- Основная масса пользователей без подписки затрачивают на поездку от 8 до 27 минут."
   ]
  },
  {
   "cell_type": "markdown",
   "id": "392559bc-ac19-49ad-9cb3-38d1f685671e",
   "metadata": {},
   "source": [
    "4.3.3 Расстояние, преодолеваемое пользователями с подпиской: "
   ]
  },
  {
   "cell_type": "code",
   "execution_count": 44,
   "id": "b1cc4b5f-1a3b-470d-81e4-c43493bff056",
   "metadata": {},
   "outputs": [
    {
     "data": {
      "text/plain": [
       "count    6500.000000\n",
       "mean     3115.445431\n",
       "std       836.895369\n",
       "min       244.210000\n",
       "25%      2785.447500\n",
       "50%      3148.640000\n",
       "75%      3560.577500\n",
       "max      5699.770000\n",
       "Name: distance, dtype: float64"
      ]
     },
     "execution_count": 44,
     "metadata": {},
     "output_type": "execute_result"
    }
   ],
   "source": [
    "data_ultra['distance'].describe()"
   ]
  },
  {
   "cell_type": "code",
   "execution_count": 45,
   "id": "568f3ff3-5087-4d2e-8540-9274406137ac",
   "metadata": {},
   "outputs": [
    {
     "data": {
      "image/png": "[encoded data removed]",
      "text/plain": [
       "<Figure size 640x480 with 1 Axes>"
      ]
     },
     "metadata": {},
     "output_type": "display_data"
    }
   ],
   "source": [
    "plt.hist(data_ultra['distance'], bins=200, color = '#6AA84F')\n",
    "plt.title('Расстояние, преодолеваемое пользователями с подпиской', size=15)\n",
    "plt.xlabel('Расстояние поездки, м', size=12)\n",
    "plt.ylabel('Количество поездок, шт', size=12)\n",
    "plt.grid()\n",
    "plt.show()"
   ]
  },
  {
   "cell_type": "markdown",
   "id": "a93b7d6c-db41-4464-b8c9-bc91f04162c0",
   "metadata": {},
   "source": [
    "- В среднем, пользователи с подпиской проезжают 3115 м, медианное значение равно 3148 м.\n",
    "- Основная масса пользователей с подпиской проезжает от 2,5 до 3,5 километров. "
   ]
  },
  {
   "cell_type": "markdown",
   "id": "457ee1d6-4631-4e7d-9783-3bd13d94783d",
   "metadata": {},
   "source": [
    "4.3.4 Время поездки пользователей с подпиской:"
   ]
  },
  {
   "cell_type": "code",
   "execution_count": 46,
   "id": "d6e7dc7c-610f-4760-b27e-ec280346adda",
   "metadata": {},
   "outputs": [
    {
     "data": {
      "text/plain": [
       "count    6500.000000\n",
       "mean       18.542017\n",
       "std         5.572065\n",
       "min         3.760000\n",
       "25%        14.527500\n",
       "50%        18.180000\n",
       "75%        21.880000\n",
       "max        40.820000\n",
       "Name: duration, dtype: float64"
      ]
     },
     "execution_count": 46,
     "metadata": {},
     "output_type": "execute_result"
    }
   ],
   "source": [
    "data_ultra['duration'].describe()"
   ]
  },
  {
   "cell_type": "code",
   "execution_count": 47,
   "id": "d761b6fc-91db-4da3-b92f-9ef0ebfe565f",
   "metadata": {},
   "outputs": [
    {
     "data": {
      "image/png": "[encoded data removed]",
      "text/plain": [
       "<Figure size 640x480 with 1 Axes>"
      ]
     },
     "metadata": {},
     "output_type": "display_data"
    }
   ],
   "source": [
    "plt.hist(data_ultra['duration'], bins=150, color = '#6AA84F')\n",
    "plt.title('Продолжительность поездок пользователей с подпиской', size=15)\n",
    "plt.xlabel('Время, мин', size=12)\n",
    "plt.ylabel('Количество поездок, шт', size=12)\n",
    "plt.grid()\n",
    "plt.show()"
   ]
  },
  {
   "cell_type": "markdown",
   "id": "75858453-6285-4d80-a879-199e21f35352",
   "metadata": {},
   "source": [
    "- Среднее время поездки пользователей с подпиской занимает порядка 18,5 минут.\n",
    "- Основная масса пользователей с подпиской затрачивают на поездку от 10 до 25 минут. "
   ]
  },
  {
   "cell_type": "markdown",
   "id": "7dfa847e-8024-44f8-8862-f3e0c554a94a",
   "metadata": {},
   "source": [
    "### ВЫВОД: \n",
    "- В данном разделе мы объединили данные о пользователях, поездках и подписках в один датафрейм `data`.\n",
    "- Из общего датафрейма выделили два типа пользователей: \\\n",
    "  `data_free` - пользователи без платной подписки на сервис; \\\n",
    "  `data_ultra` - пользователи с платной подпиской на сервис.  \n",
    "\n",
    "- Визуализировали данные о расстоянии и времени поездок для каждого типа пользователей: \\\n",
    " Пользователи *без подписки* на сервис проезжают от **2** до **4,7** километров со средним временем поездки **17,5** минут. \\\n",
    " Тогда как пользователи *с платной подпиской* проезжают от **2,5** до **3,5** километров со средним временем поездки **18,5** минут. \n",
    "\n",
    "Так же можем отметить, что пользователи платной подписки почти не проезжают больше 5 километров, тогда как пользователи без подписки преодолевают до 7 километров.\\\n",
    "Подводя итог по полученным данным, можем сказать, что гистограммы нормального распределения у платных пользователей более вытянуты вверх, пользователи без подписки преодолевают большие расстояния за меньшее среднее время, соответсовенно они двигаются быстрее, чем пользователи с подпиской.  \\\n",
    "Так как плата взымается поминутно, более медленные пользователи - выгодны для сервиса. \n"
   ]
  },
  {
   "cell_type": "markdown",
   "id": "6df36161-22bb-4f1e-9ad3-dddddbfd28d9",
   "metadata": {},
   "source": [
    "## Шаг 5. Подсчет выручки"
   ]
  },
  {
   "cell_type": "markdown",
   "id": "0aff89aa-575b-4183-a410-f94f6de68a1a",
   "metadata": {},
   "source": [
    "### 5.1 Создадим датафрейм с агрегированными данными о поездках "
   ]
  },
  {
   "cell_type": "markdown",
   "id": "0f36c4da-4d8f-44b9-a862-c57646a388f6",
   "metadata": {},
   "source": [
    "Для корректного создания таблицы с аггрегированными данными, округлим данные в столбце `duration` в большую сторону. "
   ]
  },
  {
   "cell_type": "code",
   "execution_count": 72,
   "id": "34707fbb-abf9-43a8-8790-d56aaa4cb1ed",
   "metadata": {},
   "outputs": [],
   "source": [
    "# Продолжительность каждой поездки в каждой строке исходного датафрейма для подсчёта стоимости округляется до следующего целого числа\n",
    "data['duration'] = np.ceil(data['duration']) # каждое значение из столбца duration округляется с помощью «потолка»"
   ]
  },
  {
   "cell_type": "markdown",
   "id": "abc0a8ce-221a-42e1-b0ce-c4e3949d0fc5",
   "metadata": {},
   "source": [
    "Найдем суммарное расстояние, количество поездок и суммарное время для каждого пользователя за каждый месяц."
   ]
  },
  {
   "cell_type": "code",
   "execution_count": 73,
   "id": "4a6a6c97-fa42-4c14-999c-095c0af7dd75",
   "metadata": {},
   "outputs": [
    {
     "data": {
      "text/html": [
       "<div>\n",
       "<style scoped>\n",
       "    .dataframe tbody tr th:only-of-type {\n",
       "        vertical-align: middle;\n",
       "    }\n",
       "\n",
       "    .dataframe tbody tr th {\n",
       "        vertical-align: top;\n",
       "    }\n",
       "\n",
       "    .dataframe thead th {\n",
       "        text-align: right;\n",
       "    }\n",
       "</style>\n",
       "<table border=\"1\" class=\"dataframe\">\n",
       "  <thead>\n",
       "    <tr style=\"text-align: right;\">\n",
       "      <th></th>\n",
       "      <th>user_id</th>\n",
       "      <th>name</th>\n",
       "      <th>month</th>\n",
       "      <th>subscription_type</th>\n",
       "      <th>total_distance</th>\n",
       "      <th>total_drive</th>\n",
       "      <th>total_time</th>\n",
       "    </tr>\n",
       "  </thead>\n",
       "  <tbody>\n",
       "    <tr>\n",
       "      <th>0</th>\n",
       "      <td>1</td>\n",
       "      <td>Кира</td>\n",
       "      <td>1</td>\n",
       "      <td>ultra</td>\n",
       "      <td>7027.51</td>\n",
       "      <td>2</td>\n",
       "      <td>42.0</td>\n",
       "    </tr>\n",
       "    <tr>\n",
       "      <th>1</th>\n",
       "      <td>1</td>\n",
       "      <td>Кира</td>\n",
       "      <td>4</td>\n",
       "      <td>ultra</td>\n",
       "      <td>754.16</td>\n",
       "      <td>1</td>\n",
       "      <td>7.0</td>\n",
       "    </tr>\n",
       "    <tr>\n",
       "      <th>2</th>\n",
       "      <td>1</td>\n",
       "      <td>Кира</td>\n",
       "      <td>8</td>\n",
       "      <td>ultra</td>\n",
       "      <td>6723.47</td>\n",
       "      <td>2</td>\n",
       "      <td>46.0</td>\n",
       "    </tr>\n",
       "    <tr>\n",
       "      <th>3</th>\n",
       "      <td>1</td>\n",
       "      <td>Кира</td>\n",
       "      <td>10</td>\n",
       "      <td>ultra</td>\n",
       "      <td>5809.91</td>\n",
       "      <td>2</td>\n",
       "      <td>32.0</td>\n",
       "    </tr>\n",
       "    <tr>\n",
       "      <th>4</th>\n",
       "      <td>1</td>\n",
       "      <td>Кира</td>\n",
       "      <td>11</td>\n",
       "      <td>ultra</td>\n",
       "      <td>7003.50</td>\n",
       "      <td>3</td>\n",
       "      <td>56.0</td>\n",
       "    </tr>\n",
       "  </tbody>\n",
       "</table>\n",
       "</div>"
      ],
      "text/plain": [
       "   user_id  name  month subscription_type  total_distance  total_drive  \\\n",
       "0        1  Кира      1             ultra         7027.51            2   \n",
       "1        1  Кира      4             ultra          754.16            1   \n",
       "2        1  Кира      8             ultra         6723.47            2   \n",
       "3        1  Кира     10             ultra         5809.91            2   \n",
       "4        1  Кира     11             ultra         7003.50            3   \n",
       "\n",
       "   total_time  \n",
       "0        42.0  \n",
       "1         7.0  \n",
       "2        46.0  \n",
       "3        32.0  \n",
       "4        56.0  "
      ]
     },
     "execution_count": 73,
     "metadata": {},
     "output_type": "execute_result"
    }
   ],
   "source": [
    "agg_data = (\n",
    "    data\n",
    "    .groupby(['user_id', 'name', 'month', 'subscription_type'])\n",
    "    .agg(\n",
    "    total_distance = ('distance', 'sum'), # общее расстояние поездок\n",
    "    total_drive = ('distance', 'count'), # общее количество поездок\n",
    "    total_time = ('duration', 'sum') # общее время поездок отдельного пользователя\n",
    ")).reset_index()\n",
    "agg_data.head()"
   ]
  },
  {
   "cell_type": "code",
   "execution_count": 74,
   "id": "24a7ecaf-55e1-4ce8-b037-10cb55976091",
   "metadata": {},
   "outputs": [
    {
     "data": {
      "text/plain": [
       "user_id              0\n",
       "name                 0\n",
       "month                0\n",
       "subscription_type    0\n",
       "total_distance       0\n",
       "total_drive          0\n",
       "total_time           0\n",
       "dtype: int64"
      ]
     },
     "execution_count": 74,
     "metadata": {},
     "output_type": "execute_result"
    }
   ],
   "source": [
    "# проверим нашу сводную таблицу на пропуски данных в стобцах:\n",
    "agg_data.isna().sum()"
   ]
  },
  {
   "cell_type": "markdown",
   "id": "1ef6fcc7-57c0-4d04-965f-a607c98445cc",
   "metadata": {},
   "source": [
    "- Пропуски не обнаружены"
   ]
  },
  {
   "cell_type": "markdown",
   "id": "7f5710ae-6b08-4c3a-9e71-e29001abf27e",
   "metadata": {},
   "source": [
    "### 5.2 В этот же датафрейм добавим столбец с помесячной выручкой, которую принёс каждый пользователь"
   ]
  },
  {
   "cell_type": "markdown",
   "id": "dbda3d69-84d8-4447-854f-e60d000cdd94",
   "metadata": {},
   "source": [
    "- Тарифы сервиса GoFast:\n",
    "  \n",
    "`Без подписки:`\\\n",
    "Абонентская плата отсутствует;\\\n",
    "Стоимость одной минуты поездки — 8 рублей;\\\n",
    "Стоимость старта (начала поездки) — 50 рублей.\n",
    "\n",
    "`С подпиской Ultra:`\\\n",
    "Абонентская плата — 199 рублей в месяц;\\\n",
    "Стоимость одной минуты поездки — 6 рублей;\\\n",
    "Стоимость старта — бесплатно."
   ]
  },
  {
   "cell_type": "code",
   "execution_count": 75,
   "id": "0605123f-089c-4839-8f09-28dc969abb68",
   "metadata": {},
   "outputs": [],
   "source": [
    "# Продолжительность каждой поездки в каждой строке исходного датафрейма для подсчёта стоимости округляется до следующего целого числа\n",
    "#agg_data['total_time'] = np.ceil(agg_data['total_time']) # каждое значение из столбца duration округляется с помощью «потолка»"
   ]
  },
  {
   "cell_type": "markdown",
   "id": "c835dddf-6ee3-494f-b6f7-4bb3e4a32daf",
   "metadata": {},
   "source": [
    "Воспользуемся функцией для подсчета помесячной выручки: \\\n",
    "Помесячная выручка считается по формуле: (стоимость старта поездки ×  количество поездок) + (стоимость одной минуты поездки \n",
    "× общая продолжительность всех поездок в минутах) + стоимость подписки."
   ]
  },
  {
   "cell_type": "code",
   "execution_count": 76,
   "id": "15834a74-e8da-451f-b18c-7d87759cf69e",
   "metadata": {},
   "outputs": [],
   "source": [
    "def calculate_profit(row):\n",
    "    if row['subscription_type'] == 'free':\n",
    "        subs_cost = 0\n",
    "        minute_cost = 8\n",
    "        start_cost = 50       \n",
    "    elif row['subscription_type'] == 'ultra':\n",
    "        subs_cost = 199\n",
    "        minute_cost = 6\n",
    "        start_cost = 0\n",
    "    profit = (start_cost * row['total_drive']) + (minute_cost * row['total_time']) + subs_cost\n",
    "    return profit"
   ]
  },
  {
   "cell_type": "markdown",
   "id": "0e96bd72-6f27-49cb-abf7-9c8c6668de40",
   "metadata": {},
   "source": [
    "Создадим новый столбец со значениями нашей функции: "
   ]
  },
  {
   "cell_type": "code",
   "execution_count": 77,
   "id": "22e6b93a-36fe-4f88-9c32-907548216ea3",
   "metadata": {},
   "outputs": [],
   "source": [
    "agg_data['profit'] = agg_data.apply(calculate_profit, axis=1) # значение axis=1 указывает на то, что мы применяем функцию к каждой строке"
   ]
  },
  {
   "cell_type": "code",
   "execution_count": 78,
   "id": "280a4998-a0c7-4ddb-9414-c0007b827c98",
   "metadata": {},
   "outputs": [
    {
     "data": {
      "text/html": [
       "<div>\n",
       "<style scoped>\n",
       "    .dataframe tbody tr th:only-of-type {\n",
       "        vertical-align: middle;\n",
       "    }\n",
       "\n",
       "    .dataframe tbody tr th {\n",
       "        vertical-align: top;\n",
       "    }\n",
       "\n",
       "    .dataframe thead th {\n",
       "        text-align: right;\n",
       "    }\n",
       "</style>\n",
       "<table border=\"1\" class=\"dataframe\">\n",
       "  <thead>\n",
       "    <tr style=\"text-align: right;\">\n",
       "      <th></th>\n",
       "      <th>user_id</th>\n",
       "      <th>name</th>\n",
       "      <th>month</th>\n",
       "      <th>subscription_type</th>\n",
       "      <th>total_distance</th>\n",
       "      <th>total_drive</th>\n",
       "      <th>total_time</th>\n",
       "      <th>profit</th>\n",
       "    </tr>\n",
       "  </thead>\n",
       "  <tbody>\n",
       "    <tr>\n",
       "      <th>0</th>\n",
       "      <td>1</td>\n",
       "      <td>Кира</td>\n",
       "      <td>1</td>\n",
       "      <td>ultra</td>\n",
       "      <td>7027.51</td>\n",
       "      <td>2</td>\n",
       "      <td>42.0</td>\n",
       "      <td>451.0</td>\n",
       "    </tr>\n",
       "    <tr>\n",
       "      <th>1</th>\n",
       "      <td>1</td>\n",
       "      <td>Кира</td>\n",
       "      <td>4</td>\n",
       "      <td>ultra</td>\n",
       "      <td>754.16</td>\n",
       "      <td>1</td>\n",
       "      <td>7.0</td>\n",
       "      <td>241.0</td>\n",
       "    </tr>\n",
       "    <tr>\n",
       "      <th>2</th>\n",
       "      <td>1</td>\n",
       "      <td>Кира</td>\n",
       "      <td>8</td>\n",
       "      <td>ultra</td>\n",
       "      <td>6723.47</td>\n",
       "      <td>2</td>\n",
       "      <td>46.0</td>\n",
       "      <td>475.0</td>\n",
       "    </tr>\n",
       "    <tr>\n",
       "      <th>3</th>\n",
       "      <td>1</td>\n",
       "      <td>Кира</td>\n",
       "      <td>10</td>\n",
       "      <td>ultra</td>\n",
       "      <td>5809.91</td>\n",
       "      <td>2</td>\n",
       "      <td>32.0</td>\n",
       "      <td>391.0</td>\n",
       "    </tr>\n",
       "    <tr>\n",
       "      <th>4</th>\n",
       "      <td>1</td>\n",
       "      <td>Кира</td>\n",
       "      <td>11</td>\n",
       "      <td>ultra</td>\n",
       "      <td>7003.50</td>\n",
       "      <td>3</td>\n",
       "      <td>56.0</td>\n",
       "      <td>535.0</td>\n",
       "    </tr>\n",
       "  </tbody>\n",
       "</table>\n",
       "</div>"
      ],
      "text/plain": [
       "   user_id  name  month subscription_type  total_distance  total_drive  \\\n",
       "0        1  Кира      1             ultra         7027.51            2   \n",
       "1        1  Кира      4             ultra          754.16            1   \n",
       "2        1  Кира      8             ultra         6723.47            2   \n",
       "3        1  Кира     10             ultra         5809.91            2   \n",
       "4        1  Кира     11             ultra         7003.50            3   \n",
       "\n",
       "   total_time  profit  \n",
       "0        42.0   451.0  \n",
       "1         7.0   241.0  \n",
       "2        46.0   475.0  \n",
       "3        32.0   391.0  \n",
       "4        56.0   535.0  "
      ]
     },
     "execution_count": 78,
     "metadata": {},
     "output_type": "execute_result"
    }
   ],
   "source": [
    "agg_data.head()"
   ]
  },
  {
   "cell_type": "code",
   "execution_count": 79,
   "id": "f8e536a3-8960-47fa-be4a-926de002ebab",
   "metadata": {},
   "outputs": [
    {
     "name": "stdout",
     "output_type": "stream",
     "text": [
      "Общая выручка за 2021 год составила: 3896133.0 рублей\n"
     ]
    }
   ],
   "source": [
    "# посмотрим общую выручку GoFast за 2021 год: \n",
    "total_money = agg_data['profit'].sum()\n",
    "print('Общая выручка за 2021 год составила:', total_money, 'рублей')  "
   ]
  },
  {
   "cell_type": "markdown",
   "id": "9813314f-a0b3-4787-930f-706626b6bfcf",
   "metadata": {},
   "source": [
    "### Вывод: \n",
    "- На данном этапе мы создали новый датафрейм `agg_data` с агрегированными данными по суммарному расстоянию, количеству поездок и суммарному времени поездок для каждого пользователя, за каждый месяц на основе датафрейма `data` с объединенными данными.\n",
    "- Добавили столбец с помесячной выручкой, которую принес каждый пользователь.\n",
    "- Выяснили, что за год сервис GoFast показал выручку в 3,896 млн. рублей. "
   ]
  },
  {
   "cell_type": "markdown",
   "id": "b960bd6a-6497-4bc4-9184-3f9ba94d75e3",
   "metadata": {},
   "source": [
    "## Шаг 6. Проверка гипотез"
   ]
  },
  {
   "cell_type": "markdown",
   "id": "f41b88c3-3908-4414-943b-4cf9983e74cc",
   "metadata": {},
   "source": [
    "### 6.1 Разберемся, тратят ли пользователи с подпиской больше времени на поездки?"
   ]
  },
  {
   "cell_type": "markdown",
   "id": "ec1688ae-d352-4251-b853-f520f7a0e871",
   "metadata": {},
   "source": [
    "Если да, то пользователи с подпиской могут быть «выгоднее» для компании. \\\n",
    "Выдвигаем гипортезы: \n",
    "- Н0: Время поездки *пользователей с подпиской* **равно** времени поездки *пользователей без подписки*.\\\n",
    "  Н0: T(ultra) = T(free);\n",
    "- H1: Время поездки *пользователей с подпиской* **больше** времени поездки *пользователей без подписки*.\\\n",
    "  Н1: T(ultra) > T(free). \\\n",
    "  Уровень статистической значимости alpha = 0.05"
   ]
  },
  {
   "cell_type": "code",
   "execution_count": 54,
   "id": "29da7e92-e5e1-420b-964d-9273e8b76ef9",
   "metadata": {},
   "outputs": [
    {
     "name": "stdout",
     "output_type": "stream",
     "text": [
      "p-значение: 5.4016026441368745e-25\n",
      "Отвергаем нулевую гипотезу\n"
     ]
    }
   ],
   "source": [
    "# так как у нас имеются две независимые выборки - проверяем гипотезу о равенстве средних двух генеральных совокупностях \n",
    "alpha = 0.05\n",
    "results = st.ttest_ind(data_ultra['duration'], data_free['duration'], alternative = 'greater')\n",
    "# параметр greater говорит о том, что будет проверена правосторонняя альтернативная теория\n",
    "\n",
    "print('p-значение:', results.pvalue)\n",
    "\n",
    "if results.pvalue < alpha:\n",
    "    print('Отвергаем нулевую гипотезу')\n",
    "else:\n",
    "    print('Не удалось отвергнуть нулевую гипотезу')"
   ]
  },
  {
   "cell_type": "markdown",
   "id": "aff98ae2-63ef-429e-b19e-7685d03fbfbe",
   "metadata": {},
   "source": [
    "Так как нулевая гипотеза отвергнута - у нас есть основания утверждать, что пользователи с подпиской тратят больше времени на поездки, а следовательно и являются более \"выгодными\" для компании. Подтвердился наш вывод в пункте 4.3.  "
   ]
  },
  {
   "cell_type": "markdown",
   "id": "e6e59a4e-3740-4cc0-b728-416b00d6d0d4",
   "metadata": {},
   "source": [
    "### 6.2 Проверим, проезжают ли пользователи расстояние, оптимальное с точки зрения износа самоката"
   ]
  },
  {
   "cell_type": "markdown",
   "id": "0015f9ab-539e-4e6e-a22c-8b9689203403",
   "metadata": {},
   "source": [
    "Расстояние одной поездки в 3130 метров — оптимальное с точки зрения износа самоката. \\\n",
    "Выдвигаем гипортезы: \n",
    "- Н0: Расстояние поездки *пользователей с подпиской* **равно** 3130 метров.\\\n",
    "  Н0: L(ultra) = 3130;\n",
    "- H1: Расстояние поездки *пользователей с подпиской* **больше** 3130 метров.\\\n",
    "  Н1: L(ultra) > 3130. \\\n",
    "  Уровень статистической значимости alpha = 0.05"
   ]
  },
  {
   "cell_type": "code",
   "execution_count": 55,
   "id": "f2234728-f8b6-436d-9fde-3bab4123234e",
   "metadata": {},
   "outputs": [
    {
     "name": "stdout",
     "output_type": "stream",
     "text": [
      "p-значение: 0.9195362605842414\n",
      "Не удалось отвергнуть нулевую гипотезу\n"
     ]
    }
   ],
   "source": [
    "# так как у нас имееся одна независимая выборка - проверяем гипотезу о равенстве среднего генеральной совокупности числу, \n",
    "# зафиксированному в нулевой гипотезе\n",
    "value = 3130\n",
    "alpha = 0.05\n",
    "results = st.ttest_1samp(data_ultra['distance'], value, alternative = 'greater')\n",
    "# параметр greater говорит о том, что будет проверена правосторонняя альтернативная теория\n",
    "\n",
    "print('p-значение:', results.pvalue)\n",
    "\n",
    "if results.pvalue < alpha:\n",
    "    print('Отвергаем нулевую гипотезу')\n",
    "else:\n",
    "    print('Не удалось отвергнуть нулевую гипотезу')"
   ]
  },
  {
   "cell_type": "markdown",
   "id": "0b0c3aed-75af-4321-a95a-428e80e7bf48",
   "metadata": {},
   "source": [
    "Так как нулевая гипотеза не отвергнута - есть основания утверждать, что пользователи с подпиской не превышают оптимального расстояния в 3130 метров в своих поездках. Так же мы видели в пункте 4.3.3, что в среднем, пользователи с подпиской проезжают 3115 метров. "
   ]
  },
  {
   "cell_type": "markdown",
   "id": "279da46a-8cb4-486d-8e65-ed674e23952d",
   "metadata": {},
   "source": [
    "### 6.3 Проверим, будет ли помесячная выручка от пользователей с подпиской по месяцам выше, чем выручка от пользователей без подписки"
   ]
  },
  {
   "cell_type": "markdown",
   "id": "7ac8c20a-36b2-49e4-9afd-79bc243c26f4",
   "metadata": {},
   "source": [
    "Выдвигаем гипортезы: \n",
    "- Н0: Помесячная выручка *пользователей с подпиской* **равна** помесячной выручке *пользователей без подписки*.\\\n",
    "  Н0: P(ultra) = P(free);\n",
    "- H1: Помесячная выручка *пользователей с подпиской* **больше** помесячной выручки *пользователей без подписки*.\\\n",
    "  Н1: Р(ultra) > Р(free). \\\n",
    "  Уровень статистической значимости alpha = 0.05"
   ]
  },
  {
   "cell_type": "code",
   "execution_count": 56,
   "id": "95aba28e-70e4-4a79-9059-87415787b421",
   "metadata": {},
   "outputs": [
    {
     "data": {
      "text/plain": [
       "7466.155316341087"
      ]
     },
     "execution_count": 56,
     "metadata": {},
     "output_type": "execute_result"
    }
   ],
   "source": [
    "# посмотрим значения дисперсий пользователей с подпиской и без по значению помесячной выручки:\n",
    "np.var(agg_data.loc[agg_data['subscription_type'] == 'ultra', 'profit'])"
   ]
  },
  {
   "cell_type": "code",
   "execution_count": 57,
   "id": "e728fd7b-d329-462e-b8b1-5545bcf22e9b",
   "metadata": {},
   "outputs": [
    {
     "data": {
      "text/plain": [
       "32863.6802493093"
      ]
     },
     "execution_count": 57,
     "metadata": {},
     "output_type": "execute_result"
    }
   ],
   "source": [
    "np.var(agg_data.loc[agg_data['subscription_type'] == 'free', 'profit'])"
   ]
  },
  {
   "cell_type": "markdown",
   "id": "cf7dd25e-ad5a-4f05-bb60-8c897aea5b8f",
   "metadata": {},
   "source": [
    "От значений дисперсии зависит параметр `equal_var`, а сама дисперсия показывает, насколько далеко набор чисел разбросан от их среднего значения."
   ]
  },
  {
   "cell_type": "code",
   "execution_count": 58,
   "id": "9d35ed19-c694-4632-bf95-0097fbc71b12",
   "metadata": {},
   "outputs": [
    {
     "name": "stdout",
     "output_type": "stream",
     "text": [
      "p-значение: 2.862653361759019e-38\n",
      "Отвергаем нулевую гипотезу\n"
     ]
    }
   ],
   "source": [
    "# так как у нас имеются две независимые выборки - проверяем гипотезу о равенстве средних двух генеральных совокупностях \n",
    "alpha = 0.05\n",
    "results = st.ttest_ind(\n",
    "    agg_data.loc[agg_data['subscription_type'] == 'ultra', 'profit'],\n",
    "    agg_data.loc[agg_data['subscription_type'] == 'free', 'profit'], \n",
    "    equal_var = False,\n",
    "    alternative = 'greater')\n",
    "# параметр equal_var = False, так как дисперсии генеральных сопокупностей не равны\n",
    "# параметр greater говорит о том, что будет проверена правосторонняя альтернативная теория\n",
    "\n",
    "print('p-значение:', results.pvalue)\n",
    "\n",
    "if results.pvalue < alpha:\n",
    "    print('Отвергаем нулевую гипотезу')\n",
    "else:\n",
    "    print('Не удалось отвергнуть нулевую гипотезу')"
   ]
  },
  {
   "cell_type": "markdown",
   "id": "f14fe94b-1aeb-4bc9-9043-88e6ca7bb640",
   "metadata": {},
   "source": [
    "Так как нулевая гипотеза отвергнута - есть основания утверждать, что помесячная выручка *пользователей с подпиской* **больше** помесячной выручки *пользователей без подписки*. "
   ]
  },
  {
   "cell_type": "markdown",
   "id": "9d0dd3e0-33a0-465c-b969-ed3b9d7b87f0",
   "metadata": {},
   "source": [
    "### 6.4 Вопрос - ответ"
   ]
  },
  {
   "cell_type": "markdown",
   "id": "fedbe0e1-0a11-47fa-ba7b-b3e69a3a5162",
   "metadata": {},
   "source": [
    "`Представьте такую ситуацию: техническая команда сервиса обновила сервера, с которыми взаимодействует мобильное приложение. Она надеется, что из-за этого количество обращений в техподдержку значимо снизилось. Некоторый файл содержит для каждого пользователя данные о количестве обращений до обновления и после него. Какой тест вам понадобился бы для проверки этой гипотезы?`"
   ]
  },
  {
   "cell_type": "markdown",
   "id": "059b8b9d-8c15-4897-ada3-69f05b1d8368",
   "metadata": {},
   "source": [
    "- Поскольку у нас фигурируют две зависимые (парные) выборки - нам необходимо использовать метод `scipy.stats.ttest_rel` с аргументами: наборы данных - парные выборки до и после изменения. \n",
    "- Аргумент `alternative` укажем `'less'`, так как нам нужно узнать изменилось ли количество обращений в техподдержку в меньшую сторону ( проверится односторонняя альтернативная гипотеза о том, что истинное среднее генеральной совокупности до изменения меньше, чем истинное среднее генеральной совокупности после изменения)."
   ]
  },
  {
   "cell_type": "markdown",
   "id": "306d4ac5-4393-4b50-ba27-194b0db8650e",
   "metadata": {},
   "source": [
    "### Вывод: \n",
    "- Пользователи с подпиской тратят больше времени на поездки, а следовательно и являются более \"выгодными\" для компании; на это указывает ещё и тот факт, что помесячная выручка пользователей с подпиской больше помесячной выручки пользователей без подписки.\n",
    "- Так же, они не превышают оптимального расстояния в 3130 метров в своих поездках, что благоприятно сказывается на износе самокатов."
   ]
  },
  {
   "cell_type": "markdown",
   "id": "5f383ea1-657a-43a7-90ea-df8943403722",
   "metadata": {},
   "source": [
    "## Шаг 7. Распределения "
   ]
  },
  {
   "cell_type": "markdown",
   "id": "91895a0a-6f71-4a88-8f29-5bc1057d4b03",
   "metadata": {},
   "source": [
    "### 7.2 Выясним вероятность открытия уведомлений долей пользователей"
   ]
  },
  {
   "cell_type": "markdown",
   "id": "ebc6143d-e4ad-4850-9cd1-c155a3f38d53",
   "metadata": {},
   "source": [
    "Отдел маркетинга рассылает клиентам push-уведомления в мобильном приложении. Клиенты могут открыть его или не открывать. Известно, что уведомления открывают около 40 % получивших клиентов. Отдел планирует разослать 1 млн уведомлений. С помощью аппроксимации постройте примерный график распределения и оцените вероятность того, что уведомление откроют не более 399,5 тыс. пользователей."
   ]
  },
  {
   "cell_type": "code",
   "execution_count": 59,
   "id": "dcc04112-8f97-4654-b193-82051447e252",
   "metadata": {},
   "outputs": [
    {
     "name": "stdout",
     "output_type": "stream",
     "text": [
      "Вероятность открытия сообщений: 15.4 %\n"
     ]
    },
    {
     "data": {
      "image/png": "[encoded data removed]",
      "text/plain": [
       "<Figure size 640x480 with 1 Axes>"
      ]
     },
     "metadata": {},
     "output_type": "display_data"
    }
   ],
   "source": [
    "# параметры биномиального распределения\n",
    "n = 1000000\n",
    "p = 0.4\n",
    "k = 399500\n",
    "\n",
    "# зададим мат.ожидание и ст.отклонение нормального распределения равными\n",
    "# мат.ожиданию и ст.отклонению биномиального распределения\n",
    "mu = n * p\n",
    "sigma = np.sqrt(n * p * (1 - p))\n",
    "\n",
    "# задаём нормальное распределение\n",
    "distr = st.norm(mu, sigma) \n",
    "\n",
    "# считаем вероятность хвоста слева от 399,5 тысяч\n",
    "result = distr.cdf(k)\n",
    "print('Вероятность открытия сообщений:', result.round(3)*100, '%')\n",
    "\n",
    "arange = np.arange((mu - 3 * sigma),(mu + 3 * sigma))\n",
    "\n",
    "plt.plot(arange, st.norm.pdf(arange, mu, sigma))\n",
    "plt.axvline(x=k, color='red')\n",
    "plt.axvline(x=mu, color='green')\n",
    "plt.show()"
   ]
  },
  {
   "cell_type": "markdown",
   "id": "ccfaccd5-c9a6-4af8-86a0-178b18d02eae",
   "metadata": {},
   "source": [
    "Вероятность открытия 399,5 тыс. уведомлений, при рассылке 1 млн уведомлений, (с долей открытия 40 % получивших их клиентов) составляет 15,4 %. "
   ]
  },
  {
   "cell_type": "markdown",
   "id": "e791ceb0-bab4-46e0-9f8b-3152ad3f4794",
   "metadata": {},
   "source": [
    "# Общий вывод:"
   ]
  },
  {
   "cell_type": "markdown",
   "id": "fbe7405e-a5ed-491f-bb27-bd486ddc5782",
   "metadata": {},
   "source": [
    " В процессе исследования данных популярного сервиса аренды самокатов **GoFast** мы проделали следующие шаги: \n",
    "- Изучена общая информация о трех датафреймах: \n",
    "  \n",
    "Датафрейм `users_go.csv` содержит 1565 строк, пропуски отсутствуют. \\\n",
    "Датафрейм `rides_go.csv` содержит 18 068 строк, пропуски отсутствуют. \\\n",
    "Датафрейм `subscriptions_go.csv` содержит 2 строки, пропуски отсутствуют.\n",
    "\n",
    "На этапе предобработки данных:\n",
    "- Данные столбца `date` приведены к типу даты `datetime64`.\n",
    "- В таблице `data_rides` создан новый столбец `month` с номером месяца.\n",
    "- Расстояния в столбце `distance` и `duration` округлены до десятых.\n",
    "- Устранены дубликаты в таблице `data_users`.\n",
    "- В столбце `duration` таблицы `data_rides` выявлены и исправлены аномальные значения времени поездок.\n",
    "  \n",
    "На этапе исследовательского анализа данных выяснили, что:\n",
    "- Количество пользователей в нашей выборке почти равномерно распределено между восьмью городами, однако:\n",
    "- Большинство пользователей из Пятигорска - 219 чел., 14,3%.\n",
    "- Меньше всего пользователей из Москвы - 168 чел., 11%.\n",
    "- 54,4 % пользователей не используют подписку на сервис.\n",
    "- Сервис является наиболее привлекательным для людей 25 лет.\n",
    "- Основная масса поездок проходила на расстояние от 2 до 4,5 километров.\n",
    "- Среднее время поездки занимает порядка 18 минут.\n",
    "\n",
    "Далее, мы объединили данные о *пользователях*, *поездках* и *подписках* в один датафрейм `data`.\n",
    "\n",
    "Из общего датафрейма выделили два типа пользователей:\\\n",
    "`data_free` - пользователи без платной подписки на сервис;\\\n",
    "`data_ultra` - пользователи с платной подпиской на сервис.\n",
    "\n",
    "Визуализировали данные о расстоянии и времени поездок для каждого типа пользователей:\\\n",
    "Пользователи *без подписки* на сервис проезжают от **2** до **4,7** километров со средним временем поездки **17,5** минут.\\\n",
    "Тогда как пользователи *с платной подпиской* проезжают от **2,5** до **3,5** километров со средним временем поездки **18,5** минут.\n",
    "\n",
    "После чего, мы создали новый датафрейм `agg_data` с агрегированными данными по *суммарному расстоянию, количеству поездок и суммарному времени* поездок для каждого пользователя, за каждый месяц на основе датафрейма `data` с объединенными данными.\\\n",
    "Добавили столбец с помесячной выручкой, которую принес каждый пользователь.\\\n",
    "Выяснили, что за год сервис **GoFast** показал выручку в **3,896** млн. рублей.\n",
    "\n",
    "Проверили выдвинутые гипотезы и сделали вывод, что *пользователи с подпиской* тратят больше времени на поездки, а следовательно и являются *более \"выгодными\"* для компании; на это указывает ещё и тот факт, что помесячная *выручка пользователей с подпиской больше* помесячной выручки пользователей без подписки.\\\n",
    "Так же, они не превышают оптимального расстояния в 3130 метров в своих поездках, что благоприятно сказывается на износе самокатов.\\\n",
    "Пользователи без подписки преодолевают большие расстояния за меньшее среднее время, соответсовенно они двигаются быстрее, чем пользователи с подпиской.\n",
    "Так как плата взымается поминутно, более *медленные* пользователи - выгодны для сервиса.\n",
    "\n",
    "Если разослать 1 000 000 push-уведомлений в мобильном приложении (с 40% вероятностью того, что письмо будет открыто), вероятность открытия 399,5 тыс. уведомлений будет равна 15,4 %. \n",
    "\n",
    "**Заключение:**\\\n",
    "В ходе исследования мы увидели, что пользователи с платной подпиской предоставляют нашему сервису **GoFast** бОльшую выгоду, как в плане продолжительности поездок, так и в плане преодоления оптимального расстояния. А так же мы знаем, что доля пользователей без подписки (**54,4 %**) почти сопостовима с долей пользователей, которые пользуются платной подпиской (**45,6 %**).\n",
    "Значит, руководство компании должно принимать шаги, чтобы доля пользователей с платной подпиской увеличивалась - ресурс людей, которые пользуются сервисом, но не имеют подписку имеется.  \n"
   ]
  }
 ],
 "metadata": {
  "ExecuteTimeLog": [
   {
    "duration": 1375,
    "start_time": "2025-04-02T04:36:27.724Z"
   },
   {
    "duration": 66,
    "start_time": "2025-04-02T04:36:29.104Z"
   },
   {
    "duration": 12,
    "start_time": "2025-04-02T04:36:29.174Z"
   },
   {
    "duration": 20,
    "start_time": "2025-04-02T04:36:29.188Z"
   },
   {
    "duration": 23,
    "start_time": "2025-04-02T04:36:29.210Z"
   },
   {
    "duration": 8,
    "start_time": "2025-04-02T04:36:29.235Z"
   },
   {
    "duration": 12,
    "start_time": "2025-04-02T04:36:29.245Z"
   },
   {
    "duration": 8,
    "start_time": "2025-04-02T04:36:29.259Z"
   },
   {
    "duration": 10,
    "start_time": "2025-04-02T04:36:29.269Z"
   },
   {
    "duration": 25,
    "start_time": "2025-04-02T04:36:29.281Z"
   },
   {
    "duration": 16,
    "start_time": "2025-04-02T04:36:29.308Z"
   },
   {
    "duration": 6,
    "start_time": "2025-04-02T04:36:29.325Z"
   },
   {
    "duration": 7,
    "start_time": "2025-04-02T04:36:29.332Z"
   },
   {
    "duration": 6,
    "start_time": "2025-04-02T04:36:29.340Z"
   },
   {
    "duration": 6,
    "start_time": "2025-04-02T04:36:29.347Z"
   },
   {
    "duration": 17,
    "start_time": "2025-04-02T04:36:29.354Z"
   },
   {
    "duration": 12,
    "start_time": "2025-04-02T04:36:29.372Z"
   },
   {
    "duration": 16,
    "start_time": "2025-04-02T04:36:29.404Z"
   },
   {
    "duration": 16,
    "start_time": "2025-04-02T04:36:29.422Z"
   },
   {
    "duration": 5,
    "start_time": "2025-04-02T04:36:29.439Z"
   },
   {
    "duration": 6,
    "start_time": "2025-04-02T04:36:29.445Z"
   },
   {
    "duration": 26,
    "start_time": "2025-04-02T04:36:29.452Z"
   },
   {
    "duration": 32,
    "start_time": "2025-04-02T04:36:29.480Z"
   },
   {
    "duration": 5,
    "start_time": "2025-04-02T04:36:29.514Z"
   },
   {
    "duration": 60,
    "start_time": "2025-04-02T04:36:29.520Z"
   },
   {
    "duration": 192,
    "start_time": "2025-04-02T04:36:29.582Z"
   },
   {
    "duration": 26,
    "start_time": "2025-04-02T04:36:29.779Z"
   },
   {
    "duration": 127,
    "start_time": "2025-04-02T04:36:29.806Z"
   },
   {
    "duration": 9,
    "start_time": "2025-04-02T04:36:29.935Z"
   },
   {
    "duration": 219,
    "start_time": "2025-04-02T04:36:29.945Z"
   },
   {
    "duration": 9,
    "start_time": "2025-04-02T04:36:30.166Z"
   },
   {
    "duration": 513,
    "start_time": "2025-04-02T04:36:30.176Z"
   },
   {
    "duration": 13,
    "start_time": "2025-04-02T04:36:30.691Z"
   },
   {
    "duration": 462,
    "start_time": "2025-04-02T04:36:30.706Z"
   },
   {
    "duration": 35,
    "start_time": "2025-04-02T04:36:31.170Z"
   },
   {
    "duration": 16,
    "start_time": "2025-04-02T04:36:31.206Z"
   },
   {
    "duration": 34,
    "start_time": "2025-04-02T04:36:31.224Z"
   },
   {
    "duration": 19,
    "start_time": "2025-04-02T04:36:31.260Z"
   },
   {
    "duration": 24,
    "start_time": "2025-04-02T04:36:31.281Z"
   },
   {
    "duration": 400,
    "start_time": "2025-04-02T04:36:31.306Z"
   },
   {
    "duration": 9,
    "start_time": "2025-04-02T04:36:31.708Z"
   },
   {
    "duration": 335,
    "start_time": "2025-04-02T04:36:31.718Z"
   },
   {
    "duration": 9,
    "start_time": "2025-04-02T04:36:32.054Z"
   },
   {
    "duration": 396,
    "start_time": "2025-04-02T04:36:32.065Z"
   },
   {
    "duration": 9,
    "start_time": "2025-04-02T04:36:32.463Z"
   },
   {
    "duration": 459,
    "start_time": "2025-04-02T04:36:32.474Z"
   },
   {
    "duration": 41,
    "start_time": "2025-04-02T04:36:32.935Z"
   },
   {
    "duration": 4,
    "start_time": "2025-04-02T04:36:32.978Z"
   },
   {
    "duration": 20,
    "start_time": "2025-04-02T04:36:32.984Z"
   },
   {
    "duration": 153,
    "start_time": "2025-04-02T04:36:33.006Z"
   },
   {
    "duration": 12,
    "start_time": "2025-04-02T04:36:33.163Z"
   },
   {
    "duration": 8,
    "start_time": "2025-04-02T04:36:33.177Z"
   },
   {
    "duration": 19,
    "start_time": "2025-04-02T04:36:33.187Z"
   },
   {
    "duration": 28,
    "start_time": "2025-04-02T04:36:33.209Z"
   },
   {
    "duration": 9,
    "start_time": "2025-04-02T04:36:33.240Z"
   },
   {
    "duration": 14,
    "start_time": "2025-04-02T04:36:33.250Z"
   },
   {
    "duration": 11,
    "start_time": "2025-04-02T04:36:33.266Z"
   },
   {
    "duration": 330,
    "start_time": "2025-04-02T04:36:33.279Z"
   }
  ],
  "kernelspec": {
   "display_name": "Python 3 (ipykernel)",
   "language": "python",
   "name": "python3"
  },
  "language_info": {
   "codemirror_mode": {
    "name": "ipython",
    "version": 3
   },
   "file_extension": ".py",
   "mimetype": "text/x-python",
   "name": "python",
   "nbconvert_exporter": "python",
   "pygments_lexer": "ipython3",
   "version": "3.12.7"
  },
  "toc": {
   "base_numbering": 1,
   "nav_menu": {},
   "number_sections": true,
   "sideBar": true,
   "skip_h1_title": true,
   "title_cell": "Table of Contents",
   "title_sidebar": "Contents",
   "toc_cell": false,
   "toc_position": {},
   "toc_section_display": true,
   "toc_window_display": true
  }
 },
 "nbformat": 4,
 "nbformat_minor": 5
}
